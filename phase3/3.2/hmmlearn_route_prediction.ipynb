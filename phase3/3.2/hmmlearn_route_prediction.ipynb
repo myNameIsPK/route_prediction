{
  "nbformat": 4,
  "nbformat_minor": 0,
  "metadata": {
    "colab": {
      "name": "hmmlearn_route_predcition.ipynb",
      "provenance": [],
      "toc_visible": true
    },
    "kernelspec": {
      "name": "python3",
      "display_name": "Python 3"
    },
    "language_info": {
      "name": "python"
    }
  },
  "cells": [
    {
      "cell_type": "markdown",
      "metadata": {
        "id": "fCAjRTC1MpUV"
      },
      "source": [
        "#import"
      ]
    },
    {
      "cell_type": "code",
      "metadata": {
        "colab": {
          "base_uri": "https://localhost:8080/"
        },
        "id": "j7CVL4kOMqcg",
        "outputId": "834bb00d-fb0e-4f83-b82c-7c754f9e3d4c"
      },
      "source": [
        "from google.colab import drive\n",
        "drive.mount('/content/drive')"
      ],
      "execution_count": null,
      "outputs": [
        {
          "output_type": "stream",
          "name": "stdout",
          "text": [
            "Drive already mounted at /content/drive; to attempt to forcibly remount, call drive.mount(\"/content/drive\", force_remount=True).\n"
          ]
        }
      ]
    },
    {
      "cell_type": "code",
      "metadata": {
        "colab": {
          "base_uri": "https://localhost:8080/"
        },
        "id": "Dg-rboiTMxbj",
        "outputId": "3f4771a7-f791-4d8c-80ad-8be4ba82341b"
      },
      "source": [
        "!pip install plotly_express\n",
        "!pip install geopandas\n",
        "!pip install hdbscan\n",
        "!pip install hmmlearn\n",
        "!pip install pomegranate"
      ],
      "execution_count": null,
      "outputs": [
        {
          "output_type": "stream",
          "name": "stdout",
          "text": [
            "Requirement already satisfied: plotly_express in /usr/local/lib/python3.7/dist-packages (0.4.1)\n",
            "Requirement already satisfied: numpy>=1.11 in /usr/local/lib/python3.7/dist-packages (from plotly_express) (1.21.4)\n",
            "Requirement already satisfied: patsy>=0.5 in /usr/local/lib/python3.7/dist-packages (from plotly_express) (0.5.2)\n",
            "Requirement already satisfied: statsmodels>=0.9.0 in /usr/local/lib/python3.7/dist-packages (from plotly_express) (0.10.2)\n",
            "Requirement already satisfied: plotly>=4.1.0 in /usr/local/lib/python3.7/dist-packages (from plotly_express) (4.4.1)\n",
            "Requirement already satisfied: scipy>=0.18 in /usr/local/lib/python3.7/dist-packages (from plotly_express) (1.4.1)\n",
            "Requirement already satisfied: pandas>=0.20.0 in /usr/local/lib/python3.7/dist-packages (from plotly_express) (1.1.5)\n",
            "Requirement already satisfied: python-dateutil>=2.7.3 in /usr/local/lib/python3.7/dist-packages (from pandas>=0.20.0->plotly_express) (2.8.2)\n",
            "Requirement already satisfied: pytz>=2017.2 in /usr/local/lib/python3.7/dist-packages (from pandas>=0.20.0->plotly_express) (2018.9)\n",
            "Requirement already satisfied: six in /usr/local/lib/python3.7/dist-packages (from patsy>=0.5->plotly_express) (1.15.0)\n",
            "Requirement already satisfied: retrying>=1.3.3 in /usr/local/lib/python3.7/dist-packages (from plotly>=4.1.0->plotly_express) (1.3.3)\n",
            "Requirement already satisfied: geopandas in /usr/local/lib/python3.7/dist-packages (0.10.2)\n",
            "Requirement already satisfied: pyproj>=2.2.0 in /usr/local/lib/python3.7/dist-packages (from geopandas) (3.2.1)\n",
            "Requirement already satisfied: shapely>=1.6 in /usr/local/lib/python3.7/dist-packages (from geopandas) (1.8.0)\n",
            "Requirement already satisfied: pandas>=0.25.0 in /usr/local/lib/python3.7/dist-packages (from geopandas) (1.1.5)\n",
            "Requirement already satisfied: fiona>=1.8 in /usr/local/lib/python3.7/dist-packages (from geopandas) (1.8.20)\n",
            "Requirement already satisfied: attrs>=17 in /usr/local/lib/python3.7/dist-packages (from fiona>=1.8->geopandas) (21.2.0)\n",
            "Requirement already satisfied: setuptools in /usr/local/lib/python3.7/dist-packages (from fiona>=1.8->geopandas) (57.4.0)\n",
            "Requirement already satisfied: click-plugins>=1.0 in /usr/local/lib/python3.7/dist-packages (from fiona>=1.8->geopandas) (1.1.1)\n",
            "Requirement already satisfied: munch in /usr/local/lib/python3.7/dist-packages (from fiona>=1.8->geopandas) (2.5.0)\n",
            "Requirement already satisfied: six>=1.7 in /usr/local/lib/python3.7/dist-packages (from fiona>=1.8->geopandas) (1.15.0)\n",
            "Requirement already satisfied: click>=4.0 in /usr/local/lib/python3.7/dist-packages (from fiona>=1.8->geopandas) (7.1.2)\n",
            "Requirement already satisfied: certifi in /usr/local/lib/python3.7/dist-packages (from fiona>=1.8->geopandas) (2021.10.8)\n",
            "Requirement already satisfied: cligj>=0.5 in /usr/local/lib/python3.7/dist-packages (from fiona>=1.8->geopandas) (0.7.2)\n",
            "Requirement already satisfied: numpy>=1.15.4 in /usr/local/lib/python3.7/dist-packages (from pandas>=0.25.0->geopandas) (1.21.4)\n",
            "Requirement already satisfied: pytz>=2017.2 in /usr/local/lib/python3.7/dist-packages (from pandas>=0.25.0->geopandas) (2018.9)\n",
            "Requirement already satisfied: python-dateutil>=2.7.3 in /usr/local/lib/python3.7/dist-packages (from pandas>=0.25.0->geopandas) (2.8.2)\n",
            "Requirement already satisfied: hdbscan in /usr/local/lib/python3.7/dist-packages (0.8.27)\n",
            "Requirement already satisfied: numpy>=1.16 in /usr/local/lib/python3.7/dist-packages (from hdbscan) (1.21.4)\n",
            "Requirement already satisfied: joblib>=1.0 in /usr/local/lib/python3.7/dist-packages (from hdbscan) (1.1.0)\n",
            "Requirement already satisfied: cython>=0.27 in /usr/local/lib/python3.7/dist-packages (from hdbscan) (0.29.24)\n",
            "Requirement already satisfied: scipy>=1.0 in /usr/local/lib/python3.7/dist-packages (from hdbscan) (1.4.1)\n",
            "Requirement already satisfied: six in /usr/local/lib/python3.7/dist-packages (from hdbscan) (1.15.0)\n",
            "Requirement already satisfied: scikit-learn>=0.20 in /usr/local/lib/python3.7/dist-packages (from hdbscan) (1.0.1)\n",
            "Requirement already satisfied: threadpoolctl>=2.0.0 in /usr/local/lib/python3.7/dist-packages (from scikit-learn>=0.20->hdbscan) (3.0.0)\n",
            "Requirement already satisfied: hmmlearn in /usr/local/lib/python3.7/dist-packages (0.2.6)\n",
            "Requirement already satisfied: scipy>=0.19 in /usr/local/lib/python3.7/dist-packages (from hmmlearn) (1.4.1)\n",
            "Requirement already satisfied: numpy>=1.10 in /usr/local/lib/python3.7/dist-packages (from hmmlearn) (1.21.4)\n",
            "Requirement already satisfied: scikit-learn>=0.16 in /usr/local/lib/python3.7/dist-packages (from hmmlearn) (1.0.1)\n",
            "Requirement already satisfied: joblib>=0.11 in /usr/local/lib/python3.7/dist-packages (from scikit-learn>=0.16->hmmlearn) (1.1.0)\n",
            "Requirement already satisfied: threadpoolctl>=2.0.0 in /usr/local/lib/python3.7/dist-packages (from scikit-learn>=0.16->hmmlearn) (3.0.0)\n",
            "Requirement already satisfied: pomegranate in /usr/local/lib/python3.7/dist-packages (0.14.6)\n",
            "Requirement already satisfied: networkx>=2.4 in /usr/local/lib/python3.7/dist-packages (from pomegranate) (2.6.3)\n",
            "Requirement already satisfied: numpy>=1.20.0 in /usr/local/lib/python3.7/dist-packages (from pomegranate) (1.21.4)\n",
            "Requirement already satisfied: scipy>=0.17.0 in /usr/local/lib/python3.7/dist-packages (from pomegranate) (1.4.1)\n",
            "Requirement already satisfied: pyyaml in /usr/local/lib/python3.7/dist-packages (from pomegranate) (3.13)\n",
            "Requirement already satisfied: joblib>=0.9.0b4 in /usr/local/lib/python3.7/dist-packages (from pomegranate) (1.1.0)\n"
          ]
        }
      ]
    },
    {
      "cell_type": "code",
      "metadata": {
        "id": "uRHgT0UMMrhd"
      },
      "source": [
        "import pandas as pd\n",
        "import numpy as np\n",
        "import matplotlib.pyplot as plt\n",
        "from hdbscan import HDBSCAN \n",
        "import pickle\n",
        "from collections import Counter\n",
        "import plotly_express as px\n",
        "px.set_mapbox_access_token(\"pk.eyJ1Ijoic2hha2Fzb20iLCJhIjoiY2plMWg1NGFpMXZ5NjJxbjhlM2ttN3AwbiJ9.RtGYHmreKiyBfHuElgYq_w\")\n",
        "from pomegranate import *\n",
        "from hmmlearn import hmm,base\n",
        "from sklearn import preprocessing\n",
        "import math"
      ],
      "execution_count": null,
      "outputs": []
    },
    {
      "cell_type": "code",
      "metadata": {
        "colab": {
          "base_uri": "https://localhost:8080/"
        },
        "id": "IbY1ahaaKxXh",
        "outputId": "e8cbf36c-ba11-47d9-88b5-e44729e2e65c"
      },
      "source": [
        "!ls '/content/drive/My Drive/2021 Route Prediction/Project-1/Source-Code/data/trips_with_wayID'"
      ],
      "execution_count": null,
      "outputs": [
        {
          "output_type": "stream",
          "name": "stdout",
          "text": [
            "trips_with_wayId_1_10.csv  trips_with_wayId_1_27.csv  trips_with_wayId_8_15.csv\n",
            "trips_with_wayId_1_11.csv  trips_with_wayId_1_28.csv  trips_with_wayId_8_16.csv\n",
            "trips_with_wayId_1_12.csv  trips_with_wayId_1_29.csv  trips_with_wayId_8_17.csv\n",
            "trips_with_wayId_1_13.csv  trips_with_wayId_1_2.csv   trips_with_wayId_8_18.csv\n",
            "trips_with_wayId_1_14.csv  trips_with_wayId_1_30.csv  trips_with_wayId_8_19.csv\n",
            "trips_with_wayId_1_15.csv  trips_with_wayId_1_31.csv  trips_with_wayId_8_20.csv\n",
            "trips_with_wayId_1_16.csv  trips_with_wayId_1_3.csv   trips_with_wayId_8_21.csv\n",
            "trips_with_wayId_1_17.csv  trips_with_wayId_1_4.csv   trips_with_wayId_8_22.csv\n",
            "trips_with_wayId_1_18.csv  trips_with_wayId_1_5.csv   trips_with_wayId_8_23.csv\n",
            "trips_with_wayId_1_19.csv  trips_with_wayId_1_6.csv   trips_with_wayId_8_24.csv\n",
            "trips_with_wayId_1_1.csv   trips_with_wayId_1_7.csv   trips_with_wayId_8_25.csv\n",
            "trips_with_wayId_1_21.csv  trips_with_wayId_1_8.csv   trips_with_wayId_8_26.csv\n",
            "trips_with_wayId_1_22.csv  trips_with_wayId_1_9.csv   trips_with_wayId_8_27.csv\n",
            "trips_with_wayId_1_23.csv  trips_with_wayId_8_11.csv  trips_with_wayId_8_28.csv\n",
            "trips_with_wayId_1_24.csv  trips_with_wayId_8_12.csv  trips_with_wayId_8_29.csv\n",
            "trips_with_wayId_1_25.csv  trips_with_wayId_8_13.csv  trips_with_wayId_8_30.csv\n",
            "trips_with_wayId_1_26.csv  trips_with_wayId_8_14.csv  trips_with_wayId_8_31.csv\n"
          ]
        }
      ]
    },
    {
      "cell_type": "markdown",
      "metadata": {
        "id": "EA_t11scSuGQ"
      },
      "source": [
        "##get trip data"
      ]
    },
    {
      "cell_type": "code",
      "metadata": {
        "id": "k3SOv9tySwVg"
      },
      "source": [
        "road_data_path = '/content/drive/My Drive/2021 Route Prediction/Project-1/Source-Code/data/route_network/clustered'\n",
        "trips_data_path = '/content/drive/My Drive/2021 Route Prediction/Project-1/Source-Code/data/trips_with_wayID'\n",
        "way_id_on_trips_path = '/content/drive/My Drive/2021 Route Prediction/Project-1/Source-Code/data/3.2_wayid_on_trips'"
      ],
      "execution_count": null,
      "outputs": []
    },
    {
      "cell_type": "code",
      "metadata": {
        "colab": {
          "base_uri": "https://localhost:8080/",
          "height": 348
        },
        "id": "nPu0FDtfS2TX",
        "outputId": "6e737e01-0090-4464-c28e-a5da458704a1"
      },
      "source": [
        "dfs = []\n",
        "day_len = []\n",
        "day_trip_count = []\n",
        "# days = range(1,32)\n",
        "days = range(11,12)\n",
        "# months = range(1,2)\n",
        "months = range(8,9)\n",
        "\n",
        "for month in months:\n",
        "  for day in days:\n",
        "    try:\n",
        "      sp_seq_df = pd.read_csv(trips_data_path + f'/trips_with_wayId_{month}_{day}.csv', parse_dates=['time_stamp'])\n",
        "    except:\n",
        "      pass\n",
        "\n",
        "    sp_seq_df = sp_seq_df.sort_values(by=['trip_id', 'time_stamp'])\n",
        "\n",
        "    trip_count = sp_seq_df.trip_id.value_counts()\n",
        "    trip_count = trip_count[trip_count >= 12]\n",
        "    sp_seq_df = sp_seq_df[sp_seq_df.trip_id.isin(trip_count.index)]\n",
        "    sp_seq_df['month'] = month\n",
        "    sp_seq_df['day'] = day\n",
        "    day_len.append(len(sp_seq_df))\n",
        "    day_trip_count.append(len(trip_count))\n",
        "    dfs.append(sp_seq_df)\n",
        "print(day_len)\n",
        "print(day_trip_count)\n",
        "df = pd.concat(dfs, ignore_index=True)\n",
        "df\n",
        "\n",
        "# df = df[['trip_id', 'way_id', 'day', 'month','route_cluster']]\n",
        "df.head()"
      ],
      "execution_count": null,
      "outputs": [
        {
          "output_type": "stream",
          "name": "stdout",
          "text": [
            "[591084]\n",
            "[7514]\n"
          ]
        },
        {
          "output_type": "execute_result",
          "data": {
            "text/html": [
              "<div>\n",
              "<style scoped>\n",
              "    .dataframe tbody tr th:only-of-type {\n",
              "        vertical-align: middle;\n",
              "    }\n",
              "\n",
              "    .dataframe tbody tr th {\n",
              "        vertical-align: top;\n",
              "    }\n",
              "\n",
              "    .dataframe thead th {\n",
              "        text-align: right;\n",
              "    }\n",
              "</style>\n",
              "<table border=\"1\" class=\"dataframe\">\n",
              "  <thead>\n",
              "    <tr style=\"text-align: right;\">\n",
              "      <th></th>\n",
              "      <th>time_stamp</th>\n",
              "      <th>unit_id</th>\n",
              "      <th>lat</th>\n",
              "      <th>lon</th>\n",
              "      <th>speed</th>\n",
              "      <th>unit_type</th>\n",
              "      <th>trip_id</th>\n",
              "      <th>way_id</th>\n",
              "      <th>dist</th>\n",
              "      <th>month</th>\n",
              "      <th>day</th>\n",
              "    </tr>\n",
              "  </thead>\n",
              "  <tbody>\n",
              "    <tr>\n",
              "      <th>0</th>\n",
              "      <td>2019-08-11 00:04:31</td>\n",
              "      <td>060000500000000011561716116</td>\n",
              "      <td>14.16137</td>\n",
              "      <td>102.66467</td>\n",
              "      <td>0</td>\n",
              "      <td>7.0</td>\n",
              "      <td>0</td>\n",
              "      <td>461238098</td>\n",
              "      <td>0.153034</td>\n",
              "      <td>8</td>\n",
              "      <td>11</td>\n",
              "    </tr>\n",
              "    <tr>\n",
              "      <th>1</th>\n",
              "      <td>2019-08-11 00:04:36</td>\n",
              "      <td>060000500000000011561716116</td>\n",
              "      <td>14.16137</td>\n",
              "      <td>102.66467</td>\n",
              "      <td>0</td>\n",
              "      <td>7.0</td>\n",
              "      <td>0</td>\n",
              "      <td>461238098</td>\n",
              "      <td>0.153034</td>\n",
              "      <td>8</td>\n",
              "      <td>11</td>\n",
              "    </tr>\n",
              "    <tr>\n",
              "      <th>2</th>\n",
              "      <td>2019-08-11 00:04:41</td>\n",
              "      <td>060000500000000011561716116</td>\n",
              "      <td>14.16137</td>\n",
              "      <td>102.66467</td>\n",
              "      <td>0</td>\n",
              "      <td>7.0</td>\n",
              "      <td>0</td>\n",
              "      <td>461238098</td>\n",
              "      <td>0.153034</td>\n",
              "      <td>8</td>\n",
              "      <td>11</td>\n",
              "    </tr>\n",
              "    <tr>\n",
              "      <th>3</th>\n",
              "      <td>2019-08-11 00:04:46</td>\n",
              "      <td>060000500000000011561716116</td>\n",
              "      <td>14.16137</td>\n",
              "      <td>102.66467</td>\n",
              "      <td>0</td>\n",
              "      <td>7.0</td>\n",
              "      <td>0</td>\n",
              "      <td>461238098</td>\n",
              "      <td>0.153034</td>\n",
              "      <td>8</td>\n",
              "      <td>11</td>\n",
              "    </tr>\n",
              "    <tr>\n",
              "      <th>4</th>\n",
              "      <td>2019-08-11 00:04:51</td>\n",
              "      <td>060000500000000011561716116</td>\n",
              "      <td>14.16137</td>\n",
              "      <td>102.66467</td>\n",
              "      <td>0</td>\n",
              "      <td>7.0</td>\n",
              "      <td>0</td>\n",
              "      <td>461238098</td>\n",
              "      <td>0.153034</td>\n",
              "      <td>8</td>\n",
              "      <td>11</td>\n",
              "    </tr>\n",
              "  </tbody>\n",
              "</table>\n",
              "</div>"
            ],
            "text/plain": [
              "           time_stamp                      unit_id  ...  month  day\n",
              "0 2019-08-11 00:04:31  060000500000000011561716116  ...      8   11\n",
              "1 2019-08-11 00:04:36  060000500000000011561716116  ...      8   11\n",
              "2 2019-08-11 00:04:41  060000500000000011561716116  ...      8   11\n",
              "3 2019-08-11 00:04:46  060000500000000011561716116  ...      8   11\n",
              "4 2019-08-11 00:04:51  060000500000000011561716116  ...      8   11\n",
              "\n",
              "[5 rows x 11 columns]"
            ]
          },
          "metadata": {},
          "execution_count": 32
        }
      ]
    },
    {
      "cell_type": "markdown",
      "metadata": {
        "id": "RAvbNWwQT8wj"
      },
      "source": [
        "##get pickel"
      ]
    },
    {
      "cell_type": "code",
      "metadata": {
        "colab": {
          "base_uri": "https://localhost:8080/"
        },
        "id": "Vx_WgAMNT-zz",
        "outputId": "f33cc051-374d-4702-8efb-be581519bfac"
      },
      "source": [
        "from hdbscan import HDBSCAN \n",
        "import pickle\n",
        "train_path = '/content/drive/My Drive/2021 Route Prediction/Project-1/Source-Code/model/3.2'\n",
        "pkl_filename = train_path+\"/HDB_test_way_eps0.02.pkl\"\n",
        "with open(pkl_filename, 'rb') as file:\n",
        "    clustering = pickle.load(file)\n",
        "clustering.labels_"
      ],
      "execution_count": null,
      "outputs": [
        {
          "output_type": "execute_result",
          "data": {
            "text/plain": [
              "array([164, 193,  -1, ..., 707, 707, 707])"
            ]
          },
          "metadata": {},
          "execution_count": 11
        }
      ]
    },
    {
      "cell_type": "markdown",
      "metadata": {
        "id": "ir2ZQfnqUHrn"
      },
      "source": [
        "## get way"
      ]
    },
    {
      "cell_type": "code",
      "metadata": {
        "colab": {
          "base_uri": "https://localhost:8080/",
          "height": 424
        },
        "id": "om_cG1CVT_Qt",
        "outputId": "8119786c-bc12-4c7d-a3ae-ca818bec24e1"
      },
      "source": [
        "way_segment_labeled_df = pd.read_csv(way_id_on_trips_path + f'/lebeled/HDB_label_esp0.02.csv')\n",
        "way_segment_labeled_df['road_seg'] = way_segment_labeled_df['road_seg'].map(lambda x: eval(x))\n",
        "way_segment_labeled_df"
      ],
      "execution_count": null,
      "outputs": [
        {
          "output_type": "execute_result",
          "data": {
            "text/html": [
              "<div>\n",
              "<style scoped>\n",
              "    .dataframe tbody tr th:only-of-type {\n",
              "        vertical-align: middle;\n",
              "    }\n",
              "\n",
              "    .dataframe tbody tr th {\n",
              "        vertical-align: top;\n",
              "    }\n",
              "\n",
              "    .dataframe thead th {\n",
              "        text-align: right;\n",
              "    }\n",
              "</style>\n",
              "<table border=\"1\" class=\"dataframe\">\n",
              "  <thead>\n",
              "    <tr style=\"text-align: right;\">\n",
              "      <th></th>\n",
              "      <th>way_id</th>\n",
              "      <th>road_seg</th>\n",
              "      <th>mid_lat</th>\n",
              "      <th>mid_lon</th>\n",
              "      <th>count</th>\n",
              "      <th>label</th>\n",
              "    </tr>\n",
              "  </thead>\n",
              "  <tbody>\n",
              "    <tr>\n",
              "      <th>0</th>\n",
              "      <td>686967969</td>\n",
              "      <td>(35, 449)</td>\n",
              "      <td>17.478832</td>\n",
              "      <td>102.795843</td>\n",
              "      <td>12</td>\n",
              "      <td>164</td>\n",
              "    </tr>\n",
              "    <tr>\n",
              "      <th>1</th>\n",
              "      <td>686957536</td>\n",
              "      <td>(2895, 4520)</td>\n",
              "      <td>17.535332</td>\n",
              "      <td>102.761058</td>\n",
              "      <td>1</td>\n",
              "      <td>193</td>\n",
              "    </tr>\n",
              "    <tr>\n",
              "      <th>2</th>\n",
              "      <td>686912257</td>\n",
              "      <td>(4519, 4520)</td>\n",
              "      <td>17.544479</td>\n",
              "      <td>102.734002</td>\n",
              "      <td>3</td>\n",
              "      <td>-1</td>\n",
              "    </tr>\n",
              "    <tr>\n",
              "      <th>3</th>\n",
              "      <td>686911019</td>\n",
              "      <td>(4516, 4519)</td>\n",
              "      <td>17.556765</td>\n",
              "      <td>102.700705</td>\n",
              "      <td>3</td>\n",
              "      <td>149</td>\n",
              "    </tr>\n",
              "    <tr>\n",
              "      <th>4</th>\n",
              "      <td>686910206</td>\n",
              "      <td>(4516, 4517)</td>\n",
              "      <td>17.566924</td>\n",
              "      <td>102.670093</td>\n",
              "      <td>6</td>\n",
              "      <td>149</td>\n",
              "    </tr>\n",
              "    <tr>\n",
              "      <th>...</th>\n",
              "      <td>...</td>\n",
              "      <td>...</td>\n",
              "      <td>...</td>\n",
              "      <td>...</td>\n",
              "      <td>...</td>\n",
              "      <td>...</td>\n",
              "    </tr>\n",
              "    <tr>\n",
              "      <th>56106</th>\n",
              "      <td>123076908</td>\n",
              "      <td>(439, 442)</td>\n",
              "      <td>16.631444</td>\n",
              "      <td>102.800829</td>\n",
              "      <td>84</td>\n",
              "      <td>707</td>\n",
              "    </tr>\n",
              "    <tr>\n",
              "      <th>56107</th>\n",
              "      <td>123076908</td>\n",
              "      <td>(414, 439)</td>\n",
              "      <td>16.616631</td>\n",
              "      <td>102.805282</td>\n",
              "      <td>129</td>\n",
              "      <td>707</td>\n",
              "    </tr>\n",
              "    <tr>\n",
              "      <th>56108</th>\n",
              "      <td>123076908</td>\n",
              "      <td>(414, 562)</td>\n",
              "      <td>16.607361</td>\n",
              "      <td>102.812563</td>\n",
              "      <td>129</td>\n",
              "      <td>707</td>\n",
              "    </tr>\n",
              "    <tr>\n",
              "      <th>56109</th>\n",
              "      <td>91540198</td>\n",
              "      <td>(419, 420)</td>\n",
              "      <td>16.678062</td>\n",
              "      <td>102.804382</td>\n",
              "      <td>49</td>\n",
              "      <td>707</td>\n",
              "    </tr>\n",
              "    <tr>\n",
              "      <th>56110</th>\n",
              "      <td>91540198</td>\n",
              "      <td>(420, 421)</td>\n",
              "      <td>16.669271</td>\n",
              "      <td>102.803689</td>\n",
              "      <td>49</td>\n",
              "      <td>707</td>\n",
              "    </tr>\n",
              "  </tbody>\n",
              "</table>\n",
              "<p>56111 rows × 6 columns</p>\n",
              "</div>"
            ],
            "text/plain": [
              "          way_id      road_seg    mid_lat     mid_lon  count  label\n",
              "0      686967969     (35, 449)  17.478832  102.795843     12    164\n",
              "1      686957536  (2895, 4520)  17.535332  102.761058      1    193\n",
              "2      686912257  (4519, 4520)  17.544479  102.734002      3     -1\n",
              "3      686911019  (4516, 4519)  17.556765  102.700705      3    149\n",
              "4      686910206  (4516, 4517)  17.566924  102.670093      6    149\n",
              "...          ...           ...        ...         ...    ...    ...\n",
              "56106  123076908    (439, 442)  16.631444  102.800829     84    707\n",
              "56107  123076908    (414, 439)  16.616631  102.805282    129    707\n",
              "56108  123076908    (414, 562)  16.607361  102.812563    129    707\n",
              "56109   91540198    (419, 420)  16.678062  102.804382     49    707\n",
              "56110   91540198    (420, 421)  16.669271  102.803689     49    707\n",
              "\n",
              "[56111 rows x 6 columns]"
            ]
          },
          "metadata": {},
          "execution_count": 12
        }
      ]
    },
    {
      "cell_type": "markdown",
      "metadata": {
        "id": "Z4cgw1jQUU_I"
      },
      "source": [
        "# get rid"
      ]
    },
    {
      "cell_type": "code",
      "metadata": {
        "id": "N7YRFFsiUXp3",
        "colab": {
          "base_uri": "https://localhost:8080/",
          "height": 424
        },
        "outputId": "29428a35-0110-4d2a-b2af-5e8b72a7697d"
      },
      "source": [
        "map_way_label = []\n",
        "for way_id in df['way_id'].to_list():\n",
        "  label_count = way_segment_labeled_df[way_segment_labeled_df.way_id==way_id][['label', 'count']].sort_values(by='count')\n",
        "  if len(label_count) != 0:\n",
        "      map_way_label.append([way_id, label_count.iloc[0].label])\n",
        "  else:\n",
        "    map_way_label.append([way_id, -1])\n",
        "map_way_label = pd.DataFrame(map_way_label, columns=['way_id', 'label'])\n",
        "map_way_label"
      ],
      "execution_count": null,
      "outputs": [
        {
          "output_type": "execute_result",
          "data": {
            "text/html": [
              "<div>\n",
              "<style scoped>\n",
              "    .dataframe tbody tr th:only-of-type {\n",
              "        vertical-align: middle;\n",
              "    }\n",
              "\n",
              "    .dataframe tbody tr th {\n",
              "        vertical-align: top;\n",
              "    }\n",
              "\n",
              "    .dataframe thead th {\n",
              "        text-align: right;\n",
              "    }\n",
              "</style>\n",
              "<table border=\"1\" class=\"dataframe\">\n",
              "  <thead>\n",
              "    <tr style=\"text-align: right;\">\n",
              "      <th></th>\n",
              "      <th>way_id</th>\n",
              "      <th>label</th>\n",
              "    </tr>\n",
              "  </thead>\n",
              "  <tbody>\n",
              "    <tr>\n",
              "      <th>0</th>\n",
              "      <td>461238098</td>\n",
              "      <td>206</td>\n",
              "    </tr>\n",
              "    <tr>\n",
              "      <th>1</th>\n",
              "      <td>461238098</td>\n",
              "      <td>206</td>\n",
              "    </tr>\n",
              "    <tr>\n",
              "      <th>2</th>\n",
              "      <td>461238098</td>\n",
              "      <td>206</td>\n",
              "    </tr>\n",
              "    <tr>\n",
              "      <th>3</th>\n",
              "      <td>461238098</td>\n",
              "      <td>206</td>\n",
              "    </tr>\n",
              "    <tr>\n",
              "      <th>4</th>\n",
              "      <td>461238098</td>\n",
              "      <td>206</td>\n",
              "    </tr>\n",
              "    <tr>\n",
              "      <th>...</th>\n",
              "      <td>...</td>\n",
              "      <td>...</td>\n",
              "    </tr>\n",
              "    <tr>\n",
              "      <th>591079</th>\n",
              "      <td>478988251</td>\n",
              "      <td>96</td>\n",
              "    </tr>\n",
              "    <tr>\n",
              "      <th>591080</th>\n",
              "      <td>478988251</td>\n",
              "      <td>96</td>\n",
              "    </tr>\n",
              "    <tr>\n",
              "      <th>591081</th>\n",
              "      <td>478988251</td>\n",
              "      <td>96</td>\n",
              "    </tr>\n",
              "    <tr>\n",
              "      <th>591082</th>\n",
              "      <td>478988251</td>\n",
              "      <td>96</td>\n",
              "    </tr>\n",
              "    <tr>\n",
              "      <th>591083</th>\n",
              "      <td>230057698</td>\n",
              "      <td>-1</td>\n",
              "    </tr>\n",
              "  </tbody>\n",
              "</table>\n",
              "<p>591084 rows × 2 columns</p>\n",
              "</div>"
            ],
            "text/plain": [
              "           way_id  label\n",
              "0       461238098    206\n",
              "1       461238098    206\n",
              "2       461238098    206\n",
              "3       461238098    206\n",
              "4       461238098    206\n",
              "...           ...    ...\n",
              "591079  478988251     96\n",
              "591080  478988251     96\n",
              "591081  478988251     96\n",
              "591082  478988251     96\n",
              "591083  230057698     -1\n",
              "\n",
              "[591084 rows x 2 columns]"
            ]
          },
          "metadata": {},
          "execution_count": 33
        }
      ]
    },
    {
      "cell_type": "code",
      "metadata": {
        "id": "rAXWZz3styxm"
      },
      "source": [
        "# map_way_label = pd.read_csv('/content/drive/My Drive/2021 Route Prediction/Project-1/Source-Code/data/3.2_wayid_on_trips/lebeled/map_way_lable.csv')\n",
        "# map_way_label"
      ],
      "execution_count": null,
      "outputs": []
    },
    {
      "cell_type": "code",
      "metadata": {
        "colab": {
          "base_uri": "https://localhost:8080/",
          "height": 617
        },
        "id": "HjDUxLfJUYFk",
        "outputId": "19f61abb-cf75-45cf-c2ce-7508d99de0a6"
      },
      "source": [
        "df_labeled = df\n",
        "# df_labeled = df_labeled.merge(map_way_label, left_on='way_id', right_on='way_id', how='left')\n",
        "df_labeled['label'] = map_way_label['label']\n",
        "df_labeled"
      ],
      "execution_count": null,
      "outputs": [
        {
          "output_type": "execute_result",
          "data": {
            "text/html": [
              "<div>\n",
              "<style scoped>\n",
              "    .dataframe tbody tr th:only-of-type {\n",
              "        vertical-align: middle;\n",
              "    }\n",
              "\n",
              "    .dataframe tbody tr th {\n",
              "        vertical-align: top;\n",
              "    }\n",
              "\n",
              "    .dataframe thead th {\n",
              "        text-align: right;\n",
              "    }\n",
              "</style>\n",
              "<table border=\"1\" class=\"dataframe\">\n",
              "  <thead>\n",
              "    <tr style=\"text-align: right;\">\n",
              "      <th></th>\n",
              "      <th>time_stamp</th>\n",
              "      <th>unit_id</th>\n",
              "      <th>lat</th>\n",
              "      <th>lon</th>\n",
              "      <th>speed</th>\n",
              "      <th>unit_type</th>\n",
              "      <th>trip_id</th>\n",
              "      <th>way_id</th>\n",
              "      <th>dist</th>\n",
              "      <th>month</th>\n",
              "      <th>day</th>\n",
              "      <th>label</th>\n",
              "    </tr>\n",
              "  </thead>\n",
              "  <tbody>\n",
              "    <tr>\n",
              "      <th>0</th>\n",
              "      <td>2019-08-11 00:04:31</td>\n",
              "      <td>060000500000000011561716116</td>\n",
              "      <td>14.161370</td>\n",
              "      <td>102.664670</td>\n",
              "      <td>0</td>\n",
              "      <td>7.0</td>\n",
              "      <td>0</td>\n",
              "      <td>461238098</td>\n",
              "      <td>0.153034</td>\n",
              "      <td>8</td>\n",
              "      <td>11</td>\n",
              "      <td>206</td>\n",
              "    </tr>\n",
              "    <tr>\n",
              "      <th>1</th>\n",
              "      <td>2019-08-11 00:04:36</td>\n",
              "      <td>060000500000000011561716116</td>\n",
              "      <td>14.161370</td>\n",
              "      <td>102.664670</td>\n",
              "      <td>0</td>\n",
              "      <td>7.0</td>\n",
              "      <td>0</td>\n",
              "      <td>461238098</td>\n",
              "      <td>0.153034</td>\n",
              "      <td>8</td>\n",
              "      <td>11</td>\n",
              "      <td>206</td>\n",
              "    </tr>\n",
              "    <tr>\n",
              "      <th>2</th>\n",
              "      <td>2019-08-11 00:04:41</td>\n",
              "      <td>060000500000000011561716116</td>\n",
              "      <td>14.161370</td>\n",
              "      <td>102.664670</td>\n",
              "      <td>0</td>\n",
              "      <td>7.0</td>\n",
              "      <td>0</td>\n",
              "      <td>461238098</td>\n",
              "      <td>0.153034</td>\n",
              "      <td>8</td>\n",
              "      <td>11</td>\n",
              "      <td>206</td>\n",
              "    </tr>\n",
              "    <tr>\n",
              "      <th>3</th>\n",
              "      <td>2019-08-11 00:04:46</td>\n",
              "      <td>060000500000000011561716116</td>\n",
              "      <td>14.161370</td>\n",
              "      <td>102.664670</td>\n",
              "      <td>0</td>\n",
              "      <td>7.0</td>\n",
              "      <td>0</td>\n",
              "      <td>461238098</td>\n",
              "      <td>0.153034</td>\n",
              "      <td>8</td>\n",
              "      <td>11</td>\n",
              "      <td>206</td>\n",
              "    </tr>\n",
              "    <tr>\n",
              "      <th>4</th>\n",
              "      <td>2019-08-11 00:04:51</td>\n",
              "      <td>060000500000000011561716116</td>\n",
              "      <td>14.161370</td>\n",
              "      <td>102.664670</td>\n",
              "      <td>0</td>\n",
              "      <td>7.0</td>\n",
              "      <td>0</td>\n",
              "      <td>461238098</td>\n",
              "      <td>0.153034</td>\n",
              "      <td>8</td>\n",
              "      <td>11</td>\n",
              "      <td>206</td>\n",
              "    </tr>\n",
              "    <tr>\n",
              "      <th>...</th>\n",
              "      <td>...</td>\n",
              "      <td>...</td>\n",
              "      <td>...</td>\n",
              "      <td>...</td>\n",
              "      <td>...</td>\n",
              "      <td>...</td>\n",
              "      <td>...</td>\n",
              "      <td>...</td>\n",
              "      <td>...</td>\n",
              "      <td>...</td>\n",
              "      <td>...</td>\n",
              "      <td>...</td>\n",
              "    </tr>\n",
              "    <tr>\n",
              "      <th>591079</th>\n",
              "      <td>2019-08-11 09:33:38</td>\n",
              "      <td>022000200000000000020082551</td>\n",
              "      <td>16.906278</td>\n",
              "      <td>101.914598</td>\n",
              "      <td>58</td>\n",
              "      <td>7.0</td>\n",
              "      <td>7513</td>\n",
              "      <td>478988251</td>\n",
              "      <td>0.005665</td>\n",
              "      <td>8</td>\n",
              "      <td>11</td>\n",
              "      <td>96</td>\n",
              "    </tr>\n",
              "    <tr>\n",
              "      <th>591080</th>\n",
              "      <td>2019-08-11 09:36:38</td>\n",
              "      <td>022000200000000000020082551</td>\n",
              "      <td>16.927677</td>\n",
              "      <td>101.925420</td>\n",
              "      <td>63</td>\n",
              "      <td>7.0</td>\n",
              "      <td>7513</td>\n",
              "      <td>478988251</td>\n",
              "      <td>0.028583</td>\n",
              "      <td>8</td>\n",
              "      <td>11</td>\n",
              "      <td>96</td>\n",
              "    </tr>\n",
              "    <tr>\n",
              "      <th>591081</th>\n",
              "      <td>2019-08-11 09:39:38</td>\n",
              "      <td>022000200000000000020082551</td>\n",
              "      <td>16.956223</td>\n",
              "      <td>101.924398</td>\n",
              "      <td>56</td>\n",
              "      <td>7.0</td>\n",
              "      <td>7513</td>\n",
              "      <td>478988251</td>\n",
              "      <td>0.023415</td>\n",
              "      <td>8</td>\n",
              "      <td>11</td>\n",
              "      <td>96</td>\n",
              "    </tr>\n",
              "    <tr>\n",
              "      <th>591082</th>\n",
              "      <td>2019-08-11 09:42:38</td>\n",
              "      <td>022000200000000000020082551</td>\n",
              "      <td>16.977960</td>\n",
              "      <td>101.911260</td>\n",
              "      <td>62</td>\n",
              "      <td>7.0</td>\n",
              "      <td>7513</td>\n",
              "      <td>478988251</td>\n",
              "      <td>0.017872</td>\n",
              "      <td>8</td>\n",
              "      <td>11</td>\n",
              "      <td>96</td>\n",
              "    </tr>\n",
              "    <tr>\n",
              "      <th>591083</th>\n",
              "      <td>2019-08-11 09:44:38</td>\n",
              "      <td>022000200000000000020082551</td>\n",
              "      <td>16.992917</td>\n",
              "      <td>101.901060</td>\n",
              "      <td>65</td>\n",
              "      <td>7.0</td>\n",
              "      <td>7513</td>\n",
              "      <td>230057698</td>\n",
              "      <td>0.027520</td>\n",
              "      <td>8</td>\n",
              "      <td>11</td>\n",
              "      <td>-1</td>\n",
              "    </tr>\n",
              "  </tbody>\n",
              "</table>\n",
              "<p>591084 rows × 12 columns</p>\n",
              "</div>"
            ],
            "text/plain": [
              "                time_stamp                      unit_id  ...  day  label\n",
              "0      2019-08-11 00:04:31  060000500000000011561716116  ...   11    206\n",
              "1      2019-08-11 00:04:36  060000500000000011561716116  ...   11    206\n",
              "2      2019-08-11 00:04:41  060000500000000011561716116  ...   11    206\n",
              "3      2019-08-11 00:04:46  060000500000000011561716116  ...   11    206\n",
              "4      2019-08-11 00:04:51  060000500000000011561716116  ...   11    206\n",
              "...                    ...                          ...  ...  ...    ...\n",
              "591079 2019-08-11 09:33:38  022000200000000000020082551  ...   11     96\n",
              "591080 2019-08-11 09:36:38  022000200000000000020082551  ...   11     96\n",
              "591081 2019-08-11 09:39:38  022000200000000000020082551  ...   11     96\n",
              "591082 2019-08-11 09:42:38  022000200000000000020082551  ...   11     96\n",
              "591083 2019-08-11 09:44:38  022000200000000000020082551  ...   11     -1\n",
              "\n",
              "[591084 rows x 12 columns]"
            ]
          },
          "metadata": {},
          "execution_count": 34
        }
      ]
    },
    {
      "cell_type": "markdown",
      "metadata": {
        "id": "SwSO707zKUGI"
      },
      "source": [
        "#func score"
      ]
    },
    {
      "cell_type": "code",
      "metadata": {
        "id": "TiTC0dFRKW1Y"
      },
      "source": [
        "def score_hmmlearn(hmm,seq,label,encode):\n",
        "  predict = encode.inverse_transform(hmm.predict(seq))\n",
        "  tp = 0\n",
        "  for _state_name, _label in zip(predict, label):\n",
        "    if _state_name == _label:\n",
        "      tp+=1\n",
        "  total = len(label)\n",
        "  return tp/total"
      ],
      "execution_count": null,
      "outputs": []
    },
    {
      "cell_type": "code",
      "metadata": {
        "id": "AwKLRw4Mq-QH"
      },
      "source": [
        "def score(model, seq, label):\n",
        "  p = []\n",
        "  prob,path = model.viterbi(seq)\n",
        "  for s in path[1:]:\n",
        "    p.append(s[1].name)\n",
        "  tp = 0\n",
        "  for _state_name, _label in zip(p, label):\n",
        "    if _state_name == _label:\n",
        "      tp+=1\n",
        "  total = len(label)\n",
        "  return tp/total"
      ],
      "execution_count": null,
      "outputs": []
    },
    {
      "cell_type": "code",
      "metadata": {
        "id": "UANHsn7v5ed0"
      },
      "source": [
        "def for_model_fit(x_train):\n",
        "  x = []\n",
        "  length = []\n",
        "  for seq  in x_train:\n",
        "    length.append(len(seq))\n",
        "    for i in seq:\n",
        "      x.append(i)\n",
        "\n",
        "  x = np.array(x)\n",
        "  x = x.reshape(len(x),1)\n",
        "  x = x.astype(int)\n",
        "  return x,length"
      ],
      "execution_count": null,
      "outputs": []
    },
    {
      "cell_type": "markdown",
      "metadata": {
        "id": "MW1h_zdFM3Jp"
      },
      "source": [
        "#hmmlearn"
      ]
    },
    {
      "cell_type": "code",
      "metadata": {
        "colab": {
          "base_uri": "https://localhost:8080/"
        },
        "id": "ing-QRZOM5EM",
        "outputId": "3ff88027-ec21-4b05-ebfd-66ade583e906"
      },
      "source": [
        "state_names = []\n",
        "uniq_label = df_labeled.label.unique()\n",
        "for label in uniq_label:\n",
        "  state_names.append(str(label))\n",
        "state_names[:5]\n",
        "\n",
        "X = []\n",
        "labels = []\n",
        "trip_df = df_labeled\n",
        "for month in months:\n",
        "  for day in days:\n",
        "    day_df = trip_df[(df.day == day) & (trip_df.month == month)]\n",
        "    uniq_trips = day_df.trip_id.unique()\n",
        "    for trip_id in uniq_trips:\n",
        "      trip = day_df[day_df.trip_id==trip_id]\n",
        "      X.append(trip.way_id.to_numpy().astype(str))\n",
        "      # labels.append(['None-start']+[str(l) for l in trip.route_cluster.to_list()])\n",
        "      labels.append([str(l) for l in trip.label.to_list()])\n",
        "print(X[0][:5])\n",
        "print(labels[0][:5])\n",
        "print(len(X))\n",
        "print(len(labels))"
      ],
      "execution_count": null,
      "outputs": [
        {
          "output_type": "stream",
          "name": "stdout",
          "text": [
            "['461238098' '461238098' '461238098' '461238098' '461238098']\n",
            "['206', '206', '206', '206', '206']\n",
            "7514\n",
            "7514\n"
          ]
        }
      ]
    },
    {
      "cell_type": "code",
      "metadata": {
        "colab": {
          "base_uri": "https://localhost:8080/"
        },
        "id": "aZwZv3iGO_WV",
        "outputId": "482a03ae-8aae-490f-e4be-3fbc1852d15d"
      },
      "source": [
        "import random\n",
        "random.seed(42)\n",
        "\n",
        "X2 = X.copy()\n",
        "labels2 = labels.copy()\n",
        "\n",
        "temp = list(zip(X2, labels2))\n",
        "random.shuffle(temp)\n",
        "X2, labels2 = zip(*temp)\n",
        "X2 = list(X2)\n",
        "labels2 = list(labels2)\n",
        "\n",
        "print(X[0][:5])\n",
        "print(X2[0][:5])\n",
        "\n",
        "print(labels[0][:5])\n",
        "print(labels2[0][:5])"
      ],
      "execution_count": null,
      "outputs": [
        {
          "output_type": "stream",
          "name": "stdout",
          "text": [
            "['461238098' '461238098' '461238098' '461238098' '461238098']\n",
            "['91844882' '119551821' '161160546' '161160546' '629818891']\n",
            "['206', '206', '206', '206', '206']\n",
            "['270', '270', '-1', '-1', '269']\n"
          ]
        }
      ]
    },
    {
      "cell_type": "code",
      "metadata": {
        "id": "KiossoofQHaG"
      },
      "source": [
        "way_seq = df_labeled.way_id.to_list()\n",
        "not_stop_mask = [True]+[(a != b) for a, b in zip(way_seq[:-1], way_seq[1:])]\n",
        "df_labeled = df_labeled.loc[not_stop_mask]\n",
        "\n",
        "way_df = df_labeled[['way_id', 'lat', 'lon']]\n",
        "way_df = way_df.drop_duplicates(subset='way_id')\n",
        "\n",
        "sp_list = set(map(str, way_df['way_id'].tolist()))"
      ],
      "execution_count": null,
      "outputs": []
    },
    {
      "cell_type": "code",
      "metadata": {
        "id": "6YHA3c0VO_zW"
      },
      "source": [
        "# total = len(X2)\n",
        "# fold = int(total/10)\n",
        "# start = 0\n",
        "# starts = [] # [0, 952, 1904, 2856, 3808, 4760, 5712, 6664, 7616, 8568]\n",
        "# for i in range(10):\n",
        "#   starts.append(start)\n",
        "#   start+=fold"
      ],
      "execution_count": null,
      "outputs": []
    },
    {
      "cell_type": "markdown",
      "metadata": {
        "id": "7v67twsErkO3"
      },
      "source": [
        "##for pomegranate"
      ]
    },
    {
      "cell_type": "code",
      "metadata": {
        "colab": {
          "base_uri": "https://localhost:8080/"
        },
        "id": "72u65zyNaym0",
        "outputId": "72fe82cf-69c7-4112-826c-f666fb1538fc"
      },
      "source": [
        "accuracy_train = []\n",
        "accuracy_test = []\n",
        "X_train = X2\n",
        "labels_train = labels2\n",
        "uniq_sp = set()\n",
        "for seq in X_train:\n",
        "  for sp in seq:\n",
        "    uniq_sp.add(sp)\n",
        "uniq_label = set()\n",
        "\n",
        "for label in labels_train:\n",
        "  for uniq in list(set(label)):\n",
        "    uniq_label.add(uniq)\n",
        "\n",
        "unseen_sp = sp_list - uniq_sp\n",
        "print(len(unseen_sp))\n",
        "X_train.append(np.array(list(unseen_sp)))\n",
        "labels_train.append(['-1'] * len(unseen_sp))\n",
        "\n",
        "model = HiddenMarkovModel.from_samples(\n",
        "    DiscreteDistribution, \n",
        "    n_components=len(uniq_label), \n",
        "    X=X_train, \n",
        "    labels=labels_train,\n",
        "    algorithm='labeled',\n",
        "    state_names=list(uniq_label), \n",
        "    inertia=0.001,\n",
        "    max_iterations=10,\n",
        "    n_jobs=-1\n",
        ")\n"
      ],
      "execution_count": null,
      "outputs": [
        {
          "output_type": "stream",
          "name": "stdout",
          "text": [
            "0\n"
          ]
        }
      ]
    },
    {
      "cell_type": "code",
      "metadata": {
        "id": "j_D3r-ZxmF5b"
      },
      "source": [
        "save_model = model.to_json()"
      ],
      "execution_count": null,
      "outputs": []
    },
    {
      "cell_type": "code",
      "metadata": {
        "id": "8LEkF-iooy4A"
      },
      "source": [
        "import json\n",
        "with open('/content/drive/My Drive/2021 Route Prediction/Project-1/Source-Code/data/3.2_wayid_on_trips/model_1_1.json','w') as f:\n",
        "  json.dump(save_model,f)"
      ],
      "execution_count": null,
      "outputs": []
    },
    {
      "cell_type": "code",
      "metadata": {
        "id": "8r6mdtxP1HDL"
      },
      "source": [
        "X_test = X2\n",
        "labels_test = labels2"
      ],
      "execution_count": null,
      "outputs": []
    },
    {
      "cell_type": "code",
      "metadata": {
        "colab": {
          "base_uri": "https://localhost:8080/"
        },
        "id": "kPe5ax-xzxK-",
        "outputId": "a98f7859-e42d-4ca8-8c39-ca77eb325a3c"
      },
      "source": [
        "accuracy_train = []\n",
        "accuracy_test = []\n",
        "fail_count = 0\n",
        "accuracy_train_percent = []\n",
        "for percent in [0.25, 0.5, 0.75, 0.9]:\n",
        "  accu = 0\n",
        "  for seq, label in zip(X_train, labels_train):\n",
        "    sc = score(model, np.array(seq[:int(len(seq)*percent)]), label[1:])\n",
        "    if sc > 0:\n",
        "      accu += sc\n",
        "      # accu += 1\n",
        "  train_score = accu/len(X_train)\n",
        "  accuracy_train_percent.append(train_score)\n",
        "accuracy_train.append(accuracy_train_percent)\n",
        "\n",
        "accuracy_test_percent = []\n",
        "for percent in [0.25, 0.5, 0.75, 0.9]:\n",
        "  accu = 0\n",
        "  for seq, label in zip(X_test, labels_test):\n",
        "    try:\n",
        "      sc = score(model, np.array(seq[:int(len(seq)*percent)]), label[1:])\n",
        "    except:\n",
        "      print(\"Fail!!\", end=\"\\t\")\n",
        "      fail_count = fail_count + 1\n",
        "      continue\n",
        "    \n",
        "    if sc > 0:\n",
        "      accu += sc\n",
        "      # accu += 1\n",
        "  test_score = accu/len(X_test)\n",
        "  accuracy_test_percent.append(test_score)\n",
        "accuracy_test.append(accuracy_test_percent)\n",
        "\n",
        "\n",
        "print(f'Train score')\n",
        "print(f'\\t25% trip traverse : {accuracy_train_percent[0]}')\n",
        "print(f'\\t50% trip traverse : {accuracy_train_percent[1]}')\n",
        "print(f'\\t75% trip traverse : {accuracy_train_percent[2]}')\n",
        "print(f'\\t90% trip traverse : {accuracy_train_percent[3]}')\n",
        "print(f'Test score')\n",
        "print(f'\\t25% trip traverse : {accuracy_test_percent[0]}')\n",
        "print(f'\\t50% trip traverse : {accuracy_test_percent[1]}')\n",
        "print(f'\\t75% trip traverse : {accuracy_test_percent[2]}')\n",
        "print(f'\\t90% trip traverse : {accuracy_test_percent[3]}')\n",
        "print('fail seq = ',fail_count)"
      ],
      "execution_count": null,
      "outputs": [
        {
          "output_type": "stream",
          "name": "stdout",
          "text": [
            "Fail!!\tFail!!\tFail!!\tFail!!\tFail!!\tFail!!\tFail!!\tFail!!\tFail!!\tFail!!\tFail!!\tFail!!\tFail!!\tFail!!\tFail!!\tFail!!\tFail!!\tFail!!\tFail!!\tFail!!\tFail!!\tFail!!\tFail!!\tFail!!\tFail!!\tFail!!\tFail!!\tFail!!\tFail!!\tFail!!\tFail!!\tFail!!\tFail!!\tFail!!\tFail!!\tFail!!\tFail!!\tFail!!\tFail!!\tFail!!\tFail!!\tFail!!\tFail!!\tFail!!\tFail!!\tFail!!\tFail!!\tFail!!\tFail!!\tFail!!\tFail!!\tFail!!\tFail!!\tFail!!\tFail!!\tFail!!\tFail!!\tFail!!\tFail!!\tFail!!\tFail!!\tFail!!\tFail!!\tFail!!\tFail!!\tFail!!\tFail!!\tFail!!\tFail!!\tFail!!\tFail!!\tFail!!\tFail!!\tFail!!\tFail!!\tFail!!\tFail!!\tFail!!\tFail!!\tFail!!\tFail!!\tFail!!\tFail!!\tFail!!\tFail!!\tFail!!\tFail!!\tFail!!\tFail!!\tFail!!\tFail!!\tFail!!\tFail!!\tFail!!\tFail!!\tFail!!\tFail!!\tFail!!\tFail!!\tFail!!\tFail!!\tFail!!\tFail!!\tFail!!\tFail!!\tFail!!\tFail!!\tFail!!\tFail!!\tFail!!\tFail!!\tFail!!\tFail!!\tFail!!\tFail!!\tFail!!\tFail!!\tFail!!\tFail!!\tFail!!\tFail!!\tFail!!\tFail!!\tFail!!\tFail!!\tFail!!\tFail!!\tFail!!\tFail!!\tFail!!\tFail!!\tFail!!\tFail!!\tFail!!\tFail!!\tFail!!\tFail!!\tFail!!\tFail!!\tFail!!\tFail!!\tFail!!\tFail!!\tFail!!\tFail!!\tFail!!\tFail!!\tFail!!\tFail!!\tFail!!\tFail!!\tFail!!\tFail!!\tFail!!\tFail!!\tFail!!\tFail!!\tFail!!\tFail!!\tFail!!\tFail!!\tFail!!\tFail!!\tFail!!\tFail!!\tFail!!\tFail!!\tFail!!\tFail!!\tFail!!\tFail!!\tFail!!\tFail!!\tFail!!\tFail!!\tFail!!\tFail!!\tFail!!\tFail!!\tFail!!\tFail!!\tFail!!\tFail!!\tFail!!\tFail!!\tFail!!\tFail!!\tFail!!\tFail!!\tFail!!\tFail!!\tFail!!\tFail!!\tFail!!\tFail!!\tFail!!\tFail!!\tFail!!\tFail!!\tFail!!\tFail!!\tFail!!\tFail!!\tFail!!\tFail!!\tFail!!\tFail!!\tFail!!\tFail!!\tFail!!\tFail!!\tFail!!\tFail!!\tFail!!\tFail!!\tFail!!\tFail!!\tFail!!\tFail!!\tFail!!\tFail!!\tFail!!\tFail!!\tFail!!\tFail!!\tFail!!\tFail!!\tFail!!\tFail!!\tFail!!\tFail!!\tFail!!\tFail!!\tFail!!\tFail!!\tFail!!\tFail!!\tFail!!\tFail!!\tFail!!\tFail!!\tFail!!\tFail!!\tFail!!\tFail!!\tFail!!\tFail!!\tFail!!\tFail!!\tFail!!\tFail!!\tFail!!\tFail!!\tFail!!\tFail!!\tFail!!\tFail!!\tFail!!\tFail!!\tFail!!\tFail!!\tFail!!\tFail!!\tFail!!\tFail!!\tFail!!\tFail!!\tFail!!\tFail!!\tFail!!\tFail!!\tFail!!\tFail!!\tFail!!\tFail!!\tFail!!\tFail!!\tFail!!\tFail!!\tFail!!\tFail!!\tFail!!\tFail!!\tFail!!\tFail!!\tFail!!\tFail!!\tFail!!\tFail!!\tFail!!\tFail!!\tFail!!\tFail!!\tFail!!\tFail!!\tFail!!\tFail!!\tFail!!\tFail!!\tFail!!\tFail!!\tFail!!\tFail!!\tFail!!\tFail!!\tFail!!\tFail!!\tFail!!\tFail!!\tFail!!\tFail!!\tFail!!\tFail!!\tFail!!\tFail!!\tFail!!\tFail!!\tFail!!\tFail!!\tFail!!\tFail!!\tFail!!\tFail!!\tFail!!\tFail!!\tFail!!\tFail!!\tFail!!\tFail!!\tFail!!\tFail!!\tFail!!\tFail!!\tFail!!\tFail!!\tFail!!\tFail!!\tFail!!\tFail!!\tFail!!\tFail!!\tFail!!\tFail!!\tFail!!\tFail!!\tFail!!\tFail!!\tFail!!\tFail!!\tFail!!\tFail!!\tFail!!\tFail!!\tFail!!\tFail!!\tFail!!\tFail!!\tFail!!\tFail!!\tFail!!\tFail!!\tFail!!\tFail!!\tFail!!\tFail!!\tFail!!\tFail!!\tFail!!\tFail!!\tFail!!\tFail!!\tFail!!\tFail!!\tFail!!\tFail!!\tFail!!\tFail!!\tFail!!\tFail!!\tFail!!\tFail!!\tFail!!\tFail!!\tFail!!\tFail!!\tFail!!\tFail!!\tFail!!\tFail!!\tFail!!\tFail!!\tFail!!\tFail!!\tFail!!\tFail!!\tFail!!\tFail!!\tFail!!\tFail!!\tFail!!\tFail!!\tFail!!\tFail!!\tFail!!\tFail!!\tFail!!\tFail!!\tFail!!\tFail!!\tFail!!\tFail!!\tFail!!\tFail!!\tFail!!\tFail!!\tFail!!\tFail!!\tFail!!\tFail!!\tFail!!\tFail!!\tFail!!\tFail!!\tFail!!\tFail!!\tFail!!\tFail!!\tFail!!\tFail!!\tFail!!\tFail!!\tFail!!\tFail!!\tFail!!\tFail!!\tFail!!\tFail!!\tFail!!\tFail!!\tFail!!\tFail!!\tFail!!\tFail!!\tFail!!\tFail!!\tFail!!\tFail!!\tFail!!\tFail!!\tFail!!\tFail!!\tFail!!\tFail!!\tFail!!\tFail!!\tFail!!\tFail!!\tFail!!\tFail!!\tFail!!\tFail!!\tFail!!\tFail!!\tFail!!\tFail!!\tFail!!\tFail!!\tFail!!\tFail!!\tFail!!\tFail!!\tFail!!\tFail!!\tFail!!\tFail!!\tFail!!\tFail!!\tFail!!\tFail!!\tFail!!\tFail!!\tFail!!\tFail!!\tFail!!\tFail!!\tFail!!\tFail!!\tFail!!\tFail!!\tFail!!\tFail!!\tFail!!\tFail!!\tFail!!\tFail!!\tFail!!\tFail!!\tFail!!\tFail!!\tFail!!\tFail!!\tFail!!\tFail!!\tFail!!\tFail!!\tFail!!\tFail!!\tFail!!\tFail!!\tFail!!\tFail!!\tFail!!\tFail!!\tFail!!\tFail!!\tFail!!\tFail!!\tFail!!\tFail!!\tFail!!\tFail!!\tFail!!\tFail!!\tFail!!\tFail!!\tFail!!\tFail!!\tFail!!\tFail!!\tFail!!\tFail!!\tFail!!\tFail!!\tFail!!\tFail!!\tFail!!\tFail!!\tFail!!\tFail!!\tFail!!\tFail!!\tFail!!\tFail!!\tFail!!\tFail!!\tFail!!\tFail!!\tFail!!\tFail!!\tFail!!\tFail!!\tFail!!\tFail!!\tFail!!\tFail!!\tFail!!\tFail!!\tFail!!\tFail!!\tFail!!\tFail!!\tFail!!\tFail!!\tFail!!\tFail!!\tFail!!\tFail!!\tFail!!\tFail!!\tFail!!\tFail!!\tFail!!\tFail!!\tFail!!\tFail!!\tFail!!\tFail!!\tFail!!\tFail!!\tFail!!\tFail!!\tFail!!\tFail!!\tFail!!\tFail!!\tFail!!\tFail!!\tFail!!\tFail!!\tFail!!\tFail!!\tFail!!\tFail!!\tFail!!\tFail!!\tFail!!\tFail!!\tFail!!\tFail!!\tFail!!\tFail!!\tFail!!\tFail!!\tFail!!\tFail!!\tFail!!\tFail!!\tFail!!\tFail!!\tFail!!\tFail!!\tFail!!\tFail!!\tFail!!\tFail!!\tFail!!\tFail!!\tFail!!\tFail!!\tFail!!\tFail!!\tFail!!\tFail!!\tFail!!\tFail!!\tFail!!\tFail!!\tFail!!\tFail!!\tFail!!\tFail!!\tFail!!\tFail!!\tFail!!\tFail!!\tFail!!\tFail!!\tFail!!\tFail!!\tFail!!\tFail!!\tFail!!\tFail!!\tFail!!\tFail!!\tFail!!\tFail!!\tFail!!\tFail!!\tFail!!\tFail!!\tFail!!\tFail!!\tFail!!\tFail!!\tFail!!\tFail!!\tFail!!\tFail!!\tFail!!\tFail!!\tFail!!\tFail!!\tFail!!\tFail!!\tFail!!\tFail!!\tFail!!\tFail!!\tFail!!\tFail!!\tFail!!\tFail!!\tFail!!\tFail!!\tFail!!\tFail!!\tFail!!\tFail!!\tFail!!\tFail!!\tFail!!\tFail!!\tFail!!\tFail!!\tFail!!\tFail!!\tFail!!\tFail!!\tFail!!\tFail!!\tFail!!\tFail!!\tFail!!\tFail!!\tFail!!\tFail!!\tFail!!\tFail!!\tFail!!\tFail!!\tFail!!\tFail!!\tFail!!\tFail!!\tFail!!\tFail!!\tFail!!\tFail!!\tFail!!\tFail!!\tFail!!\tFail!!\tFail!!\tFail!!\tFail!!\tFail!!\tFail!!\tFail!!\tFail!!\tFail!!\tFail!!\tFail!!\tFail!!\tFail!!\tFail!!\tFail!!\tFail!!\tFail!!\tFail!!\tFail!!\tFail!!\tFail!!\tFail!!\tFail!!\tFail!!\tFail!!\tFail!!\tFail!!\tFail!!\tFail!!\tFail!!\tFail!!\tFail!!\tFail!!\tFail!!\tFail!!\tFail!!\tFail!!\tFail!!\tFail!!\tFail!!\tFail!!\tFail!!\tFail!!\tFail!!\tFail!!\tFail!!\tFail!!\tFail!!\tFail!!\tFail!!\tFail!!\tFail!!\tFail!!\tFail!!\tFail!!\tFail!!\tFail!!\tFail!!\tFail!!\tFail!!\tFail!!\tFail!!\tFail!!\tFail!!\tFail!!\tFail!!\tFail!!\tFail!!\tFail!!\tFail!!\tFail!!\tFail!!\tFail!!\tFail!!\tFail!!\tFail!!\tFail!!\tFail!!\tFail!!\tFail!!\tFail!!\tFail!!\tFail!!\tFail!!\tFail!!\tFail!!\tFail!!\tFail!!\tFail!!\tFail!!\tFail!!\tFail!!\tFail!!\tFail!!\tFail!!\tFail!!\tFail!!\tFail!!\tFail!!\tFail!!\tFail!!\tFail!!\tFail!!\tFail!!\tFail!!\tFail!!\tFail!!\tFail!!\tFail!!\tFail!!\tFail!!\tFail!!\tFail!!\tFail!!\tFail!!\tFail!!\tFail!!\tFail!!\tFail!!\tFail!!\tFail!!\tFail!!\tFail!!\tFail!!\tFail!!\tFail!!\tFail!!\tFail!!\tFail!!\tFail!!\tFail!!\tFail!!\tFail!!\tFail!!\tFail!!\tFail!!\tFail!!\tFail!!\tFail!!\tFail!!\tFail!!\tFail!!\tFail!!\tFail!!\tFail!!\tFail!!\tFail!!\tFail!!\tFail!!\tFail!!\tFail!!\tFail!!\tFail!!\tFail!!\tFail!!\tFail!!\tFail!!\tFail!!\tFail!!\tFail!!\tFail!!\tFail!!\tFail!!\tFail!!\tFail!!\tFail!!\tFail!!\tFail!!\tFail!!\tFail!!\tFail!!\tFail!!\tFail!!\tFail!!\tFail!!\tFail!!\tFail!!\tFail!!\tFail!!\tFail!!\tFail!!\tFail!!\tFail!!\tFail!!\tFail!!\tFail!!\tFail!!\tFail!!\tFail!!\tFail!!\tFail!!\tFail!!\tFail!!\tFail!!\tFail!!\tFail!!\tFail!!\tFail!!\tFail!!\tFail!!\tFail!!\tFail!!\tFail!!\tFail!!\tFail!!\tFail!!\tFail!!\tFail!!\tFail!!\tFail!!\tFail!!\tFail!!\tFail!!\tFail!!\tFail!!\tFail!!\tFail!!\tFail!!\tFail!!\tFail!!\tFail!!\tFail!!\tFail!!\tFail!!\tFail!!\tFail!!\tFail!!\tFail!!\tFail!!\tFail!!\tFail!!\tFail!!\tFail!!\tFail!!\tFail!!\tFail!!\tFail!!\tFail!!\tFail!!\tFail!!\tFail!!\tFail!!\tFail!!\tFail!!\tFail!!\tFail!!\tFail!!\tFail!!\tFail!!\tFail!!\tFail!!\tFail!!\tFail!!\tFail!!\tFail!!\tFail!!\tFail!!\tFail!!\tFail!!\tFail!!\tFail!!\tFail!!\tFail!!\tFail!!\tFail!!\tFail!!\tFail!!\tFail!!\tFail!!\tFail!!\tFail!!\tFail!!\tFail!!\tFail!!\tFail!!\tFail!!\tFail!!\tFail!!\tFail!!\tFail!!\tFail!!\tFail!!\tFail!!\tFail!!\tFail!!\tFail!!\tFail!!\tFail!!\tFail!!\tFail!!\tFail!!\tFail!!\tFail!!\tFail!!\tFail!!\tFail!!\tFail!!\tFail!!\tFail!!\tFail!!\tFail!!\tFail!!\tFail!!\tFail!!\tFail!!\tFail!!\tFail!!\tFail!!\tFail!!\tFail!!\tFail!!\tFail!!\tFail!!\tFail!!\tFail!!\tFail!!\tFail!!\tFail!!\tFail!!\tFail!!\tFail!!\tFail!!\tFail!!\tFail!!\tFail!!\tFail!!\tFail!!\tFail!!\tFail!!\tFail!!\tFail!!\tFail!!\tFail!!\tFail!!\tFail!!\tFail!!\tFail!!\tFail!!\tFail!!\tFail!!\tFail!!\tFail!!\tFail!!\tFail!!\tFail!!\tFail!!\tFail!!\tFail!!\tFail!!\tFail!!\tFail!!\tFail!!\tFail!!\tFail!!\tFail!!\tFail!!\tFail!!\tFail!!\tFail!!\tFail!!\tFail!!\tFail!!\tFail!!\tFail!!\tFail!!\tFail!!\tFail!!\tFail!!\tFail!!\tFail!!\tFail!!\tFail!!\tFail!!\tFail!!\tFail!!\tFail!!\tFail!!\tFail!!\tFail!!\tFail!!\tFail!!\tFail!!\tFail!!\tFail!!\tFail!!\tFail!!\tFail!!\tFail!!\tFail!!\tFail!!\tFail!!\tFail!!\tFail!!\tFail!!\tFail!!\tFail!!\tFail!!\tFail!!\tFail!!\tFail!!\tFail!!\tFail!!\tFail!!\tFail!!\tFail!!\tFail!!\tFail!!\tFail!!\tFail!!\tFail!!\tFail!!\tFail!!\tFail!!\tFail!!\tFail!!\tFail!!\tFail!!\tFail!!\tFail!!\tFail!!\tFail!!\tFail!!\tFail!!\tFail!!\tFail!!\tFail!!\tFail!!\tFail!!\tFail!!\tFail!!\tFail!!\tFail!!\tFail!!\tFail!!\tFail!!\tFail!!\tFail!!\tFail!!\tFail!!\tFail!!\tFail!!\tFail!!\tFail!!\tFail!!\tFail!!\tFail!!\tFail!!\tFail!!\tFail!!\tFail!!\tFail!!\tFail!!\tFail!!\tFail!!\tFail!!\tFail!!\tFail!!\tFail!!\tFail!!\tFail!!\tFail!!\tFail!!\tFail!!\tFail!!\tFail!!\tFail!!\tFail!!\tFail!!\tFail!!\tFail!!\tFail!!\tFail!!\tFail!!\tFail!!\tFail!!\tFail!!\tFail!!\tFail!!\tFail!!\tFail!!\tFail!!\tFail!!\tFail!!\tFail!!\tFail!!\tFail!!\tFail!!\tFail!!\tFail!!\tFail!!\tFail!!\tFail!!\tFail!!\tFail!!\tFail!!\tFail!!\tFail!!\tFail!!\tFail!!\tFail!!\tFail!!\tFail!!\tFail!!\tFail!!\tFail!!\tFail!!\tFail!!\tFail!!\tFail!!\tFail!!\tFail!!\tFail!!\tFail!!\tFail!!\tFail!!\tFail!!\tFail!!\tFail!!\tFail!!\tFail!!\tFail!!\tFail!!\tFail!!\tFail!!\tFail!!\tFail!!\tFail!!\tFail!!\tFail!!\tFail!!\tFail!!\tFail!!\tFail!!\tFail!!\tFail!!\tFail!!\tFail!!\tFail!!\tFail!!\tFail!!\tFail!!\tFail!!\tFail!!\tFail!!\tFail!!\tFail!!\tFail!!\tFail!!\tFail!!\tFail!!\tFail!!\tFail!!\tFail!!\tFail!!\tFail!!\tFail!!\tFail!!\tFail!!\tFail!!\tFail!!\tFail!!\tFail!!\tFail!!\tFail!!\tFail!!\tFail!!\tFail!!\tFail!!\tFail!!\tFail!!\tFail!!\tFail!!\tFail!!\tFail!!\tFail!!\tFail!!\tFail!!\tFail!!\tFail!!\tFail!!\tFail!!\tFail!!\tFail!!\tFail!!\tFail!!\tFail!!\tFail!!\tFail!!\tFail!!\tFail!!\tFail!!\tFail!!\tFail!!\tFail!!\tFail!!\tFail!!\tFail!!\tFail!!\tFail!!\tFail!!\tFail!!\tFail!!\tFail!!\tFail!!\tFail!!\tFail!!\tFail!!\tFail!!\tFail!!\tFail!!\tFail!!\tFail!!\tFail!!\tFail!!\tFail!!\tFail!!\tFail!!\tFail!!\tFail!!\tFail!!\tFail!!\tFail!!\tFail!!\tFail!!\tFail!!\tFail!!\tFail!!\tFail!!\tFail!!\tFail!!\tFail!!\tFail!!\tFail!!\tFail!!\tFail!!\tFail!!\tFail!!\tFail!!\tFail!!\tFail!!\tFail!!\tFail!!\tFail!!\tFail!!\tFail!!\tFail!!\tFail!!\tFail!!\tFail!!\tFail!!\tFail!!\tFail!!\tFail!!\tFail!!\tFail!!\tFail!!\tFail!!\tFail!!\tFail!!\tFail!!\tFail!!\tFail!!\tFail!!\tFail!!\tFail!!\tFail!!\tFail!!\tFail!!\tFail!!\tFail!!\tFail!!\tFail!!\tFail!!\tFail!!\tFail!!\tFail!!\tFail!!\tFail!!\tFail!!\tFail!!\tFail!!\tFail!!\tFail!!\tFail!!\tFail!!\tFail!!\tFail!!\tFail!!\tFail!!\tFail!!\tFail!!\tFail!!\tFail!!\tFail!!\tFail!!\tFail!!\tFail!!\tFail!!\tFail!!\tFail!!\tFail!!\tFail!!\tFail!!\tFail!!\tFail!!\tFail!!\tFail!!\tFail!!\tFail!!\tFail!!\tFail!!\tFail!!\tFail!!\tFail!!\tFail!!\tFail!!\tFail!!\tFail!!\tFail!!\tFail!!\tFail!!\tFail!!\tFail!!\tFail!!\tFail!!\tFail!!\tFail!!\tFail!!\tFail!!\tFail!!\tFail!!\tFail!!\tFail!!\tFail!!\tFail!!\tFail!!\tFail!!\tFail!!\tFail!!\tFail!!\tFail!!\tFail!!\tFail!!\tFail!!\tFail!!\tFail!!\tFail!!\tFail!!\tFail!!\tFail!!\tFail!!\tFail!!\tFail!!\tFail!!\tFail!!\tFail!!\tFail!!\tFail!!\tFail!!\tFail!!\tFail!!\tFail!!\tFail!!\tFail!!\tFail!!\tFail!!\tFail!!\tFail!!\tFail!!\tFail!!\tFail!!\tFail!!\tFail!!\tFail!!\tFail!!\tFail!!\tFail!!\tFail!!\tFail!!\tFail!!\tFail!!\tFail!!\tFail!!\tFail!!\tFail!!\tFail!!\tFail!!\tFail!!\tFail!!\tFail!!\tFail!!\tFail!!\tFail!!\tFail!!\tFail!!\tFail!!\tFail!!\tFail!!\tFail!!\tFail!!\tFail!!\tFail!!\tFail!!\tFail!!\tFail!!\tFail!!\tFail!!\tFail!!\tFail!!\tFail!!\tFail!!\tFail!!\tFail!!\tFail!!\tFail!!\tFail!!\tFail!!\tFail!!\tFail!!\tFail!!\tFail!!\tFail!!\tFail!!\tFail!!\tFail!!\tFail!!\tFail!!\tFail!!\tFail!!\tFail!!\tFail!!\tFail!!\tFail!!\tFail!!\tFail!!\tFail!!\tFail!!\tFail!!\tFail!!\tFail!!\tFail!!\tFail!!\tFail!!\tFail!!\tFail!!\tFail!!\tFail!!\tFail!!\tFail!!\tFail!!\tFail!!\tFail!!\tFail!!\tFail!!\tFail!!\tFail!!\tFail!!\tFail!!\tFail!!\tFail!!\tFail!!\tFail!!\tFail!!\tFail!!\tFail!!\tFail!!\tFail!!\tFail!!\tFail!!\tFail!!\tFail!!\tFail!!\tFail!!\tFail!!\tFail!!\tFail!!\tFail!!\tFail!!\tFail!!\tFail!!\tFail!!\tFail!!\tFail!!\tFail!!\tFail!!\tFail!!\tFail!!\tFail!!\tFail!!\tFail!!\tFail!!\tFail!!\tFail!!\tFail!!\tFail!!\tFail!!\tFail!!\tFail!!\tFail!!\tFail!!\tFail!!\tFail!!\tFail!!\tFail!!\tFail!!\tFail!!\tFail!!\tFail!!\tFail!!\tFail!!\tFail!!\tFail!!\tFail!!\tFail!!\tFail!!\tFail!!\tFail!!\tFail!!\tFail!!\tFail!!\tFail!!\tFail!!\tFail!!\tFail!!\tFail!!\tFail!!\tFail!!\tFail!!\tFail!!\tFail!!\tFail!!\tFail!!\tFail!!\tFail!!\tFail!!\tFail!!\tFail!!\tFail!!\tFail!!\tFail!!\tFail!!\tFail!!\tFail!!\tFail!!\tFail!!\tFail!!\tFail!!\tFail!!\tFail!!\tFail!!\tFail!!\tFail!!\tFail!!\tFail!!\tFail!!\tFail!!\tFail!!\tFail!!\tFail!!\tFail!!\tFail!!\tFail!!\tFail!!\tFail!!\tFail!!\tFail!!\tFail!!\tFail!!\tFail!!\tFail!!\tFail!!\tFail!!\tFail!!\tFail!!\tFail!!\tFail!!\tFail!!\tFail!!\tFail!!\tFail!!\tFail!!\tFail!!\tFail!!\tFail!!\tFail!!\tFail!!\tFail!!\tFail!!\tFail!!\tFail!!\tFail!!\tFail!!\tFail!!\tFail!!\tFail!!\tFail!!\tFail!!\tFail!!\tFail!!\tFail!!\tFail!!\tFail!!\tFail!!\tFail!!\tFail!!\tFail!!\tFail!!\tFail!!\tFail!!\tFail!!\tFail!!\tFail!!\tFail!!\tFail!!\tFail!!\tFail!!\tFail!!\tFail!!\tFail!!\tFail!!\tFail!!\tFail!!\tFail!!\tFail!!\tFail!!\tFail!!\tFail!!\tFail!!\tFail!!\tFail!!\tFail!!\tFail!!\tFail!!\tFail!!\tFail!!\tFail!!\tFail!!\tFail!!\tFail!!\tFail!!\tFail!!\tFail!!\tFail!!\tFail!!\tFail!!\tFail!!\tFail!!\tFail!!\tFail!!\tFail!!\tFail!!\tFail!!\tFail!!\tFail!!\tFail!!\tFail!!\tFail!!\tFail!!\tFail!!\tFail!!\tFail!!\tFail!!\tFail!!\tFail!!\tFail!!\tFail!!\tFail!!\tFail!!\tFail!!\tFail!!\tFail!!\tFail!!\tFail!!\tFail!!\tFail!!\tFail!!\tFail!!\tFail!!\tFail!!\tFail!!\tFail!!\tFail!!\tFail!!\tFail!!\tFail!!\tFail!!\tFail!!\tFail!!\tFail!!\tFail!!\tFail!!\tFail!!\tFail!!\tFail!!\tFail!!\tFail!!\tFail!!\tFail!!\tFail!!\tFail!!\tFail!!\tFail!!\tFail!!\tFail!!\tFail!!\tFail!!\tFail!!\tFail!!\tFail!!\tFail!!\tFail!!\tFail!!\tFail!!\tFail!!\tFail!!\tFail!!\tFail!!\tFail!!\tFail!!\tFail!!\tFail!!\tFail!!\tFail!!\tFail!!\tFail!!\tFail!!\tFail!!\tFail!!\tFail!!\tFail!!\tFail!!\tFail!!\tFail!!\tFail!!\tFail!!\tFail!!\tFail!!\tFail!!\tFail!!\tFail!!\tFail!!\tFail!!\tFail!!\tFail!!\tFail!!\tFail!!\tFail!!\tFail!!\tFail!!\tFail!!\tFail!!\tFail!!\tFail!!\tFail!!\tFail!!\tFail!!\tFail!!\tFail!!\tFail!!\tFail!!\tFail!!\tFail!!\tFail!!\tFail!!\tFail!!\tFail!!\tFail!!\tFail!!\tFail!!\tFail!!\tFail!!\tFail!!\tFail!!\tFail!!\tFail!!\tFail!!\tFail!!\tFail!!\tFail!!\tFail!!\tFail!!\tFail!!\tFail!!\tFail!!\tFail!!\tFail!!\tFail!!\tFail!!\tFail!!\tFail!!\tFail!!\tFail!!\tFail!!\tFail!!\tFail!!\tFail!!\tFail!!\tFail!!\tFail!!\tFail!!\tFail!!\tFail!!\tFail!!\tFail!!\tFail!!\tFail!!\tFail!!\tFail!!\tFail!!\tFail!!\tFail!!\tFail!!\tFail!!\tFail!!\tFail!!\tFail!!\tFail!!\tFail!!\tFail!!\tFail!!\tFail!!\tFail!!\tFail!!\tFail!!\tFail!!\tFail!!\tFail!!\tFail!!\tFail!!\tFail!!\tFail!!\tFail!!\tFail!!\tFail!!\tFail!!\tFail!!\tFail!!\tFail!!\tFail!!\tFail!!\tFail!!\tFail!!\tFail!!\tFail!!\tFail!!\tFail!!\tFail!!\tFail!!\tFail!!\tFail!!\tFail!!\tFail!!\tFail!!\tFail!!\tFail!!\tFail!!\tFail!!\tFail!!\tFail!!\tFail!!\tFail!!\tFail!!\tFail!!\tFail!!\tFail!!\tFail!!\tFail!!\tFail!!\tFail!!\tFail!!\tFail!!\tFail!!\tFail!!\tFail!!\tFail!!\tFail!!\tFail!!\tFail!!\tFail!!\tFail!!\tFail!!\tFail!!\tFail!!\tFail!!\tFail!!\tFail!!\tFail!!\tFail!!\tFail!!\tFail!!\tFail!!\tFail!!\tFail!!\tFail!!\tFail!!\tFail!!\tFail!!\tFail!!\tFail!!\tFail!!\tFail!!\tFail!!\tFail!!\tFail!!\tFail!!\tFail!!\tFail!!\tFail!!\tFail!!\tFail!!\tFail!!\tFail!!\tFail!!\tFail!!\tFail!!\tFail!!\tFail!!\tFail!!\tFail!!\tFail!!\tFail!!\tFail!!\tFail!!\tFail!!\tFail!!\tFail!!\tFail!!\tFail!!\tFail!!\tFail!!\tFail!!\tFail!!\tFail!!\tFail!!\tFail!!\tFail!!\tFail!!\tFail!!\tFail!!\tFail!!\tFail!!\tFail!!\tFail!!\tFail!!\tFail!!\tFail!!\tFail!!\tFail!!\tFail!!\tFail!!\tFail!!\tFail!!\tFail!!\tFail!!\tFail!!\tFail!!\tFail!!\tFail!!\tFail!!\tFail!!\tFail!!\tFail!!\tFail!!\tFail!!\tFail!!\tFail!!\tFail!!\tFail!!\tFail!!\tFail!!\tFail!!\tFail!!\tFail!!\tFail!!\tFail!!\tFail!!\tFail!!\tFail!!\tFail!!\tFail!!\tFail!!\tFail!!\tFail!!\tFail!!\tFail!!\tFail!!\tFail!!\tFail!!\tFail!!\tFail!!\tFail!!\tFail!!\tFail!!\tFail!!\tFail!!\tFail!!\tFail!!\tFail!!\tFail!!\tFail!!\tFail!!\tFail!!\tFail!!\tFail!!\tFail!!\tFail!!\tFail!!\tFail!!\tFail!!\tFail!!\tFail!!\tFail!!\tFail!!\tFail!!\tFail!!\tFail!!\tFail!!\tFail!!\tFail!!\tFail!!\tFail!!\tFail!!\tFail!!\tFail!!\tFail!!\tFail!!\tFail!!\tFail!!\tFail!!\tFail!!\tFail!!\tFail!!\tFail!!\tFail!!\tFail!!\tFail!!\tFail!!\tFail!!\tFail!!\tFail!!\tFail!!\tFail!!\tFail!!\tFail!!\tFail!!\tFail!!\tFail!!\tFail!!\tFail!!\tFail!!\tFail!!\tFail!!\tFail!!\tFail!!\tFail!!\tFail!!\tFail!!\tFail!!\tFail!!\tFail!!\tFail!!\tFail!!\tFail!!\tFail!!\tFail!!\tFail!!\tFail!!\tFail!!\tFail!!\tFail!!\tFail!!\tFail!!\tFail!!\tFail!!\tFail!!\tFail!!\tFail!!\tFail!!\tFail!!\tFail!!\tFail!!\tFail!!\tFail!!\tFail!!\tFail!!\tFail!!\tFail!!\tFail!!\tFail!!\tFail!!\tFail!!\tFail!!\tFail!!\tFail!!\tFail!!\tFail!!\tFail!!\tFail!!\tFail!!\tFail!!\tFail!!\tFail!!\tFail!!\tFail!!\tFail!!\tFail!!\tFail!!\tFail!!\tFail!!\tFail!!\tFail!!\tFail!!\tFail!!\tFail!!\tFail!!\tFail!!\tFail!!\tFail!!\tFail!!\tFail!!\tFail!!\tFail!!\tFail!!\tFail!!\tFail!!\tFail!!\tFail!!\tFail!!\tFail!!\tFail!!\tFail!!\tFail!!\tFail!!\tFail!!\tFail!!\tFail!!\tFail!!\tFail!!\tFail!!\tFail!!\tFail!!\tFail!!\tFail!!\tFail!!\tFail!!\tFail!!\tFail!!\tFail!!\tFail!!\tFail!!\tFail!!\tFail!!\tFail!!\tFail!!\tFail!!\tFail!!\tFail!!\tFail!!\tFail!!\tFail!!\tFail!!\tFail!!\tFail!!\tFail!!\tFail!!\tFail!!\tFail!!\tFail!!\tFail!!\tFail!!\tFail!!\tFail!!\tFail!!\tFail!!\tFail!!\tFail!!\tFail!!\tFail!!\tFail!!\tFail!!\tFail!!\tFail!!\tFail!!\tFail!!\tFail!!\tFail!!\tFail!!\tFail!!\tFail!!\tFail!!\tFail!!\tFail!!\tFail!!\tFail!!\tFail!!\tFail!!\tFail!!\tFail!!\tFail!!\tFail!!\tFail!!\tFail!!\tFail!!\tFail!!\tFail!!\tFail!!\tFail!!\tFail!!\tFail!!\tFail!!\tFail!!\tFail!!\tFail!!\tFail!!\tFail!!\tFail!!\tFail!!\tFail!!\tFail!!\tFail!!\tFail!!\tFail!!\tFail!!\tFail!!\tFail!!\tFail!!\tFail!!\tFail!!\tFail!!\tFail!!\tFail!!\tFail!!\tFail!!\tFail!!\tFail!!\tFail!!\tFail!!\tFail!!\tFail!!\tFail!!\tFail!!\tFail!!\tFail!!\tFail!!\tFail!!\tFail!!\tFail!!\tFail!!\tFail!!\tFail!!\tFail!!\tFail!!\tFail!!\tFail!!\tFail!!\tFail!!\tFail!!\tFail!!\tFail!!\tFail!!\tFail!!\tFail!!\tFail!!\tFail!!\tFail!!\tFail!!\tFail!!\tFail!!\tFail!!\tFail!!\tFail!!\tFail!!\tFail!!\tFail!!\tFail!!\tFail!!\tFail!!\tFail!!\tFail!!\tFail!!\tFail!!\tFail!!\tFail!!\tFail!!\tFail!!\tFail!!\tFail!!\tFail!!\tFail!!\tFail!!\tFail!!\tFail!!\tFail!!\tFail!!\tFail!!\tFail!!\tFail!!\tFail!!\tFail!!\tFail!!\tFail!!\tFail!!\tFail!!\tFail!!\tFail!!\tFail!!\tFail!!\tFail!!\tFail!!\tFail!!\tFail!!\tFail!!\tFail!!\tFail!!\tFail!!\tFail!!\tFail!!\tFail!!\tFail!!\tFail!!\tFail!!\tFail!!\tFail!!\tFail!!\tFail!!\tFail!!\tFail!!\tFail!!\tFail!!\tFail!!\tFail!!\tFail!!\tFail!!\tFail!!\tFail!!\tFail!!\tFail!!\tFail!!\tFail!!\tFail!!\tFail!!\tFail!!\tFail!!\tFail!!\tFail!!\tFail!!\tFail!!\tFail!!\tFail!!\tFail!!\tFail!!\tFail!!\tFail!!\tFail!!\tFail!!\tFail!!\tFail!!\tFail!!\tFail!!\tFail!!\tFail!!\tFail!!\tFail!!\tFail!!\tFail!!\tFail!!\tFail!!\tFail!!\tFail!!\tFail!!\tFail!!\tFail!!\tFail!!\tFail!!\tFail!!\tFail!!\tFail!!\tFail!!\tFail!!\tFail!!\tFail!!\tFail!!\tFail!!\tFail!!\tFail!!\tFail!!\tFail!!\tFail!!\tFail!!\tFail!!\tFail!!\tFail!!\tFail!!\tFail!!\tFail!!\tFail!!\tFail!!\tFail!!\tFail!!\tFail!!\tFail!!\tFail!!\tFail!!\tFail!!\tFail!!\tFail!!\tFail!!\tFail!!\tFail!!\tFail!!\tFail!!\tFail!!\tFail!!\tFail!!\tFail!!\tFail!!\tFail!!\tFail!!\tFail!!\tFail!!\tFail!!\tFail!!\tFail!!\tFail!!\tFail!!\tFail!!\tFail!!\tFail!!\tFail!!\tFail!!\tFail!!\tFail!!\tFail!!\tFail!!\tFail!!\tFail!!\tFail!!\tFail!!\tFail!!\tFail!!\tFail!!\tFail!!\tFail!!\tFail!!\tFail!!\tFail!!\tFail!!\tFail!!\tFail!!\tFail!!\tFail!!\tFail!!\tFail!!\tFail!!\tFail!!\tFail!!\tFail!!\tFail!!\tFail!!\tFail!!\tFail!!\tFail!!\tFail!!\tFail!!\tFail!!\tFail!!\tFail!!\tFail!!\tFail!!\tFail!!\tFail!!\tFail!!\tFail!!\tFail!!\tFail!!\tFail!!\tFail!!\tFail!!\tFail!!\tFail!!\tFail!!\tFail!!\tFail!!\tFail!!\tFail!!\tFail!!\tFail!!\tFail!!\tFail!!\tFail!!\tFail!!\tFail!!\tFail!!\tFail!!\tFail!!\tFail!!\tFail!!\tFail!!\tFail!!\tFail!!\tFail!!\tFail!!\tFail!!\tFail!!\tFail!!\tFail!!\tFail!!\tFail!!\tFail!!\tFail!!\tFail!!\tFail!!\tFail!!\tFail!!\tFail!!\tFail!!\tFail!!\tFail!!\tFail!!\tFail!!\tFail!!\tFail!!\tFail!!\tFail!!\tFail!!\tFail!!\tFail!!\tFail!!\tFail!!\tFail!!\tFail!!\tFail!!\tFail!!\tFail!!\tFail!!\tFail!!\tFail!!\tFail!!\tFail!!\tFail!!\tFail!!\tFail!!\tFail!!\tFail!!\tFail!!\tFail!!\tFail!!\tFail!!\tFail!!\tFail!!\tFail!!\tFail!!\tFail!!\tFail!!\tFail!!\tFail!!\tFail!!\tFail!!\tFail!!\tFail!!\tFail!!\tFail!!\tFail!!\tFail!!\tFail!!\tFail!!\tFail!!\tFail!!\tFail!!\tFail!!\tFail!!\tFail!!\tFail!!\tFail!!\tFail!!\tFail!!\tFail!!\tFail!!\tFail!!\tFail!!\tFail!!\tFail!!\tFail!!\tFail!!\tFail!!\tFail!!\tFail!!\tFail!!\tFail!!\tFail!!\tFail!!\tFail!!\tFail!!\tFail!!\tFail!!\tFail!!\tFail!!\tFail!!\tFail!!\tFail!!\tFail!!\tFail!!\tFail!!\tFail!!\tFail!!\tFail!!\tFail!!\tFail!!\tFail!!\tFail!!\tFail!!\tFail!!\tFail!!\tFail!!\tFail!!\tFail!!\tFail!!\tFail!!\tFail!!\tFail!!\tFail!!\tFail!!\tFail!!\tFail!!\tFail!!\tFail!!\tFail!!\tFail!!\tFail!!\tFail!!\tFail!!\tFail!!\tFail!!\tFail!!\tFail!!\tFail!!\tFail!!\tFail!!\tFail!!\tFail!!\tFail!!\tFail!!\tFail!!\tFail!!\tFail!!\tFail!!\tFail!!\tFail!!\tFail!!\tFail!!\tFail!!\tFail!!\tFail!!\tFail!!\tFail!!\tFail!!\tFail!!\tFail!!\tFail!!\tFail!!\tFail!!\tFail!!\tFail!!\tFail!!\tFail!!\tFail!!\tFail!!\tFail!!\tFail!!\tFail!!\tFail!!\tFail!!\tFail!!\tFail!!\tFail!!\tFail!!\tFail!!\tFail!!\tFail!!\tFail!!\tFail!!\tFail!!\tFail!!\tFail!!\tFail!!\tFail!!\tFail!!\tFail!!\tFail!!\tFail!!\tFail!!\tFail!!\tFail!!\tFail!!\tFail!!\tFail!!\tFail!!\tFail!!\tFail!!\tFail!!\tFail!!\tFail!!\tFail!!\tFail!!\tFail!!\tFail!!\tFail!!\tFail!!\tFail!!\tFail!!\tFail!!\tFail!!\tFail!!\tFail!!\tFail!!\tFail!!\tFail!!\tFail!!\tFail!!\tFail!!\tFail!!\tFail!!\tFail!!\tFail!!\tFail!!\tFail!!\tFail!!\tFail!!\tFail!!\tFail!!\tFail!!\tFail!!\tFail!!\tFail!!\tFail!!\tFail!!\tFail!!\tFail!!\tFail!!\tFail!!\tFail!!\tFail!!\tFail!!\tFail!!\tFail!!\tFail!!\tFail!!\tFail!!\tFail!!\tFail!!\tFail!!\tFail!!\tFail!!\tFail!!\tFail!!\tFail!!\tFail!!\tFail!!\tFail!!\tFail!!\tFail!!\tFail!!\tFail!!\tFail!!\tFail!!\tFail!!\tFail!!\tFail!!\tFail!!\tFail!!\tFail!!\tFail!!\tFail!!\tFail!!\tFail!!\tFail!!\tFail!!\tFail!!\tFail!!\tFail!!\tFail!!\tFail!!\tFail!!\tFail!!\tFail!!\tFail!!\tFail!!\tFail!!\tFail!!\tFail!!\tFail!!\tFail!!\tFail!!\tFail!!\tFail!!\tFail!!\tFail!!\tFail!!\tFail!!\tFail!!\tFail!!\tFail!!\tFail!!\tFail!!\tFail!!\tFail!!\tFail!!\tFail!!\tFail!!\tFail!!\tFail!!\tFail!!\tFail!!\tFail!!\tFail!!\tFail!!\tFail!!\tFail!!\tFail!!\tFail!!\tFail!!\tFail!!\tFail!!\tFail!!\tFail!!\tFail!!\tFail!!\tFail!!\tFail!!\tFail!!\tFail!!\tFail!!\tFail!!\tFail!!\tFail!!\tFail!!\tFail!!\tFail!!\tFail!!\tFail!!\tFail!!\tFail!!\tFail!!\tFail!!\tFail!!\tFail!!\tFail!!\tFail!!\tFail!!\tFail!!\tFail!!\tFail!!\tFail!!\tFail!!\tFail!!\tFail!!\tFail!!\tFail!!\tFail!!\tFail!!\tFail!!\tFail!!\tFail!!\tFail!!\tFail!!\tFail!!\tFail!!\tFail!!\tFail!!\tFail!!\tFail!!\tFail!!\tFail!!\tFail!!\tFail!!\tFail!!\tFail!!\tFail!!\tFail!!\tFail!!\tFail!!\tFail!!\tFail!!\tFail!!\tFail!!\tFail!!\tFail!!\tFail!!\tFail!!\tFail!!\tFail!!\tFail!!\tFail!!\tFail!!\tFail!!\tFail!!\tFail!!\tFail!!\tFail!!\tFail!!\tFail!!\tFail!!\tFail!!\tFail!!\tFail!!\tFail!!\tFail!!\tFail!!\tFail!!\tFail!!\tFail!!\tFail!!\tFail!!\tFail!!\tFail!!\tFail!!\tFail!!\tFail!!\tFail!!\tFail!!\tFail!!\tFail!!\tFail!!\tFail!!\tFail!!\tFail!!\tFail!!\tFail!!\tFail!!\tFail!!\tFail!!\tFail!!\tFail!!\tFail!!\tFail!!\tFail!!\tFail!!\tFail!!\tFail!!\tFail!!\tFail!!\tFail!!\tFail!!\tFail!!\tFail!!\tFail!!\tFail!!\tFail!!\tFail!!\tFail!!\tFail!!\tFail!!\tFail!!\tFail!!\tFail!!\tFail!!\tFail!!\tFail!!\tFail!!\tFail!!\tFail!!\tFail!!\tFail!!\tFail!!\tFail!!\tFail!!\tFail!!\tFail!!\tFail!!\tFail!!\tFail!!\tFail!!\tFail!!\tFail!!\tFail!!\tFail!!\tFail!!\tFail!!\tFail!!\tFail!!\tFail!!\tFail!!\tFail!!\tFail!!\tFail!!\tFail!!\tFail!!\tFail!!\tFail!!\tFail!!\tFail!!\tFail!!\tFail!!\tFail!!\tFail!!\tFail!!\tFail!!\tFail!!\tFail!!\tFail!!\tFail!!\tFail!!\tFail!!\tFail!!\tFail!!\tFail!!\tFail!!\tFail!!\tFail!!\tFail!!\tFail!!\tFail!!\tFail!!\tFail!!\tFail!!\tFail!!\tFail!!\tFail!!\tFail!!\tFail!!\tFail!!\tFail!!\tFail!!\tFail!!\tFail!!\tFail!!\tFail!!\tFail!!\tFail!!\tFail!!\tFail!!\tFail!!\tFail!!\tFail!!\tFail!!\tFail!!\tFail!!\tFail!!\tFail!!\tFail!!\tFail!!\tFail!!\tFail!!\tFail!!\tFail!!\tFail!!\tFail!!\tFail!!\tFail!!\tFail!!\tFail!!\tFail!!\tFail!!\tFail!!\tFail!!\tFail!!\tFail!!\tFail!!\tFail!!\tFail!!\tFail!!\tFail!!\tFail!!\tFail!!\tFail!!\tFail!!\tFail!!\tFail!!\tFail!!\tFail!!\tFail!!\tFail!!\tFail!!\tFail!!\tFail!!\tFail!!\tFail!!\tFail!!\tFail!!\tFail!!\tFail!!\tFail!!\tFail!!\tFail!!\tFail!!\tFail!!\tFail!!\tFail!!\tFail!!\tFail!!\tFail!!\tFail!!\tFail!!\tFail!!\tFail!!\tFail!!\tFail!!\tFail!!\tFail!!\tFail!!\tFail!!\tFail!!\tFail!!\tFail!!\tFail!!\tFail!!\tFail!!\tFail!!\tFail!!\tFail!!\tFail!!\tFail!!\tFail!!\tFail!!\tFail!!\tFail!!\tFail!!\tFail!!\tFail!!\tFail!!\tFail!!\tFail!!\tFail!!\tFail!!\tFail!!\tFail!!\tFail!!\tFail!!\tFail!!\tFail!!\tFail!!\tFail!!\tFail!!\tFail!!\tFail!!\tFail!!\tFail!!\tFail!!\tFail!!\tFail!!\tFail!!\tFail!!\tFail!!\tFail!!\tFail!!\tFail!!\tFail!!\tFail!!\tFail!!\tFail!!\tFail!!\tFail!!\tFail!!\tFail!!\tFail!!\tFail!!\tFail!!\tFail!!\tFail!!\tFail!!\tFail!!\tFail!!\tFail!!\tFail!!\tFail!!\tFail!!\tFail!!\tFail!!\tFail!!\tFail!!\tFail!!\tFail!!\tFail!!\tFail!!\tFail!!\tFail!!\tFail!!\tFail!!\tFail!!\tFail!!\tFail!!\tFail!!\tFail!!\tFail!!\tFail!!\tFail!!\tFail!!\tFail!!\tFail!!\tFail!!\tFail!!\tFail!!\tFail!!\tFail!!\tFail!!\tFail!!\tFail!!\tFail!!\tFail!!\tFail!!\tFail!!\tFail!!\tFail!!\tFail!!\tFail!!\tFail!!\tFail!!\tFail!!\tFail!!\tFail!!\tFail!!\tFail!!\tFail!!\tFail!!\tFail!!\tFail!!\tFail!!\tFail!!\tFail!!\tFail!!\tFail!!\tFail!!\tFail!!\tFail!!\tFail!!\tFail!!\tFail!!\tFail!!\tFail!!\tFail!!\tFail!!\tFail!!\tFail!!\tFail!!\tFail!!\tFail!!\tFail!!\tFail!!\tFail!!\tFail!!\tFail!!\tFail!!\tFail!!\tFail!!\tFail!!\tFail!!\tFail!!\tFail!!\tFail!!\tFail!!\tFail!!\tFail!!\tFail!!\tFail!!\tFail!!\tFail!!\tFail!!\tFail!!\tFail!!\tFail!!\tFail!!\tFail!!\tFail!!\tFail!!\tFail!!\tFail!!\tFail!!\tFail!!\tFail!!\tFail!!\tFail!!\tFail!!\tFail!!\tFail!!\tFail!!\tFail!!\tFail!!\tFail!!\tFail!!\tFail!!\tFail!!\tFail!!\tFail!!\tFail!!\tFail!!\tFail!!\tFail!!\tFail!!\tFail!!\tFail!!\tFail!!\tFail!!\tFail!!\tFail!!\tFail!!\tFail!!\tFail!!\tFail!!\tFail!!\tFail!!\tFail!!\tFail!!\tFail!!\tFail!!\tFail!!\tFail!!\tFail!!\tFail!!\tFail!!\tFail!!\tFail!!\tFail!!\tFail!!\tFail!!\tFail!!\tFail!!\tFail!!\tFail!!\tFail!!\tFail!!\tFail!!\tFail!!\tFail!!\tFail!!\tFail!!\tFail!!\tFail!!\tFail!!\tFail!!\tFail!!\tFail!!\tFail!!\tFail!!\tFail!!\tFail!!\tFail!!\tFail!!\tFail!!\tFail!!\tFail!!\tFail!!\tFail!!\tFail!!\tFail!!\tFail!!\tFail!!\tFail!!\tFail!!\tFail!!\tFail!!\tFail!!\tFail!!\tFail!!\tFail!!\tFail!!\tFail!!\tFail!!\tFail!!\tFail!!\tFail!!\tFail!!\tFail!!\tFail!!\tFail!!\tFail!!\tFail!!\tFail!!\tFail!!\tFail!!\tFail!!\tFail!!\tFail!!\tFail!!\tFail!!\tFail!!\tFail!!\tFail!!\tFail!!\tFail!!\tFail!!\tFail!!\tFail!!\tFail!!\tFail!!\tFail!!\tFail!!\tFail!!\tFail!!\tFail!!\tFail!!\tFail!!\tFail!!\tFail!!\tFail!!\tFail!!\tFail!!\tFail!!\tFail!!\tFail!!\tFail!!\tFail!!\tFail!!\tFail!!\tFail!!\tFail!!\tFail!!\tFail!!\tFail!!\tFail!!\tFail!!\tFail!!\tFail!!\tFail!!\tFail!!\tFail!!\tFail!!\tFail!!\tFail!!\tFail!!\tFail!!\tFail!!\tFail!!\tFail!!\tFail!!\tFail!!\tFail!!\tFail!!\tFail!!\tFail!!\tFail!!\tFail!!\tFail!!\tFail!!\tFail!!\tFail!!\tFail!!\tFail!!\tFail!!\tFail!!\tFail!!\tFail!!\tFail!!\tFail!!\tFail!!\tFail!!\tFail!!\tFail!!\tFail!!\tFail!!\tFail!!\tFail!!\tFail!!\tFail!!\tFail!!\tFail!!\tFail!!\tFail!!\tFail!!\tFail!!\tFail!!\tFail!!\tFail!!\tFail!!\tFail!!\tFail!!\tFail!!\tFail!!\tFail!!\tFail!!\tFail!!\tFail!!\tFail!!\tFail!!\tFail!!\tFail!!\tFail!!\tFail!!\tFail!!\tFail!!\tFail!!\tFail!!\tFail!!\tFail!!\tFail!!\tFail!!\tFail!!\tFail!!\tFail!!\tFail!!\tFail!!\tFail!!\tFail!!\tFail!!\tFail!!\tFail!!\tFail!!\tFail!!\tFail!!\tFail!!\tFail!!\tFail!!\tFail!!\tFail!!\tFail!!\tFail!!\tFail!!\tFail!!\tFail!!\tFail!!\tFail!!\tFail!!\tFail!!\tFail!!\tFail!!\tFail!!\tFail!!\tFail!!\tFail!!\tFail!!\tFail!!\tFail!!\tFail!!\tFail!!\tFail!!\tFail!!\tFail!!\tFail!!\tFail!!\tFail!!\tFail!!\tFail!!\tFail!!\tFail!!\tFail!!\tFail!!\tFail!!\tFail!!\tFail!!\tFail!!\tFail!!\tFail!!\tFail!!\tFail!!\tFail!!\tFail!!\tFail!!\tFail!!\tFail!!\tFail!!\tFail!!\tFail!!\tFail!!\tFail!!\tFail!!\tFail!!\tFail!!\tFail!!\tFail!!\tFail!!\tFail!!\tFail!!\tFail!!\tFail!!\tFail!!\tFail!!\tFail!!\tFail!!\tFail!!\tFail!!\tFail!!\tFail!!\tFail!!\tFail!!\tFail!!\tFail!!\tFail!!\tFail!!\tFail!!\tFail!!\tFail!!\tFail!!\tFail!!\tFail!!\tFail!!\tFail!!\tFail!!\tFail!!\tFail!!\tFail!!\tFail!!\tFail!!\tFail!!\tFail!!\tFail!!\tFail!!\tFail!!\tFail!!\tFail!!\tFail!!\tFail!!\tFail!!\tFail!!\tFail!!\tFail!!\tFail!!\tFail!!\tFail!!\tFail!!\tFail!!\tFail!!\tFail!!\tFail!!\tFail!!\tFail!!\tFail!!\tFail!!\tFail!!\tFail!!\tFail!!\tFail!!\tFail!!\tFail!!\tFail!!\tFail!!\tFail!!\tFail!!\tFail!!\tFail!!\tFail!!\tFail!!\tFail!!\tFail!!\tFail!!\tFail!!\tFail!!\tFail!!\tFail!!\tFail!!\tFail!!\tFail!!\tFail!!\tFail!!\tFail!!\tFail!!\tFail!!\tFail!!\tFail!!\tFail!!\tFail!!\tFail!!\tFail!!\tFail!!\tFail!!\tFail!!\tFail!!\tFail!!\tFail!!\tFail!!\tFail!!\tFail!!\tFail!!\tFail!!\tFail!!\tFail!!\tFail!!\tFail!!\tFail!!\tFail!!\tFail!!\tFail!!\tFail!!\tFail!!\tFail!!\tFail!!\tFail!!\tFail!!\tFail!!\tFail!!\tFail!!\tFail!!\tFail!!\tFail!!\tFail!!\tFail!!\tFail!!\tFail!!\tFail!!\tFail!!\tFail!!\tFail!!\tFail!!\tFail!!\tFail!!\tFail!!\tFail!!\tFail!!\tFail!!\tFail!!\tFail!!\tFail!!\tFail!!\tFail!!\tFail!!\tFail!!\tFail!!\tFail!!\tFail!!\tFail!!\tFail!!\tFail!!\tFail!!\tFail!!\tFail!!\tFail!!\tFail!!\tFail!!\tFail!!\tFail!!\tFail!!\tFail!!\tFail!!\tFail!!\tFail!!\tFail!!\tFail!!\tFail!!\tFail!!\tFail!!\tFail!!\tFail!!\tFail!!\tFail!!\tFail!!\tFail!!\tFail!!\tFail!!\tFail!!\tFail!!\tFail!!\tFail!!\tFail!!\tFail!!\tFail!!\tFail!!\tFail!!\tFail!!\tFail!!\tFail!!\tFail!!\tFail!!\tFail!!\tFail!!\tFail!!\tFail!!\tFail!!\tFail!!\tFail!!\tFail!!\tFail!!\tFail!!\tFail!!\tFail!!\tFail!!\tFail!!\tFail!!\tFail!!\tFail!!\tFail!!\tFail!!\tFail!!\tFail!!\tFail!!\tFail!!\tFail!!\tFail!!\tFail!!\tFail!!\tFail!!\tFail!!\tFail!!\tFail!!\tFail!!\tFail!!\tFail!!\tFail!!\tFail!!\tFail!!\tFail!!\tFail!!\tFail!!\tFail!!\tFail!!\tFail!!\tFail!!\tFail!!\tFail!!\tFail!!\tFail!!\tFail!!\tFail!!\tFail!!\tFail!!\tFail!!\tFail!!\tFail!!\tFail!!\tFail!!\tFail!!\tFail!!\tFail!!\tFail!!\tFail!!\tFail!!\tFail!!\tFail!!\tFail!!\tFail!!\tFail!!\tFail!!\tFail!!\tFail!!\tFail!!\tFail!!\tFail!!\tFail!!\tFail!!\tFail!!\tFail!!\tFail!!\tFail!!\tFail!!\tFail!!\tFail!!\tFail!!\tFail!!\tFail!!\tFail!!\tFail!!\tFail!!\tFail!!\tFail!!\tFail!!\tFail!!\tFail!!\tFail!!\tFail!!\tFail!!\tFail!!\tFail!!\tFail!!\tFail!!\tFail!!\tFail!!\tFail!!\tFail!!\tFail!!\tFail!!\tFail!!\tFail!!\tFail!!\tFail!!\tFail!!\tFail!!\tFail!!\tFail!!\tFail!!\tFail!!\tFail!!\tFail!!\tFail!!\tFail!!\tFail!!\tFail!!\tFail!!\tFail!!\tFail!!\tFail!!\tFail!!\tFail!!\tFail!!\tFail!!\tFail!!\tFail!!\tFail!!\tFail!!\tFail!!\tFail!!\tFail!!\tFail!!\tFail!!\tFail!!\tFail!!\tFail!!\tFail!!\tFail!!\tFail!!\tFail!!\tFail!!\tFail!!\tFail!!\tFail!!\tFail!!\tFail!!\tFail!!\tFail!!\tFail!!\tFail!!\tFail!!\tFail!!\tFail!!\tFail!!\tFail!!\tFail!!\tFail!!\tFail!!\tFail!!\tFail!!\tFail!!\tFail!!\tFail!!\tFail!!\tFail!!\tFail!!\tFail!!\tFail!!\tFail!!\tFail!!\tFail!!\tFail!!\tFail!!\tFail!!\tFail!!\tFail!!\tFail!!\tFail!!\tFail!!\tFail!!\tFail!!\tFail!!\tFail!!\tFail!!\tFail!!\tFail!!\tFail!!\tFail!!\tFail!!\tFail!!\tFail!!\tFail!!\tFail!!\tFail!!\tFail!!\tFail!!\tFail!!\tFail!!\tFail!!\tFail!!\tFail!!\tFail!!\tFail!!\tFail!!\tFail!!\tFail!!\tFail!!\tFail!!\tFail!!\tFail!!\tFail!!\tFail!!\tFail!!\tFail!!\tFail!!\tFail!!\tFail!!\tFail!!\tFail!!\tFail!!\tFail!!\tFail!!\tFail!!\tFail!!\tFail!!\tFail!!\tFail!!\tFail!!\tFail!!\tFail!!\tFail!!\tFail!!\tFail!!\tFail!!\tFail!!\tFail!!\tFail!!\tFail!!\tFail!!\tFail!!\tFail!!\tFail!!\tFail!!\tFail!!\tFail!!\tFail!!\tFail!!\tFail!!\tFail!!\tFail!!\tFail!!\tFail!!\tFail!!\tFail!!\tFail!!\tFail!!\tFail!!\tFail!!\tFail!!\tFail!!\tFail!!\tFail!!\tFail!!\tFail!!\tFail!!\tFail!!\tFail!!\tFail!!\tFail!!\tFail!!\tFail!!\tFail!!\tFail!!\tFail!!\tFail!!\tFail!!\tFail!!\tFail!!\tFail!!\tFail!!\tFail!!\tFail!!\tFail!!\tFail!!\tFail!!\tFail!!\tFail!!\tFail!!\tFail!!\tFail!!\tFail!!\tFail!!\tFail!!\tFail!!\tFail!!\tFail!!\tFail!!\tFail!!\tFail!!\tFail!!\tFail!!\tFail!!\tFail!!\tFail!!\tFail!!\tFail!!\tFail!!\tFail!!\tFail!!\tFail!!\tFail!!\tFail!!\tFail!!\tFail!!\tFail!!\tFail!!\tFail!!\tFail!!\tFail!!\tFail!!\tFail!!\tFail!!\tFail!!\tFail!!\tFail!!\tFail!!\tFail!!\tFail!!\tFail!!\tFail!!\tFail!!\tFail!!\tFail!!\tFail!!\tFail!!\tFail!!\tFail!!\tFail!!\tFail!!\tFail!!\tFail!!\tFail!!\tFail!!\tFail!!\tFail!!\tFail!!\tFail!!\tFail!!\tFail!!\tFail!!\tFail!!\tFail!!\tFail!!\tFail!!\tFail!!\tFail!!\tFail!!\tFail!!\tFail!!\tFail!!\tFail!!\tFail!!\tFail!!\tFail!!\tFail!!\tFail!!\tFail!!\tFail!!\tFail!!\tFail!!\tFail!!\tFail!!\tFail!!\tFail!!\tFail!!\tFail!!\tFail!!\tFail!!\tFail!!\tFail!!\tFail!!\tFail!!\tFail!!\tFail!!\tFail!!\tFail!!\tFail!!\tFail!!\tFail!!\tFail!!\tFail!!\tFail!!\tFail!!\tFail!!\tFail!!\tFail!!\tFail!!\tFail!!\tFail!!\tFail!!\tFail!!\tFail!!\tFail!!\tFail!!\tFail!!\tFail!!\tFail!!\tFail!!\tFail!!\tFail!!\tFail!!\tFail!!\tFail!!\tFail!!\tFail!!\tFail!!\tFail!!\tFail!!\tFail!!\tFail!!\tFail!!\tFail!!\tFail!!\tFail!!\tFail!!\tFail!!\tFail!!\tFail!!\tFail!!\tFail!!\tFail!!\tFail!!\tFail!!\tFail!!\tFail!!\tFail!!\tFail!!\tFail!!\tFail!!\tFail!!\tFail!!\tFail!!\tFail!!\tFail!!\tFail!!\tFail!!\tFail!!\tFail!!\tFail!!\tFail!!\tFail!!\tFail!!\tFail!!\tFail!!\tFail!!\tFail!!\tFail!!\tFail!!\tFail!!\tFail!!\tFail!!\tFail!!\tFail!!\tFail!!\tFail!!\tFail!!\tFail!!\tFail!!\tFail!!\tFail!!\tFail!!\tFail!!\tFail!!\tFail!!\tFail!!\tFail!!\tFail!!\tFail!!\tFail!!\tFail!!\tFail!!\tFail!!\tFail!!\tFail!!\tFail!!\tFail!!\tFail!!\tFail!!\tFail!!\tFail!!\tFail!!\tFail!!\tFail!!\tFail!!\tFail!!\tFail!!\tFail!!\tFail!!\tFail!!\tFail!!\tFail!!\tFail!!\tFail!!\tFail!!\tFail!!\tFail!!\tFail!!\tFail!!\tFail!!\tFail!!\tFail!!\tFail!!\tFail!!\tFail!!\tFail!!\tFail!!\tFail!!\tFail!!\tFail!!\tFail!!\tFail!!\tFail!!\tFail!!\tFail!!\tFail!!\tFail!!\tFail!!\tFail!!\tFail!!\tFail!!\tFail!!\tFail!!\tFail!!\tFail!!\tFail!!\tFail!!\tFail!!\tFail!!\tFail!!\tFail!!\tFail!!\tFail!!\tFail!!\tFail!!\tFail!!\tFail!!\tFail!!\tFail!!\tFail!!\tFail!!\tFail!!\tFail!!\tFail!!\tFail!!\tFail!!\tFail!!\tFail!!\tFail!!\tFail!!\tFail!!\tFail!!\tFail!!\tFail!!\tFail!!\tFail!!\tFail!!\tFail!!\tFail!!\tFail!!\tFail!!\tFail!!\tFail!!\tFail!!\tFail!!\tFail!!\tFail!!\tFail!!\tFail!!\tFail!!\tFail!!\tFail!!\tFail!!\tFail!!\tFail!!\tFail!!\tFail!!\tFail!!\tFail!!\tFail!!\tFail!!\tFail!!\tFail!!\tFail!!\tFail!!\tFail!!\tFail!!\tFail!!\tFail!!\tFail!!\tFail!!\tFail!!\tFail!!\tFail!!\tFail!!\tFail!!\tFail!!\tFail!!\tFail!!\tFail!!\tFail!!\tFail!!\tFail!!\tFail!!\tFail!!\tFail!!\tFail!!\tFail!!\tFail!!\tFail!!\tFail!!\tFail!!\tFail!!\tFail!!\tFail!!\tFail!!\tFail!!\tFail!!\tFail!!\tFail!!\tFail!!\tFail!!\tFail!!\tFail!!\tFail!!\tFail!!\tFail!!\tFail!!\tFail!!\tFail!!\tFail!!\tFail!!\tFail!!\tFail!!\tFail!!\tFail!!\tFail!!\tFail!!\tFail!!\tFail!!\tFail!!\tFail!!\tFail!!\tFail!!\tFail!!\tFail!!\tFail!!\tFail!!\tFail!!\tFail!!\tFail!!\tFail!!\tFail!!\tFail!!\tFail!!\tFail!!\tFail!!\tFail!!\tFail!!\tFail!!\tFail!!\tFail!!\tFail!!\tFail!!\tFail!!\tFail!!\tFail!!\tFail!!\tFail!!\tFail!!\tFail!!\tFail!!\tFail!!\tFail!!\tFail!!\tFail!!\tFail!!\tFail!!\tFail!!\tFail!!\tFail!!\tFail!!\tFail!!\tFail!!\tFail!!\tFail!!\tFail!!\tFail!!\tFail!!\tFail!!\tFail!!\tFail!!\tFail!!\tFail!!\tFail!!\tFail!!\tFail!!\tFail!!\tFail!!\tFail!!\tFail!!\tFail!!\tFail!!\tFail!!\tFail!!\tFail!!\tFail!!\tFail!!\tFail!!\tFail!!\tFail!!\tFail!!\tFail!!\tFail!!\tFail!!\tFail!!\tFail!!\tFail!!\tFail!!\tFail!!\tFail!!\tFail!!\tFail!!\tFail!!\tFail!!\tFail!!\tFail!!\tFail!!\tFail!!\tFail!!\tFail!!\tFail!!\tFail!!\tFail!!\tFail!!\tFail!!\tFail!!\tFail!!\tFail!!\tFail!!\tFail!!\tFail!!\tFail!!\tFail!!\tFail!!\tFail!!\tFail!!\tFail!!\tFail!!\tFail!!\tFail!!\tFail!!\tFail!!\tFail!!\tFail!!\tFail!!\tFail!!\tFail!!\tFail!!\tFail!!\tFail!!\tFail!!\tFail!!\tFail!!\tFail!!\tFail!!\tFail!!\tFail!!\tFail!!\tFail!!\tFail!!\tFail!!\tFail!!\tFail!!\tFail!!\tFail!!\tFail!!\tFail!!\tFail!!\tFail!!\tFail!!\tFail!!\tFail!!\tFail!!\tFail!!\tFail!!\tFail!!\tFail!!\tFail!!\tFail!!\tFail!!\tFail!!\tFail!!\tFail!!\tFail!!\tFail!!\tFail!!\tFail!!\tFail!!\tFail!!\tFail!!\tFail!!\tFail!!\tFail!!\tFail!!\tFail!!\tFail!!\tFail!!\tFail!!\tFail!!\tFail!!\tFail!!\tFail!!\tFail!!\tFail!!\tFail!!\tFail!!\tFail!!\tFail!!\tFail!!\tFail!!\tFail!!\tFail!!\tFail!!\tFail!!\tFail!!\tFail!!\tFail!!\tFail!!\tFail!!\tFail!!\tFail!!\tFail!!\tFail!!\tFail!!\tFail!!\tFail!!\tFail!!\tFail!!\tFail!!\tFail!!\tFail!!\tFail!!\tFail!!\tFail!!\tFail!!\tFail!!\tFail!!\tFail!!\tFail!!\tFail!!\tFail!!\tFail!!\tFail!!\tFail!!\tFail!!\tFail!!\tFail!!\tFail!!\tFail!!\tFail!!\tFail!!\tFail!!\tFail!!\tFail!!\tFail!!\tFail!!\tFail!!\tFail!!\tFail!!\tFail!!\tFail!!\tFail!!\tFail!!\tFail!!\tFail!!\tFail!!\tFail!!\tFail!!\tFail!!\tFail!!\tFail!!\tFail!!\tFail!!\tFail!!\tFail!!\tFail!!\tFail!!\tFail!!\tFail!!\tFail!!\tFail!!\tFail!!\tFail!!\tFail!!\tFail!!\tFail!!\tFail!!\tFail!!\tFail!!\tFail!!\tFail!!\tFail!!\tFail!!\tFail!!\tFail!!\tFail!!\tFail!!\tFail!!\tFail!!\tFail!!\tFail!!\tFail!!\tFail!!\tFail!!\tFail!!\tFail!!\tFail!!\tFail!!\tFail!!\tFail!!\tFail!!\tFail!!\tFail!!\tFail!!\tFail!!\tFail!!\tFail!!\tFail!!\tFail!!\tFail!!\tFail!!\tFail!!\tFail!!\tFail!!\tFail!!\tFail!!\tFail!!\tFail!!\tFail!!\tFail!!\tFail!!\tFail!!\tFail!!\tFail!!\tFail!!\tFail!!\tFail!!\tFail!!\tFail!!\tFail!!\tFail!!\tFail!!\tFail!!\tFail!!\tFail!!\tFail!!\tFail!!\tFail!!\tFail!!\tFail!!\tFail!!\tFail!!\tFail!!\tFail!!\tFail!!\tFail!!\tFail!!\tFail!!\tFail!!\tFail!!\tFail!!\tFail!!\tFail!!\tFail!!\tFail!!\tFail!!\tFail!!\tFail!!\tFail!!\tFail!!\tFail!!\tFail!!\tFail!!\tFail!!\tFail!!\tFail!!\tFail!!\tFail!!\tFail!!\tFail!!\tFail!!\tTrain score\n",
            "\t25% trip traverse : 0.20562324598023923\n",
            "\t50% trip traverse : 0.4163212983587789\n",
            "\t75% trip traverse : 0.6200365857776751\n",
            "\t90% trip traverse : 0.7431608412480043\n",
            "Test score\n",
            "\t25% trip traverse : 0.18294232420903236\n",
            "\t50% trip traverse : 0.352608761813484\n",
            "\t75% trip traverse : 0.5043621154399502\n",
            "\t90% trip traverse : 0.5810266243989309\n",
            "fail seq =  4870\n"
          ]
        }
      ]
    },
    {
      "cell_type": "markdown",
      "metadata": {
        "id": "dzGi75pjrriF"
      },
      "source": [
        "##for hmmlearn"
      ]
    },
    {
      "cell_type": "code",
      "metadata": {
        "id": "abrYJER_Ru3p",
        "colab": {
          "base_uri": "https://localhost:8080/"
        },
        "outputId": "60b034cc-1fe8-4f10-9b8e-6e3717204cc8"
      },
      "source": [
        "accuracy_train = []\n",
        "accuracy_test = []\n",
        " \n",
        "for start in starts: # 10\n",
        "  X_train = X2[:start]+X2[start+fold:]\n",
        "  X_test = X2[start:start+fold]\n",
        "  labels_train = labels2[:start]+labels2[start+fold:]\n",
        "  labels_test = labels2[start:start+fold]\n",
        "\n",
        "    # บรรทัดนี้ปลอดภัยไว้ก่อน\n",
        "  uniq_sp = set()\n",
        "  for seq in X_train:\n",
        "    for sp in seq:\n",
        "      uniq_sp.add(sp)\n",
        "  uniq_label = set()\n",
        "  # for label in labels_train:\n",
        "  for label in labels_train:\n",
        "    for uniq in list(set(label)):\n",
        "      uniq_label.add(uniq)\n",
        "  \n",
        "  unseen_sp = sp_list - uniq_sp\n",
        "  print(len(unseen_sp))\n",
        "  X_train.append(np.array(list(unseen_sp)))\n",
        "  labels_train.append(['-1'] * len(unseen_sp))\n",
        "\n",
        "  print(uniq_label)\n",
        "  uniq_label_for_encode = []\n",
        "  for i  in uniq_label:\n",
        "    uniq_label_for_encode.append(i)\n",
        "\n",
        "  encode = preprocessing.LabelEncoder()\n",
        "  encode.fit(uniq_label_for_encode)\n",
        "\n",
        "  X_train_for_fit,length = for_model_fit(X_train)\n",
        "\n",
        "  model = hmm.MultinomialHMM(n_components=len(uniq_label),n_iter=100,random_state=42)\n",
        "\n",
        "  model.fit(X_train_for_fit,length)\n",
        "\n",
        "#   accuracy_train_percent = []\n",
        "#   for percent in [0.25, 0.5, 0.75, 0.9]:\n",
        "#     accu = 0\n",
        "#     for seq, label in zip(X_train, labels_train):\n",
        "#       sc = score(model, np.array(seq[:int(len(seq)*percent)]), labels,encode)\n",
        "#       if sc > 0:\n",
        "#         # accu += sc\n",
        "#         accu += 1\n",
        "#     train_score = accu/len(X_train)\n",
        "#     accuracy_train_percent.append(train_score)\n",
        "#   accuracy_train.append(accuracy_train_percent)\n",
        "\n",
        "#   accuracy_test_percent = []\n",
        "#   for percent in [0.25, 0.5, 0.75, 0.9]:\n",
        "#     accu = 0\n",
        "#     for seq, label in zip(X_test, labels_test):\n",
        "#       sc = score(model, np.array(seq[:int(len(seq)*percent)]), labels,encode)\n",
        "#       if sc > 0:\n",
        "#         # accu += sc\n",
        "#         accu += 1\n",
        "#     test_score = accu/len(X_test)\n",
        "#     accuracy_test_percent.append(test_score)\n",
        "#   accuracy_test.append(accuracy_test_percent)\n",
        "\n",
        "#   print(f'Score {start} - {start+fold}')\n",
        "#   print(f'Train score')\n",
        "#   print(f'\\t25% trip traverse : {accuracy_train_percent[0]}')\n",
        "#   print(f'\\t50% trip traverse : {accuracy_train_percent[1]}')\n",
        "#   print(f'\\t75% trip traverse : {accuracy_train_percent[2]}')\n",
        "#   print(f'\\t90% trip traverse : {accuracy_train_percent[3]}')\n",
        "#   print(f'Test score')\n",
        "#   print(f'\\t25% trip traverse : {accuracy_test_percent[0]}')\n",
        "#   print(f'\\t50% trip traverse : {accuracy_test_percent[1]}')\n",
        "#   print(f'\\t75% trip traverse : {accuracy_test_percent[2]}')\n",
        "#   print(f'\\t90% trip traverse : {accuracy_test_percent[3]}')\n",
        "\n",
        "# print('all score')\n",
        "# print('train score: ')\n",
        "# for i in range(4):\n",
        "#   sum = 0\n",
        "#   for fold in accuracy_train:\n",
        "#     sum += fold[i]\n",
        "#   print(f'\\ttrip traverse {i} : {sum/10}')\n",
        "\n",
        "# print('test score: ')\n",
        "# for i in range(4):\n",
        "#   sum = 0\n",
        "#   for fold in accuracy_test:\n",
        "#     sum += fold[i]\n",
        "#   print(f'\\ttrip traverse {i} : {sum/10}')"
      ],
      "execution_count": null,
      "outputs": [
        {
          "output_type": "stream",
          "name": "stderr",
          "text": [
            "Fitting a model with 437772447949 free scalar parameters with only 11561 data points will result in a degenerate solution.\n"
          ]
        },
        {
          "output_type": "stream",
          "name": "stdout",
          "text": [
            "53\n",
            "{'101', '65', '254', '435', '115', '312', '686', '447', '661', '353', '701', '393', '249', '675', '601', '217', '39', '432', '448', '292', '666', '160', '1', '494', '583', '281', '560', '155', '332', '243', '549', '186', '488', '44', '22', '628', '515', '72', '572', '674', '326', '602', '228', '480', '264', '119', '168', '313', '321', '170', '250', '585', '348', '272', '205', '51', '658', '706', '110', '15', '251', '55', '279', '88', '85', '657', '192', '470', '304', '495', '247', '59', '665', '294', '130', '452', '201', '52', '381', '127', '121', '482', '561', '255', '481', '531', '143', '46', '295', '513', '230', '394', '597', '391', '446', '653', '492', '576', '650', '679', '505', '694', '340', '434', '27', '86', '490', '664', '163', '570', '415', '26', '131', '682', '438', '288', '57', '226', '539', '165', '565', '499', '659', '270', '636', '103', '29', '308', '656', '563', '689', '529', '145', '397', '266', '318', '497', '97', '643', '234', '273', '104', '194', '355', '8', '199', '126', '258', '185', '491', '291', '10', '504', '169', '399', '695', '422', '423', '123', '225', '330', '567', '507', '612', '82', '237', '652', '77', '344', '425', '622', '468', '374', '384', '137', '571', '35', '69', '707', '371', '690', '463', '87', '40', '523', '688', '290', '662', '476', '309', '99', '257', '47', '90', '289', '20', '671', '144', '349', '512', '156', '334', '211', '466', '479', '705', '3', '365', '517', '269', '158', '536', '338', '568', '328', '198', '206', '311', '184', '58', '96', '195', '113', '19', '681', '409', '598', '37', '122', '685', '107', '18', '177', '408', '388', '655', '89', '315', '651', '444', '383', '704', '323', '179', '493', '390', '252', '525', '36', '544', '215', '150', '167', '276', '475', '559', '16', '405', '236', '105', '590', '189', '108', '287', '526', '542', '359', '297', '106', '171', '426', '162', '32', '178', '181', '535', '161', '231', '548', '678', '232', '596', '342', '78', '172', '157', '501', '25', '75', '556', '154', '464', '166', '534', '233', '196', '692', '221', '462', '364', '533', '387', '630', '202', '600', '524', '203', '356', '220', '437', '83', '699', '691', '382', '589', '93', '112', '489', '33', '584', '503', '592', '118', '337', '455', '360', '66', '419', '193', '142', '687', '314', '262', '124', '378', '61', '376', '310', '580', '149', '401', '79', '180', '339', '140', '369', '268', '136', '637', '663', '148', '646', '260', '324', '190', '187', '238', '698', '182', '445', '683', '102', '552', '429', '49', '379', '431', '649', '94', '164', '241', '404', '343', '317', '327', '210', '17', '629', '227', '208', '537', '352', '354', '386', '218', '457', '320', '222', '174', '442', '4', '200', '223', '0', '2', '-1', '7', '283', '159', '522', '188', '307', '626', '579', '42', '516', '673', '274', '239', '263', '91', '341', '702', '412', '120', '346', '669', '43', '509', '98', '433', '5', '604', '109', '133', '654', '449', '506', '242', '377', '400', '696', '454', '38', '153', '245', '566', '627', '648', '486', '407', '593', '668', '301', '413'}\n"
          ]
        }
      ]
    },
    {
      "cell_type": "code",
      "metadata": {
        "colab": {
          "base_uri": "https://localhost:8080/"
        },
        "id": "NYeHfd2nDt27",
        "outputId": "71c7417f-7bb7-4646-de33-dfb6487052e6"
      },
      "source": [
        "for start in starts: # 10\n",
        "  X_train = X2[:start]+X2[start+fold:]\n",
        "  x,L = for_model_fit(X_train)\n",
        "  print(len(x))"
      ],
      "execution_count": null,
      "outputs": [
        {
          "output_type": "stream",
          "name": "stdout",
          "text": [
            "11508\n",
            "11090\n",
            "11431\n",
            "11364\n",
            "11575\n",
            "11292\n",
            "11362\n",
            "11181\n",
            "11338\n",
            "11435\n"
          ]
        }
      ]
    },
    {
      "cell_type": "code",
      "metadata": {
        "colab": {
          "base_uri": "https://localhost:8080/"
        },
        "id": "zWCp7jnqD3VM",
        "outputId": "7b47ed63-7c16-4677-9253-aade92bd756c"
      },
      "source": [
        "11508*11508"
      ],
      "execution_count": null,
      "outputs": [
        {
          "output_type": "execute_result",
          "data": {
            "text/plain": [
              "132434064"
            ]
          },
          "metadata": {},
          "execution_count": 19
        }
      ]
    },
    {
      "cell_type": "code",
      "metadata": {
        "colab": {
          "base_uri": "https://localhost:8080/"
        },
        "id": "PgopC6YOEOoi",
        "outputId": "d9fc6deb-ff9c-4791-aacf-26615cb905ac"
      },
      "source": [
        "for start in starts: # 10\n",
        "  X_train = X2[:start]+X2[start+fold:]\n",
        "  print(len(X_train))"
      ],
      "execution_count": null,
      "outputs": [
        {
          "output_type": "stream",
          "name": "stdout",
          "text": [
            "321\n",
            "321\n",
            "321\n",
            "321\n",
            "321\n",
            "321\n",
            "321\n",
            "321\n",
            "321\n",
            "321\n"
          ]
        }
      ]
    },
    {
      "cell_type": "code",
      "metadata": {
        "id": "Dv9Me89yE9s5"
      },
      "source": [
        "X_train = X2[:0]+X2[0+fold:]"
      ],
      "execution_count": null,
      "outputs": []
    },
    {
      "cell_type": "code",
      "metadata": {
        "colab": {
          "base_uri": "https://localhost:8080/"
        },
        "id": "cArHOBRPF9nG",
        "outputId": "fc74d29f-fd74-4baa-85d6-daf7facc4110"
      },
      "source": [
        "len(X_train)"
      ],
      "execution_count": null,
      "outputs": [
        {
          "output_type": "execute_result",
          "data": {
            "text/plain": [
              "321"
            ]
          },
          "metadata": {},
          "execution_count": 26
        }
      ]
    },
    {
      "cell_type": "code",
      "metadata": {
        "id": "9MTWzDyWF-xh"
      },
      "source": [
        "x,L = for_model_fit(X_train)"
      ],
      "execution_count": null,
      "outputs": []
    },
    {
      "cell_type": "code",
      "metadata": {
        "colab": {
          "base_uri": "https://localhost:8080/"
        },
        "id": "78FumVXwGBXI",
        "outputId": "465ef20a-ac50-479c-8942-2a1c23faeeed"
      },
      "source": [
        "len(x)"
      ],
      "execution_count": null,
      "outputs": [
        {
          "output_type": "execute_result",
          "data": {
            "text/plain": [
              "11508"
            ]
          },
          "metadata": {},
          "execution_count": 29
        }
      ]
    },
    {
      "cell_type": "code",
      "metadata": {
        "colab": {
          "base_uri": "https://localhost:8080/"
        },
        "id": "rZpf2dDXGIEi",
        "outputId": "c3b00161-c244-473f-85d0-941b43cd6774"
      },
      "source": [
        "len(L)"
      ],
      "execution_count": null,
      "outputs": [
        {
          "output_type": "execute_result",
          "data": {
            "text/plain": [
              "321"
            ]
          },
          "metadata": {},
          "execution_count": 30
        }
      ]
    },
    {
      "cell_type": "code",
      "metadata": {
        "colab": {
          "base_uri": "https://localhost:8080/"
        },
        "id": "SIHk0KueGMrr",
        "outputId": "4f5a0f9e-5890-4bf6-b8fa-ddb55c0e4c55"
      },
      "source": [
        "model = hmm.MultinomialHMM(n_components=len(uniq_label),n_iter=1000,random_state=42)\n",
        "model.fit(x,L)"
      ],
      "execution_count": null,
      "outputs": [
        {
          "output_type": "stream",
          "name": "stderr",
          "text": [
            "Fitting a model with 446626276825 free scalar parameters with only 11508 data points will result in a degenerate solution.\n"
          ]
        }
      ]
    }
  ]
}