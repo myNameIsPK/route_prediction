{
  "nbformat": 4,
  "nbformat_minor": 0,
  "metadata": {
    "colab": {
      "name": "็็hmmlearn.ipynb",
      "provenance": [],
      "toc_visible": true
    },
    "kernelspec": {
      "name": "python3",
      "display_name": "Python 3"
    },
    "language_info": {
      "name": "python"
    }
  },
  "cells": [
    {
      "cell_type": "markdown",
      "metadata": {
        "id": "Oxvd7SUPydEw"
      },
      "source": [
        "## install"
      ]
    },
    {
      "cell_type": "code",
      "metadata": {
        "colab": {
          "base_uri": "https://localhost:8080/"
        },
        "id": "9zUhzzj8yfxy",
        "outputId": "83acb894-e93e-415c-a649-7d4e86ed69fe"
      },
      "source": [
        "from google.colab import drive\n",
        "drive.mount('/content/drive')"
      ],
      "execution_count": 1,
      "outputs": [
        {
          "output_type": "stream",
          "name": "stdout",
          "text": [
            "Mounted at /content/drive\n"
          ]
        }
      ]
    },
    {
      "cell_type": "code",
      "metadata": {
        "id": "iFt3tCE-yo2w",
        "colab": {
          "base_uri": "https://localhost:8080/"
        },
        "outputId": "56ab6cc6-aade-4059-f7fd-110bb10571b0"
      },
      "source": [
        "! pip install hmmlearn"
      ],
      "execution_count": 2,
      "outputs": [
        {
          "output_type": "stream",
          "name": "stdout",
          "text": [
            "Collecting hmmlearn\n",
            "  Downloading hmmlearn-0.2.6-cp37-cp37m-manylinux_2_5_x86_64.manylinux1_x86_64.whl (374 kB)\n",
            "\u001b[?25l\r\u001b[K     |▉                               | 10 kB 26.5 MB/s eta 0:00:01\r\u001b[K     |█▊                              | 20 kB 29.3 MB/s eta 0:00:01\r\u001b[K     |██▋                             | 30 kB 19.9 MB/s eta 0:00:01\r\u001b[K     |███▌                            | 40 kB 16.6 MB/s eta 0:00:01\r\u001b[K     |████▍                           | 51 kB 8.0 MB/s eta 0:00:01\r\u001b[K     |█████▎                          | 61 kB 7.8 MB/s eta 0:00:01\r\u001b[K     |██████▏                         | 71 kB 8.2 MB/s eta 0:00:01\r\u001b[K     |███████                         | 81 kB 9.1 MB/s eta 0:00:01\r\u001b[K     |███████▉                        | 92 kB 9.4 MB/s eta 0:00:01\r\u001b[K     |████████▊                       | 102 kB 7.6 MB/s eta 0:00:01\r\u001b[K     |█████████▋                      | 112 kB 7.6 MB/s eta 0:00:01\r\u001b[K     |██████████▌                     | 122 kB 7.6 MB/s eta 0:00:01\r\u001b[K     |███████████▍                    | 133 kB 7.6 MB/s eta 0:00:01\r\u001b[K     |████████████▎                   | 143 kB 7.6 MB/s eta 0:00:01\r\u001b[K     |█████████████▏                  | 153 kB 7.6 MB/s eta 0:00:01\r\u001b[K     |██████████████                  | 163 kB 7.6 MB/s eta 0:00:01\r\u001b[K     |██████████████▉                 | 174 kB 7.6 MB/s eta 0:00:01\r\u001b[K     |███████████████▊                | 184 kB 7.6 MB/s eta 0:00:01\r\u001b[K     |████████████████▋               | 194 kB 7.6 MB/s eta 0:00:01\r\u001b[K     |█████████████████▌              | 204 kB 7.6 MB/s eta 0:00:01\r\u001b[K     |██████████████████▍             | 215 kB 7.6 MB/s eta 0:00:01\r\u001b[K     |███████████████████▎            | 225 kB 7.6 MB/s eta 0:00:01\r\u001b[K     |████████████████████            | 235 kB 7.6 MB/s eta 0:00:01\r\u001b[K     |█████████████████████           | 245 kB 7.6 MB/s eta 0:00:01\r\u001b[K     |█████████████████████▉          | 256 kB 7.6 MB/s eta 0:00:01\r\u001b[K     |██████████████████████▊         | 266 kB 7.6 MB/s eta 0:00:01\r\u001b[K     |███████████████████████▋        | 276 kB 7.6 MB/s eta 0:00:01\r\u001b[K     |████████████████████████▌       | 286 kB 7.6 MB/s eta 0:00:01\r\u001b[K     |█████████████████████████▍      | 296 kB 7.6 MB/s eta 0:00:01\r\u001b[K     |██████████████████████████▎     | 307 kB 7.6 MB/s eta 0:00:01\r\u001b[K     |███████████████████████████     | 317 kB 7.6 MB/s eta 0:00:01\r\u001b[K     |████████████████████████████    | 327 kB 7.6 MB/s eta 0:00:01\r\u001b[K     |████████████████████████████▉   | 337 kB 7.6 MB/s eta 0:00:01\r\u001b[K     |█████████████████████████████▊  | 348 kB 7.6 MB/s eta 0:00:01\r\u001b[K     |██████████████████████████████▋ | 358 kB 7.6 MB/s eta 0:00:01\r\u001b[K     |███████████████████████████████▌| 368 kB 7.6 MB/s eta 0:00:01\r\u001b[K     |████████████████████████████████| 374 kB 7.6 MB/s \n",
            "\u001b[?25hRequirement already satisfied: scipy>=0.19 in /usr/local/lib/python3.7/dist-packages (from hmmlearn) (1.4.1)\n",
            "Requirement already satisfied: scikit-learn>=0.16 in /usr/local/lib/python3.7/dist-packages (from hmmlearn) (0.22.2.post1)\n",
            "Requirement already satisfied: numpy>=1.10 in /usr/local/lib/python3.7/dist-packages (from hmmlearn) (1.19.5)\n",
            "Requirement already satisfied: joblib>=0.11 in /usr/local/lib/python3.7/dist-packages (from scikit-learn>=0.16->hmmlearn) (1.1.0)\n",
            "Installing collected packages: hmmlearn\n",
            "Successfully installed hmmlearn-0.2.6\n"
          ]
        }
      ]
    },
    {
      "cell_type": "code",
      "metadata": {
        "id": "sv6nTfIlyoT1"
      },
      "source": [
        "import pandas as pd\n",
        "import numpy as np\n",
        "import matplotlib.pyplot as plt\n",
        "from hmmlearn import hmm,base\n",
        "from sklearn import preprocessing\n",
        "import math"
      ],
      "execution_count": 28,
      "outputs": []
    },
    {
      "cell_type": "markdown",
      "metadata": {
        "id": "Vc3NJ3dz1FXy"
      },
      "source": [
        "#implement model"
      ]
    },
    {
      "cell_type": "markdown",
      "metadata": {
        "id": "u6_n0YbFRHgC"
      },
      "source": [
        "## encode"
      ]
    },
    {
      "cell_type": "code",
      "metadata": {
        "colab": {
          "base_uri": "https://localhost:8080/"
        },
        "id": "h3E4k6EbRKQT",
        "outputId": "ecb56ddc-c625-4c18-e982-e932b4e85096"
      },
      "source": [
        "le = preprocessing.LabelEncoder()\n",
        "le.fit(['hot', 'cold'])"
      ],
      "execution_count": 4,
      "outputs": [
        {
          "output_type": "execute_result",
          "data": {
            "text/plain": [
              "LabelEncoder()"
            ]
          },
          "metadata": {},
          "execution_count": 4
        }
      ]
    },
    {
      "cell_type": "code",
      "metadata": {
        "colab": {
          "base_uri": "https://localhost:8080/"
        },
        "id": "wE2-CE-aRYVg",
        "outputId": "ee474fc0-4ec6-4b9c-9d72-9ff4569c844e"
      },
      "source": [
        "le.classes_"
      ],
      "execution_count": 5,
      "outputs": [
        {
          "output_type": "execute_result",
          "data": {
            "text/plain": [
              "array(['cold', 'hot'], dtype='<U4')"
            ]
          },
          "metadata": {},
          "execution_count": 5
        }
      ]
    },
    {
      "cell_type": "code",
      "metadata": {
        "colab": {
          "base_uri": "https://localhost:8080/"
        },
        "id": "6hbsSpYoRY61",
        "outputId": "4508098e-7b91-40f8-82f7-e1b8adb22d64"
      },
      "source": [
        "le.transform(['hot', 'hot', 'cold'])"
      ],
      "execution_count": 6,
      "outputs": [
        {
          "output_type": "execute_result",
          "data": {
            "text/plain": [
              "array([1, 1, 0])"
            ]
          },
          "metadata": {},
          "execution_count": 6
        }
      ]
    },
    {
      "cell_type": "code",
      "metadata": {
        "colab": {
          "base_uri": "https://localhost:8080/"
        },
        "id": "1yZcTlVgRqnQ",
        "outputId": "eaef8818-2f01-4c37-ecf3-f4a2781445cf"
      },
      "source": [
        "le.inverse_transform([1, 1, 0])"
      ],
      "execution_count": 7,
      "outputs": [
        {
          "output_type": "execute_result",
          "data": {
            "text/plain": [
              "array(['hot', 'hot', 'cold'], dtype='<U4')"
            ]
          },
          "metadata": {},
          "execution_count": 7
        }
      ]
    },
    {
      "cell_type": "markdown",
      "metadata": {
        "id": "FplcE03JfYjE"
      },
      "source": [
        "##State"
      ]
    },
    {
      "cell_type": "code",
      "metadata": {
        "colab": {
          "base_uri": "https://localhost:8080/"
        },
        "id": "ZbOxSXMBfbdH",
        "outputId": "b82764c3-0647-4af0-ec22-1c0023ff8424"
      },
      "source": [
        "states = [\"hot\", \"cold\"]\n",
        "n_states = len(states)\n",
        "le = preprocessing.LabelEncoder()\n",
        "le.fit(states)"
      ],
      "execution_count": 8,
      "outputs": [
        {
          "output_type": "execute_result",
          "data": {
            "text/plain": [
              "LabelEncoder()"
            ]
          },
          "metadata": {},
          "execution_count": 8
        }
      ]
    },
    {
      "cell_type": "markdown",
      "metadata": {
        "id": "GLVwgTXLfsPX"
      },
      "source": [
        "##observation for train"
      ]
    },
    {
      "cell_type": "code",
      "metadata": {
        "id": "Pid6sA-8Irf-"
      },
      "source": [
        "X1 = np.array([3,3,2])\n",
        "X2 = np.array([1,1,2])\n",
        "X3 = np.array([1,2,3])\n",
        "\n",
        "X = np.concatenate([X1.reshape(3,1), X2.reshape(3,1),X3.reshape(3,1)])\n",
        "lengths = [len(X1), len(X2),len(X3)]"
      ],
      "execution_count": 9,
      "outputs": []
    },
    {
      "cell_type": "markdown",
      "metadata": {
        "id": "5P4JhXh9JRXL"
      },
      "source": [
        "##Multinomial HMM "
      ]
    },
    {
      "cell_type": "markdown",
      "metadata": {
        "id": "pV3WxwcbGlQw"
      },
      "source": [
        "###inital model"
      ]
    },
    {
      "cell_type": "code",
      "metadata": {
        "id": "pmRrcKy8JcIU"
      },
      "source": [
        "startprob = np.array([1/3,2/3])\n",
        "tranprob = np.array([[1/3,2/3],[1/3,2/3]])"
      ],
      "execution_count": 10,
      "outputs": []
    },
    {
      "cell_type": "code",
      "metadata": {
        "id": "gFUvqGxPJiQM"
      },
      "source": [
        "Multi = hmm.MultinomialHMM(n_components=2,n_iter=10,random_state=100)"
      ],
      "execution_count": 11,
      "outputs": []
    },
    {
      "cell_type": "code",
      "metadata": {
        "colab": {
          "base_uri": "https://localhost:8080/"
        },
        "id": "4Y-eSQa_J1Wc",
        "outputId": "896d2c90-89ce-413f-cb20-51fe41a26568"
      },
      "source": [
        "Multi.fit(X,lengths)"
      ],
      "execution_count": 12,
      "outputs": [
        {
          "output_type": "execute_result",
          "data": {
            "text/plain": [
              "MultinomialHMM(algorithm='viterbi', init_params='ste', n_components=2,\n",
              "               n_iter=10, params='ste',\n",
              "               random_state=RandomState(MT19937) at 0x7F3494A06490,\n",
              "               startprob_prior=1.0, tol=0.01, transmat_prior=1.0,\n",
              "               verbose=False)"
            ]
          },
          "metadata": {},
          "execution_count": 12
        }
      ]
    },
    {
      "cell_type": "code",
      "metadata": {
        "colab": {
          "base_uri": "https://localhost:8080/"
        },
        "id": "n1ziAJv0v_7j",
        "outputId": "04e82cdc-66e8-4af4-87ea-f744e7570ccf"
      },
      "source": [
        "Multi.monitor_.converged"
      ],
      "execution_count": 13,
      "outputs": [
        {
          "output_type": "execute_result",
          "data": {
            "text/plain": [
              "True"
            ]
          },
          "metadata": {},
          "execution_count": 13
        }
      ]
    },
    {
      "cell_type": "code",
      "metadata": {
        "colab": {
          "base_uri": "https://localhost:8080/"
        },
        "id": "a-pw8H90KVqg",
        "outputId": "58fe60e0-d0d1-4d5d-e2a1-f240a11059b5"
      },
      "source": [
        "Multi.n_features"
      ],
      "execution_count": 14,
      "outputs": [
        {
          "output_type": "execute_result",
          "data": {
            "text/plain": [
              "4"
            ]
          },
          "metadata": {},
          "execution_count": 14
        }
      ]
    },
    {
      "cell_type": "code",
      "metadata": {
        "colab": {
          "base_uri": "https://localhost:8080/"
        },
        "id": "cFyUIVW6Kc14",
        "outputId": "580ce5bb-3c5b-48bb-a81f-79a991f49201"
      },
      "source": [
        "Multi.transmat_"
      ],
      "execution_count": 15,
      "outputs": [
        {
          "output_type": "execute_result",
          "data": {
            "text/plain": [
              "array([[0.24521003, 0.75478997],\n",
              "       [0.00170301, 0.99829699]])"
            ]
          },
          "metadata": {},
          "execution_count": 15
        }
      ]
    },
    {
      "cell_type": "code",
      "metadata": {
        "colab": {
          "base_uri": "https://localhost:8080/"
        },
        "id": "4Lx0pySBKd3b",
        "outputId": "f557a1a2-7111-4b02-defc-c5ae8d539c92"
      },
      "source": [
        "Multi.emissionprob_"
      ],
      "execution_count": 16,
      "outputs": [
        {
          "output_type": "execute_result",
          "data": {
            "text/plain": [
              "array([[0.00000000e+00, 7.06963478e-01, 8.78575580e-05, 2.92948664e-01],\n",
              "       [0.00000000e+00, 3.81979847e-02, 5.96568303e-01, 3.65233713e-01]])"
            ]
          },
          "metadata": {},
          "execution_count": 16
        }
      ]
    },
    {
      "cell_type": "markdown",
      "metadata": {
        "id": "v51GdLL8GuCG"
      },
      "source": [
        "###observation for test"
      ]
    },
    {
      "cell_type": "code",
      "metadata": {
        "colab": {
          "base_uri": "https://localhost:8080/"
        },
        "id": "9aA9OqEdLAi1",
        "outputId": "5cf6babc-c8eb-44b6-9c93-c9fced594a2e"
      },
      "source": [
        "ob = np.array([1,2,3]).reshape(3,1)\n",
        "ob"
      ],
      "execution_count": 18,
      "outputs": [
        {
          "output_type": "execute_result",
          "data": {
            "text/plain": [
              "array([[1],\n",
              "       [2],\n",
              "       [3]])"
            ]
          },
          "metadata": {},
          "execution_count": 18
        }
      ]
    },
    {
      "cell_type": "markdown",
      "metadata": {
        "id": "mvEMHKbGG9PB"
      },
      "source": [
        "### predict"
      ]
    },
    {
      "cell_type": "code",
      "metadata": {
        "colab": {
          "base_uri": "https://localhost:8080/"
        },
        "id": "osMPyk9xM-Pg",
        "outputId": "537b4d25-1a66-4e62-a96c-83b0e35f62cf"
      },
      "source": [
        "Multi.decode(ob)"
      ],
      "execution_count": 24,
      "outputs": [
        {
          "output_type": "execute_result",
          "data": {
            "text/plain": [
              "(-2.15513421881006, array([0, 1, 1], dtype=int32))"
            ]
          },
          "metadata": {},
          "execution_count": 24
        }
      ]
    },
    {
      "cell_type": "code",
      "metadata": {
        "colab": {
          "base_uri": "https://localhost:8080/"
        },
        "id": "tsa2jmb4LvzF",
        "outputId": "7f15defe-644e-47b0-b7fa-98e1d38e4ade"
      },
      "source": [
        "Multi.predict(ob)"
      ],
      "execution_count": 19,
      "outputs": [
        {
          "output_type": "execute_result",
          "data": {
            "text/plain": [
              "array([0, 1, 1], dtype=int32)"
            ]
          },
          "metadata": {},
          "execution_count": 19
        }
      ]
    },
    {
      "cell_type": "code",
      "metadata": {
        "colab": {
          "base_uri": "https://localhost:8080/"
        },
        "id": "cQIwSfw7HC3q",
        "outputId": "b5d6cfea-74d0-4093-d13e-1c58c571880b"
      },
      "source": [
        "le.inverse_transform(Multi.predict(ob))"
      ],
      "execution_count": 20,
      "outputs": [
        {
          "output_type": "execute_result",
          "data": {
            "text/plain": [
              "array(['cold', 'hot', 'hot'], dtype='<U4')"
            ]
          },
          "metadata": {},
          "execution_count": 20
        }
      ]
    },
    {
      "cell_type": "code",
      "metadata": {
        "colab": {
          "base_uri": "https://localhost:8080/"
        },
        "id": "PaSSgYl4MBhX",
        "outputId": "7f028251-44fc-4b3e-bc1a-c91f3655e15e"
      },
      "source": [
        "Multi.predict_proba(ob)"
      ],
      "execution_count": 21,
      "outputs": [
        {
          "output_type": "execute_result",
          "data": {
            "text/plain": [
              "array([[9.99888566e-01, 1.11434488e-04],\n",
              "       [4.55307033e-05, 9.99954469e-01],\n",
              "       [1.37576835e-03, 9.98624232e-01]])"
            ]
          },
          "metadata": {},
          "execution_count": 21
        }
      ]
    },
    {
      "cell_type": "code",
      "metadata": {
        "colab": {
          "base_uri": "https://localhost:8080/"
        },
        "id": "nYg2peO1Mi-N",
        "outputId": "14557f08-772b-4ec5-8802-88040246b5aa"
      },
      "source": [
        "Multi.score(ob)"
      ],
      "execution_count": 32,
      "outputs": [
        {
          "output_type": "execute_result",
          "data": {
            "text/plain": [
              "-2.153609888064929"
            ]
          },
          "metadata": {},
          "execution_count": 32
        }
      ]
    }
  ]
}