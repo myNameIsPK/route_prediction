{
  "nbformat": 4,
  "nbformat_minor": 0,
  "metadata": {
    "colab": {
      "name": "4_test_quickbundle_model_training.ipynb",
      "provenance": [],
      "collapsed_sections": [],
      "toc_visible": true
    },
    "kernelspec": {
      "name": "python3",
      "display_name": "Python 3"
    },
    "language_info": {
      "name": "python"
    }
  },
  "cells": [
    {
      "cell_type": "code",
      "metadata": {
        "id": "PKN3DKBMMliF",
        "colab": {
          "base_uri": "https://localhost:8080/"
        },
        "outputId": "286826fa-2d1d-4f2c-97fa-1633c6101950"
      },
      "source": [
        "from google.colab import drive\n",
        "drive.mount('/content/drive')"
      ],
      "execution_count": 1,
      "outputs": [
        {
          "output_type": "stream",
          "name": "stdout",
          "text": [
            "Mounted at /content/drive\n"
          ]
        }
      ]
    },
    {
      "cell_type": "code",
      "metadata": {
        "id": "_txIYJsKkI6q",
        "colab": {
          "base_uri": "https://localhost:8080/",
          "height": 458
        },
        "outputId": "64bef919-965c-48ec-a70f-5642fde31cdc"
      },
      "source": [
        "pip install pomegranate"
      ],
      "execution_count": 2,
      "outputs": [
        {
          "output_type": "stream",
          "name": "stdout",
          "text": [
            "Collecting pomegranate\n",
            "  Downloading pomegranate-0.14.6-cp37-cp37m-manylinux2010_x86_64.whl (17.9 MB)\n",
            "\u001b[K     |████████████████████████████████| 17.9 MB 118 kB/s \n",
            "\u001b[?25hRequirement already satisfied: scipy>=0.17.0 in /usr/local/lib/python3.7/dist-packages (from pomegranate) (1.4.1)\n",
            "Requirement already satisfied: pyyaml in /usr/local/lib/python3.7/dist-packages (from pomegranate) (3.13)\n",
            "Requirement already satisfied: joblib>=0.9.0b4 in /usr/local/lib/python3.7/dist-packages (from pomegranate) (1.0.1)\n",
            "Requirement already satisfied: networkx>=2.4 in /usr/local/lib/python3.7/dist-packages (from pomegranate) (2.6.3)\n",
            "Collecting numpy>=1.20.0\n",
            "  Downloading numpy-1.21.3-cp37-cp37m-manylinux_2_12_x86_64.manylinux2010_x86_64.whl (15.7 MB)\n",
            "\u001b[K     |████████████████████████████████| 15.7 MB 58 kB/s \n",
            "\u001b[?25hInstalling collected packages: numpy, pomegranate\n",
            "  Attempting uninstall: numpy\n",
            "    Found existing installation: numpy 1.19.5\n",
            "    Uninstalling numpy-1.19.5:\n",
            "      Successfully uninstalled numpy-1.19.5\n",
            "\u001b[31mERROR: pip's dependency resolver does not currently take into account all the packages that are installed. This behaviour is the source of the following dependency conflicts.\n",
            "tensorflow 2.6.0 requires numpy~=1.19.2, but you have numpy 1.21.3 which is incompatible.\n",
            "datascience 0.10.6 requires folium==0.2.1, but you have folium 0.8.3 which is incompatible.\n",
            "albumentations 0.1.12 requires imgaug<0.2.7,>=0.2.5, but you have imgaug 0.2.9 which is incompatible.\u001b[0m\n",
            "Successfully installed numpy-1.21.3 pomegranate-0.14.6\n"
          ]
        },
        {
          "output_type": "display_data",
          "data": {
            "application/vnd.colab-display-data+json": {
              "pip_warning": {
                "packages": [
                  "numpy"
                ]
              }
            }
          },
          "metadata": {}
        }
      ]
    },
    {
      "cell_type": "code",
      "metadata": {
        "id": "sQjtIDOERDVY",
        "colab": {
          "base_uri": "https://localhost:8080/"
        },
        "outputId": "6806112b-9f94-4f5b-ab19-61b3fd6e54d5"
      },
      "source": [
        "!pip install dipy"
      ],
      "execution_count": 1,
      "outputs": [
        {
          "output_type": "stream",
          "name": "stdout",
          "text": [
            "Requirement already satisfied: dipy in /usr/local/lib/python3.7/dist-packages (1.4.1)\n",
            "Requirement already satisfied: h5py>=2.5.0 in /usr/local/lib/python3.7/dist-packages (from dipy) (3.1.0)\n",
            "Requirement already satisfied: scipy>=1.0 in /usr/local/lib/python3.7/dist-packages (from dipy) (1.4.1)\n",
            "Requirement already satisfied: tqdm>=4.30.0 in /usr/local/lib/python3.7/dist-packages (from dipy) (4.62.3)\n",
            "Requirement already satisfied: nibabel>=3.0.0 in /usr/local/lib/python3.7/dist-packages (from dipy) (3.0.2)\n",
            "Requirement already satisfied: cached-property in /usr/local/lib/python3.7/dist-packages (from h5py>=2.5.0->dipy) (1.5.2)\n",
            "Requirement already satisfied: numpy>=1.14.5 in /usr/local/lib/python3.7/dist-packages (from h5py>=2.5.0->dipy) (1.21.3)\n"
          ]
        }
      ]
    },
    {
      "cell_type": "code",
      "metadata": {
        "id": "osFcZ2TXMt1m"
      },
      "source": [
        "import pandas as pd\n",
        "import numpy as np\n",
        "import matplotlib.pyplot as plt\n",
        "# import plotly_express as px\n",
        "# px.set_mapbox_access_token(\"pk.eyJ1Ijoic2hha2Fzb20iLCJhIjoiY2plMWg1NGFpMXZ5NjJxbjhlM2ttN3AwbiJ9.RtGYHmreKiyBfHuElgYq_w\")"
      ],
      "execution_count": 2,
      "outputs": []
    },
    {
      "cell_type": "code",
      "metadata": {
        "id": "-SSdNk2zNBH7"
      },
      "source": [
        "road_data_path = '/content/drive/My Drive/2021 Route Prediction/Project-1/Source-Code/data/route_network/clustered'\n",
        "trips_cluster_data_path = '/content/drive/My Drive/2021 Route Prediction/Project-1/Source-Code/data/3.2_wayid_on_trips'\n",
        "train_path = '/content/drive/My Drive/2021 Route Prediction/Project-1/Source-Code/model/3.2'"
      ],
      "execution_count": 3,
      "outputs": []
    },
    {
      "cell_type": "code",
      "metadata": {
        "id": "06-moRyQRGwm"
      },
      "source": [
        "# data_path = '/content/drive/My Drive/Colab Notebooks/RoutePredict/Data'\n",
        "# module_path = '/content/drive/My Drive/Colab Notebooks/RoutePredict/Module'"
      ],
      "execution_count": null,
      "outputs": []
    },
    {
      "cell_type": "markdown",
      "metadata": {
        "id": "aGN9C0wLmmAY"
      },
      "source": [
        "# cross validation"
      ]
    },
    {
      "cell_type": "code",
      "metadata": {
        "colab": {
          "base_uri": "https://localhost:8080/",
          "height": 237
        },
        "id": "dI4jaV4VndXf",
        "outputId": "62431ec0-0892-4a50-edda-ca9325b0ae6d"
      },
      "source": [
        "dfs = []\n",
        "day_len = []\n",
        "day_trip_count = []\n",
        "# days = range(1,32)\n",
        "days = range(1,2)\n",
        "# months = range(1,4)\n",
        "months = range(1,2)\n",
        "\n",
        "for month in months:\n",
        "  for day in days:\n",
        "    try:\n",
        "      sp_seq_df = pd.read_csv(trips_cluster_data_path + f'/lebeled/testtrips_2019_{month}_{day}.csv', parse_dates=['time_stamp'])\n",
        "    except:\n",
        "      pass\n",
        "\n",
        "    sp_seq_df = sp_seq_df.sort_values(by=['trip_id', 'time_stamp'])\n",
        "\n",
        "    trip_count = sp_seq_df.trip_id.value_counts()\n",
        "    trip_count = trip_count[trip_count >= 12]\n",
        "    sp_seq_df = sp_seq_df[sp_seq_df.trip_id.isin(trip_count.index)]\n",
        "    sp_seq_df['month'] = month\n",
        "    sp_seq_df['day'] = day\n",
        "    day_len.append(len(sp_seq_df))\n",
        "    day_trip_count.append(len(trip_count))\n",
        "    dfs.append(sp_seq_df)\n",
        "print(day_len)\n",
        "print(day_trip_count)\n",
        "df = pd.concat(dfs, ignore_index=True)\n",
        "df\n",
        "\n",
        "# df = df[['trip_id', 'way_id', 'day', 'month','route_cluster']]\n",
        "df.head()"
      ],
      "execution_count": 4,
      "outputs": [
        {
          "output_type": "stream",
          "name": "stdout",
          "text": [
            "[12599]\n",
            "[356]\n"
          ]
        },
        {
          "output_type": "execute_result",
          "data": {
            "text/html": [
              "<div>\n",
              "<style scoped>\n",
              "    .dataframe tbody tr th:only-of-type {\n",
              "        vertical-align: middle;\n",
              "    }\n",
              "\n",
              "    .dataframe tbody tr th {\n",
              "        vertical-align: top;\n",
              "    }\n",
              "\n",
              "    .dataframe thead th {\n",
              "        text-align: right;\n",
              "    }\n",
              "</style>\n",
              "<table border=\"1\" class=\"dataframe\">\n",
              "  <thead>\n",
              "    <tr style=\"text-align: right;\">\n",
              "      <th></th>\n",
              "      <th>time_stamp</th>\n",
              "      <th>unit_id</th>\n",
              "      <th>lat</th>\n",
              "      <th>lon</th>\n",
              "      <th>speed</th>\n",
              "      <th>unit_type</th>\n",
              "      <th>trip_id</th>\n",
              "      <th>way_id</th>\n",
              "      <th>dist</th>\n",
              "      <th>route_cluster</th>\n",
              "      <th>month</th>\n",
              "      <th>day</th>\n",
              "    </tr>\n",
              "  </thead>\n",
              "  <tbody>\n",
              "    <tr>\n",
              "      <th>0</th>\n",
              "      <td>2019-01-01 00:00:39</td>\n",
              "      <td>016000200000352253062499073</td>\n",
              "      <td>17.49378</td>\n",
              "      <td>102.79729</td>\n",
              "      <td>0</td>\n",
              "      <td>6.0</td>\n",
              "      <td>1</td>\n",
              "      <td>686967969</td>\n",
              "      <td>0.015018</td>\n",
              "      <td>1.0</td>\n",
              "      <td>1</td>\n",
              "      <td>1</td>\n",
              "    </tr>\n",
              "    <tr>\n",
              "      <th>1</th>\n",
              "      <td>2019-01-01 04:26:59</td>\n",
              "      <td>016000200000352253062499073</td>\n",
              "      <td>17.53611</td>\n",
              "      <td>102.75656</td>\n",
              "      <td>53</td>\n",
              "      <td>6.0</td>\n",
              "      <td>1</td>\n",
              "      <td>686957536</td>\n",
              "      <td>0.004565</td>\n",
              "      <td>9.0</td>\n",
              "      <td>1</td>\n",
              "      <td>1</td>\n",
              "    </tr>\n",
              "    <tr>\n",
              "      <th>2</th>\n",
              "      <td>2019-01-01 04:29:39</td>\n",
              "      <td>016000200000352253062499073</td>\n",
              "      <td>17.54386</td>\n",
              "      <td>102.73553</td>\n",
              "      <td>54</td>\n",
              "      <td>6.0</td>\n",
              "      <td>1</td>\n",
              "      <td>686912257</td>\n",
              "      <td>0.001649</td>\n",
              "      <td>10.0</td>\n",
              "      <td>1</td>\n",
              "      <td>1</td>\n",
              "    </tr>\n",
              "    <tr>\n",
              "      <th>3</th>\n",
              "      <td>2019-01-01 04:32:39</td>\n",
              "      <td>016000200000352253062499073</td>\n",
              "      <td>17.55281</td>\n",
              "      <td>102.71174</td>\n",
              "      <td>56</td>\n",
              "      <td>6.0</td>\n",
              "      <td>1</td>\n",
              "      <td>686911019</td>\n",
              "      <td>0.011723</td>\n",
              "      <td>10.0</td>\n",
              "      <td>1</td>\n",
              "      <td>1</td>\n",
              "    </tr>\n",
              "    <tr>\n",
              "      <th>4</th>\n",
              "      <td>2019-01-01 04:35:59</td>\n",
              "      <td>016000200000352253062499073</td>\n",
              "      <td>17.56263</td>\n",
              "      <td>102.68405</td>\n",
              "      <td>54</td>\n",
              "      <td>6.0</td>\n",
              "      <td>1</td>\n",
              "      <td>686910206</td>\n",
              "      <td>0.014603</td>\n",
              "      <td>10.0</td>\n",
              "      <td>1</td>\n",
              "      <td>1</td>\n",
              "    </tr>\n",
              "  </tbody>\n",
              "</table>\n",
              "</div>"
            ],
            "text/plain": [
              "           time_stamp                      unit_id  ...  month  day\n",
              "0 2019-01-01 00:00:39  016000200000352253062499073  ...      1    1\n",
              "1 2019-01-01 04:26:59  016000200000352253062499073  ...      1    1\n",
              "2 2019-01-01 04:29:39  016000200000352253062499073  ...      1    1\n",
              "3 2019-01-01 04:32:39  016000200000352253062499073  ...      1    1\n",
              "4 2019-01-01 04:35:59  016000200000352253062499073  ...      1    1\n",
              "\n",
              "[5 rows x 12 columns]"
            ]
          },
          "metadata": {},
          "execution_count": 4
        }
      ]
    },
    {
      "cell_type": "code",
      "metadata": {
        "colab": {
          "base_uri": "https://localhost:8080/"
        },
        "id": "2GPVXXlwBNLl",
        "outputId": "094ddd6d-b836-4936-efa1-134e27054967"
      },
      "source": [
        "len(pd.unique(df.way_id))"
      ],
      "execution_count": 5,
      "outputs": [
        {
          "output_type": "execute_result",
          "data": {
            "text/plain": [
              "1776"
            ]
          },
          "metadata": {},
          "execution_count": 5
        }
      ]
    },
    {
      "cell_type": "markdown",
      "metadata": {
        "id": "h_rtD1f2Rka-"
      },
      "source": [
        "## get rid of mini cluster"
      ]
    },
    {
      "cell_type": "code",
      "metadata": {
        "id": "_pkXGWJxRri4",
        "colab": {
          "base_uri": "https://localhost:8080/"
        },
        "outputId": "f4e214e9-ef49-45cf-f76b-d5d521498297"
      },
      "source": [
        "import collections\n",
        "import pickle\n",
        "\n",
        "# pkl_filename = train_path+\"/QBcluster_test_way_treshold12.pkl\"\n",
        "pkl_filename = train_path+\"/QBcluster_test_way_treshold24.pkl\"\n",
        "with open(pkl_filename, 'rb') as file:\n",
        "    clusters = pickle.load(file)\n",
        "\n",
        "print(\"Nb. clusters:\", len(clusters))\n",
        "print(\"Cluster sizes:\", map(len, clusters))\n",
        "print(\"Small clusters:\", collections.Counter(clusters < 2)[True], end=' ')\n",
        "print(\"Small clusters:\", clusters < 2)\n",
        "print(\"Streamlines indices of the first cluster:\\n\", clusters[0].indices)\n",
        "# print(\"Centroid of the last cluster:\\n\", clusters[-1].centroid)\n",
        "\n",
        "is_mini_cluster = (clusters == 1)\n",
        "\n",
        "mini_cluster = []\n",
        "for ci in range(0, len(is_mini_cluster)):\n",
        "  if is_mini_cluster[ci]:\n",
        "    mini_cluster.append(ci)\n",
        "print(len(mini_cluster)) \n",
        "\n",
        "df.loc[df.route_cluster.isin(mini_cluster), 'route_cluster'] = -1\n",
        "df.loc[df.route_cluster == -1].way_id.value_counts()"
      ],
      "execution_count": 15,
      "outputs": [
        {
          "output_type": "stream",
          "name": "stdout",
          "text": [
            "Nb. clusters: 547\n",
            "Cluster sizes: <map object at 0x7f4598046850>\n",
            "Small clusters: 241 Small clusters: [False False False False False False False False False False False False\n",
            " False False  True False False False False False False False False False\n",
            " False False False False False False False False False False False False\n",
            " False False False False False False False False False False False False\n",
            " False False False  True False False False False False False False False\n",
            " False False False False False False False False False  True False False\n",
            " False False False False False False False False False False False False\n",
            " False False False False False False False False False False False False\n",
            " False False False False False  True False False False False False False\n",
            " False False False False False False False False False False  True False\n",
            " False False False False  True False False False False False False False\n",
            "  True False  True  True False False  True False  True False False False\n",
            " False False False False False False False  True False  True False False\n",
            " False False  True False False False  True False False False False False\n",
            " False False  True False False False  True False False  True False False\n",
            " False  True False False False False False False False False False False\n",
            " False  True False False False False False False  True False False False\n",
            " False  True False  True False False False False  True False False False\n",
            " False False  True  True False False  True False  True False  True False\n",
            " False  True  True False False False False False False  True False False\n",
            " False False  True False False False  True False False  True  True False\n",
            "  True False  True False False False False  True False False False False\n",
            " False False False False  True  True  True  True  True  True  True False\n",
            " False False  True  True False False False  True  True False False False\n",
            " False False False False  True False  True  True  True  True  True  True\n",
            " False  True  True False  True False False False False False False False\n",
            " False  True  True  True False  True False False False False False  True\n",
            " False  True False  True  True  True  True  True False  True  True  True\n",
            "  True False False False False  True  True False  True  True  True  True\n",
            " False False  True False  True False False False  True  True False  True\n",
            "  True False False False  True False  True  True  True  True False  True\n",
            "  True  True  True False  True False False  True False  True False  True\n",
            " False  True  True  True  True  True  True  True  True  True  True  True\n",
            "  True  True  True  True  True False  True  True  True  True False  True\n",
            "  True  True  True  True  True  True False False False False  True False\n",
            " False  True False  True False  True  True False  True  True  True  True\n",
            " False  True  True  True False  True  True  True False  True  True  True\n",
            "  True  True  True  True  True  True  True  True  True  True False  True\n",
            " False  True  True  True  True  True  True  True  True False  True  True\n",
            "  True  True  True  True False  True  True  True  True  True  True  True\n",
            "  True False  True  True  True  True  True  True  True  True  True  True\n",
            "  True  True  True  True  True  True  True  True  True  True False  True\n",
            " False  True  True  True  True  True  True  True  True  True  True  True\n",
            "  True  True  True  True  True  True  True  True  True  True  True  True\n",
            "  True  True  True  True  True  True  True  True  True  True  True  True\n",
            "  True  True  True  True  True  True  True]\n",
            "Streamlines indices of the first cluster:\n",
            " [0, 201, 732, 907, 1859, 2711, 2785, 3318, 3572]\n",
            "241\n"
          ]
        },
        {
          "output_type": "execute_result",
          "data": {
            "text/plain": [
              "82585529     77\n",
              "82374801     64\n",
              "775708651    55\n",
              "43344864     30\n",
              "150586957    26\n",
              "             ..\n",
              "938366234     1\n",
              "117824530     1\n",
              "906768967     1\n",
              "110678834     1\n",
              "383231162     1\n",
              "Name: way_id, Length: 1183, dtype: int64"
            ]
          },
          "metadata": {},
          "execution_count": 15
        }
      ]
    },
    {
      "cell_type": "markdown",
      "metadata": {
        "id": "eCmQ_WFzSTQO"
      },
      "source": [
        "## X and Label shuffle"
      ]
    },
    {
      "cell_type": "code",
      "metadata": {
        "id": "MmY80CYrSUaQ",
        "colab": {
          "base_uri": "https://localhost:8080/"
        },
        "outputId": "3e2d6d96-bab4-4a2b-aaa8-c16d2961146f"
      },
      "source": [
        "state_names = []\n",
        "uniq_r_cluster = df.route_cluster.unique()\n",
        "for cluster in uniq_r_cluster:\n",
        "  state_names.append(str(cluster))\n",
        "state_names[:5]\n",
        "\n",
        "X = []\n",
        "labels = []\n",
        "for month in months:\n",
        "  for day in days:\n",
        "    day_df = df[(df.day == day) & (df.month == month)]\n",
        "    uniq_trips = day_df.trip_id.unique()\n",
        "    for trip_id in uniq_trips:\n",
        "      trip = day_df[day_df.trip_id==trip_id]\n",
        "      X.append(trip.way_id.to_numpy().astype(str))\n",
        "      # labels.append(['None-start']+[str(l) for l in trip.route_cluster.to_list()])\n",
        "      labels.append([str(l) for l in trip.route_cluster.to_list()])\n",
        "print(X[0][:5])\n",
        "print(labels[0][:5])\n",
        "print(len(X))\n",
        "print(len(labels))"
      ],
      "execution_count": 16,
      "outputs": [
        {
          "output_type": "stream",
          "name": "stdout",
          "text": [
            "['686967969' '686957536' '686912257' '686911019' '686910206']\n",
            "['1.0', '9.0', '10.0', '10.0', '10.0']\n",
            "356\n",
            "356\n"
          ]
        }
      ]
    },
    {
      "cell_type": "code",
      "metadata": {
        "id": "29VIiTClSvyF",
        "colab": {
          "base_uri": "https://localhost:8080/"
        },
        "outputId": "91c0d5ba-6875-41b8-8123-efaae8d21642"
      },
      "source": [
        "import random\n",
        "random.seed(42)\n",
        "\n",
        "X2 = X.copy()\n",
        "labels2 = labels.copy()\n",
        "\n",
        "temp = list(zip(X2, labels2))\n",
        "random.shuffle(temp)\n",
        "X2, labels2 = zip(*temp)\n",
        "X2 = list(X2)\n",
        "labels2 = list(labels2)\n",
        "\n",
        "print(X[0][:5])\n",
        "print(X2[0][:5])\n",
        "\n",
        "print(labels[0][:5])\n",
        "print(labels2[0][:5])"
      ],
      "execution_count": 17,
      "outputs": [
        {
          "output_type": "stream",
          "name": "stdout",
          "text": [
            "['686967969' '686957536' '686912257' '686911019' '686910206']\n",
            "['817644082' '81349795' '575226821' '160728583' '160728584']\n",
            "['1.0', '9.0', '10.0', '10.0', '10.0']\n",
            "['-1.0', '724.0', '724.0', '724.0', '-1.0']\n"
          ]
        }
      ]
    },
    {
      "cell_type": "markdown",
      "metadata": {
        "id": "xPQvJ4-9S-SF"
      },
      "source": [
        "## train and test 10-fold cross validata"
      ]
    },
    {
      "cell_type": "code",
      "metadata": {
        "id": "R_x-sm8zTBQO"
      },
      "source": [
        "from collections import Counter\n",
        "import pickle\n",
        "\n",
        "# road_df = pd.read_csv(road_data_path+\"/route_network_with_cluster.csv\")\n",
        "\n",
        "# cluster_df = road_df[['cluster', 'center_lat', 'center_lon']]\n",
        "# cluster_df = cluster_df.drop_duplicates()\n",
        "# cluster_df.rename(columns = {'cluster':'sp', 'center_lat':'lat', 'center_lon':'lon'}, inplace = True)\n",
        "\n",
        "way_seq = df.way_id.to_list()\n",
        "not_stop_mask = [True]+[(a != b) for a, b in zip(way_seq[:-1], way_seq[1:])]\n",
        "df = df.loc[not_stop_mask]\n",
        "\n",
        "way_df = df[['way_id', 'lat', 'lon']]\n",
        "way_df = way_df.drop_duplicates(subset='way_id')\n",
        "\n",
        "# loc_df = df[['trip_id', 'way_id', 'month','day']].merge(way_df,how='left')\n",
        "# print(sp_seq_df.isna().any())\n",
        "# loc_df\n",
        "\n",
        "sp_list = set(map(str, way_df['way_id'].tolist()))\n",
        "\n",
        "def score(model, seq, label):\n",
        "  p = []\n",
        "  prob,path = model.viterbi(seq)\n",
        "  for s in path[1:]:\n",
        "    p.append(s[1].name)\n",
        "  \n",
        "  # c = Counter(p)\n",
        "  # tp = 0\n",
        "  # if c[label]:\n",
        "  #   tp = c[label]\n",
        "  # total = sum(c.values())\n",
        "  \n",
        "  tp = 0\n",
        "  for _state_name, _label in zip(p, label):\n",
        "    if _state_name == _label:\n",
        "      tp+=1\n",
        "  total = len(label)\n",
        "\n",
        "\n",
        "  # print(\"best prob : {}% \".format(np.exp(prob)*100))\n",
        "  # print(\"beat path : {}\".format(p))   \n",
        "  # print(\"labels : {}\".format(label))\n",
        "  # print(\"sequen    : {}\".format(seq))\n",
        "\n",
        "  return tp/total"
      ],
      "execution_count": 18,
      "outputs": []
    },
    {
      "cell_type": "code",
      "metadata": {
        "id": "gS8dOakLTQwl",
        "colab": {
          "base_uri": "https://localhost:8080/",
          "height": 1000
        },
        "outputId": "83787aa6-9d7d-4f1b-c55e-52de11863c3e"
      },
      "source": [
        "from pomegranate import *\n",
        "\n",
        "total = len(X2)\n",
        "fold = int(total/10)\n",
        "start = 0\n",
        "starts = [] # [0, 952, 1904, 2856, 3808, 4760, 5712, 6664, 7616, 8568]\n",
        "for i in range(10):\n",
        "  starts.append(start)\n",
        "  start+=fold\n",
        "\n",
        "accuracy_train = []\n",
        "accuracy_test = []\n",
        " \n",
        "for start in starts: # 10\n",
        "  X_train = X2[:start]+X2[start+fold:]\n",
        "  X_test = X2[start:start+fold]\n",
        "  labels_train = labels2[:start]+labels2[start+fold:]\n",
        "  labels_test = labels2[start:start+fold]\n",
        "\n",
        "  # บรรทัดนี้ปลอดภัยไว้ก่อน\n",
        "  uniq_sp = set()\n",
        "  for seq in X_train:\n",
        "    for sp in seq:\n",
        "      uniq_sp.add(sp)\n",
        "  uniq_label = set()\n",
        "  # for label in labels_train:\n",
        "  for label in labels_train:\n",
        "    for uniq in list(set(label)):\n",
        "      uniq_label.add(uniq)\n",
        "\n",
        "  new_label = []\n",
        "  for label2 in labels_train:\n",
        "    new_label.append(['None-start']+label2)\n",
        "  labels_train = new_label\n",
        "  \n",
        "  unseen_sp = sp_list - uniq_sp\n",
        "  print(len(unseen_sp))\n",
        "  X_train.append(np.array(list(unseen_sp)))\n",
        "  labels_train.append(['-1'] * len(unseen_sp))\n",
        "  # labels_train.append(['None-start'] + ['-1'] * len(unseen_sp))\n",
        "\n",
        "  # uniq_label.add('-1')\n",
        "\n",
        "  model = HiddenMarkovModel.from_samples(\n",
        "      DiscreteDistribution, \n",
        "      n_components=len(uniq_label), \n",
        "      X=X_train, \n",
        "      labels=labels_train,\n",
        "      algorithm='labeled',\n",
        "      state_names=list(uniq_label), \n",
        "      inertia=0.001,\n",
        "      max_iterations=10,\n",
        "      n_jobs=-1\n",
        "    ) \n",
        "\n",
        "  accuracy_train_percent = []\n",
        "  for percent in [0.25, 0.5, 0.75, 0.9]:\n",
        "    accu = 0\n",
        "    for seq, label in zip(X_train, labels_train):\n",
        "      sc = score(model, np.array(seq[:int(len(seq)*percent)]), label[1:])\n",
        "      if sc > 0:\n",
        "        # accu += sc\n",
        "        accu += 1\n",
        "    train_score = accu/len(X_train)\n",
        "    accuracy_train_percent.append(train_score)\n",
        "  accuracy_train.append(accuracy_train_percent)\n",
        "\n",
        "  accuracy_test_percent = []\n",
        "  for percent in [0.25, 0.5, 0.75, 0.9]:\n",
        "    accu = 0\n",
        "    for seq, label in zip(X_test, labels_test):\n",
        "      sc = score(model, np.array(seq[:int(len(seq)*percent)]), label[1:])\n",
        "      if sc > 0:\n",
        "        # accu += sc\n",
        "        accu += 1\n",
        "    test_score = accu/len(X_test)\n",
        "    accuracy_test_percent.append(test_score)\n",
        "  accuracy_test.append(accuracy_test_percent)\n",
        "\n",
        "  print(f'Score {start} - {start+fold}')\n",
        "  print(f'Train score')\n",
        "  print(f'\\t25% trip traverse : {accuracy_train_percent[0]}')\n",
        "  print(f'\\t50% trip traverse : {accuracy_train_percent[1]}')\n",
        "  print(f'\\t75% trip traverse : {accuracy_train_percent[2]}')\n",
        "  print(f'\\t90% trip traverse : {accuracy_train_percent[3]}')\n",
        "  print(f'Test score')\n",
        "  print(f'\\t25% trip traverse : {accuracy_test_percent[0]}')\n",
        "  print(f'\\t50% trip traverse : {accuracy_test_percent[1]}')\n",
        "  print(f'\\t75% trip traverse : {accuracy_test_percent[2]}')\n",
        "  print(f'\\t90% trip traverse : {accuracy_test_percent[3]}')\n",
        "\n",
        "print('all score')\n",
        "print('train score: ')\n",
        "for i in range(4):\n",
        "  sum = 0\n",
        "  for fold in accuracy_train:\n",
        "    sum += fold[i]\n",
        "  print(f'\\ttrip traverse {i} : {sum/10}')\n",
        "\n",
        "print('test score: ')\n",
        "for i in range(4):\n",
        "  sum = 0\n",
        "  for fold in accuracy_test:\n",
        "    sum += fold[i]\n",
        "  print(f'\\ttrip traverse {i} : {sum/10}')"
      ],
      "execution_count": 19,
      "outputs": [
        {
          "output_type": "stream",
          "name": "stdout",
          "text": [
            "53\n"
          ]
        },
        {
          "output_type": "error",
          "ename": "KeyError",
          "evalue": "ignored",
          "traceback": [
            "\u001b[0;31m---------------------------------------------------------------------------\u001b[0m",
            "\u001b[0;31mKeyError\u001b[0m                                  Traceback (most recent call last)",
            "\u001b[0;31mKeyError\u001b[0m: '-1'"
          ]
        },
        {
          "output_type": "stream",
          "name": "stderr",
          "text": [
            "Exception ignored in: 'pomegranate.hmm.HiddenMarkovModel._labeled_summarize'\n",
            "KeyError: -1\n"
          ]
        },
        {
          "output_type": "error",
          "ename": "KeyError",
          "evalue": "ignored",
          "traceback": [
            "\u001b[0;31m---------------------------------------------------------------------------\u001b[0m",
            "\u001b[0;31mKeyError\u001b[0m                                  Traceback (most recent call last)",
            "\u001b[0;31mKeyError\u001b[0m: '-1'"
          ]
        },
        {
          "output_type": "stream",
          "name": "stderr",
          "text": [
            "Exception ignored in: 'pomegranate.hmm.HiddenMarkovModel._labeled_summarize'\n",
            "KeyError: -1\n"
          ]
        },
        {
          "output_type": "error",
          "ename": "KeyError",
          "evalue": "ignored",
          "traceback": [
            "\u001b[0;31m---------------------------------------------------------------------------\u001b[0m",
            "\u001b[0;31mKeyError\u001b[0m                                  Traceback (most recent call last)",
            "\u001b[0;31mKeyError\u001b[0m: '-1'"
          ]
        },
        {
          "output_type": "stream",
          "name": "stderr",
          "text": [
            "Exception ignored in: 'pomegranate.hmm.HiddenMarkovModel._labeled_summarize'\n",
            "KeyError: -1\n"
          ]
        },
        {
          "output_type": "stream",
          "name": "stdout",
          "text": [
            "Score 0 - 35\n",
            "Train score\n",
            "\t25% trip traverse : 0.5807453416149069\n",
            "\t50% trip traverse : 0.7049689440993789\n",
            "\t75% trip traverse : 0.782608695652174\n",
            "\t90% trip traverse : 0.8136645962732919\n",
            "Test score\n",
            "\t25% trip traverse : 0.11428571428571428\n",
            "\t50% trip traverse : 0.3142857142857143\n",
            "\t75% trip traverse : 0.4857142857142857\n",
            "\t90% trip traverse : 0.5142857142857142\n",
            "62\n"
          ]
        },
        {
          "output_type": "error",
          "ename": "KeyError",
          "evalue": "ignored",
          "traceback": [
            "\u001b[0;31m---------------------------------------------------------------------------\u001b[0m",
            "\u001b[0;31mKeyError\u001b[0m                                  Traceback (most recent call last)",
            "\u001b[0;31mKeyError\u001b[0m: '-1'"
          ]
        },
        {
          "output_type": "stream",
          "name": "stderr",
          "text": [
            "Exception ignored in: 'pomegranate.hmm.HiddenMarkovModel._labeled_summarize'\n",
            "KeyError: -1\n"
          ]
        },
        {
          "output_type": "error",
          "ename": "KeyError",
          "evalue": "ignored",
          "traceback": [
            "\u001b[0;31m---------------------------------------------------------------------------\u001b[0m",
            "\u001b[0;31mKeyError\u001b[0m                                  Traceback (most recent call last)",
            "\u001b[0;31mKeyError\u001b[0m: '-1'"
          ]
        },
        {
          "output_type": "stream",
          "name": "stderr",
          "text": [
            "Exception ignored in: 'pomegranate.hmm.HiddenMarkovModel._labeled_summarize'\n",
            "KeyError: -1\n"
          ]
        },
        {
          "output_type": "error",
          "ename": "KeyError",
          "evalue": "ignored",
          "traceback": [
            "\u001b[0;31m---------------------------------------------------------------------------\u001b[0m",
            "\u001b[0;31mKeyError\u001b[0m                                  Traceback (most recent call last)",
            "\u001b[0;31mKeyError\u001b[0m: '-1'"
          ]
        },
        {
          "output_type": "stream",
          "name": "stderr",
          "text": [
            "Exception ignored in: 'pomegranate.hmm.HiddenMarkovModel._labeled_summarize'\n",
            "KeyError: -1\n"
          ]
        },
        {
          "output_type": "stream",
          "name": "stdout",
          "text": [
            "Score 35 - 70\n",
            "Train score\n",
            "\t25% trip traverse : 0.5559006211180124\n",
            "\t50% trip traverse : 0.6739130434782609\n",
            "\t75% trip traverse : 0.7888198757763976\n",
            "\t90% trip traverse : 0.8354037267080745\n",
            "Test score\n",
            "\t25% trip traverse : 0.2857142857142857\n",
            "\t50% trip traverse : 0.42857142857142855\n",
            "\t75% trip traverse : 0.6571428571428571\n",
            "\t90% trip traverse : 0.6857142857142857\n",
            "62\n"
          ]
        },
        {
          "output_type": "error",
          "ename": "KeyError",
          "evalue": "ignored",
          "traceback": [
            "\u001b[0;31m---------------------------------------------------------------------------\u001b[0m",
            "\u001b[0;31mKeyError\u001b[0m                                  Traceback (most recent call last)",
            "\u001b[0;31mKeyError\u001b[0m: '-1'"
          ]
        },
        {
          "output_type": "stream",
          "name": "stderr",
          "text": [
            "Exception ignored in: 'pomegranate.hmm.HiddenMarkovModel._labeled_summarize'\n",
            "KeyError: -1\n"
          ]
        },
        {
          "output_type": "error",
          "ename": "KeyError",
          "evalue": "ignored",
          "traceback": [
            "\u001b[0;31m---------------------------------------------------------------------------\u001b[0m",
            "\u001b[0;31mKeyError\u001b[0m                                  Traceback (most recent call last)",
            "\u001b[0;31mKeyError\u001b[0m: '-1'"
          ]
        },
        {
          "output_type": "stream",
          "name": "stderr",
          "text": [
            "Exception ignored in: 'pomegranate.hmm.HiddenMarkovModel._labeled_summarize'\n",
            "KeyError: -1\n"
          ]
        },
        {
          "output_type": "error",
          "ename": "KeyError",
          "evalue": "ignored",
          "traceback": [
            "\u001b[0;31m---------------------------------------------------------------------------\u001b[0m",
            "\u001b[0;31mKeyError\u001b[0m                                  Traceback (most recent call last)",
            "\u001b[0;31mKeyError\u001b[0m: '-1'"
          ]
        },
        {
          "output_type": "stream",
          "name": "stderr",
          "text": [
            "Exception ignored in: 'pomegranate.hmm.HiddenMarkovModel._labeled_summarize'\n",
            "KeyError: -1\n"
          ]
        },
        {
          "output_type": "stream",
          "name": "stdout",
          "text": [
            "Score 70 - 105\n",
            "Train score\n",
            "\t25% trip traverse : 0.5590062111801242\n",
            "\t50% trip traverse : 0.6925465838509317\n",
            "\t75% trip traverse : 0.8136645962732919\n",
            "\t90% trip traverse : 0.8291925465838509\n",
            "Test score\n",
            "\t25% trip traverse : 0.2857142857142857\n",
            "\t50% trip traverse : 0.34285714285714286\n",
            "\t75% trip traverse : 0.4\n",
            "\t90% trip traverse : 0.45714285714285713\n",
            "40\n"
          ]
        },
        {
          "output_type": "error",
          "ename": "KeyError",
          "evalue": "ignored",
          "traceback": [
            "\u001b[0;31m---------------------------------------------------------------------------\u001b[0m",
            "\u001b[0;31mKeyError\u001b[0m                                  Traceback (most recent call last)",
            "\u001b[0;31mKeyError\u001b[0m: '-1'"
          ]
        },
        {
          "output_type": "stream",
          "name": "stderr",
          "text": [
            "Exception ignored in: 'pomegranate.hmm.HiddenMarkovModel._labeled_summarize'\n",
            "KeyError: -1\n"
          ]
        },
        {
          "output_type": "error",
          "ename": "KeyError",
          "evalue": "ignored",
          "traceback": [
            "\u001b[0;31m---------------------------------------------------------------------------\u001b[0m",
            "\u001b[0;31mKeyError\u001b[0m                                  Traceback (most recent call last)",
            "\u001b[0;31mKeyError\u001b[0m: '-1'"
          ]
        },
        {
          "output_type": "stream",
          "name": "stderr",
          "text": [
            "Exception ignored in: 'pomegranate.hmm.HiddenMarkovModel._labeled_summarize'\n",
            "KeyError: -1\n"
          ]
        },
        {
          "output_type": "error",
          "ename": "KeyError",
          "evalue": "ignored",
          "traceback": [
            "\u001b[0;31m---------------------------------------------------------------------------\u001b[0m",
            "\u001b[0;31mKeyError\u001b[0m                                  Traceback (most recent call last)",
            "\u001b[0;31mKeyError\u001b[0m: '-1'"
          ]
        },
        {
          "output_type": "stream",
          "name": "stderr",
          "text": [
            "Exception ignored in: 'pomegranate.hmm.HiddenMarkovModel._labeled_summarize'\n",
            "KeyError: -1\n"
          ]
        },
        {
          "output_type": "stream",
          "name": "stdout",
          "text": [
            "Score 105 - 140\n",
            "Train score\n",
            "\t25% trip traverse : 0.5434782608695652\n",
            "\t50% trip traverse : 0.6863354037267081\n",
            "\t75% trip traverse : 0.7732919254658385\n",
            "\t90% trip traverse : 0.8043478260869565\n",
            "Test score\n",
            "\t25% trip traverse : 0.2857142857142857\n",
            "\t50% trip traverse : 0.4\n",
            "\t75% trip traverse : 0.45714285714285713\n",
            "\t90% trip traverse : 0.5142857142857142\n",
            "73\n"
          ]
        },
        {
          "output_type": "error",
          "ename": "KeyError",
          "evalue": "ignored",
          "traceback": [
            "\u001b[0;31m---------------------------------------------------------------------------\u001b[0m",
            "\u001b[0;31mKeyError\u001b[0m                                  Traceback (most recent call last)",
            "\u001b[0;31mKeyError\u001b[0m: '-1'"
          ]
        },
        {
          "output_type": "stream",
          "name": "stderr",
          "text": [
            "Exception ignored in: 'pomegranate.hmm.HiddenMarkovModel._labeled_summarize'\n",
            "KeyError: -1\n"
          ]
        },
        {
          "output_type": "error",
          "ename": "KeyError",
          "evalue": "ignored",
          "traceback": [
            "\u001b[0;31m---------------------------------------------------------------------------\u001b[0m",
            "\u001b[0;31mKeyError\u001b[0m                                  Traceback (most recent call last)",
            "\u001b[0;31mKeyError\u001b[0m: '-1'"
          ]
        },
        {
          "output_type": "stream",
          "name": "stderr",
          "text": [
            "Exception ignored in: 'pomegranate.hmm.HiddenMarkovModel._labeled_summarize'\n",
            "KeyError: -1\n"
          ]
        },
        {
          "output_type": "error",
          "ename": "KeyError",
          "evalue": "ignored",
          "traceback": [
            "\u001b[0;31m---------------------------------------------------------------------------\u001b[0m",
            "\u001b[0;31mKeyError\u001b[0m                                  Traceback (most recent call last)",
            "\u001b[0;31mKeyError\u001b[0m: '-1'"
          ]
        },
        {
          "output_type": "stream",
          "name": "stderr",
          "text": [
            "Exception ignored in: 'pomegranate.hmm.HiddenMarkovModel._labeled_summarize'\n",
            "KeyError: -1\n"
          ]
        },
        {
          "output_type": "stream",
          "name": "stdout",
          "text": [
            "Score 140 - 175\n",
            "Train score\n",
            "\t25% trip traverse : 0.5714285714285714\n",
            "\t50% trip traverse : 0.6987577639751553\n",
            "\t75% trip traverse : 0.8074534161490683\n",
            "\t90% trip traverse : 0.8354037267080745\n",
            "Test score\n",
            "\t25% trip traverse : 0.22857142857142856\n",
            "\t50% trip traverse : 0.2857142857142857\n",
            "\t75% trip traverse : 0.5142857142857142\n",
            "\t90% trip traverse : 0.4857142857142857\n",
            "83\n"
          ]
        },
        {
          "output_type": "error",
          "ename": "KeyError",
          "evalue": "ignored",
          "traceback": [
            "\u001b[0;31m---------------------------------------------------------------------------\u001b[0m",
            "\u001b[0;31mKeyError\u001b[0m                                  Traceback (most recent call last)",
            "\u001b[0;31mKeyError\u001b[0m: '-1'"
          ]
        },
        {
          "output_type": "stream",
          "name": "stderr",
          "text": [
            "Exception ignored in: 'pomegranate.hmm.HiddenMarkovModel._labeled_summarize'\n",
            "KeyError: -1\n"
          ]
        },
        {
          "output_type": "error",
          "ename": "KeyError",
          "evalue": "ignored",
          "traceback": [
            "\u001b[0;31m---------------------------------------------------------------------------\u001b[0m",
            "\u001b[0;31mKeyError\u001b[0m                                  Traceback (most recent call last)",
            "\u001b[0;31mKeyError\u001b[0m: '-1'"
          ]
        },
        {
          "output_type": "stream",
          "name": "stderr",
          "text": [
            "Exception ignored in: 'pomegranate.hmm.HiddenMarkovModel._labeled_summarize'\n",
            "KeyError: -1\n"
          ]
        },
        {
          "output_type": "error",
          "ename": "KeyError",
          "evalue": "ignored",
          "traceback": [
            "\u001b[0;31m---------------------------------------------------------------------------\u001b[0m",
            "\u001b[0;31mKeyError\u001b[0m                                  Traceback (most recent call last)",
            "\u001b[0;31mKeyError\u001b[0m: '-1'"
          ]
        },
        {
          "output_type": "stream",
          "name": "stderr",
          "text": [
            "Exception ignored in: 'pomegranate.hmm.HiddenMarkovModel._labeled_summarize'\n",
            "KeyError: -1\n"
          ]
        },
        {
          "output_type": "stream",
          "name": "stdout",
          "text": [
            "Score 175 - 210\n",
            "Train score\n",
            "\t25% trip traverse : 0.5652173913043478\n",
            "\t50% trip traverse : 0.6583850931677019\n",
            "\t75% trip traverse : 0.7763975155279503\n",
            "\t90% trip traverse : 0.8136645962732919\n",
            "Test score\n",
            "\t25% trip traverse : 0.08571428571428572\n",
            "\t50% trip traverse : 0.34285714285714286\n",
            "\t75% trip traverse : 0.4857142857142857\n",
            "\t90% trip traverse : 0.4857142857142857\n",
            "53\n"
          ]
        },
        {
          "output_type": "error",
          "ename": "KeyError",
          "evalue": "ignored",
          "traceback": [
            "\u001b[0;31m---------------------------------------------------------------------------\u001b[0m",
            "\u001b[0;31mKeyError\u001b[0m                                  Traceback (most recent call last)",
            "\u001b[0;31mKeyError\u001b[0m: '-1'"
          ]
        },
        {
          "output_type": "stream",
          "name": "stderr",
          "text": [
            "Exception ignored in: 'pomegranate.hmm.HiddenMarkovModel._labeled_summarize'\n",
            "KeyError: -1\n"
          ]
        },
        {
          "output_type": "error",
          "ename": "KeyError",
          "evalue": "ignored",
          "traceback": [
            "\u001b[0;31m---------------------------------------------------------------------------\u001b[0m",
            "\u001b[0;31mKeyError\u001b[0m                                  Traceback (most recent call last)",
            "\u001b[0;31mKeyError\u001b[0m: '-1'"
          ]
        },
        {
          "output_type": "stream",
          "name": "stderr",
          "text": [
            "Exception ignored in: 'pomegranate.hmm.HiddenMarkovModel._labeled_summarize'\n",
            "KeyError: -1\n"
          ]
        },
        {
          "output_type": "error",
          "ename": "KeyError",
          "evalue": "ignored",
          "traceback": [
            "\u001b[0;31m---------------------------------------------------------------------------\u001b[0m",
            "\u001b[0;31mKeyError\u001b[0m                                  Traceback (most recent call last)",
            "\u001b[0;31mKeyError\u001b[0m: '-1'"
          ]
        },
        {
          "output_type": "stream",
          "name": "stderr",
          "text": [
            "Exception ignored in: 'pomegranate.hmm.HiddenMarkovModel._labeled_summarize'\n",
            "KeyError: -1\n"
          ]
        },
        {
          "output_type": "stream",
          "name": "stdout",
          "text": [
            "Score 210 - 245\n",
            "Train score\n",
            "\t25% trip traverse : 0.546583850931677\n",
            "\t50% trip traverse : 0.6583850931677019\n",
            "\t75% trip traverse : 0.7639751552795031\n",
            "\t90% trip traverse : 0.8167701863354038\n",
            "Test score\n",
            "\t25% trip traverse : 0.2\n",
            "\t50% trip traverse : 0.4\n",
            "\t75% trip traverse : 0.6285714285714286\n",
            "\t90% trip traverse : 0.6\n",
            "46\n"
          ]
        },
        {
          "output_type": "error",
          "ename": "KeyError",
          "evalue": "ignored",
          "traceback": [
            "\u001b[0;31m---------------------------------------------------------------------------\u001b[0m",
            "\u001b[0;31mKeyError\u001b[0m                                  Traceback (most recent call last)",
            "\u001b[0;31mKeyError\u001b[0m: '-1'"
          ]
        },
        {
          "output_type": "stream",
          "name": "stderr",
          "text": [
            "Exception ignored in: 'pomegranate.hmm.HiddenMarkovModel._labeled_summarize'\n",
            "KeyError: -1\n"
          ]
        },
        {
          "output_type": "error",
          "ename": "KeyError",
          "evalue": "ignored",
          "traceback": [
            "\u001b[0;31m---------------------------------------------------------------------------\u001b[0m",
            "\u001b[0;31mKeyError\u001b[0m                                  Traceback (most recent call last)",
            "\u001b[0;31mKeyError\u001b[0m: '-1'"
          ]
        },
        {
          "output_type": "stream",
          "name": "stderr",
          "text": [
            "Exception ignored in: 'pomegranate.hmm.HiddenMarkovModel._labeled_summarize'\n",
            "KeyError: -1\n"
          ]
        },
        {
          "output_type": "error",
          "ename": "KeyError",
          "evalue": "ignored",
          "traceback": [
            "\u001b[0;31m---------------------------------------------------------------------------\u001b[0m",
            "\u001b[0;31mKeyError\u001b[0m                                  Traceback (most recent call last)",
            "\u001b[0;31mKeyError\u001b[0m: '-1'"
          ]
        },
        {
          "output_type": "stream",
          "name": "stderr",
          "text": [
            "Exception ignored in: 'pomegranate.hmm.HiddenMarkovModel._labeled_summarize'\n",
            "KeyError: -1\n"
          ]
        },
        {
          "output_type": "stream",
          "name": "stdout",
          "text": [
            "Score 245 - 280\n",
            "Train score\n",
            "\t25% trip traverse : 0.5652173913043478\n",
            "\t50% trip traverse : 0.6863354037267081\n",
            "\t75% trip traverse : 0.7763975155279503\n",
            "\t90% trip traverse : 0.8167701863354038\n",
            "Test score\n",
            "\t25% trip traverse : 0.37142857142857144\n",
            "\t50% trip traverse : 0.4857142857142857\n",
            "\t75% trip traverse : 0.6\n",
            "\t90% trip traverse : 0.6\n",
            "30\n"
          ]
        },
        {
          "output_type": "error",
          "ename": "KeyError",
          "evalue": "ignored",
          "traceback": [
            "\u001b[0;31m---------------------------------------------------------------------------\u001b[0m",
            "\u001b[0;31mKeyError\u001b[0m                                  Traceback (most recent call last)",
            "\u001b[0;31mKeyError\u001b[0m: '-1'"
          ]
        },
        {
          "output_type": "stream",
          "name": "stderr",
          "text": [
            "Exception ignored in: 'pomegranate.hmm.HiddenMarkovModel._labeled_summarize'\n",
            "KeyError: -1\n"
          ]
        },
        {
          "output_type": "error",
          "ename": "KeyError",
          "evalue": "ignored",
          "traceback": [
            "\u001b[0;31m---------------------------------------------------------------------------\u001b[0m",
            "\u001b[0;31mKeyError\u001b[0m                                  Traceback (most recent call last)",
            "\u001b[0;31mKeyError\u001b[0m: '-1'"
          ]
        },
        {
          "output_type": "stream",
          "name": "stderr",
          "text": [
            "Exception ignored in: 'pomegranate.hmm.HiddenMarkovModel._labeled_summarize'\n",
            "KeyError: -1\n"
          ]
        },
        {
          "output_type": "error",
          "ename": "KeyError",
          "evalue": "ignored",
          "traceback": [
            "\u001b[0;31m---------------------------------------------------------------------------\u001b[0m",
            "\u001b[0;31mKeyError\u001b[0m                                  Traceback (most recent call last)",
            "\u001b[0;31mKeyError\u001b[0m: '-1'"
          ]
        },
        {
          "output_type": "stream",
          "name": "stderr",
          "text": [
            "Exception ignored in: 'pomegranate.hmm.HiddenMarkovModel._labeled_summarize'\n",
            "KeyError: -1\n"
          ]
        },
        {
          "output_type": "stream",
          "name": "stdout",
          "text": [
            "Score 280 - 315\n",
            "Train score\n",
            "\t25% trip traverse : 0.5745341614906833\n",
            "\t50% trip traverse : 0.6956521739130435\n",
            "\t75% trip traverse : 0.7795031055900621\n",
            "\t90% trip traverse : 0.8260869565217391\n",
            "Test score\n",
            "\t25% trip traverse : 0.22857142857142856\n",
            "\t50% trip traverse : 0.34285714285714286\n",
            "\t75% trip traverse : 0.45714285714285713\n",
            "\t90% trip traverse : 0.4857142857142857\n",
            "74\n"
          ]
        },
        {
          "output_type": "error",
          "ename": "KeyError",
          "evalue": "ignored",
          "traceback": [
            "\u001b[0;31m---------------------------------------------------------------------------\u001b[0m",
            "\u001b[0;31mKeyError\u001b[0m                                  Traceback (most recent call last)",
            "\u001b[0;31mKeyError\u001b[0m: '-1'"
          ]
        },
        {
          "output_type": "stream",
          "name": "stderr",
          "text": [
            "Exception ignored in: 'pomegranate.hmm.HiddenMarkovModel._labeled_summarize'\n",
            "KeyError: -1\n"
          ]
        },
        {
          "output_type": "error",
          "ename": "KeyError",
          "evalue": "ignored",
          "traceback": [
            "\u001b[0;31m---------------------------------------------------------------------------\u001b[0m",
            "\u001b[0;31mKeyError\u001b[0m                                  Traceback (most recent call last)",
            "\u001b[0;31mKeyError\u001b[0m: '-1'"
          ]
        },
        {
          "output_type": "stream",
          "name": "stderr",
          "text": [
            "Exception ignored in: 'pomegranate.hmm.HiddenMarkovModel._labeled_summarize'\n",
            "KeyError: -1\n"
          ]
        },
        {
          "output_type": "error",
          "ename": "KeyError",
          "evalue": "ignored",
          "traceback": [
            "\u001b[0;31m---------------------------------------------------------------------------\u001b[0m",
            "\u001b[0;31mKeyError\u001b[0m                                  Traceback (most recent call last)",
            "\u001b[0;31mKeyError\u001b[0m: '-1'"
          ]
        },
        {
          "output_type": "stream",
          "name": "stderr",
          "text": [
            "Exception ignored in: 'pomegranate.hmm.HiddenMarkovModel._labeled_summarize'\n",
            "KeyError: -1\n"
          ]
        },
        {
          "output_type": "stream",
          "name": "stdout",
          "text": [
            "Score 315 - 350\n",
            "Train score\n",
            "\t25% trip traverse : 0.5652173913043478\n",
            "\t50% trip traverse : 0.6987577639751553\n",
            "\t75% trip traverse : 0.7950310559006211\n",
            "\t90% trip traverse : 0.8291925465838509\n",
            "Test score\n",
            "\t25% trip traverse : 0.34285714285714286\n",
            "\t50% trip traverse : 0.4\n",
            "\t75% trip traverse : 0.5428571428571428\n",
            "\t90% trip traverse : 0.5428571428571428\n",
            "all score\n",
            "train score: \n",
            "\ttrip traverse 0 : 0.5627329192546583\n",
            "\ttrip traverse 1 : 0.6854037267080745\n",
            "\ttrip traverse 2 : 0.7857142857142857\n",
            "\ttrip traverse 3 : 0.8220496894409939\n",
            "test score: \n",
            "\ttrip traverse 0 : 0.24285714285714283\n",
            "\ttrip traverse 1 : 0.3742857142857143\n",
            "\ttrip traverse 2 : 0.5228571428571429\n",
            "\ttrip traverse 3 : 0.5371428571428571\n"
          ]
        }
      ]
    }
  ]
}