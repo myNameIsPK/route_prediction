{
  "nbformat": 4,
  "nbformat_minor": 0,
  "metadata": {
    "colab": {
      "name": "6_train_new_label.ipynb",
      "provenance": []
    },
    "kernelspec": {
      "name": "python3",
      "display_name": "Python 3"
    },
    "language_info": {
      "name": "python"
    }
  },
  "cells": [
    {
      "cell_type": "markdown",
      "metadata": {
        "id": "-rLsbzHO9mLD"
      },
      "source": [
        "# Import\n"
      ]
    },
    {
      "cell_type": "code",
      "metadata": {
        "colab": {
          "base_uri": "https://localhost:8080/"
        },
        "id": "PKN3DKBMMliF",
        "outputId": "85b4e1b1-1c6c-4aa2-a98d-2708433ed49e"
      },
      "source": [
        "from google.colab import drive\n",
        "drive.mount('/content/drive')"
      ],
      "execution_count": 2,
      "outputs": [
        {
          "output_type": "stream",
          "name": "stdout",
          "text": [
            "Drive already mounted at /content/drive; to attempt to forcibly remount, call drive.mount(\"/content/drive\", force_remount=True).\n"
          ]
        }
      ]
    },
    {
      "cell_type": "code",
      "metadata": {
        "id": "osFcZ2TXMt1m"
      },
      "source": [
        "import pandas as pd\n",
        "import numpy as np\n",
        "import matplotlib.pyplot as plt"
      ],
      "execution_count": 3,
      "outputs": []
    },
    {
      "cell_type": "code",
      "metadata": {
        "colab": {
          "base_uri": "https://localhost:8080/"
        },
        "id": "hBQiSW9-RGvw",
        "outputId": "04c0fa42-2f45-4c55-9356-3c3e61c5cfda"
      },
      "source": [
        "!pip install plotly_express"
      ],
      "execution_count": 4,
      "outputs": [
        {
          "output_type": "stream",
          "name": "stdout",
          "text": [
            "Requirement already satisfied: plotly_express in /usr/local/lib/python3.7/dist-packages (0.4.1)\n",
            "Requirement already satisfied: scipy>=0.18 in /usr/local/lib/python3.7/dist-packages (from plotly_express) (1.4.1)\n",
            "Requirement already satisfied: plotly>=4.1.0 in /usr/local/lib/python3.7/dist-packages (from plotly_express) (4.4.1)\n",
            "Requirement already satisfied: numpy>=1.11 in /usr/local/lib/python3.7/dist-packages (from plotly_express) (1.21.4)\n",
            "Requirement already satisfied: statsmodels>=0.9.0 in /usr/local/lib/python3.7/dist-packages (from plotly_express) (0.10.2)\n",
            "Requirement already satisfied: patsy>=0.5 in /usr/local/lib/python3.7/dist-packages (from plotly_express) (0.5.2)\n",
            "Requirement already satisfied: pandas>=0.20.0 in /usr/local/lib/python3.7/dist-packages (from plotly_express) (1.1.5)\n",
            "Requirement already satisfied: pytz>=2017.2 in /usr/local/lib/python3.7/dist-packages (from pandas>=0.20.0->plotly_express) (2018.9)\n",
            "Requirement already satisfied: python-dateutil>=2.7.3 in /usr/local/lib/python3.7/dist-packages (from pandas>=0.20.0->plotly_express) (2.8.2)\n",
            "Requirement already satisfied: six in /usr/local/lib/python3.7/dist-packages (from patsy>=0.5->plotly_express) (1.15.0)\n",
            "Requirement already satisfied: retrying>=1.3.3 in /usr/local/lib/python3.7/dist-packages (from plotly>=4.1.0->plotly_express) (1.3.3)\n"
          ]
        }
      ]
    },
    {
      "cell_type": "code",
      "metadata": {
        "colab": {
          "base_uri": "https://localhost:8080/"
        },
        "id": "PyUYZsccdV9i",
        "outputId": "9b9b566d-469f-4877-e4b6-4562aeea03c3"
      },
      "source": [
        "!pip install geopandas"
      ],
      "execution_count": 5,
      "outputs": [
        {
          "output_type": "stream",
          "name": "stdout",
          "text": [
            "Requirement already satisfied: geopandas in /usr/local/lib/python3.7/dist-packages (0.10.2)\n",
            "Requirement already satisfied: shapely>=1.6 in /usr/local/lib/python3.7/dist-packages (from geopandas) (1.8.0)\n",
            "Requirement already satisfied: fiona>=1.8 in /usr/local/lib/python3.7/dist-packages (from geopandas) (1.8.20)\n",
            "Requirement already satisfied: pyproj>=2.2.0 in /usr/local/lib/python3.7/dist-packages (from geopandas) (3.2.1)\n",
            "Requirement already satisfied: pandas>=0.25.0 in /usr/local/lib/python3.7/dist-packages (from geopandas) (1.1.5)\n",
            "Requirement already satisfied: attrs>=17 in /usr/local/lib/python3.7/dist-packages (from fiona>=1.8->geopandas) (21.2.0)\n",
            "Requirement already satisfied: setuptools in /usr/local/lib/python3.7/dist-packages (from fiona>=1.8->geopandas) (57.4.0)\n",
            "Requirement already satisfied: six>=1.7 in /usr/local/lib/python3.7/dist-packages (from fiona>=1.8->geopandas) (1.15.0)\n",
            "Requirement already satisfied: click-plugins>=1.0 in /usr/local/lib/python3.7/dist-packages (from fiona>=1.8->geopandas) (1.1.1)\n",
            "Requirement already satisfied: cligj>=0.5 in /usr/local/lib/python3.7/dist-packages (from fiona>=1.8->geopandas) (0.7.2)\n",
            "Requirement already satisfied: certifi in /usr/local/lib/python3.7/dist-packages (from fiona>=1.8->geopandas) (2021.10.8)\n",
            "Requirement already satisfied: click>=4.0 in /usr/local/lib/python3.7/dist-packages (from fiona>=1.8->geopandas) (7.1.2)\n",
            "Requirement already satisfied: munch in /usr/local/lib/python3.7/dist-packages (from fiona>=1.8->geopandas) (2.5.0)\n",
            "Requirement already satisfied: numpy>=1.15.4 in /usr/local/lib/python3.7/dist-packages (from pandas>=0.25.0->geopandas) (1.21.4)\n",
            "Requirement already satisfied: python-dateutil>=2.7.3 in /usr/local/lib/python3.7/dist-packages (from pandas>=0.25.0->geopandas) (2.8.2)\n",
            "Requirement already satisfied: pytz>=2017.2 in /usr/local/lib/python3.7/dist-packages (from pandas>=0.25.0->geopandas) (2018.9)\n"
          ]
        }
      ]
    },
    {
      "cell_type": "code",
      "metadata": {
        "id": "laWpTmNWM58b",
        "colab": {
          "base_uri": "https://localhost:8080/"
        },
        "outputId": "a3af3756-2b69-456a-cbeb-62ef91bfbc84"
      },
      "source": [
        "!ls '/content/drive/My Drive/2021 Route Prediction/Project-1/Source-Code/data/trips_and_stops_NE_2019'"
      ],
      "execution_count": 6,
      "outputs": [
        {
          "output_type": "stream",
          "name": "stdout",
          "text": [
            "trips_2019_10_10.csv  trips_2019_2_10.csv  trips_2019_6_12.csv\n",
            "trips_2019_10_11.csv  trips_2019_2_11.csv  trips_2019_6_13.csv\n",
            "trips_2019_10_12.csv  trips_2019_2_12.csv  trips_2019_6_14.csv\n",
            "trips_2019_10_13.csv  trips_2019_2_13.csv  trips_2019_6_15.csv\n",
            "trips_2019_10_14.csv  trips_2019_2_14.csv  trips_2019_6_16.csv\n",
            "trips_2019_10_15.csv  trips_2019_2_15.csv  trips_2019_6_17.csv\n",
            "trips_2019_10_16.csv  trips_2019_2_16.csv  trips_2019_6_18.csv\n",
            "trips_2019_10_17.csv  trips_2019_2_17.csv  trips_2019_6_19.csv\n",
            "trips_2019_10_18.csv  trips_2019_2_18.csv  trips_2019_6_1.csv\n",
            "trips_2019_10_19.csv  trips_2019_2_19.csv  trips_2019_6_20.csv\n",
            "trips_2019_10_1.csv   trips_2019_2_1.csv   trips_2019_6_21.csv\n",
            "trips_2019_10_20.csv  trips_2019_2_20.csv  trips_2019_6_22.csv\n",
            "trips_2019_10_21.csv  trips_2019_2_21.csv  trips_2019_6_23.csv\n",
            "trips_2019_10_22.csv  trips_2019_2_22.csv  trips_2019_6_24.csv\n",
            "trips_2019_10_23.csv  trips_2019_2_23.csv  trips_2019_6_25.csv\n",
            "trips_2019_10_24.csv  trips_2019_2_24.csv  trips_2019_6_26.csv\n",
            "trips_2019_10_25.csv  trips_2019_2_25.csv  trips_2019_6_27.csv\n",
            "trips_2019_10_26.csv  trips_2019_2_26.csv  trips_2019_6_28.csv\n",
            "trips_2019_10_27.csv  trips_2019_2_27.csv  trips_2019_6_29.csv\n",
            "trips_2019_10_28.csv  trips_2019_2_28.csv  trips_2019_6_2.csv\n",
            "trips_2019_10_29.csv  trips_2019_2_2.csv   trips_2019_6_30.csv\n",
            "trips_2019_10_2.csv   trips_2019_2_3.csv   trips_2019_6_3.csv\n",
            "trips_2019_10_30.csv  trips_2019_2_4.csv   trips_2019_6_4.csv\n",
            "trips_2019_10_31.csv  trips_2019_2_5.csv   trips_2019_6_5.csv\n",
            "trips_2019_10_3.csv   trips_2019_2_6.csv   trips_2019_6_6.csv\n",
            "trips_2019_10_4.csv   trips_2019_2_7.csv   trips_2019_6_7.csv\n",
            "trips_2019_10_5.csv   trips_2019_2_8.csv   trips_2019_6_8.csv\n",
            "trips_2019_10_6.csv   trips_2019_2_9.csv   trips_2019_6_9.csv\n",
            "trips_2019_10_7.csv   trips_2019_3_10.csv  trips_2019_7_10.csv\n",
            "trips_2019_10_8.csv   trips_2019_3_11.csv  trips_2019_7_11.csv\n",
            "trips_2019_10_9.csv   trips_2019_3_12.csv  trips_2019_7_12.csv\n",
            "trips_2019_1_10.csv   trips_2019_3_13.csv  trips_2019_7_13.csv\n",
            "trips_2019_11_10.csv  trips_2019_3_14.csv  trips_2019_7_14.csv\n",
            "trips_2019_11_11.csv  trips_2019_3_15.csv  trips_2019_7_15.csv\n",
            "trips_2019_11_12.csv  trips_2019_3_16.csv  trips_2019_7_16.csv\n",
            "trips_2019_11_13.csv  trips_2019_3_17.csv  trips_2019_7_17.csv\n",
            "trips_2019_11_14.csv  trips_2019_3_18.csv  trips_2019_7_18.csv\n",
            "trips_2019_11_15.csv  trips_2019_3_19.csv  trips_2019_7_19.csv\n",
            "trips_2019_11_16.csv  trips_2019_3_1.csv   trips_2019_7_1.csv\n",
            "trips_2019_11_17.csv  trips_2019_3_20.csv  trips_2019_7_20.csv\n",
            "trips_2019_11_18.csv  trips_2019_3_21.csv  trips_2019_7_21.csv\n",
            "trips_2019_11_19.csv  trips_2019_3_22.csv  trips_2019_7_22.csv\n",
            "trips_2019_1_11.csv   trips_2019_3_23.csv  trips_2019_7_23.csv\n",
            "trips_2019_11_1.csv   trips_2019_3_24.csv  trips_2019_7_24.csv\n",
            "trips_2019_11_20.csv  trips_2019_3_25.csv  trips_2019_7_25.csv\n",
            "trips_2019_11_21.csv  trips_2019_3_26.csv  trips_2019_7_26.csv\n",
            "trips_2019_11_22.csv  trips_2019_3_27.csv  trips_2019_7_27.csv\n",
            "trips_2019_11_23.csv  trips_2019_3_28.csv  trips_2019_7_28.csv\n",
            "trips_2019_11_24.csv  trips_2019_3_29.csv  trips_2019_7_29.csv\n",
            "trips_2019_11_25.csv  trips_2019_3_2.csv   trips_2019_7_2.csv\n",
            "trips_2019_11_26.csv  trips_2019_3_30.csv  trips_2019_7_30.csv\n",
            "trips_2019_11_27.csv  trips_2019_3_31.csv  trips_2019_7_31.csv\n",
            "trips_2019_11_28.csv  trips_2019_3_3.csv   trips_2019_7_3.csv\n",
            "trips_2019_11_29.csv  trips_2019_3_4.csv   trips_2019_7_4.csv\n",
            "trips_2019_1_12.csv   trips_2019_3_5.csv   trips_2019_7_5.csv\n",
            "trips_2019_11_2.csv   trips_2019_3_6.csv   trips_2019_7_6.csv\n",
            "trips_2019_11_30.csv  trips_2019_3_7.csv   trips_2019_7_7.csv\n",
            "trips_2019_1_13.csv   trips_2019_3_8.csv   trips_2019_7_8.csv\n",
            "trips_2019_11_3.csv   trips_2019_3_9.csv   trips_2019_7_9.csv\n",
            "trips_2019_1_14.csv   trips_2019_4_10.csv  trips_2019_8_10.csv\n",
            "trips_2019_11_4.csv   trips_2019_4_11.csv  trips_2019_8_11.csv\n",
            "trips_2019_1_15.csv   trips_2019_4_12.csv  trips_2019_8_12.csv\n",
            "trips_2019_11_5.csv   trips_2019_4_13.csv  trips_2019_8_13.csv\n",
            "trips_2019_1_16.csv   trips_2019_4_14.csv  trips_2019_8_14.csv\n",
            "trips_2019_11_6.csv   trips_2019_4_15.csv  trips_2019_8_15.csv\n",
            "trips_2019_1_17.csv   trips_2019_4_16.csv  trips_2019_8_16.csv\n",
            "trips_2019_11_7.csv   trips_2019_4_17.csv  trips_2019_8_17.csv\n",
            "trips_2019_1_18.csv   trips_2019_4_18.csv  trips_2019_8_18.csv\n",
            "trips_2019_11_8.csv   trips_2019_4_19.csv  trips_2019_8_19.csv\n",
            "trips_2019_1_19.csv   trips_2019_4_1.csv   trips_2019_8_1.csv\n",
            "trips_2019_11_9.csv   trips_2019_4_20.csv  trips_2019_8_20.csv\n",
            "trips_2019_1_1.csv    trips_2019_4_21.csv  trips_2019_8_21.csv\n",
            "trips_2019_12_10.csv  trips_2019_4_22.csv  trips_2019_8_22.csv\n",
            "trips_2019_12_11.csv  trips_2019_4_23.csv  trips_2019_8_23.csv\n",
            "trips_2019_12_12.csv  trips_2019_4_24.csv  trips_2019_8_24.csv\n",
            "trips_2019_12_13.csv  trips_2019_4_25.csv  trips_2019_8_25.csv\n",
            "trips_2019_12_14.csv  trips_2019_4_26.csv  trips_2019_8_26.csv\n",
            "trips_2019_12_15.csv  trips_2019_4_27.csv  trips_2019_8_27.csv\n",
            "trips_2019_12_16.csv  trips_2019_4_28.csv  trips_2019_8_28.csv\n",
            "trips_2019_12_17.csv  trips_2019_4_29.csv  trips_2019_8_29.csv\n",
            "trips_2019_12_18.csv  trips_2019_4_2.csv   trips_2019_8_2.csv\n",
            "trips_2019_12_19.csv  trips_2019_4_30.csv  trips_2019_8_30.csv\n",
            "trips_2019_1_21.csv   trips_2019_4_3.csv   trips_2019_8_31.csv\n",
            "trips_2019_12_1.csv   trips_2019_4_4.csv   trips_2019_8_3.csv\n",
            "trips_2019_12_20.csv  trips_2019_4_5.csv   trips_2019_8_4.csv\n",
            "trips_2019_12_21.csv  trips_2019_4_6.csv   trips_2019_8_5.csv\n",
            "trips_2019_12_22.csv  trips_2019_4_7.csv   trips_2019_8_6.csv\n",
            "trips_2019_12_23.csv  trips_2019_4_8.csv   trips_2019_8_7.csv\n",
            "trips_2019_12_24.csv  trips_2019_4_9.csv   trips_2019_8_8.csv\n",
            "trips_2019_12_25.csv  trips_2019_5_10.csv  trips_2019_8_9.csv\n",
            "trips_2019_12_26.csv  trips_2019_5_11.csv  trips_2019_9_10.csv\n",
            "trips_2019_12_27.csv  trips_2019_5_12.csv  trips_2019_9_11.csv\n",
            "trips_2019_12_28.csv  trips_2019_5_13.csv  trips_2019_9_12.csv\n",
            "trips_2019_12_29.csv  trips_2019_5_14.csv  trips_2019_9_13.csv\n",
            "trips_2019_1_22.csv   trips_2019_5_15.csv  trips_2019_9_14.csv\n",
            "trips_2019_12_2.csv   trips_2019_5_16.csv  trips_2019_9_15.csv\n",
            "trips_2019_12_30.csv  trips_2019_5_17.csv  trips_2019_9_16.csv\n",
            "trips_2019_12_31.csv  trips_2019_5_18.csv  trips_2019_9_17.csv\n",
            "trips_2019_1_23.csv   trips_2019_5_19.csv  trips_2019_9_18.csv\n",
            "trips_2019_12_3.csv   trips_2019_5_1.csv   trips_2019_9_19.csv\n",
            "trips_2019_1_24.csv   trips_2019_5_20.csv  trips_2019_9_1.csv\n",
            "trips_2019_12_4.csv   trips_2019_5_21.csv  trips_2019_9_20.csv\n",
            "trips_2019_1_25.csv   trips_2019_5_22.csv  trips_2019_9_21.csv\n",
            "trips_2019_12_5.csv   trips_2019_5_23.csv  trips_2019_9_22.csv\n",
            "trips_2019_1_26.csv   trips_2019_5_24.csv  trips_2019_9_23.csv\n",
            "trips_2019_12_6.csv   trips_2019_5_25.csv  trips_2019_9_24.csv\n",
            "trips_2019_1_27.csv   trips_2019_5_26.csv  trips_2019_9_25.csv\n",
            "trips_2019_12_7.csv   trips_2019_5_27.csv  trips_2019_9_26.csv\n",
            "trips_2019_1_28.csv   trips_2019_5_28.csv  trips_2019_9_27.csv\n",
            "trips_2019_12_8.csv   trips_2019_5_29.csv  trips_2019_9_28.csv\n",
            "trips_2019_1_29.csv   trips_2019_5_2.csv   trips_2019_9_29.csv\n",
            "trips_2019_12_9.csv   trips_2019_5_30.csv  trips_2019_9_2.csv\n",
            "trips_2019_1_2.csv    trips_2019_5_31.csv  trips_2019_9_30.csv\n",
            "trips_2019_1_30.csv   trips_2019_5_3.csv   trips_2019_9_3.csv\n",
            "trips_2019_1_31.csv   trips_2019_5_4.csv   trips_2019_9_4.csv\n",
            "trips_2019_1_3.csv    trips_2019_5_5.csv   trips_2019_9_5.csv\n",
            "trips_2019_1_4.csv    trips_2019_5_6.csv   trips_2019_9_6.csv\n",
            "trips_2019_1_5.csv    trips_2019_5_7.csv   trips_2019_9_7.csv\n",
            "trips_2019_1_6.csv    trips_2019_5_8.csv   trips_2019_9_8.csv\n",
            "trips_2019_1_7.csv    trips_2019_5_9.csv   trips_2019_9_9.csv\n",
            "trips_2019_1_8.csv    trips_2019_6_10.csv\n",
            "trips_2019_1_9.csv    trips_2019_6_11.csv\n"
          ]
        }
      ]
    },
    {
      "cell_type": "code",
      "metadata": {
        "id": "-SSdNk2zNBH7"
      },
      "source": [
        "road_data_path = '/content/drive/My Drive/2021 Route Prediction/Project-1/Source-Code/data/route_network/clustered'\n",
        "trips_data_path = '/content/drive/My Drive/2021 Route Prediction/Project-1/Source-Code/data/trips_and_stops_NE_2019'\n",
        "way_id_on_trips_path = '/content/drive/My Drive/2021 Route Prediction/Project-1/Source-Code/data/3.2_wayid_on_trips'"
      ],
      "execution_count": 7,
      "outputs": []
    },
    {
      "cell_type": "code",
      "metadata": {
        "colab": {
          "base_uri": "https://localhost:8080/"
        },
        "id": "MuGR9L6flubv",
        "outputId": "bcd6a4b6-2151-46bc-ca6a-cf8753cb42e3"
      },
      "source": [
        "!ls '/content/drive/My Drive/2021 Route Prediction/Project-1/Source-Code/model/3.2'"
      ],
      "execution_count": 8,
      "outputs": [
        {
          "output_type": "stream",
          "name": "stdout",
          "text": [
            "1_road_network_use_segment.ipynb\t    6_train_new_label.ipynb\n",
            "2_road_network_mapping_with_ckd_tree.ipynb  DB_test_way_eps0.02.pkl\n",
            "3_test_quickbundle_lebel.ipynb\t\t    HDB_test_way_eps0.02.pkl\n",
            "4_test_quickbundle_model_training.ipynb     QBcluster_test_way_treshold12.pkl\n",
            "5_new_label.ipynb\t\t\t    QBcluster_test_way_treshold24.pkl\n"
          ]
        }
      ]
    },
    {
      "cell_type": "markdown",
      "metadata": {
        "id": "tJTI7kpMdLr4"
      },
      "source": [
        "## get trip data"
      ]
    },
    {
      "cell_type": "code",
      "metadata": {
        "colab": {
          "base_uri": "https://localhost:8080/",
          "height": 241
        },
        "id": "rSU3RhAPdKnw",
        "outputId": "35ba6065-c5a5-4b3a-c581-28613457bc99"
      },
      "source": [
        "dfs = []\n",
        "day_len = []\n",
        "day_trip_count = []\n",
        "# days = range(1,32)\n",
        "days = range(1,2)\n",
        "# months = range(1,4)\n",
        "months = range(1,2)\n",
        "\n",
        "for month in months:\n",
        "  for day in days:\n",
        "    try:\n",
        "      sp_seq_df = pd.read_csv(way_id_on_trips_path + f'/lebeled/testtrips_2019_{month}_{day}.csv', parse_dates=['time_stamp'])\n",
        "    except:\n",
        "      pass\n",
        "\n",
        "    sp_seq_df = sp_seq_df.sort_values(by=['trip_id', 'time_stamp'])\n",
        "\n",
        "    trip_count = sp_seq_df.trip_id.value_counts()\n",
        "    trip_count = trip_count[trip_count >= 12]\n",
        "    sp_seq_df = sp_seq_df[sp_seq_df.trip_id.isin(trip_count.index)]\n",
        "    sp_seq_df['month'] = month\n",
        "    sp_seq_df['day'] = day\n",
        "    day_len.append(len(sp_seq_df))\n",
        "    day_trip_count.append(len(trip_count))\n",
        "    dfs.append(sp_seq_df)\n",
        "print(day_len)\n",
        "print(day_trip_count)\n",
        "df = pd.concat(dfs, ignore_index=True)\n",
        "df\n",
        "\n",
        "# df = df[['trip_id', 'way_id', 'day', 'month','route_cluster']]\n",
        "df.head()"
      ],
      "execution_count": 9,
      "outputs": [
        {
          "output_type": "stream",
          "name": "stdout",
          "text": [
            "[12599]\n",
            "[356]\n"
          ]
        },
        {
          "output_type": "execute_result",
          "data": {
            "text/html": [
              "<div>\n",
              "<style scoped>\n",
              "    .dataframe tbody tr th:only-of-type {\n",
              "        vertical-align: middle;\n",
              "    }\n",
              "\n",
              "    .dataframe tbody tr th {\n",
              "        vertical-align: top;\n",
              "    }\n",
              "\n",
              "    .dataframe thead th {\n",
              "        text-align: right;\n",
              "    }\n",
              "</style>\n",
              "<table border=\"1\" class=\"dataframe\">\n",
              "  <thead>\n",
              "    <tr style=\"text-align: right;\">\n",
              "      <th></th>\n",
              "      <th>time_stamp</th>\n",
              "      <th>unit_id</th>\n",
              "      <th>lat</th>\n",
              "      <th>lon</th>\n",
              "      <th>speed</th>\n",
              "      <th>unit_type</th>\n",
              "      <th>trip_id</th>\n",
              "      <th>way_id</th>\n",
              "      <th>dist</th>\n",
              "      <th>route_cluster</th>\n",
              "      <th>month</th>\n",
              "      <th>day</th>\n",
              "    </tr>\n",
              "  </thead>\n",
              "  <tbody>\n",
              "    <tr>\n",
              "      <th>0</th>\n",
              "      <td>2019-01-01 00:00:39</td>\n",
              "      <td>016000200000352253062499073</td>\n",
              "      <td>17.49378</td>\n",
              "      <td>102.79729</td>\n",
              "      <td>0</td>\n",
              "      <td>6.0</td>\n",
              "      <td>1</td>\n",
              "      <td>686967969</td>\n",
              "      <td>0.015018</td>\n",
              "      <td>1.0</td>\n",
              "      <td>1</td>\n",
              "      <td>1</td>\n",
              "    </tr>\n",
              "    <tr>\n",
              "      <th>1</th>\n",
              "      <td>2019-01-01 04:26:59</td>\n",
              "      <td>016000200000352253062499073</td>\n",
              "      <td>17.53611</td>\n",
              "      <td>102.75656</td>\n",
              "      <td>53</td>\n",
              "      <td>6.0</td>\n",
              "      <td>1</td>\n",
              "      <td>686957536</td>\n",
              "      <td>0.004565</td>\n",
              "      <td>9.0</td>\n",
              "      <td>1</td>\n",
              "      <td>1</td>\n",
              "    </tr>\n",
              "    <tr>\n",
              "      <th>2</th>\n",
              "      <td>2019-01-01 04:29:39</td>\n",
              "      <td>016000200000352253062499073</td>\n",
              "      <td>17.54386</td>\n",
              "      <td>102.73553</td>\n",
              "      <td>54</td>\n",
              "      <td>6.0</td>\n",
              "      <td>1</td>\n",
              "      <td>686912257</td>\n",
              "      <td>0.001649</td>\n",
              "      <td>10.0</td>\n",
              "      <td>1</td>\n",
              "      <td>1</td>\n",
              "    </tr>\n",
              "    <tr>\n",
              "      <th>3</th>\n",
              "      <td>2019-01-01 04:32:39</td>\n",
              "      <td>016000200000352253062499073</td>\n",
              "      <td>17.55281</td>\n",
              "      <td>102.71174</td>\n",
              "      <td>56</td>\n",
              "      <td>6.0</td>\n",
              "      <td>1</td>\n",
              "      <td>686911019</td>\n",
              "      <td>0.011723</td>\n",
              "      <td>10.0</td>\n",
              "      <td>1</td>\n",
              "      <td>1</td>\n",
              "    </tr>\n",
              "    <tr>\n",
              "      <th>4</th>\n",
              "      <td>2019-01-01 04:35:59</td>\n",
              "      <td>016000200000352253062499073</td>\n",
              "      <td>17.56263</td>\n",
              "      <td>102.68405</td>\n",
              "      <td>54</td>\n",
              "      <td>6.0</td>\n",
              "      <td>1</td>\n",
              "      <td>686910206</td>\n",
              "      <td>0.014603</td>\n",
              "      <td>10.0</td>\n",
              "      <td>1</td>\n",
              "      <td>1</td>\n",
              "    </tr>\n",
              "  </tbody>\n",
              "</table>\n",
              "</div>"
            ],
            "text/plain": [
              "           time_stamp                      unit_id  ...  month  day\n",
              "0 2019-01-01 00:00:39  016000200000352253062499073  ...      1    1\n",
              "1 2019-01-01 04:26:59  016000200000352253062499073  ...      1    1\n",
              "2 2019-01-01 04:29:39  016000200000352253062499073  ...      1    1\n",
              "3 2019-01-01 04:32:39  016000200000352253062499073  ...      1    1\n",
              "4 2019-01-01 04:35:59  016000200000352253062499073  ...      1    1\n",
              "\n",
              "[5 rows x 12 columns]"
            ]
          },
          "metadata": {},
          "execution_count": 9
        }
      ]
    },
    {
      "cell_type": "markdown",
      "metadata": {
        "id": "Tlqu0eDMdVo5"
      },
      "source": [
        "## get pickle"
      ]
    },
    {
      "cell_type": "code",
      "metadata": {
        "colab": {
          "base_uri": "https://localhost:8080/"
        },
        "id": "SODEwv2tdaLQ",
        "outputId": "b4eaff9a-a562-41fc-cd40-e865d5c2c7b6"
      },
      "source": [
        "!pip install hdbscan"
      ],
      "execution_count": 10,
      "outputs": [
        {
          "output_type": "stream",
          "name": "stdout",
          "text": [
            "Requirement already satisfied: hdbscan in /usr/local/lib/python3.7/dist-packages (0.8.27)\n",
            "Requirement already satisfied: numpy>=1.16 in /usr/local/lib/python3.7/dist-packages (from hdbscan) (1.21.4)\n",
            "Requirement already satisfied: cython>=0.27 in /usr/local/lib/python3.7/dist-packages (from hdbscan) (0.29.24)\n",
            "Requirement already satisfied: scikit-learn>=0.20 in /usr/local/lib/python3.7/dist-packages (from hdbscan) (1.0.1)\n",
            "Requirement already satisfied: scipy>=1.0 in /usr/local/lib/python3.7/dist-packages (from hdbscan) (1.4.1)\n",
            "Requirement already satisfied: six in /usr/local/lib/python3.7/dist-packages (from hdbscan) (1.15.0)\n",
            "Requirement already satisfied: joblib>=1.0 in /usr/local/lib/python3.7/dist-packages (from hdbscan) (1.1.0)\n",
            "Requirement already satisfied: threadpoolctl>=2.0.0 in /usr/local/lib/python3.7/dist-packages (from scikit-learn>=0.20->hdbscan) (3.0.0)\n"
          ]
        }
      ]
    },
    {
      "cell_type": "code",
      "metadata": {
        "colab": {
          "base_uri": "https://localhost:8080/"
        },
        "id": "aTH5Cx69ddaA",
        "outputId": "cf0880ed-bead-456b-8c79-6d75f4ef0a93"
      },
      "source": [
        "from hdbscan import HDBSCAN \n",
        "import pickle\n",
        "train_path = '/content/drive/My Drive/2021 Route Prediction/Project-1/Source-Code/model/3.2'\n",
        "pkl_filename = train_path+\"/HDB_test_way_eps0.02.pkl\"\n",
        "with open(pkl_filename, 'rb') as file:\n",
        "    clustering = pickle.load(file)\n",
        "clustering.labels_"
      ],
      "execution_count": 11,
      "outputs": [
        {
          "output_type": "execute_result",
          "data": {
            "text/plain": [
              "array([164, 193,  -1, ..., 707, 707, 707])"
            ]
          },
          "metadata": {},
          "execution_count": 11
        }
      ]
    },
    {
      "cell_type": "markdown",
      "metadata": {
        "id": "fDDEytS6fkGg"
      },
      "source": [
        "## get way segment labeled"
      ]
    },
    {
      "cell_type": "code",
      "metadata": {
        "colab": {
          "base_uri": "https://localhost:8080/",
          "height": 423
        },
        "id": "0VOgi0HXfzaG",
        "outputId": "8d261cc9-ccf0-45ab-e168-a23de9a206ef"
      },
      "source": [
        "way_segment_labeled_df = pd.read_csv(way_id_on_trips_path + f'/lebeled/HDB_label_esp0.02.csv')\n",
        "way_segment_labeled_df['road_seg'] = way_segment_labeled_df['road_seg'].map(lambda x: eval(x))\n",
        "way_segment_labeled_df"
      ],
      "execution_count": 12,
      "outputs": [
        {
          "output_type": "execute_result",
          "data": {
            "text/html": [
              "<div>\n",
              "<style scoped>\n",
              "    .dataframe tbody tr th:only-of-type {\n",
              "        vertical-align: middle;\n",
              "    }\n",
              "\n",
              "    .dataframe tbody tr th {\n",
              "        vertical-align: top;\n",
              "    }\n",
              "\n",
              "    .dataframe thead th {\n",
              "        text-align: right;\n",
              "    }\n",
              "</style>\n",
              "<table border=\"1\" class=\"dataframe\">\n",
              "  <thead>\n",
              "    <tr style=\"text-align: right;\">\n",
              "      <th></th>\n",
              "      <th>way_id</th>\n",
              "      <th>road_seg</th>\n",
              "      <th>mid_lat</th>\n",
              "      <th>mid_lon</th>\n",
              "      <th>count</th>\n",
              "      <th>label</th>\n",
              "    </tr>\n",
              "  </thead>\n",
              "  <tbody>\n",
              "    <tr>\n",
              "      <th>0</th>\n",
              "      <td>686967969</td>\n",
              "      <td>(35, 449)</td>\n",
              "      <td>17.478832</td>\n",
              "      <td>102.795843</td>\n",
              "      <td>12</td>\n",
              "      <td>164</td>\n",
              "    </tr>\n",
              "    <tr>\n",
              "      <th>1</th>\n",
              "      <td>686957536</td>\n",
              "      <td>(2895, 4520)</td>\n",
              "      <td>17.535332</td>\n",
              "      <td>102.761058</td>\n",
              "      <td>1</td>\n",
              "      <td>193</td>\n",
              "    </tr>\n",
              "    <tr>\n",
              "      <th>2</th>\n",
              "      <td>686912257</td>\n",
              "      <td>(4519, 4520)</td>\n",
              "      <td>17.544479</td>\n",
              "      <td>102.734002</td>\n",
              "      <td>3</td>\n",
              "      <td>-1</td>\n",
              "    </tr>\n",
              "    <tr>\n",
              "      <th>3</th>\n",
              "      <td>686911019</td>\n",
              "      <td>(4516, 4519)</td>\n",
              "      <td>17.556765</td>\n",
              "      <td>102.700705</td>\n",
              "      <td>3</td>\n",
              "      <td>149</td>\n",
              "    </tr>\n",
              "    <tr>\n",
              "      <th>4</th>\n",
              "      <td>686910206</td>\n",
              "      <td>(4516, 4517)</td>\n",
              "      <td>17.566924</td>\n",
              "      <td>102.670093</td>\n",
              "      <td>6</td>\n",
              "      <td>149</td>\n",
              "    </tr>\n",
              "    <tr>\n",
              "      <th>...</th>\n",
              "      <td>...</td>\n",
              "      <td>...</td>\n",
              "      <td>...</td>\n",
              "      <td>...</td>\n",
              "      <td>...</td>\n",
              "      <td>...</td>\n",
              "    </tr>\n",
              "    <tr>\n",
              "      <th>56106</th>\n",
              "      <td>123076908</td>\n",
              "      <td>(439, 442)</td>\n",
              "      <td>16.631444</td>\n",
              "      <td>102.800829</td>\n",
              "      <td>84</td>\n",
              "      <td>707</td>\n",
              "    </tr>\n",
              "    <tr>\n",
              "      <th>56107</th>\n",
              "      <td>123076908</td>\n",
              "      <td>(414, 439)</td>\n",
              "      <td>16.616631</td>\n",
              "      <td>102.805282</td>\n",
              "      <td>129</td>\n",
              "      <td>707</td>\n",
              "    </tr>\n",
              "    <tr>\n",
              "      <th>56108</th>\n",
              "      <td>123076908</td>\n",
              "      <td>(414, 562)</td>\n",
              "      <td>16.607361</td>\n",
              "      <td>102.812563</td>\n",
              "      <td>129</td>\n",
              "      <td>707</td>\n",
              "    </tr>\n",
              "    <tr>\n",
              "      <th>56109</th>\n",
              "      <td>91540198</td>\n",
              "      <td>(419, 420)</td>\n",
              "      <td>16.678062</td>\n",
              "      <td>102.804382</td>\n",
              "      <td>49</td>\n",
              "      <td>707</td>\n",
              "    </tr>\n",
              "    <tr>\n",
              "      <th>56110</th>\n",
              "      <td>91540198</td>\n",
              "      <td>(420, 421)</td>\n",
              "      <td>16.669271</td>\n",
              "      <td>102.803689</td>\n",
              "      <td>49</td>\n",
              "      <td>707</td>\n",
              "    </tr>\n",
              "  </tbody>\n",
              "</table>\n",
              "<p>56111 rows × 6 columns</p>\n",
              "</div>"
            ],
            "text/plain": [
              "          way_id      road_seg    mid_lat     mid_lon  count  label\n",
              "0      686967969     (35, 449)  17.478832  102.795843     12    164\n",
              "1      686957536  (2895, 4520)  17.535332  102.761058      1    193\n",
              "2      686912257  (4519, 4520)  17.544479  102.734002      3     -1\n",
              "3      686911019  (4516, 4519)  17.556765  102.700705      3    149\n",
              "4      686910206  (4516, 4517)  17.566924  102.670093      6    149\n",
              "...          ...           ...        ...         ...    ...    ...\n",
              "56106  123076908    (439, 442)  16.631444  102.800829     84    707\n",
              "56107  123076908    (414, 439)  16.616631  102.805282    129    707\n",
              "56108  123076908    (414, 562)  16.607361  102.812563    129    707\n",
              "56109   91540198    (419, 420)  16.678062  102.804382     49    707\n",
              "56110   91540198    (420, 421)  16.669271  102.803689     49    707\n",
              "\n",
              "[56111 rows x 6 columns]"
            ]
          },
          "metadata": {},
          "execution_count": 12
        }
      ]
    },
    {
      "cell_type": "markdown",
      "metadata": {
        "id": "VyUEMEiKhZYd"
      },
      "source": [
        "# get rid of mini cluster and map labeled"
      ]
    },
    {
      "cell_type": "code",
      "metadata": {
        "colab": {
          "base_uri": "https://localhost:8080/",
          "height": 423
        },
        "id": "O3mo_JJEhUb-",
        "outputId": "91228415-6ae1-4240-cb83-c48227151c55"
      },
      "source": [
        "map_way_label = []\n",
        "for way_id in df['way_id'].to_list():\n",
        "  label_count = way_segment_labeled_df[way_segment_labeled_df.way_id==way_id][['label', 'count']].sort_values(by='count')\n",
        "  map_way_label.append([way_id, label_count.iloc[0].label])\n",
        "map_way_label = pd.DataFrame(map_way_label, columns=['way_id', 'label'])\n",
        "map_way_label"
      ],
      "execution_count": 13,
      "outputs": [
        {
          "output_type": "execute_result",
          "data": {
            "text/html": [
              "<div>\n",
              "<style scoped>\n",
              "    .dataframe tbody tr th:only-of-type {\n",
              "        vertical-align: middle;\n",
              "    }\n",
              "\n",
              "    .dataframe tbody tr th {\n",
              "        vertical-align: top;\n",
              "    }\n",
              "\n",
              "    .dataframe thead th {\n",
              "        text-align: right;\n",
              "    }\n",
              "</style>\n",
              "<table border=\"1\" class=\"dataframe\">\n",
              "  <thead>\n",
              "    <tr style=\"text-align: right;\">\n",
              "      <th></th>\n",
              "      <th>way_id</th>\n",
              "      <th>label</th>\n",
              "    </tr>\n",
              "  </thead>\n",
              "  <tbody>\n",
              "    <tr>\n",
              "      <th>0</th>\n",
              "      <td>686967969</td>\n",
              "      <td>164</td>\n",
              "    </tr>\n",
              "    <tr>\n",
              "      <th>1</th>\n",
              "      <td>686957536</td>\n",
              "      <td>193</td>\n",
              "    </tr>\n",
              "    <tr>\n",
              "      <th>2</th>\n",
              "      <td>686912257</td>\n",
              "      <td>-1</td>\n",
              "    </tr>\n",
              "    <tr>\n",
              "      <th>3</th>\n",
              "      <td>686911019</td>\n",
              "      <td>149</td>\n",
              "    </tr>\n",
              "    <tr>\n",
              "      <th>4</th>\n",
              "      <td>686910206</td>\n",
              "      <td>149</td>\n",
              "    </tr>\n",
              "    <tr>\n",
              "      <th>...</th>\n",
              "      <td>...</td>\n",
              "      <td>...</td>\n",
              "    </tr>\n",
              "    <tr>\n",
              "      <th>12594</th>\n",
              "      <td>879405396</td>\n",
              "      <td>707</td>\n",
              "    </tr>\n",
              "    <tr>\n",
              "      <th>12595</th>\n",
              "      <td>123076908</td>\n",
              "      <td>707</td>\n",
              "    </tr>\n",
              "    <tr>\n",
              "      <th>12596</th>\n",
              "      <td>143803013</td>\n",
              "      <td>707</td>\n",
              "    </tr>\n",
              "    <tr>\n",
              "      <th>12597</th>\n",
              "      <td>123076908</td>\n",
              "      <td>707</td>\n",
              "    </tr>\n",
              "    <tr>\n",
              "      <th>12598</th>\n",
              "      <td>91540198</td>\n",
              "      <td>707</td>\n",
              "    </tr>\n",
              "  </tbody>\n",
              "</table>\n",
              "<p>12599 rows × 2 columns</p>\n",
              "</div>"
            ],
            "text/plain": [
              "          way_id  label\n",
              "0      686967969    164\n",
              "1      686957536    193\n",
              "2      686912257     -1\n",
              "3      686911019    149\n",
              "4      686910206    149\n",
              "...          ...    ...\n",
              "12594  879405396    707\n",
              "12595  123076908    707\n",
              "12596  143803013    707\n",
              "12597  123076908    707\n",
              "12598   91540198    707\n",
              "\n",
              "[12599 rows x 2 columns]"
            ]
          },
          "metadata": {},
          "execution_count": 13
        }
      ]
    },
    {
      "cell_type": "code",
      "metadata": {
        "colab": {
          "base_uri": "https://localhost:8080/"
        },
        "id": "jt06y_Vpm31q",
        "outputId": "f4ea37f0-f5e6-446a-8d65-9eac723ca422"
      },
      "source": [
        "map_way_label.way_id.unique"
      ],
      "execution_count": 14,
      "outputs": [
        {
          "output_type": "execute_result",
          "data": {
            "text/plain": [
              "<bound method Series.unique of 0        686967969\n",
              "1        686957536\n",
              "2        686912257\n",
              "3        686911019\n",
              "4        686910206\n",
              "           ...    \n",
              "12594    879405396\n",
              "12595    123076908\n",
              "12596    143803013\n",
              "12597    123076908\n",
              "12598     91540198\n",
              "Name: way_id, Length: 12599, dtype: int64>"
            ]
          },
          "metadata": {},
          "execution_count": 14
        }
      ]
    },
    {
      "cell_type": "code",
      "metadata": {
        "colab": {
          "base_uri": "https://localhost:8080/"
        },
        "id": "d6nY7iSOSElG",
        "outputId": "6a522d51-7148-45da-d20a-2558a5fe53f5"
      },
      "source": [
        "df.way_id.unique"
      ],
      "execution_count": 15,
      "outputs": [
        {
          "output_type": "execute_result",
          "data": {
            "text/plain": [
              "<bound method Series.unique of 0        686967969\n",
              "1        686957536\n",
              "2        686912257\n",
              "3        686911019\n",
              "4        686910206\n",
              "           ...    \n",
              "12594    879405396\n",
              "12595    123076908\n",
              "12596    143803013\n",
              "12597    123076908\n",
              "12598     91540198\n",
              "Name: way_id, Length: 12599, dtype: int64>"
            ]
          },
          "metadata": {},
          "execution_count": 15
        }
      ]
    },
    {
      "cell_type": "code",
      "metadata": {
        "colab": {
          "base_uri": "https://localhost:8080/",
          "height": 423
        },
        "id": "pFLPYz06kG5i",
        "outputId": "eda582f8-0861-4066-80c6-7fdf515bb7b2"
      },
      "source": [
        "df_labeled = df\n",
        "# df_labeled = df_labeled.merge(map_way_label, left_on='way_id', right_on='way_id', how='left')\n",
        "df_labeled['label'] = map_way_label['label']\n",
        "df_labeled"
      ],
      "execution_count": 16,
      "outputs": [
        {
          "output_type": "execute_result",
          "data": {
            "text/html": [
              "<div>\n",
              "<style scoped>\n",
              "    .dataframe tbody tr th:only-of-type {\n",
              "        vertical-align: middle;\n",
              "    }\n",
              "\n",
              "    .dataframe tbody tr th {\n",
              "        vertical-align: top;\n",
              "    }\n",
              "\n",
              "    .dataframe thead th {\n",
              "        text-align: right;\n",
              "    }\n",
              "</style>\n",
              "<table border=\"1\" class=\"dataframe\">\n",
              "  <thead>\n",
              "    <tr style=\"text-align: right;\">\n",
              "      <th></th>\n",
              "      <th>time_stamp</th>\n",
              "      <th>unit_id</th>\n",
              "      <th>lat</th>\n",
              "      <th>lon</th>\n",
              "      <th>speed</th>\n",
              "      <th>unit_type</th>\n",
              "      <th>trip_id</th>\n",
              "      <th>way_id</th>\n",
              "      <th>dist</th>\n",
              "      <th>route_cluster</th>\n",
              "      <th>month</th>\n",
              "      <th>day</th>\n",
              "      <th>label</th>\n",
              "    </tr>\n",
              "  </thead>\n",
              "  <tbody>\n",
              "    <tr>\n",
              "      <th>0</th>\n",
              "      <td>2019-01-01 00:00:39</td>\n",
              "      <td>016000200000352253062499073</td>\n",
              "      <td>17.493780</td>\n",
              "      <td>102.797290</td>\n",
              "      <td>0</td>\n",
              "      <td>6.0</td>\n",
              "      <td>1</td>\n",
              "      <td>686967969</td>\n",
              "      <td>0.015018</td>\n",
              "      <td>1.0</td>\n",
              "      <td>1</td>\n",
              "      <td>1</td>\n",
              "      <td>164</td>\n",
              "    </tr>\n",
              "    <tr>\n",
              "      <th>1</th>\n",
              "      <td>2019-01-01 04:26:59</td>\n",
              "      <td>016000200000352253062499073</td>\n",
              "      <td>17.536110</td>\n",
              "      <td>102.756560</td>\n",
              "      <td>53</td>\n",
              "      <td>6.0</td>\n",
              "      <td>1</td>\n",
              "      <td>686957536</td>\n",
              "      <td>0.004565</td>\n",
              "      <td>9.0</td>\n",
              "      <td>1</td>\n",
              "      <td>1</td>\n",
              "      <td>193</td>\n",
              "    </tr>\n",
              "    <tr>\n",
              "      <th>2</th>\n",
              "      <td>2019-01-01 04:29:39</td>\n",
              "      <td>016000200000352253062499073</td>\n",
              "      <td>17.543860</td>\n",
              "      <td>102.735530</td>\n",
              "      <td>54</td>\n",
              "      <td>6.0</td>\n",
              "      <td>1</td>\n",
              "      <td>686912257</td>\n",
              "      <td>0.001649</td>\n",
              "      <td>10.0</td>\n",
              "      <td>1</td>\n",
              "      <td>1</td>\n",
              "      <td>-1</td>\n",
              "    </tr>\n",
              "    <tr>\n",
              "      <th>3</th>\n",
              "      <td>2019-01-01 04:32:39</td>\n",
              "      <td>016000200000352253062499073</td>\n",
              "      <td>17.552810</td>\n",
              "      <td>102.711740</td>\n",
              "      <td>56</td>\n",
              "      <td>6.0</td>\n",
              "      <td>1</td>\n",
              "      <td>686911019</td>\n",
              "      <td>0.011723</td>\n",
              "      <td>10.0</td>\n",
              "      <td>1</td>\n",
              "      <td>1</td>\n",
              "      <td>149</td>\n",
              "    </tr>\n",
              "    <tr>\n",
              "      <th>4</th>\n",
              "      <td>2019-01-01 04:35:59</td>\n",
              "      <td>016000200000352253062499073</td>\n",
              "      <td>17.562630</td>\n",
              "      <td>102.684050</td>\n",
              "      <td>54</td>\n",
              "      <td>6.0</td>\n",
              "      <td>1</td>\n",
              "      <td>686910206</td>\n",
              "      <td>0.014603</td>\n",
              "      <td>10.0</td>\n",
              "      <td>1</td>\n",
              "      <td>1</td>\n",
              "      <td>149</td>\n",
              "    </tr>\n",
              "    <tr>\n",
              "      <th>...</th>\n",
              "      <td>...</td>\n",
              "      <td>...</td>\n",
              "      <td>...</td>\n",
              "      <td>...</td>\n",
              "      <td>...</td>\n",
              "      <td>...</td>\n",
              "      <td>...</td>\n",
              "      <td>...</td>\n",
              "      <td>...</td>\n",
              "      <td>...</td>\n",
              "      <td>...</td>\n",
              "      <td>...</td>\n",
              "      <td>...</td>\n",
              "    </tr>\n",
              "    <tr>\n",
              "      <th>12594</th>\n",
              "      <td>2019-01-01 05:30:33</td>\n",
              "      <td>02800040000000GSNF610300028</td>\n",
              "      <td>16.596032</td>\n",
              "      <td>102.818230</td>\n",
              "      <td>70</td>\n",
              "      <td>7.0</td>\n",
              "      <td>441</td>\n",
              "      <td>879405396</td>\n",
              "      <td>0.001989</td>\n",
              "      <td>748.0</td>\n",
              "      <td>1</td>\n",
              "      <td>1</td>\n",
              "      <td>707</td>\n",
              "    </tr>\n",
              "    <tr>\n",
              "      <th>12595</th>\n",
              "      <td>2019-01-01 05:31:33</td>\n",
              "      <td>02800040000000GSNF610300028</td>\n",
              "      <td>16.604758</td>\n",
              "      <td>102.814772</td>\n",
              "      <td>63</td>\n",
              "      <td>7.0</td>\n",
              "      <td>441</td>\n",
              "      <td>123076908</td>\n",
              "      <td>0.003414</td>\n",
              "      <td>748.0</td>\n",
              "      <td>1</td>\n",
              "      <td>1</td>\n",
              "      <td>707</td>\n",
              "    </tr>\n",
              "    <tr>\n",
              "      <th>12596</th>\n",
              "      <td>2019-01-01 05:34:33</td>\n",
              "      <td>02800040000000GSNF610300028</td>\n",
              "      <td>16.628225</td>\n",
              "      <td>102.799135</td>\n",
              "      <td>58</td>\n",
              "      <td>7.0</td>\n",
              "      <td>441</td>\n",
              "      <td>143803013</td>\n",
              "      <td>0.001789</td>\n",
              "      <td>748.0</td>\n",
              "      <td>1</td>\n",
              "      <td>1</td>\n",
              "      <td>707</td>\n",
              "    </tr>\n",
              "    <tr>\n",
              "      <th>12597</th>\n",
              "      <td>2019-01-01 05:36:33</td>\n",
              "      <td>02800040000000GSNF610300028</td>\n",
              "      <td>16.646123</td>\n",
              "      <td>102.800078</td>\n",
              "      <td>68</td>\n",
              "      <td>7.0</td>\n",
              "      <td>441</td>\n",
              "      <td>123076908</td>\n",
              "      <td>0.000282</td>\n",
              "      <td>748.0</td>\n",
              "      <td>1</td>\n",
              "      <td>1</td>\n",
              "      <td>707</td>\n",
              "    </tr>\n",
              "    <tr>\n",
              "      <th>12598</th>\n",
              "      <td>2019-01-01 05:38:33</td>\n",
              "      <td>02800040000000GSNF610300028</td>\n",
              "      <td>16.664932</td>\n",
              "      <td>102.803080</td>\n",
              "      <td>69</td>\n",
              "      <td>7.0</td>\n",
              "      <td>441</td>\n",
              "      <td>91540198</td>\n",
              "      <td>0.004382</td>\n",
              "      <td>748.0</td>\n",
              "      <td>1</td>\n",
              "      <td>1</td>\n",
              "      <td>707</td>\n",
              "    </tr>\n",
              "  </tbody>\n",
              "</table>\n",
              "<p>12599 rows × 13 columns</p>\n",
              "</div>"
            ],
            "text/plain": [
              "               time_stamp                      unit_id  ...  day  label\n",
              "0     2019-01-01 00:00:39  016000200000352253062499073  ...    1    164\n",
              "1     2019-01-01 04:26:59  016000200000352253062499073  ...    1    193\n",
              "2     2019-01-01 04:29:39  016000200000352253062499073  ...    1     -1\n",
              "3     2019-01-01 04:32:39  016000200000352253062499073  ...    1    149\n",
              "4     2019-01-01 04:35:59  016000200000352253062499073  ...    1    149\n",
              "...                   ...                          ...  ...  ...    ...\n",
              "12594 2019-01-01 05:30:33  02800040000000GSNF610300028  ...    1    707\n",
              "12595 2019-01-01 05:31:33  02800040000000GSNF610300028  ...    1    707\n",
              "12596 2019-01-01 05:34:33  02800040000000GSNF610300028  ...    1    707\n",
              "12597 2019-01-01 05:36:33  02800040000000GSNF610300028  ...    1    707\n",
              "12598 2019-01-01 05:38:33  02800040000000GSNF610300028  ...    1    707\n",
              "\n",
              "[12599 rows x 13 columns]"
            ]
          },
          "metadata": {},
          "execution_count": 16
        }
      ]
    },
    {
      "cell_type": "code",
      "metadata": {
        "colab": {
          "base_uri": "https://localhost:8080/"
        },
        "id": "6Flwg9ONFdqm",
        "outputId": "e8504312-d82b-4a66-86ec-bc7b3d1f70cf"
      },
      "source": [
        "import plotly_express as px\n",
        "px.set_mapbox_access_token(\"pk.eyJ1Ijoic2hha2Fzb20iLCJhIjoiY2plMWg1NGFpMXZ5NjJxbjhlM2ttN3AwbiJ9.RtGYHmreKiyBfHuElgYq_w\")\n",
        "\n",
        "# for way_id in pd.unique(mid_way_df['way_id']):\n",
        "#   way = mid_way_df[mid_way_df['way_id']==way_id]\n",
        "\n",
        "# plot_way = df_labeled[mid_way_df['label']!=-1]\n",
        "plot_way = df_labeled[:1000]\n",
        "\n",
        "plot_way = plot_way.merge(way_segment_labeled_df[['way_id', 'mid_lat', 'mid_lon']], how=\"left\")\n",
        "plot_way['label'] = plot_way['label'].astype('category')\n",
        "print(plot_way.shape)\n",
        "\n",
        "# fig = px.line_mapbox(\n",
        "fig = px.scatter_mapbox(\n",
        "  plot_way, \n",
        "  lat=\"mid_lat\", \n",
        "  lon=\"mid_lon\",\n",
        "  color=\"label\",\n",
        "  hover_data= ['way_id', 'mid_lat', 'mid_lon', 'label'], \n",
        "  # zoom=9, \n",
        "  width=1200, \n",
        "  height=800\n",
        ")\n",
        "fig.show()"
      ],
      "execution_count": 17,
      "outputs": [
        {
          "output_type": "stream",
          "name": "stdout",
          "text": [
            "(450089, 15)\n"
          ]
        },
        {
          "output_type": "stream",
          "name": "stderr",
          "text": [
            "/usr/local/lib/python3.7/dist-packages/plotly/express/_core.py:283: FutureWarning:\n",
            "\n",
            "Support for multi-dimensional indexing (e.g. `obj[:, None]`) is deprecated and will be removed in a future version.  Convert to a numpy array before indexing instead.\n",
            "\n"
          ]
        }
      ]
    },
    {
      "cell_type": "markdown",
      "metadata": {
        "id": "ocIFm6zNlTsr"
      },
      "source": [
        "# pomegranate"
      ]
    },
    {
      "cell_type": "code",
      "metadata": {
        "id": "DshRZAjGlewZ"
      },
      "source": [
        "state_names = []\n",
        "uniq_label = df_labeled.label.unique()\n",
        "for label in uniq_label:\n",
        "  state_names.append(str(label))\n",
        "state_names[:5]\n",
        "\n",
        "X = []\n",
        "labels = []\n",
        "trip_df = df_labeled\n",
        "for month in months:\n",
        "  for day in days:\n",
        "    day_df = trip_df[(df.day == day) & (trip_df.month == month)]\n",
        "    uniq_trips = day_df.trip_id.unique()\n",
        "    for trip_id in uniq_trips:\n",
        "      trip = day_df[day_df.trip_id==trip_id]\n",
        "      X.append(trip.way_id.to_numpy().astype(str))\n",
        "      # labels.append(['None-start']+[str(l) for l in trip.route_cluster.to_list()])\n",
        "      labels.append([str(l) for l in trip.label.to_list()])\n",
        "print(X[0][:5])\n",
        "print(labels[0][:5])\n",
        "print(len(X))\n",
        "print(len(labels))"
      ],
      "execution_count": null,
      "outputs": []
    },
    {
      "cell_type": "code",
      "metadata": {
        "id": "jZobifEEsqJC"
      },
      "source": [
        "import random\n",
        "random.seed(42)\n",
        "\n",
        "X2 = X.copy()\n",
        "labels2 = labels.copy()\n",
        "\n",
        "temp = list(zip(X2, labels2))\n",
        "random.shuffle(temp)\n",
        "X2, labels2 = zip(*temp)\n",
        "X2 = list(X2)\n",
        "labels2 = list(labels2)\n",
        "\n",
        "print(X[0][:5])\n",
        "print(X2[0][:5])\n",
        "\n",
        "print(labels[0][:5])\n",
        "print(labels2[0][:5])"
      ],
      "execution_count": null,
      "outputs": []
    },
    {
      "cell_type": "code",
      "metadata": {
        "id": "8jej4rBLrY19"
      },
      "source": [
        "from collections import Counter\n",
        "import pickle\n",
        "\n",
        "# road_df = pd.read_csv(road_data_path+\"/route_network_with_cluster.csv\")\n",
        "\n",
        "# cluster_df = road_df[['cluster', 'center_lat', 'center_lon']]\n",
        "# cluster_df = cluster_df.drop_duplicates()\n",
        "# cluster_df.rename(columns = {'cluster':'sp', 'center_lat':'lat', 'center_lon':'lon'}, inplace = True)\n",
        "\n",
        "way_seq = df_labeled.way_id.to_list()\n",
        "not_stop_mask = [True]+[(a != b) for a, b in zip(way_seq[:-1], way_seq[1:])]\n",
        "df_labeled = df_labeled.loc[not_stop_mask]\n",
        "\n",
        "way_df = df_labeled[['way_id', 'lat', 'lon']]\n",
        "way_df = way_df.drop_duplicates(subset='way_id')\n",
        "\n",
        "# loc_df = df[['trip_id', 'way_id', 'month','day']].merge(way_df,how='left')\n",
        "# print(sp_seq_df.isna().any())\n",
        "# loc_df\n",
        "\n",
        "sp_list = set(map(str, way_df['way_id'].tolist()))\n",
        "\n",
        "def score(model, seq, label):\n",
        "  p = []\n",
        "  prob,path = model.viterbi(seq)\n",
        "  for s in path[1:]:\n",
        "    p.append(s[1].name)\n",
        "  \n",
        "  # c = Counter(p)\n",
        "  # tp = 0\n",
        "  # if c[label]:\n",
        "  #   tp = c[label]\n",
        "  # total = sum(c.values())\n",
        "  \n",
        "  tp = 0\n",
        "  for _state_name, _label in zip(p, label):\n",
        "    if _state_name == _label:\n",
        "      tp+=1\n",
        "  total = len(label)\n",
        "\n",
        "\n",
        "  # print(\"best prob : {}% \".format(np.exp(prob)*100))\n",
        "  # print(\"beat path : {}\".format(p))   \n",
        "  # print(\"labels : {}\".format(label))\n",
        "  # print(\"sequen    : {}\".format(seq))\n",
        "\n",
        "  return tp/total"
      ],
      "execution_count": null,
      "outputs": []
    },
    {
      "cell_type": "code",
      "metadata": {
        "id": "T6kv9ttWsJb7"
      },
      "source": [
        "!pip install pomegranate"
      ],
      "execution_count": null,
      "outputs": []
    },
    {
      "cell_type": "code",
      "metadata": {
        "id": "Fu7GgaEZsFYj"
      },
      "source": [
        "from pomegranate import *\n",
        "\n",
        "total = len(X2)\n",
        "fold = int(total/10)\n",
        "start = 0\n",
        "starts = [] # [0, 952, 1904, 2856, 3808, 4760, 5712, 6664, 7616, 8568]\n",
        "for i in range(10):\n",
        "  starts.append(start)\n",
        "  start+=fold\n",
        "\n",
        "accuracy_train = []\n",
        "accuracy_test = []\n",
        " \n",
        "for start in starts: # 10\n",
        "  X_train = X2[:start]+X2[start+fold:]\n",
        "  X_test = X2[start:start+fold]\n",
        "  labels_train = labels2[:start]+labels2[start+fold:]\n",
        "  labels_test = labels2[start:start+fold]\n",
        "\n",
        "  # บรรทัดนี้ปลอดภัยไว้ก่อน\n",
        "  uniq_sp = set()\n",
        "  for seq in X_train:\n",
        "    for sp in seq:\n",
        "      uniq_sp.add(sp)\n",
        "  uniq_label = set()\n",
        "  # for label in labels_train:\n",
        "  for label in labels_train:\n",
        "    for uniq in list(set(label)):\n",
        "      uniq_label.add(uniq)\n",
        "\n",
        "  new_label = []\n",
        "  for label2 in labels_train:\n",
        "    new_label.append(['None-start']+label2)\n",
        "  labels_train = new_label\n",
        "  \n",
        "  unseen_sp = sp_list - uniq_sp\n",
        "  print(len(unseen_sp))\n",
        "  X_train.append(np.array(list(unseen_sp)))\n",
        "  labels_train.append(['-1'] * len(unseen_sp))\n",
        "  # labels_train.append(['None-start'] + ['-1'] * len(unseen_sp))\n",
        "\n",
        "  # uniq_label.add('-1')\n",
        "\n",
        "  model = HiddenMarkovModel.from_samples(\n",
        "      DiscreteDistribution, \n",
        "      n_components=len(uniq_label), \n",
        "      X=X_train, \n",
        "      labels=labels_train,\n",
        "      algorithm='labeled',\n",
        "      state_names=list(uniq_label), \n",
        "      inertia=0.001,\n",
        "      max_iterations=10,\n",
        "      n_jobs=-1\n",
        "    ) \n",
        "\n",
        "  accuracy_train_percent = []\n",
        "  for percent in [0.25, 0.5, 0.75, 0.9]:\n",
        "    accu = 0\n",
        "    for seq, label in zip(X_train, labels_train):\n",
        "      sc = score(model, np.array(seq[:int(len(seq)*percent)]), label[1:])\n",
        "      if sc > 0:\n",
        "        accu += sc\n",
        "        # accu += 1\n",
        "    train_score = accu/len(X_train)\n",
        "    accuracy_train_percent.append(train_score)\n",
        "  accuracy_train.append(accuracy_train_percent)\n",
        "\n",
        "  accuracy_test_percent = []\n",
        "  for percent in [0.25, 0.5, 0.75, 0.9]:\n",
        "    accu = 0\n",
        "    for seq, label in zip(X_test, labels_test):\n",
        "      sc = score(model, np.array(seq[:int(len(seq)*percent)]), label[1:])\n",
        "      if sc > 0:\n",
        "        accu += sc\n",
        "        # accu += 1\n",
        "    test_score = accu/len(X_test)\n",
        "    accuracy_test_percent.append(test_score)\n",
        "  accuracy_test.append(accuracy_test_percent)\n",
        "\n",
        "  print(f'Score {start} - {start+fold}')\n",
        "  print(f'Train score')\n",
        "  print(f'\\t25% trip traverse : {accuracy_train_percent[0]}')\n",
        "  print(f'\\t50% trip traverse : {accuracy_train_percent[1]}')\n",
        "  print(f'\\t75% trip traverse : {accuracy_train_percent[2]}')\n",
        "  print(f'\\t90% trip traverse : {accuracy_train_percent[3]}')\n",
        "  print(f'Test score')\n",
        "  print(f'\\t25% trip traverse : {accuracy_test_percent[0]}')\n",
        "  print(f'\\t50% trip traverse : {accuracy_test_percent[1]}')\n",
        "  print(f'\\t75% trip traverse : {accuracy_test_percent[2]}')\n",
        "  print(f'\\t90% trip traverse : {accuracy_test_percent[3]}')\n",
        "\n",
        "print('all score')\n",
        "print('train score: ')\n",
        "for i in range(4):\n",
        "  sum = 0\n",
        "  for fold in accuracy_train:\n",
        "    sum += fold[i]\n",
        "  print(f'\\ttrip traverse {i} : {sum/10}')\n",
        "\n",
        "print('test score: ')\n",
        "for i in range(4):\n",
        "  sum = 0\n",
        "  for fold in accuracy_test:\n",
        "    sum += fold[i]\n",
        "  print(f'\\ttrip traverse {i} : {sum/10}')"
      ],
      "execution_count": null,
      "outputs": []
    }
  ]
}