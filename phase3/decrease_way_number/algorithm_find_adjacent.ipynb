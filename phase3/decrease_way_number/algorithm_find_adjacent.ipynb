{
  "nbformat": 4,
  "nbformat_minor": 0,
  "metadata": {
    "colab": {
      "name": "algorithm_find_adjacent.ipynb",
      "provenance": []
    },
    "kernelspec": {
      "name": "python3",
      "display_name": "Python 3"
    },
    "language_info": {
      "name": "python"
    }
  },
  "cells": [
    {
      "cell_type": "markdown",
      "metadata": {
        "id": "qL40dYAytNVE"
      },
      "source": [
        "# Import\n"
      ]
    },
    {
      "cell_type": "code",
      "metadata": {
        "colab": {
          "base_uri": "https://localhost:8080/"
        },
        "id": "wSLZi59WtNVE",
        "outputId": "2b9052a4-5343-4e97-8278-fa32d99ca029"
      },
      "source": [
        "from google.colab import drive\n",
        "drive.mount('/content/drive')"
      ],
      "execution_count": 1,
      "outputs": [
        {
          "output_type": "stream",
          "name": "stdout",
          "text": [
            "Mounted at /content/drive\n"
          ]
        }
      ]
    },
    {
      "cell_type": "code",
      "metadata": {
        "id": "xvAoCDU-tNVF"
      },
      "source": [
        "import pandas as pd\n",
        "import numpy as np\n",
        "import matplotlib.pyplot as plt"
      ],
      "execution_count": 2,
      "outputs": []
    },
    {
      "cell_type": "code",
      "metadata": {
        "colab": {
          "base_uri": "https://localhost:8080/"
        },
        "id": "dk4DTRNltNVF",
        "outputId": "05b6ee72-3c4b-4252-93fe-767b2aea9d66"
      },
      "source": [
        "!pip install plotly_express"
      ],
      "execution_count": null,
      "outputs": [
        {
          "output_type": "stream",
          "name": "stdout",
          "text": [
            "Collecting plotly_express\n",
            "  Downloading plotly_express-0.4.1-py2.py3-none-any.whl (2.9 kB)\n",
            "Requirement already satisfied: scipy>=0.18 in /usr/local/lib/python3.7/dist-packages (from plotly_express) (1.4.1)\n",
            "Requirement already satisfied: pandas>=0.20.0 in /usr/local/lib/python3.7/dist-packages (from plotly_express) (1.1.5)\n",
            "Requirement already satisfied: plotly>=4.1.0 in /usr/local/lib/python3.7/dist-packages (from plotly_express) (4.4.1)\n",
            "Requirement already satisfied: numpy>=1.11 in /usr/local/lib/python3.7/dist-packages (from plotly_express) (1.19.5)\n",
            "Requirement already satisfied: patsy>=0.5 in /usr/local/lib/python3.7/dist-packages (from plotly_express) (0.5.2)\n",
            "Requirement already satisfied: statsmodels>=0.9.0 in /usr/local/lib/python3.7/dist-packages (from plotly_express) (0.10.2)\n",
            "Requirement already satisfied: pytz>=2017.2 in /usr/local/lib/python3.7/dist-packages (from pandas>=0.20.0->plotly_express) (2018.9)\n",
            "Requirement already satisfied: python-dateutil>=2.7.3 in /usr/local/lib/python3.7/dist-packages (from pandas>=0.20.0->plotly_express) (2.8.2)\n",
            "Requirement already satisfied: six in /usr/local/lib/python3.7/dist-packages (from patsy>=0.5->plotly_express) (1.15.0)\n",
            "Requirement already satisfied: retrying>=1.3.3 in /usr/local/lib/python3.7/dist-packages (from plotly>=4.1.0->plotly_express) (1.3.3)\n",
            "Installing collected packages: plotly-express\n",
            "Successfully installed plotly-express-0.4.1\n"
          ]
        }
      ]
    },
    {
      "cell_type": "code",
      "metadata": {
        "colab": {
          "base_uri": "https://localhost:8080/"
        },
        "id": "PyUYZsccdV9i",
        "outputId": "f7dd4f9f-54bc-44af-f03e-36e8540ab6d6"
      },
      "source": [
        "!pip install geopandas"
      ],
      "execution_count": null,
      "outputs": [
        {
          "output_type": "stream",
          "name": "stdout",
          "text": [
            "Collecting geopandas\n",
            "  Downloading geopandas-0.10.2-py2.py3-none-any.whl (1.0 MB)\n",
            "\u001b[K     |████████████████████████████████| 1.0 MB 7.3 MB/s \n",
            "\u001b[?25hRequirement already satisfied: shapely>=1.6 in /usr/local/lib/python3.7/dist-packages (from geopandas) (1.8.0)\n",
            "Requirement already satisfied: pandas>=0.25.0 in /usr/local/lib/python3.7/dist-packages (from geopandas) (1.1.5)\n",
            "Collecting fiona>=1.8\n",
            "  Downloading Fiona-1.8.20-cp37-cp37m-manylinux1_x86_64.whl (15.4 MB)\n",
            "\u001b[K     |████████████████████████████████| 15.4 MB 39 kB/s \n",
            "\u001b[?25hCollecting pyproj>=2.2.0\n",
            "  Downloading pyproj-3.2.1-cp37-cp37m-manylinux2010_x86_64.whl (6.3 MB)\n",
            "\u001b[K     |████████████████████████████████| 6.3 MB 28.5 MB/s \n",
            "\u001b[?25hCollecting munch\n",
            "  Downloading munch-2.5.0-py2.py3-none-any.whl (10 kB)\n",
            "Collecting click-plugins>=1.0\n",
            "  Downloading click_plugins-1.1.1-py2.py3-none-any.whl (7.5 kB)\n",
            "Requirement already satisfied: six>=1.7 in /usr/local/lib/python3.7/dist-packages (from fiona>=1.8->geopandas) (1.15.0)\n",
            "Collecting cligj>=0.5\n",
            "  Downloading cligj-0.7.2-py3-none-any.whl (7.1 kB)\n",
            "Requirement already satisfied: attrs>=17 in /usr/local/lib/python3.7/dist-packages (from fiona>=1.8->geopandas) (21.2.0)\n",
            "Requirement already satisfied: certifi in /usr/local/lib/python3.7/dist-packages (from fiona>=1.8->geopandas) (2021.10.8)\n",
            "Requirement already satisfied: click>=4.0 in /usr/local/lib/python3.7/dist-packages (from fiona>=1.8->geopandas) (7.1.2)\n",
            "Requirement already satisfied: setuptools in /usr/local/lib/python3.7/dist-packages (from fiona>=1.8->geopandas) (57.4.0)\n",
            "Requirement already satisfied: numpy>=1.15.4 in /usr/local/lib/python3.7/dist-packages (from pandas>=0.25.0->geopandas) (1.19.5)\n",
            "Requirement already satisfied: pytz>=2017.2 in /usr/local/lib/python3.7/dist-packages (from pandas>=0.25.0->geopandas) (2018.9)\n",
            "Requirement already satisfied: python-dateutil>=2.7.3 in /usr/local/lib/python3.7/dist-packages (from pandas>=0.25.0->geopandas) (2.8.2)\n",
            "Installing collected packages: munch, cligj, click-plugins, pyproj, fiona, geopandas\n",
            "Successfully installed click-plugins-1.1.1 cligj-0.7.2 fiona-1.8.20 geopandas-0.10.2 munch-2.5.0 pyproj-3.2.1\n"
          ]
        }
      ]
    },
    {
      "cell_type": "code",
      "metadata": {
        "colab": {
          "base_uri": "https://localhost:8080/"
        },
        "id": "u95UJMhrtNVF",
        "outputId": "3acde97f-3795-4926-99cd-d8e466fd04bd"
      },
      "source": [
        "!ls '/content/drive/My Drive/2021 Route Prediction/Project-1/Source-Code/data/route_network/clustered'"
      ],
      "execution_count": 5,
      "outputs": [
        {
          "output_type": "stream",
          "name": "stdout",
          "text": [
            "cluster_coord.csv\t\tway_and_road_segment.csv\n",
            "roadLink_merge_roadDB.csv\twayid_label_mapped.csv\n",
            "route_network_with_cluster.csv\n"
          ]
        }
      ]
    },
    {
      "cell_type": "code",
      "metadata": {
        "id": "sktTRczKtNVF"
      },
      "source": [
        "road_data_path = '/content/drive/My Drive/2021 Route Prediction/Project-1/Source-Code/data/route_network/clustered'\n",
        "trips_data_path = '/content/drive/My Drive/2021 Route Prediction/Project-1/Source-Code/data/trips_and_stops_NE_2019'"
      ],
      "execution_count": 3,
      "outputs": []
    },
    {
      "cell_type": "markdown",
      "metadata": {
        "id": "zUZfYdnnK-P0"
      },
      "source": [
        "# get all way_id"
      ]
    },
    {
      "cell_type": "code",
      "metadata": {
        "colab": {
          "base_uri": "https://localhost:8080/",
          "height": 423
        },
        "id": "dd-3ZD47LK9q",
        "outputId": "a72adcf2-3ce4-4b44-e60d-589688d69e1e"
      },
      "source": [
        "way_segment_df = pd.read_csv(road_data_path+\"/way_and_road_segment.csv\")\n",
        "way_segment_df['road_seg'] = way_segment_df['road_seg'].map(lambda x: eval(x))\n",
        "way_segment_df"
      ],
      "execution_count": 4,
      "outputs": [
        {
          "output_type": "execute_result",
          "data": {
            "text/html": [
              "<div>\n",
              "<style scoped>\n",
              "    .dataframe tbody tr th:only-of-type {\n",
              "        vertical-align: middle;\n",
              "    }\n",
              "\n",
              "    .dataframe tbody tr th {\n",
              "        vertical-align: top;\n",
              "    }\n",
              "\n",
              "    .dataframe thead th {\n",
              "        text-align: right;\n",
              "    }\n",
              "</style>\n",
              "<table border=\"1\" class=\"dataframe\">\n",
              "  <thead>\n",
              "    <tr style=\"text-align: right;\">\n",
              "      <th></th>\n",
              "      <th>way_id</th>\n",
              "      <th>seg_num</th>\n",
              "      <th>road_seg</th>\n",
              "    </tr>\n",
              "  </thead>\n",
              "  <tbody>\n",
              "    <tr>\n",
              "      <th>0</th>\n",
              "      <td>23730732</td>\n",
              "      <td>0</td>\n",
              "      <td>(35, 36)</td>\n",
              "    </tr>\n",
              "    <tr>\n",
              "      <th>1</th>\n",
              "      <td>23747253</td>\n",
              "      <td>0</td>\n",
              "      <td>(283, 2864)</td>\n",
              "    </tr>\n",
              "    <tr>\n",
              "      <th>2</th>\n",
              "      <td>23747922</td>\n",
              "      <td>0</td>\n",
              "      <td>(2772, 2773)</td>\n",
              "    </tr>\n",
              "    <tr>\n",
              "      <th>3</th>\n",
              "      <td>23747922</td>\n",
              "      <td>1</td>\n",
              "      <td>(2773, 2774)</td>\n",
              "    </tr>\n",
              "    <tr>\n",
              "      <th>4</th>\n",
              "      <td>23747922</td>\n",
              "      <td>2</td>\n",
              "      <td>(2774, 2775)</td>\n",
              "    </tr>\n",
              "    <tr>\n",
              "      <th>...</th>\n",
              "      <td>...</td>\n",
              "      <td>...</td>\n",
              "      <td>...</td>\n",
              "    </tr>\n",
              "    <tr>\n",
              "      <th>10630</th>\n",
              "      <td>983757864</td>\n",
              "      <td>0</td>\n",
              "      <td>(4719, 4720)</td>\n",
              "    </tr>\n",
              "    <tr>\n",
              "      <th>10631</th>\n",
              "      <td>983757864</td>\n",
              "      <td>1</td>\n",
              "      <td>(3299, 4720)</td>\n",
              "    </tr>\n",
              "    <tr>\n",
              "      <th>10632</th>\n",
              "      <td>983757865</td>\n",
              "      <td>0</td>\n",
              "      <td>(4496, 4719)</td>\n",
              "    </tr>\n",
              "    <tr>\n",
              "      <th>10633</th>\n",
              "      <td>983823827</td>\n",
              "      <td>0</td>\n",
              "      <td>(3069, 4721)</td>\n",
              "    </tr>\n",
              "    <tr>\n",
              "      <th>10634</th>\n",
              "      <td>983823829</td>\n",
              "      <td>0</td>\n",
              "      <td>(4346, 4721)</td>\n",
              "    </tr>\n",
              "  </tbody>\n",
              "</table>\n",
              "<p>10635 rows × 3 columns</p>\n",
              "</div>"
            ],
            "text/plain": [
              "          way_id  seg_num      road_seg\n",
              "0       23730732        0      (35, 36)\n",
              "1       23747253        0   (283, 2864)\n",
              "2       23747922        0  (2772, 2773)\n",
              "3       23747922        1  (2773, 2774)\n",
              "4       23747922        2  (2774, 2775)\n",
              "...          ...      ...           ...\n",
              "10630  983757864        0  (4719, 4720)\n",
              "10631  983757864        1  (3299, 4720)\n",
              "10632  983757865        0  (4496, 4719)\n",
              "10633  983823827        0  (3069, 4721)\n",
              "10634  983823829        0  (4346, 4721)\n",
              "\n",
              "[10635 rows x 3 columns]"
            ]
          },
          "metadata": {},
          "execution_count": 4
        }
      ]
    },
    {
      "cell_type": "markdown",
      "metadata": {
        "id": "2Ahqwx7tL_M6"
      },
      "source": [
        "# get way_id with label"
      ]
    },
    {
      "cell_type": "code",
      "metadata": {
        "colab": {
          "base_uri": "https://localhost:8080/",
          "height": 632
        },
        "id": "4bs_EkpHMtel",
        "outputId": "1fef8830-a61e-4f6d-8ae9-8a252646a5b3"
      },
      "source": [
        "way_mapped_df = pd.read_csv(road_data_path+\"/wayid_label_mapped.csv\")\n",
        "way_mapped_df['road_seg'] = way_mapped_df['road_seg'].map(lambda x: eval(x))\n",
        "way_df = way_mapped_df[way_mapped_df['label'] != -1]\n",
        "way_df['a'] = way_df['road_seg'].apply(lambda x: x[0])\n",
        "way_df['b'] = way_df['road_seg'].apply(lambda x: x[1])\n",
        "way_df"
      ],
      "execution_count": 8,
      "outputs": [
        {
          "output_type": "stream",
          "name": "stderr",
          "text": [
            "/usr/local/lib/python3.7/dist-packages/ipykernel_launcher.py:4: SettingWithCopyWarning: \n",
            "A value is trying to be set on a copy of a slice from a DataFrame.\n",
            "Try using .loc[row_indexer,col_indexer] = value instead\n",
            "\n",
            "See the caveats in the documentation: https://pandas.pydata.org/pandas-docs/stable/user_guide/indexing.html#returning-a-view-versus-a-copy\n",
            "  after removing the cwd from sys.path.\n",
            "/usr/local/lib/python3.7/dist-packages/ipykernel_launcher.py:5: SettingWithCopyWarning: \n",
            "A value is trying to be set on a copy of a slice from a DataFrame.\n",
            "Try using .loc[row_indexer,col_indexer] = value instead\n",
            "\n",
            "See the caveats in the documentation: https://pandas.pydata.org/pandas-docs/stable/user_guide/indexing.html#returning-a-view-versus-a-copy\n",
            "  \"\"\"\n"
          ]
        },
        {
          "output_type": "execute_result",
          "data": {
            "text/html": [
              "<div>\n",
              "<style scoped>\n",
              "    .dataframe tbody tr th:only-of-type {\n",
              "        vertical-align: middle;\n",
              "    }\n",
              "\n",
              "    .dataframe tbody tr th {\n",
              "        vertical-align: top;\n",
              "    }\n",
              "\n",
              "    .dataframe thead th {\n",
              "        text-align: right;\n",
              "    }\n",
              "</style>\n",
              "<table border=\"1\" class=\"dataframe\">\n",
              "  <thead>\n",
              "    <tr style=\"text-align: right;\">\n",
              "      <th></th>\n",
              "      <th>way_id</th>\n",
              "      <th>seg_num</th>\n",
              "      <th>road_seg</th>\n",
              "      <th>label</th>\n",
              "      <th>a</th>\n",
              "      <th>b</th>\n",
              "    </tr>\n",
              "  </thead>\n",
              "  <tbody>\n",
              "    <tr>\n",
              "      <th>0</th>\n",
              "      <td>23730732</td>\n",
              "      <td>0</td>\n",
              "      <td>(35, 36)</td>\n",
              "      <td>2146</td>\n",
              "      <td>35</td>\n",
              "      <td>36</td>\n",
              "    </tr>\n",
              "    <tr>\n",
              "      <th>5</th>\n",
              "      <td>23749257</td>\n",
              "      <td>0</td>\n",
              "      <td>(1233, 1234)</td>\n",
              "      <td>2047</td>\n",
              "      <td>1233</td>\n",
              "      <td>1234</td>\n",
              "    </tr>\n",
              "    <tr>\n",
              "      <th>6</th>\n",
              "      <td>23749257</td>\n",
              "      <td>1</td>\n",
              "      <td>(715, 1234)</td>\n",
              "      <td>2047</td>\n",
              "      <td>715</td>\n",
              "      <td>1234</td>\n",
              "    </tr>\n",
              "    <tr>\n",
              "      <th>10</th>\n",
              "      <td>23750525</td>\n",
              "      <td>0</td>\n",
              "      <td>(1235, 1236)</td>\n",
              "      <td>3021</td>\n",
              "      <td>1235</td>\n",
              "      <td>1236</td>\n",
              "    </tr>\n",
              "    <tr>\n",
              "      <th>11</th>\n",
              "      <td>23751227</td>\n",
              "      <td>0</td>\n",
              "      <td>(254, 2776)</td>\n",
              "      <td>3102</td>\n",
              "      <td>254</td>\n",
              "      <td>2776</td>\n",
              "    </tr>\n",
              "    <tr>\n",
              "      <th>...</th>\n",
              "      <td>...</td>\n",
              "      <td>...</td>\n",
              "      <td>...</td>\n",
              "      <td>...</td>\n",
              "      <td>...</td>\n",
              "      <td>...</td>\n",
              "    </tr>\n",
              "    <tr>\n",
              "      <th>10625</th>\n",
              "      <td>983567976</td>\n",
              "      <td>0</td>\n",
              "      <td>(4426, 7663)</td>\n",
              "      <td>3106</td>\n",
              "      <td>4426</td>\n",
              "      <td>7663</td>\n",
              "    </tr>\n",
              "    <tr>\n",
              "      <th>10626</th>\n",
              "      <td>983751249</td>\n",
              "      <td>0</td>\n",
              "      <td>(3296, 4718)</td>\n",
              "      <td>2102</td>\n",
              "      <td>3296</td>\n",
              "      <td>4718</td>\n",
              "    </tr>\n",
              "    <tr>\n",
              "      <th>10630</th>\n",
              "      <td>983757864</td>\n",
              "      <td>0</td>\n",
              "      <td>(4719, 4720)</td>\n",
              "      <td>2104</td>\n",
              "      <td>4719</td>\n",
              "      <td>4720</td>\n",
              "    </tr>\n",
              "    <tr>\n",
              "      <th>10631</th>\n",
              "      <td>983757864</td>\n",
              "      <td>1</td>\n",
              "      <td>(3299, 4720)</td>\n",
              "      <td>2104</td>\n",
              "      <td>3299</td>\n",
              "      <td>4720</td>\n",
              "    </tr>\n",
              "    <tr>\n",
              "      <th>10632</th>\n",
              "      <td>983757865</td>\n",
              "      <td>0</td>\n",
              "      <td>(4496, 4719)</td>\n",
              "      <td>2104</td>\n",
              "      <td>4496</td>\n",
              "      <td>4719</td>\n",
              "    </tr>\n",
              "  </tbody>\n",
              "</table>\n",
              "<p>4652 rows × 6 columns</p>\n",
              "</div>"
            ],
            "text/plain": [
              "          way_id  seg_num      road_seg  label     a     b\n",
              "0       23730732        0      (35, 36)   2146    35    36\n",
              "5       23749257        0  (1233, 1234)   2047  1233  1234\n",
              "6       23749257        1   (715, 1234)   2047   715  1234\n",
              "10      23750525        0  (1235, 1236)   3021  1235  1236\n",
              "11      23751227        0   (254, 2776)   3102   254  2776\n",
              "...          ...      ...           ...    ...   ...   ...\n",
              "10625  983567976        0  (4426, 7663)   3106  4426  7663\n",
              "10626  983751249        0  (3296, 4718)   2102  3296  4718\n",
              "10630  983757864        0  (4719, 4720)   2104  4719  4720\n",
              "10631  983757864        1  (3299, 4720)   2104  3299  4720\n",
              "10632  983757865        0  (4496, 4719)   2104  4496  4719\n",
              "\n",
              "[4652 rows x 6 columns]"
            ]
          },
          "metadata": {},
          "execution_count": 8
        }
      ]
    },
    {
      "cell_type": "code",
      "metadata": {
        "colab": {
          "base_uri": "https://localhost:8080/",
          "height": 50
        },
        "id": "A3Nwvu5smmBx",
        "outputId": "03f52f3c-af15-4bc7-a691-a634d3963c24"
      },
      "source": [
        "way_df[way_df.b == 1233]"
      ],
      "execution_count": 51,
      "outputs": [
        {
          "output_type": "execute_result",
          "data": {
            "text/html": [
              "<div>\n",
              "<style scoped>\n",
              "    .dataframe tbody tr th:only-of-type {\n",
              "        vertical-align: middle;\n",
              "    }\n",
              "\n",
              "    .dataframe tbody tr th {\n",
              "        vertical-align: top;\n",
              "    }\n",
              "\n",
              "    .dataframe thead th {\n",
              "        text-align: right;\n",
              "    }\n",
              "</style>\n",
              "<table border=\"1\" class=\"dataframe\">\n",
              "  <thead>\n",
              "    <tr style=\"text-align: right;\">\n",
              "      <th></th>\n",
              "      <th>way_id</th>\n",
              "      <th>seg_num</th>\n",
              "      <th>road_seg</th>\n",
              "      <th>label</th>\n",
              "      <th>a</th>\n",
              "      <th>b</th>\n",
              "    </tr>\n",
              "  </thead>\n",
              "  <tbody>\n",
              "  </tbody>\n",
              "</table>\n",
              "</div>"
            ],
            "text/plain": [
              "Empty DataFrame\n",
              "Columns: [way_id, seg_num, road_seg, label, a, b]\n",
              "Index: []"
            ]
          },
          "metadata": {},
          "execution_count": 51
        }
      ]
    },
    {
      "cell_type": "code",
      "metadata": {
        "colab": {
          "base_uri": "https://localhost:8080/"
        },
        "id": "0rM_7wiwlPj9",
        "outputId": "72569ad3-3b8f-49ad-ad59-033602e6b734"
      },
      "source": [
        "len(way_df)"
      ],
      "execution_count": 47,
      "outputs": [
        {
          "output_type": "execute_result",
          "data": {
            "text/plain": [
              "4652"
            ]
          },
          "metadata": {},
          "execution_count": 47
        }
      ]
    },
    {
      "cell_type": "code",
      "metadata": {
        "colab": {
          "base_uri": "https://localhost:8080/"
        },
        "id": "s_XWgXQGgmZy",
        "outputId": "a015fdf6-756f-430f-ad2d-168e627e9f39"
      },
      "source": [
        "a_count"
      ],
      "execution_count": 30,
      "outputs": [
        {
          "output_type": "execute_result",
          "data": {
            "text/plain": [
              "35      8\n",
              "1337    7\n",
              "42      6\n",
              "1333    6\n",
              "888     6\n",
              "       ..\n",
              "4461    1\n",
              "363     1\n",
              "1621    1\n",
              "3672    1\n",
              "4096    1\n",
              "Name: a, Length: 3029, dtype: int64"
            ]
          },
          "metadata": {},
          "execution_count": 30
        }
      ]
    },
    {
      "cell_type": "code",
      "metadata": {
        "colab": {
          "base_uri": "https://localhost:8080/"
        },
        "id": "FwKw55Z9g6Xw",
        "outputId": "d3ac62ec-a548-4720-f056-506cf999ff0d"
      },
      "source": [
        "a_count[35]"
      ],
      "execution_count": 29,
      "outputs": [
        {
          "output_type": "execute_result",
          "data": {
            "text/plain": [
              "8"
            ]
          },
          "metadata": {},
          "execution_count": 29
        }
      ]
    },
    {
      "cell_type": "code",
      "metadata": {
        "colab": {
          "base_uri": "https://localhost:8080/"
        },
        "id": "lhcdGBnxQRzf",
        "outputId": "2e047c0b-f01a-49dc-d528-e1a1110a61c6"
      },
      "source": [
        "a_count = way_df['a'].value_counts()\n",
        "b_count = way_df['b'].value_counts()\n",
        "groups = []\n",
        "\n",
        "def in_groups(way_id):\n",
        "  for i in groups:\n",
        "    for j in i:\n",
        "      if way_id == j:\n",
        "        return True\n",
        "  return False\n",
        "\n",
        "def next_way(way, seg):\n",
        "  if way == 'b':\n",
        "    next_way_df = way_df[way_df.b == seg].iloc[0]\n",
        "    next_way_id = next_way_df.way_id\n",
        "    a = next_way_df.a\n",
        "    b = seg\n",
        "    return next_way_id, a, b\n",
        "\n",
        "  if way == 'a':\n",
        "    next_way_df = way_df[way_df.a == seg].iloc[0]\n",
        "    next_way_id = next_way_df.way_id\n",
        "    b = next_way_df.b\n",
        "    a = seg\n",
        "    return next_way_id, a, b\n",
        "\n",
        "def get_count(count_series, seg):\n",
        "  try:\n",
        "    count = count_series[seg]\n",
        "  except:\n",
        "    count = 0\n",
        "  return count\n",
        "\n",
        "for way_id in way_df.way_id.to_list():\n",
        "\n",
        "  if in_groups(way_id):\n",
        "    continue\n",
        "  else:\n",
        "    way = way_df[way_df.way_id == way_id].iloc[0]\n",
        "    a = way.a\n",
        "    b = way.b\n",
        "\n",
        "  # a route\n",
        "  group_a = []\n",
        "  while get_count(b_count, a) == 1:\n",
        "    next_way_id, a_next, b_next = next_way('b', a)\n",
        "    group_a.append(next_way_id)\n",
        "    a = a_next\n",
        "\n",
        "  # b route\n",
        "  group_b = []\n",
        "  while get_count(a_count, b) == 1:\n",
        "    next_way_id, a_next, b_next = next_way('a', b)\n",
        "    group_b.append(next_way_id)\n",
        "    b = b_next\n",
        "\n",
        "  group_a.reverse()\n",
        "  group_a.append(way_id)\n",
        "  group = group_a + group_b\n",
        "  groups.append(group)\n",
        "\n",
        "count = 0\n",
        "for i in groups:\n",
        "  count += len(i)\n",
        "print(count)"
      ],
      "execution_count": 55,
      "outputs": [
        {
          "output_type": "stream",
          "name": "stdout",
          "text": [
            "3710\n"
          ]
        }
      ]
    },
    {
      "cell_type": "code",
      "metadata": {
        "colab": {
          "base_uri": "https://localhost:8080/"
        },
        "id": "zuM-kxfOlCD-",
        "outputId": "9d194374-15ea-452e-aa38-de48d66e2dd6"
      },
      "source": [
        "len(groups)"
      ],
      "execution_count": 57,
      "outputs": [
        {
          "output_type": "execute_result",
          "data": {
            "text/plain": [
              "1400"
            ]
          },
          "metadata": {},
          "execution_count": 57
        }
      ]
    },
    {
      "cell_type": "code",
      "metadata": {
        "id": "ULCUuTy2n9CB"
      },
      "source": [
        "set_g = set()\n",
        "for group in groups:\n",
        "  for g in group:\n",
        "    set_g.add(g)"
      ],
      "execution_count": 58,
      "outputs": []
    },
    {
      "cell_type": "code",
      "metadata": {
        "colab": {
          "base_uri": "https://localhost:8080/"
        },
        "id": "Sz9fayeioiqp",
        "outputId": "41f1af32-fe8a-40f4-be95-530646b5a9ed"
      },
      "source": [
        "len(set_g)"
      ],
      "execution_count": 59,
      "outputs": [
        {
          "output_type": "execute_result",
          "data": {
            "text/plain": [
              "1915"
            ]
          },
          "metadata": {},
          "execution_count": 59
        }
      ]
    }
  ]
}