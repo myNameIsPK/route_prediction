{
  "nbformat": 4,
  "nbformat_minor": 0,
  "metadata": {
    "colab": {
      "name": "Copy of pomegranate_decreased.ipynb",
      "provenance": [],
      "toc_visible": true
    },
    "kernelspec": {
      "name": "python3",
      "display_name": "Python 3"
    },
    "language_info": {
      "name": "python"
    }
  },
  "cells": [
    {
      "cell_type": "markdown",
      "metadata": {
        "id": "fCAjRTC1MpUV"
      },
      "source": [
        "#import"
      ]
    },
    {
      "cell_type": "code",
      "metadata": {
        "colab": {
          "base_uri": "https://localhost:8080/"
        },
        "id": "j7CVL4kOMqcg",
        "outputId": "6a200766-6c06-4065-ed62-a90fe162a4c8"
      },
      "source": [
        "from google.colab import drive\n",
        "drive.mount('/content/drive')"
      ],
      "execution_count": null,
      "outputs": [
        {
          "output_type": "stream",
          "name": "stdout",
          "text": [
            "Drive already mounted at /content/drive; to attempt to forcibly remount, call drive.mount(\"/content/drive\", force_remount=True).\n"
          ]
        }
      ]
    },
    {
      "cell_type": "code",
      "metadata": {
        "id": "Dg-rboiTMxbj",
        "colab": {
          "base_uri": "https://localhost:8080/"
        },
        "outputId": "f9783259-ad8c-4139-fd8d-5a81ce42e527"
      },
      "source": [
        "!pip install plotly_express\n",
        "!pip install geopandas\n",
        "!pip install pomegranate"
      ],
      "execution_count": null,
      "outputs": [
        {
          "output_type": "stream",
          "name": "stdout",
          "text": [
            "Requirement already satisfied: plotly_express in /usr/local/lib/python3.7/dist-packages (0.4.1)\n",
            "Requirement already satisfied: statsmodels>=0.9.0 in /usr/local/lib/python3.7/dist-packages (from plotly_express) (0.10.2)\n",
            "Requirement already satisfied: patsy>=0.5 in /usr/local/lib/python3.7/dist-packages (from plotly_express) (0.5.2)\n",
            "Requirement already satisfied: scipy>=0.18 in /usr/local/lib/python3.7/dist-packages (from plotly_express) (1.4.1)\n",
            "Requirement already satisfied: plotly>=4.1.0 in /usr/local/lib/python3.7/dist-packages (from plotly_express) (4.4.1)\n",
            "Requirement already satisfied: numpy>=1.11 in /usr/local/lib/python3.7/dist-packages (from plotly_express) (1.21.4)\n",
            "Requirement already satisfied: pandas>=0.20.0 in /usr/local/lib/python3.7/dist-packages (from plotly_express) (1.1.5)\n",
            "Requirement already satisfied: pytz>=2017.2 in /usr/local/lib/python3.7/dist-packages (from pandas>=0.20.0->plotly_express) (2018.9)\n",
            "Requirement already satisfied: python-dateutil>=2.7.3 in /usr/local/lib/python3.7/dist-packages (from pandas>=0.20.0->plotly_express) (2.8.2)\n",
            "Requirement already satisfied: six in /usr/local/lib/python3.7/dist-packages (from patsy>=0.5->plotly_express) (1.15.0)\n",
            "Requirement already satisfied: retrying>=1.3.3 in /usr/local/lib/python3.7/dist-packages (from plotly>=4.1.0->plotly_express) (1.3.3)\n",
            "Requirement already satisfied: geopandas in /usr/local/lib/python3.7/dist-packages (0.10.2)\n",
            "Requirement already satisfied: shapely>=1.6 in /usr/local/lib/python3.7/dist-packages (from geopandas) (1.8.0)\n",
            "Requirement already satisfied: fiona>=1.8 in /usr/local/lib/python3.7/dist-packages (from geopandas) (1.8.20)\n",
            "Requirement already satisfied: pyproj>=2.2.0 in /usr/local/lib/python3.7/dist-packages (from geopandas) (3.2.1)\n",
            "Requirement already satisfied: pandas>=0.25.0 in /usr/local/lib/python3.7/dist-packages (from geopandas) (1.1.5)\n",
            "Requirement already satisfied: munch in /usr/local/lib/python3.7/dist-packages (from fiona>=1.8->geopandas) (2.5.0)\n",
            "Requirement already satisfied: cligj>=0.5 in /usr/local/lib/python3.7/dist-packages (from fiona>=1.8->geopandas) (0.7.2)\n",
            "Requirement already satisfied: certifi in /usr/local/lib/python3.7/dist-packages (from fiona>=1.8->geopandas) (2021.10.8)\n",
            "Requirement already satisfied: attrs>=17 in /usr/local/lib/python3.7/dist-packages (from fiona>=1.8->geopandas) (21.2.0)\n",
            "Requirement already satisfied: six>=1.7 in /usr/local/lib/python3.7/dist-packages (from fiona>=1.8->geopandas) (1.15.0)\n",
            "Requirement already satisfied: setuptools in /usr/local/lib/python3.7/dist-packages (from fiona>=1.8->geopandas) (57.4.0)\n",
            "Requirement already satisfied: click-plugins>=1.0 in /usr/local/lib/python3.7/dist-packages (from fiona>=1.8->geopandas) (1.1.1)\n",
            "Requirement already satisfied: click>=4.0 in /usr/local/lib/python3.7/dist-packages (from fiona>=1.8->geopandas) (7.1.2)\n",
            "Requirement already satisfied: pytz>=2017.2 in /usr/local/lib/python3.7/dist-packages (from pandas>=0.25.0->geopandas) (2018.9)\n",
            "Requirement already satisfied: numpy>=1.15.4 in /usr/local/lib/python3.7/dist-packages (from pandas>=0.25.0->geopandas) (1.21.4)\n",
            "Requirement already satisfied: python-dateutil>=2.7.3 in /usr/local/lib/python3.7/dist-packages (from pandas>=0.25.0->geopandas) (2.8.2)\n",
            "Requirement already satisfied: pomegranate in /usr/local/lib/python3.7/dist-packages (0.14.7)\n",
            "Requirement already satisfied: networkx>=2.4 in /usr/local/lib/python3.7/dist-packages (from pomegranate) (2.6.3)\n",
            "Requirement already satisfied: pyyaml in /usr/local/lib/python3.7/dist-packages (from pomegranate) (3.13)\n",
            "Requirement already satisfied: joblib>=0.9.0b4 in /usr/local/lib/python3.7/dist-packages (from pomegranate) (1.1.0)\n",
            "Requirement already satisfied: scipy>=0.17.0 in /usr/local/lib/python3.7/dist-packages (from pomegranate) (1.4.1)\n",
            "Requirement already satisfied: numpy>=1.20.0 in /usr/local/lib/python3.7/dist-packages (from pomegranate) (1.21.4)\n"
          ]
        }
      ]
    },
    {
      "cell_type": "code",
      "metadata": {
        "id": "uRHgT0UMMrhd"
      },
      "source": [
        "import pandas as pd\n",
        "import numpy as np\n",
        "import matplotlib.pyplot as plt\n",
        "from collections import Counter\n",
        "import plotly_express as px\n",
        "px.set_mapbox_access_token(\"pk.eyJ1Ijoic2hha2Fzb20iLCJhIjoiY2plMWg1NGFpMXZ5NjJxbjhlM2ttN3AwbiJ9.RtGYHmreKiyBfHuElgYq_w\")\n",
        "from pomegranate import *\n",
        "from sklearn import preprocessing\n",
        "import math"
      ],
      "execution_count": null,
      "outputs": []
    },
    {
      "cell_type": "code",
      "metadata": {
        "colab": {
          "base_uri": "https://localhost:8080/"
        },
        "id": "IbY1ahaaKxXh",
        "outputId": "56c85056-63c0-4615-da29-94062bcf4fef"
      },
      "source": [
        "!ls '/content/drive/My Drive/2021 Route Prediction/Project-1/Source-Code/data/trips_with_wayID'"
      ],
      "execution_count": null,
      "outputs": [
        {
          "output_type": "stream",
          "name": "stdout",
          "text": [
            "trips_with_wayId_1_10.csv  trips_with_wayId_1_27.csv  trips_with_wayId_8_15.csv\n",
            "trips_with_wayId_1_11.csv  trips_with_wayId_1_28.csv  trips_with_wayId_8_16.csv\n",
            "trips_with_wayId_1_12.csv  trips_with_wayId_1_29.csv  trips_with_wayId_8_17.csv\n",
            "trips_with_wayId_1_13.csv  trips_with_wayId_1_2.csv   trips_with_wayId_8_18.csv\n",
            "trips_with_wayId_1_14.csv  trips_with_wayId_1_30.csv  trips_with_wayId_8_19.csv\n",
            "trips_with_wayId_1_15.csv  trips_with_wayId_1_31.csv  trips_with_wayId_8_20.csv\n",
            "trips_with_wayId_1_16.csv  trips_with_wayId_1_3.csv   trips_with_wayId_8_21.csv\n",
            "trips_with_wayId_1_17.csv  trips_with_wayId_1_4.csv   trips_with_wayId_8_22.csv\n",
            "trips_with_wayId_1_18.csv  trips_with_wayId_1_5.csv   trips_with_wayId_8_23.csv\n",
            "trips_with_wayId_1_19.csv  trips_with_wayId_1_6.csv   trips_with_wayId_8_24.csv\n",
            "trips_with_wayId_1_1.csv   trips_with_wayId_1_7.csv   trips_with_wayId_8_25.csv\n",
            "trips_with_wayId_1_21.csv  trips_with_wayId_1_8.csv   trips_with_wayId_8_26.csv\n",
            "trips_with_wayId_1_22.csv  trips_with_wayId_1_9.csv   trips_with_wayId_8_27.csv\n",
            "trips_with_wayId_1_23.csv  trips_with_wayId_8_11.csv  trips_with_wayId_8_28.csv\n",
            "trips_with_wayId_1_24.csv  trips_with_wayId_8_12.csv  trips_with_wayId_8_29.csv\n",
            "trips_with_wayId_1_25.csv  trips_with_wayId_8_13.csv  trips_with_wayId_8_30.csv\n",
            "trips_with_wayId_1_26.csv  trips_with_wayId_8_14.csv  trips_with_wayId_8_31.csv\n"
          ]
        }
      ]
    },
    {
      "cell_type": "markdown",
      "metadata": {
        "id": "EA_t11scSuGQ"
      },
      "source": [
        "##get trip data"
      ]
    },
    {
      "cell_type": "code",
      "metadata": {
        "id": "k3SOv9tySwVg"
      },
      "source": [
        "road_data_path = '/content/drive/My Drive/2021 Route Prediction/Project-1/Source-Code/data/route_network/clustered'\n",
        "trips_data_path = '/content/drive/My Drive/2021 Route Prediction/Project-1/Source-Code/data/way_labeled_decrease_NE_2019'\n",
        "way_id_on_trips_path = '/content/drive/My Drive/2021 Route Prediction/Project-1/Source-Code/data/3.2_wayid_on_trips'"
      ],
      "execution_count": null,
      "outputs": []
    },
    {
      "cell_type": "code",
      "metadata": {
        "colab": {
          "base_uri": "https://localhost:8080/",
          "height": 518
        },
        "id": "nPu0FDtfS2TX",
        "outputId": "eb268eb4-f679-4ddf-f74f-7bec9dfd2b09"
      },
      "source": [
        "dfs = []\n",
        "day_len = []\n",
        "day_trip_count = []\n",
        "days = range(1,10)\n",
        "days = range(10,11)\n",
        "# days = range(1,32)\n",
        "months = range(1,2)\n",
        "# months = range(8,9)\n",
        "\n",
        "for month in months:\n",
        "  for day in days:\n",
        "    try:\n",
        "      sp_seq_df = pd.read_csv(trips_data_path + f'/way_labeled_decrease_2019_{month}_{day}.csv', parse_dates=['time_stamp'])\n",
        "    except:\n",
        "      pass\n",
        "\n",
        "    sp_seq_df = sp_seq_df.sort_values(by=['trip_id', 'time_stamp'])\n",
        "\n",
        "    trip_count = sp_seq_df.trip_id.value_counts()\n",
        "    trip_count = trip_count[trip_count >= 12]\n",
        "    sp_seq_df = sp_seq_df[sp_seq_df.trip_id.isin(trip_count.index)]\n",
        "    sp_seq_df['month'] = month\n",
        "    sp_seq_df['day'] = day\n",
        "    day_len.append(len(sp_seq_df))\n",
        "    day_trip_count.append(len(trip_count))\n",
        "    dfs.append(sp_seq_df)\n",
        "print(day_len)\n",
        "print(day_trip_count)\n",
        "df = pd.concat(dfs, ignore_index=True)\n",
        "df\n",
        "\n",
        "# df = df[['trip_id', 'way_id', 'day', 'month','route_cluster']]\n",
        "df.head()"
      ],
      "execution_count": null,
      "outputs": [
        {
          "output_type": "stream",
          "name": "stdout",
          "text": [
            "[113042]\n",
            "[5121]\n"
          ]
        },
        {
          "output_type": "stream",
          "name": "stderr",
          "text": [
            "/usr/local/lib/python3.7/dist-packages/ipykernel_launcher.py:22: SettingWithCopyWarning:\n",
            "\n",
            "\n",
            "A value is trying to be set on a copy of a slice from a DataFrame.\n",
            "Try using .loc[row_indexer,col_indexer] = value instead\n",
            "\n",
            "See the caveats in the documentation: https://pandas.pydata.org/pandas-docs/stable/user_guide/indexing.html#returning-a-view-versus-a-copy\n",
            "\n",
            "/usr/local/lib/python3.7/dist-packages/ipykernel_launcher.py:23: SettingWithCopyWarning:\n",
            "\n",
            "\n",
            "A value is trying to be set on a copy of a slice from a DataFrame.\n",
            "Try using .loc[row_indexer,col_indexer] = value instead\n",
            "\n",
            "See the caveats in the documentation: https://pandas.pydata.org/pandas-docs/stable/user_guide/indexing.html#returning-a-view-versus-a-copy\n",
            "\n"
          ]
        },
        {
          "output_type": "execute_result",
          "data": {
            "text/html": [
              "<div>\n",
              "<style scoped>\n",
              "    .dataframe tbody tr th:only-of-type {\n",
              "        vertical-align: middle;\n",
              "    }\n",
              "\n",
              "    .dataframe tbody tr th {\n",
              "        vertical-align: top;\n",
              "    }\n",
              "\n",
              "    .dataframe thead th {\n",
              "        text-align: right;\n",
              "    }\n",
              "</style>\n",
              "<table border=\"1\" class=\"dataframe\">\n",
              "  <thead>\n",
              "    <tr style=\"text-align: right;\">\n",
              "      <th></th>\n",
              "      <th>time_stamp</th>\n",
              "      <th>unit_id</th>\n",
              "      <th>lat</th>\n",
              "      <th>lon</th>\n",
              "      <th>speed</th>\n",
              "      <th>unit_type</th>\n",
              "      <th>trip_id</th>\n",
              "      <th>way_id</th>\n",
              "      <th>dist</th>\n",
              "      <th>label</th>\n",
              "      <th>month</th>\n",
              "      <th>day</th>\n",
              "    </tr>\n",
              "  </thead>\n",
              "  <tbody>\n",
              "    <tr>\n",
              "      <th>0</th>\n",
              "      <td>2019-01-10 02:27:44</td>\n",
              "      <td>003000900000000011770105654</td>\n",
              "      <td>14.667234</td>\n",
              "      <td>101.434479</td>\n",
              "      <td>41</td>\n",
              "      <td>7.0</td>\n",
              "      <td>0</td>\n",
              "      <td>783299717</td>\n",
              "      <td>0.003591</td>\n",
              "      <td>1126</td>\n",
              "      <td>1</td>\n",
              "      <td>10</td>\n",
              "    </tr>\n",
              "    <tr>\n",
              "      <th>1</th>\n",
              "      <td>2019-01-10 02:34:44</td>\n",
              "      <td>003000900000000011770105654</td>\n",
              "      <td>14.692733</td>\n",
              "      <td>101.471751</td>\n",
              "      <td>43</td>\n",
              "      <td>7.0</td>\n",
              "      <td>0</td>\n",
              "      <td>783299714</td>\n",
              "      <td>0.000780</td>\n",
              "      <td>1126</td>\n",
              "      <td>1</td>\n",
              "      <td>10</td>\n",
              "    </tr>\n",
              "    <tr>\n",
              "      <th>2</th>\n",
              "      <td>2019-01-10 02:37:44</td>\n",
              "      <td>003000900000000011770105654</td>\n",
              "      <td>14.712998</td>\n",
              "      <td>101.489431</td>\n",
              "      <td>50</td>\n",
              "      <td>7.0</td>\n",
              "      <td>0</td>\n",
              "      <td>783299711</td>\n",
              "      <td>0.002756</td>\n",
              "      <td>1126</td>\n",
              "      <td>1</td>\n",
              "      <td>10</td>\n",
              "    </tr>\n",
              "    <tr>\n",
              "      <th>3</th>\n",
              "      <td>2019-01-10 02:44:44</td>\n",
              "      <td>003000900000000011770105654</td>\n",
              "      <td>14.759171</td>\n",
              "      <td>101.517421</td>\n",
              "      <td>49</td>\n",
              "      <td>7.0</td>\n",
              "      <td>0</td>\n",
              "      <td>82374801</td>\n",
              "      <td>0.003864</td>\n",
              "      <td>1149</td>\n",
              "      <td>1</td>\n",
              "      <td>10</td>\n",
              "    </tr>\n",
              "    <tr>\n",
              "      <th>4</th>\n",
              "      <td>2019-01-10 02:46:44</td>\n",
              "      <td>003000900000000011770105654</td>\n",
              "      <td>14.771691</td>\n",
              "      <td>101.520754</td>\n",
              "      <td>41</td>\n",
              "      <td>7.0</td>\n",
              "      <td>0</td>\n",
              "      <td>783299693</td>\n",
              "      <td>0.003002</td>\n",
              "      <td>1127</td>\n",
              "      <td>1</td>\n",
              "      <td>10</td>\n",
              "    </tr>\n",
              "  </tbody>\n",
              "</table>\n",
              "</div>"
            ],
            "text/plain": [
              "           time_stamp                      unit_id  ...  month  day\n",
              "0 2019-01-10 02:27:44  003000900000000011770105654  ...      1   10\n",
              "1 2019-01-10 02:34:44  003000900000000011770105654  ...      1   10\n",
              "2 2019-01-10 02:37:44  003000900000000011770105654  ...      1   10\n",
              "3 2019-01-10 02:44:44  003000900000000011770105654  ...      1   10\n",
              "4 2019-01-10 02:46:44  003000900000000011770105654  ...      1   10\n",
              "\n",
              "[5 rows x 12 columns]"
            ]
          },
          "metadata": {},
          "execution_count": 43
        }
      ]
    },
    {
      "cell_type": "code",
      "metadata": {
        "id": "N2PWry8jM2Ul"
      },
      "source": [
        "df_labeled = df"
      ],
      "execution_count": null,
      "outputs": []
    },
    {
      "cell_type": "markdown",
      "metadata": {
        "id": "SwSO707zKUGI"
      },
      "source": [
        "#func score"
      ]
    },
    {
      "cell_type": "code",
      "metadata": {
        "colab": {
          "base_uri": "https://localhost:8080/"
        },
        "id": "ing-QRZOM5EM",
        "outputId": "2c2f912d-6e1b-4274-fd7e-52711e5c155b"
      },
      "source": [
        "state_names = []\n",
        "uniq_label = df_labeled.label.unique()\n",
        "for label in uniq_label:\n",
        "  state_names.append(str(label))\n",
        "state_names[:5]\n",
        "\n",
        "X = []\n",
        "labels = []\n",
        "trip_df = df_labeled\n",
        "for month in months:\n",
        "  for day in days:\n",
        "    day_df = trip_df[(df.day == day) & (trip_df.month == month)]\n",
        "    uniq_trips = day_df.trip_id.unique()\n",
        "    for trip_id in uniq_trips:\n",
        "      trip = day_df[day_df.trip_id==trip_id]\n",
        "      X.append(trip.way_id.to_numpy().astype(str))\n",
        "      # labels.append(['None-start']+[str(l) for l in trip.route_cluster.to_list()])\n",
        "      labels.append([str(l) for l in trip.label.to_list()])\n",
        "print(X[0][:5])\n",
        "print(labels[0][:5])\n",
        "print(len(X))\n",
        "print(len(labels))"
      ],
      "execution_count": null,
      "outputs": [
        {
          "output_type": "stream",
          "name": "stderr",
          "text": [
            "/usr/local/lib/python3.7/dist-packages/ipykernel_launcher.py:12: UserWarning:\n",
            "\n",
            "Boolean Series key will be reindexed to match DataFrame index.\n",
            "\n"
          ]
        },
        {
          "output_type": "stream",
          "name": "stdout",
          "text": [
            "['686957536' '686912257' '686911019' '686910206' '308207967']\n",
            "['3092', '3092', '3092', '3092', '2059']\n",
            "2961\n",
            "2961\n"
          ]
        }
      ]
    },
    {
      "cell_type": "code",
      "metadata": {
        "colab": {
          "base_uri": "https://localhost:8080/"
        },
        "id": "aZwZv3iGO_WV",
        "outputId": "28cfafa1-c360-4f3c-f823-283e64f29ee0"
      },
      "source": [
        "import random\n",
        "random.seed(42)\n",
        "\n",
        "X2 = X.copy()\n",
        "labels2 = labels.copy()\n",
        "\n",
        "temp = list(zip(X2, labels2))\n",
        "random.shuffle(temp)\n",
        "X2, labels2 = zip(*temp)\n",
        "X2 = list(X2)\n",
        "labels2 = list(labels2)\n",
        "\n",
        "print(X[0][:5])\n",
        "print(X2[0][:5])\n",
        "\n",
        "print(labels[0][:5])\n",
        "print(labels2[0][:5])"
      ],
      "execution_count": null,
      "outputs": [
        {
          "output_type": "stream",
          "name": "stdout",
          "text": [
            "['686957536' '686912257' '686911019' '686910206' '308207967']\n",
            "['150574566' '164017910' '163916776' '121529743' '121529742']\n",
            "['3092', '3092', '3092', '3092', '2059']\n",
            "['1117', '1110', '1110', '1057', '1057']\n"
          ]
        }
      ]
    },
    {
      "cell_type": "code",
      "metadata": {
        "id": "KiossoofQHaG"
      },
      "source": [
        "way_seq = df_labeled.way_id.to_list()\n",
        "not_stop_mask = [True]+[(a != b) for a, b in zip(way_seq[:-1], way_seq[1:])]\n",
        "df_labeled = df_labeled.loc[not_stop_mask]\n",
        "\n",
        "way_df = df_labeled[['way_id', 'lat', 'lon']]\n",
        "way_df = way_df.drop_duplicates(subset='way_id')\n",
        "\n",
        "sp_list = set(map(str, way_df['way_id'].tolist()))"
      ],
      "execution_count": null,
      "outputs": []
    },
    {
      "cell_type": "code",
      "metadata": {
        "id": "6YHA3c0VO_zW"
      },
      "source": [
        "total = len(X2)\n",
        "fold = int(total/10)\n",
        "start = 0\n",
        "starts = [] # [0, 952, 1904, 2856, 3808, 4760, 5712, 6664, 7616, 8568]\n",
        "for i in range(10):\n",
        "  starts.append(start)\n",
        "  start+=fold"
      ],
      "execution_count": null,
      "outputs": []
    },
    {
      "cell_type": "markdown",
      "metadata": {
        "id": "7v67twsErkO3"
      },
      "source": [
        "##for pomegranate"
      ]
    },
    {
      "cell_type": "code",
      "metadata": {
        "colab": {
          "base_uri": "https://localhost:8080/"
        },
        "id": "72u65zyNaym0",
        "outputId": "238c0e76-6703-41ce-f782-38ffe0d8db43"
      },
      "source": [
        "accuracy_train = []\n",
        "accuracy_test = []\n",
        "\n",
        "X_train = X2[:start]+X2[start+fold:]\n",
        "X_test = X2[start:start+fold]\n",
        "labels_train = labels2[:start]+labels2[start+fold:]\n",
        "labels_test = labels2[start:start+fold]\n",
        "\n",
        "# X_train = X2\n",
        "# labels_train = labels2\n",
        "uniq_sp = set()\n",
        "for seq in X_train:\n",
        "  for sp in seq:\n",
        "    uniq_sp.add(sp)\n",
        "uniq_label = set()\n",
        "\n",
        "for label in labels_train:\n",
        "  for uniq in list(set(label)):\n",
        "    uniq_label.add(uniq)\n",
        "\n",
        "new_label = []\n",
        "for label2 in labels_train:\n",
        "  new_label.append(['None-start']+label2)\n",
        "labels_train = new_label\n",
        "\n",
        "unseen_sp = sp_list - uniq_sp\n",
        "print(len(unseen_sp))\n",
        "X_train.append(np.array(list(unseen_sp)))\n",
        "labels_train.append(['-1'] * len(unseen_sp))\n",
        "\n",
        "model = HiddenMarkovModel.from_samples(\n",
        "    DiscreteDistribution, \n",
        "    n_components=len(uniq_label), \n",
        "    X=X_train, \n",
        "    labels=labels_train,\n",
        "    algorithm='labeled',\n",
        "    state_names=list(uniq_label), \n",
        "    inertia=0.001,\n",
        "    # max_iterations=10,\n",
        "    max_iterations=1,\n",
        "    n_jobs=-1\n",
        ")\n"
      ],
      "execution_count": null,
      "outputs": [
        {
          "output_type": "stream",
          "name": "stdout",
          "text": [
            "0\n"
          ]
        }
      ]
    },
    {
      "cell_type": "code",
      "metadata": {
        "id": "j_D3r-ZxmF5b"
      },
      "source": [
        "# save_model = model.to_json()"
      ],
      "execution_count": null,
      "outputs": []
    },
    {
      "cell_type": "code",
      "metadata": {
        "id": "8LEkF-iooy4A"
      },
      "source": [
        "# import json\n",
        "# with open('/content/drive/My Drive/2021 Route Prediction/Project-1/Source-Code/data/3.2_wayid_on_trips/model_1_1.json','w') as f:\n",
        "#   json.dump(save_model,f)"
      ],
      "execution_count": null,
      "outputs": []
    },
    {
      "cell_type": "code",
      "metadata": {
        "id": "yjgMFTzc-74c"
      },
      "source": [
        "# f = open('/content/drive/My Drive/2021 Route Prediction/Project-1/Source-Code/data/3.2_wayid_on_trips/model_1_1.json', \"r\")\n",
        "# load_model = json.load(f)\n",
        "# f.close()\n",
        "# test = HiddenMarkovModel.from_json(load_model)"
      ],
      "execution_count": null,
      "outputs": []
    },
    {
      "cell_type": "code",
      "metadata": {
        "id": "8r6mdtxP1HDL"
      },
      "source": [
        "# X_test = X2\n",
        "# labels_test = labels2"
      ],
      "execution_count": null,
      "outputs": []
    },
    {
      "cell_type": "code",
      "metadata": {
        "id": "AwKLRw4Mq-QH"
      },
      "source": [
        "def score(model, seq, label):\n",
        "  p = []\n",
        "  prob, path = model.viterbi(seq)\n",
        "  for s in path[1:]:\n",
        "    p.append(s[1].name)\n",
        "  tp = 0\n",
        "  ###\n",
        "  # for _state_name, _label in zip(p, label):\n",
        "  #   if _state_name == _label:\n",
        "  #     tp+=1\n",
        "  ###\n",
        "  # for i, state in enumerate(p):\n",
        "  #   try:\n",
        "  #     interval = label[i:i+10]\n",
        "  #   except:\n",
        "  #     interval = label[i:]\n",
        "  #   if state in interval:\n",
        "  #     tp+=1\n",
        "  # ### precision\n",
        "  # total = 0\n",
        "  # for _state_name, _label in zip(p, label):\n",
        "  #   if _state_name == '-1':\n",
        "  #     continue\n",
        "  #   if _state_name == _label:\n",
        "  #     tp+=1\n",
        "  #   total+=1\n",
        "  ### recal\n",
        "  # total = 0\n",
        "  # for _state_name, _label in zip(p, label):\n",
        "  #   if _state_name == '-1' and _label == '-1':\n",
        "  #     continue\n",
        "  #   elif _state_name == _label:\n",
        "  #     tp+=1\n",
        "  #   total+=1\n",
        "  ### precision 10 interval\n",
        "  total = 0\n",
        "  for i, state in enumerate(p):\n",
        "    if state == '-1':\n",
        "      continue\n",
        "    try:\n",
        "      interval = label[i:i+10]\n",
        "    except:\n",
        "      interval = label[i:]\n",
        "    if state in interval:\n",
        "      tp+=1\n",
        "    total+=1\n",
        "  ###\n",
        "  # total = len(label)\n",
        "  return tp/total"
      ],
      "execution_count": null,
      "outputs": []
    },
    {
      "cell_type": "code",
      "metadata": {
        "id": "zBlUdGoapPdK"
      },
      "source": [
        "def score(model, seq, label):\n",
        "  p = []\n",
        "  prob, path = model.viterbi(seq)\n",
        "  for s in path[1:]:\n",
        "    p.append(s[1].name)\n",
        "  \n",
        "  K = 10\n",
        "  tp = 0\n",
        "  total = len(seq)\n",
        "  hit_list = []\n",
        "  for i in range(0, len(seq)):\n",
        "    try:\n",
        "      points, label_list = p[i:i+K], label[i:i+K]\n",
        "      count_total = K\n",
        "    except:\n",
        "      points, label_list = p[i:], label[i:]\n",
        "      count_total = len(p[i:])\n",
        "    count = 0\n",
        "    for s in points:\n",
        "      if s in label_list:\n",
        "        count += 1\n",
        "    tp += count/count_total\n",
        "\n",
        "    true_count = 0\n",
        "    if tp > 0:\n",
        "      true_count += 1\n",
        "      hit_list.append(True)\n",
        "    else:\n",
        "      true_count += 1\n",
        "      hit_list.append(False)\n",
        "\n",
        "    n1=0\n",
        "    false_count=0\n",
        "    for i, true in enumerate(hit_list):\n",
        "      if true==True:\n",
        "        for not_true in hit_list[i:]:\n",
        "          if not not_true:\n",
        "            n1 += 1\n",
        "\n",
        "    if true_count == 0:\n",
        "      auc = 0\n",
        "    elif false_count == 0:\n",
        "      auc = 1\n",
        "    else:\n",
        "      n = true_count*false_count\n",
        "      auc = n1/n\n",
        "  return tp/total, auc"
      ],
      "execution_count": null,
      "outputs": []
    },
    {
      "cell_type": "code",
      "metadata": {
        "id": "MfZiK18IYqZP"
      },
      "source": [
        "X_test = X\n",
        "labels_test = labels"
      ],
      "execution_count": null,
      "outputs": []
    },
    {
      "cell_type": "code",
      "metadata": {
        "colab": {
          "base_uri": "https://localhost:8080/"
        },
        "id": "kPe5ax-xzxK-",
        "outputId": "19924bca-f167-4d23-992b-f2eee380e5eb"
      },
      "source": [
        "topk_train = []\n",
        "topk_test = []\n",
        "hitk_train = []\n",
        "hitk_test = []\n",
        "auc_train = []\n",
        "auc_test = []\n",
        "fail_count = 0\n",
        "\n",
        "topk_train = []\n",
        "hitk_train = []\n",
        "auc_train = []\n",
        "for percent in [0.25, 0.5, 0.75, 0.9, 1]:\n",
        "  top = 0\n",
        "  hit = 0\n",
        "  auc = 0\n",
        "  for seq, label in zip(X_train, labels_train):\n",
        "    try:\n",
        "      sc, asc = score(model, np.array(seq[:int(len(seq)*percent)]), label[1:])\n",
        "    except:\n",
        "      print(\"Fail!!\", end=\"\\t\")\n",
        "      fail_count = fail_count + 1\n",
        "      continue\n",
        "      \n",
        "    if sc > 0:\n",
        "      top += sc\n",
        "      hit += 1\n",
        "    auc += asc\n",
        "\n",
        "  train_score = top/len(X_train)\n",
        "  topk_train.append(train_score)\n",
        "  train_score = hit/len(X_train)\n",
        "  hitk_train.append(train_score)\n",
        "  train_score = auc/len(X_train)\n",
        "  auc_train.append(train_score)\n",
        "\n",
        "\n",
        "topk_test = []\n",
        "hitk_test = []\n",
        "auc_test = []\n",
        "for percent in [0.25, 0.5, 0.75, 0.9, 1]:\n",
        "  top = 0\n",
        "  hit = 0\n",
        "  auc = 0\n",
        "  for seq, label in zip(X_test, labels_test):\n",
        "    try:\n",
        "      sc, asc = score(model, np.array(seq[:int(len(seq)*percent)]), label[1:])\n",
        "    except:\n",
        "      print(\"Fail!!\", end=\"\\t\")\n",
        "      fail_count = fail_count + 1\n",
        "      continue\n",
        "      \n",
        "    if sc > 0:\n",
        "      top += sc\n",
        "      hit += 1\n",
        "    auc += asc\n",
        "\n",
        "  test_score = top/len(X_test)\n",
        "  topk_test.append(test_score)\n",
        "  test_score = hit/len(X_test)\n",
        "  hitk_test.append(test_score)\n",
        "  test_score = auc/len(X_test)\n",
        "  auc_test.append(test_score)\n",
        "\n",
        "print(\"=== auc\")\n",
        "print(f'Train score')\n",
        "print(f'\\t25% trip traverse : {auc_train[0]}')\n",
        "print(f'\\t50% trip traverse : {auc_train[1]}')\n",
        "print(f'\\t75% trip traverse : {auc_train[2]}')\n",
        "print(f'\\t90% trip traverse : {auc_train[3]}')\n",
        "print(f'\\t100%trip traverse : {auc_train[4]}') \n",
        "print(f'Test score')\n",
        "print(f'\\t25% trip traverse : {auc_test[0]}')\n",
        "print(f'\\t50% trip traverse : {auc_test[1]}')\n",
        "print(f'\\t75% trip traverse : {auc_test[2]}')\n",
        "print(f'\\t90% trip traverse : {auc_test[3]}')\n",
        "print(f'\\t100%trip traverse : {auc_test[4]}')\n",
        "\n",
        "print(\"=== top k\")\n",
        "print(f'Train score')\n",
        "print(f'\\t25% trip traverse : {topk_train[0]}')\n",
        "print(f'\\t50% trip traverse : {topk_train[1]}')\n",
        "print(f'\\t75% trip traverse : {topk_train[2]}')\n",
        "print(f'\\t90% trip traverse : {topk_train[3]}')\n",
        "print(f'\\t100%trip traverse : {topk_train[4]}') \n",
        "print(f'Test score')\n",
        "print(f'\\t25% trip traverse : {topk_test[0]}')\n",
        "print(f'\\t50% trip traverse : {topk_test[1]}')\n",
        "print(f'\\t75% trip traverse : {topk_test[2]}')\n",
        "print(f'\\t90% trip traverse : {topk_test[3]}')\n",
        "print(f'\\t100%trip traverse : {topk_test[4]}')\n",
        "\n",
        "print(\"=== hit@k\")\n",
        "print(f'Train score')\n",
        "print(f'\\t25% trip traverse : {hitk_train[0]}')\n",
        "print(f'\\t50% trip traverse : {hitk_train[1]}')\n",
        "print(f'\\t75% trip traverse : {hitk_train[2]}')\n",
        "print(f'\\t90% trip traverse : {hitk_train[3]}')\n",
        "print(f'\\t100%trip traverse : {hitk_train[4]}') \n",
        "print(f'Test score')\n",
        "print(f'\\t25% trip traverse : {hitk_test[0]}')\n",
        "print(f'\\t50% trip traverse : {hitk_test[1]}')\n",
        "print(f'\\t75% trip traverse : {hitk_test[2]}')\n",
        "print(f'\\t90% trip traverse : {hitk_test[3]}')\n",
        "print(f'\\t100%trip traverse : {hitk_test[4]}')\n",
        "print('fail seq = ',fail_count)"
      ],
      "execution_count": null,
      "outputs": [
        {
          "output_type": "stream",
          "name": "stdout",
          "text": [
            "Fail!!\tFail!!\tFail!!\tFail!!\tFail!!\t=== auc\n",
            "Train score\n",
            "\t25% trip traverse : 0.9999703184826808\n",
            "\t50% trip traverse : 0.9999703184826808\n",
            "\t75% trip traverse : 0.9999703184826808\n",
            "\t90% trip traverse : 0.9999703184826808\n",
            "\t100%trip traverse : 0.9999703184826808\n",
            "Test score\n",
            "\t25% trip traverse : 1.0\n",
            "\t50% trip traverse : 1.0\n",
            "\t75% trip traverse : 1.0\n",
            "\t90% trip traverse : 1.0\n",
            "\t100%trip traverse : 1.0\n",
            "=== top k\n",
            "Train score\n",
            "\t25% trip traverse : 0.3106623339983903\n",
            "\t50% trip traverse : 0.5371119593087453\n",
            "\t75% trip traverse : 0.6747841688330568\n",
            "\t90% trip traverse : 0.7269246194760739\n",
            "\t100%trip traverse : 0.7632171345598957\n",
            "Test score\n",
            "\t25% trip traverse : 0.4144794815618894\n",
            "\t50% trip traverse : 0.6268417380648675\n",
            "\t75% trip traverse : 0.7286216689025243\n",
            "\t90% trip traverse : 0.7658177264858927\n",
            "\t100%trip traverse : 0.7874623403188631\n",
            "=== hit@k\n",
            "Train score\n",
            "\t25% trip traverse : 0.9999703184826808\n",
            "\t50% trip traverse : 0.9999703184826808\n",
            "\t75% trip traverse : 0.9999703184826808\n",
            "\t90% trip traverse : 0.9999703184826808\n",
            "\t100%trip traverse : 0.9999703184826808\n",
            "Test score\n",
            "\t25% trip traverse : 0.999662276258021\n",
            "\t50% trip traverse : 1.0\n",
            "\t75% trip traverse : 1.0\n",
            "\t90% trip traverse : 1.0\n",
            "\t100%trip traverse : 1.0\n",
            "fail seq =  5\n"
          ]
        }
      ]
    },
    {
      "cell_type": "code",
      "metadata": {
        "id": "0_u7tkt9SfDC"
      },
      "source": [
        "def top_k_score(model, seq, label):\n",
        "  p = []\n",
        "  prob, path = model.viterbi(seq)\n",
        "  for s in path[1:]:\n",
        "    p.append(s[1].name)\n",
        "  \n",
        "  K = 5\n",
        "  tp = 0\n",
        "  total = len(seq)\n",
        "  for i in range(0, len(seq)):\n",
        "    try:\n",
        "      points, label_list = p[i:i+K], label[i:i+K]\n",
        "      count_total = K\n",
        "    except:\n",
        "      points, label_list = p[i:], label[i:]\n",
        "      count_total = len(p[i:])\n",
        "    count = 0\n",
        "    for s in points:\n",
        "      if s in label_list:\n",
        "        count += 1\n",
        "    tp += count/count_total\n",
        "  return tp/total\n",
        "\n",
        "def auc_score(model, seq, label):\n",
        "  p = []\n",
        "  prob, path = model.viterbi(seq)\n",
        "  for s in path[1:]:\n",
        "    p.append(s[1].name)\n",
        "\n",
        "  hit_list = []\n",
        "  true_count=0\n",
        "  for pp, l in zip(p, label):\n",
        "    value = (pp == l)\n",
        "    if value:\n",
        "      true_count += 1\n",
        "    hit_list.append(value)\n",
        "  \n",
        "  n1=0\n",
        "  false_count=0\n",
        "  for i, true in enumerate(hit_list):\n",
        "    if true==True:\n",
        "      for not_true in hit_list[i:]:\n",
        "        if not not_true:\n",
        "          n1 += 1\n",
        "    else:\n",
        "      false_count += 1\n",
        "\n",
        "  if true_count == 0:\n",
        "    return 0\n",
        "  if false_count == 0:\n",
        "    return 1\n",
        "  n = true_count*false_count\n",
        "  return n1/n"
      ],
      "execution_count": null,
      "outputs": []
    },
    {
      "cell_type": "code",
      "metadata": {
        "colab": {
          "base_uri": "https://localhost:8080/"
        },
        "id": "b5X2saH6LJB6",
        "outputId": "c47c1e77-8451-437c-8fc1-df784d4ea340"
      },
      "source": [
        "topk_train = []\n",
        "topk_test = []\n",
        "hitk_train = []\n",
        "hitk_test = []\n",
        "auc_train = []\n",
        "auc_test = []\n",
        "fail_count = 0\n",
        "\n",
        "topk_train = []\n",
        "hitk_train = []\n",
        "auc_train = []\n",
        "for percent in [0.25, 0.5, 0.75, 0.9, 1]:\n",
        "  top = 0\n",
        "  hit = 0\n",
        "  auc = 0\n",
        "  for seq, label in zip(X_train, labels_train):\n",
        "    try:\n",
        "      sc = top_k_score(model, np.array(seq[:int(len(seq)*percent)]), label[1:])\n",
        "    except:\n",
        "      print(\"Fail!!\", end=\"\\t\")\n",
        "      fail_count = fail_count + 1\n",
        "      continue\n",
        "      \n",
        "    if sc > 0:\n",
        "      top += sc\n",
        "      hit += 1\n",
        "\n",
        "    try:\n",
        "      asc = auc_score(model, np.array(seq[:int(len(seq)*percent)]), label[1:])\n",
        "    except:\n",
        "      print(\"Fail!!\", end=\"\\t\")\n",
        "      fail_count = fail_count + 1\n",
        "      continue\n",
        "\n",
        "    auc += asc\n",
        "\n",
        "  train_score = top/len(X_train)\n",
        "  topk_train.append(train_score)\n",
        "  train_score = hit/len(X_train)\n",
        "  hitk_train.append(train_score)\n",
        "  train_score = auc/len(X_train)\n",
        "  auc_train.append(train_score)\n",
        "\n",
        "\n",
        "topk_test = []\n",
        "hitk_test = []\n",
        "auc_test = []\n",
        "for percent in [0.25, 0.5, 0.75, 0.9, 1]:\n",
        "  top = 0\n",
        "  hit = 0\n",
        "  auc = 0\n",
        "  for seq, label in zip(X_test, labels_test):\n",
        "    try:\n",
        "      sc = top_k_score(model, np.array(seq[:int(len(seq)*percent)]), label[1:])\n",
        "    except:\n",
        "      print(\"Fail!!\", end=\"\\t\")\n",
        "      fail_count = fail_count + 1\n",
        "      continue\n",
        "    \n",
        "    if sc > 0:\n",
        "      top += sc\n",
        "      hit += 1\n",
        "\n",
        "    try:\n",
        "      asc = auc_score(model, np.array(seq[:int(len(seq)*percent)]), label[1:])\n",
        "    except:\n",
        "      print(\"Fail!!\", end=\"\\t\")\n",
        "      fail_count = fail_count + 1\n",
        "      continue\n",
        "\n",
        "    auc += asc\n",
        "\n",
        "  test_score = top/len(X_test)\n",
        "  topk_test.append(test_score)\n",
        "  test_score = hit/len(X_test)\n",
        "  hitk_test.append(test_score)\n",
        "  test_score = auc/len(X_test)\n",
        "  auc_test.append(test_score)\n",
        "\n",
        "print(\"=== auc\")\n",
        "print(f'Train score')\n",
        "print(f'\\t25% trip traverse : {auc_train[0]}')\n",
        "print(f'\\t50% trip traverse : {auc_train[1]}')\n",
        "print(f'\\t75% trip traverse : {auc_train[2]}')\n",
        "print(f'\\t90% trip traverse : {auc_train[3]}')\n",
        "print(f'\\t100%trip traverse : {auc_train[4]}') \n",
        "print(f'Test score')\n",
        "print(f'\\t25% trip traverse : {auc_test[0]}')\n",
        "print(f'\\t50% trip traverse : {auc_test[1]}')\n",
        "print(f'\\t75% trip traverse : {auc_test[2]}')\n",
        "print(f'\\t90% trip traverse : {auc_test[3]}')\n",
        "print(f'\\t100%trip traverse : {auc_test[4]}')\n",
        "\n",
        "print(\"=== top k\")\n",
        "print(f'Train score')\n",
        "print(f'\\t25% trip traverse : {topk_train[0]}')\n",
        "print(f'\\t50% trip traverse : {topk_train[1]}')\n",
        "print(f'\\t75% trip traverse : {topk_train[2]}')\n",
        "print(f'\\t90% trip traverse : {topk_train[3]}')\n",
        "print(f'\\t100%trip traverse : {topk_train[4]}') \n",
        "print(f'Test score')\n",
        "print(f'\\t25% trip traverse : {topk_test[0]}')\n",
        "print(f'\\t50% trip traverse : {topk_test[1]}')\n",
        "print(f'\\t75% trip traverse : {topk_test[2]}')\n",
        "print(f'\\t90% trip traverse : {topk_test[3]}')\n",
        "print(f'\\t100%trip traverse : {topk_test[4]}')\n",
        "\n",
        "print(\"=== hit@k\")\n",
        "print(f'Train score')\n",
        "print(f'\\t25% trip traverse : {hitk_train[0]}')\n",
        "print(f'\\t50% trip traverse : {hitk_train[1]}')\n",
        "print(f'\\t75% trip traverse : {hitk_train[2]}')\n",
        "print(f'\\t90% trip traverse : {hitk_train[3]}')\n",
        "print(f'\\t100%trip traverse : {hitk_train[4]}') \n",
        "print(f'Test score')\n",
        "print(f'\\t25% trip traverse : {hitk_test[0]}')\n",
        "print(f'\\t50% trip traverse : {hitk_test[1]}')\n",
        "print(f'\\t75% trip traverse : {hitk_test[2]}')\n",
        "print(f'\\t90% trip traverse : {hitk_test[3]}')\n",
        "print(f'\\t100%trip traverse : {hitk_test[4]}')\n",
        "print('fail seq = ',fail_count)"
      ],
      "execution_count": null,
      "outputs": [
        {
          "output_type": "stream",
          "name": "stdout",
          "text": [
            "Fail!!\tFail!!\tFail!!\tFail!!\tFail!!\t=== auc\n",
            "Train score\n",
            "\t25% trip traverse : 0.9999703184826808\n",
            "\t50% trip traverse : 0.9999703184826808\n",
            "\t75% trip traverse : 0.9999703184826808\n",
            "\t90% trip traverse : 0.9999703184826808\n",
            "\t100%trip traverse : 0.9999703184826808\n",
            "Test score\n",
            "\t25% trip traverse : 0.48349909902609894\n",
            "\t50% trip traverse : 0.48912250601745993\n",
            "\t75% trip traverse : 0.48340412932793053\n",
            "\t90% trip traverse : 0.48116360585874784\n",
            "\t100%trip traverse : 0.4849564789583504\n",
            "=== top k\n",
            "Train score\n",
            "\t25% trip traverse : 0.5637316317120507\n",
            "\t50% trip traverse : 0.7834670851241559\n",
            "\t75% trip traverse : 0.855443140860398\n",
            "\t90% trip traverse : 0.8786166744795809\n",
            "\t100%trip traverse : 0.8947466811835111\n",
            "Test score\n",
            "\t25% trip traverse : 0.6001912646010711\n",
            "\t50% trip traverse : 0.7568654688694654\n",
            "\t75% trip traverse : 0.8086548562849618\n",
            "\t90% trip traverse : 0.8258250707063101\n",
            "\t100%trip traverse : 0.8320303835168281\n",
            "=== hit@k\n",
            "Train score\n",
            "\t25% trip traverse : 0.9999703184826808\n",
            "\t50% trip traverse : 0.9999703184826808\n",
            "\t75% trip traverse : 0.9999703184826808\n",
            "\t90% trip traverse : 0.9999703184826808\n",
            "\t100%trip traverse : 0.9999703184826808\n",
            "Test score\n",
            "\t25% trip traverse : 0.999662276258021\n",
            "\t50% trip traverse : 1.0\n",
            "\t75% trip traverse : 1.0\n",
            "\t90% trip traverse : 1.0\n",
            "\t100%trip traverse : 1.0\n",
            "fail seq =  5\n"
          ]
        }
      ]
    }
  ]
}