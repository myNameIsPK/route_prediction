{
  "nbformat": 4,
  "nbformat_minor": 0,
  "metadata": {
    "colab": {
      "name": "pomegranate_decreased.ipynb",
      "provenance": [],
      "toc_visible": true
    },
    "kernelspec": {
      "name": "python3",
      "display_name": "Python 3"
    },
    "language_info": {
      "name": "python"
    }
  },
  "cells": [
    {
      "cell_type": "markdown",
      "metadata": {
        "id": "fCAjRTC1MpUV"
      },
      "source": [
        "#import"
      ]
    },
    {
      "cell_type": "code",
      "metadata": {
        "colab": {
          "base_uri": "https://localhost:8080/"
        },
        "id": "j7CVL4kOMqcg",
        "outputId": "47442f1a-95f8-4dfd-dfa1-7aa7c31215a8"
      },
      "source": [
        "from google.colab import drive\n",
        "drive.mount('/content/drive')"
      ],
      "execution_count": 1,
      "outputs": [
        {
          "output_type": "stream",
          "name": "stdout",
          "text": [
            "Drive already mounted at /content/drive; to attempt to forcibly remount, call drive.mount(\"/content/drive\", force_remount=True).\n"
          ]
        }
      ]
    },
    {
      "cell_type": "code",
      "metadata": {
        "id": "Dg-rboiTMxbj",
        "colab": {
          "base_uri": "https://localhost:8080/"
        },
        "outputId": "d875b885-4ef4-4bf4-f62a-9bd9018c9be2"
      },
      "source": [
        "!pip install plotly_express\n",
        "!pip install geopandas\n",
        "!pip install pomegranate"
      ],
      "execution_count": 2,
      "outputs": [
        {
          "output_type": "stream",
          "name": "stdout",
          "text": [
            "Requirement already satisfied: plotly_express in /usr/local/lib/python3.7/dist-packages (0.4.1)\n",
            "Requirement already satisfied: statsmodels>=0.9.0 in /usr/local/lib/python3.7/dist-packages (from plotly_express) (0.10.2)\n",
            "Requirement already satisfied: pandas>=0.20.0 in /usr/local/lib/python3.7/dist-packages (from plotly_express) (1.1.5)\n",
            "Requirement already satisfied: patsy>=0.5 in /usr/local/lib/python3.7/dist-packages (from plotly_express) (0.5.2)\n",
            "Requirement already satisfied: plotly>=4.1.0 in /usr/local/lib/python3.7/dist-packages (from plotly_express) (4.4.1)\n",
            "Requirement already satisfied: scipy>=0.18 in /usr/local/lib/python3.7/dist-packages (from plotly_express) (1.4.1)\n",
            "Requirement already satisfied: numpy>=1.11 in /usr/local/lib/python3.7/dist-packages (from plotly_express) (1.21.4)\n",
            "Requirement already satisfied: pytz>=2017.2 in /usr/local/lib/python3.7/dist-packages (from pandas>=0.20.0->plotly_express) (2018.9)\n",
            "Requirement already satisfied: python-dateutil>=2.7.3 in /usr/local/lib/python3.7/dist-packages (from pandas>=0.20.0->plotly_express) (2.8.2)\n",
            "Requirement already satisfied: six in /usr/local/lib/python3.7/dist-packages (from patsy>=0.5->plotly_express) (1.15.0)\n",
            "Requirement already satisfied: retrying>=1.3.3 in /usr/local/lib/python3.7/dist-packages (from plotly>=4.1.0->plotly_express) (1.3.3)\n",
            "Requirement already satisfied: geopandas in /usr/local/lib/python3.7/dist-packages (0.10.2)\n",
            "Requirement already satisfied: pyproj>=2.2.0 in /usr/local/lib/python3.7/dist-packages (from geopandas) (3.2.1)\n",
            "Requirement already satisfied: fiona>=1.8 in /usr/local/lib/python3.7/dist-packages (from geopandas) (1.8.20)\n",
            "Requirement already satisfied: shapely>=1.6 in /usr/local/lib/python3.7/dist-packages (from geopandas) (1.8.0)\n",
            "Requirement already satisfied: pandas>=0.25.0 in /usr/local/lib/python3.7/dist-packages (from geopandas) (1.1.5)\n",
            "Requirement already satisfied: click>=4.0 in /usr/local/lib/python3.7/dist-packages (from fiona>=1.8->geopandas) (7.1.2)\n",
            "Requirement already satisfied: attrs>=17 in /usr/local/lib/python3.7/dist-packages (from fiona>=1.8->geopandas) (21.2.0)\n",
            "Requirement already satisfied: click-plugins>=1.0 in /usr/local/lib/python3.7/dist-packages (from fiona>=1.8->geopandas) (1.1.1)\n",
            "Requirement already satisfied: cligj>=0.5 in /usr/local/lib/python3.7/dist-packages (from fiona>=1.8->geopandas) (0.7.2)\n",
            "Requirement already satisfied: setuptools in /usr/local/lib/python3.7/dist-packages (from fiona>=1.8->geopandas) (57.4.0)\n",
            "Requirement already satisfied: munch in /usr/local/lib/python3.7/dist-packages (from fiona>=1.8->geopandas) (2.5.0)\n",
            "Requirement already satisfied: certifi in /usr/local/lib/python3.7/dist-packages (from fiona>=1.8->geopandas) (2021.10.8)\n",
            "Requirement already satisfied: six>=1.7 in /usr/local/lib/python3.7/dist-packages (from fiona>=1.8->geopandas) (1.15.0)\n",
            "Requirement already satisfied: numpy>=1.15.4 in /usr/local/lib/python3.7/dist-packages (from pandas>=0.25.0->geopandas) (1.21.4)\n",
            "Requirement already satisfied: python-dateutil>=2.7.3 in /usr/local/lib/python3.7/dist-packages (from pandas>=0.25.0->geopandas) (2.8.2)\n",
            "Requirement already satisfied: pytz>=2017.2 in /usr/local/lib/python3.7/dist-packages (from pandas>=0.25.0->geopandas) (2018.9)\n",
            "Requirement already satisfied: pomegranate in /usr/local/lib/python3.7/dist-packages (0.14.7)\n",
            "Requirement already satisfied: scipy>=0.17.0 in /usr/local/lib/python3.7/dist-packages (from pomegranate) (1.4.1)\n",
            "Requirement already satisfied: pyyaml in /usr/local/lib/python3.7/dist-packages (from pomegranate) (3.13)\n",
            "Requirement already satisfied: joblib>=0.9.0b4 in /usr/local/lib/python3.7/dist-packages (from pomegranate) (1.1.0)\n",
            "Requirement already satisfied: numpy>=1.20.0 in /usr/local/lib/python3.7/dist-packages (from pomegranate) (1.21.4)\n",
            "Requirement already satisfied: networkx>=2.4 in /usr/local/lib/python3.7/dist-packages (from pomegranate) (2.6.3)\n"
          ]
        }
      ]
    },
    {
      "cell_type": "code",
      "metadata": {
        "id": "uRHgT0UMMrhd"
      },
      "source": [
        "import pandas as pd\n",
        "import numpy as np\n",
        "import matplotlib.pyplot as plt\n",
        "from collections import Counter\n",
        "import plotly_express as px\n",
        "px.set_mapbox_access_token(\"pk.eyJ1Ijoic2hha2Fzb20iLCJhIjoiY2plMWg1NGFpMXZ5NjJxbjhlM2ttN3AwbiJ9.RtGYHmreKiyBfHuElgYq_w\")\n",
        "from pomegranate import *\n",
        "from sklearn import preprocessing\n",
        "import math"
      ],
      "execution_count": 3,
      "outputs": []
    },
    {
      "cell_type": "code",
      "metadata": {
        "colab": {
          "base_uri": "https://localhost:8080/"
        },
        "id": "IbY1ahaaKxXh",
        "outputId": "93a99701-b0cb-4670-e03f-dfcaadb92cf2"
      },
      "source": [
        "!ls '/content/drive/My Drive/2021 Route Prediction/Project-1/Source-Code/data/trips_with_wayID'"
      ],
      "execution_count": 4,
      "outputs": [
        {
          "output_type": "stream",
          "name": "stdout",
          "text": [
            "trips_with_wayId_1_10.csv  trips_with_wayId_1_27.csv  trips_with_wayId_8_15.csv\n",
            "trips_with_wayId_1_11.csv  trips_with_wayId_1_28.csv  trips_with_wayId_8_16.csv\n",
            "trips_with_wayId_1_12.csv  trips_with_wayId_1_29.csv  trips_with_wayId_8_17.csv\n",
            "trips_with_wayId_1_13.csv  trips_with_wayId_1_2.csv   trips_with_wayId_8_18.csv\n",
            "trips_with_wayId_1_14.csv  trips_with_wayId_1_30.csv  trips_with_wayId_8_19.csv\n",
            "trips_with_wayId_1_15.csv  trips_with_wayId_1_31.csv  trips_with_wayId_8_20.csv\n",
            "trips_with_wayId_1_16.csv  trips_with_wayId_1_3.csv   trips_with_wayId_8_21.csv\n",
            "trips_with_wayId_1_17.csv  trips_with_wayId_1_4.csv   trips_with_wayId_8_22.csv\n",
            "trips_with_wayId_1_18.csv  trips_with_wayId_1_5.csv   trips_with_wayId_8_23.csv\n",
            "trips_with_wayId_1_19.csv  trips_with_wayId_1_6.csv   trips_with_wayId_8_24.csv\n",
            "trips_with_wayId_1_1.csv   trips_with_wayId_1_7.csv   trips_with_wayId_8_25.csv\n",
            "trips_with_wayId_1_21.csv  trips_with_wayId_1_8.csv   trips_with_wayId_8_26.csv\n",
            "trips_with_wayId_1_22.csv  trips_with_wayId_1_9.csv   trips_with_wayId_8_27.csv\n",
            "trips_with_wayId_1_23.csv  trips_with_wayId_8_11.csv  trips_with_wayId_8_28.csv\n",
            "trips_with_wayId_1_24.csv  trips_with_wayId_8_12.csv  trips_with_wayId_8_29.csv\n",
            "trips_with_wayId_1_25.csv  trips_with_wayId_8_13.csv  trips_with_wayId_8_30.csv\n",
            "trips_with_wayId_1_26.csv  trips_with_wayId_8_14.csv  trips_with_wayId_8_31.csv\n"
          ]
        }
      ]
    },
    {
      "cell_type": "markdown",
      "metadata": {
        "id": "EA_t11scSuGQ"
      },
      "source": [
        "##get trip data"
      ]
    },
    {
      "cell_type": "code",
      "metadata": {
        "id": "k3SOv9tySwVg"
      },
      "source": [
        "road_data_path = '/content/drive/My Drive/2021 Route Prediction/Project-1/Source-Code/data/route_network/clustered'\n",
        "trips_data_path = '/content/drive/My Drive/2021 Route Prediction/Project-1/Source-Code/data/way_labeled_decrease_NE_2019'\n",
        "way_id_on_trips_path = '/content/drive/My Drive/2021 Route Prediction/Project-1/Source-Code/data/3.2_wayid_on_trips'"
      ],
      "execution_count": 7,
      "outputs": []
    },
    {
      "cell_type": "code",
      "metadata": {
        "colab": {
          "base_uri": "https://localhost:8080/",
          "height": 261
        },
        "id": "nPu0FDtfS2TX",
        "outputId": "2bcbbdad-c399-4762-91fb-bd05ef8ee1e9"
      },
      "source": [
        "dfs = []\n",
        "day_len = []\n",
        "day_trip_count = []\n",
        "days = range(1,32)\n",
        "# days = range(11,12)\n",
        "months = range(1,2)\n",
        "# months = range(8,9)\n",
        "\n",
        "for month in months:\n",
        "  for day in days:\n",
        "    try:\n",
        "      sp_seq_df = pd.read_csv(trips_data_path + f'/way_labeled_decrease_2019_{month}_{day}.csv', parse_dates=['time_stamp'])\n",
        "    except:\n",
        "      pass\n",
        "\n",
        "    sp_seq_df = sp_seq_df.sort_values(by=['trip_id', 'time_stamp'])\n",
        "\n",
        "    trip_count = sp_seq_df.trip_id.value_counts()\n",
        "    trip_count = trip_count[trip_count >= 12]\n",
        "    sp_seq_df = sp_seq_df[sp_seq_df.trip_id.isin(trip_count.index)]\n",
        "    sp_seq_df['month'] = month\n",
        "    sp_seq_df['day'] = day\n",
        "    day_len.append(len(sp_seq_df))\n",
        "    day_trip_count.append(len(trip_count))\n",
        "    dfs.append(sp_seq_df)\n",
        "print(day_len)\n",
        "print(day_trip_count)\n",
        "df = pd.concat(dfs, ignore_index=True)\n",
        "df\n",
        "\n",
        "# df = df[['trip_id', 'way_id', 'day', 'month','route_cluster']]\n",
        "df.head()"
      ],
      "execution_count": 8,
      "outputs": [
        {
          "output_type": "stream",
          "name": "stdout",
          "text": [
            "[23885, 38693, 65653, 93535, 111730, 99358, 84538, 121837, 118054, 113042, 116113, 77262, 107428, 83591, 112616, 92127, 117352, 108331, 117764, 117764, 91649, 78703, 117302, 109436, 100518, 104479, 96250, 68346, 73566, 73575, 74482]\n",
            "[1036, 1691, 2897, 4190, 4887, 4395, 3837, 5465, 5292, 5121, 5315, 3609, 4782, 3827, 5112, 4273, 5318, 4878, 5288, 5288, 4079, 3668, 5359, 5046, 4598, 4756, 4327, 3197, 3670, 3686, 3641]\n"
          ]
        },
        {
          "output_type": "execute_result",
          "data": {
            "text/html": [
              "<div>\n",
              "<style scoped>\n",
              "    .dataframe tbody tr th:only-of-type {\n",
              "        vertical-align: middle;\n",
              "    }\n",
              "\n",
              "    .dataframe tbody tr th {\n",
              "        vertical-align: top;\n",
              "    }\n",
              "\n",
              "    .dataframe thead th {\n",
              "        text-align: right;\n",
              "    }\n",
              "</style>\n",
              "<table border=\"1\" class=\"dataframe\">\n",
              "  <thead>\n",
              "    <tr style=\"text-align: right;\">\n",
              "      <th></th>\n",
              "      <th>time_stamp</th>\n",
              "      <th>unit_id</th>\n",
              "      <th>lat</th>\n",
              "      <th>lon</th>\n",
              "      <th>speed</th>\n",
              "      <th>unit_type</th>\n",
              "      <th>trip_id</th>\n",
              "      <th>way_id</th>\n",
              "      <th>dist</th>\n",
              "      <th>label</th>\n",
              "      <th>month</th>\n",
              "      <th>day</th>\n",
              "    </tr>\n",
              "  </thead>\n",
              "  <tbody>\n",
              "    <tr>\n",
              "      <th>0</th>\n",
              "      <td>2019-01-01 04:26:59</td>\n",
              "      <td>016000200000352253062499073</td>\n",
              "      <td>17.53611</td>\n",
              "      <td>102.75656</td>\n",
              "      <td>53</td>\n",
              "      <td>6.0</td>\n",
              "      <td>1</td>\n",
              "      <td>686957536</td>\n",
              "      <td>0.004565</td>\n",
              "      <td>3092</td>\n",
              "      <td>1</td>\n",
              "      <td>1</td>\n",
              "    </tr>\n",
              "    <tr>\n",
              "      <th>1</th>\n",
              "      <td>2019-01-01 04:29:39</td>\n",
              "      <td>016000200000352253062499073</td>\n",
              "      <td>17.54386</td>\n",
              "      <td>102.73553</td>\n",
              "      <td>54</td>\n",
              "      <td>6.0</td>\n",
              "      <td>1</td>\n",
              "      <td>686912257</td>\n",
              "      <td>0.001649</td>\n",
              "      <td>3092</td>\n",
              "      <td>1</td>\n",
              "      <td>1</td>\n",
              "    </tr>\n",
              "    <tr>\n",
              "      <th>2</th>\n",
              "      <td>2019-01-01 04:33:39</td>\n",
              "      <td>016000200000352253062499073</td>\n",
              "      <td>17.55599</td>\n",
              "      <td>102.70352</td>\n",
              "      <td>54</td>\n",
              "      <td>6.0</td>\n",
              "      <td>1</td>\n",
              "      <td>686911019</td>\n",
              "      <td>0.002920</td>\n",
              "      <td>3092</td>\n",
              "      <td>1</td>\n",
              "      <td>1</td>\n",
              "    </tr>\n",
              "    <tr>\n",
              "      <th>3</th>\n",
              "      <td>2019-01-01 04:45:39</td>\n",
              "      <td>016000200000352253062499073</td>\n",
              "      <td>17.58858</td>\n",
              "      <td>102.60861</td>\n",
              "      <td>51</td>\n",
              "      <td>6.0</td>\n",
              "      <td>1</td>\n",
              "      <td>686910206</td>\n",
              "      <td>0.001777</td>\n",
              "      <td>3092</td>\n",
              "      <td>1</td>\n",
              "      <td>1</td>\n",
              "    </tr>\n",
              "    <tr>\n",
              "      <th>4</th>\n",
              "      <td>2019-01-01 05:34:39</td>\n",
              "      <td>016000200000352253062499073</td>\n",
              "      <td>17.69241</td>\n",
              "      <td>102.47342</td>\n",
              "      <td>28</td>\n",
              "      <td>6.0</td>\n",
              "      <td>1</td>\n",
              "      <td>308207967</td>\n",
              "      <td>0.003633</td>\n",
              "      <td>2059</td>\n",
              "      <td>1</td>\n",
              "      <td>1</td>\n",
              "    </tr>\n",
              "  </tbody>\n",
              "</table>\n",
              "</div>"
            ],
            "text/plain": [
              "           time_stamp                      unit_id       lat  ...  label  month  day\n",
              "0 2019-01-01 04:26:59  016000200000352253062499073  17.53611  ...   3092      1    1\n",
              "1 2019-01-01 04:29:39  016000200000352253062499073  17.54386  ...   3092      1    1\n",
              "2 2019-01-01 04:33:39  016000200000352253062499073  17.55599  ...   3092      1    1\n",
              "3 2019-01-01 04:45:39  016000200000352253062499073  17.58858  ...   3092      1    1\n",
              "4 2019-01-01 05:34:39  016000200000352253062499073  17.69241  ...   2059      1    1\n",
              "\n",
              "[5 rows x 12 columns]"
            ]
          },
          "metadata": {},
          "execution_count": 8
        }
      ]
    },
    {
      "cell_type": "code",
      "metadata": {
        "id": "N2PWry8jM2Ul"
      },
      "source": [
        "df_labeled = df"
      ],
      "execution_count": 10,
      "outputs": []
    },
    {
      "cell_type": "markdown",
      "metadata": {
        "id": "SwSO707zKUGI"
      },
      "source": [
        "#func score"
      ]
    },
    {
      "cell_type": "code",
      "metadata": {
        "id": "AwKLRw4Mq-QH"
      },
      "source": [
        "def score(model, seq, label):\n",
        "  p = []\n",
        "  prob, path = model.viterbi(seq)\n",
        "  for s in path[1:]:\n",
        "    p.append(s[1].name)\n",
        "  tp = 0\n",
        "  ###\n",
        "  # for _state_name, _label in zip(p, label):\n",
        "  #   if _state_name == _label:\n",
        "  #     tp+=1\n",
        "  ###\n",
        "  # for i, state in enumerate(p):\n",
        "  #   try:\n",
        "  #     interval = label[i:i+10]\n",
        "  #   except:\n",
        "  #     interval = label[i:]\n",
        "  #   if state in interval:\n",
        "  #     tp+=1\n",
        "  # ### precision\n",
        "  # total = 0\n",
        "  # for _state_name, _label in zip(p, label):\n",
        "  #   if _state_name == '-1':\n",
        "  #     continue\n",
        "  #   if _state_name == _label:\n",
        "  #     tp+=1\n",
        "  #   total+=1\n",
        "  ### recal\n",
        "  # total = 0\n",
        "  # for _state_name, _label in zip(p, label):\n",
        "  #   if _state_name == '-1' and _label == '-1':\n",
        "  #     continue\n",
        "  #   elif _state_name == _label:\n",
        "  #     tp+=1\n",
        "  #   total+=1\n",
        "  ### precision 10 interval\n",
        "  total = 0\n",
        "  for i, state in enumerate(p):\n",
        "    if state == '-1':\n",
        "      continue\n",
        "    try:\n",
        "      interval = label[i:i+10]\n",
        "    except:\n",
        "      interval = label[i:]\n",
        "    if state in interval:\n",
        "      tp+=1\n",
        "    total+=1\n",
        "  ###\n",
        "  # total = len(label)\n",
        "  return tp/total"
      ],
      "execution_count": 11,
      "outputs": []
    },
    {
      "cell_type": "code",
      "metadata": {
        "colab": {
          "base_uri": "https://localhost:8080/"
        },
        "id": "ing-QRZOM5EM",
        "outputId": "b789d418-5de0-44b9-f72f-32cf50fbe6f8"
      },
      "source": [
        "state_names = []\n",
        "uniq_label = df_labeled.label.unique()\n",
        "for label in uniq_label:\n",
        "  state_names.append(str(label))\n",
        "state_names[:5]\n",
        "\n",
        "X = []\n",
        "labels = []\n",
        "trip_df = df_labeled\n",
        "for month in months:\n",
        "  for day in days:\n",
        "    day_df = trip_df[(df.day == day) & (trip_df.month == month)]\n",
        "    uniq_trips = day_df.trip_id.unique()\n",
        "    for trip_id in uniq_trips:\n",
        "      trip = day_df[day_df.trip_id==trip_id]\n",
        "      X.append(trip.way_id.to_numpy().astype(str))\n",
        "      # labels.append(['None-start']+[str(l) for l in trip.route_cluster.to_list()])\n",
        "      labels.append([str(l) for l in trip.label.to_list()])\n",
        "print(X[0][:5])\n",
        "print(labels[0][:5])\n",
        "print(len(X))\n",
        "print(len(labels))"
      ],
      "execution_count": 12,
      "outputs": [
        {
          "output_type": "stream",
          "name": "stdout",
          "text": [
            "['686957536' '686912257' '686911019' '686910206' '308207967']\n",
            "['3092', '3092', '3092', '3092', '2059']\n",
            "132528\n",
            "132528\n"
          ]
        }
      ]
    },
    {
      "cell_type": "code",
      "metadata": {
        "colab": {
          "base_uri": "https://localhost:8080/"
        },
        "id": "aZwZv3iGO_WV",
        "outputId": "e48080ea-8d4a-4b45-aa64-db61b8a5fcdc"
      },
      "source": [
        "import random\n",
        "random.seed(42)\n",
        "\n",
        "X2 = X.copy()\n",
        "labels2 = labels.copy()\n",
        "\n",
        "temp = list(zip(X2, labels2))\n",
        "random.shuffle(temp)\n",
        "X2, labels2 = zip(*temp)\n",
        "X2 = list(X2)\n",
        "labels2 = list(labels2)\n",
        "\n",
        "print(X[0][:5])\n",
        "print(X2[0][:5])\n",
        "\n",
        "print(labels[0][:5])\n",
        "print(labels2[0][:5])"
      ],
      "execution_count": 13,
      "outputs": [
        {
          "output_type": "stream",
          "name": "stdout",
          "text": [
            "['686957536' '686912257' '686911019' '686910206' '308207967']\n",
            "['435181731' '91549046' '686978315' '686974410' '686985571']\n",
            "['3092', '3092', '3092', '3092', '2059']\n",
            "['1011', '1011', '1011', '2146', '2146']\n"
          ]
        }
      ]
    },
    {
      "cell_type": "code",
      "metadata": {
        "id": "KiossoofQHaG"
      },
      "source": [
        "way_seq = df_labeled.way_id.to_list()\n",
        "not_stop_mask = [True]+[(a != b) for a, b in zip(way_seq[:-1], way_seq[1:])]\n",
        "df_labeled = df_labeled.loc[not_stop_mask]\n",
        "\n",
        "way_df = df_labeled[['way_id', 'lat', 'lon']]\n",
        "way_df = way_df.drop_duplicates(subset='way_id')\n",
        "\n",
        "sp_list = set(map(str, way_df['way_id'].tolist()))"
      ],
      "execution_count": 14,
      "outputs": []
    },
    {
      "cell_type": "code",
      "metadata": {
        "id": "6YHA3c0VO_zW"
      },
      "source": [
        "total = len(X2)\n",
        "fold = int(total/10)\n",
        "start = 0\n",
        "starts = [] # [0, 952, 1904, 2856, 3808, 4760, 5712, 6664, 7616, 8568]\n",
        "for i in range(10):\n",
        "  starts.append(start)\n",
        "  start+=fold"
      ],
      "execution_count": 16,
      "outputs": []
    },
    {
      "cell_type": "markdown",
      "metadata": {
        "id": "7v67twsErkO3"
      },
      "source": [
        "##for pomegranate"
      ]
    },
    {
      "cell_type": "code",
      "metadata": {
        "colab": {
          "base_uri": "https://localhost:8080/"
        },
        "id": "72u65zyNaym0",
        "outputId": "e42e624f-302d-4e4a-b0f9-3363882c468e"
      },
      "source": [
        "accuracy_train = []\n",
        "accuracy_test = []\n",
        "\n",
        "X_train = X2[:start]+X2[start+fold:]\n",
        "X_test = X2[start:start+fold]\n",
        "labels_train = labels2[:start]+labels2[start+fold:]\n",
        "labels_test = labels2[start:start+fold]\n",
        "\n",
        "# X_train = X2\n",
        "# labels_train = labels2\n",
        "uniq_sp = set()\n",
        "for seq in X_train:\n",
        "  for sp in seq:\n",
        "    uniq_sp.add(sp)\n",
        "uniq_label = set()\n",
        "\n",
        "for label in labels_train:\n",
        "  for uniq in list(set(label)):\n",
        "    uniq_label.add(uniq)\n",
        "\n",
        "new_label = []\n",
        "for label2 in labels_train:\n",
        "  new_label.append(['None-start']+label2)\n",
        "labels_train = new_label\n",
        "\n",
        "unseen_sp = sp_list - uniq_sp\n",
        "print(len(unseen_sp))\n",
        "X_train.append(np.array(list(unseen_sp)))\n",
        "labels_train.append(['-1'] * len(unseen_sp))\n",
        "\n",
        "model = HiddenMarkovModel.from_samples(\n",
        "    DiscreteDistribution, \n",
        "    n_components=len(uniq_label), \n",
        "    X=X_train, \n",
        "    labels=labels_train,\n",
        "    algorithm='labeled',\n",
        "    state_names=list(uniq_label), \n",
        "    inertia=0.001,\n",
        "    # max_iterations=10,\n",
        "    max_iterations=1,\n",
        "    n_jobs=-1\n",
        ")\n"
      ],
      "execution_count": null,
      "outputs": [
        {
          "output_type": "stream",
          "name": "stdout",
          "text": [
            "0\n"
          ]
        }
      ]
    },
    {
      "cell_type": "code",
      "metadata": {
        "id": "j_D3r-ZxmF5b"
      },
      "source": [
        "# save_model = model.to_json()"
      ],
      "execution_count": null,
      "outputs": []
    },
    {
      "cell_type": "code",
      "metadata": {
        "id": "8LEkF-iooy4A"
      },
      "source": [
        "# import json\n",
        "# with open('/content/drive/My Drive/2021 Route Prediction/Project-1/Source-Code/data/3.2_wayid_on_trips/model_1_1.json','w') as f:\n",
        "#   json.dump(save_model,f)"
      ],
      "execution_count": null,
      "outputs": []
    },
    {
      "cell_type": "code",
      "metadata": {
        "id": "yjgMFTzc-74c"
      },
      "source": [
        "# f = open('/content/drive/My Drive/2021 Route Prediction/Project-1/Source-Code/data/3.2_wayid_on_trips/model_1_1.json', \"r\")\n",
        "# load_model = json.load(f)\n",
        "# f.close()\n",
        "# test = HiddenMarkovModel.from_json(load_model)"
      ],
      "execution_count": null,
      "outputs": []
    },
    {
      "cell_type": "code",
      "metadata": {
        "id": "8r6mdtxP1HDL"
      },
      "source": [
        "# X_test = X2\n",
        "# labels_test = labels2"
      ],
      "execution_count": null,
      "outputs": []
    },
    {
      "cell_type": "code",
      "metadata": {
        "colab": {
          "base_uri": "https://localhost:8080/"
        },
        "id": "kPe5ax-xzxK-",
        "outputId": "a98f7859-e42d-4ca8-8c39-ca77eb325a3c"
      },
      "source": [
        "accuracy_train = []\n",
        "accuracy_test = []\n",
        "fail_count = 0\n",
        "accuracy_train_percent = []\n",
        "for percent in [0.25, 0.5, 0.75, 0.9]:\n",
        "  accu = 0\n",
        "  for seq, label in zip(X_train, labels_train):\n",
        "    try:\n",
        "      sc = score(model, np.array(seq[:int(len(seq)*percent)]), label[1:])\n",
        "    except:\n",
        "      print(\"Fail!!\", end=\"\\t\")\n",
        "      fail_count = fail_count + 1\n",
        "      continue\n",
        "    if sc > 0:\n",
        "      accu += sc\n",
        "      # accu += 1\n",
        "  train_score = accu/len(X_train)\n",
        "  accuracy_train_percent.append(train_score)\n",
        "accuracy_train.append(accuracy_train_percent)\n",
        "\n",
        "accuracy_test_percent = []\n",
        "for percent in [0.25, 0.5, 0.75, 0.9]:\n",
        "  accu = 0\n",
        "  for seq, label in zip(X_test, labels_test):\n",
        "    try:\n",
        "      sc = score(model, np.array(seq[:int(len(seq)*percent)]), label[1:])\n",
        "    except:\n",
        "      print(\"Fail!!\", end=\"\\t\")\n",
        "      fail_count = fail_count + 1\n",
        "      continue\n",
        "    \n",
        "    if sc > 0:\n",
        "      accu += sc\n",
        "      # accu += 1\n",
        "  test_score = accu/len(X_test)\n",
        "  accuracy_test_percent.append(test_score)\n",
        "accuracy_test.append(accuracy_test_percent)\n",
        "\n",
        "\n",
        "print(f'Train score')\n",
        "print(f'\\t25% trip traverse : {accuracy_train_percent[0]}')\n",
        "print(f'\\t50% trip traverse : {accuracy_train_percent[1]}')\n",
        "print(f'\\t75% trip traverse : {accuracy_train_percent[2]}')\n",
        "print(f'\\t90% trip traverse : {accuracy_train_percent[3]}')\n",
        "print(f'Test score')\n",
        "print(f'\\t25% trip traverse : {accuracy_test_percent[0]}')\n",
        "print(f'\\t50% trip traverse : {accuracy_test_percent[1]}')\n",
        "print(f'\\t75% trip traverse : {accuracy_test_percent[2]}')\n",
        "print(f'\\t90% trip traverse : {accuracy_test_percent[3]}')\n",
        "print('fail seq = ',fail_count)"
      ],
      "execution_count": null,
      "outputs": [
        {
          "output_type": "stream",
          "name": "stdout",
          "text": [
            "Fail!!\tFail!!\tFail!!\tFail!!\tFail!!\tFail!!\tFail!!\tFail!!\tFail!!\tFail!!\tFail!!\tFail!!\tFail!!\tFail!!\tFail!!\tFail!!\tFail!!\tFail!!\tFail!!\tFail!!\tFail!!\tFail!!\tFail!!\tFail!!\tFail!!\tFail!!\tFail!!\tFail!!\tFail!!\tFail!!\tFail!!\tFail!!\tFail!!\tFail!!\tFail!!\tFail!!\tFail!!\tFail!!\tFail!!\tFail!!\tFail!!\tFail!!\tFail!!\tFail!!\tFail!!\tFail!!\tFail!!\tFail!!\tFail!!\tFail!!\tFail!!\tFail!!\tFail!!\tFail!!\tFail!!\tFail!!\tFail!!\tFail!!\tFail!!\tFail!!\tFail!!\tFail!!\tFail!!\tFail!!\tFail!!\tFail!!\tFail!!\tFail!!\tFail!!\tFail!!\tFail!!\tFail!!\tFail!!\tFail!!\tFail!!\tFail!!\tFail!!\tFail!!\tFail!!\tFail!!\tFail!!\tFail!!\tFail!!\tFail!!\tFail!!\tFail!!\tFail!!\tFail!!\tFail!!\tFail!!\tFail!!\tFail!!\tFail!!\tFail!!\tFail!!\tFail!!\tFail!!\tFail!!\tFail!!\tFail!!\tFail!!\tFail!!\tFail!!\tFail!!\tFail!!\tFail!!\tFail!!\tFail!!\tFail!!\tFail!!\tFail!!\tFail!!\tFail!!\tFail!!\tFail!!\tFail!!\tFail!!\tFail!!\tFail!!\tFail!!\tFail!!\tFail!!\tFail!!\tFail!!\tFail!!\tFail!!\tFail!!\tFail!!\tFail!!\tFail!!\tFail!!\tFail!!\tFail!!\tFail!!\tFail!!\tFail!!\tFail!!\tFail!!\tFail!!\tFail!!\tFail!!\tFail!!\tFail!!\tFail!!\tFail!!\tFail!!\tFail!!\tFail!!\tFail!!\tFail!!\tFail!!\tFail!!\tFail!!\tFail!!\tFail!!\tFail!!\tFail!!\tFail!!\tFail!!\tFail!!\tFail!!\tFail!!\tFail!!\tFail!!\tFail!!\tFail!!\tFail!!\tFail!!\tFail!!\tFail!!\tFail!!\tFail!!\tFail!!\tFail!!\tFail!!\tFail!!\tFail!!\tFail!!\tFail!!\tFail!!\tFail!!\tFail!!\tFail!!\tFail!!\tFail!!\tFail!!\tFail!!\tFail!!\tFail!!\tFail!!\tFail!!\tFail!!\tFail!!\tFail!!\tFail!!\tFail!!\tFail!!\tFail!!\tFail!!\tFail!!\tFail!!\tFail!!\tFail!!\tFail!!\tFail!!\tFail!!\tFail!!\tFail!!\tFail!!\tFail!!\tFail!!\tFail!!\tFail!!\tFail!!\tFail!!\tFail!!\tFail!!\tFail!!\tFail!!\tFail!!\tFail!!\tFail!!\tFail!!\tFail!!\tFail!!\tFail!!\tFail!!\tFail!!\tFail!!\tFail!!\tFail!!\tFail!!\tFail!!\tFail!!\tFail!!\tFail!!\tFail!!\tFail!!\tFail!!\tFail!!\tFail!!\tFail!!\tFail!!\tFail!!\tFail!!\tFail!!\tFail!!\tFail!!\tFail!!\tFail!!\tFail!!\tFail!!\tFail!!\tFail!!\tFail!!\tFail!!\tFail!!\tFail!!\tFail!!\tFail!!\tFail!!\tFail!!\tFail!!\tFail!!\tFail!!\tFail!!\tFail!!\tFail!!\tFail!!\tFail!!\tFail!!\tFail!!\tFail!!\tFail!!\tFail!!\tFail!!\tFail!!\tFail!!\tFail!!\tFail!!\tFail!!\tFail!!\tFail!!\tFail!!\tFail!!\tFail!!\tFail!!\tFail!!\tFail!!\tFail!!\tFail!!\tFail!!\tFail!!\tFail!!\tFail!!\tFail!!\tFail!!\tFail!!\tFail!!\tFail!!\tFail!!\tFail!!\tFail!!\tFail!!\tFail!!\tFail!!\tFail!!\tFail!!\tFail!!\tFail!!\tFail!!\tFail!!\tFail!!\tFail!!\tFail!!\tFail!!\tFail!!\tFail!!\tFail!!\tFail!!\tFail!!\tFail!!\tFail!!\tFail!!\tFail!!\tFail!!\tFail!!\tFail!!\tFail!!\tFail!!\tFail!!\tFail!!\tFail!!\tFail!!\tFail!!\tFail!!\tFail!!\tFail!!\tFail!!\tFail!!\tFail!!\tFail!!\tFail!!\tFail!!\tFail!!\tFail!!\tFail!!\tFail!!\tFail!!\tFail!!\tFail!!\tFail!!\tFail!!\tFail!!\tFail!!\tFail!!\tFail!!\tFail!!\tFail!!\tFail!!\tFail!!\tFail!!\tFail!!\tFail!!\tFail!!\tFail!!\tFail!!\tFail!!\tFail!!\tFail!!\tFail!!\tFail!!\tFail!!\tFail!!\tFail!!\tFail!!\tFail!!\tFail!!\tFail!!\tFail!!\tFail!!\tFail!!\tFail!!\tFail!!\tFail!!\tFail!!\tFail!!\tFail!!\tFail!!\tFail!!\tFail!!\tFail!!\tFail!!\tFail!!\tFail!!\tFail!!\tFail!!\tFail!!\tFail!!\tFail!!\tFail!!\tFail!!\tFail!!\tFail!!\tFail!!\tFail!!\tFail!!\tFail!!\tFail!!\tFail!!\tFail!!\tFail!!\tFail!!\tFail!!\tFail!!\tFail!!\tFail!!\tFail!!\tFail!!\tFail!!\tFail!!\tFail!!\tFail!!\tFail!!\tFail!!\tFail!!\tFail!!\tFail!!\tFail!!\tFail!!\tFail!!\tFail!!\tFail!!\tFail!!\tFail!!\tFail!!\tFail!!\tFail!!\tFail!!\tFail!!\tFail!!\tFail!!\tFail!!\tFail!!\tFail!!\tFail!!\tFail!!\tFail!!\tFail!!\tFail!!\tFail!!\tFail!!\tFail!!\tFail!!\tFail!!\tFail!!\tFail!!\tFail!!\tFail!!\tFail!!\tFail!!\tFail!!\tFail!!\tFail!!\tFail!!\tFail!!\tFail!!\tFail!!\tFail!!\tFail!!\tFail!!\tFail!!\tFail!!\tFail!!\tFail!!\tFail!!\tFail!!\tFail!!\tFail!!\tFail!!\tFail!!\tFail!!\tFail!!\tFail!!\tFail!!\tFail!!\tFail!!\tFail!!\tFail!!\tFail!!\tFail!!\tFail!!\tFail!!\tFail!!\tFail!!\tFail!!\tFail!!\tFail!!\tFail!!\tFail!!\tFail!!\tFail!!\tFail!!\tFail!!\tFail!!\tFail!!\tFail!!\tFail!!\tFail!!\tFail!!\tFail!!\tFail!!\tFail!!\tFail!!\tFail!!\tFail!!\tFail!!\tFail!!\tFail!!\tFail!!\tFail!!\tFail!!\tFail!!\tFail!!\tFail!!\tFail!!\tFail!!\tFail!!\tFail!!\tFail!!\tFail!!\tFail!!\tFail!!\tFail!!\tFail!!\tFail!!\tFail!!\tFail!!\tFail!!\tFail!!\tFail!!\tFail!!\tFail!!\tFail!!\tFail!!\tFail!!\tFail!!\tFail!!\tFail!!\tFail!!\tFail!!\tFail!!\tFail!!\tFail!!\tFail!!\tFail!!\tFail!!\tFail!!\tFail!!\tFail!!\tFail!!\tFail!!\tFail!!\tFail!!\tFail!!\tFail!!\tFail!!\tFail!!\tFail!!\tFail!!\tFail!!\tFail!!\tFail!!\tFail!!\tFail!!\tFail!!\tFail!!\tFail!!\tFail!!\tFail!!\tFail!!\tFail!!\tFail!!\tFail!!\tFail!!\tFail!!\tFail!!\tFail!!\tFail!!\tFail!!\tFail!!\tFail!!\tFail!!\tFail!!\tFail!!\tFail!!\tFail!!\tFail!!\tFail!!\tFail!!\tFail!!\tFail!!\tFail!!\tFail!!\tFail!!\tFail!!\tFail!!\tFail!!\tFail!!\tFail!!\tFail!!\tFail!!\tFail!!\tFail!!\tFail!!\tFail!!\tFail!!\tFail!!\tFail!!\tFail!!\tFail!!\tFail!!\tFail!!\tFail!!\tFail!!\tFail!!\tFail!!\tFail!!\tFail!!\tFail!!\tFail!!\tFail!!\tFail!!\tFail!!\tFail!!\tFail!!\tFail!!\tFail!!\tFail!!\tFail!!\tFail!!\tFail!!\tFail!!\tFail!!\tFail!!\tFail!!\tFail!!\tFail!!\tFail!!\tFail!!\tFail!!\tFail!!\tFail!!\tFail!!\tFail!!\tFail!!\tFail!!\tFail!!\tFail!!\tFail!!\tFail!!\tFail!!\tFail!!\tFail!!\tFail!!\tFail!!\tFail!!\tFail!!\tFail!!\tFail!!\tFail!!\tFail!!\tFail!!\tFail!!\tFail!!\tFail!!\tFail!!\tFail!!\tFail!!\tFail!!\tFail!!\tFail!!\tFail!!\tFail!!\tFail!!\tFail!!\tFail!!\tFail!!\tFail!!\tFail!!\tFail!!\tFail!!\tFail!!\tFail!!\tFail!!\tFail!!\tFail!!\tFail!!\tFail!!\tFail!!\tFail!!\tFail!!\tFail!!\tFail!!\tFail!!\tFail!!\tFail!!\tFail!!\tFail!!\tFail!!\tFail!!\tFail!!\tFail!!\tFail!!\tFail!!\tFail!!\tFail!!\tFail!!\tFail!!\tFail!!\tFail!!\tFail!!\tFail!!\tFail!!\tFail!!\tFail!!\tFail!!\tFail!!\tFail!!\tFail!!\tFail!!\tFail!!\tFail!!\tFail!!\tFail!!\tFail!!\tFail!!\tFail!!\tFail!!\tFail!!\tFail!!\tFail!!\tFail!!\tFail!!\tFail!!\tFail!!\tFail!!\tFail!!\tFail!!\tFail!!\tFail!!\tFail!!\tFail!!\tFail!!\tFail!!\tFail!!\tFail!!\tFail!!\tFail!!\tFail!!\tFail!!\tFail!!\tFail!!\tFail!!\tFail!!\tFail!!\tFail!!\tFail!!\tFail!!\tFail!!\tFail!!\tFail!!\tFail!!\tFail!!\tFail!!\tFail!!\tFail!!\tFail!!\tFail!!\tFail!!\tFail!!\tFail!!\tFail!!\tFail!!\tFail!!\tFail!!\tFail!!\tFail!!\tFail!!\tFail!!\tFail!!\tFail!!\tFail!!\tFail!!\tFail!!\tFail!!\tFail!!\tFail!!\tFail!!\tFail!!\tFail!!\tFail!!\tFail!!\tFail!!\tFail!!\tFail!!\tFail!!\tFail!!\tFail!!\tFail!!\tFail!!\tFail!!\tFail!!\tFail!!\tFail!!\tFail!!\tFail!!\tFail!!\tFail!!\tFail!!\tFail!!\tFail!!\tFail!!\tFail!!\tFail!!\tFail!!\tFail!!\tFail!!\tFail!!\tFail!!\tFail!!\tFail!!\tFail!!\tFail!!\tFail!!\tFail!!\tFail!!\tFail!!\tFail!!\tFail!!\tFail!!\tFail!!\tFail!!\tFail!!\tFail!!\tFail!!\tFail!!\tFail!!\tFail!!\tFail!!\tFail!!\tFail!!\tFail!!\tFail!!\tFail!!\tFail!!\tFail!!\tFail!!\tFail!!\tFail!!\tFail!!\tFail!!\tFail!!\tFail!!\tFail!!\tFail!!\tFail!!\tFail!!\tFail!!\tFail!!\tFail!!\tFail!!\tFail!!\tFail!!\tFail!!\tFail!!\tFail!!\tFail!!\tFail!!\tFail!!\tFail!!\tFail!!\tFail!!\tFail!!\tFail!!\tFail!!\tFail!!\tFail!!\tFail!!\tFail!!\tFail!!\tFail!!\tFail!!\tFail!!\tFail!!\tFail!!\tFail!!\tFail!!\tFail!!\tFail!!\tFail!!\tFail!!\tFail!!\tFail!!\tFail!!\tFail!!\tFail!!\tFail!!\tFail!!\tFail!!\tFail!!\tFail!!\tFail!!\tFail!!\tFail!!\tFail!!\tFail!!\tFail!!\tFail!!\tFail!!\tFail!!\tFail!!\tFail!!\tFail!!\tFail!!\tFail!!\tFail!!\tFail!!\tFail!!\tFail!!\tFail!!\tFail!!\tFail!!\tFail!!\tFail!!\tFail!!\tFail!!\tFail!!\tFail!!\tFail!!\tFail!!\tFail!!\tFail!!\tFail!!\tFail!!\tFail!!\tFail!!\tFail!!\tFail!!\tFail!!\tFail!!\tFail!!\tFail!!\tFail!!\tFail!!\tFail!!\tFail!!\tFail!!\tFail!!\tFail!!\tFail!!\tFail!!\tFail!!\tFail!!\tFail!!\tFail!!\tFail!!\tFail!!\tFail!!\tFail!!\tFail!!\tFail!!\tFail!!\tFail!!\tFail!!\tFail!!\tFail!!\tFail!!\tFail!!\tFail!!\tFail!!\tFail!!\tFail!!\tFail!!\tFail!!\tFail!!\tFail!!\tFail!!\tFail!!\tFail!!\tFail!!\tFail!!\tFail!!\tFail!!\tFail!!\tFail!!\tFail!!\tFail!!\tFail!!\tFail!!\tFail!!\tFail!!\tFail!!\tFail!!\tFail!!\tFail!!\tFail!!\tFail!!\tFail!!\tFail!!\tFail!!\tFail!!\tFail!!\tFail!!\tFail!!\tFail!!\tFail!!\tFail!!\tFail!!\tFail!!\tFail!!\tFail!!\tFail!!\tFail!!\tFail!!\tFail!!\tFail!!\tFail!!\tFail!!\tFail!!\tFail!!\tFail!!\tFail!!\tFail!!\tFail!!\tFail!!\tFail!!\tFail!!\tFail!!\tFail!!\tFail!!\tFail!!\tFail!!\tFail!!\tFail!!\tFail!!\tFail!!\tFail!!\tFail!!\tFail!!\tFail!!\tFail!!\tFail!!\tFail!!\tFail!!\tFail!!\tFail!!\tFail!!\tFail!!\tFail!!\tFail!!\tFail!!\tFail!!\tFail!!\tFail!!\tFail!!\tFail!!\tFail!!\tFail!!\tFail!!\tFail!!\tFail!!\tFail!!\tFail!!\tFail!!\tFail!!\tFail!!\tFail!!\tFail!!\tFail!!\tFail!!\tFail!!\tFail!!\tFail!!\tFail!!\tFail!!\tFail!!\tFail!!\tFail!!\tFail!!\tFail!!\tFail!!\tFail!!\tFail!!\tFail!!\tFail!!\tFail!!\tFail!!\tFail!!\tFail!!\tFail!!\tFail!!\tFail!!\tFail!!\tFail!!\tFail!!\tFail!!\tFail!!\tFail!!\tFail!!\tFail!!\tFail!!\tFail!!\tFail!!\tFail!!\tFail!!\tFail!!\tFail!!\tFail!!\tFail!!\tFail!!\tFail!!\tFail!!\tFail!!\tFail!!\tFail!!\tFail!!\tFail!!\tFail!!\tFail!!\tFail!!\tFail!!\tFail!!\tFail!!\tFail!!\tFail!!\tFail!!\tFail!!\tFail!!\tFail!!\tFail!!\tFail!!\tFail!!\tFail!!\tFail!!\tFail!!\tFail!!\tFail!!\tFail!!\tFail!!\tFail!!\tFail!!\tFail!!\tFail!!\tFail!!\tFail!!\tFail!!\tFail!!\tFail!!\tFail!!\tFail!!\tFail!!\tFail!!\tFail!!\tFail!!\tFail!!\tFail!!\tFail!!\tFail!!\tFail!!\tFail!!\tFail!!\tFail!!\tFail!!\tFail!!\tFail!!\tFail!!\tFail!!\tFail!!\tFail!!\tFail!!\tFail!!\tFail!!\tFail!!\tFail!!\tFail!!\tFail!!\tFail!!\tFail!!\tFail!!\tFail!!\tFail!!\tFail!!\tFail!!\tFail!!\tFail!!\tFail!!\tFail!!\tFail!!\tFail!!\tFail!!\tFail!!\tFail!!\tFail!!\tFail!!\tFail!!\tFail!!\tFail!!\tFail!!\tFail!!\tFail!!\tFail!!\tFail!!\tFail!!\tFail!!\tFail!!\tFail!!\tFail!!\tFail!!\tFail!!\tFail!!\tFail!!\tFail!!\tFail!!\tFail!!\tFail!!\tFail!!\tFail!!\tFail!!\tFail!!\tFail!!\tFail!!\tFail!!\tFail!!\tFail!!\tFail!!\tFail!!\tFail!!\tFail!!\tFail!!\tFail!!\tFail!!\tFail!!\tFail!!\tFail!!\tFail!!\tFail!!\tFail!!\tFail!!\tFail!!\tFail!!\tFail!!\tFail!!\tFail!!\tFail!!\tFail!!\tFail!!\tFail!!\tFail!!\tFail!!\tFail!!\tFail!!\tFail!!\tFail!!\tFail!!\tFail!!\tFail!!\tFail!!\tFail!!\tFail!!\tFail!!\tFail!!\tFail!!\tFail!!\tFail!!\tFail!!\tFail!!\tFail!!\tFail!!\tFail!!\tFail!!\tFail!!\tFail!!\tFail!!\tFail!!\tFail!!\tFail!!\tFail!!\tFail!!\tFail!!\tFail!!\tFail!!\tFail!!\tFail!!\tFail!!\tFail!!\tFail!!\tFail!!\tFail!!\tFail!!\tFail!!\tFail!!\tFail!!\tFail!!\tFail!!\tFail!!\tFail!!\tFail!!\tFail!!\tFail!!\tFail!!\tFail!!\tFail!!\tFail!!\tFail!!\tFail!!\tFail!!\tFail!!\tFail!!\tFail!!\tFail!!\tFail!!\tFail!!\tFail!!\tFail!!\tFail!!\tFail!!\tFail!!\tFail!!\tFail!!\tFail!!\tFail!!\tFail!!\tFail!!\tFail!!\tFail!!\tFail!!\tFail!!\tFail!!\tFail!!\tFail!!\tFail!!\tFail!!\tFail!!\tFail!!\tFail!!\tFail!!\tFail!!\tFail!!\tFail!!\tFail!!\tFail!!\tFail!!\tFail!!\tFail!!\tFail!!\tFail!!\tFail!!\tFail!!\tFail!!\tFail!!\tFail!!\tFail!!\tFail!!\tFail!!\tFail!!\tFail!!\tFail!!\tFail!!\tFail!!\tFail!!\tFail!!\tFail!!\tFail!!\tFail!!\tFail!!\tFail!!\tFail!!\tFail!!\tFail!!\tFail!!\tFail!!\tFail!!\tFail!!\tFail!!\tFail!!\tFail!!\tFail!!\tFail!!\tFail!!\tFail!!\tFail!!\tFail!!\tFail!!\tFail!!\tFail!!\tFail!!\tFail!!\tFail!!\tFail!!\tFail!!\tFail!!\tFail!!\tFail!!\tFail!!\tFail!!\tFail!!\tFail!!\tFail!!\tFail!!\tFail!!\tFail!!\tFail!!\tFail!!\tFail!!\tFail!!\tFail!!\tFail!!\tFail!!\tFail!!\tFail!!\tFail!!\tFail!!\tFail!!\tFail!!\tFail!!\tFail!!\tFail!!\tFail!!\tFail!!\tFail!!\tFail!!\tFail!!\tFail!!\tFail!!\tFail!!\tFail!!\tFail!!\tFail!!\tFail!!\tFail!!\tFail!!\tFail!!\tFail!!\tFail!!\tFail!!\tFail!!\tFail!!\tFail!!\tFail!!\tFail!!\tFail!!\tFail!!\tFail!!\tFail!!\tFail!!\tFail!!\tFail!!\tFail!!\tFail!!\tFail!!\tFail!!\tFail!!\tFail!!\tFail!!\tFail!!\tFail!!\tFail!!\tFail!!\tFail!!\tFail!!\tFail!!\tFail!!\tFail!!\tFail!!\tFail!!\tFail!!\tFail!!\tFail!!\tFail!!\tFail!!\tFail!!\tFail!!\tFail!!\tFail!!\tFail!!\tFail!!\tFail!!\tFail!!\tFail!!\tFail!!\tFail!!\tFail!!\tFail!!\tFail!!\tFail!!\tFail!!\tFail!!\tFail!!\tFail!!\tFail!!\tFail!!\tFail!!\tFail!!\tFail!!\tFail!!\tFail!!\tFail!!\tFail!!\tFail!!\tFail!!\tFail!!\tFail!!\tFail!!\tFail!!\tFail!!\tFail!!\tFail!!\tFail!!\tFail!!\tFail!!\tFail!!\tFail!!\tFail!!\tFail!!\tFail!!\tFail!!\tFail!!\tFail!!\tFail!!\tFail!!\tFail!!\tFail!!\tFail!!\tFail!!\tFail!!\tFail!!\tFail!!\tFail!!\tFail!!\tFail!!\tFail!!\tFail!!\tFail!!\tFail!!\tFail!!\tFail!!\tFail!!\tFail!!\tFail!!\tFail!!\tFail!!\tFail!!\tFail!!\tFail!!\tFail!!\tFail!!\tFail!!\tFail!!\tFail!!\tFail!!\tFail!!\tFail!!\tFail!!\tFail!!\tFail!!\tFail!!\tFail!!\tFail!!\tFail!!\tFail!!\tFail!!\tFail!!\tFail!!\tFail!!\tFail!!\tFail!!\tFail!!\tFail!!\tFail!!\tFail!!\tFail!!\tFail!!\tFail!!\tFail!!\tFail!!\tFail!!\tFail!!\tFail!!\tFail!!\tFail!!\tFail!!\tFail!!\tFail!!\tFail!!\tFail!!\tFail!!\tFail!!\tFail!!\tFail!!\tFail!!\tFail!!\tFail!!\tFail!!\tFail!!\tFail!!\tFail!!\tFail!!\tFail!!\tFail!!\tFail!!\tFail!!\tFail!!\tFail!!\tFail!!\tFail!!\tFail!!\tFail!!\tFail!!\tFail!!\tFail!!\tFail!!\tFail!!\tFail!!\tFail!!\tFail!!\tFail!!\tFail!!\tFail!!\tFail!!\tFail!!\tFail!!\tFail!!\tFail!!\tFail!!\tFail!!\tFail!!\tFail!!\tFail!!\tFail!!\tFail!!\tFail!!\tFail!!\tFail!!\tFail!!\tFail!!\tFail!!\tFail!!\tFail!!\tFail!!\tFail!!\tFail!!\tFail!!\tFail!!\tFail!!\tFail!!\tFail!!\tFail!!\tFail!!\tFail!!\tFail!!\tFail!!\tFail!!\tFail!!\tFail!!\tFail!!\tFail!!\tFail!!\tFail!!\tFail!!\tFail!!\tFail!!\tFail!!\tFail!!\tFail!!\tFail!!\tFail!!\tFail!!\tFail!!\tFail!!\tFail!!\tFail!!\tFail!!\tFail!!\tFail!!\tFail!!\tFail!!\tFail!!\tFail!!\tFail!!\tFail!!\tFail!!\tFail!!\tFail!!\tFail!!\tFail!!\tFail!!\tFail!!\tFail!!\tFail!!\tFail!!\tFail!!\tFail!!\tFail!!\tFail!!\tFail!!\tFail!!\tFail!!\tFail!!\tFail!!\tFail!!\tFail!!\tFail!!\tFail!!\tFail!!\tFail!!\tFail!!\tFail!!\tFail!!\tFail!!\tFail!!\tFail!!\tFail!!\tFail!!\tFail!!\tFail!!\tFail!!\tFail!!\tFail!!\tFail!!\tFail!!\tFail!!\tFail!!\tFail!!\tFail!!\tFail!!\tFail!!\tFail!!\tFail!!\tFail!!\tFail!!\tFail!!\tFail!!\tFail!!\tFail!!\tFail!!\tFail!!\tFail!!\tFail!!\tFail!!\tFail!!\tFail!!\tFail!!\tFail!!\tFail!!\tFail!!\tFail!!\tFail!!\tFail!!\tFail!!\tFail!!\tFail!!\tFail!!\tFail!!\tFail!!\tFail!!\tFail!!\tFail!!\tFail!!\tFail!!\tFail!!\tFail!!\tFail!!\tFail!!\tFail!!\tFail!!\tFail!!\tFail!!\tFail!!\tFail!!\tFail!!\tFail!!\tFail!!\tFail!!\tFail!!\tFail!!\tFail!!\tFail!!\tFail!!\tFail!!\tFail!!\tFail!!\tFail!!\tFail!!\tFail!!\tFail!!\tFail!!\tFail!!\tFail!!\tFail!!\tFail!!\tFail!!\tFail!!\tFail!!\tFail!!\tFail!!\tFail!!\tFail!!\tFail!!\tFail!!\tFail!!\tFail!!\tFail!!\tFail!!\tFail!!\tFail!!\tFail!!\tFail!!\tFail!!\tFail!!\tFail!!\tFail!!\tFail!!\tFail!!\tFail!!\tFail!!\tFail!!\tFail!!\tFail!!\tFail!!\tFail!!\tFail!!\tFail!!\tFail!!\tFail!!\tFail!!\tFail!!\tFail!!\tFail!!\tFail!!\tFail!!\tFail!!\tFail!!\tFail!!\tFail!!\tFail!!\tFail!!\tFail!!\tFail!!\tFail!!\tFail!!\tFail!!\tFail!!\tFail!!\tFail!!\tFail!!\tFail!!\tFail!!\tFail!!\tFail!!\tFail!!\tFail!!\tFail!!\tFail!!\tFail!!\tFail!!\tFail!!\tFail!!\tFail!!\tFail!!\tFail!!\tFail!!\tFail!!\tFail!!\tFail!!\tFail!!\tFail!!\tFail!!\tFail!!\tFail!!\tFail!!\tFail!!\tFail!!\tFail!!\tFail!!\tFail!!\tFail!!\tFail!!\tFail!!\tFail!!\tFail!!\tFail!!\tFail!!\tFail!!\tFail!!\tFail!!\tFail!!\tFail!!\tFail!!\tFail!!\tFail!!\tFail!!\tFail!!\tFail!!\tFail!!\tFail!!\tFail!!\tFail!!\tFail!!\tFail!!\tFail!!\tFail!!\tFail!!\tFail!!\tFail!!\tFail!!\tFail!!\tFail!!\tFail!!\tFail!!\tFail!!\tFail!!\tFail!!\tFail!!\tFail!!\tFail!!\tFail!!\tFail!!\tFail!!\tFail!!\tFail!!\tFail!!\tFail!!\tFail!!\tFail!!\tFail!!\tFail!!\tFail!!\tFail!!\tFail!!\tFail!!\tFail!!\tFail!!\tFail!!\tFail!!\tFail!!\tFail!!\tFail!!\tFail!!\tFail!!\tFail!!\tFail!!\tFail!!\tFail!!\tFail!!\tFail!!\tFail!!\tFail!!\tFail!!\tFail!!\tFail!!\tFail!!\tFail!!\tFail!!\tFail!!\tFail!!\tFail!!\tFail!!\tFail!!\tFail!!\tFail!!\tFail!!\tFail!!\tFail!!\tFail!!\tFail!!\tFail!!\tFail!!\tFail!!\tFail!!\tFail!!\tFail!!\tFail!!\tFail!!\tFail!!\tFail!!\tFail!!\tFail!!\tFail!!\tFail!!\tFail!!\tFail!!\tFail!!\tFail!!\tFail!!\tFail!!\tFail!!\tFail!!\tFail!!\tFail!!\tFail!!\tFail!!\tFail!!\tFail!!\tFail!!\tFail!!\tFail!!\tFail!!\tFail!!\tFail!!\tFail!!\tFail!!\tFail!!\tFail!!\tFail!!\tFail!!\tFail!!\tFail!!\tFail!!\tFail!!\tFail!!\tFail!!\tFail!!\tFail!!\tFail!!\tFail!!\tFail!!\tFail!!\tFail!!\tFail!!\tFail!!\tFail!!\tFail!!\tFail!!\tFail!!\tFail!!\tFail!!\tFail!!\tFail!!\tFail!!\tFail!!\tFail!!\tFail!!\tFail!!\tFail!!\tFail!!\tFail!!\tFail!!\tFail!!\tFail!!\tFail!!\tFail!!\tFail!!\tFail!!\tFail!!\tFail!!\tFail!!\tFail!!\tFail!!\tFail!!\tFail!!\tFail!!\tFail!!\tFail!!\tFail!!\tFail!!\tFail!!\tFail!!\tFail!!\tFail!!\tFail!!\tFail!!\tFail!!\tFail!!\tFail!!\tFail!!\tFail!!\tFail!!\tFail!!\tFail!!\tFail!!\tFail!!\tFail!!\tFail!!\tFail!!\tFail!!\tFail!!\tFail!!\tFail!!\tFail!!\tFail!!\tFail!!\tFail!!\tFail!!\tFail!!\tFail!!\tFail!!\tFail!!\tFail!!\tFail!!\tFail!!\tFail!!\tFail!!\tFail!!\tFail!!\tFail!!\tFail!!\tFail!!\tFail!!\tFail!!\tFail!!\tFail!!\tFail!!\tFail!!\tFail!!\tFail!!\tFail!!\tFail!!\tFail!!\tFail!!\tFail!!\tFail!!\tFail!!\tFail!!\tFail!!\tFail!!\tFail!!\tFail!!\tFail!!\tFail!!\tFail!!\tFail!!\tFail!!\tFail!!\tFail!!\tFail!!\tFail!!\tFail!!\tFail!!\tFail!!\tFail!!\tFail!!\tFail!!\tFail!!\tFail!!\tFail!!\tFail!!\tFail!!\tFail!!\tFail!!\tFail!!\tFail!!\tFail!!\tFail!!\tFail!!\tFail!!\tFail!!\tFail!!\tFail!!\tFail!!\tFail!!\tFail!!\tFail!!\tFail!!\tFail!!\tFail!!\tFail!!\tFail!!\tFail!!\tFail!!\tFail!!\tFail!!\tFail!!\tFail!!\tFail!!\tFail!!\tFail!!\tFail!!\tFail!!\tFail!!\tFail!!\tFail!!\tFail!!\tFail!!\tFail!!\tFail!!\tFail!!\tFail!!\tFail!!\tFail!!\tFail!!\tFail!!\tFail!!\tFail!!\tFail!!\tFail!!\tFail!!\tFail!!\tFail!!\tFail!!\tFail!!\tFail!!\tFail!!\tFail!!\tFail!!\tFail!!\tFail!!\tFail!!\tFail!!\tFail!!\tFail!!\tFail!!\tFail!!\tFail!!\tFail!!\tFail!!\tFail!!\tFail!!\tFail!!\tFail!!\tFail!!\tFail!!\tFail!!\tFail!!\tFail!!\tFail!!\tFail!!\tFail!!\tFail!!\tFail!!\tFail!!\tFail!!\tFail!!\tFail!!\tFail!!\tFail!!\tFail!!\tFail!!\tFail!!\tFail!!\tFail!!\tFail!!\tFail!!\tFail!!\tFail!!\tFail!!\tFail!!\tFail!!\tFail!!\tFail!!\tFail!!\tFail!!\tFail!!\tFail!!\tFail!!\tFail!!\tFail!!\tFail!!\tFail!!\tFail!!\tFail!!\tFail!!\tFail!!\tFail!!\tFail!!\tFail!!\tFail!!\tFail!!\tFail!!\tFail!!\tFail!!\tFail!!\tFail!!\tFail!!\tFail!!\tFail!!\tFail!!\tFail!!\tFail!!\tFail!!\tFail!!\tFail!!\tFail!!\tFail!!\tFail!!\tFail!!\tFail!!\tFail!!\tFail!!\tFail!!\tFail!!\tFail!!\tFail!!\tFail!!\tFail!!\tFail!!\tFail!!\tFail!!\tFail!!\tFail!!\tFail!!\tFail!!\tFail!!\tFail!!\tFail!!\tFail!!\tFail!!\tFail!!\tFail!!\tFail!!\tFail!!\tFail!!\tFail!!\tFail!!\tFail!!\tFail!!\tFail!!\tFail!!\tFail!!\tFail!!\tFail!!\tFail!!\tFail!!\tFail!!\tFail!!\tFail!!\tFail!!\tFail!!\tFail!!\tFail!!\tFail!!\tFail!!\tFail!!\tFail!!\tFail!!\tFail!!\tFail!!\tFail!!\tFail!!\tFail!!\tFail!!\tFail!!\tFail!!\tFail!!\tFail!!\tFail!!\tFail!!\tFail!!\tFail!!\tFail!!\tFail!!\tFail!!\tFail!!\tFail!!\tFail!!\tFail!!\tFail!!\tFail!!\tFail!!\tFail!!\tFail!!\tFail!!\tFail!!\tFail!!\tFail!!\tFail!!\tFail!!\tFail!!\tFail!!\tFail!!\tFail!!\tFail!!\tFail!!\tFail!!\tFail!!\tFail!!\tFail!!\tFail!!\tFail!!\tFail!!\tFail!!\tFail!!\tFail!!\tFail!!\tFail!!\tFail!!\tFail!!\tFail!!\tFail!!\tFail!!\tFail!!\tFail!!\tFail!!\tFail!!\tFail!!\tFail!!\tFail!!\tFail!!\tFail!!\tFail!!\tFail!!\tFail!!\tFail!!\tFail!!\tFail!!\tFail!!\tFail!!\tFail!!\tFail!!\tFail!!\tFail!!\tFail!!\tFail!!\tFail!!\tFail!!\tFail!!\tFail!!\tFail!!\tFail!!\tFail!!\tFail!!\tFail!!\tFail!!\tFail!!\tFail!!\tFail!!\tFail!!\tFail!!\tFail!!\tFail!!\tFail!!\tFail!!\tFail!!\tFail!!\tFail!!\tFail!!\tFail!!\tFail!!\tFail!!\tFail!!\tFail!!\tFail!!\tFail!!\tFail!!\tFail!!\tFail!!\tFail!!\tFail!!\tFail!!\tFail!!\tFail!!\tFail!!\tFail!!\tFail!!\tFail!!\tFail!!\tFail!!\tFail!!\tFail!!\tFail!!\tFail!!\tFail!!\tFail!!\tFail!!\tFail!!\tFail!!\tFail!!\tFail!!\tFail!!\tFail!!\tFail!!\tFail!!\tFail!!\tFail!!\tFail!!\tFail!!\tFail!!\tFail!!\tFail!!\tFail!!\tFail!!\tFail!!\tFail!!\tFail!!\tFail!!\tFail!!\tFail!!\tFail!!\tFail!!\tFail!!\tFail!!\tFail!!\tFail!!\tFail!!\tFail!!\tFail!!\tFail!!\tFail!!\tFail!!\tFail!!\tFail!!\tFail!!\tFail!!\tFail!!\tFail!!\tFail!!\tFail!!\tFail!!\tFail!!\tFail!!\tFail!!\tFail!!\tFail!!\tFail!!\tFail!!\tFail!!\tFail!!\tFail!!\tFail!!\tFail!!\tFail!!\tFail!!\tFail!!\tFail!!\tFail!!\tFail!!\tFail!!\tFail!!\tFail!!\tFail!!\tFail!!\tFail!!\tFail!!\tFail!!\tFail!!\tFail!!\tFail!!\tFail!!\tFail!!\tFail!!\tFail!!\tFail!!\tFail!!\tFail!!\tFail!!\tFail!!\tFail!!\tFail!!\tFail!!\tFail!!\tFail!!\tFail!!\tFail!!\tFail!!\tFail!!\tFail!!\tFail!!\tFail!!\tFail!!\tFail!!\tFail!!\tFail!!\tFail!!\tFail!!\tFail!!\tFail!!\tFail!!\tFail!!\tFail!!\tFail!!\tFail!!\tFail!!\tFail!!\tFail!!\tFail!!\tFail!!\tFail!!\tFail!!\tFail!!\tFail!!\tFail!!\tFail!!\tFail!!\tFail!!\tFail!!\tFail!!\tFail!!\tFail!!\tFail!!\tFail!!\tFail!!\tFail!!\tFail!!\tFail!!\tFail!!\tFail!!\tFail!!\tFail!!\tFail!!\tFail!!\tFail!!\tFail!!\tFail!!\tFail!!\tFail!!\tFail!!\tFail!!\tFail!!\tFail!!\tFail!!\tFail!!\tFail!!\tFail!!\tFail!!\tFail!!\tFail!!\tFail!!\tFail!!\tFail!!\tFail!!\tFail!!\tFail!!\tFail!!\tFail!!\tFail!!\tFail!!\tFail!!\tFail!!\tFail!!\tFail!!\tFail!!\tFail!!\tFail!!\tFail!!\tFail!!\tFail!!\tFail!!\tFail!!\tFail!!\tFail!!\tFail!!\tFail!!\tFail!!\tFail!!\tFail!!\tFail!!\tFail!!\tFail!!\tFail!!\tFail!!\tFail!!\tFail!!\tFail!!\tFail!!\tFail!!\tFail!!\tFail!!\tFail!!\tFail!!\tFail!!\tFail!!\tFail!!\tFail!!\tFail!!\tFail!!\tFail!!\tFail!!\tFail!!\tFail!!\tFail!!\tFail!!\tFail!!\tFail!!\tFail!!\tFail!!\tFail!!\tFail!!\tFail!!\tFail!!\tFail!!\tFail!!\tFail!!\tFail!!\tFail!!\tFail!!\tFail!!\tFail!!\tFail!!\tFail!!\tFail!!\tFail!!\tFail!!\tFail!!\tFail!!\tFail!!\tFail!!\tFail!!\tFail!!\tFail!!\tFail!!\tFail!!\tFail!!\tFail!!\tFail!!\tFail!!\tFail!!\tFail!!\tFail!!\tFail!!\tFail!!\tFail!!\tFail!!\tFail!!\tFail!!\tFail!!\tFail!!\tFail!!\tFail!!\tFail!!\tFail!!\tFail!!\tFail!!\tFail!!\tFail!!\tFail!!\tFail!!\tFail!!\tFail!!\tFail!!\tFail!!\tFail!!\tFail!!\tFail!!\tFail!!\tFail!!\tFail!!\tFail!!\tFail!!\tFail!!\tFail!!\tFail!!\tFail!!\tFail!!\tFail!!\tFail!!\tFail!!\tFail!!\tFail!!\tFail!!\tFail!!\tFail!!\tFail!!\tFail!!\tFail!!\tFail!!\tFail!!\tFail!!\tFail!!\tFail!!\tFail!!\tFail!!\tFail!!\tFail!!\tFail!!\tFail!!\tFail!!\tFail!!\tFail!!\tFail!!\tFail!!\tFail!!\tFail!!\tFail!!\tFail!!\tFail!!\tFail!!\tFail!!\tFail!!\tFail!!\tFail!!\tFail!!\tFail!!\tFail!!\tFail!!\tFail!!\tFail!!\tFail!!\tFail!!\tFail!!\tFail!!\tFail!!\tFail!!\tFail!!\tFail!!\tFail!!\tFail!!\tFail!!\tFail!!\tFail!!\tFail!!\tFail!!\tFail!!\tFail!!\tFail!!\tFail!!\tFail!!\tFail!!\tFail!!\tFail!!\tFail!!\tFail!!\tFail!!\tFail!!\tFail!!\tFail!!\tFail!!\tFail!!\tFail!!\tFail!!\tFail!!\tFail!!\tFail!!\tFail!!\tFail!!\tFail!!\tFail!!\tFail!!\tFail!!\tFail!!\tFail!!\tFail!!\tFail!!\tFail!!\tFail!!\tFail!!\tFail!!\tFail!!\tFail!!\tFail!!\tFail!!\tFail!!\tFail!!\tFail!!\tFail!!\tFail!!\tFail!!\tFail!!\tFail!!\tFail!!\tFail!!\tFail!!\tFail!!\tFail!!\tFail!!\tFail!!\tFail!!\tFail!!\tFail!!\tFail!!\tFail!!\tFail!!\tFail!!\tFail!!\tFail!!\tFail!!\tFail!!\tFail!!\tFail!!\tFail!!\tFail!!\tFail!!\tFail!!\tFail!!\tFail!!\tFail!!\tFail!!\tFail!!\tFail!!\tFail!!\tFail!!\tFail!!\tFail!!\tFail!!\tFail!!\tFail!!\tFail!!\tFail!!\tFail!!\tFail!!\tFail!!\tFail!!\tFail!!\tFail!!\tFail!!\tFail!!\tFail!!\tFail!!\tFail!!\tFail!!\tFail!!\tFail!!\tFail!!\tFail!!\tFail!!\tFail!!\tFail!!\tFail!!\tFail!!\tFail!!\tFail!!\tFail!!\tFail!!\tFail!!\tFail!!\tFail!!\tFail!!\tFail!!\tFail!!\tFail!!\tFail!!\tFail!!\tFail!!\tFail!!\tFail!!\tFail!!\tFail!!\tFail!!\tFail!!\tFail!!\tFail!!\tFail!!\tFail!!\tFail!!\tFail!!\tFail!!\tFail!!\tFail!!\tFail!!\tFail!!\tFail!!\tFail!!\tFail!!\tFail!!\tFail!!\tFail!!\tFail!!\tFail!!\tFail!!\tFail!!\tFail!!\tFail!!\tFail!!\tFail!!\tFail!!\tFail!!\tFail!!\tFail!!\tFail!!\tFail!!\tFail!!\tFail!!\tFail!!\tFail!!\tFail!!\tFail!!\tFail!!\tFail!!\tFail!!\tFail!!\tFail!!\tFail!!\tFail!!\tFail!!\tFail!!\tFail!!\tFail!!\tFail!!\tFail!!\tFail!!\tFail!!\tFail!!\tFail!!\tFail!!\tFail!!\tFail!!\tFail!!\tFail!!\tFail!!\tFail!!\tFail!!\tFail!!\tFail!!\tFail!!\tFail!!\tFail!!\tFail!!\tFail!!\tFail!!\tFail!!\tFail!!\tFail!!\tFail!!\tFail!!\tFail!!\tFail!!\tFail!!\tFail!!\tFail!!\tFail!!\tFail!!\tFail!!\tFail!!\tFail!!\tFail!!\tFail!!\tFail!!\tFail!!\tFail!!\tFail!!\tFail!!\tFail!!\tFail!!\tFail!!\tFail!!\tFail!!\tFail!!\tFail!!\tFail!!\tFail!!\tFail!!\tFail!!\tFail!!\tFail!!\tFail!!\tFail!!\tFail!!\tFail!!\tFail!!\tFail!!\tFail!!\tFail!!\tFail!!\tFail!!\tFail!!\tFail!!\tFail!!\tFail!!\tFail!!\tFail!!\tFail!!\tFail!!\tFail!!\tFail!!\tFail!!\tFail!!\tFail!!\tFail!!\tFail!!\tFail!!\tFail!!\tFail!!\tFail!!\tFail!!\tFail!!\tFail!!\tFail!!\tFail!!\tFail!!\tFail!!\tFail!!\tFail!!\tFail!!\tFail!!\tFail!!\tFail!!\tFail!!\tFail!!\tFail!!\tFail!!\tFail!!\tFail!!\tFail!!\tFail!!\tFail!!\tFail!!\tFail!!\tFail!!\tFail!!\tFail!!\tFail!!\tFail!!\tFail!!\tFail!!\tFail!!\tFail!!\tFail!!\tFail!!\tFail!!\tFail!!\tFail!!\tFail!!\tFail!!\tFail!!\tFail!!\tFail!!\tFail!!\tFail!!\tFail!!\tFail!!\tFail!!\tFail!!\tFail!!\tFail!!\tFail!!\tFail!!\tFail!!\tFail!!\tFail!!\tFail!!\tFail!!\tFail!!\tFail!!\tFail!!\tFail!!\tFail!!\tFail!!\tFail!!\tFail!!\tFail!!\tFail!!\tFail!!\tFail!!\tFail!!\tFail!!\tFail!!\tFail!!\tFail!!\tFail!!\tFail!!\tFail!!\tFail!!\tFail!!\tFail!!\tFail!!\tFail!!\tFail!!\tFail!!\tFail!!\tFail!!\tFail!!\tFail!!\tFail!!\tFail!!\tFail!!\tFail!!\tFail!!\tFail!!\tFail!!\tFail!!\tFail!!\tFail!!\tFail!!\tFail!!\tFail!!\tFail!!\tFail!!\tFail!!\tFail!!\tFail!!\tFail!!\tFail!!\tFail!!\tFail!!\tFail!!\tFail!!\tFail!!\tFail!!\tFail!!\tFail!!\tFail!!\tFail!!\tFail!!\tFail!!\tFail!!\tFail!!\tFail!!\tFail!!\tFail!!\tFail!!\tFail!!\tFail!!\tFail!!\tFail!!\tFail!!\tFail!!\tFail!!\tFail!!\tFail!!\tFail!!\tFail!!\tFail!!\tFail!!\tFail!!\tFail!!\tFail!!\tFail!!\tFail!!\tFail!!\tFail!!\tFail!!\tFail!!\tFail!!\tFail!!\tFail!!\tFail!!\tFail!!\tFail!!\tFail!!\tFail!!\tFail!!\tFail!!\tFail!!\tFail!!\tFail!!\tFail!!\tFail!!\tFail!!\tFail!!\tFail!!\tFail!!\tFail!!\tFail!!\tFail!!\tFail!!\tFail!!\tFail!!\tFail!!\tFail!!\tFail!!\tFail!!\tFail!!\tFail!!\tFail!!\tFail!!\tFail!!\tFail!!\tFail!!\tFail!!\tFail!!\tFail!!\tFail!!\tFail!!\tFail!!\tFail!!\tFail!!\tFail!!\tFail!!\tFail!!\tFail!!\tFail!!\tFail!!\tFail!!\tFail!!\tFail!!\tFail!!\tFail!!\tFail!!\tFail!!\tFail!!\tFail!!\tFail!!\tFail!!\tFail!!\tFail!!\tFail!!\tFail!!\tFail!!\tFail!!\tFail!!\tFail!!\tFail!!\tFail!!\tFail!!\tFail!!\tFail!!\tFail!!\tFail!!\tFail!!\tFail!!\tFail!!\tFail!!\tFail!!\tFail!!\tFail!!\tFail!!\tFail!!\tFail!!\tFail!!\tFail!!\tFail!!\tFail!!\tFail!!\tFail!!\tFail!!\tFail!!\tFail!!\tFail!!\tFail!!\tFail!!\tFail!!\tFail!!\tFail!!\tFail!!\tFail!!\tFail!!\tFail!!\tFail!!\tFail!!\tFail!!\tFail!!\tFail!!\tFail!!\tFail!!\tFail!!\tFail!!\tFail!!\tFail!!\tFail!!\tFail!!\tFail!!\tFail!!\tFail!!\tFail!!\tFail!!\tFail!!\tFail!!\tFail!!\tFail!!\tFail!!\tFail!!\tFail!!\tFail!!\tFail!!\tFail!!\tFail!!\tFail!!\tFail!!\tFail!!\tFail!!\tFail!!\tFail!!\tFail!!\tFail!!\tFail!!\tFail!!\tFail!!\tFail!!\tFail!!\tFail!!\tFail!!\tFail!!\tFail!!\tFail!!\tFail!!\tFail!!\tFail!!\tFail!!\tFail!!\tFail!!\tFail!!\tFail!!\tFail!!\tFail!!\tFail!!\tFail!!\tFail!!\tFail!!\tFail!!\tFail!!\tFail!!\tFail!!\tFail!!\tFail!!\tFail!!\tFail!!\tFail!!\tFail!!\tFail!!\tFail!!\tFail!!\tFail!!\tFail!!\tFail!!\tFail!!\tFail!!\tFail!!\tFail!!\tFail!!\tFail!!\tFail!!\tFail!!\tFail!!\tFail!!\tFail!!\tFail!!\tFail!!\tFail!!\tFail!!\tFail!!\tFail!!\tFail!!\tFail!!\tFail!!\tFail!!\tFail!!\tFail!!\tFail!!\tFail!!\tFail!!\tFail!!\tFail!!\tFail!!\tFail!!\tFail!!\tFail!!\tFail!!\tFail!!\tFail!!\tFail!!\tFail!!\tFail!!\tFail!!\tFail!!\tFail!!\tFail!!\tFail!!\tFail!!\tFail!!\tFail!!\tFail!!\tFail!!\tFail!!\tFail!!\tFail!!\tFail!!\tFail!!\tFail!!\tFail!!\tFail!!\tFail!!\tFail!!\tFail!!\tFail!!\tFail!!\tFail!!\tFail!!\tFail!!\tFail!!\tFail!!\tFail!!\tFail!!\tFail!!\tFail!!\tFail!!\tFail!!\tFail!!\tFail!!\tFail!!\tFail!!\tFail!!\tFail!!\tFail!!\tFail!!\tFail!!\tFail!!\tFail!!\tFail!!\tFail!!\tFail!!\tFail!!\tFail!!\tFail!!\tFail!!\tFail!!\tFail!!\tFail!!\tFail!!\tFail!!\tFail!!\tFail!!\tFail!!\tFail!!\tFail!!\tFail!!\tFail!!\tFail!!\tFail!!\tFail!!\tFail!!\tFail!!\tFail!!\tFail!!\tFail!!\tFail!!\tFail!!\tFail!!\tFail!!\tFail!!\tFail!!\tFail!!\tFail!!\tFail!!\tFail!!\tFail!!\tFail!!\tFail!!\tFail!!\tFail!!\tFail!!\tFail!!\tFail!!\tFail!!\tFail!!\tFail!!\tFail!!\tFail!!\tFail!!\tFail!!\tFail!!\tFail!!\tFail!!\tFail!!\tFail!!\tFail!!\tFail!!\tFail!!\tFail!!\tFail!!\tFail!!\tFail!!\tFail!!\tFail!!\tFail!!\tFail!!\tFail!!\tFail!!\tFail!!\tFail!!\tFail!!\tFail!!\tFail!!\tFail!!\tFail!!\tFail!!\tFail!!\tFail!!\tFail!!\tFail!!\tFail!!\tFail!!\tFail!!\tFail!!\tFail!!\tFail!!\tFail!!\tFail!!\tFail!!\tFail!!\tFail!!\tFail!!\tFail!!\tFail!!\tFail!!\tFail!!\tFail!!\tFail!!\tFail!!\tFail!!\tFail!!\tFail!!\tFail!!\tFail!!\tFail!!\tFail!!\tFail!!\tFail!!\tFail!!\tFail!!\tFail!!\tFail!!\tFail!!\tFail!!\tFail!!\tFail!!\tFail!!\tFail!!\tFail!!\tFail!!\tFail!!\tFail!!\tFail!!\tFail!!\tFail!!\tFail!!\tFail!!\tFail!!\tFail!!\tFail!!\tFail!!\tFail!!\tFail!!\tFail!!\tFail!!\tFail!!\tFail!!\tFail!!\tFail!!\tFail!!\tFail!!\tFail!!\tFail!!\tFail!!\tFail!!\tFail!!\tFail!!\tFail!!\tFail!!\tFail!!\tFail!!\tFail!!\tFail!!\tFail!!\tFail!!\tFail!!\tFail!!\tFail!!\tFail!!\tFail!!\tFail!!\tFail!!\tFail!!\tFail!!\tFail!!\tFail!!\tFail!!\tFail!!\tFail!!\tFail!!\tFail!!\tFail!!\tFail!!\tFail!!\tFail!!\tFail!!\tFail!!\tFail!!\tFail!!\tFail!!\tFail!!\tFail!!\tFail!!\tFail!!\tFail!!\tFail!!\tFail!!\tFail!!\tFail!!\tFail!!\tFail!!\tFail!!\tFail!!\tFail!!\tFail!!\tFail!!\tFail!!\tFail!!\tFail!!\tFail!!\tFail!!\tFail!!\tFail!!\tFail!!\tFail!!\tFail!!\tFail!!\tFail!!\tFail!!\tFail!!\tFail!!\tFail!!\tFail!!\tFail!!\tFail!!\tFail!!\tFail!!\tFail!!\tFail!!\tFail!!\tFail!!\tFail!!\tFail!!\tFail!!\tFail!!\tFail!!\tFail!!\tFail!!\tFail!!\tFail!!\tFail!!\tFail!!\tFail!!\tFail!!\tFail!!\tFail!!\tFail!!\tFail!!\tFail!!\tFail!!\tFail!!\tFail!!\tFail!!\tFail!!\tFail!!\tFail!!\tFail!!\tFail!!\tFail!!\tFail!!\tFail!!\tFail!!\tFail!!\tFail!!\tFail!!\tFail!!\tFail!!\tFail!!\tFail!!\tFail!!\tFail!!\tFail!!\tFail!!\tFail!!\tFail!!\tFail!!\tFail!!\tFail!!\tFail!!\tFail!!\tFail!!\tFail!!\tFail!!\tFail!!\tFail!!\tFail!!\tFail!!\tFail!!\tFail!!\tFail!!\tFail!!\tFail!!\tFail!!\tFail!!\tFail!!\tFail!!\tFail!!\tFail!!\tFail!!\tFail!!\tFail!!\tFail!!\tFail!!\tFail!!\tFail!!\tFail!!\tFail!!\tFail!!\tFail!!\tFail!!\tFail!!\tFail!!\tFail!!\tFail!!\tFail!!\tFail!!\tFail!!\tFail!!\tFail!!\tFail!!\tFail!!\tFail!!\tFail!!\tFail!!\tFail!!\tFail!!\tFail!!\tFail!!\tFail!!\tFail!!\tFail!!\tFail!!\tFail!!\tFail!!\tFail!!\tFail!!\tFail!!\tFail!!\tFail!!\tFail!!\tFail!!\tFail!!\tFail!!\tFail!!\tFail!!\tFail!!\tFail!!\tFail!!\tFail!!\tFail!!\tFail!!\tFail!!\tFail!!\tFail!!\tFail!!\tFail!!\tFail!!\tFail!!\tFail!!\tFail!!\tFail!!\tFail!!\tFail!!\tFail!!\tFail!!\tFail!!\tFail!!\tFail!!\tFail!!\tFail!!\tFail!!\tFail!!\tFail!!\tFail!!\tFail!!\tFail!!\tFail!!\tFail!!\tFail!!\tFail!!\tFail!!\tFail!!\tFail!!\tFail!!\tFail!!\tFail!!\tFail!!\tFail!!\tFail!!\tFail!!\tFail!!\tFail!!\tFail!!\tFail!!\tFail!!\tFail!!\tFail!!\tFail!!\tFail!!\tFail!!\tFail!!\tFail!!\tFail!!\tFail!!\tFail!!\tFail!!\tFail!!\tFail!!\tFail!!\tFail!!\tFail!!\tFail!!\tFail!!\tFail!!\tFail!!\tFail!!\tFail!!\tFail!!\tFail!!\tFail!!\tFail!!\tFail!!\tFail!!\tFail!!\tFail!!\tFail!!\tFail!!\tFail!!\tFail!!\tFail!!\tFail!!\tFail!!\tFail!!\tFail!!\tFail!!\tFail!!\tFail!!\tFail!!\tFail!!\tFail!!\tFail!!\tFail!!\tFail!!\tFail!!\tFail!!\tFail!!\tFail!!\tFail!!\tFail!!\tFail!!\tFail!!\tFail!!\tFail!!\tFail!!\tFail!!\tFail!!\tFail!!\tFail!!\tFail!!\tFail!!\tFail!!\tFail!!\tFail!!\tFail!!\tFail!!\tFail!!\tFail!!\tFail!!\tFail!!\tFail!!\tFail!!\tFail!!\tFail!!\tFail!!\tFail!!\tFail!!\tFail!!\tFail!!\tFail!!\tFail!!\tFail!!\tFail!!\tFail!!\tFail!!\tFail!!\tFail!!\tFail!!\tFail!!\tFail!!\tFail!!\tFail!!\tFail!!\tFail!!\tFail!!\tFail!!\tFail!!\tFail!!\tFail!!\tFail!!\tFail!!\tFail!!\tFail!!\tFail!!\tFail!!\tFail!!\tFail!!\tFail!!\tFail!!\tFail!!\tFail!!\tFail!!\tFail!!\tFail!!\tFail!!\tFail!!\tFail!!\tFail!!\tFail!!\tFail!!\tFail!!\tFail!!\tFail!!\tFail!!\tFail!!\tFail!!\tFail!!\tFail!!\tFail!!\tFail!!\tFail!!\tFail!!\tFail!!\tFail!!\tFail!!\tFail!!\tFail!!\tFail!!\tFail!!\tFail!!\tFail!!\tFail!!\tFail!!\tFail!!\tFail!!\tFail!!\tFail!!\tFail!!\tFail!!\tFail!!\tFail!!\tFail!!\tFail!!\tFail!!\tFail!!\tFail!!\tFail!!\tFail!!\tFail!!\tFail!!\tFail!!\tFail!!\tFail!!\tFail!!\tFail!!\tFail!!\tFail!!\tFail!!\tFail!!\tFail!!\tFail!!\tFail!!\tFail!!\tFail!!\tFail!!\tFail!!\tFail!!\tFail!!\tFail!!\tFail!!\tFail!!\tFail!!\tFail!!\tFail!!\tFail!!\tFail!!\tFail!!\tFail!!\tFail!!\tFail!!\tFail!!\tFail!!\tFail!!\tFail!!\tFail!!\tFail!!\tFail!!\tFail!!\tFail!!\tFail!!\tFail!!\tFail!!\tFail!!\tFail!!\tFail!!\tFail!!\tFail!!\tFail!!\tFail!!\tFail!!\tFail!!\tFail!!\tFail!!\tFail!!\tFail!!\tFail!!\tFail!!\tFail!!\tFail!!\tFail!!\tFail!!\tFail!!\tFail!!\tFail!!\tFail!!\tFail!!\tFail!!\tFail!!\tFail!!\tFail!!\tFail!!\tFail!!\tFail!!\tFail!!\tFail!!\tFail!!\tFail!!\tFail!!\tFail!!\tFail!!\tFail!!\tFail!!\tFail!!\tFail!!\tFail!!\tFail!!\tFail!!\tFail!!\tFail!!\tFail!!\tFail!!\tFail!!\tFail!!\tFail!!\tFail!!\tFail!!\tFail!!\tFail!!\tFail!!\tFail!!\tFail!!\tFail!!\tFail!!\tFail!!\tFail!!\tFail!!\tFail!!\tFail!!\tFail!!\tFail!!\tFail!!\tFail!!\tFail!!\tFail!!\tFail!!\tFail!!\tFail!!\tFail!!\tFail!!\tFail!!\tFail!!\tFail!!\tFail!!\tFail!!\tFail!!\tFail!!\tFail!!\tFail!!\tFail!!\tFail!!\tFail!!\tFail!!\tFail!!\tFail!!\tFail!!\tFail!!\tFail!!\tFail!!\tFail!!\tFail!!\tFail!!\tFail!!\tFail!!\tFail!!\tFail!!\tFail!!\tFail!!\tFail!!\tFail!!\tFail!!\tFail!!\tFail!!\tFail!!\tFail!!\tFail!!\tFail!!\tFail!!\tFail!!\tFail!!\tFail!!\tFail!!\tFail!!\tFail!!\tFail!!\tFail!!\tFail!!\tFail!!\tFail!!\tFail!!\tFail!!\tFail!!\tFail!!\tFail!!\tFail!!\tFail!!\tFail!!\tFail!!\tFail!!\tFail!!\tFail!!\tFail!!\tFail!!\tFail!!\tFail!!\tFail!!\tFail!!\tFail!!\tFail!!\tFail!!\tFail!!\tFail!!\tFail!!\tFail!!\tFail!!\tFail!!\tFail!!\tFail!!\tFail!!\tFail!!\tFail!!\tFail!!\tFail!!\tFail!!\tFail!!\tFail!!\tFail!!\tFail!!\tFail!!\tFail!!\tFail!!\tFail!!\tFail!!\tFail!!\tFail!!\tFail!!\tFail!!\tFail!!\tFail!!\tFail!!\tFail!!\tFail!!\tFail!!\tFail!!\tFail!!\tFail!!\tFail!!\tFail!!\tFail!!\tFail!!\tFail!!\tFail!!\tFail!!\tFail!!\tFail!!\tFail!!\tFail!!\tFail!!\tFail!!\tFail!!\tFail!!\tFail!!\tFail!!\tFail!!\tFail!!\tFail!!\tFail!!\tFail!!\tFail!!\tFail!!\tFail!!\tFail!!\tFail!!\tFail!!\tFail!!\tFail!!\tFail!!\tFail!!\tFail!!\tFail!!\tFail!!\tFail!!\tFail!!\tFail!!\tFail!!\tFail!!\tFail!!\tFail!!\tFail!!\tFail!!\tFail!!\tFail!!\tFail!!\tFail!!\tFail!!\tFail!!\tFail!!\tFail!!\tFail!!\tFail!!\tFail!!\tFail!!\tFail!!\tFail!!\tFail!!\tFail!!\tFail!!\tFail!!\tFail!!\tFail!!\tFail!!\tFail!!\tFail!!\tFail!!\tFail!!\tFail!!\tFail!!\tFail!!\tFail!!\tFail!!\tFail!!\tFail!!\tFail!!\tFail!!\tFail!!\tFail!!\tFail!!\tFail!!\tFail!!\tFail!!\tFail!!\tFail!!\tFail!!\tFail!!\tFail!!\tFail!!\tFail!!\tFail!!\tFail!!\tFail!!\tFail!!\tFail!!\tFail!!\tFail!!\tFail!!\tFail!!\tFail!!\tFail!!\tFail!!\tFail!!\tFail!!\tFail!!\tFail!!\tFail!!\tFail!!\tFail!!\tFail!!\tFail!!\tFail!!\tFail!!\tFail!!\tFail!!\tFail!!\tFail!!\tFail!!\tFail!!\tFail!!\tFail!!\tFail!!\tFail!!\tFail!!\tFail!!\tFail!!\tFail!!\tFail!!\tFail!!\tFail!!\tFail!!\tFail!!\tFail!!\tFail!!\tFail!!\tFail!!\tFail!!\tFail!!\tFail!!\tFail!!\tFail!!\tFail!!\tFail!!\tFail!!\tFail!!\tFail!!\tFail!!\tFail!!\tFail!!\tFail!!\tFail!!\tFail!!\tFail!!\tFail!!\tFail!!\tFail!!\tFail!!\tFail!!\tFail!!\tFail!!\tFail!!\tFail!!\tFail!!\tFail!!\tFail!!\tFail!!\tFail!!\tFail!!\tFail!!\tFail!!\tFail!!\tFail!!\tFail!!\tFail!!\tFail!!\tFail!!\tFail!!\tFail!!\tFail!!\tFail!!\tFail!!\tFail!!\tFail!!\tFail!!\tFail!!\tFail!!\tFail!!\tFail!!\tFail!!\tFail!!\tFail!!\tFail!!\tFail!!\tFail!!\tFail!!\tFail!!\tFail!!\tFail!!\tFail!!\tFail!!\tFail!!\tFail!!\tFail!!\tFail!!\tFail!!\tFail!!\tFail!!\tFail!!\tFail!!\tFail!!\tFail!!\tFail!!\tFail!!\tFail!!\tFail!!\tFail!!\tFail!!\tFail!!\tFail!!\tFail!!\tFail!!\tFail!!\tFail!!\tFail!!\tFail!!\tFail!!\tFail!!\tFail!!\tFail!!\tFail!!\tFail!!\tFail!!\tFail!!\tFail!!\tFail!!\tFail!!\tFail!!\tFail!!\tFail!!\tFail!!\tFail!!\tFail!!\tFail!!\tFail!!\tFail!!\tFail!!\tFail!!\tFail!!\tFail!!\tFail!!\tFail!!\tFail!!\tFail!!\tFail!!\tFail!!\tFail!!\tFail!!\tFail!!\tFail!!\tFail!!\tFail!!\tFail!!\tFail!!\tFail!!\tFail!!\tFail!!\tFail!!\tFail!!\tFail!!\tFail!!\tFail!!\tFail!!\tFail!!\tFail!!\tFail!!\tFail!!\tFail!!\tFail!!\tFail!!\tFail!!\tFail!!\tFail!!\tFail!!\tFail!!\tFail!!\tFail!!\tFail!!\tFail!!\tFail!!\tFail!!\tFail!!\tFail!!\tFail!!\tFail!!\tFail!!\tFail!!\tFail!!\tFail!!\tFail!!\tFail!!\tFail!!\tFail!!\tFail!!\tFail!!\tFail!!\tFail!!\tFail!!\tFail!!\tFail!!\tFail!!\tFail!!\tFail!!\tFail!!\tFail!!\tFail!!\tFail!!\tFail!!\tFail!!\tFail!!\tFail!!\tFail!!\tFail!!\tFail!!\tFail!!\tFail!!\tFail!!\tFail!!\tFail!!\tFail!!\tFail!!\tFail!!\tFail!!\tFail!!\tFail!!\tFail!!\tFail!!\tFail!!\tFail!!\tFail!!\tFail!!\tFail!!\tFail!!\tFail!!\tFail!!\tFail!!\tFail!!\tFail!!\tFail!!\tFail!!\tFail!!\tFail!!\tFail!!\tFail!!\tFail!!\tFail!!\tFail!!\tFail!!\tFail!!\tFail!!\tFail!!\tFail!!\tFail!!\tFail!!\tFail!!\tFail!!\tFail!!\tFail!!\tFail!!\tFail!!\tFail!!\tFail!!\tFail!!\tFail!!\tFail!!\tFail!!\tFail!!\tFail!!\tFail!!\tFail!!\tFail!!\tFail!!\tFail!!\tFail!!\tFail!!\tFail!!\tFail!!\tFail!!\tFail!!\tFail!!\tFail!!\tFail!!\tFail!!\tFail!!\tFail!!\tFail!!\tFail!!\tFail!!\tFail!!\tFail!!\tFail!!\tFail!!\tFail!!\tFail!!\tFail!!\tFail!!\tFail!!\tFail!!\tFail!!\tFail!!\tFail!!\tFail!!\tFail!!\tFail!!\tFail!!\tFail!!\tFail!!\tFail!!\tFail!!\tFail!!\tFail!!\tFail!!\tFail!!\tFail!!\tFail!!\tFail!!\tFail!!\tFail!!\tFail!!\tFail!!\tFail!!\tFail!!\tFail!!\tFail!!\tFail!!\tFail!!\tFail!!\tFail!!\tFail!!\tFail!!\tFail!!\tFail!!\tFail!!\tFail!!\tFail!!\tFail!!\tFail!!\tFail!!\tFail!!\tFail!!\tFail!!\tFail!!\tFail!!\tFail!!\tFail!!\tFail!!\tFail!!\tFail!!\tFail!!\tFail!!\tFail!!\tFail!!\tFail!!\tFail!!\tFail!!\tFail!!\tFail!!\tFail!!\tFail!!\tFail!!\tFail!!\tFail!!\tFail!!\tFail!!\tFail!!\tFail!!\tFail!!\tFail!!\tFail!!\tFail!!\tFail!!\tFail!!\tFail!!\tFail!!\tFail!!\tFail!!\tFail!!\tFail!!\tFail!!\tFail!!\tFail!!\tFail!!\tFail!!\tFail!!\tFail!!\tFail!!\tFail!!\tFail!!\tFail!!\tFail!!\tFail!!\tFail!!\tFail!!\tFail!!\tFail!!\tFail!!\tFail!!\tFail!!\tFail!!\tFail!!\tFail!!\tFail!!\tFail!!\tFail!!\tFail!!\tFail!!\tFail!!\tFail!!\tFail!!\tFail!!\tFail!!\tFail!!\tFail!!\tFail!!\tFail!!\tFail!!\tFail!!\tFail!!\tFail!!\tFail!!\tFail!!\tFail!!\tFail!!\tFail!!\tFail!!\tFail!!\tFail!!\tFail!!\tFail!!\tFail!!\tFail!!\tFail!!\tFail!!\tFail!!\tFail!!\tFail!!\tFail!!\tFail!!\tFail!!\tFail!!\tFail!!\tFail!!\tFail!!\tFail!!\tFail!!\tFail!!\tFail!!\tFail!!\tFail!!\tFail!!\tFail!!\tFail!!\tFail!!\tFail!!\tFail!!\tFail!!\tFail!!\tFail!!\tFail!!\tFail!!\tFail!!\tFail!!\tFail!!\tFail!!\tFail!!\tFail!!\tFail!!\tFail!!\tFail!!\tFail!!\tFail!!\tFail!!\tFail!!\tFail!!\tFail!!\tFail!!\tFail!!\tFail!!\tFail!!\tFail!!\tFail!!\tFail!!\tFail!!\tFail!!\tFail!!\tFail!!\tFail!!\tFail!!\tFail!!\tFail!!\tFail!!\tFail!!\tFail!!\tFail!!\tFail!!\tFail!!\tFail!!\tFail!!\tFail!!\tFail!!\tFail!!\tFail!!\tFail!!\tFail!!\tFail!!\tFail!!\tFail!!\tFail!!\tTrain score\n",
            "\t25% trip traverse : 0.20562324598023923\n",
            "\t50% trip traverse : 0.4163212983587789\n",
            "\t75% trip traverse : 0.6200365857776751\n",
            "\t90% trip traverse : 0.7431608412480043\n",
            "Test score\n",
            "\t25% trip traverse : 0.18294232420903236\n",
            "\t50% trip traverse : 0.352608761813484\n",
            "\t75% trip traverse : 0.5043621154399502\n",
            "\t90% trip traverse : 0.5810266243989309\n",
            "fail seq =  4870\n"
          ]
        }
      ]
    }
  ]
}