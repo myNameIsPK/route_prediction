{
  "nbformat": 4,
  "nbformat_minor": 0,
  "metadata": {
    "colab": {
      "name": "get_way_sequence_loop.ipynb",
      "provenance": [],
      "toc_visible": true
    },
    "kernelspec": {
      "name": "python3",
      "display_name": "Python 3"
    },
    "language_info": {
      "name": "python"
    }
  },
  "cells": [
    {
      "cell_type": "markdown",
      "metadata": {
        "id": "9_i2GguhzYgr"
      },
      "source": [
        "#Import"
      ]
    },
    {
      "cell_type": "code",
      "metadata": {
        "colab": {
          "base_uri": "https://localhost:8080/"
        },
        "id": "nJUC9W2azZc2",
        "outputId": "174e35d6-f4ed-4da6-f3df-25127c1262ec"
      },
      "source": [
        "from google.colab import drive\n",
        "drive.mount('/content/drive')"
      ],
      "execution_count": null,
      "outputs": [
        {
          "output_type": "stream",
          "name": "stdout",
          "text": [
            "Mounted at /content/drive\n"
          ]
        }
      ]
    },
    {
      "cell_type": "code",
      "metadata": {
        "colab": {
          "base_uri": "https://localhost:8080/"
        },
        "id": "fLnPBq85zw0b",
        "outputId": "ab64cbd1-978c-4c6f-9c81-921e34b3ce0b"
      },
      "source": [
        "!pip install geopandas"
      ],
      "execution_count": null,
      "outputs": [
        {
          "output_type": "stream",
          "name": "stdout",
          "text": [
            "Collecting geopandas\n",
            "  Downloading geopandas-0.10.2-py2.py3-none-any.whl (1.0 MB)\n",
            "\u001b[?25l\r\u001b[K     |▎                               | 10 kB 27.2 MB/s eta 0:00:01\r\u001b[K     |▋                               | 20 kB 32.8 MB/s eta 0:00:01\r\u001b[K     |█                               | 30 kB 38.7 MB/s eta 0:00:01\r\u001b[K     |█▎                              | 40 kB 26.3 MB/s eta 0:00:01\r\u001b[K     |█▋                              | 51 kB 16.1 MB/s eta 0:00:01\r\u001b[K     |██                              | 61 kB 13.6 MB/s eta 0:00:01\r\u001b[K     |██▎                             | 71 kB 12.1 MB/s eta 0:00:01\r\u001b[K     |██▌                             | 81 kB 13.4 MB/s eta 0:00:01\r\u001b[K     |██▉                             | 92 kB 12.5 MB/s eta 0:00:01\r\u001b[K     |███▏                            | 102 kB 11.7 MB/s eta 0:00:01\r\u001b[K     |███▌                            | 112 kB 11.7 MB/s eta 0:00:01\r\u001b[K     |███▉                            | 122 kB 11.7 MB/s eta 0:00:01\r\u001b[K     |████▏                           | 133 kB 11.7 MB/s eta 0:00:01\r\u001b[K     |████▌                           | 143 kB 11.7 MB/s eta 0:00:01\r\u001b[K     |████▊                           | 153 kB 11.7 MB/s eta 0:00:01\r\u001b[K     |█████                           | 163 kB 11.7 MB/s eta 0:00:01\r\u001b[K     |█████▍                          | 174 kB 11.7 MB/s eta 0:00:01\r\u001b[K     |█████▊                          | 184 kB 11.7 MB/s eta 0:00:01\r\u001b[K     |██████                          | 194 kB 11.7 MB/s eta 0:00:01\r\u001b[K     |██████▍                         | 204 kB 11.7 MB/s eta 0:00:01\r\u001b[K     |██████▊                         | 215 kB 11.7 MB/s eta 0:00:01\r\u001b[K     |███████                         | 225 kB 11.7 MB/s eta 0:00:01\r\u001b[K     |███████▎                        | 235 kB 11.7 MB/s eta 0:00:01\r\u001b[K     |███████▋                        | 245 kB 11.7 MB/s eta 0:00:01\r\u001b[K     |████████                        | 256 kB 11.7 MB/s eta 0:00:01\r\u001b[K     |████████▎                       | 266 kB 11.7 MB/s eta 0:00:01\r\u001b[K     |████████▋                       | 276 kB 11.7 MB/s eta 0:00:01\r\u001b[K     |█████████                       | 286 kB 11.7 MB/s eta 0:00:01\r\u001b[K     |█████████▏                      | 296 kB 11.7 MB/s eta 0:00:01\r\u001b[K     |█████████▌                      | 307 kB 11.7 MB/s eta 0:00:01\r\u001b[K     |█████████▉                      | 317 kB 11.7 MB/s eta 0:00:01\r\u001b[K     |██████████▏                     | 327 kB 11.7 MB/s eta 0:00:01\r\u001b[K     |██████████▌                     | 337 kB 11.7 MB/s eta 0:00:01\r\u001b[K     |██████████▉                     | 348 kB 11.7 MB/s eta 0:00:01\r\u001b[K     |███████████▏                    | 358 kB 11.7 MB/s eta 0:00:01\r\u001b[K     |███████████▍                    | 368 kB 11.7 MB/s eta 0:00:01\r\u001b[K     |███████████▊                    | 378 kB 11.7 MB/s eta 0:00:01\r\u001b[K     |████████████                    | 389 kB 11.7 MB/s eta 0:00:01\r\u001b[K     |████████████▍                   | 399 kB 11.7 MB/s eta 0:00:01\r\u001b[K     |████████████▊                   | 409 kB 11.7 MB/s eta 0:00:01\r\u001b[K     |█████████████                   | 419 kB 11.7 MB/s eta 0:00:01\r\u001b[K     |█████████████▍                  | 430 kB 11.7 MB/s eta 0:00:01\r\u001b[K     |█████████████▋                  | 440 kB 11.7 MB/s eta 0:00:01\r\u001b[K     |██████████████                  | 450 kB 11.7 MB/s eta 0:00:01\r\u001b[K     |██████████████▎                 | 460 kB 11.7 MB/s eta 0:00:01\r\u001b[K     |██████████████▋                 | 471 kB 11.7 MB/s eta 0:00:01\r\u001b[K     |███████████████                 | 481 kB 11.7 MB/s eta 0:00:01\r\u001b[K     |███████████████▎                | 491 kB 11.7 MB/s eta 0:00:01\r\u001b[K     |███████████████▋                | 501 kB 11.7 MB/s eta 0:00:01\r\u001b[K     |███████████████▉                | 512 kB 11.7 MB/s eta 0:00:01\r\u001b[K     |████████████████▏               | 522 kB 11.7 MB/s eta 0:00:01\r\u001b[K     |████████████████▌               | 532 kB 11.7 MB/s eta 0:00:01\r\u001b[K     |████████████████▉               | 542 kB 11.7 MB/s eta 0:00:01\r\u001b[K     |█████████████████▏              | 552 kB 11.7 MB/s eta 0:00:01\r\u001b[K     |█████████████████▌              | 563 kB 11.7 MB/s eta 0:00:01\r\u001b[K     |█████████████████▉              | 573 kB 11.7 MB/s eta 0:00:01\r\u001b[K     |██████████████████              | 583 kB 11.7 MB/s eta 0:00:01\r\u001b[K     |██████████████████▍             | 593 kB 11.7 MB/s eta 0:00:01\r\u001b[K     |██████████████████▊             | 604 kB 11.7 MB/s eta 0:00:01\r\u001b[K     |███████████████████             | 614 kB 11.7 MB/s eta 0:00:01\r\u001b[K     |███████████████████▍            | 624 kB 11.7 MB/s eta 0:00:01\r\u001b[K     |███████████████████▊            | 634 kB 11.7 MB/s eta 0:00:01\r\u001b[K     |████████████████████            | 645 kB 11.7 MB/s eta 0:00:01\r\u001b[K     |████████████████████▎           | 655 kB 11.7 MB/s eta 0:00:01\r\u001b[K     |████████████████████▋           | 665 kB 11.7 MB/s eta 0:00:01\r\u001b[K     |█████████████████████           | 675 kB 11.7 MB/s eta 0:00:01\r\u001b[K     |█████████████████████▎          | 686 kB 11.7 MB/s eta 0:00:01\r\u001b[K     |█████████████████████▋          | 696 kB 11.7 MB/s eta 0:00:01\r\u001b[K     |██████████████████████          | 706 kB 11.7 MB/s eta 0:00:01\r\u001b[K     |██████████████████████▎         | 716 kB 11.7 MB/s eta 0:00:01\r\u001b[K     |██████████████████████▋         | 727 kB 11.7 MB/s eta 0:00:01\r\u001b[K     |██████████████████████▉         | 737 kB 11.7 MB/s eta 0:00:01\r\u001b[K     |███████████████████████▏        | 747 kB 11.7 MB/s eta 0:00:01\r\u001b[K     |███████████████████████▌        | 757 kB 11.7 MB/s eta 0:00:01\r\u001b[K     |███████████████████████▉        | 768 kB 11.7 MB/s eta 0:00:01\r\u001b[K     |████████████████████████▏       | 778 kB 11.7 MB/s eta 0:00:01\r\u001b[K     |████████████████████████▌       | 788 kB 11.7 MB/s eta 0:00:01\r\u001b[K     |████████████████████████▉       | 798 kB 11.7 MB/s eta 0:00:01\r\u001b[K     |█████████████████████████       | 808 kB 11.7 MB/s eta 0:00:01\r\u001b[K     |█████████████████████████▍      | 819 kB 11.7 MB/s eta 0:00:01\r\u001b[K     |█████████████████████████▊      | 829 kB 11.7 MB/s eta 0:00:01\r\u001b[K     |██████████████████████████      | 839 kB 11.7 MB/s eta 0:00:01\r\u001b[K     |██████████████████████████▍     | 849 kB 11.7 MB/s eta 0:00:01\r\u001b[K     |██████████████████████████▊     | 860 kB 11.7 MB/s eta 0:00:01\r\u001b[K     |███████████████████████████     | 870 kB 11.7 MB/s eta 0:00:01\r\u001b[K     |███████████████████████████▎    | 880 kB 11.7 MB/s eta 0:00:01\r\u001b[K     |███████████████████████████▋    | 890 kB 11.7 MB/s eta 0:00:01\r\u001b[K     |████████████████████████████    | 901 kB 11.7 MB/s eta 0:00:01\r\u001b[K     |████████████████████████████▎   | 911 kB 11.7 MB/s eta 0:00:01\r\u001b[K     |████████████████████████████▋   | 921 kB 11.7 MB/s eta 0:00:01\r\u001b[K     |█████████████████████████████   | 931 kB 11.7 MB/s eta 0:00:01\r\u001b[K     |█████████████████████████████▎  | 942 kB 11.7 MB/s eta 0:00:01\r\u001b[K     |█████████████████████████████▌  | 952 kB 11.7 MB/s eta 0:00:01\r\u001b[K     |█████████████████████████████▉  | 962 kB 11.7 MB/s eta 0:00:01\r\u001b[K     |██████████████████████████████▏ | 972 kB 11.7 MB/s eta 0:00:01\r\u001b[K     |██████████████████████████████▌ | 983 kB 11.7 MB/s eta 0:00:01\r\u001b[K     |██████████████████████████████▉ | 993 kB 11.7 MB/s eta 0:00:01\r\u001b[K     |███████████████████████████████▏| 1.0 MB 11.7 MB/s eta 0:00:01\r\u001b[K     |███████████████████████████████▌| 1.0 MB 11.7 MB/s eta 0:00:01\r\u001b[K     |███████████████████████████████▊| 1.0 MB 11.7 MB/s eta 0:00:01\r\u001b[K     |████████████████████████████████| 1.0 MB 11.7 MB/s \n",
            "\u001b[?25hRequirement already satisfied: shapely>=1.6 in /usr/local/lib/python3.7/dist-packages (from geopandas) (1.8.0)\n",
            "Requirement already satisfied: pandas>=0.25.0 in /usr/local/lib/python3.7/dist-packages (from geopandas) (1.1.5)\n",
            "Collecting fiona>=1.8\n",
            "  Downloading Fiona-1.8.20-cp37-cp37m-manylinux1_x86_64.whl (15.4 MB)\n",
            "\u001b[K     |████████████████████████████████| 15.4 MB 40 kB/s \n",
            "\u001b[?25hCollecting pyproj>=2.2.0\n",
            "  Downloading pyproj-3.2.1-cp37-cp37m-manylinux2010_x86_64.whl (6.3 MB)\n",
            "\u001b[K     |████████████████████████████████| 6.3 MB 44.4 MB/s \n",
            "\u001b[?25hRequirement already satisfied: certifi in /usr/local/lib/python3.7/dist-packages (from fiona>=1.8->geopandas) (2021.10.8)\n",
            "Collecting cligj>=0.5\n",
            "  Downloading cligj-0.7.2-py3-none-any.whl (7.1 kB)\n",
            "Requirement already satisfied: six>=1.7 in /usr/local/lib/python3.7/dist-packages (from fiona>=1.8->geopandas) (1.15.0)\n",
            "Requirement already satisfied: click>=4.0 in /usr/local/lib/python3.7/dist-packages (from fiona>=1.8->geopandas) (7.1.2)\n",
            "Requirement already satisfied: setuptools in /usr/local/lib/python3.7/dist-packages (from fiona>=1.8->geopandas) (57.4.0)\n",
            "Collecting click-plugins>=1.0\n",
            "  Downloading click_plugins-1.1.1-py2.py3-none-any.whl (7.5 kB)\n",
            "Requirement already satisfied: attrs>=17 in /usr/local/lib/python3.7/dist-packages (from fiona>=1.8->geopandas) (21.2.0)\n",
            "Collecting munch\n",
            "  Downloading munch-2.5.0-py2.py3-none-any.whl (10 kB)\n",
            "Requirement already satisfied: python-dateutil>=2.7.3 in /usr/local/lib/python3.7/dist-packages (from pandas>=0.25.0->geopandas) (2.8.2)\n",
            "Requirement already satisfied: numpy>=1.15.4 in /usr/local/lib/python3.7/dist-packages (from pandas>=0.25.0->geopandas) (1.19.5)\n",
            "Requirement already satisfied: pytz>=2017.2 in /usr/local/lib/python3.7/dist-packages (from pandas>=0.25.0->geopandas) (2018.9)\n",
            "Installing collected packages: munch, cligj, click-plugins, pyproj, fiona, geopandas\n",
            "Successfully installed click-plugins-1.1.1 cligj-0.7.2 fiona-1.8.20 geopandas-0.10.2 munch-2.5.0 pyproj-3.2.1\n"
          ]
        }
      ]
    },
    {
      "cell_type": "code",
      "metadata": {
        "id": "AMP4jd7SzhY1"
      },
      "source": [
        "import pandas as pd\n",
        "import numpy as np\n",
        "import itertools\n",
        "from operator import itemgetter\n",
        "\n",
        "import geopandas as gpd\n",
        "import numpy as np\n",
        "import pandas as pd\n",
        "\n",
        "from scipy.spatial import cKDTree\n",
        "from shapely.geometry import Point, LineString"
      ],
      "execution_count": null,
      "outputs": []
    },
    {
      "cell_type": "code",
      "metadata": {
        "id": "kYgzqQvs5uXN"
      },
      "source": [
        "road_data_path = '/content/drive/My Drive/2021 Route Prediction/Project-1/Source-Code/data/route_network/clustered'\n",
        "trips_data_path = '/content/drive/My Drive/2021 Route Prediction/Project-1/Source-Code/data/trips_and_stops_NE_2019'\n",
        "export_data_path = '/content/drive/My Drive/2021 Route Prediction/Project-1/Source-Code/data/trips_with_wayID'"
      ],
      "execution_count": null,
      "outputs": []
    },
    {
      "cell_type": "code",
      "metadata": {
        "id": "Z0JsxasS6B3h"
      },
      "source": [
        "def ckdnearest(gdfA, gdfB, gdfB_cols=['way_id']):\n",
        "    A = np.concatenate(\n",
        "        [np.array(geom.coords) for geom in gdfA.geometry.to_list()])\n",
        "    B = [np.array(geom.coords) for geom in gdfB.geometry.to_list()]\n",
        "    B_ix = tuple(itertools.chain.from_iterable(\n",
        "        [itertools.repeat(i, x) for i, x in enumerate(list(map(len, B)))]))\n",
        "    B = np.concatenate(B)\n",
        "    ckd_tree = cKDTree(B)\n",
        "    dist, idx = ckd_tree.query(A, k=1)\n",
        "    idx = itemgetter(*idx)(B_ix)\n",
        "    gdf = pd.concat(\n",
        "        [gdfA, gdfB.loc[idx, gdfB_cols].reset_index(drop=True),\n",
        "         pd.Series(dist, name='dist')], axis=1)\n",
        "    return gdf"
      ],
      "execution_count": null,
      "outputs": []
    },
    {
      "cell_type": "markdown",
      "metadata": {
        "id": "hDM9qVB36CyT"
      },
      "source": [
        "#Get way sequence"
      ]
    },
    {
      "cell_type": "code",
      "metadata": {
        "colab": {
          "base_uri": "https://localhost:8080/"
        },
        "id": "mAOM0DOg6FSW",
        "outputId": "f87d2989-928f-4c18-8289-09fdb9a54252"
      },
      "source": [
        "days = range(11,32)\n",
        "month = 8\n",
        "for day in days:\n",
        "  export_filename = export_data_path + f'/trips_with_wayId_{month}_{day}.csv'\n",
        "  trips_df = pd.read_csv(trips_data_path+f'/trips_2019_{month}_{day}.csv', parse_dates=['time_stamp'])\n",
        "  way_segment_drop_dup_df = pd.read_csv(road_data_path + 'way_and_road_segment_lazy_drop.csv')\n",
        "  # from pd to gpd\n",
        "  trips_gdf = gpd.GeoDataFrame(\n",
        "    trips_df, geometry=gpd.points_from_xy(trips_df.lat, trips_df.lon))\n",
        "\n",
        "# create linestring of way_id\n",
        "  way_segment_drop_dup_gdf = gpd.GeoDataFrame(\n",
        "  way_segment_drop_dup_df, geometry=gpd.points_from_xy(\n",
        "      way_segment_drop_dup_df.mid_lat,\n",
        "      way_segment_drop_dup_df.mid_lon\n",
        "    )\n",
        "  )\n",
        "\n",
        "  way_id_list = []\n",
        "  for way_id in pd.unique(way_segment_drop_dup_gdf.way_id):\n",
        "    line = way_segment_drop_dup_gdf[way_segment_drop_dup_gdf.way_id == way_id]['geometry'].to_list()\n",
        "    if len(line) < 2:\n",
        "      line = line*2\n",
        "    way_id_list.append([way_id, LineString(line)])\n",
        "  way_id_list\n",
        "\n",
        "  way_segment_drop_dup_gdf = gpd.GeoDataFrame(way_id_list, columns=['way_id', 'geometry'])\n",
        "\n",
        "  trips_gdf_nearest_way = ckdnearest(trips_gdf, way_segment_drop_dup_gdf)\n",
        "\n",
        "  export_df = trips_gdf_nearest_way.drop(columns=['geometry'])\n",
        "  export_df.to_csv(export_filename, index=False)\n",
        "  print(export_filename)"
      ],
      "execution_count": null,
      "outputs": [
        {
          "output_type": "stream",
          "name": "stdout",
          "text": [
            "/content/drive/My Drive/2021 Route Prediction/Project-1/Source-Code/data/trips_with_wayID/trips_with_wayId_8_11.csv\n",
            "/content/drive/My Drive/2021 Route Prediction/Project-1/Source-Code/data/trips_with_wayID/trips_with_wayId_8_12.csv\n",
            "/content/drive/My Drive/2021 Route Prediction/Project-1/Source-Code/data/trips_with_wayID/trips_with_wayId_8_13.csv\n",
            "/content/drive/My Drive/2021 Route Prediction/Project-1/Source-Code/data/trips_with_wayID/trips_with_wayId_8_14.csv\n",
            "/content/drive/My Drive/2021 Route Prediction/Project-1/Source-Code/data/trips_with_wayID/trips_with_wayId_8_15.csv\n",
            "/content/drive/My Drive/2021 Route Prediction/Project-1/Source-Code/data/trips_with_wayID/trips_with_wayId_8_16.csv\n",
            "/content/drive/My Drive/2021 Route Prediction/Project-1/Source-Code/data/trips_with_wayID/trips_with_wayId_8_17.csv\n",
            "/content/drive/My Drive/2021 Route Prediction/Project-1/Source-Code/data/trips_with_wayID/trips_with_wayId_8_18.csv\n",
            "/content/drive/My Drive/2021 Route Prediction/Project-1/Source-Code/data/trips_with_wayID/trips_with_wayId_8_19.csv\n",
            "/content/drive/My Drive/2021 Route Prediction/Project-1/Source-Code/data/trips_with_wayID/trips_with_wayId_8_20.csv\n",
            "/content/drive/My Drive/2021 Route Prediction/Project-1/Source-Code/data/trips_with_wayID/trips_with_wayId_8_21.csv\n",
            "/content/drive/My Drive/2021 Route Prediction/Project-1/Source-Code/data/trips_with_wayID/trips_with_wayId_8_22.csv\n",
            "/content/drive/My Drive/2021 Route Prediction/Project-1/Source-Code/data/trips_with_wayID/trips_with_wayId_8_23.csv\n",
            "/content/drive/My Drive/2021 Route Prediction/Project-1/Source-Code/data/trips_with_wayID/trips_with_wayId_8_24.csv\n",
            "/content/drive/My Drive/2021 Route Prediction/Project-1/Source-Code/data/trips_with_wayID/trips_with_wayId_8_25.csv\n",
            "/content/drive/My Drive/2021 Route Prediction/Project-1/Source-Code/data/trips_with_wayID/trips_with_wayId_8_26.csv\n",
            "/content/drive/My Drive/2021 Route Prediction/Project-1/Source-Code/data/trips_with_wayID/trips_with_wayId_8_27.csv\n",
            "/content/drive/My Drive/2021 Route Prediction/Project-1/Source-Code/data/trips_with_wayID/trips_with_wayId_8_28.csv\n",
            "/content/drive/My Drive/2021 Route Prediction/Project-1/Source-Code/data/trips_with_wayID/trips_with_wayId_8_29.csv\n",
            "/content/drive/My Drive/2021 Route Prediction/Project-1/Source-Code/data/trips_with_wayID/trips_with_wayId_8_30.csv\n",
            "/content/drive/My Drive/2021 Route Prediction/Project-1/Source-Code/data/trips_with_wayID/trips_with_wayId_8_31.csv\n"
          ]
        }
      ]
    }
  ]
}