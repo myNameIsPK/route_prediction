{
  "nbformat": 4,
  "nbformat_minor": 0,
  "metadata": {
    "colab": {
      "name": "get_way_sequence.ipynb",
      "provenance": [],
      "collapsed_sections": [
        "sKMWvdLNdY8-"
      ],
      "toc_visible": true
    },
    "kernelspec": {
      "name": "python3",
      "display_name": "Python 3"
    },
    "language_info": {
      "name": "python"
    }
  },
  "cells": [
    {
      "cell_type": "markdown",
      "metadata": {
        "id": "qL40dYAytNVE"
      },
      "source": [
        "# Import\n"
      ]
    },
    {
      "cell_type": "code",
      "metadata": {
        "colab": {
          "base_uri": "https://localhost:8080/"
        },
        "id": "wSLZi59WtNVE",
        "outputId": "19f14a7a-8a21-412c-a6e4-5fd408f4ea7c"
      },
      "source": [
        "from google.colab import drive\n",
        "drive.mount('/content/drive')"
      ],
      "execution_count": 22,
      "outputs": [
        {
          "output_type": "stream",
          "name": "stdout",
          "text": [
            "Drive already mounted at /content/drive; to attempt to forcibly remount, call drive.mount(\"/content/drive\", force_remount=True).\n"
          ]
        }
      ]
    },
    {
      "cell_type": "code",
      "metadata": {
        "id": "xvAoCDU-tNVF"
      },
      "source": [
        "import pandas as pd\n",
        "import numpy as np\n",
        "import matplotlib.pyplot as plt"
      ],
      "execution_count": 23,
      "outputs": []
    },
    {
      "cell_type": "code",
      "metadata": {
        "colab": {
          "base_uri": "https://localhost:8080/"
        },
        "id": "dk4DTRNltNVF",
        "outputId": "c51eeae4-defd-4914-81dc-18a46a09f661"
      },
      "source": [
        "!pip install plotly_express"
      ],
      "execution_count": 24,
      "outputs": [
        {
          "output_type": "stream",
          "name": "stdout",
          "text": [
            "Requirement already satisfied: plotly_express in /usr/local/lib/python3.7/dist-packages (0.4.1)\n",
            "Requirement already satisfied: statsmodels>=0.9.0 in /usr/local/lib/python3.7/dist-packages (from plotly_express) (0.10.2)\n",
            "Requirement already satisfied: numpy>=1.11 in /usr/local/lib/python3.7/dist-packages (from plotly_express) (1.19.5)\n",
            "Requirement already satisfied: pandas>=0.20.0 in /usr/local/lib/python3.7/dist-packages (from plotly_express) (1.1.5)\n",
            "Requirement already satisfied: patsy>=0.5 in /usr/local/lib/python3.7/dist-packages (from plotly_express) (0.5.2)\n",
            "Requirement already satisfied: plotly>=4.1.0 in /usr/local/lib/python3.7/dist-packages (from plotly_express) (4.4.1)\n",
            "Requirement already satisfied: scipy>=0.18 in /usr/local/lib/python3.7/dist-packages (from plotly_express) (1.4.1)\n",
            "Requirement already satisfied: python-dateutil>=2.7.3 in /usr/local/lib/python3.7/dist-packages (from pandas>=0.20.0->plotly_express) (2.8.2)\n",
            "Requirement already satisfied: pytz>=2017.2 in /usr/local/lib/python3.7/dist-packages (from pandas>=0.20.0->plotly_express) (2018.9)\n",
            "Requirement already satisfied: six in /usr/local/lib/python3.7/dist-packages (from patsy>=0.5->plotly_express) (1.15.0)\n",
            "Requirement already satisfied: retrying>=1.3.3 in /usr/local/lib/python3.7/dist-packages (from plotly>=4.1.0->plotly_express) (1.3.3)\n"
          ]
        }
      ]
    },
    {
      "cell_type": "code",
      "metadata": {
        "colab": {
          "base_uri": "https://localhost:8080/"
        },
        "id": "PyUYZsccdV9i",
        "outputId": "49abf27a-7fd7-4250-8545-ddd575367244"
      },
      "source": [
        "!pip install geopandas"
      ],
      "execution_count": 25,
      "outputs": [
        {
          "output_type": "stream",
          "name": "stdout",
          "text": [
            "Requirement already satisfied: geopandas in /usr/local/lib/python3.7/dist-packages (0.10.2)\n",
            "Requirement already satisfied: pyproj>=2.2.0 in /usr/local/lib/python3.7/dist-packages (from geopandas) (3.2.1)\n",
            "Requirement already satisfied: pandas>=0.25.0 in /usr/local/lib/python3.7/dist-packages (from geopandas) (1.1.5)\n",
            "Requirement already satisfied: shapely>=1.6 in /usr/local/lib/python3.7/dist-packages (from geopandas) (1.8.0)\n",
            "Requirement already satisfied: fiona>=1.8 in /usr/local/lib/python3.7/dist-packages (from geopandas) (1.8.20)\n",
            "Requirement already satisfied: cligj>=0.5 in /usr/local/lib/python3.7/dist-packages (from fiona>=1.8->geopandas) (0.7.2)\n",
            "Requirement already satisfied: certifi in /usr/local/lib/python3.7/dist-packages (from fiona>=1.8->geopandas) (2021.10.8)\n",
            "Requirement already satisfied: six>=1.7 in /usr/local/lib/python3.7/dist-packages (from fiona>=1.8->geopandas) (1.15.0)\n",
            "Requirement already satisfied: click>=4.0 in /usr/local/lib/python3.7/dist-packages (from fiona>=1.8->geopandas) (7.1.2)\n",
            "Requirement already satisfied: setuptools in /usr/local/lib/python3.7/dist-packages (from fiona>=1.8->geopandas) (57.4.0)\n",
            "Requirement already satisfied: click-plugins>=1.0 in /usr/local/lib/python3.7/dist-packages (from fiona>=1.8->geopandas) (1.1.1)\n",
            "Requirement already satisfied: attrs>=17 in /usr/local/lib/python3.7/dist-packages (from fiona>=1.8->geopandas) (21.2.0)\n",
            "Requirement already satisfied: munch in /usr/local/lib/python3.7/dist-packages (from fiona>=1.8->geopandas) (2.5.0)\n",
            "Requirement already satisfied: numpy>=1.15.4 in /usr/local/lib/python3.7/dist-packages (from pandas>=0.25.0->geopandas) (1.19.5)\n",
            "Requirement already satisfied: python-dateutil>=2.7.3 in /usr/local/lib/python3.7/dist-packages (from pandas>=0.25.0->geopandas) (2.8.2)\n",
            "Requirement already satisfied: pytz>=2017.2 in /usr/local/lib/python3.7/dist-packages (from pandas>=0.25.0->geopandas) (2018.9)\n"
          ]
        }
      ]
    },
    {
      "cell_type": "code",
      "metadata": {
        "colab": {
          "base_uri": "https://localhost:8080/"
        },
        "id": "u95UJMhrtNVF",
        "outputId": "92820b2a-2ac0-429c-c27c-8ceeafc093a4"
      },
      "source": [
        "!ls '/content/drive/My Drive/2021 Route Prediction/Project-1/Source-Code/data/trips_and_stops_NE_2019'"
      ],
      "execution_count": 26,
      "outputs": [
        {
          "output_type": "stream",
          "name": "stdout",
          "text": [
            "trips_2019_10_10.csv  trips_2019_2_10.csv  trips_2019_6_12.csv\n",
            "trips_2019_10_11.csv  trips_2019_2_11.csv  trips_2019_6_13.csv\n",
            "trips_2019_10_12.csv  trips_2019_2_12.csv  trips_2019_6_14.csv\n",
            "trips_2019_10_13.csv  trips_2019_2_13.csv  trips_2019_6_15.csv\n",
            "trips_2019_10_14.csv  trips_2019_2_14.csv  trips_2019_6_16.csv\n",
            "trips_2019_10_15.csv  trips_2019_2_15.csv  trips_2019_6_17.csv\n",
            "trips_2019_10_16.csv  trips_2019_2_16.csv  trips_2019_6_18.csv\n",
            "trips_2019_10_17.csv  trips_2019_2_17.csv  trips_2019_6_19.csv\n",
            "trips_2019_10_18.csv  trips_2019_2_18.csv  trips_2019_6_1.csv\n",
            "trips_2019_10_19.csv  trips_2019_2_19.csv  trips_2019_6_20.csv\n",
            "trips_2019_10_1.csv   trips_2019_2_1.csv   trips_2019_6_21.csv\n",
            "trips_2019_10_20.csv  trips_2019_2_20.csv  trips_2019_6_22.csv\n",
            "trips_2019_10_21.csv  trips_2019_2_21.csv  trips_2019_6_23.csv\n",
            "trips_2019_10_22.csv  trips_2019_2_22.csv  trips_2019_6_24.csv\n",
            "trips_2019_10_23.csv  trips_2019_2_23.csv  trips_2019_6_25.csv\n",
            "trips_2019_10_24.csv  trips_2019_2_24.csv  trips_2019_6_26.csv\n",
            "trips_2019_10_25.csv  trips_2019_2_25.csv  trips_2019_6_27.csv\n",
            "trips_2019_10_26.csv  trips_2019_2_26.csv  trips_2019_6_28.csv\n",
            "trips_2019_10_27.csv  trips_2019_2_27.csv  trips_2019_6_29.csv\n",
            "trips_2019_10_28.csv  trips_2019_2_28.csv  trips_2019_6_2.csv\n",
            "trips_2019_10_29.csv  trips_2019_2_2.csv   trips_2019_6_30.csv\n",
            "trips_2019_10_2.csv   trips_2019_2_3.csv   trips_2019_6_3.csv\n",
            "trips_2019_10_30.csv  trips_2019_2_4.csv   trips_2019_6_4.csv\n",
            "trips_2019_10_31.csv  trips_2019_2_5.csv   trips_2019_6_5.csv\n",
            "trips_2019_10_3.csv   trips_2019_2_6.csv   trips_2019_6_6.csv\n",
            "trips_2019_10_4.csv   trips_2019_2_7.csv   trips_2019_6_7.csv\n",
            "trips_2019_10_5.csv   trips_2019_2_8.csv   trips_2019_6_8.csv\n",
            "trips_2019_10_6.csv   trips_2019_2_9.csv   trips_2019_6_9.csv\n",
            "trips_2019_10_7.csv   trips_2019_3_10.csv  trips_2019_7_10.csv\n",
            "trips_2019_10_8.csv   trips_2019_3_11.csv  trips_2019_7_11.csv\n",
            "trips_2019_10_9.csv   trips_2019_3_12.csv  trips_2019_7_12.csv\n",
            "trips_2019_1_10.csv   trips_2019_3_13.csv  trips_2019_7_13.csv\n",
            "trips_2019_11_10.csv  trips_2019_3_14.csv  trips_2019_7_14.csv\n",
            "trips_2019_11_11.csv  trips_2019_3_15.csv  trips_2019_7_15.csv\n",
            "trips_2019_11_12.csv  trips_2019_3_16.csv  trips_2019_7_16.csv\n",
            "trips_2019_11_13.csv  trips_2019_3_17.csv  trips_2019_7_17.csv\n",
            "trips_2019_11_14.csv  trips_2019_3_18.csv  trips_2019_7_18.csv\n",
            "trips_2019_11_15.csv  trips_2019_3_19.csv  trips_2019_7_19.csv\n",
            "trips_2019_11_16.csv  trips_2019_3_1.csv   trips_2019_7_1.csv\n",
            "trips_2019_11_17.csv  trips_2019_3_20.csv  trips_2019_7_20.csv\n",
            "trips_2019_11_18.csv  trips_2019_3_21.csv  trips_2019_7_21.csv\n",
            "trips_2019_11_19.csv  trips_2019_3_22.csv  trips_2019_7_22.csv\n",
            "trips_2019_1_11.csv   trips_2019_3_23.csv  trips_2019_7_23.csv\n",
            "trips_2019_11_1.csv   trips_2019_3_24.csv  trips_2019_7_24.csv\n",
            "trips_2019_11_20.csv  trips_2019_3_25.csv  trips_2019_7_25.csv\n",
            "trips_2019_11_21.csv  trips_2019_3_26.csv  trips_2019_7_26.csv\n",
            "trips_2019_11_22.csv  trips_2019_3_27.csv  trips_2019_7_27.csv\n",
            "trips_2019_11_23.csv  trips_2019_3_28.csv  trips_2019_7_28.csv\n",
            "trips_2019_11_24.csv  trips_2019_3_29.csv  trips_2019_7_29.csv\n",
            "trips_2019_11_25.csv  trips_2019_3_2.csv   trips_2019_7_2.csv\n",
            "trips_2019_11_26.csv  trips_2019_3_30.csv  trips_2019_7_30.csv\n",
            "trips_2019_11_27.csv  trips_2019_3_31.csv  trips_2019_7_31.csv\n",
            "trips_2019_11_28.csv  trips_2019_3_3.csv   trips_2019_7_3.csv\n",
            "trips_2019_11_29.csv  trips_2019_3_4.csv   trips_2019_7_4.csv\n",
            "trips_2019_1_12.csv   trips_2019_3_5.csv   trips_2019_7_5.csv\n",
            "trips_2019_11_2.csv   trips_2019_3_6.csv   trips_2019_7_6.csv\n",
            "trips_2019_11_30.csv  trips_2019_3_7.csv   trips_2019_7_7.csv\n",
            "trips_2019_1_13.csv   trips_2019_3_8.csv   trips_2019_7_8.csv\n",
            "trips_2019_11_3.csv   trips_2019_3_9.csv   trips_2019_7_9.csv\n",
            "trips_2019_1_14.csv   trips_2019_4_10.csv  trips_2019_8_10.csv\n",
            "trips_2019_11_4.csv   trips_2019_4_11.csv  trips_2019_8_11.csv\n",
            "trips_2019_1_15.csv   trips_2019_4_12.csv  trips_2019_8_12.csv\n",
            "trips_2019_11_5.csv   trips_2019_4_13.csv  trips_2019_8_13.csv\n",
            "trips_2019_1_16.csv   trips_2019_4_14.csv  trips_2019_8_14.csv\n",
            "trips_2019_11_6.csv   trips_2019_4_15.csv  trips_2019_8_15.csv\n",
            "trips_2019_1_17.csv   trips_2019_4_16.csv  trips_2019_8_16.csv\n",
            "trips_2019_11_7.csv   trips_2019_4_17.csv  trips_2019_8_17.csv\n",
            "trips_2019_1_18.csv   trips_2019_4_18.csv  trips_2019_8_18.csv\n",
            "trips_2019_11_8.csv   trips_2019_4_19.csv  trips_2019_8_19.csv\n",
            "trips_2019_1_19.csv   trips_2019_4_1.csv   trips_2019_8_1.csv\n",
            "trips_2019_11_9.csv   trips_2019_4_20.csv  trips_2019_8_20.csv\n",
            "trips_2019_1_1.csv    trips_2019_4_21.csv  trips_2019_8_21.csv\n",
            "trips_2019_12_10.csv  trips_2019_4_22.csv  trips_2019_8_22.csv\n",
            "trips_2019_12_11.csv  trips_2019_4_23.csv  trips_2019_8_23.csv\n",
            "trips_2019_12_12.csv  trips_2019_4_24.csv  trips_2019_8_24.csv\n",
            "trips_2019_12_13.csv  trips_2019_4_25.csv  trips_2019_8_25.csv\n",
            "trips_2019_12_14.csv  trips_2019_4_26.csv  trips_2019_8_26.csv\n",
            "trips_2019_12_15.csv  trips_2019_4_27.csv  trips_2019_8_27.csv\n",
            "trips_2019_12_16.csv  trips_2019_4_28.csv  trips_2019_8_28.csv\n",
            "trips_2019_12_17.csv  trips_2019_4_29.csv  trips_2019_8_29.csv\n",
            "trips_2019_12_18.csv  trips_2019_4_2.csv   trips_2019_8_2.csv\n",
            "trips_2019_12_19.csv  trips_2019_4_30.csv  trips_2019_8_30.csv\n",
            "trips_2019_1_21.csv   trips_2019_4_3.csv   trips_2019_8_31.csv\n",
            "trips_2019_12_1.csv   trips_2019_4_4.csv   trips_2019_8_3.csv\n",
            "trips_2019_12_20.csv  trips_2019_4_5.csv   trips_2019_8_4.csv\n",
            "trips_2019_12_21.csv  trips_2019_4_6.csv   trips_2019_8_5.csv\n",
            "trips_2019_12_22.csv  trips_2019_4_7.csv   trips_2019_8_6.csv\n",
            "trips_2019_12_23.csv  trips_2019_4_8.csv   trips_2019_8_7.csv\n",
            "trips_2019_12_24.csv  trips_2019_4_9.csv   trips_2019_8_8.csv\n",
            "trips_2019_12_25.csv  trips_2019_5_10.csv  trips_2019_8_9.csv\n",
            "trips_2019_12_26.csv  trips_2019_5_11.csv  trips_2019_9_10.csv\n",
            "trips_2019_12_27.csv  trips_2019_5_12.csv  trips_2019_9_11.csv\n",
            "trips_2019_12_28.csv  trips_2019_5_13.csv  trips_2019_9_12.csv\n",
            "trips_2019_12_29.csv  trips_2019_5_14.csv  trips_2019_9_13.csv\n",
            "trips_2019_1_22.csv   trips_2019_5_15.csv  trips_2019_9_14.csv\n",
            "trips_2019_12_2.csv   trips_2019_5_16.csv  trips_2019_9_15.csv\n",
            "trips_2019_12_30.csv  trips_2019_5_17.csv  trips_2019_9_16.csv\n",
            "trips_2019_12_31.csv  trips_2019_5_18.csv  trips_2019_9_17.csv\n",
            "trips_2019_1_23.csv   trips_2019_5_19.csv  trips_2019_9_18.csv\n",
            "trips_2019_12_3.csv   trips_2019_5_1.csv   trips_2019_9_19.csv\n",
            "trips_2019_1_24.csv   trips_2019_5_20.csv  trips_2019_9_1.csv\n",
            "trips_2019_12_4.csv   trips_2019_5_21.csv  trips_2019_9_20.csv\n",
            "trips_2019_1_25.csv   trips_2019_5_22.csv  trips_2019_9_21.csv\n",
            "trips_2019_12_5.csv   trips_2019_5_23.csv  trips_2019_9_22.csv\n",
            "trips_2019_1_26.csv   trips_2019_5_24.csv  trips_2019_9_23.csv\n",
            "trips_2019_12_6.csv   trips_2019_5_25.csv  trips_2019_9_24.csv\n",
            "trips_2019_1_27.csv   trips_2019_5_26.csv  trips_2019_9_25.csv\n",
            "trips_2019_12_7.csv   trips_2019_5_27.csv  trips_2019_9_26.csv\n",
            "trips_2019_1_28.csv   trips_2019_5_28.csv  trips_2019_9_27.csv\n",
            "trips_2019_12_8.csv   trips_2019_5_29.csv  trips_2019_9_28.csv\n",
            "trips_2019_1_29.csv   trips_2019_5_2.csv   trips_2019_9_29.csv\n",
            "trips_2019_12_9.csv   trips_2019_5_30.csv  trips_2019_9_2.csv\n",
            "trips_2019_1_2.csv    trips_2019_5_31.csv  trips_2019_9_30.csv\n",
            "trips_2019_1_30.csv   trips_2019_5_3.csv   trips_2019_9_3.csv\n",
            "trips_2019_1_31.csv   trips_2019_5_4.csv   trips_2019_9_4.csv\n",
            "trips_2019_1_3.csv    trips_2019_5_5.csv   trips_2019_9_5.csv\n",
            "trips_2019_1_4.csv    trips_2019_5_6.csv   trips_2019_9_6.csv\n",
            "trips_2019_1_5.csv    trips_2019_5_7.csv   trips_2019_9_7.csv\n",
            "trips_2019_1_6.csv    trips_2019_5_8.csv   trips_2019_9_8.csv\n",
            "trips_2019_1_7.csv    trips_2019_5_9.csv   trips_2019_9_9.csv\n",
            "trips_2019_1_8.csv    trips_2019_6_10.csv\n",
            "trips_2019_1_9.csv    trips_2019_6_11.csv\n"
          ]
        }
      ]
    },
    {
      "cell_type": "code",
      "metadata": {
        "id": "sktTRczKtNVF"
      },
      "source": [
        "road_data_path = '/content/drive/My Drive/2021 Route Prediction/Project-1/Source-Code/data/route_network/clustered'\n",
        "trips_data_path = '/content/drive/My Drive/2021 Route Prediction/Project-1/Source-Code/data/trips_and_stops_NE_2019'\n",
        "export_data_path = '/content/drive/My Drive/2021 Route Prediction/Project-1/Source-Code/data/3.2_wayid_on_trips'"
      ],
      "execution_count": 27,
      "outputs": []
    },
    {
      "cell_type": "markdown",
      "metadata": {
        "id": "P52IMwoITs7Y"
      },
      "source": [
        "# Map trip to way sequence with ckd-tree"
      ]
    },
    {
      "cell_type": "markdown",
      "metadata": {
        "id": "v2lRtU1uvwkH"
      },
      "source": [
        "load trips data"
      ]
    },
    {
      "cell_type": "code",
      "metadata": {
        "colab": {
          "base_uri": "https://localhost:8080/",
          "height": 206
        },
        "id": "C2OkbQO9BXWj",
        "outputId": "dc94005c-54cc-4aa9-b8cb-d6a68baa165c"
      },
      "source": [
        "trips_df = pd.read_csv(trips_data_path+'/trips_2019_1_1.csv', parse_dates=['time_stamp'])\n",
        "trips_df[:5]"
      ],
      "execution_count": 28,
      "outputs": [
        {
          "output_type": "execute_result",
          "data": {
            "text/html": [
              "<div>\n",
              "<style scoped>\n",
              "    .dataframe tbody tr th:only-of-type {\n",
              "        vertical-align: middle;\n",
              "    }\n",
              "\n",
              "    .dataframe tbody tr th {\n",
              "        vertical-align: top;\n",
              "    }\n",
              "\n",
              "    .dataframe thead th {\n",
              "        text-align: right;\n",
              "    }\n",
              "</style>\n",
              "<table border=\"1\" class=\"dataframe\">\n",
              "  <thead>\n",
              "    <tr style=\"text-align: right;\">\n",
              "      <th></th>\n",
              "      <th>time_stamp</th>\n",
              "      <th>unit_id</th>\n",
              "      <th>lat</th>\n",
              "      <th>lon</th>\n",
              "      <th>speed</th>\n",
              "      <th>unit_type</th>\n",
              "      <th>trip_id</th>\n",
              "    </tr>\n",
              "  </thead>\n",
              "  <tbody>\n",
              "    <tr>\n",
              "      <th>0</th>\n",
              "      <td>2019-01-01 00:00:07</td>\n",
              "      <td>02800040000000GBBN601005123</td>\n",
              "      <td>16.481607</td>\n",
              "      <td>104.049705</td>\n",
              "      <td>71</td>\n",
              "      <td>3.0</td>\n",
              "      <td>0</td>\n",
              "    </tr>\n",
              "    <tr>\n",
              "      <th>1</th>\n",
              "      <td>2019-01-01 00:01:07</td>\n",
              "      <td>02800040000000GBBN601005123</td>\n",
              "      <td>16.491331</td>\n",
              "      <td>104.052101</td>\n",
              "      <td>81</td>\n",
              "      <td>3.0</td>\n",
              "      <td>0</td>\n",
              "    </tr>\n",
              "    <tr>\n",
              "      <th>2</th>\n",
              "      <td>2019-01-01 00:02:07</td>\n",
              "      <td>02800040000000GBBN601005123</td>\n",
              "      <td>16.502571</td>\n",
              "      <td>104.054756</td>\n",
              "      <td>65</td>\n",
              "      <td>3.0</td>\n",
              "      <td>0</td>\n",
              "    </tr>\n",
              "    <tr>\n",
              "      <th>3</th>\n",
              "      <td>2019-01-01 00:03:07</td>\n",
              "      <td>02800040000000GBBN601005123</td>\n",
              "      <td>16.514196</td>\n",
              "      <td>104.056266</td>\n",
              "      <td>79</td>\n",
              "      <td>3.0</td>\n",
              "      <td>0</td>\n",
              "    </tr>\n",
              "    <tr>\n",
              "      <th>4</th>\n",
              "      <td>2019-01-01 00:04:07</td>\n",
              "      <td>02800040000000GBBN601005123</td>\n",
              "      <td>16.524534</td>\n",
              "      <td>104.056427</td>\n",
              "      <td>65</td>\n",
              "      <td>3.0</td>\n",
              "      <td>0</td>\n",
              "    </tr>\n",
              "  </tbody>\n",
              "</table>\n",
              "</div>"
            ],
            "text/plain": [
              "           time_stamp                      unit_id  ...  unit_type  trip_id\n",
              "0 2019-01-01 00:00:07  02800040000000GBBN601005123  ...        3.0        0\n",
              "1 2019-01-01 00:01:07  02800040000000GBBN601005123  ...        3.0        0\n",
              "2 2019-01-01 00:02:07  02800040000000GBBN601005123  ...        3.0        0\n",
              "3 2019-01-01 00:03:07  02800040000000GBBN601005123  ...        3.0        0\n",
              "4 2019-01-01 00:04:07  02800040000000GBBN601005123  ...        3.0        0\n",
              "\n",
              "[5 rows x 7 columns]"
            ]
          },
          "metadata": {},
          "execution_count": 28
        }
      ]
    },
    {
      "cell_type": "markdown",
      "metadata": {
        "id": "F6cOUPMXv6CP"
      },
      "source": [
        "load way segment"
      ]
    },
    {
      "cell_type": "code",
      "metadata": {
        "id": "Fkv4PR9uaW1s",
        "colab": {
          "base_uri": "https://localhost:8080/",
          "height": 206
        },
        "outputId": "27168768-d29f-4d32-f2b1-264e25053661"
      },
      "source": [
        "way_segment_drop_dup_df = pd.read_csv(road_data_path + 'way_and_road_segment_lazy_drop.csv')\n",
        "way_segment_drop_dup_df[:5]"
      ],
      "execution_count": 29,
      "outputs": [
        {
          "output_type": "execute_result",
          "data": {
            "text/html": [
              "<div>\n",
              "<style scoped>\n",
              "    .dataframe tbody tr th:only-of-type {\n",
              "        vertical-align: middle;\n",
              "    }\n",
              "\n",
              "    .dataframe tbody tr th {\n",
              "        vertical-align: top;\n",
              "    }\n",
              "\n",
              "    .dataframe thead th {\n",
              "        text-align: right;\n",
              "    }\n",
              "</style>\n",
              "<table border=\"1\" class=\"dataframe\">\n",
              "  <thead>\n",
              "    <tr style=\"text-align: right;\">\n",
              "      <th></th>\n",
              "      <th>mid_lat</th>\n",
              "      <th>mid_lon</th>\n",
              "      <th>way_id</th>\n",
              "    </tr>\n",
              "  </thead>\n",
              "  <tbody>\n",
              "    <tr>\n",
              "      <th>0</th>\n",
              "      <td>17.436395</td>\n",
              "      <td>102.802536</td>\n",
              "      <td>23730732</td>\n",
              "    </tr>\n",
              "    <tr>\n",
              "      <th>1</th>\n",
              "      <td>16.471186</td>\n",
              "      <td>103.040827</td>\n",
              "      <td>23747253</td>\n",
              "    </tr>\n",
              "    <tr>\n",
              "      <th>2</th>\n",
              "      <td>14.520287</td>\n",
              "      <td>104.504161</td>\n",
              "      <td>23747922</td>\n",
              "    </tr>\n",
              "    <tr>\n",
              "      <th>3</th>\n",
              "      <td>14.509161</td>\n",
              "      <td>104.529506</td>\n",
              "      <td>23747922</td>\n",
              "    </tr>\n",
              "    <tr>\n",
              "      <th>4</th>\n",
              "      <td>14.504591</td>\n",
              "      <td>104.575137</td>\n",
              "      <td>23747922</td>\n",
              "    </tr>\n",
              "  </tbody>\n",
              "</table>\n",
              "</div>"
            ],
            "text/plain": [
              "     mid_lat     mid_lon    way_id\n",
              "0  17.436395  102.802536  23730732\n",
              "1  16.471186  103.040827  23747253\n",
              "2  14.520287  104.504161  23747922\n",
              "3  14.509161  104.529506  23747922\n",
              "4  14.504591  104.575137  23747922"
            ]
          },
          "metadata": {},
          "execution_count": 29
        }
      ]
    },
    {
      "cell_type": "markdown",
      "metadata": {
        "id": "Y8lrUXKCvlnQ"
      },
      "source": [
        "convert from df to gdf"
      ]
    },
    {
      "cell_type": "code",
      "metadata": {
        "id": "mw62dBWgBog4"
      },
      "source": [
        "import itertools\n",
        "from operator import itemgetter\n",
        "\n",
        "import geopandas as gpd\n",
        "import numpy as np\n",
        "import pandas as pd\n",
        "\n",
        "from scipy.spatial import cKDTree\n",
        "from shapely.geometry import Point, LineString\n",
        "\n",
        "# from pd to gpd\n",
        "trips_gdf = gpd.GeoDataFrame(\n",
        "    trips_df, geometry=gpd.points_from_xy(trips_df.lat, trips_df.lon))\n",
        "\n",
        "# create linestring of way_id\n",
        "way_segment_drop_dup_gdf = gpd.GeoDataFrame(\n",
        "  way_segment_drop_dup_df, geometry=gpd.points_from_xy(\n",
        "      way_segment_drop_dup_df.mid_lat,\n",
        "      way_segment_drop_dup_df.mid_lon\n",
        "    )\n",
        "  )\n",
        "\n",
        "way_id_list = []\n",
        "for way_id in pd.unique(way_segment_drop_dup_gdf.way_id):\n",
        "  line = way_segment_drop_dup_gdf[way_segment_drop_dup_gdf.way_id == way_id]['geometry'].to_list()\n",
        "  if len(line) < 2:\n",
        "    line = line*2\n",
        "  way_id_list.append([way_id, LineString(line)])\n",
        "way_id_list\n",
        "\n",
        "way_segment_drop_dup_gdf = gpd.GeoDataFrame(way_id_list, columns=['way_id', 'geometry'])"
      ],
      "execution_count": 30,
      "outputs": []
    },
    {
      "cell_type": "code",
      "metadata": {
        "colab": {
          "base_uri": "https://localhost:8080/",
          "height": 206
        },
        "id": "XQtL4VVRJZW6",
        "outputId": "3ea651f1-0c77-4021-aa42-34866077a64f"
      },
      "source": [
        "trips_gdf[:5]"
      ],
      "execution_count": 31,
      "outputs": [
        {
          "output_type": "execute_result",
          "data": {
            "text/html": [
              "<div>\n",
              "<style scoped>\n",
              "    .dataframe tbody tr th:only-of-type {\n",
              "        vertical-align: middle;\n",
              "    }\n",
              "\n",
              "    .dataframe tbody tr th {\n",
              "        vertical-align: top;\n",
              "    }\n",
              "\n",
              "    .dataframe thead th {\n",
              "        text-align: right;\n",
              "    }\n",
              "</style>\n",
              "<table border=\"1\" class=\"dataframe\">\n",
              "  <thead>\n",
              "    <tr style=\"text-align: right;\">\n",
              "      <th></th>\n",
              "      <th>time_stamp</th>\n",
              "      <th>unit_id</th>\n",
              "      <th>lat</th>\n",
              "      <th>lon</th>\n",
              "      <th>speed</th>\n",
              "      <th>unit_type</th>\n",
              "      <th>trip_id</th>\n",
              "      <th>geometry</th>\n",
              "    </tr>\n",
              "  </thead>\n",
              "  <tbody>\n",
              "    <tr>\n",
              "      <th>0</th>\n",
              "      <td>2019-01-01 00:00:07</td>\n",
              "      <td>02800040000000GBBN601005123</td>\n",
              "      <td>16.481607</td>\n",
              "      <td>104.049705</td>\n",
              "      <td>71</td>\n",
              "      <td>3.0</td>\n",
              "      <td>0</td>\n",
              "      <td>POINT (16.482 104.050)</td>\n",
              "    </tr>\n",
              "    <tr>\n",
              "      <th>1</th>\n",
              "      <td>2019-01-01 00:01:07</td>\n",
              "      <td>02800040000000GBBN601005123</td>\n",
              "      <td>16.491331</td>\n",
              "      <td>104.052101</td>\n",
              "      <td>81</td>\n",
              "      <td>3.0</td>\n",
              "      <td>0</td>\n",
              "      <td>POINT (16.491 104.052)</td>\n",
              "    </tr>\n",
              "    <tr>\n",
              "      <th>2</th>\n",
              "      <td>2019-01-01 00:02:07</td>\n",
              "      <td>02800040000000GBBN601005123</td>\n",
              "      <td>16.502571</td>\n",
              "      <td>104.054756</td>\n",
              "      <td>65</td>\n",
              "      <td>3.0</td>\n",
              "      <td>0</td>\n",
              "      <td>POINT (16.503 104.055)</td>\n",
              "    </tr>\n",
              "    <tr>\n",
              "      <th>3</th>\n",
              "      <td>2019-01-01 00:03:07</td>\n",
              "      <td>02800040000000GBBN601005123</td>\n",
              "      <td>16.514196</td>\n",
              "      <td>104.056266</td>\n",
              "      <td>79</td>\n",
              "      <td>3.0</td>\n",
              "      <td>0</td>\n",
              "      <td>POINT (16.514 104.056)</td>\n",
              "    </tr>\n",
              "    <tr>\n",
              "      <th>4</th>\n",
              "      <td>2019-01-01 00:04:07</td>\n",
              "      <td>02800040000000GBBN601005123</td>\n",
              "      <td>16.524534</td>\n",
              "      <td>104.056427</td>\n",
              "      <td>65</td>\n",
              "      <td>3.0</td>\n",
              "      <td>0</td>\n",
              "      <td>POINT (16.525 104.056)</td>\n",
              "    </tr>\n",
              "  </tbody>\n",
              "</table>\n",
              "</div>"
            ],
            "text/plain": [
              "           time_stamp  ...                geometry\n",
              "0 2019-01-01 00:00:07  ...  POINT (16.482 104.050)\n",
              "1 2019-01-01 00:01:07  ...  POINT (16.491 104.052)\n",
              "2 2019-01-01 00:02:07  ...  POINT (16.503 104.055)\n",
              "3 2019-01-01 00:03:07  ...  POINT (16.514 104.056)\n",
              "4 2019-01-01 00:04:07  ...  POINT (16.525 104.056)\n",
              "\n",
              "[5 rows x 8 columns]"
            ]
          },
          "metadata": {},
          "execution_count": 31
        }
      ]
    },
    {
      "cell_type": "code",
      "metadata": {
        "colab": {
          "base_uri": "https://localhost:8080/",
          "height": 206
        },
        "id": "xSFHA5pSJV5z",
        "outputId": "c652a1ed-3411-4eba-b1bc-73a16edd4e8d"
      },
      "source": [
        "way_segment_drop_dup_gdf[:5]"
      ],
      "execution_count": 32,
      "outputs": [
        {
          "output_type": "execute_result",
          "data": {
            "text/html": [
              "<div>\n",
              "<style scoped>\n",
              "    .dataframe tbody tr th:only-of-type {\n",
              "        vertical-align: middle;\n",
              "    }\n",
              "\n",
              "    .dataframe tbody tr th {\n",
              "        vertical-align: top;\n",
              "    }\n",
              "\n",
              "    .dataframe thead th {\n",
              "        text-align: right;\n",
              "    }\n",
              "</style>\n",
              "<table border=\"1\" class=\"dataframe\">\n",
              "  <thead>\n",
              "    <tr style=\"text-align: right;\">\n",
              "      <th></th>\n",
              "      <th>way_id</th>\n",
              "      <th>geometry</th>\n",
              "    </tr>\n",
              "  </thead>\n",
              "  <tbody>\n",
              "    <tr>\n",
              "      <th>0</th>\n",
              "      <td>23730732</td>\n",
              "      <td>LINESTRING (17.436 102.803, 17.436 102.803)</td>\n",
              "    </tr>\n",
              "    <tr>\n",
              "      <th>1</th>\n",
              "      <td>23747253</td>\n",
              "      <td>LINESTRING (16.471 103.041, 16.471 103.041)</td>\n",
              "    </tr>\n",
              "    <tr>\n",
              "      <th>2</th>\n",
              "      <td>23747922</td>\n",
              "      <td>LINESTRING (14.520 104.504, 14.509 104.530, 14...</td>\n",
              "    </tr>\n",
              "    <tr>\n",
              "      <th>3</th>\n",
              "      <td>23749257</td>\n",
              "      <td>LINESTRING (17.172 104.099, 17.187 104.095)</td>\n",
              "    </tr>\n",
              "    <tr>\n",
              "      <th>4</th>\n",
              "      <td>23749339</td>\n",
              "      <td>LINESTRING (16.611 103.620, 16.634 103.628)</td>\n",
              "    </tr>\n",
              "  </tbody>\n",
              "</table>\n",
              "</div>"
            ],
            "text/plain": [
              "     way_id                                           geometry\n",
              "0  23730732        LINESTRING (17.436 102.803, 17.436 102.803)\n",
              "1  23747253        LINESTRING (16.471 103.041, 16.471 103.041)\n",
              "2  23747922  LINESTRING (14.520 104.504, 14.509 104.530, 14...\n",
              "3  23749257        LINESTRING (17.172 104.099, 17.187 104.095)\n",
              "4  23749339        LINESTRING (16.611 103.620, 16.634 103.628)"
            ]
          },
          "metadata": {},
          "execution_count": 32
        }
      ]
    },
    {
      "cell_type": "markdown",
      "metadata": {
        "id": "8N0nl8EbwBXH"
      },
      "source": [
        "map nearest way_id"
      ]
    },
    {
      "cell_type": "code",
      "metadata": {
        "id": "a3UrQz-yJeso",
        "colab": {
          "base_uri": "https://localhost:8080/",
          "height": 791
        },
        "outputId": "b7c7a841-3b4e-4b16-f0d8-794198dee77f"
      },
      "source": [
        "def ckdnearest(gdfA, gdfB, gdfB_cols=['way_id']):\n",
        "    A = np.concatenate(\n",
        "        [np.array(geom.coords) for geom in gdfA.geometry.to_list()])\n",
        "    B = [np.array(geom.coords) for geom in gdfB.geometry.to_list()]\n",
        "    B_ix = tuple(itertools.chain.from_iterable(\n",
        "        [itertools.repeat(i, x) for i, x in enumerate(list(map(len, B)))]))\n",
        "    B = np.concatenate(B)\n",
        "    ckd_tree = cKDTree(B)\n",
        "    dist, idx = ckd_tree.query(A, k=1)\n",
        "    idx = itemgetter(*idx)(B_ix)\n",
        "    gdf = pd.concat(\n",
        "        [gdfA, gdfB.loc[idx, gdfB_cols].reset_index(drop=True),\n",
        "         pd.Series(dist, name='dist')], axis=1)\n",
        "    return gdf\n",
        "\n",
        "trips_gdf_nearest_way = ckdnearest(trips_gdf, way_segment_drop_dup_gdf)\n",
        "trips_gdf_nearest_way"
      ],
      "execution_count": 33,
      "outputs": [
        {
          "output_type": "execute_result",
          "data": {
            "text/html": [
              "<div>\n",
              "<style scoped>\n",
              "    .dataframe tbody tr th:only-of-type {\n",
              "        vertical-align: middle;\n",
              "    }\n",
              "\n",
              "    .dataframe tbody tr th {\n",
              "        vertical-align: top;\n",
              "    }\n",
              "\n",
              "    .dataframe thead th {\n",
              "        text-align: right;\n",
              "    }\n",
              "</style>\n",
              "<table border=\"1\" class=\"dataframe\">\n",
              "  <thead>\n",
              "    <tr style=\"text-align: right;\">\n",
              "      <th></th>\n",
              "      <th>time_stamp</th>\n",
              "      <th>unit_id</th>\n",
              "      <th>lat</th>\n",
              "      <th>lon</th>\n",
              "      <th>speed</th>\n",
              "      <th>unit_type</th>\n",
              "      <th>trip_id</th>\n",
              "      <th>geometry</th>\n",
              "      <th>way_id</th>\n",
              "      <th>dist</th>\n",
              "    </tr>\n",
              "  </thead>\n",
              "  <tbody>\n",
              "    <tr>\n",
              "      <th>0</th>\n",
              "      <td>2019-01-01 00:00:07</td>\n",
              "      <td>02800040000000GBBN601005123</td>\n",
              "      <td>16.481607</td>\n",
              "      <td>104.049705</td>\n",
              "      <td>71</td>\n",
              "      <td>3.0</td>\n",
              "      <td>0</td>\n",
              "      <td>POINT (16.482 104.050)</td>\n",
              "      <td>340294191</td>\n",
              "      <td>0.004308</td>\n",
              "    </tr>\n",
              "    <tr>\n",
              "      <th>1</th>\n",
              "      <td>2019-01-01 00:01:07</td>\n",
              "      <td>02800040000000GBBN601005123</td>\n",
              "      <td>16.491331</td>\n",
              "      <td>104.052101</td>\n",
              "      <td>81</td>\n",
              "      <td>3.0</td>\n",
              "      <td>0</td>\n",
              "      <td>POINT (16.491 104.052)</td>\n",
              "      <td>92193150</td>\n",
              "      <td>0.000498</td>\n",
              "    </tr>\n",
              "    <tr>\n",
              "      <th>2</th>\n",
              "      <td>2019-01-01 00:02:07</td>\n",
              "      <td>02800040000000GBBN601005123</td>\n",
              "      <td>16.502571</td>\n",
              "      <td>104.054756</td>\n",
              "      <td>65</td>\n",
              "      <td>3.0</td>\n",
              "      <td>0</td>\n",
              "      <td>POINT (16.503 104.055)</td>\n",
              "      <td>402348153</td>\n",
              "      <td>0.004740</td>\n",
              "    </tr>\n",
              "    <tr>\n",
              "      <th>3</th>\n",
              "      <td>2019-01-01 00:03:07</td>\n",
              "      <td>02800040000000GBBN601005123</td>\n",
              "      <td>16.514196</td>\n",
              "      <td>104.056266</td>\n",
              "      <td>79</td>\n",
              "      <td>3.0</td>\n",
              "      <td>0</td>\n",
              "      <td>POINT (16.514 104.056)</td>\n",
              "      <td>92193150</td>\n",
              "      <td>0.008590</td>\n",
              "    </tr>\n",
              "    <tr>\n",
              "      <th>4</th>\n",
              "      <td>2019-01-01 00:04:07</td>\n",
              "      <td>02800040000000GBBN601005123</td>\n",
              "      <td>16.524534</td>\n",
              "      <td>104.056427</td>\n",
              "      <td>65</td>\n",
              "      <td>3.0</td>\n",
              "      <td>0</td>\n",
              "      <td>POINT (16.525 104.056)</td>\n",
              "      <td>92193150</td>\n",
              "      <td>0.002386</td>\n",
              "    </tr>\n",
              "    <tr>\n",
              "      <th>...</th>\n",
              "      <td>...</td>\n",
              "      <td>...</td>\n",
              "      <td>...</td>\n",
              "      <td>...</td>\n",
              "      <td>...</td>\n",
              "      <td>...</td>\n",
              "      <td>...</td>\n",
              "      <td>...</td>\n",
              "      <td>...</td>\n",
              "      <td>...</td>\n",
              "    </tr>\n",
              "    <tr>\n",
              "      <th>195857</th>\n",
              "      <td>2019-01-01 21:51:58</td>\n",
              "      <td>003000300000359769033400604</td>\n",
              "      <td>14.835272</td>\n",
              "      <td>101.550918</td>\n",
              "      <td>52</td>\n",
              "      <td>7.0</td>\n",
              "      <td>2098</td>\n",
              "      <td>POINT (14.835 101.551)</td>\n",
              "      <td>82374801</td>\n",
              "      <td>0.001614</td>\n",
              "    </tr>\n",
              "    <tr>\n",
              "      <th>195858</th>\n",
              "      <td>2019-01-01 21:53:56</td>\n",
              "      <td>003000300000359769033400604</td>\n",
              "      <td>14.846673</td>\n",
              "      <td>101.562518</td>\n",
              "      <td>61</td>\n",
              "      <td>7.0</td>\n",
              "      <td>2098</td>\n",
              "      <td>POINT (14.847 101.563)</td>\n",
              "      <td>82374801</td>\n",
              "      <td>0.001829</td>\n",
              "    </tr>\n",
              "    <tr>\n",
              "      <th>195859</th>\n",
              "      <td>2019-01-01 21:56:00</td>\n",
              "      <td>003000300000359769033400604</td>\n",
              "      <td>14.850647</td>\n",
              "      <td>101.572147</td>\n",
              "      <td>59</td>\n",
              "      <td>7.0</td>\n",
              "      <td>2098</td>\n",
              "      <td>POINT (14.851 101.572)</td>\n",
              "      <td>82374801</td>\n",
              "      <td>0.007574</td>\n",
              "    </tr>\n",
              "    <tr>\n",
              "      <th>195860</th>\n",
              "      <td>2019-01-01 21:57:55</td>\n",
              "      <td>003000300000359769033400604</td>\n",
              "      <td>14.844158</td>\n",
              "      <td>101.590907</td>\n",
              "      <td>60</td>\n",
              "      <td>7.0</td>\n",
              "      <td>2098</td>\n",
              "      <td>POINT (14.844 101.591)</td>\n",
              "      <td>82374801</td>\n",
              "      <td>0.005860</td>\n",
              "    </tr>\n",
              "    <tr>\n",
              "      <th>195861</th>\n",
              "      <td>2019-01-01 21:59:58</td>\n",
              "      <td>003000300000359769033400604</td>\n",
              "      <td>14.840470</td>\n",
              "      <td>101.608530</td>\n",
              "      <td>32</td>\n",
              "      <td>7.0</td>\n",
              "      <td>2098</td>\n",
              "      <td>POINT (14.840 101.609)</td>\n",
              "      <td>150586957</td>\n",
              "      <td>0.001802</td>\n",
              "    </tr>\n",
              "  </tbody>\n",
              "</table>\n",
              "<p>195862 rows × 10 columns</p>\n",
              "</div>"
            ],
            "text/plain": [
              "                time_stamp                      unit_id  ...     way_id      dist\n",
              "0      2019-01-01 00:00:07  02800040000000GBBN601005123  ...  340294191  0.004308\n",
              "1      2019-01-01 00:01:07  02800040000000GBBN601005123  ...   92193150  0.000498\n",
              "2      2019-01-01 00:02:07  02800040000000GBBN601005123  ...  402348153  0.004740\n",
              "3      2019-01-01 00:03:07  02800040000000GBBN601005123  ...   92193150  0.008590\n",
              "4      2019-01-01 00:04:07  02800040000000GBBN601005123  ...   92193150  0.002386\n",
              "...                    ...                          ...  ...        ...       ...\n",
              "195857 2019-01-01 21:51:58  003000300000359769033400604  ...   82374801  0.001614\n",
              "195858 2019-01-01 21:53:56  003000300000359769033400604  ...   82374801  0.001829\n",
              "195859 2019-01-01 21:56:00  003000300000359769033400604  ...   82374801  0.007574\n",
              "195860 2019-01-01 21:57:55  003000300000359769033400604  ...   82374801  0.005860\n",
              "195861 2019-01-01 21:59:58  003000300000359769033400604  ...  150586957  0.001802\n",
              "\n",
              "[195862 rows x 10 columns]"
            ]
          },
          "metadata": {},
          "execution_count": 33
        }
      ]
    },
    {
      "cell_type": "code",
      "metadata": {
        "id": "Guv8UVFsd7a6"
      },
      "source": [
        "# export_df = trips_gdf_nearest_way.drop(columns=['geometry'])\n",
        "# export_df.to_csv(export_data_path+'/trips_2019_1_1.csv', index=False)"
      ],
      "execution_count": 34,
      "outputs": []
    }
  ]
}