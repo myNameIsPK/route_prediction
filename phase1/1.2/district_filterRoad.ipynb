{
  "nbformat": 4,
  "nbformat_minor": 0,
  "metadata": {
    "colab": {
      "name": "district_filterRoad.ipynb",
      "provenance": []
    },
    "kernelspec": {
      "name": "python3",
      "display_name": "Python 3"
    },
    "language_info": {
      "name": "python"
    }
  },
  "cells": [
    {
      "cell_type": "markdown",
      "metadata": {
        "id": "QHaI2d7ENVmI"
      },
      "source": [
        "#Install"
      ]
    },
    {
      "cell_type": "code",
      "metadata": {
        "colab": {
          "base_uri": "https://localhost:8080/"
        },
        "id": "-sa05I1ANM7a",
        "outputId": "62291692-a7c9-4383-9915-620dcfce58a1"
      },
      "source": [
        "%%time \n",
        "\n",
        "# Important library for many geopython libraries\n",
        "!apt install gdal-bin python-gdal python3-gdal \n",
        "# Install rtree - Geopandas requirment\n",
        "!apt install python3-rtree \n",
        "# Install Geopandas\n",
        "!pip install git+git://github.com/geopandas/geopandas.git\n",
        "# Install descartes - Geopandas requirment\n",
        "!pip install descartes \n",
        "# Install Folium for Geographic data visualization\n",
        "!pip install folium\n",
        "# Install plotlyExpress\n",
        "!pip install plotly_express"
      ],
      "execution_count": 1,
      "outputs": [
        {
          "output_type": "stream",
          "name": "stdout",
          "text": [
            "Reading package lists... Done\n",
            "Building dependency tree       \n",
            "Reading state information... Done\n",
            "gdal-bin is already the newest version (2.2.3+dfsg-2).\n",
            "python-gdal is already the newest version (2.2.3+dfsg-2).\n",
            "The following package was automatically installed and is no longer required:\n",
            "  libnvidia-common-460\n",
            "Use 'apt autoremove' to remove it.\n",
            "The following additional packages will be installed:\n",
            "  python3-numpy\n",
            "Suggested packages:\n",
            "  python-numpy-doc python3-nose python3-numpy-dbg\n",
            "The following NEW packages will be installed:\n",
            "  python3-gdal python3-numpy\n",
            "0 upgraded, 2 newly installed, 0 to remove and 40 not upgraded.\n",
            "Need to get 2,288 kB of archives.\n",
            "After this operation, 13.2 MB of additional disk space will be used.\n",
            "Get:1 http://archive.ubuntu.com/ubuntu bionic/main amd64 python3-numpy amd64 1:1.13.3-2ubuntu1 [1,943 kB]\n",
            "Get:2 http://archive.ubuntu.com/ubuntu bionic/universe amd64 python3-gdal amd64 2.2.3+dfsg-2 [346 kB]\n",
            "Fetched 2,288 kB in 1s (1,632 kB/s)\n",
            "Selecting previously unselected package python3-numpy.\n",
            "(Reading database ... 148489 files and directories currently installed.)\n",
            "Preparing to unpack .../python3-numpy_1%3a1.13.3-2ubuntu1_amd64.deb ...\n",
            "Unpacking python3-numpy (1:1.13.3-2ubuntu1) ...\n",
            "Selecting previously unselected package python3-gdal.\n",
            "Preparing to unpack .../python3-gdal_2.2.3+dfsg-2_amd64.deb ...\n",
            "Unpacking python3-gdal (2.2.3+dfsg-2) ...\n",
            "Setting up python3-numpy (1:1.13.3-2ubuntu1) ...\n",
            "Setting up python3-gdal (2.2.3+dfsg-2) ...\n",
            "Processing triggers for man-db (2.8.3-2ubuntu0.1) ...\n",
            "Reading package lists... Done\n",
            "Building dependency tree       \n",
            "Reading state information... Done\n",
            "The following package was automatically installed and is no longer required:\n",
            "  libnvidia-common-460\n",
            "Use 'apt autoremove' to remove it.\n",
            "The following additional packages will be installed:\n",
            "  libspatialindex-c4v5 libspatialindex-dev libspatialindex4v5\n",
            "  python3-pkg-resources\n",
            "Suggested packages:\n",
            "  python3-setuptools\n",
            "The following NEW packages will be installed:\n",
            "  libspatialindex-c4v5 libspatialindex-dev libspatialindex4v5\n",
            "  python3-pkg-resources python3-rtree\n",
            "0 upgraded, 5 newly installed, 0 to remove and 40 not upgraded.\n",
            "Need to get 671 kB of archives.\n",
            "After this operation, 3,948 kB of additional disk space will be used.\n",
            "Get:1 http://archive.ubuntu.com/ubuntu bionic/universe amd64 libspatialindex4v5 amd64 1.8.5-5 [219 kB]\n",
            "Get:2 http://archive.ubuntu.com/ubuntu bionic/universe amd64 libspatialindex-c4v5 amd64 1.8.5-5 [51.7 kB]\n",
            "Get:3 http://archive.ubuntu.com/ubuntu bionic/main amd64 python3-pkg-resources all 39.0.1-2 [98.8 kB]\n",
            "Get:4 http://archive.ubuntu.com/ubuntu bionic/universe amd64 libspatialindex-dev amd64 1.8.5-5 [285 kB]\n",
            "Get:5 http://archive.ubuntu.com/ubuntu bionic/universe amd64 python3-rtree all 0.8.3+ds-1 [16.9 kB]\n",
            "Fetched 671 kB in 1s (503 kB/s)\n",
            "Selecting previously unselected package libspatialindex4v5:amd64.\n",
            "(Reading database ... 148899 files and directories currently installed.)\n",
            "Preparing to unpack .../libspatialindex4v5_1.8.5-5_amd64.deb ...\n",
            "Unpacking libspatialindex4v5:amd64 (1.8.5-5) ...\n",
            "Selecting previously unselected package libspatialindex-c4v5:amd64.\n",
            "Preparing to unpack .../libspatialindex-c4v5_1.8.5-5_amd64.deb ...\n",
            "Unpacking libspatialindex-c4v5:amd64 (1.8.5-5) ...\n",
            "Selecting previously unselected package python3-pkg-resources.\n",
            "Preparing to unpack .../python3-pkg-resources_39.0.1-2_all.deb ...\n",
            "Unpacking python3-pkg-resources (39.0.1-2) ...\n",
            "Selecting previously unselected package libspatialindex-dev:amd64.\n",
            "Preparing to unpack .../libspatialindex-dev_1.8.5-5_amd64.deb ...\n",
            "Unpacking libspatialindex-dev:amd64 (1.8.5-5) ...\n",
            "Selecting previously unselected package python3-rtree.\n",
            "Preparing to unpack .../python3-rtree_0.8.3+ds-1_all.deb ...\n",
            "Unpacking python3-rtree (0.8.3+ds-1) ...\n",
            "Setting up libspatialindex4v5:amd64 (1.8.5-5) ...\n",
            "Setting up python3-pkg-resources (39.0.1-2) ...\n",
            "Setting up libspatialindex-c4v5:amd64 (1.8.5-5) ...\n",
            "Setting up libspatialindex-dev:amd64 (1.8.5-5) ...\n",
            "Setting up python3-rtree (0.8.3+ds-1) ...\n",
            "Processing triggers for libc-bin (2.27-3ubuntu1.2) ...\n",
            "/sbin/ldconfig.real: /usr/local/lib/python3.7/dist-packages/ideep4py/lib/libmkldnn.so.0 is not a symbolic link\n",
            "\n",
            "Collecting git+git://github.com/geopandas/geopandas.git\n",
            "  Cloning git://github.com/geopandas/geopandas.git to /tmp/pip-req-build-wfz2ljn3\n",
            "  Running command git clone -q git://github.com/geopandas/geopandas.git /tmp/pip-req-build-wfz2ljn3\n",
            "Requirement already satisfied: pandas>=0.25.0 in /usr/local/lib/python3.7/dist-packages (from geopandas==0.9.0+71.g9f5413f) (1.1.5)\n",
            "Requirement already satisfied: shapely>=1.6 in /usr/local/lib/python3.7/dist-packages (from geopandas==0.9.0+71.g9f5413f) (1.7.1)\n",
            "Collecting fiona>=1.8\n",
            "  Downloading Fiona-1.8.20-cp37-cp37m-manylinux1_x86_64.whl (15.4 MB)\n",
            "\u001b[K     |████████████████████████████████| 15.4 MB 37 kB/s \n",
            "\u001b[?25hCollecting pyproj>=2.2.0\n",
            "  Downloading pyproj-3.1.0-cp37-cp37m-manylinux2010_x86_64.whl (6.6 MB)\n",
            "\u001b[K     |████████████████████████████████| 6.6 MB 27.0 MB/s \n",
            "\u001b[?25hRequirement already satisfied: click>=4.0 in /usr/local/lib/python3.7/dist-packages (from fiona>=1.8->geopandas==0.9.0+71.g9f5413f) (7.1.2)\n",
            "Collecting cligj>=0.5\n",
            "  Downloading cligj-0.7.2-py3-none-any.whl (7.1 kB)\n",
            "Requirement already satisfied: certifi in /usr/local/lib/python3.7/dist-packages (from fiona>=1.8->geopandas==0.9.0+71.g9f5413f) (2021.5.30)\n",
            "Requirement already satisfied: six>=1.7 in /usr/local/lib/python3.7/dist-packages (from fiona>=1.8->geopandas==0.9.0+71.g9f5413f) (1.15.0)\n",
            "Requirement already satisfied: attrs>=17 in /usr/local/lib/python3.7/dist-packages (from fiona>=1.8->geopandas==0.9.0+71.g9f5413f) (21.2.0)\n",
            "Collecting click-plugins>=1.0\n",
            "  Downloading click_plugins-1.1.1-py2.py3-none-any.whl (7.5 kB)\n",
            "Collecting munch\n",
            "  Downloading munch-2.5.0-py2.py3-none-any.whl (10 kB)\n",
            "Requirement already satisfied: setuptools in /usr/local/lib/python3.7/dist-packages (from fiona>=1.8->geopandas==0.9.0+71.g9f5413f) (57.4.0)\n",
            "Requirement already satisfied: pytz>=2017.2 in /usr/local/lib/python3.7/dist-packages (from pandas>=0.25.0->geopandas==0.9.0+71.g9f5413f) (2018.9)\n",
            "Requirement already satisfied: python-dateutil>=2.7.3 in /usr/local/lib/python3.7/dist-packages (from pandas>=0.25.0->geopandas==0.9.0+71.g9f5413f) (2.8.2)\n",
            "Requirement already satisfied: numpy>=1.15.4 in /usr/local/lib/python3.7/dist-packages (from pandas>=0.25.0->geopandas==0.9.0+71.g9f5413f) (1.19.5)\n",
            "Building wheels for collected packages: geopandas\n",
            "  Building wheel for geopandas (setup.py) ... \u001b[?25l\u001b[?25hdone\n",
            "  Created wheel for geopandas: filename=geopandas-0.9.0+71.g9f5413f-py2.py3-none-any.whl size=999488 sha256=6469a370742b56bcc3a8c7dc9e4a9a65d4732036c3637be49c0ac3814ff0fc21\n",
            "  Stored in directory: /tmp/pip-ephem-wheel-cache-f3dk06gg/wheels/cf/3e/0b/6475054094c2b1ea054158ac1fdcf749fb92f5b512377e4cf8\n",
            "Successfully built geopandas\n",
            "Installing collected packages: munch, cligj, click-plugins, pyproj, fiona, geopandas\n",
            "Successfully installed click-plugins-1.1.1 cligj-0.7.2 fiona-1.8.20 geopandas-0.9.0+71.g9f5413f munch-2.5.0 pyproj-3.1.0\n",
            "Requirement already satisfied: descartes in /usr/local/lib/python3.7/dist-packages (1.1.0)\n",
            "Requirement already satisfied: matplotlib in /usr/local/lib/python3.7/dist-packages (from descartes) (3.2.2)\n",
            "Requirement already satisfied: pyparsing!=2.0.4,!=2.1.2,!=2.1.6,>=2.0.1 in /usr/local/lib/python3.7/dist-packages (from matplotlib->descartes) (2.4.7)\n",
            "Requirement already satisfied: numpy>=1.11 in /usr/local/lib/python3.7/dist-packages (from matplotlib->descartes) (1.19.5)\n",
            "Requirement already satisfied: python-dateutil>=2.1 in /usr/local/lib/python3.7/dist-packages (from matplotlib->descartes) (2.8.2)\n",
            "Requirement already satisfied: kiwisolver>=1.0.1 in /usr/local/lib/python3.7/dist-packages (from matplotlib->descartes) (1.3.1)\n",
            "Requirement already satisfied: cycler>=0.10 in /usr/local/lib/python3.7/dist-packages (from matplotlib->descartes) (0.10.0)\n",
            "Requirement already satisfied: six in /usr/local/lib/python3.7/dist-packages (from cycler>=0.10->matplotlib->descartes) (1.15.0)\n",
            "Requirement already satisfied: folium in /usr/local/lib/python3.7/dist-packages (0.8.3)\n",
            "Requirement already satisfied: requests in /usr/local/lib/python3.7/dist-packages (from folium) (2.23.0)\n",
            "Requirement already satisfied: six in /usr/local/lib/python3.7/dist-packages (from folium) (1.15.0)\n",
            "Requirement already satisfied: numpy in /usr/local/lib/python3.7/dist-packages (from folium) (1.19.5)\n",
            "Requirement already satisfied: branca>=0.3.0 in /usr/local/lib/python3.7/dist-packages (from folium) (0.4.2)\n",
            "Requirement already satisfied: jinja2 in /usr/local/lib/python3.7/dist-packages (from folium) (2.11.3)\n",
            "Requirement already satisfied: MarkupSafe>=0.23 in /usr/local/lib/python3.7/dist-packages (from jinja2->folium) (2.0.1)\n",
            "Requirement already satisfied: certifi>=2017.4.17 in /usr/local/lib/python3.7/dist-packages (from requests->folium) (2021.5.30)\n",
            "Requirement already satisfied: idna<3,>=2.5 in /usr/local/lib/python3.7/dist-packages (from requests->folium) (2.10)\n",
            "Requirement already satisfied: urllib3!=1.25.0,!=1.25.1,<1.26,>=1.21.1 in /usr/local/lib/python3.7/dist-packages (from requests->folium) (1.24.3)\n",
            "Requirement already satisfied: chardet<4,>=3.0.2 in /usr/local/lib/python3.7/dist-packages (from requests->folium) (3.0.4)\n",
            "Collecting plotly_express\n",
            "  Downloading plotly_express-0.4.1-py2.py3-none-any.whl (2.9 kB)\n",
            "Requirement already satisfied: statsmodels>=0.9.0 in /usr/local/lib/python3.7/dist-packages (from plotly_express) (0.10.2)\n",
            "Requirement already satisfied: plotly>=4.1.0 in /usr/local/lib/python3.7/dist-packages (from plotly_express) (4.4.1)\n",
            "Requirement already satisfied: numpy>=1.11 in /usr/local/lib/python3.7/dist-packages (from plotly_express) (1.19.5)\n",
            "Requirement already satisfied: pandas>=0.20.0 in /usr/local/lib/python3.7/dist-packages (from plotly_express) (1.1.5)\n",
            "Requirement already satisfied: patsy>=0.5 in /usr/local/lib/python3.7/dist-packages (from plotly_express) (0.5.1)\n",
            "Requirement already satisfied: scipy>=0.18 in /usr/local/lib/python3.7/dist-packages (from plotly_express) (1.4.1)\n",
            "Requirement already satisfied: pytz>=2017.2 in /usr/local/lib/python3.7/dist-packages (from pandas>=0.20.0->plotly_express) (2018.9)\n",
            "Requirement already satisfied: python-dateutil>=2.7.3 in /usr/local/lib/python3.7/dist-packages (from pandas>=0.20.0->plotly_express) (2.8.2)\n",
            "Requirement already satisfied: six in /usr/local/lib/python3.7/dist-packages (from patsy>=0.5->plotly_express) (1.15.0)\n",
            "Requirement already satisfied: retrying>=1.3.3 in /usr/local/lib/python3.7/dist-packages (from plotly>=4.1.0->plotly_express) (1.3.3)\n",
            "Installing collected packages: plotly-express\n",
            "Successfully installed plotly-express-0.4.1\n",
            "CPU times: user 391 ms, sys: 90.3 ms, total: 481 ms\n",
            "Wall time: 42 s\n"
          ]
        }
      ]
    },
    {
      "cell_type": "code",
      "metadata": {
        "colab": {
          "base_uri": "https://localhost:8080/"
        },
        "id": "Khxw02_ANg07",
        "outputId": "7cd56616-8a64-432f-f666-e4d99b6afc3f"
      },
      "source": [
        "pip install Shapely"
      ],
      "execution_count": 2,
      "outputs": [
        {
          "output_type": "stream",
          "name": "stdout",
          "text": [
            "Requirement already satisfied: Shapely in /usr/local/lib/python3.7/dist-packages (1.7.1)\n"
          ]
        }
      ]
    },
    {
      "cell_type": "code",
      "metadata": {
        "colab": {
          "base_uri": "https://localhost:8080/"
        },
        "id": "LVg8vw9tNjKd",
        "outputId": "414af2ba-cd14-4af6-d1a6-052eeef4ae3e"
      },
      "source": [
        "from shapely.geometry import Point\n",
        "import pandas as pd\n",
        "import numpy as np\n",
        "import geopandas as gpd\n",
        "import matplotlib\n",
        "import matplotlib.pyplot as plt \n",
        "import folium\n",
        "import plotly_express as px\n",
        "from google.colab import drive\n",
        "from IPython.display import display\n",
        "drive.mount('/content/drive')"
      ],
      "execution_count": 3,
      "outputs": [
        {
          "output_type": "stream",
          "name": "stdout",
          "text": [
            "Mounted at /content/drive\n"
          ]
        }
      ]
    },
    {
      "cell_type": "code",
      "metadata": {
        "colab": {
          "base_uri": "https://localhost:8080/"
        },
        "id": "ZjG81NE9Nrrq",
        "outputId": "e4c1117e-d45c-4c63-d0f7-156c87dbe363"
      },
      "source": [
        "pip install pyproj"
      ],
      "execution_count": 4,
      "outputs": [
        {
          "output_type": "stream",
          "name": "stdout",
          "text": [
            "Requirement already satisfied: pyproj in /usr/local/lib/python3.7/dist-packages (3.1.0)\n",
            "Requirement already satisfied: certifi in /usr/local/lib/python3.7/dist-packages (from pyproj) (2021.5.30)\n"
          ]
        }
      ]
    },
    {
      "cell_type": "markdown",
      "metadata": {
        "id": "dGWGVaf_NtfO"
      },
      "source": [
        "#Read file"
      ]
    },
    {
      "cell_type": "code",
      "metadata": {
        "id": "PkyIwZpGNu3c"
      },
      "source": [
        "Province_Boundary = \"/content/drive/My Drive/2 Boundary/1-1_Province_Boundary_-_mitrearth.shp\"\n",
        "Province_Point = \"/content/drive/My Drive/2 Boundary/2_Province_Point_-_mitrearth.shp\"\n",
        "District_Boundary = \"/content/drive/My Drive/2 Boundary/3_District_Boundary_-_mitrearth.shp\"\n",
        "District_Point = \"/content/drive/My Drive/2 Boundary/4_District_Point_-_mitrearth.shp\""
      ],
      "execution_count": 5,
      "outputs": []
    },
    {
      "cell_type": "code",
      "metadata": {
        "id": "90V4BLWTN5cY"
      },
      "source": [
        "province = gpd.read_file(Province_Boundary)\n",
        "provincePoint = gpd.read_file(Province_Point)\n",
        "district = gpd.read_file(District_Boundary)\n",
        "districtPoint = gpd.read_file(District_Point)"
      ],
      "execution_count": 6,
      "outputs": []
    },
    {
      "cell_type": "markdown",
      "metadata": {
        "id": "obMomks9OKkt"
      },
      "source": [
        "#Sample Data"
      ]
    },
    {
      "cell_type": "code",
      "metadata": {
        "colab": {
          "base_uri": "https://localhost:8080/",
          "height": 289
        },
        "id": "D_lFZoorONaX",
        "outputId": "1c372783-51a0-4320-be53-a392baf176cc"
      },
      "source": [
        "province.head()"
      ],
      "execution_count": 10,
      "outputs": [
        {
          "output_type": "execute_result",
          "data": {
            "text/html": [
              "<div>\n",
              "<style scoped>\n",
              "    .dataframe tbody tr th:only-of-type {\n",
              "        vertical-align: middle;\n",
              "    }\n",
              "\n",
              "    .dataframe tbody tr th {\n",
              "        vertical-align: top;\n",
              "    }\n",
              "\n",
              "    .dataframe thead th {\n",
              "        text-align: right;\n",
              "    }\n",
              "</style>\n",
              "<table border=\"1\" class=\"dataframe\">\n",
              "  <thead>\n",
              "    <tr style=\"text-align: right;\">\n",
              "      <th></th>\n",
              "      <th>LAYER</th>\n",
              "      <th>AREA</th>\n",
              "      <th>PERIMETER</th>\n",
              "      <th>THAI_BND_</th>\n",
              "      <th>THAI_BND_I</th>\n",
              "      <th>PROV_CODE</th>\n",
              "      <th>PROV_NAME</th>\n",
              "      <th>PROV_THAI</th>\n",
              "      <th>PART</th>\n",
              "      <th>REC_NO</th>\n",
              "      <th>geometry</th>\n",
              "    </tr>\n",
              "  </thead>\n",
              "  <tbody>\n",
              "    <tr>\n",
              "      <th>0</th>\n",
              "      <td>Unknown Area Type</td>\n",
              "      <td>220000.0</td>\n",
              "      <td>669905.5000</td>\n",
              "      <td>2</td>\n",
              "      <td>210</td>\n",
              "      <td>12</td>\n",
              "      <td>CHIANG RAI</td>\n",
              "      <td>เชียง</td>\n",
              "      <td>N</td>\n",
              "      <td>1</td>\n",
              "      <td>POLYGON ((99.51149 20.15202, 99.51826 20.15514...</td>\n",
              "    </tr>\n",
              "    <tr>\n",
              "      <th>1</th>\n",
              "      <td>Unknown Area Type</td>\n",
              "      <td>500000.0</td>\n",
              "      <td>276493.0000</td>\n",
              "      <td>3</td>\n",
              "      <td>211</td>\n",
              "      <td>13</td>\n",
              "      <td>CHIANG MAI</td>\n",
              "      <td>เชียง</td>\n",
              "      <td>N</td>\n",
              "      <td>2</td>\n",
              "      <td>POLYGON ((98.47065 19.69139, 98.47547 19.69226...</td>\n",
              "    </tr>\n",
              "    <tr>\n",
              "      <th>2</th>\n",
              "      <td>Unknown Area Type</td>\n",
              "      <td>650000.0</td>\n",
              "      <td>939088.3125</td>\n",
              "      <td>4</td>\n",
              "      <td>212</td>\n",
              "      <td>43</td>\n",
              "      <td>MAE HONG SON</td>\n",
              "      <td>แม่ฮ่</td>\n",
              "      <td>N</td>\n",
              "      <td>3</td>\n",
              "      <td>POLYGON ((97.49681 18.49784, 97.49754 18.49740...</td>\n",
              "    </tr>\n",
              "    <tr>\n",
              "      <th>3</th>\n",
              "      <td>Unknown Area Type</td>\n",
              "      <td>50000.0</td>\n",
              "      <td>424450.6875</td>\n",
              "      <td>5</td>\n",
              "      <td>213</td>\n",
              "      <td>72</td>\n",
              "      <td>PHAYAO</td>\n",
              "      <td>พะเยา</td>\n",
              "      <td>N</td>\n",
              "      <td>4</td>\n",
              "      <td>POLYGON ((100.40893 19.73584, 100.41494 19.732...</td>\n",
              "    </tr>\n",
              "    <tr>\n",
              "      <th>4</th>\n",
              "      <td>Unknown Area Type</td>\n",
              "      <td>610000.0</td>\n",
              "      <td>695939.5000</td>\n",
              "      <td>6</td>\n",
              "      <td>214</td>\n",
              "      <td>26</td>\n",
              "      <td>NAN</td>\n",
              "      <td>น่าน</td>\n",
              "      <td>N</td>\n",
              "      <td>5</td>\n",
              "      <td>POLYGON ((100.34017 18.80729, 100.34279 18.815...</td>\n",
              "    </tr>\n",
              "  </tbody>\n",
              "</table>\n",
              "</div>"
            ],
            "text/plain": [
              "               LAYER  ...                                           geometry\n",
              "0  Unknown Area Type  ...  POLYGON ((99.51149 20.15202, 99.51826 20.15514...\n",
              "1  Unknown Area Type  ...  POLYGON ((98.47065 19.69139, 98.47547 19.69226...\n",
              "2  Unknown Area Type  ...  POLYGON ((97.49681 18.49784, 97.49754 18.49740...\n",
              "3  Unknown Area Type  ...  POLYGON ((100.40893 19.73584, 100.41494 19.732...\n",
              "4  Unknown Area Type  ...  POLYGON ((100.34017 18.80729, 100.34279 18.815...\n",
              "\n",
              "[5 rows x 11 columns]"
            ]
          },
          "metadata": {},
          "execution_count": 10
        }
      ]
    },
    {
      "cell_type": "code",
      "metadata": {
        "colab": {
          "base_uri": "https://localhost:8080/"
        },
        "id": "qWLbT7-oOWWt",
        "outputId": "ffa51176-314b-4f43-fe66-08234c939222"
      },
      "source": [
        "len(province)"
      ],
      "execution_count": 11,
      "outputs": [
        {
          "output_type": "execute_result",
          "data": {
            "text/plain": [
              "208"
            ]
          },
          "metadata": {},
          "execution_count": 11
        }
      ]
    },
    {
      "cell_type": "code",
      "metadata": {
        "colab": {
          "base_uri": "https://localhost:8080/",
          "height": 204
        },
        "id": "4ca08cFJOYul",
        "outputId": "57b2c213-0095-4ba1-878b-23984917de8f"
      },
      "source": [
        "provincePoint.head()"
      ],
      "execution_count": 12,
      "outputs": [
        {
          "output_type": "execute_result",
          "data": {
            "text/html": [
              "<div>\n",
              "<style scoped>\n",
              "    .dataframe tbody tr th:only-of-type {\n",
              "        vertical-align: middle;\n",
              "    }\n",
              "\n",
              "    .dataframe tbody tr th {\n",
              "        vertical-align: top;\n",
              "    }\n",
              "\n",
              "    .dataframe thead th {\n",
              "        text-align: right;\n",
              "    }\n",
              "</style>\n",
              "<table border=\"1\" class=\"dataframe\">\n",
              "  <thead>\n",
              "    <tr style=\"text-align: right;\">\n",
              "      <th></th>\n",
              "      <th>LONGITUDE</th>\n",
              "      <th>LATITUDE</th>\n",
              "      <th>CHWT_CODE</th>\n",
              "      <th>AMP_THAI</th>\n",
              "      <th>AMP_ENG</th>\n",
              "      <th>geometry</th>\n",
              "    </tr>\n",
              "  </thead>\n",
              "  <tbody>\n",
              "    <tr>\n",
              "      <th>0</th>\n",
              "      <td>100.498497</td>\n",
              "      <td>13.758519</td>\n",
              "      <td>1</td>\n",
              "      <td>กรุงเ</td>\n",
              "      <td>Bangkok</td>\n",
              "      <td>POINT (100.49850 13.75852)</td>\n",
              "    </tr>\n",
              "    <tr>\n",
              "      <th>1</th>\n",
              "      <td>98.921410</td>\n",
              "      <td>8.054342</td>\n",
              "      <td>2</td>\n",
              "      <td>กระบี</td>\n",
              "      <td>Krabi</td>\n",
              "      <td>POINT (98.92141 8.05434)</td>\n",
              "    </tr>\n",
              "    <tr>\n",
              "      <th>2</th>\n",
              "      <td>99.553276</td>\n",
              "      <td>14.001893</td>\n",
              "      <td>3</td>\n",
              "      <td>กาญจน</td>\n",
              "      <td>Kanchanaburi</td>\n",
              "      <td>POINT (99.55328 14.00189)</td>\n",
              "    </tr>\n",
              "    <tr>\n",
              "      <th>3</th>\n",
              "      <td>103.509636</td>\n",
              "      <td>16.430960</td>\n",
              "      <td>4</td>\n",
              "      <td>กาฬสิ</td>\n",
              "      <td>Kalasin</td>\n",
              "      <td>POINT (103.50964 16.43096)</td>\n",
              "    </tr>\n",
              "    <tr>\n",
              "      <th>4</th>\n",
              "      <td>99.523453</td>\n",
              "      <td>16.482052</td>\n",
              "      <td>5</td>\n",
              "      <td>กำแพง</td>\n",
              "      <td>Kamphaengphet</td>\n",
              "      <td>POINT (99.52345 16.48205)</td>\n",
              "    </tr>\n",
              "  </tbody>\n",
              "</table>\n",
              "</div>"
            ],
            "text/plain": [
              "    LONGITUDE   LATITUDE  ...        AMP_ENG                    geometry\n",
              "0  100.498497  13.758519  ...        Bangkok  POINT (100.49850 13.75852)\n",
              "1   98.921410   8.054342  ...          Krabi    POINT (98.92141 8.05434)\n",
              "2   99.553276  14.001893  ...   Kanchanaburi   POINT (99.55328 14.00189)\n",
              "3  103.509636  16.430960  ...        Kalasin  POINT (103.50964 16.43096)\n",
              "4   99.523453  16.482052  ...  Kamphaengphet   POINT (99.52345 16.48205)\n",
              "\n",
              "[5 rows x 6 columns]"
            ]
          },
          "metadata": {},
          "execution_count": 12
        }
      ]
    },
    {
      "cell_type": "code",
      "metadata": {
        "colab": {
          "base_uri": "https://localhost:8080/"
        },
        "id": "QVZOMtAZOcAx",
        "outputId": "5774b237-2a1e-4021-9534-36437f8b63cd"
      },
      "source": [
        "len(provincePoint)"
      ],
      "execution_count": 13,
      "outputs": [
        {
          "output_type": "execute_result",
          "data": {
            "text/plain": [
              "74"
            ]
          },
          "metadata": {},
          "execution_count": 13
        }
      ]
    },
    {
      "cell_type": "markdown",
      "metadata": {
        "id": "vp9x7YsSODd-"
      },
      "source": [
        "#Filter NE"
      ]
    },
    {
      "cell_type": "code",
      "metadata": {
        "colab": {
          "base_uri": "https://localhost:8080/"
        },
        "id": "DJ1eT_yjN_9R",
        "outputId": "2c939b3a-552d-432e-c54a-26c8121f56bc"
      },
      "source": [
        "ne_district = [68,54,56,70,20,75,4,6,43,11,42,47,45,76,73,21,27,55,67]\n",
        "NE = np.array(ne_district)\n",
        "NE"
      ],
      "execution_count": 17,
      "outputs": [
        {
          "output_type": "execute_result",
          "data": {
            "text/plain": [
              "array([68, 54, 56, 70, 20, 75,  4,  6, 43, 11, 42, 47, 45, 76, 73, 21, 27,\n",
              "       55, 67])"
            ]
          },
          "metadata": {},
          "execution_count": 17
        }
      ]
    },
    {
      "cell_type": "code",
      "metadata": {
        "id": "dWn63GMQOFVe"
      },
      "source": [
        "frame = []\n",
        "for code in NE:\n",
        "  df = pd.DataFrame()\n",
        "  df = districtPoint[districtPoint.CHWT_CODE == code]\n",
        "  frame.append(df)\n",
        "\n",
        "districtPoint_NE = pd.DataFrame()\n",
        "districtPoint_NE = pd.concat(frame)"
      ],
      "execution_count": 18,
      "outputs": []
    },
    {
      "cell_type": "code",
      "metadata": {
        "id": "YyBy1t3tP6nn"
      },
      "source": [
        "districtPoint_NE.reset_index(inplace=True)"
      ],
      "execution_count": 33,
      "outputs": []
    },
    {
      "cell_type": "code",
      "metadata": {
        "colab": {
          "base_uri": "https://localhost:8080/",
          "height": 589
        },
        "id": "kqogP4kMP9ZY",
        "outputId": "ead54591-dc7e-4be7-f49e-48fbdda65090"
      },
      "source": [
        "districtPoint_NE.drop('index',axis=1)"
      ],
      "execution_count": 40,
      "outputs": [
        {
          "output_type": "execute_result",
          "data": {
            "text/html": [
              "<div>\n",
              "<style scoped>\n",
              "    .dataframe tbody tr th:only-of-type {\n",
              "        vertical-align: middle;\n",
              "    }\n",
              "\n",
              "    .dataframe tbody tr th {\n",
              "        vertical-align: top;\n",
              "    }\n",
              "\n",
              "    .dataframe thead th {\n",
              "        text-align: right;\n",
              "    }\n",
              "</style>\n",
              "<table border=\"1\" class=\"dataframe\">\n",
              "  <thead>\n",
              "    <tr style=\"text-align: right;\">\n",
              "      <th></th>\n",
              "      <th>LAYER</th>\n",
              "      <th>POINT_ID</th>\n",
              "      <th>AMP_CODE</th>\n",
              "      <th>CHWT_CODE</th>\n",
              "      <th>AMP_THAI</th>\n",
              "      <th>AMP_ENG</th>\n",
              "      <th>UTM_EAST</th>\n",
              "      <th>UTM_NORTH</th>\n",
              "      <th>LONGITUDE</th>\n",
              "      <th>LATITUDE</th>\n",
              "      <th>geometry</th>\n",
              "    </tr>\n",
              "  </thead>\n",
              "  <tbody>\n",
              "    <tr>\n",
              "      <th>0</th>\n",
              "      <td>Unknown Point Feature</td>\n",
              "      <td>744</td>\n",
              "      <td>6801</td>\n",
              "      <td>68</td>\n",
              "      <td>อำเภอเมื</td>\n",
              "      <td>Muang Nong Khai</td>\n",
              "      <td>896655.44</td>\n",
              "      <td>1980484.38</td>\n",
              "      <td>102.742081</td>\n",
              "      <td>17.877415</td>\n",
              "      <td>POINT (102.73903 17.87915)</td>\n",
              "    </tr>\n",
              "    <tr>\n",
              "      <th>1</th>\n",
              "      <td>Unknown Point Feature</td>\n",
              "      <td>745</td>\n",
              "      <td>6802</td>\n",
              "      <td>68</td>\n",
              "      <td>อำเภอเซก</td>\n",
              "      <td>Seka</td>\n",
              "      <td>1025381.38</td>\n",
              "      <td>1988877.13</td>\n",
              "      <td>103.955673</td>\n",
              "      <td>17.925933</td>\n",
              "      <td>POINT (103.95266 17.92768)</td>\n",
              "    </tr>\n",
              "    <tr>\n",
              "      <th>2</th>\n",
              "      <td>Unknown Point Feature</td>\n",
              "      <td>746</td>\n",
              "      <td>6803</td>\n",
              "      <td>68</td>\n",
              "      <td>อำเภอโซ่</td>\n",
              "      <td>So Phisai</td>\n",
              "      <td>971084.19</td>\n",
              "      <td>1996170.13</td>\n",
              "      <td>103.446358</td>\n",
              "      <td>18.004039</td>\n",
              "      <td>POINT (103.44333 18.00578)</td>\n",
              "    </tr>\n",
              "    <tr>\n",
              "      <th>3</th>\n",
              "      <td>Unknown Point Feature</td>\n",
              "      <td>747</td>\n",
              "      <td>6804</td>\n",
              "      <td>68</td>\n",
              "      <td>อำเภอท่า</td>\n",
              "      <td>Tha Bo</td>\n",
              "      <td>879983.44</td>\n",
              "      <td>1976903.13</td>\n",
              "      <td>102.584381</td>\n",
              "      <td>17.848063</td>\n",
              "      <td>POINT (102.58132 17.84980)</td>\n",
              "    </tr>\n",
              "    <tr>\n",
              "      <th>4</th>\n",
              "      <td>Unknown Point Feature</td>\n",
              "      <td>748</td>\n",
              "      <td>6805</td>\n",
              "      <td>68</td>\n",
              "      <td>อำเภอบึง</td>\n",
              "      <td>Bung Kan</td>\n",
              "      <td>992586.56</td>\n",
              "      <td>2036748.13</td>\n",
              "      <td>103.658539</td>\n",
              "      <td>18.364843</td>\n",
              "      <td>POINT (103.65551 18.36657)</td>\n",
              "    </tr>\n",
              "    <tr>\n",
              "      <th>...</th>\n",
              "      <td>...</td>\n",
              "      <td>...</td>\n",
              "      <td>...</td>\n",
              "      <td>...</td>\n",
              "      <td>...</td>\n",
              "      <td>...</td>\n",
              "      <td>...</td>\n",
              "      <td>...</td>\n",
              "      <td>...</td>\n",
              "      <td>...</td>\n",
              "      <td>...</td>\n",
              "    </tr>\n",
              "    <tr>\n",
              "      <th>281</th>\n",
              "      <td>Unknown Point Feature</td>\n",
              "      <td>739</td>\n",
              "      <td>6709</td>\n",
              "      <td>67</td>\n",
              "      <td>อำเภอลำด</td>\n",
              "      <td>Lamduan</td>\n",
              "      <td>1003891.31</td>\n",
              "      <td>1633168.88</td>\n",
              "      <td>103.676514</td>\n",
              "      <td>14.726113</td>\n",
              "      <td>POINT (103.67353 14.72801)</td>\n",
              "    </tr>\n",
              "    <tr>\n",
              "      <th>282</th>\n",
              "      <td>Unknown Point Feature</td>\n",
              "      <td>740</td>\n",
              "      <td>6710</td>\n",
              "      <td>67</td>\n",
              "      <td>อำเภอศรี</td>\n",
              "      <td>Srikhoraphum</td>\n",
              "      <td>1016107.13</td>\n",
              "      <td>1657627.63</td>\n",
              "      <td>103.794464</td>\n",
              "      <td>14.944171</td>\n",
              "      <td>POINT (103.79149 14.94606)</td>\n",
              "    </tr>\n",
              "    <tr>\n",
              "      <th>283</th>\n",
              "      <td>Unknown Point Feature</td>\n",
              "      <td>741</td>\n",
              "      <td>6711</td>\n",
              "      <td>67</td>\n",
              "      <td>อำเภอสนม</td>\n",
              "      <td>Sanom</td>\n",
              "      <td>1012256.19</td>\n",
              "      <td>1685498.38</td>\n",
              "      <td>103.764374</td>\n",
              "      <td>15.196043</td>\n",
              "      <td>POINT (103.76140 15.19792)</td>\n",
              "    </tr>\n",
              "    <tr>\n",
              "      <th>284</th>\n",
              "      <td>Unknown Point Feature</td>\n",
              "      <td>742</td>\n",
              "      <td>6712</td>\n",
              "      <td>67</td>\n",
              "      <td>อำเภอสัง</td>\n",
              "      <td>Sangkha</td>\n",
              "      <td>1023446.63</td>\n",
              "      <td>1623394.00</td>\n",
              "      <td>103.855591</td>\n",
              "      <td>14.634313</td>\n",
              "      <td>POINT (103.85263 14.63622)</td>\n",
              "    </tr>\n",
              "    <tr>\n",
              "      <th>285</th>\n",
              "      <td>Unknown Point Feature</td>\n",
              "      <td>743</td>\n",
              "      <td>6713</td>\n",
              "      <td>67</td>\n",
              "      <td>อำเภอสำโ</td>\n",
              "      <td>Samrong Thap</td>\n",
              "      <td>1031569.13</td>\n",
              "      <td>1666627.75</td>\n",
              "      <td>103.939590</td>\n",
              "      <td>15.022187</td>\n",
              "      <td>POINT (103.93662 15.02407)</td>\n",
              "    </tr>\n",
              "  </tbody>\n",
              "</table>\n",
              "<p>286 rows × 11 columns</p>\n",
              "</div>"
            ],
            "text/plain": [
              "                     LAYER  POINT_ID  ...   LATITUDE                    geometry\n",
              "0    Unknown Point Feature       744  ...  17.877415  POINT (102.73903 17.87915)\n",
              "1    Unknown Point Feature       745  ...  17.925933  POINT (103.95266 17.92768)\n",
              "2    Unknown Point Feature       746  ...  18.004039  POINT (103.44333 18.00578)\n",
              "3    Unknown Point Feature       747  ...  17.848063  POINT (102.58132 17.84980)\n",
              "4    Unknown Point Feature       748  ...  18.364843  POINT (103.65551 18.36657)\n",
              "..                     ...       ...  ...        ...                         ...\n",
              "281  Unknown Point Feature       739  ...  14.726113  POINT (103.67353 14.72801)\n",
              "282  Unknown Point Feature       740  ...  14.944171  POINT (103.79149 14.94606)\n",
              "283  Unknown Point Feature       741  ...  15.196043  POINT (103.76140 15.19792)\n",
              "284  Unknown Point Feature       742  ...  14.634313  POINT (103.85263 14.63622)\n",
              "285  Unknown Point Feature       743  ...  15.022187  POINT (103.93662 15.02407)\n",
              "\n",
              "[286 rows x 11 columns]"
            ]
          },
          "metadata": {},
          "execution_count": 40
        }
      ]
    },
    {
      "cell_type": "code",
      "metadata": {
        "colab": {
          "base_uri": "https://localhost:8080/"
        },
        "id": "_q4nfYRnR-xw",
        "outputId": "6ef3afe5-03cf-45e3-afc7-feea138a1859"
      },
      "source": [
        "districtPoint.geometry"
      ],
      "execution_count": 120,
      "outputs": [
        {
          "output_type": "execute_result",
          "data": {
            "text/plain": [
              "0      POINT (100.49544 13.76043)\n",
              "1      POINT (100.58599 13.70653)\n",
              "2      POINT (100.50931 13.73133)\n",
              "3      POINT (100.57091 13.83010)\n",
              "4      POINT (100.48173 13.69669)\n",
              "                  ...            \n",
              "838    POINT (104.91552 15.88797)\n",
              "839    POINT (104.84142 15.68261)\n",
              "840    POINT (104.64663 15.69775)\n",
              "841    POINT (104.66670 16.03924)\n",
              "842    POINT (104.49125 15.69708)\n",
              "Name: geometry, Length: 843, dtype: geometry"
            ]
          },
          "metadata": {},
          "execution_count": 120
        }
      ]
    },
    {
      "cell_type": "code",
      "metadata": {
        "id": "lPq46lUPQMzP"
      },
      "source": [
        "lon = districtPoint_NE.geometry.x\n",
        "lat = districtPoint_NE.geometry.y\n",
        "coord = list(zip(lon,lat))"
      ],
      "execution_count": 123,
      "outputs": []
    },
    {
      "cell_type": "markdown",
      "metadata": {
        "id": "gce5Wd4cW9Jo"
      },
      "source": [
        "#Plot"
      ]
    },
    {
      "cell_type": "code",
      "metadata": {
        "colab": {
          "base_uri": "https://localhost:8080/",
          "height": 763
        },
        "id": "5uiYfXwOT33D",
        "outputId": "ee2389d8-08f3-4e2b-da59-889a006f0519"
      },
      "source": [
        "mapit = folium.Map( location=[ 17.87914890447798,102.7390305957055], zoom_start=6 )\n",
        "for lon,lat in coord:\n",
        "    folium.Marker( location=[ lat, lon ] ).add_to( mapit )\n",
        "display(mapit)"
      ],
      "execution_count": 131,
      "outputs": [
        {
          "output_type": "display_data",
          "data": {
            "text/html": [
              "<div style=\"width:100%;\"><div style=\"position:relative;width:100%;height:0;padding-bottom:60%;\"><span style=\"color:#565656\">Make this Notebook Trusted to load map: File -> Trust Notebook</span><iframe src=\"about:blank\" style=\"position:absolute;width:100%;height:100%;left:0;top:0;border:none !important;\" data-html=%3C%21DOCTYPE%20html%3E%0A%3Chead%3E%20%20%20%20%0A%20%20%20%20%3Cmeta%20http-equiv%3D%22content-type%22%20content%3D%22text/html%3B%20charset%3DUTF-8%22%20/%3E%0A%20%20%20%20%3Cscript%3EL_PREFER_CANVAS%3Dfalse%3B%20L_NO_TOUCH%3Dfalse%3B%20L_DISABLE_3D%3Dfalse%3B%3C/script%3E%0A%20%20%20%20%3Cscript%20src%3D%22https%3A//cdn.jsdelivr.net/npm/leaflet%401.4.0/dist/leaflet.js%22%3E%3C/script%3E%0A%20%20%20%20%3Cscript%20src%3D%22https%3A//code.jquery.com/jquery-1.12.4.min.js%22%3E%3C/script%3E%0A%20%20%20%20%3Cscript%20src%3D%22https%3A//maxcdn.bootstrapcdn.com/bootstrap/3.2.0/js/bootstrap.min.js%22%3E%3C/script%3E%0A%20%20%20%20%3Cscript%20src%3D%22https%3A//cdnjs.cloudflare.com/ajax/libs/Leaflet.awesome-markers/2.0.2/leaflet.awesome-markers.js%22%3E%3C/script%3E%0A%20%20%20%20%3Clink%20rel%3D%22stylesheet%22%20href%3D%22https%3A//cdn.jsdelivr.net/npm/leaflet%401.4.0/dist/leaflet.css%22/%3E%0A%20%20%20%20%3Clink%20rel%3D%22stylesheet%22%20href%3D%22https%3A//maxcdn.bootstrapcdn.com/bootstrap/3.2.0/css/bootstrap.min.css%22/%3E%0A%20%20%20%20%3Clink%20rel%3D%22stylesheet%22%20href%3D%22https%3A//maxcdn.bootstrapcdn.com/bootstrap/3.2.0/css/bootstrap-theme.min.css%22/%3E%0A%20%20%20%20%3Clink%20rel%3D%22stylesheet%22%20href%3D%22https%3A//maxcdn.bootstrapcdn.com/font-awesome/4.6.3/css/font-awesome.min.css%22/%3E%0A%20%20%20%20%3Clink%20rel%3D%22stylesheet%22%20href%3D%22https%3A//cdnjs.cloudflare.com/ajax/libs/Leaflet.awesome-markers/2.0.2/leaflet.awesome-markers.css%22/%3E%0A%20%20%20%20%3Clink%20rel%3D%22stylesheet%22%20href%3D%22https%3A//rawcdn.githack.com/python-visualization/folium/master/folium/templates/leaflet.awesome.rotate.css%22/%3E%0A%20%20%20%20%3Cstyle%3Ehtml%2C%20body%20%7Bwidth%3A%20100%25%3Bheight%3A%20100%25%3Bmargin%3A%200%3Bpadding%3A%200%3B%7D%3C/style%3E%0A%20%20%20%20%3Cstyle%3E%23map%20%7Bposition%3Aabsolute%3Btop%3A0%3Bbottom%3A0%3Bright%3A0%3Bleft%3A0%3B%7D%3C/style%3E%0A%20%20%20%20%0A%20%20%20%20%3Cmeta%20name%3D%22viewport%22%20content%3D%22width%3Ddevice-width%2C%0A%20%20%20%20%20%20%20%20initial-scale%3D1.0%2C%20maximum-scale%3D1.0%2C%20user-scalable%3Dno%22%20/%3E%0A%20%20%20%20%3Cstyle%3E%23map_6c9341ff0c0447b7ae4de7498e5306b4%20%7B%0A%20%20%20%20%20%20%20%20position%3A%20relative%3B%0A%20%20%20%20%20%20%20%20width%3A%20100.0%25%3B%0A%20%20%20%20%20%20%20%20height%3A%20100.0%25%3B%0A%20%20%20%20%20%20%20%20left%3A%200.0%25%3B%0A%20%20%20%20%20%20%20%20top%3A%200.0%25%3B%0A%20%20%20%20%20%20%20%20%7D%0A%20%20%20%20%3C/style%3E%0A%3C/head%3E%0A%3Cbody%3E%20%20%20%20%0A%20%20%20%20%0A%20%20%20%20%3Cdiv%20class%3D%22folium-map%22%20id%3D%22map_6c9341ff0c0447b7ae4de7498e5306b4%22%20%3E%3C/div%3E%0A%3C/body%3E%0A%3Cscript%3E%20%20%20%20%0A%20%20%20%20%0A%20%20%20%20%0A%20%20%20%20%20%20%20%20var%20bounds%20%3D%20null%3B%0A%20%20%20%20%0A%0A%20%20%20%20var%20map_6c9341ff0c0447b7ae4de7498e5306b4%20%3D%20L.map%28%0A%20%20%20%20%20%20%20%20%27map_6c9341ff0c0447b7ae4de7498e5306b4%27%2C%20%7B%0A%20%20%20%20%20%20%20%20center%3A%20%5B17.87914890447798%2C%20102.7390305957055%5D%2C%0A%20%20%20%20%20%20%20%20zoom%3A%206%2C%0A%20%20%20%20%20%20%20%20maxBounds%3A%20bounds%2C%0A%20%20%20%20%20%20%20%20layers%3A%20%5B%5D%2C%0A%20%20%20%20%20%20%20%20worldCopyJump%3A%20false%2C%0A%20%20%20%20%20%20%20%20crs%3A%20L.CRS.EPSG3857%2C%0A%20%20%20%20%20%20%20%20zoomControl%3A%20true%2C%0A%20%20%20%20%20%20%20%20%7D%29%3B%0A%0A%0A%20%20%20%20%0A%20%20%20%20var%20tile_layer_a5d549b97cbe4361947093c0525dadde%20%3D%20L.tileLayer%28%0A%20%20%20%20%20%20%20%20%27https%3A//%7Bs%7D.tile.openstreetmap.org/%7Bz%7D/%7Bx%7D/%7By%7D.png%27%2C%0A%20%20%20%20%20%20%20%20%7B%0A%20%20%20%20%20%20%20%20%22attribution%22%3A%20null%2C%0A%20%20%20%20%20%20%20%20%22detectRetina%22%3A%20false%2C%0A%20%20%20%20%20%20%20%20%22maxNativeZoom%22%3A%2018%2C%0A%20%20%20%20%20%20%20%20%22maxZoom%22%3A%2018%2C%0A%20%20%20%20%20%20%20%20%22minZoom%22%3A%200%2C%0A%20%20%20%20%20%20%20%20%22noWrap%22%3A%20false%2C%0A%20%20%20%20%20%20%20%20%22opacity%22%3A%201%2C%0A%20%20%20%20%20%20%20%20%22subdomains%22%3A%20%22abc%22%2C%0A%20%20%20%20%20%20%20%20%22tms%22%3A%20false%0A%7D%29.addTo%28map_6c9341ff0c0447b7ae4de7498e5306b4%29%3B%0A%20%20%20%20%0A%20%20%20%20%20%20%20%20var%20marker_abb1525f0821411184c12b02084ac75e%20%3D%20L.marker%28%0A%20%20%20%20%20%20%20%20%20%20%20%20%5B17.87914890447798%2C%20102.7390305957055%5D%2C%0A%20%20%20%20%20%20%20%20%20%20%20%20%7B%0A%20%20%20%20%20%20%20%20%20%20%20%20%20%20%20%20icon%3A%20new%20L.Icon.Default%28%29%2C%0A%20%20%20%20%20%20%20%20%20%20%20%20%20%20%20%20%7D%0A%20%20%20%20%20%20%20%20%20%20%20%20%29.addTo%28map_6c9341ff0c0447b7ae4de7498e5306b4%29%3B%0A%20%20%20%20%20%20%20%20%0A%20%20%20%20%0A%20%20%20%20%20%20%20%20var%20marker_1e29c1ea293e40ff900dc1b826b2542f%20%3D%20L.marker%28%0A%20%20%20%20%20%20%20%20%20%20%20%20%5B17.92768255269559%2C%20103.95265911620042%5D%2C%0A%20%20%20%20%20%20%20%20%20%20%20%20%7B%0A%20%20%20%20%20%20%20%20%20%20%20%20%20%20%20%20icon%3A%20new%20L.Icon.Default%28%29%2C%0A%20%20%20%20%20%20%20%20%20%20%20%20%20%20%20%20%7D%0A%20%20%20%20%20%20%20%20%20%20%20%20%29.addTo%28map_6c9341ff0c0447b7ae4de7498e5306b4%29%3B%0A%20%20%20%20%20%20%20%20%0A%20%20%20%20%0A%20%20%20%20%20%20%20%20var%20marker_151201bbad0d43f49c4ac63a939922a7%20%3D%20L.marker%28%0A%20%20%20%20%20%20%20%20%20%20%20%20%5B18.00577704397454%2C%20103.44332528822132%5D%2C%0A%20%20%20%20%20%20%20%20%20%20%20%20%7B%0A%20%20%20%20%20%20%20%20%20%20%20%20%20%20%20%20icon%3A%20new%20L.Icon.Default%28%29%2C%0A%20%20%20%20%20%20%20%20%20%20%20%20%20%20%20%20%7D%0A%20%20%20%20%20%20%20%20%20%20%20%20%29.addTo%28map_6c9341ff0c0447b7ae4de7498e5306b4%29%3B%0A%20%20%20%20%20%20%20%20%0A%20%20%20%20%0A%20%20%20%20%20%20%20%20var%20marker_05f9e3d8a9014f239a85b7a50f871327%20%3D%20L.marker%28%0A%20%20%20%20%20%20%20%20%20%20%20%20%5B17.849795677574%2C%20102.58132370075234%5D%2C%0A%20%20%20%20%20%20%20%20%20%20%20%20%7B%0A%20%20%20%20%20%20%20%20%20%20%20%20%20%20%20%20icon%3A%20new%20L.Icon.Default%28%29%2C%0A%20%20%20%20%20%20%20%20%20%20%20%20%20%20%20%20%7D%0A%20%20%20%20%20%20%20%20%20%20%20%20%29.addTo%28map_6c9341ff0c0447b7ae4de7498e5306b4%29%3B%0A%20%20%20%20%20%20%20%20%0A%20%20%20%20%0A%20%20%20%20%20%20%20%20var%20marker_a11b6ccc87904fd092c8400a5d33d1d9%20%3D%20L.marker%28%0A%20%20%20%20%20%20%20%20%20%20%20%20%5B18.36656733464334%2C%20103.65551150364553%5D%2C%0A%20%20%20%20%20%20%20%20%20%20%20%20%7B%0A%20%20%20%20%20%20%20%20%20%20%20%20%20%20%20%20icon%3A%20new%20L.Icon.Default%28%29%2C%0A%20%20%20%20%20%20%20%20%20%20%20%20%20%20%20%20%7D%0A%20%20%20%20%20%20%20%20%20%20%20%20%29.addTo%28map_6c9341ff0c0447b7ae4de7498e5306b4%29%3B%0A%20%20%20%20%20%20%20%20%0A%20%20%20%20%0A%20%20%20%20%20%20%20%20var%20marker_56d514b4d377457296ddecbef5d294ef%20%3D%20L.marker%28%0A%20%20%20%20%20%20%20%20%20%20%20%20%5B17.966295108015537%2C%20104.04459924797544%5D%2C%0A%20%20%20%20%20%20%20%20%20%20%20%20%7B%0A%20%20%20%20%20%20%20%20%20%20%20%20%20%20%20%20icon%3A%20new%20L.Icon.Default%28%29%2C%0A%20%20%20%20%20%20%20%20%20%20%20%20%20%20%20%20%7D%0A%20%20%20%20%20%20%20%20%20%20%20%20%29.addTo%28map_6c9341ff0c0447b7ae4de7498e5306b4%29%3B%0A%20%20%20%20%20%20%20%20%0A%20%20%20%20%0A%20%20%20%20%20%20%20%20var%20marker_39b60ebe63ed49ea8a2f41f86d883e4f%20%3D%20L.marker%28%0A%20%20%20%20%20%20%20%20%20%20%20%20%5B18.305310099978566%2C%20103.30464057539133%5D%2C%0A%20%20%20%20%20%20%20%20%20%20%20%20%7B%0A%20%20%20%20%20%20%20%20%20%20%20%20%20%20%20%20icon%3A%20new%20L.Icon.Default%28%29%2C%0A%20%20%20%20%20%20%20%20%20%20%20%20%20%20%20%20%7D%0A%20%20%20%20%20%20%20%20%20%20%20%20%29.addTo%28map_6c9341ff0c0447b7ae4de7498e5306b4%29%3B%0A%20%20%20%20%20%20%20%20%0A%20%20%20%20%0A%20%20%20%20%20%20%20%20var%20marker_fdf552da5ce74484bf9ba55f25f8cfdb%20%3D%20L.marker%28%0A%20%20%20%20%20%20%20%20%20%20%20%20%5B18.031587687772213%2C%20103.70908627780229%5D%2C%0A%20%20%20%20%20%20%20%20%20%20%20%20%7B%0A%20%20%20%20%20%20%20%20%20%20%20%20%20%20%20%20icon%3A%20new%20L.Icon.Default%28%29%2C%0A%20%20%20%20%20%20%20%20%20%20%20%20%20%20%20%20%7D%0A%20%20%20%20%20%20%20%20%20%20%20%20%29.addTo%28map_6c9341ff0c0447b7ae4de7498e5306b4%29%3B%0A%20%20%20%20%20%20%20%20%0A%20%20%20%20%0A%20%20%20%20%20%20%20%20var%20marker_1c834b9da2cf44c2811ff0b8d13290dc%20%3D%20L.marker%28%0A%20%20%20%20%20%20%20%20%20%20%20%20%5B18.026339827825566%2C%20103.07718479429717%5D%2C%0A%20%20%20%20%20%20%20%20%20%20%20%20%7B%0A%20%20%20%20%20%20%20%20%20%20%20%20%20%20%20%20icon%3A%20new%20L.Icon.Default%28%29%2C%0A%20%20%20%20%20%20%20%20%20%20%20%20%20%20%20%20%7D%0A%20%20%20%20%20%20%20%20%20%20%20%20%29.addTo%28map_6c9341ff0c0447b7ae4de7498e5306b4%29%3B%0A%20%20%20%20%20%20%20%20%0A%20%20%20%20%0A%20%20%20%20%20%20%20%20var%20marker_7f1f58ab8e7f443a93f8233e9ab78d43%20%3D%20L.marker%28%0A%20%20%20%20%20%20%20%20%20%20%20%20%5B17.956560938029813%2C%20102.58893498119376%5D%2C%0A%20%20%20%20%20%20%20%20%20%20%20%20%7B%0A%20%20%20%20%20%20%20%20%20%20%20%20%20%20%20%20icon%3A%20new%20L.Icon.Default%28%29%2C%0A%20%20%20%20%20%20%20%20%20%20%20%20%20%20%20%20%7D%0A%20%20%20%20%20%20%20%20%20%20%20%20%29.addTo%28map_6c9341ff0c0447b7ae4de7498e5306b4%29%3B%0A%20%20%20%20%20%20%20%20%0A%20%20%20%20%0A%20%20%20%20%20%20%20%20var%20marker_0fd24ae3bb054167ac8bc89cf63a262d%20%3D%20L.marker%28%0A%20%20%20%20%20%20%20%20%20%20%20%20%5B18.187532187164223%2C%20103.73167404717425%5D%2C%0A%20%20%20%20%20%20%20%20%20%20%20%20%7B%0A%20%20%20%20%20%20%20%20%20%20%20%20%20%20%20%20icon%3A%20new%20L.Icon.Default%28%29%2C%0A%20%20%20%20%20%20%20%20%20%20%20%20%20%20%20%20%7D%0A%20%20%20%20%20%20%20%20%20%20%20%20%29.addTo%28map_6c9341ff0c0447b7ae4de7498e5306b4%29%3B%0A%20%20%20%20%20%20%20%20%0A%20%20%20%20%0A%20%20%20%20%20%20%20%20var%20marker_e3880f10e01f45cd9744ea2dd8ae3e17%20%3D%20L.marker%28%0A%20%20%20%20%20%20%20%20%20%20%20%20%5B18.06365104580171%2C%20102.27419371214846%5D%2C%0A%20%20%20%20%20%20%20%20%20%20%20%20%7B%0A%20%20%20%20%20%20%20%20%20%20%20%20%20%20%20%20icon%3A%20new%20L.Icon.Default%28%29%2C%0A%20%20%20%20%20%20%20%20%20%20%20%20%20%20%20%20%7D%0A%20%20%20%20%20%20%20%20%20%20%20%20%29.addTo%28map_6c9341ff0c0447b7ae4de7498e5306b4%29%3B%0A%20%20%20%20%20%20%20%20%0A%20%20%20%20%0A%20%20%20%20%20%20%20%20var%20marker_846bac310acb45379621d98677526e7a%20%3D%20L.marker%28%0A%20%20%20%20%20%20%20%20%20%20%20%20%5B18.291509543945658%2C%20103.98275571097467%5D%2C%0A%20%20%20%20%20%20%20%20%20%20%20%20%7B%0A%20%20%20%20%20%20%20%20%20%20%20%20%20%20%20%20icon%3A%20new%20L.Icon.Default%28%29%2C%0A%20%20%20%20%20%20%20%20%20%20%20%20%20%20%20%20%7D%0A%20%20%20%20%20%20%20%20%20%20%20%20%29.addTo%28map_6c9341ff0c0447b7ae4de7498e5306b4%29%3B%0A%20%20%20%20%20%20%20%20%0A%20%20%20%20%0A%20%20%20%20%20%20%20%20var%20marker_ea9ffec0cc164fcf8f83a441247e9a40%20%3D%20L.marker%28%0A%20%20%20%20%20%20%20%20%20%20%20%20%5B17.6746292002084%2C%20102.75413504936795%5D%2C%0A%20%20%20%20%20%20%20%20%20%20%20%20%7B%0A%20%20%20%20%20%20%20%20%20%20%20%20%20%20%20%20icon%3A%20new%20L.Icon.Default%28%29%2C%0A%20%20%20%20%20%20%20%20%20%20%20%20%20%20%20%20%7D%0A%20%20%20%20%20%20%20%20%20%20%20%20%29.addTo%28map_6c9341ff0c0447b7ae4de7498e5306b4%29%3B%0A%20%20%20%20%20%20%20%20%0A%20%20%20%20%0A%20%20%20%20%20%20%20%20var%20marker_6cb090044a4447c5992219cc7ba5b6a7%20%3D%20L.marker%28%0A%20%20%20%20%20%20%20%20%20%20%20%20%5B17.48409123901292%2C%20101.7296454685072%5D%2C%0A%20%20%20%20%20%20%20%20%20%20%20%20%7B%0A%20%20%20%20%20%20%20%20%20%20%20%20%20%20%20%20icon%3A%20new%20L.Icon.Default%28%29%2C%0A%20%20%20%20%20%20%20%20%20%20%20%20%20%20%20%20%7D%0A%20%20%20%20%20%20%20%20%20%20%20%20%29.addTo%28map_6c9341ff0c0447b7ae4de7498e5306b4%29%3B%0A%20%20%20%20%20%20%20%20%0A%20%20%20%20%0A%20%20%20%20%20%20%20%20var%20marker_b4564e503f1a42fc9db9edb73cf230af%20%3D%20L.marker%28%0A%20%20%20%20%20%20%20%20%20%20%20%20%5B17.898416655016316%2C%20101.67073807723342%5D%2C%0A%20%20%20%20%20%20%20%20%20%20%20%20%7B%0A%20%20%20%20%20%20%20%20%20%20%20%20%20%20%20%20icon%3A%20new%20L.Icon.Default%28%29%2C%0A%20%20%20%20%20%20%20%20%20%20%20%20%20%20%20%20%7D%0A%20%20%20%20%20%20%20%20%20%20%20%20%29.addTo%28map_6c9341ff0c0447b7ae4de7498e5306b4%29%3B%0A%20%20%20%20%20%20%20%20%0A%20%20%20%20%0A%20%20%20%20%20%20%20%20var%20marker_9606bb55eed54d4599f4104e3ce4ff77%20%3D%20L.marker%28%0A%20%20%20%20%20%20%20%20%20%20%20%20%5B17.280215568903884%2C%20101.14663143327142%5D%2C%0A%20%20%20%20%20%20%20%20%20%20%20%20%7B%0A%20%20%20%20%20%20%20%20%20%20%20%20%20%20%20%20icon%3A%20new%20L.Icon.Default%28%29%2C%0A%20%20%20%20%20%20%20%20%20%20%20%20%20%20%20%20%7D%0A%20%20%20%20%20%20%20%20%20%20%20%20%29.addTo%28map_6c9341ff0c0447b7ae4de7498e5306b4%29%3B%0A%20%20%20%20%20%20%20%20%0A%20%20%20%20%0A%20%20%20%20%20%20%20%20var%20marker_e8a38a6611c2413d9cbbf549cf9ee2ed%20%3D%20L.marker%28%0A%20%20%20%20%20%20%20%20%20%20%20%20%5B17.624115039905476%2C%20101.42159016228771%5D%2C%0A%20%20%20%20%20%20%20%20%20%20%20%20%7B%0A%20%20%20%20%20%20%20%20%20%20%20%20%20%20%20%20icon%3A%20new%20L.Icon.Default%28%29%2C%0A%20%20%20%20%20%20%20%20%20%20%20%20%20%20%20%20%7D%0A%20%20%20%20%20%20%20%20%20%20%20%20%29.addTo%28map_6c9341ff0c0447b7ae4de7498e5306b4%29%3B%0A%20%20%20%20%20%20%20%20%0A%20%20%20%20%0A%20%20%20%20%20%20%20%20var%20marker_4bc2dac3f2704e08882c4d28208b1883%20%3D%20L.marker%28%0A%20%20%20%20%20%20%20%20%20%20%20%20%5B17.47933601072971%2C%20101.97280618481702%5D%2C%0A%20%20%20%20%20%20%20%20%20%20%20%20%7B%0A%20%20%20%20%20%20%20%20%20%20%20%20%20%20%20%20icon%3A%20new%20L.Icon.Default%28%29%2C%0A%20%20%20%20%20%20%20%20%20%20%20%20%20%20%20%20%7D%0A%20%20%20%20%20%20%20%20%20%20%20%20%29.addTo%28map_6c9341ff0c0447b7ae4de7498e5306b4%29%3B%0A%20%20%20%20%20%20%20%20%0A%20%20%20%20%0A%20%20%20%20%20%20%20%20var%20marker_0f29c58daf984bac932452703ac69327%20%3D%20L.marker%28%0A%20%20%20%20%20%20%20%20%20%20%20%20%5B17.48923892839681%2C%20101.07225072798329%5D%2C%0A%20%20%20%20%20%20%20%20%20%20%20%20%7B%0A%20%20%20%20%20%20%20%20%20%20%20%20%20%20%20%20icon%3A%20new%20L.Icon.Default%28%29%2C%0A%20%20%20%20%20%20%20%20%20%20%20%20%20%20%20%20%7D%0A%20%20%20%20%20%20%20%20%20%20%20%20%29.addTo%28map_6c9341ff0c0447b7ae4de7498e5306b4%29%3B%0A%20%20%20%20%20%20%20%20%0A%20%20%20%20%0A%20%20%20%20%20%20%20%20var%20marker_e16a42c151b1408cb8bd036fb4352689%20%3D%20L.marker%28%0A%20%20%20%20%20%20%20%20%20%20%20%20%5B18.02409853456891%2C%20101.88622001675333%5D%2C%0A%20%20%20%20%20%20%20%20%20%20%20%20%7B%0A%20%20%20%20%20%20%20%20%20%20%20%20%20%20%20%20icon%3A%20new%20L.Icon.Default%28%29%2C%0A%20%20%20%20%20%20%20%20%20%20%20%20%20%20%20%20%7D%0A%20%20%20%20%20%20%20%20%20%20%20%20%29.addTo%28map_6c9341ff0c0447b7ae4de7498e5306b4%29%3B%0A%20%20%20%20%20%20%20%20%0A%20%20%20%20%0A%20%20%20%20%20%20%20%20var%20marker_aab2ae8763a947b6b5e043437d451ed7%20%3D%20L.marker%28%0A%20%20%20%20%20%20%20%20%20%20%20%20%5B17.063883601254222%2C%20102.0312292874172%5D%2C%0A%20%20%20%20%20%20%20%20%20%20%20%20%7B%0A%20%20%20%20%20%20%20%20%20%20%20%20%20%20%20%20icon%3A%20new%20L.Icon.Default%28%29%2C%0A%20%20%20%20%20%20%20%20%20%20%20%20%20%20%20%20%7D%0A%20%20%20%20%20%20%20%20%20%20%20%20%29.addTo%28map_6c9341ff0c0447b7ae4de7498e5306b4%29%3B%0A%20%20%20%20%20%20%20%20%0A%20%20%20%20%0A%20%20%20%20%20%20%20%20var%20marker_5530315b0be8462d93c3d1b794c9678d%20%3D%20L.marker%28%0A%20%20%20%20%20%20%20%20%20%20%20%20%5B16.87945456407639%2C%20101.88259470128828%5D%2C%0A%20%20%20%20%20%20%20%20%20%20%20%20%7B%0A%20%20%20%20%20%20%20%20%20%20%20%20%20%20%20%20icon%3A%20new%20L.Icon.Default%28%29%2C%0A%20%20%20%20%20%20%20%20%20%20%20%20%20%20%20%20%7D%0A%20%20%20%20%20%20%20%20%20%20%20%20%29.addTo%28map_6c9341ff0c0447b7ae4de7498e5306b4%29%3B%0A%20%20%20%20%20%20%20%20%0A%20%20%20%20%0A%20%20%20%20%20%20%20%20var%20marker_d2b6c3f77ca94e3bbd66932e6863630e%20%3D%20L.marker%28%0A%20%20%20%20%20%20%20%20%20%20%20%20%5B17.449104123271013%2C%20101.35828577820824%5D%2C%0A%20%20%20%20%20%20%20%20%20%20%20%20%7B%0A%20%20%20%20%20%20%20%20%20%20%20%20%20%20%20%20icon%3A%20new%20L.Icon.Default%28%29%2C%0A%20%20%20%20%20%20%20%20%20%20%20%20%20%20%20%20%7D%0A%20%20%20%20%20%20%20%20%20%20%20%20%29.addTo%28map_6c9341ff0c0447b7ae4de7498e5306b4%29%3B%0A%20%20%20%20%20%20%20%20%0A%20%20%20%20%0A%20%20%20%20%20%20%20%20var%20marker_91b6e4b078e24c199e3addce72047cac%20%3D%20L.marker%28%0A%20%20%20%20%20%20%20%20%20%20%20%20%5B17.125084023954784%2C%20101.69166583609693%5D%2C%0A%20%20%20%20%20%20%20%20%20%20%20%20%7B%0A%20%20%20%20%20%20%20%20%20%20%20%20%20%20%20%20icon%3A%20new%20L.Icon.Default%28%29%2C%0A%20%20%20%20%20%20%20%20%20%20%20%20%20%20%20%20%7D%0A%20%20%20%20%20%20%20%20%20%20%20%20%29.addTo%28map_6c9341ff0c0447b7ae4de7498e5306b4%29%3B%0A%20%20%20%20%20%20%20%20%0A%20%20%20%20%0A%20%20%20%20%20%20%20%20var%20marker_680b7fa599f548d989ec15f8218d5192%20%3D%20L.marker%28%0A%20%20%20%20%20%20%20%20%20%20%20%20%5B17.300051475652936%2C%20101.76865506475376%5D%2C%0A%20%20%20%20%20%20%20%20%20%20%20%20%7B%0A%20%20%20%20%20%20%20%20%20%20%20%20%20%20%20%20icon%3A%20new%20L.Icon.Default%28%29%2C%0A%20%20%20%20%20%20%20%20%20%20%20%20%20%20%20%20%7D%0A%20%20%20%20%20%20%20%20%20%20%20%20%29.addTo%28map_6c9341ff0c0447b7ae4de7498e5306b4%29%3B%0A%20%20%20%20%20%20%20%20%0A%20%20%20%20%0A%20%20%20%20%20%20%20%20var%20marker_83107ffa506a467b93d545f29a55500f%20%3D%20L.marker%28%0A%20%20%20%20%20%20%20%20%20%20%20%20%5B17.15326953988683%2C%20104.1337489743733%5D%2C%0A%20%20%20%20%20%20%20%20%20%20%20%20%7B%0A%20%20%20%20%20%20%20%20%20%20%20%20%20%20%20%20icon%3A%20new%20L.Icon.Default%28%29%2C%0A%20%20%20%20%20%20%20%20%20%20%20%20%20%20%20%20%7D%0A%20%20%20%20%20%20%20%20%20%20%20%20%29.addTo%28map_6c9341ff0c0447b7ae4de7498e5306b4%29%3B%0A%20%20%20%20%20%20%20%20%0A%20%20%20%20%0A%20%20%20%20%20%20%20%20var%20marker_b2d71d70aebb42498a41aeb8236951c4%20%3D%20L.marker%28%0A%20%20%20%20%20%20%20%20%20%20%20%20%5B17.08679982410687%2C%20103.82195391068424%5D%2C%0A%20%20%20%20%20%20%20%20%20%20%20%20%7B%0A%20%20%20%20%20%20%20%20%20%20%20%20%20%20%20%20icon%3A%20new%20L.Icon.Default%28%29%2C%0A%20%20%20%20%20%20%20%20%20%20%20%20%20%20%20%20%7D%0A%20%20%20%20%20%20%20%20%20%20%20%20%29.addTo%28map_6c9341ff0c0447b7ae4de7498e5306b4%29%3B%0A%20%20%20%20%20%20%20%20%0A%20%20%20%20%0A%20%20%20%20%20%20%20%20var%20marker_0b2a8b06e054435bbcdde962c9bf0d2e%20%3D%20L.marker%28%0A%20%20%20%20%20%20%20%20%20%20%20%20%5B17.329380990967984%2C%20104.33337343781639%5D%2C%0A%20%20%20%20%20%20%20%20%20%20%20%20%7B%0A%20%20%20%20%20%20%20%20%20%20%20%20%20%20%20%20icon%3A%20new%20L.Icon.Default%28%29%2C%0A%20%20%20%20%20%20%20%20%20%20%20%20%20%20%20%20%7D%0A%20%20%20%20%20%20%20%20%20%20%20%20%29.addTo%28map_6c9341ff0c0447b7ae4de7498e5306b4%29%3B%0A%20%20%20%20%20%20%20%20%0A%20%20%20%20%0A%20%20%20%20%20%20%20%20var%20marker_df088fd2367d4f1dac843089c3a7b647%20%3D%20L.marker%28%0A%20%20%20%20%20%20%20%20%20%20%20%20%5B17.84942965258408%2C%20103.75475793564738%5D%2C%0A%20%20%20%20%20%20%20%20%20%20%20%20%7B%0A%20%20%20%20%20%20%20%20%20%20%20%20%20%20%20%20icon%3A%20new%20L.Icon.Default%28%29%2C%0A%20%20%20%20%20%20%20%20%20%20%20%20%20%20%20%20%7D%0A%20%20%20%20%20%20%20%20%20%20%20%20%29.addTo%28map_6c9341ff0c0447b7ae4de7498e5306b4%29%3B%0A%20%20%20%20%20%20%20%20%0A%20%20%20%20%0A%20%20%20%20%20%20%20%20var%20marker_7ab5a6cea96c44c3bcfed9708f58635d%20%3D%20L.marker%28%0A%20%20%20%20%20%20%20%20%20%20%20%20%5B17.04308998321813%2C%20104.27256925550486%5D%2C%0A%20%20%20%20%20%20%20%20%20%20%20%20%7B%0A%20%20%20%20%20%20%20%20%20%20%20%20%20%20%20%20icon%3A%20new%20L.Icon.Default%28%29%2C%0A%20%20%20%20%20%20%20%20%20%20%20%20%20%20%20%20%7D%0A%20%20%20%20%20%20%20%20%20%20%20%20%29.addTo%28map_6c9341ff0c0447b7ae4de7498e5306b4%29%3B%0A%20%20%20%20%20%20%20%20%0A%20%20%20%20%0A%20%20%20%20%20%20%20%20var%20marker_bd129cf8a47046db89138b22856d06ca%20%3D%20L.marker%28%0A%20%20%20%20%20%20%20%20%20%20%20%20%5B17.58285588864554%2C%20103.54638620927466%5D%2C%0A%20%20%20%20%20%20%20%20%20%20%20%20%7B%0A%20%20%20%20%20%20%20%20%20%20%20%20%20%20%20%20icon%3A%20new%20L.Icon.Default%28%29%2C%0A%20%20%20%20%20%20%20%20%20%20%20%20%20%20%20%20%7D%0A%20%20%20%20%20%20%20%20%20%20%20%20%29.addTo%28map_6c9341ff0c0447b7ae4de7498e5306b4%29%3B%0A%20%20%20%20%20%20%20%20%0A%20%20%20%20%0A%20%20%20%20%20%20%20%20var%20marker_2bee3e5c382546439b792cb6e6d19f00%20%3D%20L.marker%28%0A%20%20%20%20%20%20%20%20%20%20%20%20%5B16.99694209811181%2C%20104.1656566552119%5D%2C%0A%20%20%20%20%20%20%20%20%20%20%20%20%7B%0A%20%20%20%20%20%20%20%20%20%20%20%20%20%20%20%20icon%3A%20new%20L.Icon.Default%28%29%2C%0A%20%20%20%20%20%20%20%20%20%20%20%20%20%20%20%20%7D%0A%20%20%20%20%20%20%20%20%20%20%20%20%29.addTo%28map_6c9341ff0c0447b7ae4de7498e5306b4%29%3B%0A%20%20%20%20%20%20%20%20%0A%20%20%20%20%0A%20%20%20%20%20%20%20%20var%20marker_b3176d3c4e51489890441459fa487888%20%3D%20L.marker%28%0A%20%20%20%20%20%20%20%20%20%20%20%20%5B17.18286079825863%2C%20103.71632671930746%5D%2C%0A%20%20%20%20%20%20%20%20%20%20%20%20%7B%0A%20%20%20%20%20%20%20%20%20%20%20%20%20%20%20%20icon%3A%20new%20L.Icon.Default%28%29%2C%0A%20%20%20%20%20%20%20%20%20%20%20%20%20%20%20%20%7D%0A%20%20%20%20%20%20%20%20%20%20%20%20%29.addTo%28map_6c9341ff0c0447b7ae4de7498e5306b4%29%3B%0A%20%20%20%20%20%20%20%20%0A%20%20%20%20%0A%20%20%20%20%20%20%20%20var%20marker_e3fd5e5cea204c748905b81be58c7e5b%20%3D%20L.marker%28%0A%20%20%20%20%20%20%20%20%20%20%20%20%5B17.851691882890737%2C%20103.57054523037037%5D%2C%0A%20%20%20%20%20%20%20%20%20%20%20%20%7B%0A%20%20%20%20%20%20%20%20%20%20%20%20%20%20%20%20icon%3A%20new%20L.Icon.Default%28%29%2C%0A%20%20%20%20%20%20%20%20%20%20%20%20%20%20%20%20%7D%0A%20%20%20%20%20%20%20%20%20%20%20%20%29.addTo%28map_6c9341ff0c0447b7ae4de7498e5306b4%29%3B%0A%20%20%20%20%20%20%20%20%0A%20%20%20%20%0A%20%20%20%20%20%20%20%20var%20marker_9e047cb907014f198d1f7dddefeb8e95%20%3D%20L.marker%28%0A%20%20%20%20%20%20%20%20%20%20%20%20%5B17.351169214344075%2C%20103.8395706594398%5D%2C%0A%20%20%20%20%20%20%20%20%20%20%20%20%7B%0A%20%20%20%20%20%20%20%20%20%20%20%20%20%20%20%20icon%3A%20new%20L.Icon.Default%28%29%2C%0A%20%20%20%20%20%20%20%20%20%20%20%20%20%20%20%20%7D%0A%20%20%20%20%20%20%20%20%20%20%20%20%29.addTo%28map_6c9341ff0c0447b7ae4de7498e5306b4%29%3B%0A%20%20%20%20%20%20%20%20%0A%20%20%20%20%0A%20%20%20%20%20%20%20%20var%20marker_83a05c04806646708e888fd2b8fb74b1%20%3D%20L.marker%28%0A%20%20%20%20%20%20%20%20%20%20%20%20%5B17.392394517622233%2C%20103.70932018229173%5D%2C%0A%20%20%20%20%20%20%20%20%20%20%20%20%7B%0A%20%20%20%20%20%20%20%20%20%20%20%20%20%20%20%20icon%3A%20new%20L.Icon.Default%28%29%2C%0A%20%20%20%20%20%20%20%20%20%20%20%20%20%20%20%20%7D%0A%20%20%20%20%20%20%20%20%20%20%20%20%29.addTo%28map_6c9341ff0c0447b7ae4de7498e5306b4%29%3B%0A%20%20%20%20%20%20%20%20%0A%20%20%20%20%0A%20%20%20%20%20%20%20%20var%20marker_4c75daff50334f409e5d6621484c749a%20%3D%20L.marker%28%0A%20%20%20%20%20%20%20%20%20%20%20%20%5B17.630712652544677%2C%20103.75212146789804%5D%2C%0A%20%20%20%20%20%20%20%20%20%20%20%20%7B%0A%20%20%20%20%20%20%20%20%20%20%20%20%20%20%20%20icon%3A%20new%20L.Icon.Default%28%29%2C%0A%20%20%20%20%20%20%20%20%20%20%20%20%20%20%20%20%7D%0A%20%20%20%20%20%20%20%20%20%20%20%20%29.addTo%28map_6c9341ff0c0447b7ae4de7498e5306b4%29%3B%0A%20%20%20%20%20%20%20%20%0A%20%20%20%20%0A%20%20%20%20%20%20%20%20var%20marker_7219095ecc6d4ef794121d1480fd36f3%20%3D%20L.marker%28%0A%20%20%20%20%20%20%20%20%20%20%20%20%5B17.2931358637403%2C%20103.63663661481957%5D%2C%0A%20%20%20%20%20%20%20%20%20%20%20%20%7B%0A%20%20%20%20%20%20%20%20%20%20%20%20%20%20%20%20icon%3A%20new%20L.Icon.Default%28%29%2C%0A%20%20%20%20%20%20%20%20%20%20%20%20%20%20%20%20%7D%0A%20%20%20%20%20%20%20%20%20%20%20%20%29.addTo%28map_6c9341ff0c0447b7ae4de7498e5306b4%29%3B%0A%20%20%20%20%20%20%20%20%0A%20%20%20%20%0A%20%20%20%20%20%20%20%20var%20marker_bc540947489c4d6faa98faf1e6747e45%20%3D%20L.marker%28%0A%20%20%20%20%20%20%20%20%20%20%20%20%5B17.475447800460643%2C%20103.45581027217297%5D%2C%0A%20%20%20%20%20%20%20%20%20%20%20%20%7B%0A%20%20%20%20%20%20%20%20%20%20%20%20%20%20%20%20icon%3A%20new%20L.Icon.Default%28%29%2C%0A%20%20%20%20%20%20%20%20%20%20%20%20%20%20%20%20%7D%0A%20%20%20%20%20%20%20%20%20%20%20%20%29.addTo%28map_6c9341ff0c0447b7ae4de7498e5306b4%29%3B%0A%20%20%20%20%20%20%20%20%0A%20%20%20%20%0A%20%20%20%20%20%20%20%20var%20marker_538689d2643744b9b2b14b405be5d477%20%3D%20L.marker%28%0A%20%20%20%20%20%20%20%20%20%20%20%20%5B17.33652461085946%2C%20103.47523037067519%5D%2C%0A%20%20%20%20%20%20%20%20%20%20%20%20%7B%0A%20%20%20%20%20%20%20%20%20%20%20%20%20%20%20%20icon%3A%20new%20L.Icon.Default%28%29%2C%0A%20%20%20%20%20%20%20%20%20%20%20%20%20%20%20%20%7D%0A%20%20%20%20%20%20%20%20%20%20%20%20%29.addTo%28map_6c9341ff0c0447b7ae4de7498e5306b4%29%3B%0A%20%20%20%20%20%20%20%20%0A%20%20%20%20%0A%20%20%20%20%20%20%20%20var%20marker_65925cac296045f2b2b48464367e6ccb%20%3D%20L.marker%28%0A%20%20%20%20%20%20%20%20%20%20%20%20%5B17.595111335167335%2C%20103.97315833257011%5D%2C%0A%20%20%20%20%20%20%20%20%20%20%20%20%7B%0A%20%20%20%20%20%20%20%20%20%20%20%20%20%20%20%20icon%3A%20new%20L.Icon.Default%28%29%2C%0A%20%20%20%20%20%20%20%20%20%20%20%20%20%20%20%20%7D%0A%20%20%20%20%20%20%20%20%20%20%20%20%29.addTo%28map_6c9341ff0c0447b7ae4de7498e5306b4%29%3B%0A%20%20%20%20%20%20%20%20%0A%20%20%20%20%0A%20%20%20%20%20%20%20%20var%20marker_d6d74f70f93041aa8f4860ab3fdd8a67%20%3D%20L.marker%28%0A%20%20%20%20%20%20%20%20%20%20%20%20%5B17.263317345459434%2C%20104.21122198641447%5D%2C%0A%20%20%20%20%20%20%20%20%20%20%20%20%7B%0A%20%20%20%20%20%20%20%20%20%20%20%20%20%20%20%20icon%3A%20new%20L.Icon.Default%28%29%2C%0A%20%20%20%20%20%20%20%20%20%20%20%20%20%20%20%20%7D%0A%20%20%20%20%20%20%20%20%20%20%20%20%29.addTo%28map_6c9341ff0c0447b7ae4de7498e5306b4%29%3B%0A%20%20%20%20%20%20%20%20%0A%20%20%20%20%0A%20%20%20%20%20%20%20%20var%20marker_7f8ffc5c9f6a48588d86e598bde6f545%20%3D%20L.marker%28%0A%20%20%20%20%20%20%20%20%20%20%20%20%5B16.97787723673235%2C%20103.9516847415352%5D%2C%0A%20%20%20%20%20%20%20%20%20%20%20%20%7B%0A%20%20%20%20%20%20%20%20%20%20%20%20%20%20%20%20icon%3A%20new%20L.Icon.Default%28%29%2C%0A%20%20%20%20%20%20%20%20%20%20%20%20%20%20%20%20%7D%0A%20%20%20%20%20%20%20%20%20%20%20%20%29.addTo%28map_6c9341ff0c0447b7ae4de7498e5306b4%29%3B%0A%20%20%20%20%20%20%20%20%0A%20%20%20%20%0A%20%20%20%20%20%20%20%20var%20marker_2ddd89340a1c4085b10f8f794bb9b201%20%3D%20L.marker%28%0A%20%20%20%20%20%20%20%20%20%20%20%20%5B17.415549521564976%2C%20102.7862140985903%5D%2C%0A%20%20%20%20%20%20%20%20%20%20%20%20%7B%0A%20%20%20%20%20%20%20%20%20%20%20%20%20%20%20%20icon%3A%20new%20L.Icon.Default%28%29%2C%0A%20%20%20%20%20%20%20%20%20%20%20%20%20%20%20%20%7D%0A%20%20%20%20%20%20%20%20%20%20%20%20%29.addTo%28map_6c9341ff0c0447b7ae4de7498e5306b4%29%3B%0A%20%20%20%20%20%20%20%20%0A%20%20%20%20%0A%20%20%20%20%20%20%20%20var%20marker_60be39ab9378455987b1bf5062e5a3a9%20%3D%20L.marker%28%0A%20%20%20%20%20%20%20%20%20%20%20%20%5B17.42074913231662%2C%20102.56596585545124%5D%2C%0A%20%20%20%20%20%20%20%20%20%20%20%20%7B%0A%20%20%20%20%20%20%20%20%20%20%20%20%20%20%20%20icon%3A%20new%20L.Icon.Default%28%29%2C%0A%20%20%20%20%20%20%20%20%20%20%20%20%20%20%20%20%7D%0A%20%20%20%20%20%20%20%20%20%20%20%20%29.addTo%28map_6c9341ff0c0447b7ae4de7498e5306b4%29%3B%0A%20%20%20%20%20%20%20%20%0A%20%20%20%20%0A%20%20%20%20%20%20%20%20var%20marker_7f6e0262c04d4c0f8034e9885315d56d%20%3D%20L.marker%28%0A%20%20%20%20%20%20%20%20%20%20%20%20%5B17.113248656150116%2C%20103.01868691558111%5D%2C%0A%20%20%20%20%20%20%20%20%20%20%20%20%7B%0A%20%20%20%20%20%20%20%20%20%20%20%20%20%20%20%20icon%3A%20new%20L.Icon.Default%28%29%2C%0A%20%20%20%20%20%20%20%20%20%20%20%20%20%20%20%20%7D%0A%20%20%20%20%20%20%20%20%20%20%20%20%29.addTo%28map_6c9341ff0c0447b7ae4de7498e5306b4%29%3B%0A%20%20%20%20%20%20%20%20%0A%20%20%20%20%0A%20%20%20%20%20%20%20%20var%20marker_2d3470d0926649d4b544adb80657ade6%20%3D%20L.marker%28%0A%20%20%20%20%20%20%20%20%20%20%20%20%5B17.286190905817563%2C%20103.22272028276839%5D%2C%0A%20%20%20%20%20%20%20%20%20%20%20%20%7B%0A%20%20%20%20%20%20%20%20%20%20%20%20%20%20%20%20icon%3A%20new%20L.Icon.Default%28%29%2C%0A%20%20%20%20%20%20%20%20%20%20%20%20%20%20%20%20%7D%0A%20%20%20%20%20%20%20%20%20%20%20%20%29.addTo%28map_6c9341ff0c0447b7ae4de7498e5306b4%29%3B%0A%20%20%20%20%20%20%20%20%0A%20%20%20%20%0A%20%20%20%20%20%20%20%20var%20marker_80ad7eb2ea8041488432d4f7b3d63bcd%20%3D%20L.marker%28%0A%20%20%20%20%20%20%20%20%20%20%20%20%5B17.471310777018456%2C%20103.26113462515728%5D%2C%0A%20%20%20%20%20%20%20%20%20%20%20%20%7B%0A%20%20%20%20%20%20%20%20%20%20%20%20%20%20%20%20icon%3A%20new%20L.Icon.Default%28%29%2C%0A%20%20%20%20%20%20%20%20%20%20%20%20%20%20%20%20%7D%0A%20%20%20%20%20%20%20%20%20%20%20%20%29.addTo%28map_6c9341ff0c0447b7ae4de7498e5306b4%29%3B%0A%20%20%20%20%20%20%20%20%0A%20%20%20%20%0A%20%20%20%20%20%20%20%20var%20marker_44e3f40c140a48239a7afc37f02ce3e5%20%3D%20L.marker%28%0A%20%20%20%20%20%20%20%20%20%20%20%20%5B17.93300145204709%2C%20102.20573090552494%5D%2C%0A%20%20%20%20%20%20%20%20%20%20%20%20%7B%0A%20%20%20%20%20%20%20%20%20%20%20%20%20%20%20%20icon%3A%20new%20L.Icon.Default%28%29%2C%0A%20%20%20%20%20%20%20%20%20%20%20%20%20%20%20%20%7D%0A%20%20%20%20%20%20%20%20%20%20%20%20%29.addTo%28map_6c9341ff0c0447b7ae4de7498e5306b4%29%3B%0A%20%20%20%20%20%20%20%20%0A%20%20%20%20%0A%20%20%20%20%20%20%20%20var%20marker_669ad1c9f3164a1cbfdc6b5444adc51d%20%3D%20L.marker%28%0A%20%20%20%20%20%20%20%20%20%20%20%20%5B17.75856683781505%2C%20102.1886625457601%5D%2C%0A%20%20%20%20%20%20%20%20%20%20%20%20%7B%0A%20%20%20%20%20%20%20%20%20%20%20%20%20%20%20%20icon%3A%20new%20L.Icon.Default%28%29%2C%0A%20%20%20%20%20%20%20%20%20%20%20%20%20%20%20%20%7D%0A%20%20%20%20%20%20%20%20%20%20%20%20%29.addTo%28map_6c9341ff0c0447b7ae4de7498e5306b4%29%3B%0A%20%20%20%20%20%20%20%20%0A%20%20%20%20%0A%20%20%20%20%20%20%20%20var%20marker_445b2d2e7ccf4662a79fe24368fe78c4%20%3D%20L.marker%28%0A%20%20%20%20%20%20%20%20%20%20%20%20%5B16.97864594537437%2C%20102.89457815335051%5D%2C%0A%20%20%20%20%20%20%20%20%20%20%20%20%7B%0A%20%20%20%20%20%20%20%20%20%20%20%20%20%20%20%20icon%3A%20new%20L.Icon.Default%28%29%2C%0A%20%20%20%20%20%20%20%20%20%20%20%20%20%20%20%20%7D%0A%20%20%20%20%20%20%20%20%20%20%20%20%29.addTo%28map_6c9341ff0c0447b7ae4de7498e5306b4%29%3B%0A%20%20%20%20%20%20%20%20%0A%20%20%20%20%0A%20%20%20%20%20%20%20%20var%20marker_74ae565e44aa4adeb40ca12dba424f0d%20%3D%20L.marker%28%0A%20%20%20%20%20%20%20%20%20%20%20%20%5B17.70052602137657%2C%20103.2590353084743%5D%2C%0A%20%20%20%20%20%20%20%20%20%20%20%20%7B%0A%20%20%20%20%20%20%20%20%20%20%20%20%20%20%20%20icon%3A%20new%20L.Icon.Default%28%29%2C%0A%20%20%20%20%20%20%20%20%20%20%20%20%20%20%20%20%7D%0A%20%20%20%20%20%20%20%20%20%20%20%20%29.addTo%28map_6c9341ff0c0447b7ae4de7498e5306b4%29%3B%0A%20%20%20%20%20%20%20%20%0A%20%20%20%20%0A%20%20%20%20%20%20%20%20var%20marker_439335f73739488cb3f89ad8813dd15b%20%3D%20L.marker%28%0A%20%20%20%20%20%20%20%20%20%20%20%20%5B17.688291447833844%2C%20102.47306193503945%5D%2C%0A%20%20%20%20%20%20%20%20%20%20%20%20%7B%0A%20%20%20%20%20%20%20%20%20%20%20%20%20%20%20%20icon%3A%20new%20L.Icon.Default%28%29%2C%0A%20%20%20%20%20%20%20%20%20%20%20%20%20%20%20%20%7D%0A%20%20%20%20%20%20%20%20%20%20%20%20%29.addTo%28map_6c9341ff0c0447b7ae4de7498e5306b4%29%3B%0A%20%20%20%20%20%20%20%20%0A%20%20%20%20%0A%20%20%20%20%20%20%20%20var%20marker_f6879b3503cc48799a85423a1b68a413%20%3D%20L.marker%28%0A%20%20%20%20%20%20%20%20%20%20%20%20%5B17.695379714288%2C%20102.9072168661586%5D%2C%0A%20%20%20%20%20%20%20%20%20%20%20%20%7B%0A%20%20%20%20%20%20%20%20%20%20%20%20%20%20%20%20icon%3A%20new%20L.Icon.Default%28%29%2C%0A%20%20%20%20%20%20%20%20%20%20%20%20%20%20%20%20%7D%0A%20%20%20%20%20%20%20%20%20%20%20%20%29.addTo%28map_6c9341ff0c0447b7ae4de7498e5306b4%29%3B%0A%20%20%20%20%20%20%20%20%0A%20%20%20%20%0A%20%20%20%20%20%20%20%20var%20marker_5f5a34ec6ffa4e8cab023f3c0be6c39d%20%3D%20L.marker%28%0A%20%20%20%20%20%20%20%20%20%20%20%20%5B16.950109604870416%2C%20103.4276770365945%5D%2C%0A%20%20%20%20%20%20%20%20%20%20%20%20%7B%0A%20%20%20%20%20%20%20%20%20%20%20%20%20%20%20%20icon%3A%20new%20L.Icon.Default%28%29%2C%0A%20%20%20%20%20%20%20%20%20%20%20%20%20%20%20%20%7D%0A%20%20%20%20%20%20%20%20%20%20%20%20%29.addTo%28map_6c9341ff0c0447b7ae4de7498e5306b4%29%3B%0A%20%20%20%20%20%20%20%20%0A%20%20%20%20%0A%20%20%20%20%20%20%20%20var%20marker_25ae15f4096b4e359699f5a9fab8ea6b%20%3D%20L.marker%28%0A%20%20%20%20%20%20%20%20%20%20%20%20%5B16.97404216797755%2C%20103.21704585163916%5D%2C%0A%20%20%20%20%20%20%20%20%20%20%20%20%7B%0A%20%20%20%20%20%20%20%20%20%20%20%20%20%20%20%20icon%3A%20new%20L.Icon.Default%28%29%2C%0A%20%20%20%20%20%20%20%20%20%20%20%20%20%20%20%20%7D%0A%20%20%20%20%20%20%20%20%20%20%20%20%29.addTo%28map_6c9341ff0c0447b7ae4de7498e5306b4%29%3B%0A%20%20%20%20%20%20%20%20%0A%20%20%20%20%0A%20%20%20%20%20%20%20%20var%20marker_6b1fcea0471c4c90a9ca5f31648a69c3%20%3D%20L.marker%28%0A%20%20%20%20%20%20%20%20%20%20%20%20%5B17.825523245014097%2C%20103.08878364037582%5D%2C%0A%20%20%20%20%20%20%20%20%20%20%20%20%7B%0A%20%20%20%20%20%20%20%20%20%20%20%20%20%20%20%20icon%3A%20new%20L.Icon.Default%28%29%2C%0A%20%20%20%20%20%20%20%20%20%20%20%20%20%20%20%20%7D%0A%20%20%20%20%20%20%20%20%20%20%20%20%29.addTo%28map_6c9341ff0c0447b7ae4de7498e5306b4%29%3B%0A%20%20%20%20%20%20%20%20%0A%20%20%20%20%0A%20%20%20%20%20%20%20%20var%20marker_d96f5b0c683b463286a2fb343fc03f1c%20%3D%20L.marker%28%0A%20%20%20%20%20%20%20%20%20%20%20%20%5B17.279349761395384%2C%20102.60769547849871%5D%2C%0A%20%20%20%20%20%20%20%20%20%20%20%20%7B%0A%20%20%20%20%20%20%20%20%20%20%20%20%20%20%20%20icon%3A%20new%20L.Icon.Default%28%29%2C%0A%20%20%20%20%20%20%20%20%20%20%20%20%20%20%20%20%7D%0A%20%20%20%20%20%20%20%20%20%20%20%20%29.addTo%28map_6c9341ff0c0447b7ae4de7498e5306b4%29%3B%0A%20%20%20%20%20%20%20%20%0A%20%20%20%20%0A%20%20%20%20%20%20%20%20var%20marker_fee014b9965745c8b7b5e08b96c2afbc%20%3D%20L.marker%28%0A%20%20%20%20%20%20%20%20%20%20%20%20%5B17.1692305670373%2C%20102.78088818332324%5D%2C%0A%20%20%20%20%20%20%20%20%20%20%20%20%7B%0A%20%20%20%20%20%20%20%20%20%20%20%20%20%20%20%20icon%3A%20new%20L.Icon.Default%28%29%2C%0A%20%20%20%20%20%20%20%20%20%20%20%20%20%20%20%20%7D%0A%20%20%20%20%20%20%20%20%20%20%20%20%29.addTo%28map_6c9341ff0c0447b7ae4de7498e5306b4%29%3B%0A%20%20%20%20%20%20%20%20%0A%20%20%20%20%0A%20%20%20%20%20%20%20%20var%20marker_f43c1fd6d42e4704aee7f419c2bf72b3%20%3D%20L.marker%28%0A%20%20%20%20%20%20%20%20%20%20%20%20%5B17.362384769138224%2C%20103.10710243822966%5D%2C%0A%20%20%20%20%20%20%20%20%20%20%20%20%7B%0A%20%20%20%20%20%20%20%20%20%20%20%20%20%20%20%20icon%3A%20new%20L.Icon.Default%28%29%2C%0A%20%20%20%20%20%20%20%20%20%20%20%20%20%20%20%20%7D%0A%20%20%20%20%20%20%20%20%20%20%20%20%29.addTo%28map_6c9341ff0c0447b7ae4de7498e5306b4%29%3B%0A%20%20%20%20%20%20%20%20%0A%20%20%20%20%0A%20%20%20%20%20%20%20%20var%20marker_8ac8bd6aa9034697920c92804ec0cb75%20%3D%20L.marker%28%0A%20%20%20%20%20%20%20%20%20%20%20%20%5B17.554053973069898%2C%20103.05463857271523%5D%2C%0A%20%20%20%20%20%20%20%20%20%20%20%20%7B%0A%20%20%20%20%20%20%20%20%20%20%20%20%20%20%20%20icon%3A%20new%20L.Icon.Default%28%29%2C%0A%20%20%20%20%20%20%20%20%20%20%20%20%20%20%20%20%7D%0A%20%20%20%20%20%20%20%20%20%20%20%20%29.addTo%28map_6c9341ff0c0447b7ae4de7498e5306b4%29%3B%0A%20%20%20%20%20%20%20%20%0A%20%20%20%20%0A%20%20%20%20%20%20%20%20var%20marker_f6193e7bb8c845388a52ed3e153c8b25%20%3D%20L.marker%28%0A%20%20%20%20%20%20%20%20%20%20%20%20%5B17.17565414879861%2C%20103.1590130627577%5D%2C%0A%20%20%20%20%20%20%20%20%20%20%20%20%7B%0A%20%20%20%20%20%20%20%20%20%20%20%20%20%20%20%20icon%3A%20new%20L.Icon.Default%28%29%2C%0A%20%20%20%20%20%20%20%20%20%20%20%20%20%20%20%20%7D%0A%20%20%20%20%20%20%20%20%20%20%20%20%29.addTo%28map_6c9341ff0c0447b7ae4de7498e5306b4%29%3B%0A%20%20%20%20%20%20%20%20%0A%20%20%20%20%0A%20%20%20%20%20%20%20%20var%20marker_db0baf9b179a47cc8d137f0a9450ad5e%20%3D%20L.marker%28%0A%20%20%20%20%20%20%20%20%20%20%20%20%5B17.411178891504797%2C%20104.77898521923409%5D%2C%0A%20%20%20%20%20%20%20%20%20%20%20%20%7B%0A%20%20%20%20%20%20%20%20%20%20%20%20%20%20%20%20icon%3A%20new%20L.Icon.Default%28%29%2C%0A%20%20%20%20%20%20%20%20%20%20%20%20%20%20%20%20%7D%0A%20%20%20%20%20%20%20%20%20%20%20%20%29.addTo%28map_6c9341ff0c0447b7ae4de7498e5306b4%29%3B%0A%20%20%20%20%20%20%20%20%0A%20%20%20%20%0A%20%20%20%20%20%20%20%20var%20marker_a9782dbd5117455ca86e44a06be898dc%20%3D%20L.marker%28%0A%20%20%20%20%20%20%20%20%20%20%20%20%5B17.58027940937396%2C%20104.5940681308845%5D%2C%0A%20%20%20%20%20%20%20%20%20%20%20%20%7B%0A%20%20%20%20%20%20%20%20%20%20%20%20%20%20%20%20icon%3A%20new%20L.Icon.Default%28%29%2C%0A%20%20%20%20%20%20%20%20%20%20%20%20%20%20%20%20%7D%0A%20%20%20%20%20%20%20%20%20%20%20%20%29.addTo%28map_6c9341ff0c0447b7ae4de7498e5306b4%29%3B%0A%20%20%20%20%20%20%20%20%0A%20%20%20%20%0A%20%20%20%20%20%20%20%20var%20marker_8f9a649bbc7e42a7ad2f0e2dac67c8d1%20%3D%20L.marker%28%0A%20%20%20%20%20%20%20%20%20%20%20%20%5B16.984911676185995%2C%20104.72913941171753%5D%2C%0A%20%20%20%20%20%20%20%20%20%20%20%20%7B%0A%20%20%20%20%20%20%20%20%20%20%20%20%20%20%20%20icon%3A%20new%20L.Icon.Default%28%29%2C%0A%20%20%20%20%20%20%20%20%20%20%20%20%20%20%20%20%7D%0A%20%20%20%20%20%20%20%20%20%20%20%20%29.addTo%28map_6c9341ff0c0447b7ae4de7498e5306b4%29%3B%0A%20%20%20%20%20%20%20%20%0A%20%20%20%20%0A%20%20%20%20%20%20%20%20var%20marker_370833e12c7a4834a0f10b553f2bd8ec%20%3D%20L.marker%28%0A%20%20%20%20%20%20%20%20%20%20%20%20%5B16.946424943727042%2C%20104.50059516954875%5D%2C%0A%20%20%20%20%20%20%20%20%20%20%20%20%7B%0A%20%20%20%20%20%20%20%20%20%20%20%20%20%20%20%20icon%3A%20new%20L.Icon.Default%28%29%2C%0A%20%20%20%20%20%20%20%20%20%20%20%20%20%20%20%20%7D%0A%20%20%20%20%20%20%20%20%20%20%20%20%29.addTo%28map_6c9341ff0c0447b7ae4de7498e5306b4%29%3B%0A%20%20%20%20%20%20%20%20%0A%20%20%20%20%0A%20%20%20%20%20%20%20%20var%20marker_197c51e54a4245be8b25d276806123f9%20%3D%20L.marker%28%0A%20%20%20%20%20%20%20%20%20%20%20%20%5B17.490527833377314%2C%20104.10042622689431%5D%2C%0A%20%20%20%20%20%20%20%20%20%20%20%20%7B%0A%20%20%20%20%20%20%20%20%20%20%20%20%20%20%20%20icon%3A%20new%20L.Icon.Default%28%29%2C%0A%20%20%20%20%20%20%20%20%20%20%20%20%20%20%20%20%7D%0A%20%20%20%20%20%20%20%20%20%20%20%20%29.addTo%28map_6c9341ff0c0447b7ae4de7498e5306b4%29%3B%0A%20%20%20%20%20%20%20%20%0A%20%20%20%20%0A%20%20%20%20%20%20%20%20var%20marker_965381abb43c4ce895a738bc4cae568f%20%3D%20L.marker%28%0A%20%20%20%20%20%20%20%20%20%20%20%20%5B17.966598479758026%2C%20104.21278906948164%5D%2C%0A%20%20%20%20%20%20%20%20%20%20%20%20%7B%0A%20%20%20%20%20%20%20%20%20%20%20%20%20%20%20%20icon%3A%20new%20L.Icon.Default%28%29%2C%0A%20%20%20%20%20%20%20%20%20%20%20%20%20%20%20%20%7D%0A%20%20%20%20%20%20%20%20%20%20%20%20%29.addTo%28map_6c9341ff0c0447b7ae4de7498e5306b4%29%3B%0A%20%20%20%20%20%20%20%20%0A%20%20%20%20%0A%20%20%20%20%20%20%20%20var%20marker_a4bdc28e877d4dd39b7736b8d924be57%20%3D%20L.marker%28%0A%20%20%20%20%20%20%20%20%20%20%20%20%5B17.180326350768222%2C%20104.52357544590816%5D%2C%0A%20%20%20%20%20%20%20%20%20%20%20%20%7B%0A%20%20%20%20%20%20%20%20%20%20%20%20%20%20%20%20icon%3A%20new%20L.Icon.Default%28%29%2C%0A%20%20%20%20%20%20%20%20%20%20%20%20%20%20%20%20%7D%0A%20%20%20%20%20%20%20%20%20%20%20%20%29.addTo%28map_6c9341ff0c0447b7ae4de7498e5306b4%29%3B%0A%20%20%20%20%20%20%20%20%0A%20%20%20%20%0A%20%20%20%20%20%20%20%20var%20marker_c02d9bf664bb410a9cb5da074828ce76%20%3D%20L.marker%28%0A%20%20%20%20%20%20%20%20%20%20%20%20%5B17.449881725737814%2C%20104.45667827875886%5D%2C%0A%20%20%20%20%20%20%20%20%20%20%20%20%7B%0A%20%20%20%20%20%20%20%20%20%20%20%20%20%20%20%20icon%3A%20new%20L.Icon.Default%28%29%2C%0A%20%20%20%20%20%20%20%20%20%20%20%20%20%20%20%20%7D%0A%20%20%20%20%20%20%20%20%20%20%20%20%29.addTo%28map_6c9341ff0c0447b7ae4de7498e5306b4%29%3B%0A%20%20%20%20%20%20%20%20%0A%20%20%20%20%0A%20%20%20%20%20%20%20%20var%20marker_56811abcfb3e461fa7b6e4c864a15cc3%20%3D%20L.marker%28%0A%20%20%20%20%20%20%20%20%20%20%20%20%5B17.05634659094848%2C%20104.68186230464381%5D%2C%0A%20%20%20%20%20%20%20%20%20%20%20%20%7B%0A%20%20%20%20%20%20%20%20%20%20%20%20%20%20%20%20icon%3A%20new%20L.Icon.Default%28%29%2C%0A%20%20%20%20%20%20%20%20%20%20%20%20%20%20%20%20%7D%0A%20%20%20%20%20%20%20%20%20%20%20%20%29.addTo%28map_6c9341ff0c0447b7ae4de7498e5306b4%29%3B%0A%20%20%20%20%20%20%20%20%0A%20%20%20%20%0A%20%20%20%20%20%20%20%20var%20marker_fc08463e5a944e40a1a7fa4da7442452%20%3D%20L.marker%28%0A%20%20%20%20%20%20%20%20%20%20%20%20%5B17.62712371533165%2C%20104.25952005752997%5D%2C%0A%20%20%20%20%20%20%20%20%20%20%20%20%7B%0A%20%20%20%20%20%20%20%20%20%20%20%20%20%20%20%20icon%3A%20new%20L.Icon.Default%28%29%2C%0A%20%20%20%20%20%20%20%20%20%20%20%20%20%20%20%20%7D%0A%20%20%20%20%20%20%20%20%20%20%20%20%29.addTo%28map_6c9341ff0c0447b7ae4de7498e5306b4%29%3B%0A%20%20%20%20%20%20%20%20%0A%20%20%20%20%0A%20%20%20%20%20%20%20%20var%20marker_1ecc9a43c37f401893228a78d9b3ac96%20%3D%20L.marker%28%0A%20%20%20%20%20%20%20%20%20%20%20%20%5B17.783058641356018%2C%20104.09302998082823%5D%2C%0A%20%20%20%20%20%20%20%20%20%20%20%20%7B%0A%20%20%20%20%20%20%20%20%20%20%20%20%20%20%20%20icon%3A%20new%20L.Icon.Default%28%29%2C%0A%20%20%20%20%20%20%20%20%20%20%20%20%20%20%20%20%7D%0A%20%20%20%20%20%20%20%20%20%20%20%20%29.addTo%28map_6c9341ff0c0447b7ae4de7498e5306b4%29%3B%0A%20%20%20%20%20%20%20%20%0A%20%20%20%20%0A%20%20%20%20%20%20%20%20var%20marker_d82ce6c3e5c949daa655aba565a45224%20%3D%20L.marker%28%0A%20%20%20%20%20%20%20%20%20%20%20%20%5B16.301424334666557%2C%20102.45398565730436%5D%2C%0A%20%20%20%20%20%20%20%20%20%20%20%20%7B%0A%20%20%20%20%20%20%20%20%20%20%20%20%20%20%20%20icon%3A%20new%20L.Icon.Default%28%29%2C%0A%20%20%20%20%20%20%20%20%20%20%20%20%20%20%20%20%7D%0A%20%20%20%20%20%20%20%20%20%20%20%20%29.addTo%28map_6c9341ff0c0447b7ae4de7498e5306b4%29%3B%0A%20%20%20%20%20%20%20%20%0A%20%20%20%20%0A%20%20%20%20%20%20%20%20var%20marker_e0942e29e2f2418fa9f3c8ba4ba74dc2%20%3D%20L.marker%28%0A%20%20%20%20%20%20%20%20%20%20%20%20%5B17.306411505368008%2C%20102.18763505387032%5D%2C%0A%20%20%20%20%20%20%20%20%20%20%20%20%7B%0A%20%20%20%20%20%20%20%20%20%20%20%20%20%20%20%20icon%3A%20new%20L.Icon.Default%28%29%2C%0A%20%20%20%20%20%20%20%20%20%20%20%20%20%20%20%20%7D%0A%20%20%20%20%20%20%20%20%20%20%20%20%29.addTo%28map_6c9341ff0c0447b7ae4de7498e5306b4%29%3B%0A%20%20%20%20%20%20%20%20%0A%20%20%20%20%0A%20%20%20%20%20%20%20%20var%20marker_ed90edb2fa744f67862416a4350e9394%20%3D%20L.marker%28%0A%20%20%20%20%20%20%20%20%20%20%20%20%5B16.866027624697274%2C%20102.57168318698203%5D%2C%0A%20%20%20%20%20%20%20%20%20%20%20%20%7B%0A%20%20%20%20%20%20%20%20%20%20%20%20%20%20%20%20icon%3A%20new%20L.Icon.Default%28%29%2C%0A%20%20%20%20%20%20%20%20%20%20%20%20%20%20%20%20%7D%0A%20%20%20%20%20%20%20%20%20%20%20%20%29.addTo%28map_6c9341ff0c0447b7ae4de7498e5306b4%29%3B%0A%20%20%20%20%20%20%20%20%0A%20%20%20%20%0A%20%20%20%20%20%20%20%20var%20marker_f8a5c2c4e8e64eb1adac4fac0dbe168f%20%3D%20L.marker%28%0A%20%20%20%20%20%20%20%20%20%20%20%20%5B16.966372223605422%2C%20102.27758006321169%5D%2C%0A%20%20%20%20%20%20%20%20%20%20%20%20%7B%0A%20%20%20%20%20%20%20%20%20%20%20%20%20%20%20%20icon%3A%20new%20L.Icon.Default%28%29%2C%0A%20%20%20%20%20%20%20%20%20%20%20%20%20%20%20%20%7D%0A%20%20%20%20%20%20%20%20%20%20%20%20%29.addTo%28map_6c9341ff0c0447b7ae4de7498e5306b4%29%3B%0A%20%20%20%20%20%20%20%20%0A%20%20%20%20%0A%20%20%20%20%20%20%20%20var%20marker_a8a205c8702d477db3963a471d1ae0fa%20%3D%20L.marker%28%0A%20%20%20%20%20%20%20%20%20%20%20%20%5B17.562716210776614%2C%20102.27991643575037%5D%2C%0A%20%20%20%20%20%20%20%20%20%20%20%20%7B%0A%20%20%20%20%20%20%20%20%20%20%20%20%20%20%20%20icon%3A%20new%20L.Icon.Default%28%29%2C%0A%20%20%20%20%20%20%20%20%20%20%20%20%20%20%20%20%7D%0A%20%20%20%20%20%20%20%20%20%20%20%20%29.addTo%28map_6c9341ff0c0447b7ae4de7498e5306b4%29%3B%0A%20%20%20%20%20%20%20%20%0A%20%20%20%20%0A%20%20%20%20%20%20%20%20var%20marker_91b48b206ccc4ba5b91d15254fd6ea5a%20%3D%20L.marker%28%0A%20%20%20%20%20%20%20%20%20%20%20%20%5B17.32600768176063%2C%20102.05581186198414%5D%2C%0A%20%20%20%20%20%20%20%20%20%20%20%20%7B%0A%20%20%20%20%20%20%20%20%20%20%20%20%20%20%20%20icon%3A%20new%20L.Icon.Default%28%29%2C%0A%20%20%20%20%20%20%20%20%20%20%20%20%20%20%20%20%7D%0A%20%20%20%20%20%20%20%20%20%20%20%20%29.addTo%28map_6c9341ff0c0447b7ae4de7498e5306b4%29%3B%0A%20%20%20%20%20%20%20%20%0A%20%20%20%20%0A%20%20%20%20%20%20%20%20var%20marker_92d0169c37c443738bb961c3b7163197%20%3D%20L.marker%28%0A%20%20%20%20%20%20%20%20%20%20%20%20%5B16.43277415495536%2C%20103.5066293680465%5D%2C%0A%20%20%20%20%20%20%20%20%20%20%20%20%7B%0A%20%20%20%20%20%20%20%20%20%20%20%20%20%20%20%20icon%3A%20new%20L.Icon.Default%28%29%2C%0A%20%20%20%20%20%20%20%20%20%20%20%20%20%20%20%20%7D%0A%20%20%20%20%20%20%20%20%20%20%20%20%29.addTo%28map_6c9341ff0c0447b7ae4de7498e5306b4%29%3B%0A%20%20%20%20%20%20%20%20%0A%20%20%20%20%0A%20%20%20%20%20%20%20%20var%20marker_3631654072694e7394e83a7210b881d2%20%3D%20L.marker%28%0A%20%20%20%20%20%20%20%20%20%20%20%20%5B16.339262218258938%2C%20103.57585701844728%5D%2C%0A%20%20%20%20%20%20%20%20%20%20%20%20%7B%0A%20%20%20%20%20%20%20%20%20%20%20%20%20%20%20%20icon%3A%20new%20L.Icon.Default%28%29%2C%0A%20%20%20%20%20%20%20%20%20%20%20%20%20%20%20%20%7D%0A%20%20%20%20%20%20%20%20%20%20%20%20%29.addTo%28map_6c9341ff0c0447b7ae4de7498e5306b4%29%3B%0A%20%20%20%20%20%20%20%20%0A%20%20%20%20%0A%20%20%20%20%20%20%20%20var%20marker_144df82edeb14eb78fc8b454760d629e%20%3D%20L.marker%28%0A%20%20%20%20%20%20%20%20%20%20%20%20%5B16.53746588434797%2C%20104.05454858153045%5D%2C%0A%20%20%20%20%20%20%20%20%20%20%20%20%7B%0A%20%20%20%20%20%20%20%20%20%20%20%20%20%20%20%20icon%3A%20new%20L.Icon.Default%28%29%2C%0A%20%20%20%20%20%20%20%20%20%20%20%20%20%20%20%20%7D%0A%20%20%20%20%20%20%20%20%20%20%20%20%29.addTo%28map_6c9341ff0c0447b7ae4de7498e5306b4%29%3B%0A%20%20%20%20%20%20%20%20%0A%20%20%20%20%0A%20%20%20%20%20%20%20%20var%20marker_cd5100ad92eb4973a8babf864488eea7%20%3D%20L.marker%28%0A%20%20%20%20%20%20%20%20%20%20%20%20%5B16.701685028092655%2C%20104.0905104381369%5D%2C%0A%20%20%20%20%20%20%20%20%20%20%20%20%7B%0A%20%20%20%20%20%20%20%20%20%20%20%20%20%20%20%20icon%3A%20new%20L.Icon.Default%28%29%2C%0A%20%20%20%20%20%20%20%20%20%20%20%20%20%20%20%20%7D%0A%20%20%20%20%20%20%20%20%20%20%20%20%29.addTo%28map_6c9341ff0c0447b7ae4de7498e5306b4%29%3B%0A%20%20%20%20%20%20%20%20%0A%20%20%20%20%0A%20%20%20%20%20%20%20%20var%20marker_3b34789a30f0436785f4d219a1e84dcd%20%3D%20L.marker%28%0A%20%20%20%20%20%20%20%20%20%20%20%20%5B16.92220985325953%2C%20103.63210459231912%5D%2C%0A%20%20%20%20%20%20%20%20%20%20%20%20%7B%0A%20%20%20%20%20%20%20%20%20%20%20%20%20%20%20%20icon%3A%20new%20L.Icon.Default%28%29%2C%0A%20%20%20%20%20%20%20%20%20%20%20%20%20%20%20%20%7D%0A%20%20%20%20%20%20%20%20%20%20%20%20%29.addTo%28map_6c9341ff0c0447b7ae4de7498e5306b4%29%3B%0A%20%20%20%20%20%20%20%20%0A%20%20%20%20%0A%20%20%20%20%20%20%20%20var%20marker_2acd2231215c4e24865e16328bbdf699%20%3D%20L.marker%28%0A%20%20%20%20%20%20%20%20%20%20%20%20%5B16.939674465913292%2C%20103.24487690717812%5D%2C%0A%20%20%20%20%20%20%20%20%20%20%20%20%7B%0A%20%20%20%20%20%20%20%20%20%20%20%20%20%20%20%20icon%3A%20new%20L.Icon.Default%28%29%2C%0A%20%20%20%20%20%20%20%20%20%20%20%20%20%20%20%20%7D%0A%20%20%20%20%20%20%20%20%20%20%20%20%29.addTo%28map_6c9341ff0c0447b7ae4de7498e5306b4%29%3B%0A%20%20%20%20%20%20%20%20%0A%20%20%20%20%0A%20%20%20%20%20%20%20%20var%20marker_459bd84bb8d74f8ca4206c3160409f76%20%3D%20L.marker%28%0A%20%20%20%20%20%20%20%20%20%20%20%20%5B16.574131582061902%2C%20103.78650551995797%5D%2C%0A%20%20%20%20%20%20%20%20%20%20%20%20%7B%0A%20%20%20%20%20%20%20%20%20%20%20%20%20%20%20%20icon%3A%20new%20L.Icon.Default%28%29%2C%0A%20%20%20%20%20%20%20%20%20%20%20%20%20%20%20%20%7D%0A%20%20%20%20%20%20%20%20%20%20%20%20%29.addTo%28map_6c9341ff0c0447b7ae4de7498e5306b4%29%3B%0A%20%20%20%20%20%20%20%20%0A%20%20%20%20%0A%20%20%20%20%20%20%20%20var%20marker_a92836aba3c84cd59a7ef1a23eaf4f71%20%3D%20L.marker%28%0A%20%20%20%20%20%20%20%20%20%20%20%20%5B16.40049737246322%2C%20103.37111862459459%5D%2C%0A%20%20%20%20%20%20%20%20%20%20%20%20%7B%0A%20%20%20%20%20%20%20%20%20%20%20%20%20%20%20%20icon%3A%20new%20L.Icon.Default%28%29%2C%0A%20%20%20%20%20%20%20%20%20%20%20%20%20%20%20%20%7D%0A%20%20%20%20%20%20%20%20%20%20%20%20%29.addTo%28map_6c9341ff0c0447b7ae4de7498e5306b4%29%3B%0A%20%20%20%20%20%20%20%20%0A%20%20%20%20%0A%20%20%20%20%20%20%20%20var%20marker_f015713f253640e1adb5febd38895396%20%3D%20L.marker%28%0A%20%20%20%20%20%20%20%20%20%20%20%20%5B16.275013036529366%2C%20103.74905823837511%5D%2C%0A%20%20%20%20%20%20%20%20%20%20%20%20%7B%0A%20%20%20%20%20%20%20%20%20%20%20%20%20%20%20%20icon%3A%20new%20L.Icon.Default%28%29%2C%0A%20%20%20%20%20%20%20%20%20%20%20%20%20%20%20%20%7D%0A%20%20%20%20%20%20%20%20%20%20%20%20%29.addTo%28map_6c9341ff0c0447b7ae4de7498e5306b4%29%3B%0A%20%20%20%20%20%20%20%20%0A%20%20%20%20%0A%20%20%20%20%20%20%20%20var%20marker_ab0055d74db44227b7ab0f82fab18efc%20%3D%20L.marker%28%0A%20%20%20%20%20%20%20%20%20%20%20%20%5B16.70434788401275%2C%20103.75201771895742%5D%2C%0A%20%20%20%20%20%20%20%20%20%20%20%20%7B%0A%20%20%20%20%20%20%20%20%20%20%20%20%20%20%20%20icon%3A%20new%20L.Icon.Default%28%29%2C%0A%20%20%20%20%20%20%20%20%20%20%20%20%20%20%20%20%7D%0A%20%20%20%20%20%20%20%20%20%20%20%20%29.addTo%28map_6c9341ff0c0447b7ae4de7498e5306b4%29%3B%0A%20%20%20%20%20%20%20%20%0A%20%20%20%20%0A%20%20%20%20%20%20%20%20var%20marker_578361ab0f7d4edbbbcc219e3a77e793%20%3D%20L.marker%28%0A%20%20%20%20%20%20%20%20%20%20%20%20%5B16.71231671649479%2C%20103.52125907538728%5D%2C%0A%20%20%20%20%20%20%20%20%20%20%20%20%7B%0A%20%20%20%20%20%20%20%20%20%20%20%20%20%20%20%20icon%3A%20new%20L.Icon.Default%28%29%2C%0A%20%20%20%20%20%20%20%20%20%20%20%20%20%20%20%20%7D%0A%20%20%20%20%20%20%20%20%20%20%20%20%29.addTo%28map_6c9341ff0c0447b7ae4de7498e5306b4%29%3B%0A%20%20%20%20%20%20%20%20%0A%20%20%20%20%0A%20%20%20%20%20%20%20%20var%20marker_ddf19eaab9aa49adac7daf951c824dbd%20%3D%20L.marker%28%0A%20%20%20%20%20%20%20%20%20%20%20%20%5B16.656800762472766%2C%20103.294253304799%5D%2C%0A%20%20%20%20%20%20%20%20%20%20%20%20%7B%0A%20%20%20%20%20%20%20%20%20%20%20%20%20%20%20%20icon%3A%20new%20L.Icon.Default%28%29%2C%0A%20%20%20%20%20%20%20%20%20%20%20%20%20%20%20%20%7D%0A%20%20%20%20%20%20%20%20%20%20%20%20%29.addTo%28map_6c9341ff0c0447b7ae4de7498e5306b4%29%3B%0A%20%20%20%20%20%20%20%20%0A%20%20%20%20%0A%20%20%20%20%20%20%20%20var%20marker_bc958249d3f545a6990b8ae988fab852%20%3D%20L.marker%28%0A%20%20%20%20%20%20%20%20%20%20%20%20%5B16.64557401790634%2C%20103.90756642767629%5D%2C%0A%20%20%20%20%20%20%20%20%20%20%20%20%7B%0A%20%20%20%20%20%20%20%20%20%20%20%20%20%20%20%20icon%3A%20new%20L.Icon.Default%28%29%2C%0A%20%20%20%20%20%20%20%20%20%20%20%20%20%20%20%20%7D%0A%20%20%20%20%20%20%20%20%20%20%20%20%29.addTo%28map_6c9341ff0c0447b7ae4de7498e5306b4%29%3B%0A%20%20%20%20%20%20%20%20%0A%20%20%20%20%0A%20%20%20%20%20%20%20%20var%20marker_05a862cd691e40629afc66a5a6895bff%20%3D%20L.marker%28%0A%20%20%20%20%20%20%20%20%20%20%20%20%5B16.589709221220282%2C%20103.23533976817525%5D%2C%0A%20%20%20%20%20%20%20%20%20%20%20%20%7B%0A%20%20%20%20%20%20%20%20%20%20%20%20%20%20%20%20icon%3A%20new%20L.Icon.Default%28%29%2C%0A%20%20%20%20%20%20%20%20%20%20%20%20%20%20%20%20%7D%0A%20%20%20%20%20%20%20%20%20%20%20%20%29.addTo%28map_6c9341ff0c0447b7ae4de7498e5306b4%29%3B%0A%20%20%20%20%20%20%20%20%0A%20%20%20%20%0A%20%20%20%20%20%20%20%20var%20marker_2f20e371ad6d4e4baead7f3215f17359%20%3D%20L.marker%28%0A%20%20%20%20%20%20%20%20%20%20%20%20%5B16.429893473773102%2C%20102.83430720776624%5D%2C%0A%20%20%20%20%20%20%20%20%20%20%20%20%7B%0A%20%20%20%20%20%20%20%20%20%20%20%20%20%20%20%20icon%3A%20new%20L.Icon.Default%28%29%2C%0A%20%20%20%20%20%20%20%20%20%20%20%20%20%20%20%20%7D%0A%20%20%20%20%20%20%20%20%20%20%20%20%29.addTo%28map_6c9341ff0c0447b7ae4de7498e5306b4%29%3B%0A%20%20%20%20%20%20%20%20%0A%20%20%20%20%0A%20%20%20%20%20%20%20%20var%20marker_a1cee9019f8b47b4bcd28098c811ebea%20%3D%20L.marker%28%0A%20%20%20%20%20%20%20%20%20%20%20%20%5B16.706262779850707%2C%20103.08144060399577%5D%2C%0A%20%20%20%20%20%20%20%20%20%20%20%20%7B%0A%20%20%20%20%20%20%20%20%20%20%20%20%20%20%20%20icon%3A%20new%20L.Icon.Default%28%29%2C%0A%20%20%20%20%20%20%20%20%20%20%20%20%20%20%20%20%7D%0A%20%20%20%20%20%20%20%20%20%20%20%20%29.addTo%28map_6c9341ff0c0447b7ae4de7498e5306b4%29%3B%0A%20%20%20%20%20%20%20%20%0A%20%20%20%20%0A%20%20%20%20%20%20%20%20var%20marker_a7662fc281fd4aec883efe721f05de29%20%3D%20L.marker%28%0A%20%20%20%20%20%20%20%20%20%20%20%20%5B16.858595281109753%2C%20102.86157244126838%5D%2C%0A%20%20%20%20%20%20%20%20%20%20%20%20%7B%0A%20%20%20%20%20%20%20%20%20%20%20%20%20%20%20%20icon%3A%20new%20L.Icon.Default%28%29%2C%0A%20%20%20%20%20%20%20%20%20%20%20%20%20%20%20%20%7D%0A%20%20%20%20%20%20%20%20%20%20%20%20%29.addTo%28map_6c9341ff0c0447b7ae4de7498e5306b4%29%3B%0A%20%20%20%20%20%20%20%20%0A%20%20%20%20%0A%20%20%20%20%20%20%20%20var%20marker_dfde26736e55451b9c78e97cefa71d82%20%3D%20L.marker%28%0A%20%20%20%20%20%20%20%20%20%20%20%20%5B16.08908396657883%2C%20102.6203123100151%5D%2C%0A%20%20%20%20%20%20%20%20%20%20%20%20%7B%0A%20%20%20%20%20%20%20%20%20%20%20%20%20%20%20%20icon%3A%20new%20L.Icon.Default%28%29%2C%0A%20%20%20%20%20%20%20%20%20%20%20%20%20%20%20%20%7D%0A%20%20%20%20%20%20%20%20%20%20%20%20%29.addTo%28map_6c9341ff0c0447b7ae4de7498e5306b4%29%3B%0A%20%20%20%20%20%20%20%20%0A%20%20%20%20%0A%20%20%20%20%20%20%20%20var%20marker_5c3a10465370419aa2708fb9223f887e%20%3D%20L.marker%28%0A%20%20%20%20%20%20%20%20%20%20%20%20%5B16.546449510356698%2C%20102.09918994267356%5D%2C%0A%20%20%20%20%20%20%20%20%20%20%20%20%7B%0A%20%20%20%20%20%20%20%20%20%20%20%20%20%20%20%20icon%3A%20new%20L.Icon.Default%28%29%2C%0A%20%20%20%20%20%20%20%20%20%20%20%20%20%20%20%20%7D%0A%20%20%20%20%20%20%20%20%20%20%20%20%29.addTo%28map_6c9341ff0c0447b7ae4de7498e5306b4%29%3B%0A%20%20%20%20%20%20%20%20%0A%20%20%20%20%0A%20%20%20%20%20%20%20%20var%20marker_1ff402d16b46490f981b005c0c59a3db%20%3D%20L.marker%28%0A%20%20%20%20%20%20%20%20%20%20%20%20%5B16.70232541287425%2C%20102.85544554649434%5D%2C%0A%20%20%20%20%20%20%20%20%20%20%20%20%7B%0A%20%20%20%20%20%20%20%20%20%20%20%20%20%20%20%20icon%3A%20new%20L.Icon.Default%28%29%2C%0A%20%20%20%20%20%20%20%20%20%20%20%20%20%20%20%20%7D%0A%20%20%20%20%20%20%20%20%20%20%20%20%29.addTo%28map_6c9341ff0c0447b7ae4de7498e5306b4%29%3B%0A%20%20%20%20%20%20%20%20%0A%20%20%20%20%0A%20%20%20%20%20%20%20%20var%20marker_4787687cef1a4e2b98c988c018301ce6%20%3D%20L.marker%28%0A%20%20%20%20%20%20%20%20%20%20%20%20%5B16.060199194547682%2C%20102.73062159916762%5D%2C%0A%20%20%20%20%20%20%20%20%20%20%20%20%7B%0A%20%20%20%20%20%20%20%20%20%20%20%20%20%20%20%20icon%3A%20new%20L.Icon.Default%28%29%2C%0A%20%20%20%20%20%20%20%20%20%20%20%20%20%20%20%20%7D%0A%20%20%20%20%20%20%20%20%20%20%20%20%29.addTo%28map_6c9341ff0c0447b7ae4de7498e5306b4%29%3B%0A%20%20%20%20%20%20%20%20%0A%20%20%20%20%0A%20%20%20%20%20%20%20%20var%20marker_995a05e4d82d460ba78cdc7343cf898b%20%3D%20L.marker%28%0A%20%20%20%20%20%20%20%20%20%20%20%20%5B16.45307342258043%2C%20102.6383880621625%5D%2C%0A%20%20%20%20%20%20%20%20%20%20%20%20%7B%0A%20%20%20%20%20%20%20%20%20%20%20%20%20%20%20%20icon%3A%20new%20L.Icon.Default%28%29%2C%0A%20%20%20%20%20%20%20%20%20%20%20%20%20%20%20%20%7D%0A%20%20%20%20%20%20%20%20%20%20%20%20%29.addTo%28map_6c9341ff0c0447b7ae4de7498e5306b4%29%3B%0A%20%20%20%20%20%20%20%20%0A%20%20%20%20%0A%20%20%20%20%20%20%20%20var%20marker_4be40781d2b44390b08b2cdc61f34ed1%20%3D%20L.marker%28%0A%20%20%20%20%20%20%20%20%20%20%20%20%5B15.876536339352844%2C%20102.91071076680474%5D%2C%0A%20%20%20%20%20%20%20%20%20%20%20%20%7B%0A%20%20%20%20%20%20%20%20%20%20%20%20%20%20%20%20icon%3A%20new%20L.Icon.Default%28%29%2C%0A%20%20%20%20%20%20%20%20%20%20%20%20%20%20%20%20%7D%0A%20%20%20%20%20%20%20%20%20%20%20%20%29.addTo%28map_6c9341ff0c0447b7ae4de7498e5306b4%29%3B%0A%20%20%20%20%20%20%20%20%0A%20%20%20%20%0A%20%20%20%20%20%20%20%20var%20marker_c1ebd75151934fe9a62e2dd0d746e6bc%20%3D%20L.marker%28%0A%20%20%20%20%20%20%20%20%20%20%20%20%5B16.322462367323386%2C%20102.64791358106602%5D%2C%0A%20%20%20%20%20%20%20%20%20%20%20%20%7B%0A%20%20%20%20%20%20%20%20%20%20%20%20%20%20%20%20icon%3A%20new%20L.Icon.Default%28%29%2C%0A%20%20%20%20%20%20%20%20%20%20%20%20%20%20%20%20%7D%0A%20%20%20%20%20%20%20%20%20%20%20%20%29.addTo%28map_6c9341ff0c0447b7ae4de7498e5306b4%29%3B%0A%20%20%20%20%20%20%20%20%0A%20%20%20%20%0A%20%20%20%20%20%20%20%20var%20marker_fedc35c2d4d94b2b936ef750983b5bb7%20%3D%20L.marker%28%0A%20%20%20%20%20%20%20%20%20%20%20%20%5B15.816122368150673%2C%20102.59945768921237%5D%2C%0A%20%20%20%20%20%20%20%20%20%20%20%20%7B%0A%20%20%20%20%20%20%20%20%20%20%20%20%20%20%20%20icon%3A%20new%20L.Icon.Default%28%29%2C%0A%20%20%20%20%20%20%20%20%20%20%20%20%20%20%20%20%7D%0A%20%20%20%20%20%20%20%20%20%20%20%20%29.addTo%28map_6c9341ff0c0447b7ae4de7498e5306b4%29%3B%0A%20%20%20%20%20%20%20%20%0A%20%20%20%20%0A%20%20%20%20%20%20%20%20var%20marker_240ef1c7f02840caa1d13fe5dff85c4b%20%3D%20L.marker%28%0A%20%20%20%20%20%20%20%20%20%20%20%20%5B16.64554116862502%2C%20101.90426900455759%5D%2C%0A%20%20%20%20%20%20%20%20%20%20%20%20%7B%0A%20%20%20%20%20%20%20%20%20%20%20%20%20%20%20%20icon%3A%20new%20L.Icon.Default%28%29%2C%0A%20%20%20%20%20%20%20%20%20%20%20%20%20%20%20%20%7D%0A%20%20%20%20%20%20%20%20%20%20%20%20%29.addTo%28map_6c9341ff0c0447b7ae4de7498e5306b4%29%3B%0A%20%20%20%20%20%20%20%20%0A%20%20%20%20%0A%20%20%20%20%20%20%20%20var%20marker_51c701d5a7df45cfb87494689db81e5f%20%3D%20L.marker%28%0A%20%20%20%20%20%20%20%20%20%20%20%20%5B16.65455167954076%2C%20102.3778746286218%5D%2C%0A%20%20%20%20%20%20%20%20%20%20%20%20%7B%0A%20%20%20%20%20%20%20%20%20%20%20%20%20%20%20%20icon%3A%20new%20L.Icon.Default%28%29%2C%0A%20%20%20%20%20%20%20%20%20%20%20%20%20%20%20%20%7D%0A%20%20%20%20%20%20%20%20%20%20%20%20%29.addTo%28map_6c9341ff0c0447b7ae4de7498e5306b4%29%3B%0A%20%20%20%20%20%20%20%20%0A%20%20%20%20%0A%20%20%20%20%20%20%20%20var%20marker_0695d647cfcc40f3b373ce7937397c3f%20%3D%20L.marker%28%0A%20%20%20%20%20%20%20%20%20%20%20%20%5B16.127046790041845%2C%20102.54247923614427%5D%2C%0A%20%20%20%20%20%20%20%20%20%20%20%20%7B%0A%20%20%20%20%20%20%20%20%20%20%20%20%20%20%20%20icon%3A%20new%20L.Icon.Default%28%29%2C%0A%20%20%20%20%20%20%20%20%20%20%20%20%20%20%20%20%7D%0A%20%20%20%20%20%20%20%20%20%20%20%20%29.addTo%28map_6c9341ff0c0447b7ae4de7498e5306b4%29%3B%0A%20%20%20%20%20%20%20%20%0A%20%20%20%20%0A%20%20%20%20%20%20%20%20var%20marker_548070cd9c60496bbe18823ea95c798f%20%3D%20L.marker%28%0A%20%20%20%20%20%20%20%20%20%20%20%20%5B15.79685030078661%2C%20102.43100385755082%5D%2C%0A%20%20%20%20%20%20%20%20%20%20%20%20%7B%0A%20%20%20%20%20%20%20%20%20%20%20%20%20%20%20%20icon%3A%20new%20L.Icon.Default%28%29%2C%0A%20%20%20%20%20%20%20%20%20%20%20%20%20%20%20%20%7D%0A%20%20%20%20%20%20%20%20%20%20%20%20%29.addTo%28map_6c9341ff0c0447b7ae4de7498e5306b4%29%3B%0A%20%20%20%20%20%20%20%20%0A%20%20%20%20%0A%20%20%20%20%20%20%20%20var%20marker_b52671af26d04d518d960b159ceb6ab4%20%3D%20L.marker%28%0A%20%20%20%20%20%20%20%20%20%20%20%20%5B15.956292280585847%2C%20102.54037078472277%5D%2C%0A%20%20%20%20%20%20%20%20%20%20%20%20%7B%0A%20%20%20%20%20%20%20%20%20%20%20%20%20%20%20%20icon%3A%20new%20L.Icon.Default%28%29%2C%0A%20%20%20%20%20%20%20%20%20%20%20%20%20%20%20%20%7D%0A%20%20%20%20%20%20%20%20%20%20%20%20%29.addTo%28map_6c9341ff0c0447b7ae4de7498e5306b4%29%3B%0A%20%20%20%20%20%20%20%20%0A%20%20%20%20%0A%20%20%20%20%20%20%20%20var%20marker_34a5df35d9e843b0950e457c3a25639a%20%3D%20L.marker%28%0A%20%20%20%20%20%20%20%20%20%20%20%20%5B16.800699495196408%2C%20102.18732256274433%5D%2C%0A%20%20%20%20%20%20%20%20%20%20%20%20%7B%0A%20%20%20%20%20%20%20%20%20%20%20%20%20%20%20%20icon%3A%20new%20L.Icon.Default%28%29%2C%0A%20%20%20%20%20%20%20%20%20%20%20%20%20%20%20%20%7D%0A%20%20%20%20%20%20%20%20%20%20%20%20%29.addTo%28map_6c9341ff0c0447b7ae4de7498e5306b4%29%3B%0A%20%20%20%20%20%20%20%20%0A%20%20%20%20%0A%20%20%20%20%20%20%20%20var%20marker_0486507cb3fc43718bc4b4de3c4d197b%20%3D%20L.marker%28%0A%20%20%20%20%20%20%20%20%20%20%20%20%5B16.493124305364915%2C%20102.43407836044227%5D%2C%0A%20%20%20%20%20%20%20%20%20%20%20%20%7B%0A%20%20%20%20%20%20%20%20%20%20%20%20%20%20%20%20icon%3A%20new%20L.Icon.Default%28%29%2C%0A%20%20%20%20%20%20%20%20%20%20%20%20%20%20%20%20%7D%0A%20%20%20%20%20%20%20%20%20%20%20%20%29.addTo%28map_6c9341ff0c0447b7ae4de7498e5306b4%29%3B%0A%20%20%20%20%20%20%20%20%0A%20%20%20%20%0A%20%20%20%20%20%20%20%20var%20marker_6dc5d0903ecb40fe8f62bf6a7d497867%20%3D%20L.marker%28%0A%20%20%20%20%20%20%20%20%20%20%20%20%5B15.733102841227302%2C%20102.7965061412779%5D%2C%0A%20%20%20%20%20%20%20%20%20%20%20%20%7B%0A%20%20%20%20%20%20%20%20%20%20%20%20%20%20%20%20icon%3A%20new%20L.Icon.Default%28%29%2C%0A%20%20%20%20%20%20%20%20%20%20%20%20%20%20%20%20%7D%0A%20%20%20%20%20%20%20%20%20%20%20%20%29.addTo%28map_6c9341ff0c0447b7ae4de7498e5306b4%29%3B%0A%20%20%20%20%20%20%20%20%0A%20%20%20%20%0A%20%20%20%20%20%20%20%20var%20marker_2cdbe56e31ce424586a9e9b1cce1ab17%20%3D%20L.marker%28%0A%20%20%20%20%20%20%20%20%20%20%20%20%5B16.754351900544897%2C%20102.63142144827795%5D%2C%0A%20%20%20%20%20%20%20%20%20%20%20%20%7B%0A%20%20%20%20%20%20%20%20%20%20%20%20%20%20%20%20icon%3A%20new%20L.Icon.Default%28%29%2C%0A%20%20%20%20%20%20%20%20%20%20%20%20%20%20%20%20%7D%0A%20%20%20%20%20%20%20%20%20%20%20%20%29.addTo%28map_6c9341ff0c0447b7ae4de7498e5306b4%29%3B%0A%20%20%20%20%20%20%20%20%0A%20%20%20%20%0A%20%20%20%20%20%20%20%20var%20marker_16211733428545e695e9f5a44c9c2e2b%20%3D%20L.marker%28%0A%20%20%20%20%20%20%20%20%20%20%20%20%5B16.08762295269255%2C%20102.39431885111304%5D%2C%0A%20%20%20%20%20%20%20%20%20%20%20%20%7B%0A%20%20%20%20%20%20%20%20%20%20%20%20%20%20%20%20icon%3A%20new%20L.Icon.Default%28%29%2C%0A%20%20%20%20%20%20%20%20%20%20%20%20%20%20%20%20%7D%0A%20%20%20%20%20%20%20%20%20%20%20%20%29.addTo%28map_6c9341ff0c0447b7ae4de7498e5306b4%29%3B%0A%20%20%20%20%20%20%20%20%0A%20%20%20%20%0A%20%20%20%20%20%20%20%20var%20marker_ff246aef8c7c44148729694e0e7ae467%20%3D%20L.marker%28%0A%20%20%20%20%20%20%20%20%20%20%20%20%5B16.524828819905412%2C%20103.0621661573748%5D%2C%0A%20%20%20%20%20%20%20%20%20%20%20%20%7B%0A%20%20%20%20%20%20%20%20%20%20%20%20%20%20%20%20icon%3A%20new%20L.Icon.Default%28%29%2C%0A%20%20%20%20%20%20%20%20%20%20%20%20%20%20%20%20%7D%0A%20%20%20%20%20%20%20%20%20%20%20%20%29.addTo%28map_6c9341ff0c0447b7ae4de7498e5306b4%29%3B%0A%20%20%20%20%20%20%20%20%0A%20%20%20%20%0A%20%20%20%20%20%20%20%20var%20marker_6ec69bc94c0f407b8e3a393090406cb1%20%3D%20L.marker%28%0A%20%20%20%20%20%20%20%20%20%20%20%20%5B16.80380625280329%2C%20102.33935697506817%5D%2C%0A%20%20%20%20%20%20%20%20%20%20%20%20%7B%0A%20%20%20%20%20%20%20%20%20%20%20%20%20%20%20%20icon%3A%20new%20L.Icon.Default%28%29%2C%0A%20%20%20%20%20%20%20%20%20%20%20%20%20%20%20%20%7D%0A%20%20%20%20%20%20%20%20%20%20%20%20%29.addTo%28map_6c9341ff0c0447b7ae4de7498e5306b4%29%3B%0A%20%20%20%20%20%20%20%20%0A%20%20%20%20%0A%20%20%20%20%20%20%20%20var%20marker_fa86e79c0ce945078604c7a336d7483b%20%3D%20L.marker%28%0A%20%20%20%20%20%20%20%20%20%20%20%20%5B16.54232273913626%2C%20104.72732821635125%5D%2C%0A%20%20%20%20%20%20%20%20%20%20%20%20%7B%0A%20%20%20%20%20%20%20%20%20%20%20%20%20%20%20%20icon%3A%20new%20L.Icon.Default%28%29%2C%0A%20%20%20%20%20%20%20%20%20%20%20%20%20%20%20%20%7D%0A%20%20%20%20%20%20%20%20%20%20%20%20%29.addTo%28map_6c9341ff0c0447b7ae4de7498e5306b4%29%3B%0A%20%20%20%20%20%20%20%20%0A%20%20%20%20%0A%20%20%20%20%20%20%20%20var%20marker_005bd605cc134efda929b00a8a830a5e%20%3D%20L.marker%28%0A%20%20%20%20%20%20%20%20%20%20%20%20%5B16.578210999574402%2C%20104.41850414651556%5D%2C%0A%20%20%20%20%20%20%20%20%20%20%20%20%7B%0A%20%20%20%20%20%20%20%20%20%20%20%20%20%20%20%20icon%3A%20new%20L.Icon.Default%28%29%2C%0A%20%20%20%20%20%20%20%20%20%20%20%20%20%20%20%20%7D%0A%20%20%20%20%20%20%20%20%20%20%20%20%29.addTo%28map_6c9341ff0c0447b7ae4de7498e5306b4%29%3B%0A%20%20%20%20%20%20%20%20%0A%20%20%20%20%0A%20%20%20%20%20%20%20%20var%20marker_40baaa4dd8144db5aad1428ca0e6928e%20%3D%20L.marker%28%0A%20%20%20%20%20%20%20%20%20%20%20%20%5B16.81589157320543%2C%20104.53791731629572%5D%2C%0A%20%20%20%20%20%20%20%20%20%20%20%20%7B%0A%20%20%20%20%20%20%20%20%20%20%20%20%20%20%20%20icon%3A%20new%20L.Icon.Default%28%29%2C%0A%20%20%20%20%20%20%20%20%20%20%20%20%20%20%20%20%7D%0A%20%20%20%20%20%20%20%20%20%20%20%20%29.addTo%28map_6c9341ff0c0447b7ae4de7498e5306b4%29%3B%0A%20%20%20%20%20%20%20%20%0A%20%20%20%20%0A%20%20%20%20%20%20%20%20var%20marker_3489e0821de6447892ded57e63dbf95e%20%3D%20L.marker%28%0A%20%20%20%20%20%20%20%20%20%20%20%20%5B16.326065696570044%2C%20104.91954819714975%5D%2C%0A%20%20%20%20%20%20%20%20%20%20%20%20%7B%0A%20%20%20%20%20%20%20%20%20%20%20%20%20%20%20%20icon%3A%20new%20L.Icon.Default%28%29%2C%0A%20%20%20%20%20%20%20%20%20%20%20%20%20%20%20%20%7D%0A%20%20%20%20%20%20%20%20%20%20%20%20%29.addTo%28map_6c9341ff0c0447b7ae4de7498e5306b4%29%3B%0A%20%20%20%20%20%20%20%20%0A%20%20%20%20%0A%20%20%20%20%20%20%20%20var%20marker_ecdf6d23d533408191837ab6481136ba%20%3D%20L.marker%28%0A%20%20%20%20%20%20%20%20%20%20%20%20%5B16.371707541018502%2C%20104.55124307237232%5D%2C%0A%20%20%20%20%20%20%20%20%20%20%20%20%7B%0A%20%20%20%20%20%20%20%20%20%20%20%20%20%20%20%20icon%3A%20new%20L.Icon.Default%28%29%2C%0A%20%20%20%20%20%20%20%20%20%20%20%20%20%20%20%20%7D%0A%20%20%20%20%20%20%20%20%20%20%20%20%29.addTo%28map_6c9341ff0c0447b7ae4de7498e5306b4%29%3B%0A%20%20%20%20%20%20%20%20%0A%20%20%20%20%0A%20%20%20%20%20%20%20%20var%20marker_03bae2bf23d5463cb407922095cf56d4%20%3D%20L.marker%28%0A%20%20%20%20%20%20%20%20%20%20%20%20%5B16.487143479164427%2C%20104.34429182852739%5D%2C%0A%20%20%20%20%20%20%20%20%20%20%20%20%7B%0A%20%20%20%20%20%20%20%20%20%20%20%20%20%20%20%20icon%3A%20new%20L.Icon.Default%28%29%2C%0A%20%20%20%20%20%20%20%20%20%20%20%20%20%20%20%20%7D%0A%20%20%20%20%20%20%20%20%20%20%20%20%29.addTo%28map_6c9341ff0c0447b7ae4de7498e5306b4%29%3B%0A%20%20%20%20%20%20%20%20%0A%20%20%20%20%0A%20%20%20%20%20%20%20%20var%20marker_2c7d7bf125554f8ab688750e537302f6%20%3D%20L.marker%28%0A%20%20%20%20%20%20%20%20%20%20%20%20%5B16.727021032176015%2C%20104.73785527765114%5D%2C%0A%20%20%20%20%20%20%20%20%20%20%20%20%7B%0A%20%20%20%20%20%20%20%20%20%20%20%20%20%20%20%20icon%3A%20new%20L.Icon.Default%28%29%2C%0A%20%20%20%20%20%20%20%20%20%20%20%20%20%20%20%20%7D%0A%20%20%20%20%20%20%20%20%20%20%20%20%29.addTo%28map_6c9341ff0c0447b7ae4de7498e5306b4%29%3B%0A%20%20%20%20%20%20%20%20%0A%20%20%20%20%0A%20%20%20%20%20%20%20%20var%20marker_00b15cd6fde44cafbf85ffa06b73a7a5%20%3D%20L.marker%28%0A%20%20%20%20%20%20%20%20%20%20%20%20%5B15.807780085221156%2C%20102.03422286703672%5D%2C%0A%20%20%20%20%20%20%20%20%20%20%20%20%7B%0A%20%20%20%20%20%20%20%20%20%20%20%20%20%20%20%20icon%3A%20new%20L.Icon.Default%28%29%2C%0A%20%20%20%20%20%20%20%20%20%20%20%20%20%20%20%20%7D%0A%20%20%20%20%20%20%20%20%20%20%20%20%29.addTo%28map_6c9341ff0c0447b7ae4de7498e5306b4%29%3B%0A%20%20%20%20%20%20%20%20%0A%20%20%20%20%0A%20%20%20%20%20%20%20%20var%20marker_ac8f57920ca9445390d18f997537471a%20%3D%20L.marker%28%0A%20%20%20%20%20%20%20%20%20%20%20%20%5B16.2800256531336%2C%20101.95436362242353%5D%2C%0A%20%20%20%20%20%20%20%20%20%20%20%20%7B%0A%20%20%20%20%20%20%20%20%20%20%20%20%20%20%20%20icon%3A%20new%20L.Icon.Default%28%29%2C%0A%20%20%20%20%20%20%20%20%20%20%20%20%20%20%20%20%7D%0A%20%20%20%20%20%20%20%20%20%20%20%20%29.addTo%28map_6c9341ff0c0447b7ae4de7498e5306b4%29%3B%0A%20%20%20%20%20%20%20%20%0A%20%20%20%20%0A%20%20%20%20%20%20%20%20var%20marker_bba76d1bd37346cb8038d4622cdc584a%20%3D%20L.marker%28%0A%20%20%20%20%20%20%20%20%20%20%20%20%5B16.10858490031321%2C%20102.25782399486127%5D%2C%0A%20%20%20%20%20%20%20%20%20%20%20%20%7B%0A%20%20%20%20%20%20%20%20%20%20%20%20%20%20%20%20icon%3A%20new%20L.Icon.Default%28%29%2C%0A%20%20%20%20%20%20%20%20%20%20%20%20%20%20%20%20%7D%0A%20%20%20%20%20%20%20%20%20%20%20%20%29.addTo%28map_6c9341ff0c0447b7ae4de7498e5306b4%29%3B%0A%20%20%20%20%20%20%20%20%0A%20%20%20%20%0A%20%20%20%20%20%20%20%20var%20marker_00c39955bf1a457bb45ea48cb62c89e9%20%3D%20L.marker%28%0A%20%20%20%20%20%20%20%20%20%20%20%20%5B15.931937916274975%2C%20102.28011919132692%5D%2C%0A%20%20%20%20%20%20%20%20%20%20%20%20%7B%0A%20%20%20%20%20%20%20%20%20%20%20%20%20%20%20%20icon%3A%20new%20L.Icon.Default%28%29%2C%0A%20%20%20%20%20%20%20%20%20%20%20%20%20%20%20%20%7D%0A%20%20%20%20%20%20%20%20%20%20%20%20%29.addTo%28map_6c9341ff0c0447b7ae4de7498e5306b4%29%3B%0A%20%20%20%20%20%20%20%20%0A%20%20%20%20%0A%20%20%20%20%20%20%20%20var%20marker_ef9a2b4bdf8b474f81986982c70a5196%20%3D%20L.marker%28%0A%20%20%20%20%20%20%20%20%20%20%20%20%5B16.61344307957204%2C%20101.92008168133589%5D%2C%0A%20%20%20%20%20%20%20%20%20%20%20%20%7B%0A%20%20%20%20%20%20%20%20%20%20%20%20%20%20%20%20icon%3A%20new%20L.Icon.Default%28%29%2C%0A%20%20%20%20%20%20%20%20%20%20%20%20%20%20%20%20%7D%0A%20%20%20%20%20%20%20%20%20%20%20%20%29.addTo%28map_6c9341ff0c0447b7ae4de7498e5306b4%29%3B%0A%20%20%20%20%20%20%20%20%0A%20%20%20%20%0A%20%20%20%20%20%20%20%20var%20marker_90570b6d435c41bfad40e4b9728e947f%20%3D%20L.marker%28%0A%20%20%20%20%20%20%20%20%20%20%20%20%5B15.566447935362302%2C%20101.84537299184048%5D%2C%0A%20%20%20%20%20%20%20%20%20%20%20%20%7B%0A%20%20%20%20%20%20%20%20%20%20%20%20%20%20%20%20icon%3A%20new%20L.Icon.Default%28%29%2C%0A%20%20%20%20%20%20%20%20%20%20%20%20%20%20%20%20%7D%0A%20%20%20%20%20%20%20%20%20%20%20%20%29.addTo%28map_6c9341ff0c0447b7ae4de7498e5306b4%29%3B%0A%20%20%20%20%20%20%20%20%0A%20%20%20%20%0A%20%20%20%20%20%20%20%20var%20marker_a3cb755035c244d6bff36af2657f1b0c%20%3D%20L.marker%28%0A%20%20%20%20%20%20%20%20%20%20%20%20%5B15.389238873412403%2C%20101.4359078497457%5D%2C%0A%20%20%20%20%20%20%20%20%20%20%20%20%7B%0A%20%20%20%20%20%20%20%20%20%20%20%20%20%20%20%20icon%3A%20new%20L.Icon.Default%28%29%2C%0A%20%20%20%20%20%20%20%20%20%20%20%20%20%20%20%20%7D%0A%20%20%20%20%20%20%20%20%20%20%20%20%29.addTo%28map_6c9341ff0c0447b7ae4de7498e5306b4%29%3B%0A%20%20%20%20%20%20%20%20%0A%20%20%20%20%0A%20%20%20%20%20%20%20%20var%20marker_be6c8595f1e14bd4bdf8ab288df963ed%20%3D%20L.marker%28%0A%20%20%20%20%20%20%20%20%20%20%20%20%5B15.77849312205868%2C%20101.90725473118894%5D%2C%0A%20%20%20%20%20%20%20%20%20%20%20%20%7B%0A%20%20%20%20%20%20%20%20%20%20%20%20%20%20%20%20icon%3A%20new%20L.Icon.Default%28%29%2C%0A%20%20%20%20%20%20%20%20%20%20%20%20%20%20%20%20%7D%0A%20%20%20%20%20%20%20%20%20%20%20%20%29.addTo%28map_6c9341ff0c0447b7ae4de7498e5306b4%29%3B%0A%20%20%20%20%20%20%20%20%0A%20%20%20%20%0A%20%20%20%20%20%20%20%20var%20marker_6fc907e467b1484cb2138d7a8824059b%20%3D%20L.marker%28%0A%20%20%20%20%20%20%20%20%20%20%20%20%5B16.40408802473189%2C%20102.34158038290882%5D%2C%0A%20%20%20%20%20%20%20%20%20%20%20%20%7B%0A%20%20%20%20%20%20%20%20%20%20%20%20%20%20%20%20icon%3A%20new%20L.Icon.Default%28%29%2C%0A%20%20%20%20%20%20%20%20%20%20%20%20%20%20%20%20%7D%0A%20%20%20%20%20%20%20%20%20%20%20%20%29.addTo%28map_6c9341ff0c0447b7ae4de7498e5306b4%29%3B%0A%20%20%20%20%20%20%20%20%0A%20%20%20%20%0A%20%20%20%20%20%20%20%20var%20marker_95123e1e4f164ec2ac6ff68b9031958a%20%3D%20L.marker%28%0A%20%20%20%20%20%20%20%20%20%20%20%20%5B15.500436171320096%2C%20101.68612249916896%5D%2C%0A%20%20%20%20%20%20%20%20%20%20%20%20%7B%0A%20%20%20%20%20%20%20%20%20%20%20%20%20%20%20%20icon%3A%20new%20L.Icon.Default%28%29%2C%0A%20%20%20%20%20%20%20%20%20%20%20%20%20%20%20%20%7D%0A%20%20%20%20%20%20%20%20%20%20%20%20%29.addTo%28map_6c9341ff0c0447b7ae4de7498e5306b4%29%3B%0A%20%20%20%20%20%20%20%20%0A%20%20%20%20%0A%20%20%20%20%20%20%20%20var%20marker_4228649441284f15a208e3cd9ee97dd0%20%3D%20L.marker%28%0A%20%20%20%20%20%20%20%20%20%20%20%20%5B15.904589394436147%2C%20101.42185384236434%5D%2C%0A%20%20%20%20%20%20%20%20%20%20%20%20%7B%0A%20%20%20%20%20%20%20%20%20%20%20%20%20%20%20%20icon%3A%20new%20L.Icon.Default%28%29%2C%0A%20%20%20%20%20%20%20%20%20%20%20%20%20%20%20%20%7D%0A%20%20%20%20%20%20%20%20%20%20%20%20%29.addTo%28map_6c9341ff0c0447b7ae4de7498e5306b4%29%3B%0A%20%20%20%20%20%20%20%20%0A%20%20%20%20%0A%20%20%20%20%20%20%20%20var%20marker_82ec1242c1fe41bda0f8b76d6dfa0dbf%20%3D%20L.marker%28%0A%20%20%20%20%20%20%20%20%20%20%20%20%5B16.376042296921835%2C%20102.12511015778614%5D%2C%0A%20%20%20%20%20%20%20%20%20%20%20%20%7B%0A%20%20%20%20%20%20%20%20%20%20%20%20%20%20%20%20icon%3A%20new%20L.Icon.Default%28%29%2C%0A%20%20%20%20%20%20%20%20%20%20%20%20%20%20%20%20%7D%0A%20%20%20%20%20%20%20%20%20%20%20%20%29.addTo%28map_6c9341ff0c0447b7ae4de7498e5306b4%29%3B%0A%20%20%20%20%20%20%20%20%0A%20%20%20%20%0A%20%20%20%20%20%20%20%20var%20marker_fd6c9b1b376b426381c5b6876dfddac9%20%3D%20L.marker%28%0A%20%20%20%20%20%20%20%20%20%20%20%20%5B16.08233460838153%2C%20101.80179056093809%5D%2C%0A%20%20%20%20%20%20%20%20%20%20%20%20%7B%0A%20%20%20%20%20%20%20%20%20%20%20%20%20%20%20%20icon%3A%20new%20L.Icon.Default%28%29%2C%0A%20%20%20%20%20%20%20%20%20%20%20%20%20%20%20%20%7D%0A%20%20%20%20%20%20%20%20%20%20%20%20%29.addTo%28map_6c9341ff0c0447b7ae4de7498e5306b4%29%3B%0A%20%20%20%20%20%20%20%20%0A%20%20%20%20%0A%20%20%20%20%20%20%20%20var%20marker_1fa7909b91644875bb33286a10b644c5%20%3D%20L.marker%28%0A%20%20%20%20%20%20%20%20%20%20%20%20%5B15.753090304618357%2C%20101.76365506908434%5D%2C%0A%20%20%20%20%20%20%20%20%20%20%20%20%7B%0A%20%20%20%20%20%20%20%20%20%20%20%20%20%20%20%20icon%3A%20new%20L.Icon.Default%28%29%2C%0A%20%20%20%20%20%20%20%20%20%20%20%20%20%20%20%20%7D%0A%20%20%20%20%20%20%20%20%20%20%20%20%29.addTo%28map_6c9341ff0c0447b7ae4de7498e5306b4%29%3B%0A%20%20%20%20%20%20%20%20%0A%20%20%20%20%0A%20%20%20%20%20%20%20%20var%20marker_663ece5fc8394e86a12c9e1266a7c79e%20%3D%20L.marker%28%0A%20%20%20%20%20%20%20%20%20%20%20%20%5B15.55780682629564%2C%20101.9596548104486%5D%2C%0A%20%20%20%20%20%20%20%20%20%20%20%20%7B%0A%20%20%20%20%20%20%20%20%20%20%20%20%20%20%20%20icon%3A%20new%20L.Icon.Default%28%29%2C%0A%20%20%20%20%20%20%20%20%20%20%20%20%20%20%20%20%7D%0A%20%20%20%20%20%20%20%20%20%20%20%20%29.addTo%28map_6c9341ff0c0447b7ae4de7498e5306b4%29%3B%0A%20%20%20%20%20%20%20%20%0A%20%20%20%20%0A%20%20%20%20%20%20%20%20var%20marker_d372bd009ac44807a6fccdc59508bc0d%20%3D%20L.marker%28%0A%20%20%20%20%20%20%20%20%20%20%20%20%5B16.18450612000325%2C%20103.30126632760341%5D%2C%0A%20%20%20%20%20%20%20%20%20%20%20%20%7B%0A%20%20%20%20%20%20%20%20%20%20%20%20%20%20%20%20icon%3A%20new%20L.Icon.Default%28%29%2C%0A%20%20%20%20%20%20%20%20%20%20%20%20%20%20%20%20%7D%0A%20%20%20%20%20%20%20%20%20%20%20%20%29.addTo%28map_6c9341ff0c0447b7ae4de7498e5306b4%29%3B%0A%20%20%20%20%20%20%20%20%0A%20%20%20%20%0A%20%20%20%20%20%20%20%20var%20marker_133ec55a03c348b1b2be9e230090d3aa%20%3D%20L.marker%28%0A%20%20%20%20%20%20%20%20%20%20%20%20%5B16.32454519796593%2C%20103.29716161093432%5D%2C%0A%20%20%20%20%20%20%20%20%20%20%20%20%7B%0A%20%20%20%20%20%20%20%20%20%20%20%20%20%20%20%20icon%3A%20new%20L.Icon.Default%28%29%2C%0A%20%20%20%20%20%20%20%20%20%20%20%20%20%20%20%20%7D%0A%20%20%20%20%20%20%20%20%20%20%20%20%29.addTo%28map_6c9341ff0c0447b7ae4de7498e5306b4%29%3B%0A%20%20%20%20%20%20%20%20%0A%20%20%20%20%0A%20%20%20%20%20%20%20%20var%20marker_2e4deab0388a4e6f863f10cdd525f9d2%20%3D%20L.marker%28%0A%20%20%20%20%20%20%20%20%20%20%20%20%5B16.026642253691474%2C%20103.38493448920593%5D%2C%0A%20%20%20%20%20%20%20%20%20%20%20%20%7B%0A%20%20%20%20%20%20%20%20%20%20%20%20%20%20%20%20icon%3A%20new%20L.Icon.Default%28%29%2C%0A%20%20%20%20%20%20%20%20%20%20%20%20%20%20%20%20%7D%0A%20%20%20%20%20%20%20%20%20%20%20%20%29.addTo%28map_6c9341ff0c0447b7ae4de7498e5306b4%29%3B%0A%20%20%20%20%20%20%20%20%0A%20%20%20%20%0A%20%20%20%20%20%20%20%20var%20marker_aa0e97e143c54f0bbe1e6cfdaa304789%20%3D%20L.marker%28%0A%20%20%20%20%20%20%20%20%20%20%20%20%5B16.248102133238906%2C%20103.06658431895487%5D%2C%0A%20%20%20%20%20%20%20%20%20%20%20%20%7B%0A%20%20%20%20%20%20%20%20%20%20%20%20%20%20%20%20icon%3A%20new%20L.Icon.Default%28%29%2C%0A%20%20%20%20%20%20%20%20%20%20%20%20%20%20%20%20%7D%0A%20%20%20%20%20%20%20%20%20%20%20%20%29.addTo%28map_6c9341ff0c0447b7ae4de7498e5306b4%29%3B%0A%20%20%20%20%20%20%20%20%0A%20%20%20%20%0A%20%20%20%20%20%20%20%20var%20marker_b9317e91ded74c69833653d01bb5828c%20%3D%20L.marker%28%0A%20%20%20%20%20%20%20%20%20%20%20%20%5B16.40802244476144%2C%20103.10461063716028%5D%2C%0A%20%20%20%20%20%20%20%20%20%20%20%20%7B%0A%20%20%20%20%20%20%20%20%20%20%20%20%20%20%20%20icon%3A%20new%20L.Icon.Default%28%29%2C%0A%20%20%20%20%20%20%20%20%20%20%20%20%20%20%20%20%7D%0A%20%20%20%20%20%20%20%20%20%20%20%20%29.addTo%28map_6c9341ff0c0447b7ae4de7498e5306b4%29%3B%0A%20%20%20%20%20%20%20%20%0A%20%20%20%20%0A%20%20%20%20%20%20%20%20var%20marker_f67283fdacfe411abd421675635887ad%20%3D%20L.marker%28%0A%20%20%20%20%20%20%20%20%20%20%20%20%5B15.797149446195368%2C%20103.03060629716153%5D%2C%0A%20%20%20%20%20%20%20%20%20%20%20%20%7B%0A%20%20%20%20%20%20%20%20%20%20%20%20%20%20%20%20icon%3A%20new%20L.Icon.Default%28%29%2C%0A%20%20%20%20%20%20%20%20%20%20%20%20%20%20%20%20%7D%0A%20%20%20%20%20%20%20%20%20%20%20%20%29.addTo%28map_6c9341ff0c0447b7ae4de7498e5306b4%29%3B%0A%20%20%20%20%20%20%20%20%0A%20%20%20%20%0A%20%20%20%20%20%20%20%20var%20marker_dbdbfa47f99441f4a2e6e5cab6cd4d3a%20%3D%20L.marker%28%0A%20%20%20%20%20%20%20%20%20%20%20%20%5B15.713880880429386%2C%20103.22554886742202%5D%2C%0A%20%20%20%20%20%20%20%20%20%20%20%20%7B%0A%20%20%20%20%20%20%20%20%20%20%20%20%20%20%20%20icon%3A%20new%20L.Icon.Default%28%29%2C%0A%20%20%20%20%20%20%20%20%20%20%20%20%20%20%20%20%7D%0A%20%20%20%20%20%20%20%20%20%20%20%20%29.addTo%28map_6c9341ff0c0447b7ae4de7498e5306b4%29%3B%0A%20%20%20%20%20%20%20%20%0A%20%20%20%20%0A%20%20%20%20%20%20%20%20var%20marker_1721e7457be3484c9ec99973537f6546%20%3D%20L.marker%28%0A%20%20%20%20%20%20%20%20%20%20%20%20%5B16.03920547870152%2C%20103.11916263217427%5D%2C%0A%20%20%20%20%20%20%20%20%20%20%20%20%7B%0A%20%20%20%20%20%20%20%20%20%20%20%20%20%20%20%20icon%3A%20new%20L.Icon.Default%28%29%2C%0A%20%20%20%20%20%20%20%20%20%20%20%20%20%20%20%20%7D%0A%20%20%20%20%20%20%20%20%20%20%20%20%29.addTo%28map_6c9341ff0c0447b7ae4de7498e5306b4%29%3B%0A%20%20%20%20%20%20%20%20%0A%20%20%20%20%0A%20%20%20%20%20%20%20%20var%20marker_78f8b895b1dc4788891727fc0b653dc9%20%3D%20L.marker%28%0A%20%20%20%20%20%20%20%20%20%20%20%20%5B15.516701470558237%2C%20103.19322463449107%5D%2C%0A%20%20%20%20%20%20%20%20%20%20%20%20%7B%0A%20%20%20%20%20%20%20%20%20%20%20%20%20%20%20%20icon%3A%20new%20L.Icon.Default%28%29%2C%0A%20%20%20%20%20%20%20%20%20%20%20%20%20%20%20%20%7D%0A%20%20%20%20%20%20%20%20%20%20%20%20%29.addTo%28map_6c9341ff0c0447b7ae4de7498e5306b4%29%3B%0A%20%20%20%20%20%20%20%20%0A%20%20%20%20%0A%20%20%20%20%20%20%20%20var%20marker_76c5373db5764077b550caac440ba51c%20%3D%20L.marker%28%0A%20%20%20%20%20%20%20%20%20%20%20%20%5B15.687289552531553%2C%20103.10423401161424%5D%2C%0A%20%20%20%20%20%20%20%20%20%20%20%20%7B%0A%20%20%20%20%20%20%20%20%20%20%20%20%20%20%20%20icon%3A%20new%20L.Icon.Default%28%29%2C%0A%20%20%20%20%20%20%20%20%20%20%20%20%20%20%20%20%7D%0A%20%20%20%20%20%20%20%20%20%20%20%20%29.addTo%28map_6c9341ff0c0447b7ae4de7498e5306b4%29%3B%0A%20%20%20%20%20%20%20%20%0A%20%20%20%20%0A%20%20%20%20%20%20%20%20var%20marker_1f71e3724f2549bd917792817c6a5724%20%3D%20L.marker%28%0A%20%20%20%20%20%20%20%20%20%20%20%20%5B15.845490846818693%2C%20103.37947437010563%5D%2C%0A%20%20%20%20%20%20%20%20%20%20%20%20%7B%0A%20%20%20%20%20%20%20%20%20%20%20%20%20%20%20%20icon%3A%20new%20L.Icon.Default%28%29%2C%0A%20%20%20%20%20%20%20%20%20%20%20%20%20%20%20%20%7D%0A%20%20%20%20%20%20%20%20%20%20%20%20%29.addTo%28map_6c9341ff0c0447b7ae4de7498e5306b4%29%3B%0A%20%20%20%20%20%20%20%20%0A%20%20%20%20%0A%20%20%20%20%20%20%20%20var%20marker_f2dd21579905491e9b572d3c4b237fa2%20%3D%20L.marker%28%0A%20%20%20%20%20%20%20%20%20%20%20%20%5B16.05182012148941%2C%20103.65446756695664%5D%2C%0A%20%20%20%20%20%20%20%20%20%20%20%20%7B%0A%20%20%20%20%20%20%20%20%20%20%20%20%20%20%20%20icon%3A%20new%20L.Icon.Default%28%29%2C%0A%20%20%20%20%20%20%20%20%20%20%20%20%20%20%20%20%7D%0A%20%20%20%20%20%20%20%20%20%20%20%20%29.addTo%28map_6c9341ff0c0447b7ae4de7498e5306b4%29%3B%0A%20%20%20%20%20%20%20%20%0A%20%20%20%20%0A%20%20%20%20%20%20%20%20var%20marker_e96fb96902224a138296d371f626e1cc%20%3D%20L.marker%28%0A%20%20%20%20%20%20%20%20%20%20%20%20%5B15.658443820654282%2C%20103.57936554392683%5D%2C%0A%20%20%20%20%20%20%20%20%20%20%20%20%7B%0A%20%20%20%20%20%20%20%20%20%20%20%20%20%20%20%20icon%3A%20new%20L.Icon.Default%28%29%2C%0A%20%20%20%20%20%20%20%20%20%20%20%20%20%20%20%20%7D%0A%20%20%20%20%20%20%20%20%20%20%20%20%29.addTo%28map_6c9341ff0c0447b7ae4de7498e5306b4%29%3B%0A%20%20%20%20%20%20%20%20%0A%20%20%20%20%0A%20%20%20%20%20%20%20%20var%20marker_425ac6465c1346739714338dcfb54399%20%3D%20L.marker%28%0A%20%20%20%20%20%20%20%20%20%20%20%20%5B16.14153417391256%2C%20103.60654741289537%5D%2C%0A%20%20%20%20%20%20%20%20%20%20%20%20%7B%0A%20%20%20%20%20%20%20%20%20%20%20%20%20%20%20%20icon%3A%20new%20L.Icon.Default%28%29%2C%0A%20%20%20%20%20%20%20%20%20%20%20%20%20%20%20%20%7D%0A%20%20%20%20%20%20%20%20%20%20%20%20%29.addTo%28map_6c9341ff0c0447b7ae4de7498e5306b4%29%3B%0A%20%20%20%20%20%20%20%20%0A%20%20%20%20%0A%20%20%20%20%20%20%20%20var%20marker_9d0e98c877f2410f877798652f6417b2%20%3D%20L.marker%28%0A%20%20%20%20%20%20%20%20%20%20%20%20%5B15.845660892548805%2C%20103.55705553458799%5D%2C%0A%20%20%20%20%20%20%20%20%20%20%20%20%7B%0A%20%20%20%20%20%20%20%20%20%20%20%20%20%20%20%20icon%3A%20new%20L.Icon.Default%28%29%2C%0A%20%20%20%20%20%20%20%20%20%20%20%20%20%20%20%20%7D%0A%20%20%20%20%20%20%20%20%20%20%20%20%29.addTo%28map_6c9341ff0c0447b7ae4de7498e5306b4%29%3B%0A%20%20%20%20%20%20%20%20%0A%20%20%20%20%0A%20%20%20%20%20%20%20%20var%20marker_dbaf3b755cc743988eae1229dff42e6e%20%3D%20L.marker%28%0A%20%20%20%20%20%20%20%20%20%20%20%20%5B16.03882424028057%2C%20103.74699066425448%5D%2C%0A%20%20%20%20%20%20%20%20%20%20%20%20%7B%0A%20%20%20%20%20%20%20%20%20%20%20%20%20%20%20%20icon%3A%20new%20L.Icon.Default%28%29%2C%0A%20%20%20%20%20%20%20%20%20%20%20%20%20%20%20%20%7D%0A%20%20%20%20%20%20%20%20%20%20%20%20%29.addTo%28map_6c9341ff0c0447b7ae4de7498e5306b4%29%3B%0A%20%20%20%20%20%20%20%20%0A%20%20%20%20%0A%20%20%20%20%20%20%20%20var%20marker_050574f15c854a37950d481fe435afb2%20%3D%20L.marker%28%0A%20%20%20%20%20%20%20%20%20%20%20%20%5B15.634641489182982%2C%20103.34299812173953%5D%2C%0A%20%20%20%20%20%20%20%20%20%20%20%20%7B%0A%20%20%20%20%20%20%20%20%20%20%20%20%20%20%20%20icon%3A%20new%20L.Icon.Default%28%29%2C%0A%20%20%20%20%20%20%20%20%20%20%20%20%20%20%20%20%7D%0A%20%20%20%20%20%20%20%20%20%20%20%20%29.addTo%28map_6c9341ff0c0447b7ae4de7498e5306b4%29%3B%0A%20%20%20%20%20%20%20%20%0A%20%20%20%20%0A%20%20%20%20%20%20%20%20var%20marker_02839f48ee3b40d9b7c418851373dc18%20%3D%20L.marker%28%0A%20%20%20%20%20%20%20%20%20%20%20%20%5B15.678780918776368%2C%20104.11029976119859%5D%2C%0A%20%20%20%20%20%20%20%20%20%20%20%20%7B%0A%20%20%20%20%20%20%20%20%20%20%20%20%20%20%20%20icon%3A%20new%20L.Icon.Default%28%29%2C%0A%20%20%20%20%20%20%20%20%20%20%20%20%20%20%20%20%7D%0A%20%20%20%20%20%20%20%20%20%20%20%20%29.addTo%28map_6c9341ff0c0447b7ae4de7498e5306b4%29%3B%0A%20%20%20%20%20%20%20%20%0A%20%20%20%20%0A%20%20%20%20%20%20%20%20var%20marker_f679cd202e8949628b21513f261cc141%20%3D%20L.marker%28%0A%20%20%20%20%20%20%20%20%20%20%20%20%5B16.32406790952258%2C%20103.77598412242722%5D%2C%0A%20%20%20%20%20%20%20%20%20%20%20%20%7B%0A%20%20%20%20%20%20%20%20%20%20%20%20%20%20%20%20icon%3A%20new%20L.Icon.Default%28%29%2C%0A%20%20%20%20%20%20%20%20%20%20%20%20%20%20%20%20%7D%0A%20%20%20%20%20%20%20%20%20%20%20%20%29.addTo%28map_6c9341ff0c0447b7ae4de7498e5306b4%29%3B%0A%20%20%20%20%20%20%20%20%0A%20%20%20%20%0A%20%20%20%20%20%20%20%20var%20marker_52f1fca7219f4700a5ae31d5d426bb33%20%3D%20L.marker%28%0A%20%20%20%20%20%20%20%20%20%20%20%20%5B15.4881612477061%2C%20104.01137282596012%5D%2C%0A%20%20%20%20%20%20%20%20%20%20%20%20%7B%0A%20%20%20%20%20%20%20%20%20%20%20%20%20%20%20%20icon%3A%20new%20L.Icon.Default%28%29%2C%0A%20%20%20%20%20%20%20%20%20%20%20%20%20%20%20%20%7D%0A%20%20%20%20%20%20%20%20%20%20%20%20%29.addTo%28map_6c9341ff0c0447b7ae4de7498e5306b4%29%3B%0A%20%20%20%20%20%20%20%20%0A%20%20%20%20%0A%20%20%20%20%20%20%20%20var%20marker_3af2ebb4093d43c480ecd8ffce35cd05%20%3D%20L.marker%28%0A%20%20%20%20%20%20%20%20%20%20%20%20%5B16.30055893370933%2C%20103.97828931578917%5D%2C%0A%20%20%20%20%20%20%20%20%20%20%20%20%7B%0A%20%20%20%20%20%20%20%20%20%20%20%20%20%20%20%20icon%3A%20new%20L.Icon.Default%28%29%2C%0A%20%20%20%20%20%20%20%20%20%20%20%20%20%20%20%20%7D%0A%20%20%20%20%20%20%20%20%20%20%20%20%29.addTo%28map_6c9341ff0c0447b7ae4de7498e5306b4%29%3B%0A%20%20%20%20%20%20%20%20%0A%20%20%20%20%0A%20%20%20%20%20%20%20%20var%20marker_597a4ee087834dbb9d3a113b8b06c11b%20%3D%20L.marker%28%0A%20%20%20%20%20%20%20%20%20%20%20%20%5B16.38522601768692%2C%20104.15547900381617%5D%2C%0A%20%20%20%20%20%20%20%20%20%20%20%20%7B%0A%20%20%20%20%20%20%20%20%20%20%20%20%20%20%20%20icon%3A%20new%20L.Icon.Default%28%29%2C%0A%20%20%20%20%20%20%20%20%20%20%20%20%20%20%20%20%7D%0A%20%20%20%20%20%20%20%20%20%20%20%20%29.addTo%28map_6c9341ff0c0447b7ae4de7498e5306b4%29%3B%0A%20%20%20%20%20%20%20%20%0A%20%20%20%20%0A%20%20%20%20%20%20%20%20var%20marker_009eeeb65eb34bab860eb5258ca913c3%20%3D%20L.marker%28%0A%20%20%20%20%20%20%20%20%20%20%20%20%5B15.826421163402985%2C%20103.71721683140682%5D%2C%0A%20%20%20%20%20%20%20%20%20%20%20%20%7B%0A%20%20%20%20%20%20%20%20%20%20%20%20%20%20%20%20icon%3A%20new%20L.Icon.Default%28%29%2C%0A%20%20%20%20%20%20%20%20%20%20%20%20%20%20%20%20%7D%0A%20%20%20%20%20%20%20%20%20%20%20%20%29.addTo%28map_6c9341ff0c0447b7ae4de7498e5306b4%29%3B%0A%20%20%20%20%20%20%20%20%0A%20%20%20%20%0A%20%20%20%20%20%20%20%20var%20marker_1f67cdf76b15477a8b62db1f7aec19b7%20%3D%20L.marker%28%0A%20%20%20%20%20%20%20%20%20%20%20%20%5B15.985863370457682%2C%20103.50718825321579%5D%2C%0A%20%20%20%20%20%20%20%20%20%20%20%20%7B%0A%20%20%20%20%20%20%20%20%20%20%20%20%20%20%20%20icon%3A%20new%20L.Icon.Default%28%29%2C%0A%20%20%20%20%20%20%20%20%20%20%20%20%20%20%20%20%7D%0A%20%20%20%20%20%20%20%20%20%20%20%20%29.addTo%28map_6c9341ff0c0447b7ae4de7498e5306b4%29%3B%0A%20%20%20%20%20%20%20%20%0A%20%20%20%20%0A%20%20%20%20%20%20%20%20var%20marker_2c8df903507b4852a06ee056962b5e17%20%3D%20L.marker%28%0A%20%20%20%20%20%20%20%20%20%20%20%20%5B15.609868076422353%2C%20103.80008876736792%5D%2C%0A%20%20%20%20%20%20%20%20%20%20%20%20%7B%0A%20%20%20%20%20%20%20%20%20%20%20%20%20%20%20%20icon%3A%20new%20L.Icon.Default%28%29%2C%0A%20%20%20%20%20%20%20%20%20%20%20%20%20%20%20%20%7D%0A%20%20%20%20%20%20%20%20%20%20%20%20%29.addTo%28map_6c9341ff0c0447b7ae4de7498e5306b4%29%3B%0A%20%20%20%20%20%20%20%20%0A%20%20%20%20%0A%20%20%20%20%20%20%20%20var%20marker_c953e4eddc5d40d7832257c06f503f97%20%3D%20L.marker%28%0A%20%20%20%20%20%20%20%20%20%20%20%20%5B16.033597369431%2C%20103.93386055968028%5D%2C%0A%20%20%20%20%20%20%20%20%20%20%20%20%7B%0A%20%20%20%20%20%20%20%20%20%20%20%20%20%20%20%20icon%3A%20new%20L.Icon.Default%28%29%2C%0A%20%20%20%20%20%20%20%20%20%20%20%20%20%20%20%20%7D%0A%20%20%20%20%20%20%20%20%20%20%20%20%29.addTo%28map_6c9341ff0c0447b7ae4de7498e5306b4%29%3B%0A%20%20%20%20%20%20%20%20%0A%20%20%20%20%0A%20%20%20%20%20%20%20%20var%20marker_ed948062a71b48daa56bbbb77e2794d3%20%3D%20L.marker%28%0A%20%20%20%20%20%20%20%20%20%20%20%20%5B16.3091217768588%2C%20104.20382483936777%5D%2C%0A%20%20%20%20%20%20%20%20%20%20%20%20%7B%0A%20%20%20%20%20%20%20%20%20%20%20%20%20%20%20%20icon%3A%20new%20L.Icon.Default%28%29%2C%0A%20%20%20%20%20%20%20%20%20%20%20%20%20%20%20%20%7D%0A%20%20%20%20%20%20%20%20%20%20%20%20%29.addTo%28map_6c9341ff0c0447b7ae4de7498e5306b4%29%3B%0A%20%20%20%20%20%20%20%20%0A%20%20%20%20%0A%20%20%20%20%20%20%20%20var%20marker_a65c4a433f39440ab3c3bb206fa023d9%20%3D%20L.marker%28%0A%20%20%20%20%20%20%20%20%20%20%20%20%5B15.84358382867986%2C%20103.87836905107555%5D%2C%0A%20%20%20%20%20%20%20%20%20%20%20%20%7B%0A%20%20%20%20%20%20%20%20%20%20%20%20%20%20%20%20icon%3A%20new%20L.Icon.Default%28%29%2C%0A%20%20%20%20%20%20%20%20%20%20%20%20%20%20%20%20%7D%0A%20%20%20%20%20%20%20%20%20%20%20%20%29.addTo%28map_6c9341ff0c0447b7ae4de7498e5306b4%29%3B%0A%20%20%20%20%20%20%20%20%0A%20%20%20%20%0A%20%20%20%20%20%20%20%20var%20marker_ca260fc43387468abfea41fd216ab26e%20%3D%20L.marker%28%0A%20%20%20%20%20%20%20%20%20%20%20%20%5B16.178956916571774%2C%20103.76846430245166%5D%2C%0A%20%20%20%20%20%20%20%20%20%20%20%20%7B%0A%20%20%20%20%20%20%20%20%20%20%20%20%20%20%20%20icon%3A%20new%20L.Icon.Default%28%29%2C%0A%20%20%20%20%20%20%20%20%20%20%20%20%20%20%20%20%7D%0A%20%20%20%20%20%20%20%20%20%20%20%20%29.addTo%28map_6c9341ff0c0447b7ae4de7498e5306b4%29%3B%0A%20%20%20%20%20%20%20%20%0A%20%20%20%20%0A%20%20%20%20%20%20%20%20var%20marker_ce507bfaf93240b6b175dd2689d0f35d%20%3D%20L.marker%28%0A%20%20%20%20%20%20%20%20%20%20%20%20%5B15.794519765361914%2C%20104.14004488158787%5D%2C%0A%20%20%20%20%20%20%20%20%20%20%20%20%7B%0A%20%20%20%20%20%20%20%20%20%20%20%20%20%20%20%20icon%3A%20new%20L.Icon.Default%28%29%2C%0A%20%20%20%20%20%20%20%20%20%20%20%20%20%20%20%20%7D%0A%20%20%20%20%20%20%20%20%20%20%20%20%29.addTo%28map_6c9341ff0c0447b7ae4de7498e5306b4%29%3B%0A%20%20%20%20%20%20%20%20%0A%20%20%20%20%0A%20%20%20%20%20%20%20%20var%20marker_c6818e8cbba0457fbbb116d0a1986428%20%3D%20L.marker%28%0A%20%20%20%20%20%20%20%20%20%20%20%20%5B16.032701458559778%2C%20104.34037549789602%5D%2C%0A%20%20%20%20%20%20%20%20%20%20%20%20%7B%0A%20%20%20%20%20%20%20%20%20%20%20%20%20%20%20%20icon%3A%20new%20L.Icon.Default%28%29%2C%0A%20%20%20%20%20%20%20%20%20%20%20%20%20%20%20%20%7D%0A%20%20%20%20%20%20%20%20%20%20%20%20%29.addTo%28map_6c9341ff0c0447b7ae4de7498e5306b4%29%3B%0A%20%20%20%20%20%20%20%20%0A%20%20%20%20%0A%20%20%20%20%20%20%20%20var%20marker_2ae0cd39dfad45cd9639a6310dc96958%20%3D%20L.marker%28%0A%20%20%20%20%20%20%20%20%20%20%20%20%5B15.376524499964837%2C%20104.35841679021429%5D%2C%0A%20%20%20%20%20%20%20%20%20%20%20%20%7B%0A%20%20%20%20%20%20%20%20%20%20%20%20%20%20%20%20icon%3A%20new%20L.Icon.Default%28%29%2C%0A%20%20%20%20%20%20%20%20%20%20%20%20%20%20%20%20%7D%0A%20%20%20%20%20%20%20%20%20%20%20%20%29.addTo%28map_6c9341ff0c0447b7ae4de7498e5306b4%29%3B%0A%20%20%20%20%20%20%20%20%0A%20%20%20%20%0A%20%20%20%20%20%20%20%20var%20marker_821d3a88001d417db1568ea6774cd7ad%20%3D%20L.marker%28%0A%20%20%20%20%20%20%20%20%20%20%20%20%5B15.653457256430302%2C%20104.30708374327689%5D%2C%0A%20%20%20%20%20%20%20%20%20%20%20%20%7B%0A%20%20%20%20%20%20%20%20%20%20%20%20%20%20%20%20icon%3A%20new%20L.Icon.Default%28%29%2C%0A%20%20%20%20%20%20%20%20%20%20%20%20%20%20%20%20%7D%0A%20%20%20%20%20%20%20%20%20%20%20%20%29.addTo%28map_6c9341ff0c0447b7ae4de7498e5306b4%29%3B%0A%20%20%20%20%20%20%20%20%0A%20%20%20%20%0A%20%20%20%20%20%20%20%20var%20marker_0cd293406fbd4ea8b4d36baa129a5830%20%3D%20L.marker%28%0A%20%20%20%20%20%20%20%20%20%20%20%20%5B15.940325095110474%2C%20104.20959337969329%5D%2C%0A%20%20%20%20%20%20%20%20%20%20%20%20%7B%0A%20%20%20%20%20%20%20%20%20%20%20%20%20%20%20%20icon%3A%20new%20L.Icon.Default%28%29%2C%0A%20%20%20%20%20%20%20%20%20%20%20%20%20%20%20%20%7D%0A%20%20%20%20%20%20%20%20%20%20%20%20%29.addTo%28map_6c9341ff0c0447b7ae4de7498e5306b4%29%3B%0A%20%20%20%20%20%20%20%20%0A%20%20%20%20%0A%20%20%20%20%20%20%20%20var%20marker_56d1150881be47b58091c92dac6291fd%20%3D%20L.marker%28%0A%20%20%20%20%20%20%20%20%20%20%20%20%5B15.830968438162836%2C%20104.3850178247382%5D%2C%0A%20%20%20%20%20%20%20%20%20%20%20%20%7B%0A%20%20%20%20%20%20%20%20%20%20%20%20%20%20%20%20icon%3A%20new%20L.Icon.Default%28%29%2C%0A%20%20%20%20%20%20%20%20%20%20%20%20%20%20%20%20%7D%0A%20%20%20%20%20%20%20%20%20%20%20%20%29.addTo%28map_6c9341ff0c0447b7ae4de7498e5306b4%29%3B%0A%20%20%20%20%20%20%20%20%0A%20%20%20%20%0A%20%20%20%20%20%20%20%20var%20marker_d8222825b01745ceb14e289ca6dbbd14%20%3D%20L.marker%28%0A%20%20%20%20%20%20%20%20%20%20%20%20%5B15.532195369575216%2C%20104.24249894325203%5D%2C%0A%20%20%20%20%20%20%20%20%20%20%20%20%7B%0A%20%20%20%20%20%20%20%20%20%20%20%20%20%20%20%20icon%3A%20new%20L.Icon.Default%28%29%2C%0A%20%20%20%20%20%20%20%20%20%20%20%20%20%20%20%20%7D%0A%20%20%20%20%20%20%20%20%20%20%20%20%29.addTo%28map_6c9341ff0c0447b7ae4de7498e5306b4%29%3B%0A%20%20%20%20%20%20%20%20%0A%20%20%20%20%0A%20%20%20%20%20%20%20%20var%20marker_a883636453854e478e8355727bd0e99e%20%3D%20L.marker%28%0A%20%20%20%20%20%20%20%20%20%20%20%20%5B16.20944787246116%2C%20104.55572855686961%5D%2C%0A%20%20%20%20%20%20%20%20%20%20%20%20%7B%0A%20%20%20%20%20%20%20%20%20%20%20%20%20%20%20%20icon%3A%20new%20L.Icon.Default%28%29%2C%0A%20%20%20%20%20%20%20%20%20%20%20%20%20%20%20%20%7D%0A%20%20%20%20%20%20%20%20%20%20%20%20%29.addTo%28map_6c9341ff0c0447b7ae4de7498e5306b4%29%3B%0A%20%20%20%20%20%20%20%20%0A%20%20%20%20%0A%20%20%20%20%20%20%20%20var%20marker_295a15a48ff042c9a87eff906179fcee%20%3D%20L.marker%28%0A%20%20%20%20%20%20%20%20%20%20%20%20%5B16.068415915760294%2C%20104.43758543536627%5D%2C%0A%20%20%20%20%20%20%20%20%20%20%20%20%7B%0A%20%20%20%20%20%20%20%20%20%20%20%20%20%20%20%20icon%3A%20new%20L.Icon.Default%28%29%2C%0A%20%20%20%20%20%20%20%20%20%20%20%20%20%20%20%20%7D%0A%20%20%20%20%20%20%20%20%20%20%20%20%29.addTo%28map_6c9341ff0c0447b7ae4de7498e5306b4%29%3B%0A%20%20%20%20%20%20%20%20%0A%20%20%20%20%0A%20%20%20%20%20%20%20%20var%20marker_691ef2d7109c414b8a3495351acbfb31%20%3D%20L.marker%28%0A%20%20%20%20%20%20%20%20%20%20%20%20%5B15.85945649107329%2C%20104.62832694548558%5D%2C%0A%20%20%20%20%20%20%20%20%20%20%20%20%7B%0A%20%20%20%20%20%20%20%20%20%20%20%20%20%20%20%20icon%3A%20new%20L.Icon.Default%28%29%2C%0A%20%20%20%20%20%20%20%20%20%20%20%20%20%20%20%20%7D%0A%20%20%20%20%20%20%20%20%20%20%20%20%29.addTo%28map_6c9341ff0c0447b7ae4de7498e5306b4%29%3B%0A%20%20%20%20%20%20%20%20%0A%20%20%20%20%0A%20%20%20%20%20%20%20%20var%20marker_7cf12fd0e7ab46d5a657de565655dc2e%20%3D%20L.marker%28%0A%20%20%20%20%20%20%20%20%20%20%20%20%5B16.22464802025773%2C%20105.01306805015201%5D%2C%0A%20%20%20%20%20%20%20%20%20%20%20%20%7B%0A%20%20%20%20%20%20%20%20%20%20%20%20%20%20%20%20icon%3A%20new%20L.Icon.Default%28%29%2C%0A%20%20%20%20%20%20%20%20%20%20%20%20%20%20%20%20%7D%0A%20%20%20%20%20%20%20%20%20%20%20%20%29.addTo%28map_6c9341ff0c0447b7ae4de7498e5306b4%29%3B%0A%20%20%20%20%20%20%20%20%0A%20%20%20%20%0A%20%20%20%20%20%20%20%20var%20marker_71d564fe56f941aebd6d107697e63c93%20%3D%20L.marker%28%0A%20%20%20%20%20%20%20%20%20%20%20%20%5B15.887965866425331%2C%20104.91552174145298%5D%2C%0A%20%20%20%20%20%20%20%20%20%20%20%20%7B%0A%20%20%20%20%20%20%20%20%20%20%20%20%20%20%20%20icon%3A%20new%20L.Icon.Default%28%29%2C%0A%20%20%20%20%20%20%20%20%20%20%20%20%20%20%20%20%7D%0A%20%20%20%20%20%20%20%20%20%20%20%20%29.addTo%28map_6c9341ff0c0447b7ae4de7498e5306b4%29%3B%0A%20%20%20%20%20%20%20%20%0A%20%20%20%20%0A%20%20%20%20%20%20%20%20var%20marker_caa0a8d1586945a988a96e2c94766780%20%3D%20L.marker%28%0A%20%20%20%20%20%20%20%20%20%20%20%20%5B15.682611685507926%2C%20104.84141643182589%5D%2C%0A%20%20%20%20%20%20%20%20%20%20%20%20%7B%0A%20%20%20%20%20%20%20%20%20%20%20%20%20%20%20%20icon%3A%20new%20L.Icon.Default%28%29%2C%0A%20%20%20%20%20%20%20%20%20%20%20%20%20%20%20%20%7D%0A%20%20%20%20%20%20%20%20%20%20%20%20%29.addTo%28map_6c9341ff0c0447b7ae4de7498e5306b4%29%3B%0A%20%20%20%20%20%20%20%20%0A%20%20%20%20%0A%20%20%20%20%20%20%20%20var%20marker_ca21ba537d2343e1a02cc41f80ed9d9a%20%3D%20L.marker%28%0A%20%20%20%20%20%20%20%20%20%20%20%20%5B15.69775179445738%2C%20104.6466331951156%5D%2C%0A%20%20%20%20%20%20%20%20%20%20%20%20%7B%0A%20%20%20%20%20%20%20%20%20%20%20%20%20%20%20%20icon%3A%20new%20L.Icon.Default%28%29%2C%0A%20%20%20%20%20%20%20%20%20%20%20%20%20%20%20%20%7D%0A%20%20%20%20%20%20%20%20%20%20%20%20%29.addTo%28map_6c9341ff0c0447b7ae4de7498e5306b4%29%3B%0A%20%20%20%20%20%20%20%20%0A%20%20%20%20%0A%20%20%20%20%20%20%20%20var%20marker_51dfe8c3b7614a79bdd6b0eddc0191d0%20%3D%20L.marker%28%0A%20%20%20%20%20%20%20%20%20%20%20%20%5B16.039243094794514%2C%20104.66669824763511%5D%2C%0A%20%20%20%20%20%20%20%20%20%20%20%20%7B%0A%20%20%20%20%20%20%20%20%20%20%20%20%20%20%20%20icon%3A%20new%20L.Icon.Default%28%29%2C%0A%20%20%20%20%20%20%20%20%20%20%20%20%20%20%20%20%7D%0A%20%20%20%20%20%20%20%20%20%20%20%20%29.addTo%28map_6c9341ff0c0447b7ae4de7498e5306b4%29%3B%0A%20%20%20%20%20%20%20%20%0A%20%20%20%20%0A%20%20%20%20%20%20%20%20var%20marker_c2af496d4f20411aae7a6f3b25413050%20%3D%20L.marker%28%0A%20%20%20%20%20%20%20%20%20%20%20%20%5B15.697084530130404%2C%20104.49124869974379%5D%2C%0A%20%20%20%20%20%20%20%20%20%20%20%20%7B%0A%20%20%20%20%20%20%20%20%20%20%20%20%20%20%20%20icon%3A%20new%20L.Icon.Default%28%29%2C%0A%20%20%20%20%20%20%20%20%20%20%20%20%20%20%20%20%7D%0A%20%20%20%20%20%20%20%20%20%20%20%20%29.addTo%28map_6c9341ff0c0447b7ae4de7498e5306b4%29%3B%0A%20%20%20%20%20%20%20%20%0A%20%20%20%20%0A%20%20%20%20%20%20%20%20var%20marker_3421468cf13a47e0b55bc8a06701190a%20%3D%20L.marker%28%0A%20%20%20%20%20%20%20%20%20%20%20%20%5B15.227863351273777%2C%20104.85749878231846%5D%2C%0A%20%20%20%20%20%20%20%20%20%20%20%20%7B%0A%20%20%20%20%20%20%20%20%20%20%20%20%20%20%20%20icon%3A%20new%20L.Icon.Default%28%29%2C%0A%20%20%20%20%20%20%20%20%20%20%20%20%20%20%20%20%7D%0A%20%20%20%20%20%20%20%20%20%20%20%20%29.addTo%28map_6c9341ff0c0447b7ae4de7498e5306b4%29%3B%0A%20%20%20%20%20%20%20%20%0A%20%20%20%20%0A%20%20%20%20%20%20%20%20var%20marker_f2e5d1d204714d21a6876800dcff0e0d%20%3D%20L.marker%28%0A%20%20%20%20%20%20%20%20%20%20%20%20%5B15.79242349381198%2C%20104.99679344319435%5D%2C%0A%20%20%20%20%20%20%20%20%20%20%20%20%7B%0A%20%20%20%20%20%20%20%20%20%20%20%20%20%20%20%20icon%3A%20new%20L.Icon.Default%28%29%2C%0A%20%20%20%20%20%20%20%20%20%20%20%20%20%20%20%20%7D%0A%20%20%20%20%20%20%20%20%20%20%20%20%29.addTo%28map_6c9341ff0c0447b7ae4de7498e5306b4%29%3B%0A%20%20%20%20%20%20%20%20%0A%20%20%20%20%0A%20%20%20%20%20%20%20%20var%20marker_ecef393b0d6e417298399aaf7e3e53f0%20%3D%20L.marker%28%0A%20%20%20%20%20%20%20%20%20%20%20%20%5B16.042274644616427%2C%20105.2269505320796%5D%2C%0A%20%20%20%20%20%20%20%20%20%20%20%20%7B%0A%20%20%20%20%20%20%20%20%20%20%20%20%20%20%20%20icon%3A%20new%20L.Icon.Default%28%29%2C%0A%20%20%20%20%20%20%20%20%20%20%20%20%20%20%20%20%7D%0A%20%20%20%20%20%20%20%20%20%20%20%20%29.addTo%28map_6c9341ff0c0447b7ae4de7498e5306b4%29%3B%0A%20%20%20%20%20%20%20%20%0A%20%20%20%20%0A%20%20%20%20%20%20%20%20var%20marker_f52bc10584144b3187c9c9dc9d2446bf%20%3D%20L.marker%28%0A%20%20%20%20%20%20%20%20%20%20%20%20%5B15.390103318186812%2C%20104.55042934433735%5D%2C%0A%20%20%20%20%20%20%20%20%20%20%20%20%7B%0A%20%20%20%20%20%20%20%20%20%20%20%20%20%20%20%20icon%3A%20new%20L.Icon.Default%28%29%2C%0A%20%20%20%20%20%20%20%20%20%20%20%20%20%20%20%20%7D%0A%20%20%20%20%20%20%20%20%20%20%20%20%29.addTo%28map_6c9341ff0c0447b7ae4de7498e5306b4%29%3B%0A%20%20%20%20%20%20%20%20%0A%20%20%20%20%0A%20%20%20%20%20%20%20%20var%20marker_c1cb03c5c72f49a3be9b64e4731b4246%20%3D%20L.marker%28%0A%20%20%20%20%20%20%20%20%20%20%20%20%5B15.311851024061152%2C%20105.51473112523752%5D%2C%0A%20%20%20%20%20%20%20%20%20%20%20%20%7B%0A%20%20%20%20%20%20%20%20%20%20%20%20%20%20%20%20icon%3A%20new%20L.Icon.Default%28%29%2C%0A%20%20%20%20%20%20%20%20%20%20%20%20%20%20%20%20%7D%0A%20%20%20%20%20%20%20%20%20%20%20%20%29.addTo%28map_6c9341ff0c0447b7ae4de7498e5306b4%29%3B%0A%20%20%20%20%20%20%20%20%0A%20%20%20%20%0A%20%20%20%20%20%20%20%20var%20marker_91d97c26c7564d179ba2e28ea2ee4013%20%3D%20L.marker%28%0A%20%20%20%20%20%20%20%20%20%20%20%20%5B14.90223021557408%2C%20105.075837007862%5D%2C%0A%20%20%20%20%20%20%20%20%20%20%20%20%7B%0A%20%20%20%20%20%20%20%20%20%20%20%20%20%20%20%20icon%3A%20new%20L.Icon.Default%28%29%2C%0A%20%20%20%20%20%20%20%20%20%20%20%20%20%20%20%20%7D%0A%20%20%20%20%20%20%20%20%20%20%20%20%29.addTo%28map_6c9341ff0c0447b7ae4de7498e5306b4%29%3B%0A%20%20%20%20%20%20%20%20%0A%20%20%20%20%0A%20%20%20%20%20%20%20%20var%20marker_bbecbf646f444d58a581b6d7b9c9e289%20%3D%20L.marker%28%0A%20%20%20%20%20%20%20%20%20%20%20%20%5B15.612510415381987%2C%20105.02142357738873%5D%2C%0A%20%20%20%20%20%20%20%20%20%20%20%20%7B%0A%20%20%20%20%20%20%20%20%20%20%20%20%20%20%20%20icon%3A%20new%20L.Icon.Default%28%29%2C%0A%20%20%20%20%20%20%20%20%20%20%20%20%20%20%20%20%7D%0A%20%20%20%20%20%20%20%20%20%20%20%20%29.addTo%28map_6c9341ff0c0447b7ae4de7498e5306b4%29%3B%0A%20%20%20%20%20%20%20%20%0A%20%20%20%20%0A%20%20%20%20%20%20%20%20var%20marker_01571d282908433aa7a0c883c61cf792%20%3D%20L.marker%28%0A%20%20%20%20%20%20%20%20%20%20%20%20%5B15.316095990492444%2C%20105.1549796957622%5D%2C%0A%20%20%20%20%20%20%20%20%20%20%20%20%7B%0A%20%20%20%20%20%20%20%20%20%20%20%20%20%20%20%20icon%3A%20new%20L.Icon.Default%28%29%2C%0A%20%20%20%20%20%20%20%20%20%20%20%20%20%20%20%20%7D%0A%20%20%20%20%20%20%20%20%20%20%20%20%29.addTo%28map_6c9341ff0c0447b7ae4de7498e5306b4%29%3B%0A%20%20%20%20%20%20%20%20%0A%20%20%20%20%0A%20%20%20%20%20%20%20%20var%20marker_07577159a303418dad16bde6e515d3de%20%3D%20L.marker%28%0A%20%20%20%20%20%20%20%20%20%20%20%20%5B14.521103537625958%2C%20105.24527602260386%5D%2C%0A%20%20%20%20%20%20%20%20%20%20%20%20%7B%0A%20%20%20%20%20%20%20%20%20%20%20%20%20%20%20%20icon%3A%20new%20L.Icon.Default%28%29%2C%0A%20%20%20%20%20%20%20%20%20%20%20%20%20%20%20%20%7D%0A%20%20%20%20%20%20%20%20%20%20%20%20%29.addTo%28map_6c9341ff0c0447b7ae4de7498e5306b4%29%3B%0A%20%20%20%20%20%20%20%20%0A%20%20%20%20%0A%20%20%20%20%20%20%20%20var%20marker_8a370adb92c04574a6f4344fc8c0f7d7%20%3D%20L.marker%28%0A%20%20%20%20%20%20%20%20%20%20%20%20%5B14.489223769722061%2C%20104.99662752940422%5D%2C%0A%20%20%20%20%20%20%20%20%20%20%20%20%7B%0A%20%20%20%20%20%20%20%20%20%20%20%20%20%20%20%20icon%3A%20new%20L.Icon.Default%28%29%2C%0A%20%20%20%20%20%20%20%20%20%20%20%20%20%20%20%20%7D%0A%20%20%20%20%20%20%20%20%20%20%20%20%29.addTo%28map_6c9341ff0c0447b7ae4de7498e5306b4%29%3B%0A%20%20%20%20%20%20%20%20%0A%20%20%20%20%0A%20%20%20%20%20%20%20%20var%20marker_8702312b53994c0e9cb0a4b181ab6b78%20%3D%20L.marker%28%0A%20%20%20%20%20%20%20%20%20%20%20%20%5B14.756307815801211%2C%20105.41184992331173%5D%2C%0A%20%20%20%20%20%20%20%20%20%20%20%20%7B%0A%20%20%20%20%20%20%20%20%20%20%20%20%20%20%20%20icon%3A%20new%20L.Icon.Default%28%29%2C%0A%20%20%20%20%20%20%20%20%20%20%20%20%20%20%20%20%7D%0A%20%20%20%20%20%20%20%20%20%20%20%20%29.addTo%28map_6c9341ff0c0447b7ae4de7498e5306b4%29%3B%0A%20%20%20%20%20%20%20%20%0A%20%20%20%20%0A%20%20%20%20%20%20%20%20var%20marker_43859a1f1dfe437d833a591aef99e8e0%20%3D%20L.marker%28%0A%20%20%20%20%20%20%20%20%20%20%20%20%5B15.2448595982209%2C%20105.24823742195095%5D%2C%0A%20%20%20%20%20%20%20%20%20%20%20%20%7B%0A%20%20%20%20%20%20%20%20%20%20%20%20%20%20%20%20icon%3A%20new%20L.Icon.Default%28%29%2C%0A%20%20%20%20%20%20%20%20%20%20%20%20%20%20%20%20%7D%0A%20%20%20%20%20%20%20%20%20%20%20%20%29.addTo%28map_6c9341ff0c0447b7ae4de7498e5306b4%29%3B%0A%20%20%20%20%20%20%20%20%0A%20%20%20%20%0A%20%20%20%20%20%20%20%20var%20marker_58d66638e1cf423a944247a5307a9833%20%3D%20L.marker%28%0A%20%20%20%20%20%20%20%20%20%20%20%20%5B15.777907482362432%2C%20105.24756758975124%5D%2C%0A%20%20%20%20%20%20%20%20%20%20%20%20%7B%0A%20%20%20%20%20%20%20%20%20%20%20%20%20%20%20%20icon%3A%20new%20L.Icon.Default%28%29%2C%0A%20%20%20%20%20%20%20%20%20%20%20%20%20%20%20%20%7D%0A%20%20%20%20%20%20%20%20%20%20%20%20%29.addTo%28map_6c9341ff0c0447b7ae4de7498e5306b4%29%3B%0A%20%20%20%20%20%20%20%20%0A%20%20%20%20%0A%20%20%20%20%20%20%20%20var%20marker_e5aba70fb9e54d31ab0a629cee64b3b9%20%3D%20L.marker%28%0A%20%20%20%20%20%20%20%20%20%20%20%20%5B15.511535594411185%2C%20104.72574145318552%5D%2C%0A%20%20%20%20%20%20%20%20%20%20%20%20%7B%0A%20%20%20%20%20%20%20%20%20%20%20%20%20%20%20%20icon%3A%20new%20L.Icon.Default%28%29%2C%0A%20%20%20%20%20%20%20%20%20%20%20%20%20%20%20%20%7D%0A%20%20%20%20%20%20%20%20%20%20%20%20%29.addTo%28map_6c9341ff0c0447b7ae4de7498e5306b4%29%3B%0A%20%20%20%20%20%20%20%20%0A%20%20%20%20%0A%20%20%20%20%20%20%20%20var%20marker_568c0c824fd640cd91960331aaac05fb%20%3D%20L.marker%28%0A%20%20%20%20%20%20%20%20%20%20%20%20%5B15.202735608969546%2C%20104.8676645149792%5D%2C%0A%20%20%20%20%20%20%20%20%20%20%20%20%7B%0A%20%20%20%20%20%20%20%20%20%20%20%20%20%20%20%20icon%3A%20new%20L.Icon.Default%28%29%2C%0A%20%20%20%20%20%20%20%20%20%20%20%20%20%20%20%20%7D%0A%20%20%20%20%20%20%20%20%20%20%20%20%29.addTo%28map_6c9341ff0c0447b7ae4de7498e5306b4%29%3B%0A%20%20%20%20%20%20%20%20%0A%20%20%20%20%0A%20%20%20%20%20%20%20%20var%20marker_ddeb0253486541fda1fb0a7738cb759c%20%3D%20L.marker%28%0A%20%20%20%20%20%20%20%20%20%20%20%20%5B15.496341280001534%2C%20105.27883636519714%5D%2C%0A%20%20%20%20%20%20%20%20%20%20%20%20%7B%0A%20%20%20%20%20%20%20%20%20%20%20%20%20%20%20%20icon%3A%20new%20L.Icon.Default%28%29%2C%0A%20%20%20%20%20%20%20%20%20%20%20%20%20%20%20%20%7D%0A%20%20%20%20%20%20%20%20%20%20%20%20%29.addTo%28map_6c9341ff0c0447b7ae4de7498e5306b4%29%3B%0A%20%20%20%20%20%20%20%20%0A%20%20%20%20%0A%20%20%20%20%20%20%20%20var%20marker_b516e61350904a40b67a1795ec5e7898%20%3D%20L.marker%28%0A%20%20%20%20%20%20%20%20%20%20%20%20%5B15.00927728381489%2C%20104.78136741101449%5D%2C%0A%20%20%20%20%20%20%20%20%20%20%20%20%7B%0A%20%20%20%20%20%20%20%20%20%20%20%20%20%20%20%20icon%3A%20new%20L.Icon.Default%28%29%2C%0A%20%20%20%20%20%20%20%20%20%20%20%20%20%20%20%20%7D%0A%20%20%20%20%20%20%20%20%20%20%20%20%29.addTo%28map_6c9341ff0c0447b7ae4de7498e5306b4%29%3B%0A%20%20%20%20%20%20%20%20%0A%20%20%20%20%0A%20%20%20%20%20%20%20%20var%20marker_6cdab919a28f440fb88603df87aacf33%20%3D%20L.marker%28%0A%20%20%20%20%20%20%20%20%20%20%20%20%5B15.377086388747003%2C%20105.0203757683419%5D%2C%0A%20%20%20%20%20%20%20%20%20%20%20%20%7B%0A%20%20%20%20%20%20%20%20%20%20%20%20%20%20%20%20icon%3A%20new%20L.Icon.Default%28%29%2C%0A%20%20%20%20%20%20%20%20%20%20%20%20%20%20%20%20%7D%0A%20%20%20%20%20%20%20%20%20%20%20%20%29.addTo%28map_6c9341ff0c0447b7ae4de7498e5306b4%29%3B%0A%20%20%20%20%20%20%20%20%0A%20%20%20%20%0A%20%20%20%20%20%20%20%20var%20marker_3cf22d4efef742aaba9fa78f6a05fa42%20%3D%20L.marker%28%0A%20%20%20%20%20%20%20%20%20%20%20%20%5B15.221985356908768%2C%20105.42847821135153%5D%2C%0A%20%20%20%20%20%20%20%20%20%20%20%20%7B%0A%20%20%20%20%20%20%20%20%20%20%20%20%20%20%20%20icon%3A%20new%20L.Icon.Default%28%29%2C%0A%20%20%20%20%20%20%20%20%20%20%20%20%20%20%20%20%7D%0A%20%20%20%20%20%20%20%20%20%20%20%20%29.addTo%28map_6c9341ff0c0447b7ae4de7498e5306b4%29%3B%0A%20%20%20%20%20%20%20%20%0A%20%20%20%20%0A%20%20%20%20%20%20%20%20var%20marker_31c378f3094d48358f9a3c85a50440da%20%3D%20L.marker%28%0A%20%20%20%20%20%20%20%20%20%20%20%20%5B14.807112503124284%2C%20104.920137125112%5D%2C%0A%20%20%20%20%20%20%20%20%20%20%20%20%7B%0A%20%20%20%20%20%20%20%20%20%20%20%20%20%20%20%20icon%3A%20new%20L.Icon.Default%28%29%2C%0A%20%20%20%20%20%20%20%20%20%20%20%20%20%20%20%20%7D%0A%20%20%20%20%20%20%20%20%20%20%20%20%29.addTo%28map_6c9341ff0c0447b7ae4de7498e5306b4%29%3B%0A%20%20%20%20%20%20%20%20%0A%20%20%20%20%0A%20%20%20%20%20%20%20%20var%20marker_300ef90ba9684f70ab79fffed6f64a76%20%3D%20L.marker%28%0A%20%20%20%20%20%20%20%20%20%20%20%20%5B15.07284441942721%2C%20105.06221806515256%5D%2C%0A%20%20%20%20%20%20%20%20%20%20%20%20%7B%0A%20%20%20%20%20%20%20%20%20%20%20%20%20%20%20%20icon%3A%20new%20L.Icon.Default%28%29%2C%0A%20%20%20%20%20%20%20%20%20%20%20%20%20%20%20%20%7D%0A%20%20%20%20%20%20%20%20%20%20%20%20%29.addTo%28map_6c9341ff0c0447b7ae4de7498e5306b4%29%3B%0A%20%20%20%20%20%20%20%20%0A%20%20%20%20%0A%20%20%20%20%20%20%20%20var%20marker_83269d9604904f9dbccba1fe6407730e%20%3D%20L.marker%28%0A%20%20%20%20%20%20%20%20%20%20%20%20%5B15.896465185463986%2C%20105.29105866991038%5D%2C%0A%20%20%20%20%20%20%20%20%20%20%20%20%7B%0A%20%20%20%20%20%20%20%20%20%20%20%20%20%20%20%20icon%3A%20new%20L.Icon.Default%28%29%2C%0A%20%20%20%20%20%20%20%20%20%20%20%20%20%20%20%20%7D%0A%20%20%20%20%20%20%20%20%20%20%20%20%29.addTo%28map_6c9341ff0c0447b7ae4de7498e5306b4%29%3B%0A%20%20%20%20%20%20%20%20%0A%20%20%20%20%0A%20%20%20%20%20%20%20%20var%20marker_847fea9701c44783ba1baa9334a64799%20%3D%20L.marker%28%0A%20%20%20%20%20%20%20%20%20%20%20%20%5B15.44109083248146%2C%20104.95084619129848%5D%2C%0A%20%20%20%20%20%20%20%20%20%20%20%20%7B%0A%20%20%20%20%20%20%20%20%20%20%20%20%20%20%20%20icon%3A%20new%20L.Icon.Default%28%29%2C%0A%20%20%20%20%20%20%20%20%20%20%20%20%20%20%20%20%7D%0A%20%20%20%20%20%20%20%20%20%20%20%20%29.addTo%28map_6c9341ff0c0447b7ae4de7498e5306b4%29%3B%0A%20%20%20%20%20%20%20%20%0A%20%20%20%20%0A%20%20%20%20%20%20%20%20var%20marker_39b7da43361d4239bd856091871222e3%20%3D%20L.marker%28%0A%20%20%20%20%20%20%20%20%20%20%20%20%5B14.970949653500877%2C%20102.09966053490876%5D%2C%0A%20%20%20%20%20%20%20%20%20%20%20%20%7B%0A%20%20%20%20%20%20%20%20%20%20%20%20%20%20%20%20icon%3A%20new%20L.Icon.Default%28%29%2C%0A%20%20%20%20%20%20%20%20%20%20%20%20%20%20%20%20%7D%0A%20%20%20%20%20%20%20%20%20%20%20%20%29.addTo%28map_6c9341ff0c0447b7ae4de7498e5306b4%29%3B%0A%20%20%20%20%20%20%20%20%0A%20%20%20%20%0A%20%20%20%20%20%20%20%20var%20marker_25b4976520eb41a0a5d4a01b376189ab%20%3D%20L.marker%28%0A%20%20%20%20%20%20%20%20%20%20%20%20%5B15.748403656563474%2C%20102.25804948465716%5D%2C%0A%20%20%20%20%20%20%20%20%20%20%20%20%7B%0A%20%20%20%20%20%20%20%20%20%20%20%20%20%20%20%20icon%3A%20new%20L.Icon.Default%28%29%2C%0A%20%20%20%20%20%20%20%20%20%20%20%20%20%20%20%20%7D%0A%20%20%20%20%20%20%20%20%20%20%20%20%29.addTo%28map_6c9341ff0c0447b7ae4de7498e5306b4%29%3B%0A%20%20%20%20%20%20%20%20%0A%20%20%20%20%0A%20%20%20%20%20%20%20%20var%20marker_dde90ee1bbd049718b5184a55afded49%20%3D%20L.marker%28%0A%20%20%20%20%20%20%20%20%20%20%20%20%5B14.960326781420209%2C%20101.9469268156742%5D%2C%0A%20%20%20%20%20%20%20%20%20%20%20%20%7B%0A%20%20%20%20%20%20%20%20%20%20%20%20%20%20%20%20icon%3A%20new%20L.Icon.Default%28%29%2C%0A%20%20%20%20%20%20%20%20%20%20%20%20%20%20%20%20%7D%0A%20%20%20%20%20%20%20%20%20%20%20%20%29.addTo%28map_6c9341ff0c0447b7ae4de7498e5306b4%29%3B%0A%20%20%20%20%20%20%20%20%0A%20%20%20%20%0A%20%20%20%20%20%20%20%20var%20marker_38b1aaa1b1174d138f19bf03b78d0473%20%3D%20L.marker%28%0A%20%20%20%20%20%20%20%20%20%20%20%20%5B16.232371097662757%2C%20102.15908214152468%5D%2C%0A%20%20%20%20%20%20%20%20%20%20%20%20%7B%0A%20%20%20%20%20%20%20%20%20%20%20%20%20%20%20%20icon%3A%20new%20L.Icon.Default%28%29%2C%0A%20%20%20%20%20%20%20%20%20%20%20%20%20%20%20%20%7D%0A%20%20%20%20%20%20%20%20%20%20%20%20%29.addTo%28map_6c9341ff0c0447b7ae4de7498e5306b4%29%3B%0A%20%20%20%20%20%20%20%20%0A%20%20%20%20%0A%20%20%20%20%20%20%20%20var%20marker_968d9d499a7044adb0f78057aff7e05c%20%3D%20L.marker%28%0A%20%20%20%20%20%20%20%20%20%20%20%20%5B15.442355876672671%2C%20102.32822838698743%5D%2C%0A%20%20%20%20%20%20%20%20%20%20%20%20%7B%0A%20%20%20%20%20%20%20%20%20%20%20%20%20%20%20%20icon%3A%20new%20L.Icon.Default%28%29%2C%0A%20%20%20%20%20%20%20%20%20%20%20%20%20%20%20%20%7D%0A%20%20%20%20%20%20%20%20%20%20%20%20%29.addTo%28map_6c9341ff0c0447b7ae4de7498e5306b4%29%3B%0A%20%20%20%20%20%20%20%20%0A%20%20%20%20%0A%20%20%20%20%20%20%20%20var%20marker_35d9e30eb8b942c4b32e79ad12d5c88f%20%3D%20L.marker%28%0A%20%20%20%20%20%20%20%20%20%20%20%20%5B14.52424474499185%2C%20102.24835749767884%5D%2C%0A%20%20%20%20%20%20%20%20%20%20%20%20%7B%0A%20%20%20%20%20%20%20%20%20%20%20%20%20%20%20%20icon%3A%20new%20L.Icon.Default%28%29%2C%0A%20%20%20%20%20%20%20%20%20%20%20%20%20%20%20%20%7D%0A%20%20%20%20%20%20%20%20%20%20%20%20%29.addTo%28map_6c9341ff0c0447b7ae4de7498e5306b4%29%3B%0A%20%20%20%20%20%20%20%20%0A%20%20%20%20%0A%20%20%20%20%20%20%20%20var%20marker_330c07fe49f544288084a7a6bf0b2e42%20%3D%20L.marker%28%0A%20%20%20%20%20%20%20%20%20%20%20%20%5B15.01401450195853%2C%20102.41290691330536%5D%2C%0A%20%20%20%20%20%20%20%20%20%20%20%20%7B%0A%20%20%20%20%20%20%20%20%20%20%20%20%20%20%20%20icon%3A%20new%20L.Icon.Default%28%29%2C%0A%20%20%20%20%20%20%20%20%20%20%20%20%20%20%20%20%7D%0A%20%20%20%20%20%20%20%20%20%20%20%20%29.addTo%28map_6c9341ff0c0447b7ae4de7498e5306b4%29%3B%0A%20%20%20%20%20%20%20%20%0A%20%20%20%20%0A%20%20%20%20%20%20%20%20var%20marker_cbdf067672d44990a22f25126f9962fa%20%3D%20L.marker%28%0A%20%20%20%20%20%20%20%20%20%20%20%20%5B15.347196617490315%2C%20102.74073650704634%5D%2C%0A%20%20%20%20%20%20%20%20%20%20%20%20%7B%0A%20%20%20%20%20%20%20%20%20%20%20%20%20%20%20%20icon%3A%20new%20L.Icon.Default%28%29%2C%0A%20%20%20%20%20%20%20%20%20%20%20%20%20%20%20%20%7D%0A%20%20%20%20%20%20%20%20%20%20%20%20%29.addTo%28map_6c9341ff0c0447b7ae4de7498e5306b4%29%3B%0A%20%20%20%20%20%20%20%20%0A%20%20%20%20%0A%20%20%20%20%20%20%20%20var%20marker_d968ea5c27d4416f89586bfc9b886b3f%20%3D%20L.marker%28%0A%20%20%20%20%20%20%20%20%20%20%20%20%5B14.731864721790712%2C%20102.16307825715079%5D%2C%0A%20%20%20%20%20%20%20%20%20%20%20%20%7B%0A%20%20%20%20%20%20%20%20%20%20%20%20%20%20%20%20icon%3A%20new%20L.Icon.Default%28%29%2C%0A%20%20%20%20%20%20%20%20%20%20%20%20%20%20%20%20%7D%0A%20%20%20%20%20%20%20%20%20%20%20%20%29.addTo%28map_6c9341ff0c0447b7ae4de7498e5306b4%29%3B%0A%20%20%20%20%20%20%20%20%0A%20%20%20%20%0A%20%20%20%20%20%20%20%20var%20marker_264126791ebe48ddba4ca69e33db2dad%20%3D%20L.marker%28%0A%20%20%20%20%20%20%20%20%20%20%20%20%5B15.195995381659461%2C%20102.69502007727112%5D%2C%0A%20%20%20%20%20%20%20%20%20%20%20%20%7B%0A%20%20%20%20%20%20%20%20%20%20%20%20%20%20%20%20icon%3A%20new%20L.Icon.Default%28%29%2C%0A%20%20%20%20%20%20%20%20%20%20%20%20%20%20%20%20%7D%0A%20%20%20%20%20%20%20%20%20%20%20%20%29.addTo%28map_6c9341ff0c0447b7ae4de7498e5306b4%29%3B%0A%20%20%20%20%20%20%20%20%0A%20%20%20%20%0A%20%20%20%20%20%20%20%20var%20marker_cacae99aacf44c60b6c70f226555efc2%20%3D%20L.marker%28%0A%20%20%20%20%20%20%20%20%20%20%20%20%5B15.398749308260669%2C%20102.52515797964043%5D%2C%0A%20%20%20%20%20%20%20%20%20%20%20%20%7B%0A%20%20%20%20%20%20%20%20%20%20%20%20%20%20%20%20icon%3A%20new%20L.Icon.Default%28%29%2C%0A%20%20%20%20%20%20%20%20%20%20%20%20%20%20%20%20%7D%0A%20%20%20%20%20%20%20%20%20%20%20%20%29.addTo%28map_6c9341ff0c0447b7ae4de7498e5306b4%29%3B%0A%20%20%20%20%20%20%20%20%0A%20%20%20%20%0A%20%20%20%20%20%20%20%20var%20marker_71028b7d5ffc4fe985e6b167d44f1560%20%3D%20L.marker%28%0A%20%20%20%20%20%20%20%20%20%20%20%20%5B15.198059131416851%2C%20102.06988618289193%5D%2C%0A%20%20%20%20%20%20%20%20%20%20%20%20%7B%0A%20%20%20%20%20%20%20%20%20%20%20%20%20%20%20%20icon%3A%20new%20L.Icon.Default%28%29%2C%0A%20%20%20%20%20%20%20%20%20%20%20%20%20%20%20%20%7D%0A%20%20%20%20%20%20%20%20%20%20%20%20%29.addTo%28map_6c9341ff0c0447b7ae4de7498e5306b4%29%3B%0A%20%20%20%20%20%20%20%20%0A%20%20%20%20%0A%20%20%20%20%20%20%20%20var%20marker_150869c6b5814724b8af5b7ca497a46c%20%3D%20L.marker%28%0A%20%20%20%20%20%20%20%20%20%20%20%20%5B15.180091622107708%2C%20102.25659347109365%5D%2C%0A%20%20%20%20%20%20%20%20%20%20%20%20%7B%0A%20%20%20%20%20%20%20%20%20%20%20%20%20%20%20%20icon%3A%20new%20L.Icon.Default%28%29%2C%0A%20%20%20%20%20%20%20%20%20%20%20%20%20%20%20%20%7D%0A%20%20%20%20%20%20%20%20%20%20%20%20%29.addTo%28map_6c9341ff0c0447b7ae4de7498e5306b4%29%3B%0A%20%20%20%20%20%20%20%20%0A%20%20%20%20%0A%20%20%20%20%20%20%20%20var%20marker_218ecc6c7d1d47ea96093e6e47a2e4f3%20%3D%20L.marker%28%0A%20%20%20%20%20%20%20%20%20%20%20%20%5B15.58329632890634%2C%20102.42193474278761%5D%2C%0A%20%20%20%20%20%20%20%20%20%20%20%20%7B%0A%20%20%20%20%20%20%20%20%20%20%20%20%20%20%20%20icon%3A%20new%20L.Icon.Default%28%29%2C%0A%20%20%20%20%20%20%20%20%20%20%20%20%20%20%20%20%7D%0A%20%20%20%20%20%20%20%20%20%20%20%20%29.addTo%28map_6c9341ff0c0447b7ae4de7498e5306b4%29%3B%0A%20%20%20%20%20%20%20%20%0A%20%20%20%20%0A%20%20%20%20%20%20%20%20var%20marker_317028a1a2ac4e2d8906ea2a59bfaa73%20%3D%20L.marker%28%0A%20%20%20%20%20%20%20%20%20%20%20%20%5B15.60292563834713%2C%20102.11890555437692%5D%2C%0A%20%20%20%20%20%20%20%20%20%20%20%20%7B%0A%20%20%20%20%20%20%20%20%20%20%20%20%20%20%20%20icon%3A%20new%20L.Icon.Default%28%29%2C%0A%20%20%20%20%20%20%20%20%20%20%20%20%20%20%20%20%7D%0A%20%20%20%20%20%20%20%20%20%20%20%20%29.addTo%28map_6c9341ff0c0447b7ae4de7498e5306b4%29%3B%0A%20%20%20%20%20%20%20%20%0A%20%20%20%20%0A%20%20%20%20%20%20%20%20var%20marker_d3b48891ce194fa4b42134ce421a9877%20%3D%20L.marker%28%0A%20%20%20%20%20%20%20%20%20%20%20%20%5B15.53095391392801%2C%20102.72187911452447%5D%2C%0A%20%20%20%20%20%20%20%20%20%20%20%20%7B%0A%20%20%20%20%20%20%20%20%20%20%20%20%20%20%20%20icon%3A%20new%20L.Icon.Default%28%29%2C%0A%20%20%20%20%20%20%20%20%20%20%20%20%20%20%20%20%7D%0A%20%20%20%20%20%20%20%20%20%20%20%20%29.addTo%28map_6c9341ff0c0447b7ae4de7498e5306b4%29%3B%0A%20%20%20%20%20%20%20%20%0A%20%20%20%20%0A%20%20%20%20%20%20%20%20var%20marker_28fbf88932a64b9b83ee3477fcbe601e%20%3D%20L.marker%28%0A%20%20%20%20%20%20%20%20%20%20%20%20%5B14.719515394301167%2C%20102.02117203614202%5D%2C%0A%20%20%20%20%20%20%20%20%20%20%20%20%7B%0A%20%20%20%20%20%20%20%20%20%20%20%20%20%20%20%20icon%3A%20new%20L.Icon.Default%28%29%2C%0A%20%20%20%20%20%20%20%20%20%20%20%20%20%20%20%20%7D%0A%20%20%20%20%20%20%20%20%20%20%20%20%29.addTo%28map_6c9341ff0c0447b7ae4de7498e5306b4%29%3B%0A%20%20%20%20%20%20%20%20%0A%20%20%20%20%0A%20%20%20%20%20%20%20%20var%20marker_c29dc368b2194af68afffc580645eedd%20%3D%20L.marker%28%0A%20%20%20%20%20%20%20%20%20%20%20%20%5B14.712090899281291%2C%20101.42265385534047%5D%2C%0A%20%20%20%20%20%20%20%20%20%20%20%20%7B%0A%20%20%20%20%20%20%20%20%20%20%20%20%20%20%20%20icon%3A%20new%20L.Icon.Default%28%29%2C%0A%20%20%20%20%20%20%20%20%20%20%20%20%20%20%20%20%7D%0A%20%20%20%20%20%20%20%20%20%20%20%20%29.addTo%28map_6c9341ff0c0447b7ae4de7498e5306b4%29%3B%0A%20%20%20%20%20%20%20%20%0A%20%20%20%20%0A%20%20%20%20%20%20%20%20var%20marker_4b9e683ffdb5485ab88aa4508c5351a9%20%3D%20L.marker%28%0A%20%20%20%20%20%20%20%20%20%20%20%20%5B15.220725688589228%2C%20102.48724431628806%5D%2C%0A%20%20%20%20%20%20%20%20%20%20%20%20%7B%0A%20%20%20%20%20%20%20%20%20%20%20%20%20%20%20%20icon%3A%20new%20L.Icon.Default%28%29%2C%0A%20%20%20%20%20%20%20%20%20%20%20%20%20%20%20%20%7D%0A%20%20%20%20%20%20%20%20%20%20%20%20%29.addTo%28map_6c9341ff0c0447b7ae4de7498e5306b4%29%3B%0A%20%20%20%20%20%20%20%20%0A%20%20%20%20%0A%20%20%20%20%20%20%20%20var%20marker_cf118ee6353f466abf2d81098165d4d9%20%3D%20L.marker%28%0A%20%20%20%20%20%20%20%20%20%20%20%20%5B14.89211264742345%2C%20101.72319867277636%5D%2C%0A%20%20%20%20%20%20%20%20%20%20%20%20%7B%0A%20%20%20%20%20%20%20%20%20%20%20%20%20%20%20%20icon%3A%20new%20L.Icon.Default%28%29%2C%0A%20%20%20%20%20%20%20%20%20%20%20%20%20%20%20%20%7D%0A%20%20%20%20%20%20%20%20%20%20%20%20%29.addTo%28map_6c9341ff0c0447b7ae4de7498e5306b4%29%3B%0A%20%20%20%20%20%20%20%20%0A%20%20%20%20%0A%20%20%20%20%20%20%20%20var%20marker_7312d4924d5445069d9718166572fba5%20%3D%20L.marker%28%0A%20%20%20%20%20%20%20%20%20%20%20%20%5B14.898778983799216%2C%20101.8216407841872%5D%2C%0A%20%20%20%20%20%20%20%20%20%20%20%20%7B%0A%20%20%20%20%20%20%20%20%20%20%20%20%20%20%20%20icon%3A%20new%20L.Icon.Default%28%29%2C%0A%20%20%20%20%20%20%20%20%20%20%20%20%20%20%20%20%7D%0A%20%20%20%20%20%20%20%20%20%20%20%20%29.addTo%28map_6c9341ff0c0447b7ae4de7498e5306b4%29%3B%0A%20%20%20%20%20%20%20%20%0A%20%20%20%20%0A%20%20%20%20%20%20%20%20var%20marker_f7dcac3bb29d4b71b917ff241f31be8c%20%3D%20L.marker%28%0A%20%20%20%20%20%20%20%20%20%20%20%20%5B14.426732623054454%2C%20102.46125897597214%5D%2C%0A%20%20%20%20%20%20%20%20%20%20%20%20%7B%0A%20%20%20%20%20%20%20%20%20%20%20%20%20%20%20%20icon%3A%20new%20L.Icon.Default%28%29%2C%0A%20%20%20%20%20%20%20%20%20%20%20%20%20%20%20%20%7D%0A%20%20%20%20%20%20%20%20%20%20%20%20%29.addTo%28map_6c9341ff0c0447b7ae4de7498e5306b4%29%3B%0A%20%20%20%20%20%20%20%20%0A%20%20%20%20%0A%20%20%20%20%20%20%20%20var%20marker_edfbd174660546c09a5d0e670c44c011%20%3D%20L.marker%28%0A%20%20%20%20%20%20%20%20%20%20%20%20%5B14.711056311531237%2C%20102.45558798838596%5D%2C%0A%20%20%20%20%20%20%20%20%20%20%20%20%7B%0A%20%20%20%20%20%20%20%20%20%20%20%20%20%20%20%20icon%3A%20new%20L.Icon.Default%28%29%2C%0A%20%20%20%20%20%20%20%20%20%20%20%20%20%20%20%20%7D%0A%20%20%20%20%20%20%20%20%20%20%20%20%29.addTo%28map_6c9341ff0c0447b7ae4de7498e5306b4%29%3B%0A%20%20%20%20%20%20%20%20%0A%20%20%20%20%0A%20%20%20%20%20%20%20%20var%20marker_8ddfd2e357fc40a0a3a8e9e43f7a53d6%20%3D%20L.marker%28%0A%20%20%20%20%20%20%20%20%20%20%20%20%5B14.996868984342465%2C%20102.63895896776305%5D%2C%0A%20%20%20%20%20%20%20%20%20%20%20%20%7B%0A%20%20%20%20%20%20%20%20%20%20%20%20%20%20%20%20icon%3A%20new%20L.Icon.Default%28%29%2C%0A%20%20%20%20%20%20%20%20%20%20%20%20%20%20%20%20%7D%0A%20%20%20%20%20%20%20%20%20%20%20%20%29.addTo%28map_6c9341ff0c0447b7ae4de7498e5306b4%29%3B%0A%20%20%20%20%20%20%20%20%0A%20%20%20%20%0A%20%20%20%20%20%20%20%20var%20marker_caf3765e895e4a3ab88b7bcd2b4b7ac1%20%3D%20L.marker%28%0A%20%20%20%20%20%20%20%20%20%20%20%20%5B14.509593541420335%2C%20101.9609825607686%5D%2C%0A%20%20%20%20%20%20%20%20%20%20%20%20%7B%0A%20%20%20%20%20%20%20%20%20%20%20%20%20%20%20%20icon%3A%20new%20L.Icon.Default%28%29%2C%0A%20%20%20%20%20%20%20%20%20%20%20%20%20%20%20%20%7D%0A%20%20%20%20%20%20%20%20%20%20%20%20%29.addTo%28map_6c9341ff0c0447b7ae4de7498e5306b4%29%3B%0A%20%20%20%20%20%20%20%20%0A%20%20%20%20%0A%20%20%20%20%20%20%20%20var%20marker_965a389fba2f4822b94725beb85ff2be%20%3D%20L.marker%28%0A%20%20%20%20%20%20%20%20%20%20%20%20%5B14.993894133322987%2C%20103.1037857534715%5D%2C%0A%20%20%20%20%20%20%20%20%20%20%20%20%7B%0A%20%20%20%20%20%20%20%20%20%20%20%20%20%20%20%20icon%3A%20new%20L.Icon.Default%28%29%2C%0A%20%20%20%20%20%20%20%20%20%20%20%20%20%20%20%20%7D%0A%20%20%20%20%20%20%20%20%20%20%20%20%29.addTo%28map_6c9341ff0c0447b7ae4de7498e5306b4%29%3B%0A%20%20%20%20%20%20%20%20%0A%20%20%20%20%0A%20%20%20%20%20%20%20%20var%20marker_cd651dbc6e644fcfaeb9fecfe4b3977e%20%3D%20L.marker%28%0A%20%20%20%20%20%20%20%20%20%20%20%20%5B14.922068742522237%2C%20103.30173744695213%5D%2C%0A%20%20%20%20%20%20%20%20%20%20%20%20%7B%0A%20%20%20%20%20%20%20%20%20%20%20%20%20%20%20%20icon%3A%20new%20L.Icon.Default%28%29%2C%0A%20%20%20%20%20%20%20%20%20%20%20%20%20%20%20%20%7D%0A%20%20%20%20%20%20%20%20%20%20%20%20%29.addTo%28map_6c9341ff0c0447b7ae4de7498e5306b4%29%3B%0A%20%20%20%20%20%20%20%20%0A%20%20%20%20%0A%20%20%20%20%20%20%20%20var%20marker_9b4903402c31466c98cfe2650f0869c3%20%3D%20L.marker%28%0A%20%20%20%20%20%20%20%20%20%20%20%20%5B15.270625252752728%2C%20103.00218239150098%5D%2C%0A%20%20%20%20%20%20%20%20%20%20%20%20%7B%0A%20%20%20%20%20%20%20%20%20%20%20%20%20%20%20%20icon%3A%20new%20L.Icon.Default%28%29%2C%0A%20%20%20%20%20%20%20%20%20%20%20%20%20%20%20%20%7D%0A%20%20%20%20%20%20%20%20%20%20%20%20%29.addTo%28map_6c9341ff0c0447b7ae4de7498e5306b4%29%3B%0A%20%20%20%20%20%20%20%20%0A%20%20%20%20%0A%20%20%20%20%20%20%20%20var%20marker_805a6db2ebb94d9abae81286733ea854%20%3D%20L.marker%28%0A%20%20%20%20%20%20%20%20%20%20%20%20%5B14.62823303803841%2C%20102.7937404312641%5D%2C%0A%20%20%20%20%20%20%20%20%20%20%20%20%7B%0A%20%20%20%20%20%20%20%20%20%20%20%20%20%20%20%20icon%3A%20new%20L.Icon.Default%28%29%2C%0A%20%20%20%20%20%20%20%20%20%20%20%20%20%20%20%20%7D%0A%20%20%20%20%20%20%20%20%20%20%20%20%29.addTo%28map_6c9341ff0c0447b7ae4de7498e5306b4%29%3B%0A%20%20%20%20%20%20%20%20%0A%20%20%20%20%0A%20%20%20%20%20%20%20%20var%20marker_24680cfe843c4d7f93fad5afd25edd4c%20%3D%20L.marker%28%0A%20%20%20%20%20%20%20%20%20%20%20%20%5B15.641922422249223%2C%20102.9532072074299%5D%2C%0A%20%20%20%20%20%20%20%20%20%20%20%20%7B%0A%20%20%20%20%20%20%20%20%20%20%20%20%20%20%20%20icon%3A%20new%20L.Icon.Default%28%29%2C%0A%20%20%20%20%20%20%20%20%20%20%20%20%20%20%20%20%7D%0A%20%20%20%20%20%20%20%20%20%20%20%20%29.addTo%28map_6c9341ff0c0447b7ae4de7498e5306b4%29%3B%0A%20%20%20%20%20%20%20%20%0A%20%20%20%20%0A%20%20%20%20%20%20%20%20var%20marker_92fb8e2334014511a66c6ad9bf024987%20%3D%20L.marker%28%0A%20%20%20%20%20%20%20%20%20%20%20%20%5B14.421261378687996%2C%20103.09926594990331%5D%2C%0A%20%20%20%20%20%20%20%20%20%20%20%20%7B%0A%20%20%20%20%20%20%20%20%20%20%20%20%20%20%20%20icon%3A%20new%20L.Icon.Default%28%29%2C%0A%20%20%20%20%20%20%20%20%20%20%20%20%20%20%20%20%7D%0A%20%20%20%20%20%20%20%20%20%20%20%20%29.addTo%28map_6c9341ff0c0447b7ae4de7498e5306b4%29%3B%0A%20%20%20%20%20%20%20%20%0A%20%20%20%20%0A%20%20%20%20%20%20%20%20var%20marker_db6454144e464d78819e48f5f772e986%20%3D%20L.marker%28%0A%20%20%20%20%20%20%20%20%20%20%20%20%5B14.609364208546317%2C%20103.08169689568051%5D%2C%0A%20%20%20%20%20%20%20%20%20%20%20%20%7B%0A%20%20%20%20%20%20%20%20%20%20%20%20%20%20%20%20icon%3A%20new%20L.Icon.Default%28%29%2C%0A%20%20%20%20%20%20%20%20%20%20%20%20%20%20%20%20%7D%0A%20%20%20%20%20%20%20%20%20%20%20%20%29.addTo%28map_6c9341ff0c0447b7ae4de7498e5306b4%29%3B%0A%20%20%20%20%20%20%20%20%0A%20%20%20%20%0A%20%20%20%20%20%20%20%20var%20marker_89358c3f6c7047f1825bce01d14dba31%20%3D%20L.marker%28%0A%20%20%20%20%20%20%20%20%20%20%20%20%5B14.438645034192739%2C%20102.72543370982666%5D%2C%0A%20%20%20%20%20%20%20%20%20%20%20%20%7B%0A%20%20%20%20%20%20%20%20%20%20%20%20%20%20%20%20icon%3A%20new%20L.Icon.Default%28%29%2C%0A%20%20%20%20%20%20%20%20%20%20%20%20%20%20%20%20%7D%0A%20%20%20%20%20%20%20%20%20%20%20%20%29.addTo%28map_6c9341ff0c0447b7ae4de7498e5306b4%29%3B%0A%20%20%20%20%20%20%20%20%0A%20%20%20%20%0A%20%20%20%20%20%20%20%20var%20marker_e5154898bc12406cac02ffcfd610fd9c%20%3D%20L.marker%28%0A%20%20%20%20%20%20%20%20%20%20%20%20%5B15.542260975228245%2C%20103.0029417365116%5D%2C%0A%20%20%20%20%20%20%20%20%20%20%20%20%7B%0A%20%20%20%20%20%20%20%20%20%20%20%20%20%20%20%20icon%3A%20new%20L.Icon.Default%28%29%2C%0A%20%20%20%20%20%20%20%20%20%20%20%20%20%20%20%20%7D%0A%20%20%20%20%20%20%20%20%20%20%20%20%29.addTo%28map_6c9341ff0c0447b7ae4de7498e5306b4%29%3B%0A%20%20%20%20%20%20%20%20%0A%20%20%20%20%0A%20%20%20%20%20%20%20%20var%20marker_71787b8b45284422866608b0a010d86e%20%3D%20L.marker%28%0A%20%20%20%20%20%20%20%20%20%20%20%20%5B14.732771294272691%2C%20103.1773813008033%5D%2C%0A%20%20%20%20%20%20%20%20%20%20%20%20%7B%0A%20%20%20%20%20%20%20%20%20%20%20%20%20%20%20%20icon%3A%20new%20L.Icon.Default%28%29%2C%0A%20%20%20%20%20%20%20%20%20%20%20%20%20%20%20%20%7D%0A%20%20%20%20%20%20%20%20%20%20%20%20%29.addTo%28map_6c9341ff0c0447b7ae4de7498e5306b4%29%3B%0A%20%20%20%20%20%20%20%20%0A%20%20%20%20%0A%20%20%20%20%20%20%20%20var%20marker_3c4a0533b73b46c9aaf2c72c22f59c3b%20%3D%20L.marker%28%0A%20%20%20%20%20%20%20%20%20%20%20%20%5B14.41198211532811%2C%20102.85994646059603%5D%2C%0A%20%20%20%20%20%20%20%20%20%20%20%20%7B%0A%20%20%20%20%20%20%20%20%20%20%20%20%20%20%20%20icon%3A%20new%20L.Icon.Default%28%29%2C%0A%20%20%20%20%20%20%20%20%20%20%20%20%20%20%20%20%7D%0A%20%20%20%20%20%20%20%20%20%20%20%20%29.addTo%28map_6c9341ff0c0447b7ae4de7498e5306b4%29%3B%0A%20%20%20%20%20%20%20%20%0A%20%20%20%20%0A%20%20%20%20%20%20%20%20var%20marker_e8a96da6e1134349ad60c0abc84c0328%20%3D%20L.marker%28%0A%20%20%20%20%20%20%20%20%20%20%20%20%5B15.02487804514218%2C%20102.83899128716529%5D%2C%0A%20%20%20%20%20%20%20%20%20%20%20%20%7B%0A%20%20%20%20%20%20%20%20%20%20%20%20%20%20%20%20icon%3A%20new%20L.Icon.Default%28%29%2C%0A%20%20%20%20%20%20%20%20%20%20%20%20%20%20%20%20%7D%0A%20%20%20%20%20%20%20%20%20%20%20%20%29.addTo%28map_6c9341ff0c0447b7ae4de7498e5306b4%29%3B%0A%20%20%20%20%20%20%20%20%0A%20%20%20%20%0A%20%20%20%20%20%20%20%20var%20marker_d6e304140219473e82736d55357b3828%20%3D%20L.marker%28%0A%20%20%20%20%20%20%20%20%20%20%20%20%5B15.296884538137801%2C%20103.29242208543366%5D%2C%0A%20%20%20%20%20%20%20%20%20%20%20%20%7B%0A%20%20%20%20%20%20%20%20%20%20%20%20%20%20%20%20icon%3A%20new%20L.Icon.Default%28%29%2C%0A%20%20%20%20%20%20%20%20%20%20%20%20%20%20%20%20%7D%0A%20%20%20%20%20%20%20%20%20%20%20%20%29.addTo%28map_6c9341ff0c0447b7ae4de7498e5306b4%29%3B%0A%20%20%20%20%20%20%20%20%0A%20%20%20%20%0A%20%20%20%20%20%20%20%20var%20marker_dcba9ba9544245c18fbcb7202ba8bded%20%3D%20L.marker%28%0A%20%20%20%20%20%20%20%20%20%20%20%20%5B14.688141499002713%2C%20102.53371833447075%5D%2C%0A%20%20%20%20%20%20%20%20%20%20%20%20%7B%0A%20%20%20%20%20%20%20%20%20%20%20%20%20%20%20%20icon%3A%20new%20L.Icon.Default%28%29%2C%0A%20%20%20%20%20%20%20%20%20%20%20%20%20%20%20%20%7D%0A%20%20%20%20%20%20%20%20%20%20%20%20%29.addTo%28map_6c9341ff0c0447b7ae4de7498e5306b4%29%3B%0A%20%20%20%20%20%20%20%20%0A%20%20%20%20%0A%20%20%20%20%20%20%20%20var%20marker_f03095480d19486a96ebcd7f0ad61964%20%3D%20L.marker%28%0A%20%20%20%20%20%20%20%20%20%20%20%20%5B14.850366389367625%2C%20102.68727975402423%5D%2C%0A%20%20%20%20%20%20%20%20%20%20%20%20%7B%0A%20%20%20%20%20%20%20%20%20%20%20%20%20%20%20%20icon%3A%20new%20L.Icon.Default%28%29%2C%0A%20%20%20%20%20%20%20%20%20%20%20%20%20%20%20%20%7D%0A%20%20%20%20%20%20%20%20%20%20%20%20%29.addTo%28map_6c9341ff0c0447b7ae4de7498e5306b4%29%3B%0A%20%20%20%20%20%20%20%20%0A%20%20%20%20%0A%20%20%20%20%20%20%20%20var%20marker_caca439af2c946079b6204c43cd0d916%20%3D%20L.marker%28%0A%20%20%20%20%20%20%20%20%20%20%20%20%5B14.973558336027569%2C%20103.19255930356913%5D%2C%0A%20%20%20%20%20%20%20%20%20%20%20%20%7B%0A%20%20%20%20%20%20%20%20%20%20%20%20%20%20%20%20icon%3A%20new%20L.Icon.Default%28%29%2C%0A%20%20%20%20%20%20%20%20%20%20%20%20%20%20%20%20%7D%0A%20%20%20%20%20%20%20%20%20%20%20%20%29.addTo%28map_6c9341ff0c0447b7ae4de7498e5306b4%29%3B%0A%20%20%20%20%20%20%20%20%0A%20%20%20%20%0A%20%20%20%20%20%20%20%20var%20marker_48ec5c5e7a4c41b7880b1b8d41afc39e%20%3D%20L.marker%28%0A%20%20%20%20%20%20%20%20%20%20%20%20%5B14.574816894159376%2C%20102.59973285545314%5D%2C%0A%20%20%20%20%20%20%20%20%20%20%20%20%7B%0A%20%20%20%20%20%20%20%20%20%20%20%20%20%20%20%20icon%3A%20new%20L.Icon.Default%28%29%2C%0A%20%20%20%20%20%20%20%20%20%20%20%20%20%20%20%20%7D%0A%20%20%20%20%20%20%20%20%20%20%20%20%29.addTo%28map_6c9341ff0c0447b7ae4de7498e5306b4%29%3B%0A%20%20%20%20%20%20%20%20%0A%20%20%20%20%0A%20%20%20%20%20%20%20%20var%20marker_64f18aa6acf14d8e959f81065aef382e%20%3D%20L.marker%28%0A%20%20%20%20%20%20%20%20%20%20%20%20%5B14.785696587457439%2C%20102.81936752950857%5D%2C%0A%20%20%20%20%20%20%20%20%20%20%20%20%7B%0A%20%20%20%20%20%20%20%20%20%20%20%20%20%20%20%20icon%3A%20new%20L.Icon.Default%28%29%2C%0A%20%20%20%20%20%20%20%20%20%20%20%20%20%20%20%20%7D%0A%20%20%20%20%20%20%20%20%20%20%20%20%29.addTo%28map_6c9341ff0c0447b7ae4de7498e5306b4%29%3B%0A%20%20%20%20%20%20%20%20%0A%20%20%20%20%0A%20%20%20%20%20%20%20%20var%20marker_f15605f3179e4c8aae135202ad754422%20%3D%20L.marker%28%0A%20%20%20%20%20%20%20%20%20%20%20%20%5B15.56540393047252%2C%20102.85972682204961%5D%2C%0A%20%20%20%20%20%20%20%20%20%20%20%20%7B%0A%20%20%20%20%20%20%20%20%20%20%20%20%20%20%20%20icon%3A%20new%20L.Icon.Default%28%29%2C%0A%20%20%20%20%20%20%20%20%20%20%20%20%20%20%20%20%7D%0A%20%20%20%20%20%20%20%20%20%20%20%20%29.addTo%28map_6c9341ff0c0447b7ae4de7498e5306b4%29%3B%0A%20%20%20%20%20%20%20%20%0A%20%20%20%20%0A%20%20%20%20%20%20%20%20var%20marker_337def73facd4497ba3aa87bb3ca9a5c%20%3D%20L.marker%28%0A%20%20%20%20%20%20%20%20%20%20%20%20%5B14.312897669114383%2C%20102.74727707118359%5D%2C%0A%20%20%20%20%20%20%20%20%20%20%20%20%7B%0A%20%20%20%20%20%20%20%20%20%20%20%20%20%20%20%20icon%3A%20new%20L.Icon.Default%28%29%2C%0A%20%20%20%20%20%20%20%20%20%20%20%20%20%20%20%20%7D%0A%20%20%20%20%20%20%20%20%20%20%20%20%29.addTo%28map_6c9341ff0c0447b7ae4de7498e5306b4%29%3B%0A%20%20%20%20%20%20%20%20%0A%20%20%20%20%0A%20%20%20%20%20%20%20%20var%20marker_ba9eba392bc34104b1945d3f6abde2d4%20%3D%20L.marker%28%0A%20%20%20%20%20%20%20%20%20%20%20%20%5B15.12038578120838%2C%20104.32159556535866%5D%2C%0A%20%20%20%20%20%20%20%20%20%20%20%20%7B%0A%20%20%20%20%20%20%20%20%20%20%20%20%20%20%20%20icon%3A%20new%20L.Icon.Default%28%29%2C%0A%20%20%20%20%20%20%20%20%20%20%20%20%20%20%20%20%7D%0A%20%20%20%20%20%20%20%20%20%20%20%20%29.addTo%28map_6c9341ff0c0447b7ae4de7498e5306b4%29%3B%0A%20%20%20%20%20%20%20%20%0A%20%20%20%20%0A%20%20%20%20%20%20%20%20var%20marker_429adacbe14d442c8f5fb95eae77a8d1%20%3D%20L.marker%28%0A%20%20%20%20%20%20%20%20%20%20%20%20%5B14.640423303483033%2C%20104.65999320878842%5D%2C%0A%20%20%20%20%20%20%20%20%20%20%20%20%7B%0A%20%20%20%20%20%20%20%20%20%20%20%20%20%20%20%20icon%3A%20new%20L.Icon.Default%28%29%2C%0A%20%20%20%20%20%20%20%20%20%20%20%20%20%20%20%20%7D%0A%20%20%20%20%20%20%20%20%20%20%20%20%29.addTo%28map_6c9341ff0c0447b7ae4de7498e5306b4%29%3B%0A%20%20%20%20%20%20%20%20%0A%20%20%20%20%0A%20%20%20%20%20%20%20%20var%20marker_34a84be5d94f4314ae77d62e503663be%20%3D%20L.marker%28%0A%20%20%20%20%20%20%20%20%20%20%20%20%5B15.105807394195956%2C%20104.57057570030746%5D%2C%0A%20%20%20%20%20%20%20%20%20%20%20%20%7B%0A%20%20%20%20%20%20%20%20%20%20%20%20%20%20%20%20icon%3A%20new%20L.Icon.Default%28%29%2C%0A%20%20%20%20%20%20%20%20%20%20%20%20%20%20%20%20%7D%0A%20%20%20%20%20%20%20%20%20%20%20%20%29.addTo%28map_6c9341ff0c0447b7ae4de7498e5306b4%29%3B%0A%20%20%20%20%20%20%20%20%0A%20%20%20%20%0A%20%20%20%20%20%20%20%20var%20marker_dc9d3fa7359349cd87ab1140c04620a6%20%3D%20L.marker%28%0A%20%20%20%20%20%20%20%20%20%20%20%20%5B14.716044537778156%2C%20104.19718227033407%5D%2C%0A%20%20%20%20%20%20%20%20%20%20%20%20%7B%0A%20%20%20%20%20%20%20%20%20%20%20%20%20%20%20%20icon%3A%20new%20L.Icon.Default%28%29%2C%0A%20%20%20%20%20%20%20%20%20%20%20%20%20%20%20%20%7D%0A%20%20%20%20%20%20%20%20%20%20%20%20%29.addTo%28map_6c9341ff0c0447b7ae4de7498e5306b4%29%3B%0A%20%20%20%20%20%20%20%20%0A%20%20%20%20%0A%20%20%20%20%20%20%20%20var%20marker_ef1793eba183477d952f6e0447ddb98b%20%3D%20L.marker%28%0A%20%20%20%20%20%20%20%20%20%20%20%20%5B14.617091212378067%2C%20104.42650682929657%5D%2C%0A%20%20%20%20%20%20%20%20%20%20%20%20%7B%0A%20%20%20%20%20%20%20%20%20%20%20%20%20%20%20%20icon%3A%20new%20L.Icon.Default%28%29%2C%0A%20%20%20%20%20%20%20%20%20%20%20%20%20%20%20%20%7D%0A%20%20%20%20%20%20%20%20%20%20%20%20%29.addTo%28map_6c9341ff0c0447b7ae4de7498e5306b4%29%3B%0A%20%20%20%20%20%20%20%20%0A%20%20%20%20%0A%20%20%20%20%20%20%20%20var%20marker_f4c4c6e525554ff7a8151e34c324439d%20%3D%20L.marker%28%0A%20%20%20%20%20%20%20%20%20%20%20%20%5B14.911026678135169%2C%20104.55171883888721%5D%2C%0A%20%20%20%20%20%20%20%20%20%20%20%20%7B%0A%20%20%20%20%20%20%20%20%20%20%20%20%20%20%20%20icon%3A%20new%20L.Icon.Default%28%29%2C%0A%20%20%20%20%20%20%20%20%20%20%20%20%20%20%20%20%7D%0A%20%20%20%20%20%20%20%20%20%20%20%20%29.addTo%28map_6c9341ff0c0447b7ae4de7498e5306b4%29%3B%0A%20%20%20%20%20%20%20%20%0A%20%20%20%20%0A%20%20%20%20%20%20%20%20var%20marker_a0e773606ae140bf9312d5ad4cb7fc04%20%3D%20L.marker%28%0A%20%20%20%20%20%20%20%20%20%20%20%20%5B14.928070821487411%2C%20104.68920863051405%5D%2C%0A%20%20%20%20%20%20%20%20%20%20%20%20%7B%0A%20%20%20%20%20%20%20%20%20%20%20%20%20%20%20%20icon%3A%20new%20L.Icon.Default%28%29%2C%0A%20%20%20%20%20%20%20%20%20%20%20%20%20%20%20%20%7D%0A%20%20%20%20%20%20%20%20%20%20%20%20%29.addTo%28map_6c9341ff0c0447b7ae4de7498e5306b4%29%3B%0A%20%20%20%20%20%20%20%20%0A%20%20%20%20%0A%20%20%20%20%20%20%20%20var%20marker_a868acf9a2214d86b8b9e0e53c2a2cd0%20%3D%20L.marker%28%0A%20%20%20%20%20%20%20%20%20%20%20%20%5B15.331108604358208%2C%20104.04592864357899%5D%2C%0A%20%20%20%20%20%20%20%20%20%20%20%20%7B%0A%20%20%20%20%20%20%20%20%20%20%20%20%20%20%20%20icon%3A%20new%20L.Icon.Default%28%29%2C%0A%20%20%20%20%20%20%20%20%20%20%20%20%20%20%20%20%7D%0A%20%20%20%20%20%20%20%20%20%20%20%20%29.addTo%28map_6c9341ff0c0447b7ae4de7498e5306b4%29%3B%0A%20%20%20%20%20%20%20%20%0A%20%20%20%20%0A%20%20%20%20%20%20%20%20var%20marker_e9fe95dda2d14164ae22acfd2c3d0294%20%3D%20L.marker%28%0A%20%20%20%20%20%20%20%20%20%20%20%20%5B14.857919810514623%2C%20104.03920830877749%5D%2C%0A%20%20%20%20%20%20%20%20%20%20%20%20%7B%0A%20%20%20%20%20%20%20%20%20%20%20%20%20%20%20%20icon%3A%20new%20L.Icon.Default%28%29%2C%0A%20%20%20%20%20%20%20%20%20%20%20%20%20%20%20%20%7D%0A%20%20%20%20%20%20%20%20%20%20%20%20%29.addTo%28map_6c9341ff0c0447b7ae4de7498e5306b4%29%3B%0A%20%20%20%20%20%20%20%20%0A%20%20%20%20%0A%20%20%20%20%20%20%20%20var%20marker_cfb0c30fcab64c9ca3de3e53ebc2ac5d%20%3D%20L.marker%28%0A%20%20%20%20%20%20%20%20%20%20%20%20%5B14.74693366707014%2C%20104.36178599692595%5D%2C%0A%20%20%20%20%20%20%20%20%20%20%20%20%7B%0A%20%20%20%20%20%20%20%20%20%20%20%20%20%20%20%20icon%3A%20new%20L.Icon.Default%28%29%2C%0A%20%20%20%20%20%20%20%20%20%20%20%20%20%20%20%20%7D%0A%20%20%20%20%20%20%20%20%20%20%20%20%29.addTo%28map_6c9341ff0c0447b7ae4de7498e5306b4%29%3B%0A%20%20%20%20%20%20%20%20%0A%20%20%20%20%0A%20%20%20%20%20%20%20%20var%20marker_a92687bf87764334a474cea13755db1e%20%3D%20L.marker%28%0A%20%20%20%20%20%20%20%20%20%20%20%20%5B15.261373137967771%2C%20104.40058238246822%5D%2C%0A%20%20%20%20%20%20%20%20%20%20%20%20%7B%0A%20%20%20%20%20%20%20%20%20%20%20%20%20%20%20%20icon%3A%20new%20L.Icon.Default%28%29%2C%0A%20%20%20%20%20%20%20%20%20%20%20%20%20%20%20%20%7D%0A%20%20%20%20%20%20%20%20%20%20%20%20%29.addTo%28map_6c9341ff0c0447b7ae4de7498e5306b4%29%3B%0A%20%20%20%20%20%20%20%20%0A%20%20%20%20%0A%20%20%20%20%20%20%20%20var%20marker_fa92735e6c6447ec869cfa625e4dfc93%20%3D%20L.marker%28%0A%20%20%20%20%20%20%20%20%20%20%20%20%5B15.340041282829437%2C%20104.15367027949273%5D%2C%0A%20%20%20%20%20%20%20%20%20%20%20%20%7B%0A%20%20%20%20%20%20%20%20%20%20%20%20%20%20%20%20icon%3A%20new%20L.Icon.Default%28%29%2C%0A%20%20%20%20%20%20%20%20%20%20%20%20%20%20%20%20%7D%0A%20%20%20%20%20%20%20%20%20%20%20%20%29.addTo%28map_6c9341ff0c0447b7ae4de7498e5306b4%29%3B%0A%20%20%20%20%20%20%20%20%0A%20%20%20%20%0A%20%20%20%20%20%20%20%20var%20marker_670bc58428ce421f9726ee64ac2401e5%20%3D%20L.marker%28%0A%20%20%20%20%20%20%20%20%20%20%20%20%5B14.921117112674493%2C%20104.23212896600668%5D%2C%0A%20%20%20%20%20%20%20%20%20%20%20%20%7B%0A%20%20%20%20%20%20%20%20%20%20%20%20%20%20%20%20icon%3A%20new%20L.Icon.Default%28%29%2C%0A%20%20%20%20%20%20%20%20%20%20%20%20%20%20%20%20%7D%0A%20%20%20%20%20%20%20%20%20%20%20%20%29.addTo%28map_6c9341ff0c0447b7ae4de7498e5306b4%29%3B%0A%20%20%20%20%20%20%20%20%0A%20%20%20%20%0A%20%20%20%20%20%20%20%20var%20marker_fdd605d3eb49417c966c2aea24e916d0%20%3D%20L.marker%28%0A%20%20%20%20%20%20%20%20%20%20%20%20%5B14.793134947103457%2C%20104.46962858204434%5D%2C%0A%20%20%20%20%20%20%20%20%20%20%20%20%7B%0A%20%20%20%20%20%20%20%20%20%20%20%20%20%20%20%20icon%3A%20new%20L.Icon.Default%28%29%2C%0A%20%20%20%20%20%20%20%20%20%20%20%20%20%20%20%20%7D%0A%20%20%20%20%20%20%20%20%20%20%20%20%29.addTo%28map_6c9341ff0c0447b7ae4de7498e5306b4%29%3B%0A%20%20%20%20%20%20%20%20%0A%20%20%20%20%0A%20%20%20%20%20%20%20%20var%20marker_ecc90707a7e24b4eb6689b870e41968c%20%3D%20L.marker%28%0A%20%20%20%20%20%20%20%20%20%20%20%20%5B15.051583815992498%2C%20104.02318160841317%5D%2C%0A%20%20%20%20%20%20%20%20%20%20%20%20%7B%0A%20%20%20%20%20%20%20%20%20%20%20%20%20%20%20%20icon%3A%20new%20L.Icon.Default%28%29%2C%0A%20%20%20%20%20%20%20%20%20%20%20%20%20%20%20%20%7D%0A%20%20%20%20%20%20%20%20%20%20%20%20%29.addTo%28map_6c9341ff0c0447b7ae4de7498e5306b4%29%3B%0A%20%20%20%20%20%20%20%20%0A%20%20%20%20%0A%20%20%20%20%20%20%20%20var%20marker_a6684f93c16f411094f0315688105a08%20%3D%20L.marker%28%0A%20%20%20%20%20%20%20%20%20%20%20%20%5B15.112081505527856%2C%20104.13922509687548%5D%2C%0A%20%20%20%20%20%20%20%20%20%20%20%20%7B%0A%20%20%20%20%20%20%20%20%20%20%20%20%20%20%20%20icon%3A%20new%20L.Icon.Default%28%29%2C%0A%20%20%20%20%20%20%20%20%20%20%20%20%20%20%20%20%7D%0A%20%20%20%20%20%20%20%20%20%20%20%20%29.addTo%28map_6c9341ff0c0447b7ae4de7498e5306b4%29%3B%0A%20%20%20%20%20%20%20%20%0A%20%20%20%20%0A%20%20%20%20%20%20%20%20var%20marker_5f7e4a09bcbb43608fac61700598ba5d%20%3D%20L.marker%28%0A%20%20%20%20%20%20%20%20%20%20%20%20%5B14.564939254369751%2C%20104.13720977753809%5D%2C%0A%20%20%20%20%20%20%20%20%20%20%20%20%7B%0A%20%20%20%20%20%20%20%20%20%20%20%20%20%20%20%20icon%3A%20new%20L.Icon.Default%28%29%2C%0A%20%20%20%20%20%20%20%20%20%20%20%20%20%20%20%20%7D%0A%20%20%20%20%20%20%20%20%20%20%20%20%29.addTo%28map_6c9341ff0c0447b7ae4de7498e5306b4%29%3B%0A%20%20%20%20%20%20%20%20%0A%20%20%20%20%0A%20%20%20%20%20%20%20%20var%20marker_199073e901794d6bb5a45095e4257818%20%3D%20L.marker%28%0A%20%20%20%20%20%20%20%20%20%20%20%20%5B15.191945301448968%2C%20104.03696778458662%5D%2C%0A%20%20%20%20%20%20%20%20%20%20%20%20%7B%0A%20%20%20%20%20%20%20%20%20%20%20%20%20%20%20%20icon%3A%20new%20L.Icon.Default%28%29%2C%0A%20%20%20%20%20%20%20%20%20%20%20%20%20%20%20%20%7D%0A%20%20%20%20%20%20%20%20%20%20%20%20%29.addTo%28map_6c9341ff0c0447b7ae4de7498e5306b4%29%3B%0A%20%20%20%20%20%20%20%20%0A%20%20%20%20%0A%20%20%20%20%20%20%20%20var%20marker_d8d25b7506074b15832100d6a99f6046%20%3D%20L.marker%28%0A%20%20%20%20%20%20%20%20%20%20%20%20%5B14.795500440455502%2C%20104.67155514694352%5D%2C%0A%20%20%20%20%20%20%20%20%20%20%20%20%7B%0A%20%20%20%20%20%20%20%20%20%20%20%20%20%20%20%20icon%3A%20new%20L.Icon.Default%28%29%2C%0A%20%20%20%20%20%20%20%20%20%20%20%20%20%20%20%20%7D%0A%20%20%20%20%20%20%20%20%20%20%20%20%29.addTo%28map_6c9341ff0c0447b7ae4de7498e5306b4%29%3B%0A%20%20%20%20%20%20%20%20%0A%20%20%20%20%0A%20%20%20%20%20%20%20%20var%20marker_8dba90f810d149a5ba3de68d0c54e98b%20%3D%20L.marker%28%0A%20%20%20%20%20%20%20%20%20%20%20%20%5B14.92016914128078%2C%20104.39911970432686%5D%2C%0A%20%20%20%20%20%20%20%20%20%20%20%20%7B%0A%20%20%20%20%20%20%20%20%20%20%20%20%20%20%20%20icon%3A%20new%20L.Icon.Default%28%29%2C%0A%20%20%20%20%20%20%20%20%20%20%20%20%20%20%20%20%7D%0A%20%20%20%20%20%20%20%20%20%20%20%20%29.addTo%28map_6c9341ff0c0447b7ae4de7498e5306b4%29%3B%0A%20%20%20%20%20%20%20%20%0A%20%20%20%20%0A%20%20%20%20%20%20%20%20var%20marker_91a0e0a3dc7e4664bbf75387f4b8c084%20%3D%20L.marker%28%0A%20%20%20%20%20%20%20%20%20%20%20%20%5B15.198892606750874%2C%20104.07696648928591%5D%2C%0A%20%20%20%20%20%20%20%20%20%20%20%20%7B%0A%20%20%20%20%20%20%20%20%20%20%20%20%20%20%20%20icon%3A%20new%20L.Icon.Default%28%29%2C%0A%20%20%20%20%20%20%20%20%20%20%20%20%20%20%20%20%7D%0A%20%20%20%20%20%20%20%20%20%20%20%20%29.addTo%28map_6c9341ff0c0447b7ae4de7498e5306b4%29%3B%0A%20%20%20%20%20%20%20%20%0A%20%20%20%20%0A%20%20%20%20%20%20%20%20var%20marker_448185527ba549c0b32233f993554afe%20%3D%20L.marker%28%0A%20%20%20%20%20%20%20%20%20%20%20%20%5B14.88174414336571%2C%20103.4934994586326%5D%2C%0A%20%20%20%20%20%20%20%20%20%20%20%20%7B%0A%20%20%20%20%20%20%20%20%20%20%20%20%20%20%20%20icon%3A%20new%20L.Icon.Default%28%29%2C%0A%20%20%20%20%20%20%20%20%20%20%20%20%20%20%20%20%7D%0A%20%20%20%20%20%20%20%20%20%20%20%20%29.addTo%28map_6c9341ff0c0447b7ae4de7498e5306b4%29%3B%0A%20%20%20%20%20%20%20%20%0A%20%20%20%20%0A%20%20%20%20%20%20%20%20var%20marker_d7fd5aee4b064d3095f7b7408fd713e5%20%3D%20L.marker%28%0A%20%20%20%20%20%20%20%20%20%20%20%20%5B14.47453622040397%2C%20103.594433416999%5D%2C%0A%20%20%20%20%20%20%20%20%20%20%20%20%7B%0A%20%20%20%20%20%20%20%20%20%20%20%20%20%20%20%20icon%3A%20new%20L.Icon.Default%28%29%2C%0A%20%20%20%20%20%20%20%20%20%20%20%20%20%20%20%20%7D%0A%20%20%20%20%20%20%20%20%20%20%20%20%29.addTo%28map_6c9341ff0c0447b7ae4de7498e5306b4%29%3B%0A%20%20%20%20%20%20%20%20%0A%20%20%20%20%0A%20%20%20%20%20%20%20%20var%20marker_c878cf2dde254ff3a28b7dd811817a1e%20%3D%20L.marker%28%0A%20%20%20%20%20%20%20%20%20%20%20%20%5B15.117046300802727%2C%20103.6107597707725%5D%2C%0A%20%20%20%20%20%20%20%20%20%20%20%20%7B%0A%20%20%20%20%20%20%20%20%20%20%20%20%20%20%20%20icon%3A%20new%20L.Icon.Default%28%29%2C%0A%20%20%20%20%20%20%20%20%20%20%20%20%20%20%20%20%7D%0A%20%20%20%20%20%20%20%20%20%20%20%20%29.addTo%28map_6c9341ff0c0447b7ae4de7498e5306b4%29%3B%0A%20%20%20%20%20%20%20%20%0A%20%20%20%20%0A%20%20%20%20%20%20%20%20var%20marker_918718ccb3ca42b9909928762188f791%20%3D%20L.marker%28%0A%20%20%20%20%20%20%20%20%20%20%20%20%5B15.351285048257393%2C%20103.38884362151455%5D%2C%0A%20%20%20%20%20%20%20%20%20%20%20%20%7B%0A%20%20%20%20%20%20%20%20%20%20%20%20%20%20%20%20icon%3A%20new%20L.Icon.Default%28%29%2C%0A%20%20%20%20%20%20%20%20%20%20%20%20%20%20%20%20%7D%0A%20%20%20%20%20%20%20%20%20%20%20%20%29.addTo%28map_6c9341ff0c0447b7ae4de7498e5306b4%29%3B%0A%20%20%20%20%20%20%20%20%0A%20%20%20%20%0A%20%20%20%20%20%20%20%20var%20marker_a02adccd000242be8b681fcec96a09aa%20%3D%20L.marker%28%0A%20%20%20%20%20%20%20%20%20%20%20%20%5B15.318915016554953%2C%20103.67565407998619%5D%2C%0A%20%20%20%20%20%20%20%20%20%20%20%20%7B%0A%20%20%20%20%20%20%20%20%20%20%20%20%20%20%20%20icon%3A%20new%20L.Icon.Default%28%29%2C%0A%20%20%20%20%20%20%20%20%20%20%20%20%20%20%20%20%7D%0A%20%20%20%20%20%20%20%20%20%20%20%20%29.addTo%28map_6c9341ff0c0447b7ae4de7498e5306b4%29%3B%0A%20%20%20%20%20%20%20%20%0A%20%20%20%20%0A%20%20%20%20%20%20%20%20var%20marker_3901f09604474d49a661a8b9679161b0%20%3D%20L.marker%28%0A%20%20%20%20%20%20%20%20%20%20%20%20%5B14.528628361050664%2C%20103.94598438922421%5D%2C%0A%20%20%20%20%20%20%20%20%20%20%20%20%7B%0A%20%20%20%20%20%20%20%20%20%20%20%20%20%20%20%20icon%3A%20new%20L.Icon.Default%28%29%2C%0A%20%20%20%20%20%20%20%20%20%20%20%20%20%20%20%20%7D%0A%20%20%20%20%20%20%20%20%20%20%20%20%29.addTo%28map_6c9341ff0c0447b7ae4de7498e5306b4%29%3B%0A%20%20%20%20%20%20%20%20%0A%20%20%20%20%0A%20%20%20%20%20%20%20%20var%20marker_3d72cdd816be42f48b79845f2516ade1%20%3D%20L.marker%28%0A%20%20%20%20%20%20%20%20%20%20%20%20%5B14.640629884936994%2C%20103.40464498739182%5D%2C%0A%20%20%20%20%20%20%20%20%20%20%20%20%7B%0A%20%20%20%20%20%20%20%20%20%20%20%20%20%20%20%20icon%3A%20new%20L.Icon.Default%28%29%2C%0A%20%20%20%20%20%20%20%20%20%20%20%20%20%20%20%20%7D%0A%20%20%20%20%20%20%20%20%20%20%20%20%29.addTo%28map_6c9341ff0c0447b7ae4de7498e5306b4%29%3B%0A%20%20%20%20%20%20%20%20%0A%20%20%20%20%0A%20%20%20%20%20%20%20%20var%20marker_f866ed41acb8494c9ba243716baba5d0%20%3D%20L.marker%28%0A%20%20%20%20%20%20%20%20%20%20%20%20%5B15.321266984775303%2C%20103.8558651379091%5D%2C%0A%20%20%20%20%20%20%20%20%20%20%20%20%7B%0A%20%20%20%20%20%20%20%20%20%20%20%20%20%20%20%20icon%3A%20new%20L.Icon.Default%28%29%2C%0A%20%20%20%20%20%20%20%20%20%20%20%20%20%20%20%20%7D%0A%20%20%20%20%20%20%20%20%20%20%20%20%29.addTo%28map_6c9341ff0c0447b7ae4de7498e5306b4%29%3B%0A%20%20%20%20%20%20%20%20%0A%20%20%20%20%0A%20%20%20%20%20%20%20%20var%20marker_29f9da9ac43c4e41b2f2b0fff0972012%20%3D%20L.marker%28%0A%20%20%20%20%20%20%20%20%20%20%20%20%5B14.72801204176708%2C%20103.67353450177235%5D%2C%0A%20%20%20%20%20%20%20%20%20%20%20%20%7B%0A%20%20%20%20%20%20%20%20%20%20%20%20%20%20%20%20icon%3A%20new%20L.Icon.Default%28%29%2C%0A%20%20%20%20%20%20%20%20%20%20%20%20%20%20%20%20%7D%0A%20%20%20%20%20%20%20%20%20%20%20%20%29.addTo%28map_6c9341ff0c0447b7ae4de7498e5306b4%29%3B%0A%20%20%20%20%20%20%20%20%0A%20%20%20%20%0A%20%20%20%20%20%20%20%20var%20marker_a14eda8ec5d94d99a0f886f0ff0e1e80%20%3D%20L.marker%28%0A%20%20%20%20%20%20%20%20%20%20%20%20%5B14.946061019003695%2C%20103.79149017629045%5D%2C%0A%20%20%20%20%20%20%20%20%20%20%20%20%7B%0A%20%20%20%20%20%20%20%20%20%20%20%20%20%20%20%20icon%3A%20new%20L.Icon.Default%28%29%2C%0A%20%20%20%20%20%20%20%20%20%20%20%20%20%20%20%20%7D%0A%20%20%20%20%20%20%20%20%20%20%20%20%29.addTo%28map_6c9341ff0c0447b7ae4de7498e5306b4%29%3B%0A%20%20%20%20%20%20%20%20%0A%20%20%20%20%0A%20%20%20%20%20%20%20%20var%20marker_257fbfb85ad64bef90a5145421e5ff6b%20%3D%20L.marker%28%0A%20%20%20%20%20%20%20%20%20%20%20%20%5B15.197920165248421%2C%20103.7613980347418%5D%2C%0A%20%20%20%20%20%20%20%20%20%20%20%20%7B%0A%20%20%20%20%20%20%20%20%20%20%20%20%20%20%20%20icon%3A%20new%20L.Icon.Default%28%29%2C%0A%20%20%20%20%20%20%20%20%20%20%20%20%20%20%20%20%7D%0A%20%20%20%20%20%20%20%20%20%20%20%20%29.addTo%28map_6c9341ff0c0447b7ae4de7498e5306b4%29%3B%0A%20%20%20%20%20%20%20%20%0A%20%20%20%20%0A%20%20%20%20%20%20%20%20var%20marker_7ecc3e36876847b4b69301782e65f5b5%20%3D%20L.marker%28%0A%20%20%20%20%20%20%20%20%20%20%20%20%5B14.63621847529887%2C%20103.85262517631803%5D%2C%0A%20%20%20%20%20%20%20%20%20%20%20%20%7B%0A%20%20%20%20%20%20%20%20%20%20%20%20%20%20%20%20icon%3A%20new%20L.Icon.Default%28%29%2C%0A%20%20%20%20%20%20%20%20%20%20%20%20%20%20%20%20%7D%0A%20%20%20%20%20%20%20%20%20%20%20%20%29.addTo%28map_6c9341ff0c0447b7ae4de7498e5306b4%29%3B%0A%20%20%20%20%20%20%20%20%0A%20%20%20%20%0A%20%20%20%20%20%20%20%20var%20marker_ef3d78e370af40b08e727b9b0b98ac96%20%3D%20L.marker%28%0A%20%20%20%20%20%20%20%20%20%20%20%20%5B15.024074755113348%2C%20103.93661750379049%5D%2C%0A%20%20%20%20%20%20%20%20%20%20%20%20%7B%0A%20%20%20%20%20%20%20%20%20%20%20%20%20%20%20%20icon%3A%20new%20L.Icon.Default%28%29%2C%0A%20%20%20%20%20%20%20%20%20%20%20%20%20%20%20%20%7D%0A%20%20%20%20%20%20%20%20%20%20%20%20%29.addTo%28map_6c9341ff0c0447b7ae4de7498e5306b4%29%3B%0A%20%20%20%20%20%20%20%20%0A%3C/script%3E onload=\"this.contentDocument.open();this.contentDocument.write(    decodeURIComponent(this.getAttribute('data-html')));this.contentDocument.close();\" allowfullscreen webkitallowfullscreen mozallowfullscreen></iframe></div></div>"
            ],
            "text/plain": [
              "<folium.folium.Map at 0x7ff0fa206050>"
            ]
          },
          "metadata": {}
        }
      ]
    },
    {
      "cell_type": "code",
      "metadata": {
        "id": "eZNay8shX1EM"
      },
      "source": [
        ""
      ],
      "execution_count": null,
      "outputs": []
    }
  ]
}