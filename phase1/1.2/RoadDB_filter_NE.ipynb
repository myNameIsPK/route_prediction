{
  "nbformat": 4,
  "nbformat_minor": 0,
  "metadata": {
    "colab": {
      "name": "RoadDB_filter_NE.ipynb",
      "provenance": [],
      "toc_visible": true
    },
    "kernelspec": {
      "name": "python3",
      "display_name": "Python 3"
    },
    "language_info": {
      "name": "python"
    }
  },
  "cells": [
    {
      "cell_type": "markdown",
      "metadata": {
        "id": "H9u4dUIcfN9h"
      },
      "source": [
        "#Install"
      ]
    },
    {
      "cell_type": "code",
      "metadata": {
        "colab": {
          "base_uri": "https://localhost:8080/"
        },
        "id": "M4gc1C4Qex0j",
        "outputId": "d0e8102b-e9c5-4859-911e-676776ff12b6"
      },
      "source": [
        "%%time \n",
        "\n",
        "# Important library for many geopython libraries\n",
        "!apt install gdal-bin python-gdal python3-gdal \n",
        "# Install rtree - Geopandas requirment\n",
        "!apt install python3-rtree \n",
        "# Install Geopandas\n",
        "!pip install git+git://github.com/geopandas/geopandas.git\n",
        "# Install descartes - Geopandas requirment\n",
        "!pip install descartes \n",
        "# Install Folium for Geographic data visualization\n",
        "!pip install folium\n",
        "# Install plotlyExpress\n",
        "!pip install plotly_express\n",
        "!pip install Shapely"
      ],
      "execution_count": 1,
      "outputs": [
        {
          "output_type": "stream",
          "name": "stdout",
          "text": [
            "Reading package lists... Done\n",
            "Building dependency tree       \n",
            "Reading state information... Done\n",
            "gdal-bin is already the newest version (2.2.3+dfsg-2).\n",
            "python-gdal is already the newest version (2.2.3+dfsg-2).\n",
            "The following additional packages will be installed:\n",
            "  python3-numpy\n",
            "Suggested packages:\n",
            "  python-numpy-doc python3-nose python3-numpy-dbg\n",
            "The following NEW packages will be installed:\n",
            "  python3-gdal python3-numpy\n",
            "0 upgraded, 2 newly installed, 0 to remove and 40 not upgraded.\n",
            "Need to get 2,288 kB of archives.\n",
            "After this operation, 13.2 MB of additional disk space will be used.\n",
            "Get:1 http://archive.ubuntu.com/ubuntu bionic/main amd64 python3-numpy amd64 1:1.13.3-2ubuntu1 [1,943 kB]\n",
            "Get:2 http://archive.ubuntu.com/ubuntu bionic/universe amd64 python3-gdal amd64 2.2.3+dfsg-2 [346 kB]\n",
            "Fetched 2,288 kB in 1s (2,857 kB/s)\n",
            "Selecting previously unselected package python3-numpy.\n",
            "(Reading database ... 148492 files and directories currently installed.)\n",
            "Preparing to unpack .../python3-numpy_1%3a1.13.3-2ubuntu1_amd64.deb ...\n",
            "Unpacking python3-numpy (1:1.13.3-2ubuntu1) ...\n",
            "Selecting previously unselected package python3-gdal.\n",
            "Preparing to unpack .../python3-gdal_2.2.3+dfsg-2_amd64.deb ...\n",
            "Unpacking python3-gdal (2.2.3+dfsg-2) ...\n",
            "Setting up python3-numpy (1:1.13.3-2ubuntu1) ...\n",
            "Setting up python3-gdal (2.2.3+dfsg-2) ...\n",
            "Processing triggers for man-db (2.8.3-2ubuntu0.1) ...\n",
            "Reading package lists... Done\n",
            "Building dependency tree       \n",
            "Reading state information... Done\n",
            "The following additional packages will be installed:\n",
            "  libspatialindex-c4v5 libspatialindex-dev libspatialindex4v5\n",
            "  python3-pkg-resources\n",
            "Suggested packages:\n",
            "  python3-setuptools\n",
            "The following NEW packages will be installed:\n",
            "  libspatialindex-c4v5 libspatialindex-dev libspatialindex4v5\n",
            "  python3-pkg-resources python3-rtree\n",
            "0 upgraded, 5 newly installed, 0 to remove and 40 not upgraded.\n",
            "Need to get 671 kB of archives.\n",
            "After this operation, 3,948 kB of additional disk space will be used.\n",
            "Get:1 http://archive.ubuntu.com/ubuntu bionic/universe amd64 libspatialindex4v5 amd64 1.8.5-5 [219 kB]\n",
            "Get:2 http://archive.ubuntu.com/ubuntu bionic/universe amd64 libspatialindex-c4v5 amd64 1.8.5-5 [51.7 kB]\n",
            "Get:3 http://archive.ubuntu.com/ubuntu bionic/main amd64 python3-pkg-resources all 39.0.1-2 [98.8 kB]\n",
            "Get:4 http://archive.ubuntu.com/ubuntu bionic/universe amd64 libspatialindex-dev amd64 1.8.5-5 [285 kB]\n",
            "Get:5 http://archive.ubuntu.com/ubuntu bionic/universe amd64 python3-rtree all 0.8.3+ds-1 [16.9 kB]\n",
            "Fetched 671 kB in 1s (961 kB/s)\n",
            "Selecting previously unselected package libspatialindex4v5:amd64.\n",
            "(Reading database ... 148902 files and directories currently installed.)\n",
            "Preparing to unpack .../libspatialindex4v5_1.8.5-5_amd64.deb ...\n",
            "Unpacking libspatialindex4v5:amd64 (1.8.5-5) ...\n",
            "Selecting previously unselected package libspatialindex-c4v5:amd64.\n",
            "Preparing to unpack .../libspatialindex-c4v5_1.8.5-5_amd64.deb ...\n",
            "Unpacking libspatialindex-c4v5:amd64 (1.8.5-5) ...\n",
            "Selecting previously unselected package python3-pkg-resources.\n",
            "Preparing to unpack .../python3-pkg-resources_39.0.1-2_all.deb ...\n",
            "Unpacking python3-pkg-resources (39.0.1-2) ...\n",
            "Selecting previously unselected package libspatialindex-dev:amd64.\n",
            "Preparing to unpack .../libspatialindex-dev_1.8.5-5_amd64.deb ...\n",
            "Unpacking libspatialindex-dev:amd64 (1.8.5-5) ...\n",
            "Selecting previously unselected package python3-rtree.\n",
            "Preparing to unpack .../python3-rtree_0.8.3+ds-1_all.deb ...\n",
            "Unpacking python3-rtree (0.8.3+ds-1) ...\n",
            "Setting up libspatialindex4v5:amd64 (1.8.5-5) ...\n",
            "Setting up python3-pkg-resources (39.0.1-2) ...\n",
            "Setting up libspatialindex-c4v5:amd64 (1.8.5-5) ...\n",
            "Setting up libspatialindex-dev:amd64 (1.8.5-5) ...\n",
            "Setting up python3-rtree (0.8.3+ds-1) ...\n",
            "Processing triggers for libc-bin (2.27-3ubuntu1.2) ...\n",
            "/sbin/ldconfig.real: /usr/local/lib/python3.7/dist-packages/ideep4py/lib/libmkldnn.so.0 is not a symbolic link\n",
            "\n",
            "Collecting git+git://github.com/geopandas/geopandas.git\n",
            "  Cloning git://github.com/geopandas/geopandas.git to /tmp/pip-req-build-576_lpe3\n",
            "  Running command git clone -q git://github.com/geopandas/geopandas.git /tmp/pip-req-build-576_lpe3\n",
            "Requirement already satisfied: pandas>=0.25.0 in /usr/local/lib/python3.7/dist-packages (from geopandas==0.9.0+75.g187287b) (1.1.5)\n",
            "Requirement already satisfied: shapely>=1.6 in /usr/local/lib/python3.7/dist-packages (from geopandas==0.9.0+75.g187287b) (1.7.1)\n",
            "Collecting fiona>=1.8\n",
            "  Downloading Fiona-1.8.20-cp37-cp37m-manylinux1_x86_64.whl (15.4 MB)\n",
            "\u001b[K     |████████████████████████████████| 15.4 MB 34 kB/s \n",
            "\u001b[?25hCollecting pyproj>=2.2.0\n",
            "  Downloading pyproj-3.2.0-cp37-cp37m-manylinux2010_x86_64.whl (6.3 MB)\n",
            "\u001b[K     |████████████████████████████████| 6.3 MB 55.2 MB/s \n",
            "\u001b[?25hCollecting munch\n",
            "  Downloading munch-2.5.0-py2.py3-none-any.whl (10 kB)\n",
            "Collecting click-plugins>=1.0\n",
            "  Downloading click_plugins-1.1.1-py2.py3-none-any.whl (7.5 kB)\n",
            "Requirement already satisfied: six>=1.7 in /usr/local/lib/python3.7/dist-packages (from fiona>=1.8->geopandas==0.9.0+75.g187287b) (1.15.0)\n",
            "Requirement already satisfied: attrs>=17 in /usr/local/lib/python3.7/dist-packages (from fiona>=1.8->geopandas==0.9.0+75.g187287b) (21.2.0)\n",
            "Collecting cligj>=0.5\n",
            "  Downloading cligj-0.7.2-py3-none-any.whl (7.1 kB)\n",
            "Requirement already satisfied: certifi in /usr/local/lib/python3.7/dist-packages (from fiona>=1.8->geopandas==0.9.0+75.g187287b) (2021.5.30)\n",
            "Requirement already satisfied: click>=4.0 in /usr/local/lib/python3.7/dist-packages (from fiona>=1.8->geopandas==0.9.0+75.g187287b) (7.1.2)\n",
            "Requirement already satisfied: setuptools in /usr/local/lib/python3.7/dist-packages (from fiona>=1.8->geopandas==0.9.0+75.g187287b) (57.4.0)\n",
            "Requirement already satisfied: pytz>=2017.2 in /usr/local/lib/python3.7/dist-packages (from pandas>=0.25.0->geopandas==0.9.0+75.g187287b) (2018.9)\n",
            "Requirement already satisfied: python-dateutil>=2.7.3 in /usr/local/lib/python3.7/dist-packages (from pandas>=0.25.0->geopandas==0.9.0+75.g187287b) (2.8.2)\n",
            "Requirement already satisfied: numpy>=1.15.4 in /usr/local/lib/python3.7/dist-packages (from pandas>=0.25.0->geopandas==0.9.0+75.g187287b) (1.19.5)\n",
            "Building wheels for collected packages: geopandas\n",
            "  Building wheel for geopandas (setup.py) ... \u001b[?25l\u001b[?25hdone\n",
            "  Created wheel for geopandas: filename=geopandas-0.9.0+75.g187287b-py2.py3-none-any.whl size=1000250 sha256=253f5d170f078df62d41eb3967c3595a83015f05fad096d8aedbd4483eb35d3c\n",
            "  Stored in directory: /tmp/pip-ephem-wheel-cache-yo4n9cbx/wheels/cf/3e/0b/6475054094c2b1ea054158ac1fdcf749fb92f5b512377e4cf8\n",
            "Successfully built geopandas\n",
            "Installing collected packages: munch, cligj, click-plugins, pyproj, fiona, geopandas\n",
            "Successfully installed click-plugins-1.1.1 cligj-0.7.2 fiona-1.8.20 geopandas-0.9.0+75.g187287b munch-2.5.0 pyproj-3.2.0\n",
            "Requirement already satisfied: descartes in /usr/local/lib/python3.7/dist-packages (1.1.0)\n",
            "Requirement already satisfied: matplotlib in /usr/local/lib/python3.7/dist-packages (from descartes) (3.2.2)\n",
            "Requirement already satisfied: python-dateutil>=2.1 in /usr/local/lib/python3.7/dist-packages (from matplotlib->descartes) (2.8.2)\n",
            "Requirement already satisfied: pyparsing!=2.0.4,!=2.1.2,!=2.1.6,>=2.0.1 in /usr/local/lib/python3.7/dist-packages (from matplotlib->descartes) (2.4.7)\n",
            "Requirement already satisfied: kiwisolver>=1.0.1 in /usr/local/lib/python3.7/dist-packages (from matplotlib->descartes) (1.3.1)\n",
            "Requirement already satisfied: numpy>=1.11 in /usr/local/lib/python3.7/dist-packages (from matplotlib->descartes) (1.19.5)\n",
            "Requirement already satisfied: cycler>=0.10 in /usr/local/lib/python3.7/dist-packages (from matplotlib->descartes) (0.10.0)\n",
            "Requirement already satisfied: six in /usr/local/lib/python3.7/dist-packages (from cycler>=0.10->matplotlib->descartes) (1.15.0)\n",
            "Requirement already satisfied: folium in /usr/local/lib/python3.7/dist-packages (0.8.3)\n",
            "Requirement already satisfied: six in /usr/local/lib/python3.7/dist-packages (from folium) (1.15.0)\n",
            "Requirement already satisfied: jinja2 in /usr/local/lib/python3.7/dist-packages (from folium) (2.11.3)\n",
            "Requirement already satisfied: branca>=0.3.0 in /usr/local/lib/python3.7/dist-packages (from folium) (0.4.2)\n",
            "Requirement already satisfied: requests in /usr/local/lib/python3.7/dist-packages (from folium) (2.23.0)\n",
            "Requirement already satisfied: numpy in /usr/local/lib/python3.7/dist-packages (from folium) (1.19.5)\n",
            "Requirement already satisfied: MarkupSafe>=0.23 in /usr/local/lib/python3.7/dist-packages (from jinja2->folium) (2.0.1)\n",
            "Requirement already satisfied: urllib3!=1.25.0,!=1.25.1,<1.26,>=1.21.1 in /usr/local/lib/python3.7/dist-packages (from requests->folium) (1.24.3)\n",
            "Requirement already satisfied: idna<3,>=2.5 in /usr/local/lib/python3.7/dist-packages (from requests->folium) (2.10)\n",
            "Requirement already satisfied: chardet<4,>=3.0.2 in /usr/local/lib/python3.7/dist-packages (from requests->folium) (3.0.4)\n",
            "Requirement already satisfied: certifi>=2017.4.17 in /usr/local/lib/python3.7/dist-packages (from requests->folium) (2021.5.30)\n",
            "Collecting plotly_express\n",
            "  Downloading plotly_express-0.4.1-py2.py3-none-any.whl (2.9 kB)\n",
            "Requirement already satisfied: numpy>=1.11 in /usr/local/lib/python3.7/dist-packages (from plotly_express) (1.19.5)\n",
            "Requirement already satisfied: patsy>=0.5 in /usr/local/lib/python3.7/dist-packages (from plotly_express) (0.5.1)\n",
            "Requirement already satisfied: pandas>=0.20.0 in /usr/local/lib/python3.7/dist-packages (from plotly_express) (1.1.5)\n",
            "Requirement already satisfied: scipy>=0.18 in /usr/local/lib/python3.7/dist-packages (from plotly_express) (1.4.1)\n",
            "Requirement already satisfied: plotly>=4.1.0 in /usr/local/lib/python3.7/dist-packages (from plotly_express) (4.4.1)\n",
            "Requirement already satisfied: statsmodels>=0.9.0 in /usr/local/lib/python3.7/dist-packages (from plotly_express) (0.10.2)\n",
            "Requirement already satisfied: python-dateutil>=2.7.3 in /usr/local/lib/python3.7/dist-packages (from pandas>=0.20.0->plotly_express) (2.8.2)\n",
            "Requirement already satisfied: pytz>=2017.2 in /usr/local/lib/python3.7/dist-packages (from pandas>=0.20.0->plotly_express) (2018.9)\n",
            "Requirement already satisfied: six in /usr/local/lib/python3.7/dist-packages (from patsy>=0.5->plotly_express) (1.15.0)\n",
            "Requirement already satisfied: retrying>=1.3.3 in /usr/local/lib/python3.7/dist-packages (from plotly>=4.1.0->plotly_express) (1.3.3)\n",
            "Installing collected packages: plotly-express\n",
            "Successfully installed plotly-express-0.4.1\n",
            "Requirement already satisfied: Shapely in /usr/local/lib/python3.7/dist-packages (1.7.1)\n",
            "CPU times: user 535 ms, sys: 116 ms, total: 650 ms\n",
            "Wall time: 48.6 s\n"
          ]
        }
      ]
    },
    {
      "cell_type": "code",
      "metadata": {
        "colab": {
          "base_uri": "https://localhost:8080/"
        },
        "id": "qZc51-SEfPtr",
        "outputId": "330e6904-a86a-4245-a5ac-bb2249ba78ed"
      },
      "source": [
        "from shapely.geometry import Point,Polygon\n",
        "import pandas as pd\n",
        "import numpy as np\n",
        "import geopandas as gpd\n",
        "import matplotlib\n",
        "import matplotlib.pyplot as plt \n",
        "import folium\n",
        "import plotly_express as px\n",
        "from google.colab import drive\n",
        "from IPython.display import display\n",
        "drive.mount('/content/drive')"
      ],
      "execution_count": 2,
      "outputs": [
        {
          "output_type": "stream",
          "name": "stdout",
          "text": [
            "Mounted at /content/drive\n"
          ]
        }
      ]
    },
    {
      "cell_type": "markdown",
      "metadata": {
        "id": "W-uSR3uYf1X-"
      },
      "source": [
        "#Read"
      ]
    },
    {
      "cell_type": "code",
      "metadata": {
        "id": "OZslHEXLf2p0"
      },
      "source": [
        "district_path =  \"/content/drive/My Drive/2 Boundary/District_NE_new.geojson\"\n",
        "roadDB_path = \"/content/drive/My Drive/2021 Route Prediction/Project-0/Road Data/roaddb.csv\""
      ],
      "execution_count": 17,
      "outputs": []
    },
    {
      "cell_type": "code",
      "metadata": {
        "id": "gq2piiD9g7ie"
      },
      "source": [
        "district_NE = gpd.read_file(district_path)\n",
        "roadDB = pd.read_csv(roadDB_path)"
      ],
      "execution_count": 22,
      "outputs": []
    },
    {
      "cell_type": "markdown",
      "metadata": {
        "id": "-JX2BUlEi2Uw"
      },
      "source": [
        "#Simple data"
      ]
    },
    {
      "cell_type": "code",
      "metadata": {
        "colab": {
          "base_uri": "https://localhost:8080/",
          "height": 289
        },
        "id": "WCJBfLShi55w",
        "outputId": "ae68def2-a0cd-41c7-a992-badd62e74edb"
      },
      "source": [
        "district_NE.head()"
      ],
      "execution_count": 34,
      "outputs": [
        {
          "output_type": "execute_result",
          "data": {
            "text/html": [
              "<div>\n",
              "<style scoped>\n",
              "    .dataframe tbody tr th:only-of-type {\n",
              "        vertical-align: middle;\n",
              "    }\n",
              "\n",
              "    .dataframe tbody tr th {\n",
              "        vertical-align: top;\n",
              "    }\n",
              "\n",
              "    .dataframe thead th {\n",
              "        text-align: right;\n",
              "    }\n",
              "</style>\n",
              "<table border=\"1\" class=\"dataframe\">\n",
              "  <thead>\n",
              "    <tr style=\"text-align: right;\">\n",
              "      <th></th>\n",
              "      <th>AMP_CODE</th>\n",
              "      <th>PRV_CODE</th>\n",
              "      <th>AMP_NAME_T</th>\n",
              "      <th>AMP_NAME_E</th>\n",
              "      <th>Shape_Leng</th>\n",
              "      <th>Shape_Area</th>\n",
              "      <th>geometry</th>\n",
              "    </tr>\n",
              "  </thead>\n",
              "  <tbody>\n",
              "    <tr>\n",
              "      <th>0</th>\n",
              "      <td>3001</td>\n",
              "      <td>30</td>\n",
              "      <td>เมืองนครราชสีมา</td>\n",
              "      <td>Mueang Nakhon Ratchasima</td>\n",
              "      <td>160600.306403</td>\n",
              "      <td>8.856562e+08</td>\n",
              "      <td>POLYGON ((102.18341 15.13798, 102.18298 15.137...</td>\n",
              "    </tr>\n",
              "    <tr>\n",
              "      <th>1</th>\n",
              "      <td>3002</td>\n",
              "      <td>30</td>\n",
              "      <td>ครบุรี</td>\n",
              "      <td>Khon Buri</td>\n",
              "      <td>261136.836300</td>\n",
              "      <td>2.168627e+09</td>\n",
              "      <td>POLYGON ((102.15081 14.61461, 102.15115 14.614...</td>\n",
              "    </tr>\n",
              "    <tr>\n",
              "      <th>2</th>\n",
              "      <td>3003</td>\n",
              "      <td>30</td>\n",
              "      <td>เสิงสาง</td>\n",
              "      <td>Soeng Sang</td>\n",
              "      <td>181829.710406</td>\n",
              "      <td>1.097496e+09</td>\n",
              "      <td>POLYGON ((102.49675 14.50541, 102.49686 14.505...</td>\n",
              "    </tr>\n",
              "    <tr>\n",
              "      <th>3</th>\n",
              "      <td>3004</td>\n",
              "      <td>30</td>\n",
              "      <td>คง</td>\n",
              "      <td>Khong</td>\n",
              "      <td>208115.123225</td>\n",
              "      <td>7.534105e+08</td>\n",
              "      <td>POLYGON ((102.27233 15.53663, 102.27538 15.536...</td>\n",
              "    </tr>\n",
              "    <tr>\n",
              "      <th>4</th>\n",
              "      <td>3005</td>\n",
              "      <td>30</td>\n",
              "      <td>บ้านเหลื่อม</td>\n",
              "      <td>Ban Lueam</td>\n",
              "      <td>88918.433064</td>\n",
              "      <td>2.569881e+08</td>\n",
              "      <td>POLYGON ((102.12032 15.64497, 102.12072 15.644...</td>\n",
              "    </tr>\n",
              "  </tbody>\n",
              "</table>\n",
              "</div>"
            ],
            "text/plain": [
              "  AMP_CODE  ...                                           geometry\n",
              "0     3001  ...  POLYGON ((102.18341 15.13798, 102.18298 15.137...\n",
              "1     3002  ...  POLYGON ((102.15081 14.61461, 102.15115 14.614...\n",
              "2     3003  ...  POLYGON ((102.49675 14.50541, 102.49686 14.505...\n",
              "3     3004  ...  POLYGON ((102.27233 15.53663, 102.27538 15.536...\n",
              "4     3005  ...  POLYGON ((102.12032 15.64497, 102.12072 15.644...\n",
              "\n",
              "[5 rows x 7 columns]"
            ]
          },
          "metadata": {},
          "execution_count": 34
        }
      ]
    },
    {
      "cell_type": "code",
      "metadata": {
        "colab": {
          "base_uri": "https://localhost:8080/"
        },
        "id": "s1wFvxwhlCTN",
        "outputId": "a7a96a30-edb0-4120-a838-b03cdf0cdf28"
      },
      "source": [
        "district_NE.info()"
      ],
      "execution_count": 35,
      "outputs": [
        {
          "output_type": "stream",
          "name": "stdout",
          "text": [
            "<class 'geopandas.geodataframe.GeoDataFrame'>\n",
            "RangeIndex: 321 entries, 0 to 320\n",
            "Data columns (total 7 columns):\n",
            " #   Column      Non-Null Count  Dtype   \n",
            "---  ------      --------------  -----   \n",
            " 0   AMP_CODE    321 non-null    object  \n",
            " 1   PRV_CODE    321 non-null    object  \n",
            " 2   AMP_NAME_T  321 non-null    object  \n",
            " 3   AMP_NAME_E  321 non-null    object  \n",
            " 4   Shape_Leng  321 non-null    float64 \n",
            " 5   Shape_Area  321 non-null    float64 \n",
            " 6   geometry    321 non-null    geometry\n",
            "dtypes: float64(2), geometry(1), object(4)\n",
            "memory usage: 17.7+ KB\n"
          ]
        }
      ]
    },
    {
      "cell_type": "code",
      "metadata": {
        "colab": {
          "base_uri": "https://localhost:8080/",
          "height": 204
        },
        "id": "YMQ5mNGgjImB",
        "outputId": "bb585d66-efd2-4d18-a8e4-af589751ef68"
      },
      "source": [
        "roadDB.head()"
      ],
      "execution_count": 36,
      "outputs": [
        {
          "output_type": "execute_result",
          "data": {
            "text/html": [
              "<div>\n",
              "<style scoped>\n",
              "    .dataframe tbody tr th:only-of-type {\n",
              "        vertical-align: middle;\n",
              "    }\n",
              "\n",
              "    .dataframe tbody tr th {\n",
              "        vertical-align: top;\n",
              "    }\n",
              "\n",
              "    .dataframe thead th {\n",
              "        text-align: right;\n",
              "    }\n",
              "</style>\n",
              "<table border=\"1\" class=\"dataframe\">\n",
              "  <thead>\n",
              "    <tr style=\"text-align: right;\">\n",
              "      <th></th>\n",
              "      <th>rid</th>\n",
              "      <th>rd</th>\n",
              "      <th>km</th>\n",
              "      <th>ptype</th>\n",
              "      <th>lat</th>\n",
              "      <th>lon</th>\n",
              "      <th>latx</th>\n",
              "      <th>lonx</th>\n",
              "      <th>angle</th>\n",
              "    </tr>\n",
              "  </thead>\n",
              "  <tbody>\n",
              "    <tr>\n",
              "      <th>0</th>\n",
              "      <td>1</td>\n",
              "      <td>3003</td>\n",
              "      <td>0.0</td>\n",
              "      <td>100m</td>\n",
              "      <td>14.492856</td>\n",
              "      <td>100.066108</td>\n",
              "      <td>14.493</td>\n",
              "      <td>100.066</td>\n",
              "      <td>180</td>\n",
              "    </tr>\n",
              "    <tr>\n",
              "      <th>1</th>\n",
              "      <td>1</td>\n",
              "      <td>3003</td>\n",
              "      <td>0.1</td>\n",
              "      <td>100m</td>\n",
              "      <td>14.493738</td>\n",
              "      <td>100.066290</td>\n",
              "      <td>14.494</td>\n",
              "      <td>100.066</td>\n",
              "      <td>180</td>\n",
              "    </tr>\n",
              "    <tr>\n",
              "      <th>2</th>\n",
              "      <td>1</td>\n",
              "      <td>3003</td>\n",
              "      <td>0.2</td>\n",
              "      <td>100m</td>\n",
              "      <td>14.494619</td>\n",
              "      <td>100.066476</td>\n",
              "      <td>14.495</td>\n",
              "      <td>100.066</td>\n",
              "      <td>179</td>\n",
              "    </tr>\n",
              "    <tr>\n",
              "      <th>3</th>\n",
              "      <td>1</td>\n",
              "      <td>3003</td>\n",
              "      <td>0.3</td>\n",
              "      <td>100m</td>\n",
              "      <td>14.495501</td>\n",
              "      <td>100.066658</td>\n",
              "      <td>14.496</td>\n",
              "      <td>100.067</td>\n",
              "      <td>179</td>\n",
              "    </tr>\n",
              "    <tr>\n",
              "      <th>4</th>\n",
              "      <td>1</td>\n",
              "      <td>3003</td>\n",
              "      <td>0.4</td>\n",
              "      <td>100m</td>\n",
              "      <td>14.496383</td>\n",
              "      <td>100.066839</td>\n",
              "      <td>14.496</td>\n",
              "      <td>100.067</td>\n",
              "      <td>179</td>\n",
              "    </tr>\n",
              "  </tbody>\n",
              "</table>\n",
              "</div>"
            ],
            "text/plain": [
              "   rid    rd   km ptype        lat         lon    latx     lonx  angle\n",
              "0    1  3003  0.0  100m  14.492856  100.066108  14.493  100.066    180\n",
              "1    1  3003  0.1  100m  14.493738  100.066290  14.494  100.066    180\n",
              "2    1  3003  0.2  100m  14.494619  100.066476  14.495  100.066    179\n",
              "3    1  3003  0.3  100m  14.495501  100.066658  14.496  100.067    179\n",
              "4    1  3003  0.4  100m  14.496383  100.066839  14.496  100.067    179"
            ]
          },
          "metadata": {},
          "execution_count": 36
        }
      ]
    },
    {
      "cell_type": "code",
      "metadata": {
        "colab": {
          "base_uri": "https://localhost:8080/"
        },
        "id": "PfmoGw-jlKcR",
        "outputId": "2903e171-1fb8-40ef-d818-236edf72cb42"
      },
      "source": [
        "roadDB.info()"
      ],
      "execution_count": 37,
      "outputs": [
        {
          "output_type": "stream",
          "name": "stdout",
          "text": [
            "<class 'pandas.core.frame.DataFrame'>\n",
            "RangeIndex: 1093655 entries, 0 to 1093654\n",
            "Data columns (total 9 columns):\n",
            " #   Column  Non-Null Count    Dtype  \n",
            "---  ------  --------------    -----  \n",
            " 0   rid     1093655 non-null  int64  \n",
            " 1   rd      1093655 non-null  int64  \n",
            " 2   km      1093655 non-null  float64\n",
            " 3   ptype   1093655 non-null  object \n",
            " 4   lat     1093655 non-null  float64\n",
            " 5   lon     1093655 non-null  float64\n",
            " 6   latx    1093655 non-null  float64\n",
            " 7   lonx    1093655 non-null  float64\n",
            " 8   angle   1093655 non-null  int64  \n",
            "dtypes: float64(5), int64(3), object(1)\n",
            "memory usage: 75.1+ MB\n"
          ]
        }
      ]
    },
    {
      "cell_type": "markdown",
      "metadata": {
        "id": "DbiayKoejtWB"
      },
      "source": [
        "#Algorithm"
      ]
    },
    {
      "cell_type": "code",
      "metadata": {
        "id": "nrk0-ErkjvWl"
      },
      "source": [
        "def chack_district(lon,lat):\n",
        "  point = Point(lon,lat)\n",
        "  for index in district_NE.index:\n",
        "    if point.within(district_NE.loc[index,'geometry']):\n",
        "      return district_NE.loc[index,'AMP_NAME_T']\n",
        "  return 'false'"
      ],
      "execution_count": 121,
      "outputs": []
    },
    {
      "cell_type": "code",
      "metadata": {
        "colab": {
          "base_uri": "https://localhost:8080/",
          "height": 34
        },
        "id": "Dlhoww-Fj4kj",
        "outputId": "2d92173d-1fb0-47e5-8f02-b747fc7c63ea"
      },
      "source": [
        "chack_district(102.433193,17.217769)"
      ],
      "execution_count": 112,
      "outputs": [
        {
          "output_type": "execute_result",
          "data": {
            "application/vnd.google.colaboratory.intrinsic+json": {
              "type": "string"
            },
            "text/plain": [
              "'เมืองหนองบัวลำภู'"
            ]
          },
          "metadata": {},
          "execution_count": 112
        }
      ]
    },
    {
      "cell_type": "markdown",
      "metadata": {
        "id": "gvLwryi6kKZU"
      },
      "source": [
        "#Road 1,2 digit"
      ]
    },
    {
      "cell_type": "code",
      "metadata": {
        "id": "Eko1nEbBotkr"
      },
      "source": [
        "roadDB_digit = roadDB.loc[roadDB['rd']/10 < 10]"
      ],
      "execution_count": 176,
      "outputs": []
    },
    {
      "cell_type": "code",
      "metadata": {
        "colab": {
          "base_uri": "https://localhost:8080/"
        },
        "id": "wJQzyjUYoU9a",
        "outputId": "b6bacdff-67db-413b-d195-0d52e5279462"
      },
      "source": [
        "roadDB_digit.ptype.unique()"
      ],
      "execution_count": 177,
      "outputs": [
        {
          "output_type": "execute_result",
          "data": {
            "text/plain": [
              "array(['100m', '1km', 'bend', '100m, bend', '1km, bend'], dtype=object)"
            ]
          },
          "metadata": {},
          "execution_count": 177
        }
      ]
    },
    {
      "cell_type": "code",
      "metadata": {
        "colab": {
          "base_uri": "https://localhost:8080/",
          "height": 419
        },
        "id": "PTboNqxspWNF",
        "outputId": "8fbdb101-8a55-4761-85f8-cf276ab3a62e"
      },
      "source": [
        "roadDB_digit"
      ],
      "execution_count": 178,
      "outputs": [
        {
          "output_type": "execute_result",
          "data": {
            "text/html": [
              "<div>\n",
              "<style scoped>\n",
              "    .dataframe tbody tr th:only-of-type {\n",
              "        vertical-align: middle;\n",
              "    }\n",
              "\n",
              "    .dataframe tbody tr th {\n",
              "        vertical-align: top;\n",
              "    }\n",
              "\n",
              "    .dataframe thead th {\n",
              "        text-align: right;\n",
              "    }\n",
              "</style>\n",
              "<table border=\"1\" class=\"dataframe\">\n",
              "  <thead>\n",
              "    <tr style=\"text-align: right;\">\n",
              "      <th></th>\n",
              "      <th>rid</th>\n",
              "      <th>rd</th>\n",
              "      <th>km</th>\n",
              "      <th>ptype</th>\n",
              "      <th>lat</th>\n",
              "      <th>lon</th>\n",
              "      <th>latx</th>\n",
              "      <th>lonx</th>\n",
              "      <th>angle</th>\n",
              "    </tr>\n",
              "  </thead>\n",
              "  <tbody>\n",
              "    <tr>\n",
              "      <th>542625</th>\n",
              "      <td>3379</td>\n",
              "      <td>32</td>\n",
              "      <td>0.000</td>\n",
              "      <td>100m</td>\n",
              "      <td>14.170919</td>\n",
              "      <td>100.615903</td>\n",
              "      <td>14.171</td>\n",
              "      <td>100.616</td>\n",
              "      <td>180</td>\n",
              "    </tr>\n",
              "    <tr>\n",
              "      <th>542626</th>\n",
              "      <td>3379</td>\n",
              "      <td>32</td>\n",
              "      <td>0.100</td>\n",
              "      <td>100m</td>\n",
              "      <td>14.171708</td>\n",
              "      <td>100.616347</td>\n",
              "      <td>14.172</td>\n",
              "      <td>100.616</td>\n",
              "      <td>168</td>\n",
              "    </tr>\n",
              "    <tr>\n",
              "      <th>542627</th>\n",
              "      <td>3379</td>\n",
              "      <td>32</td>\n",
              "      <td>0.200</td>\n",
              "      <td>100m</td>\n",
              "      <td>14.172564</td>\n",
              "      <td>100.616619</td>\n",
              "      <td>14.173</td>\n",
              "      <td>100.617</td>\n",
              "      <td>159</td>\n",
              "    </tr>\n",
              "    <tr>\n",
              "      <th>542628</th>\n",
              "      <td>3379</td>\n",
              "      <td>32</td>\n",
              "      <td>0.300</td>\n",
              "      <td>100m</td>\n",
              "      <td>14.173457</td>\n",
              "      <td>100.616575</td>\n",
              "      <td>14.173</td>\n",
              "      <td>100.617</td>\n",
              "      <td>168</td>\n",
              "    </tr>\n",
              "    <tr>\n",
              "      <th>542629</th>\n",
              "      <td>3379</td>\n",
              "      <td>32</td>\n",
              "      <td>0.400</td>\n",
              "      <td>100m</td>\n",
              "      <td>14.174324</td>\n",
              "      <td>100.616331</td>\n",
              "      <td>14.174</td>\n",
              "      <td>100.616</td>\n",
              "      <td>178</td>\n",
              "    </tr>\n",
              "    <tr>\n",
              "      <th>...</th>\n",
              "      <td>...</td>\n",
              "      <td>...</td>\n",
              "      <td>...</td>\n",
              "      <td>...</td>\n",
              "      <td>...</td>\n",
              "      <td>...</td>\n",
              "      <td>...</td>\n",
              "      <td>...</td>\n",
              "      <td>...</td>\n",
              "    </tr>\n",
              "    <tr>\n",
              "      <th>1093090</th>\n",
              "      <td>6508</td>\n",
              "      <td>12</td>\n",
              "      <td>54.300</td>\n",
              "      <td>100m</td>\n",
              "      <td>16.689217</td>\n",
              "      <td>101.670215</td>\n",
              "      <td>16.689</td>\n",
              "      <td>101.670</td>\n",
              "      <td>180</td>\n",
              "    </tr>\n",
              "    <tr>\n",
              "      <th>1093091</th>\n",
              "      <td>6508</td>\n",
              "      <td>12</td>\n",
              "      <td>54.400</td>\n",
              "      <td>100m</td>\n",
              "      <td>16.688457</td>\n",
              "      <td>101.670716</td>\n",
              "      <td>16.688</td>\n",
              "      <td>101.671</td>\n",
              "      <td>180</td>\n",
              "    </tr>\n",
              "    <tr>\n",
              "      <th>1093092</th>\n",
              "      <td>6508</td>\n",
              "      <td>12</td>\n",
              "      <td>54.500</td>\n",
              "      <td>100m</td>\n",
              "      <td>16.687694</td>\n",
              "      <td>101.671213</td>\n",
              "      <td>16.688</td>\n",
              "      <td>101.671</td>\n",
              "      <td>180</td>\n",
              "    </tr>\n",
              "    <tr>\n",
              "      <th>1093093</th>\n",
              "      <td>6508</td>\n",
              "      <td>12</td>\n",
              "      <td>54.516</td>\n",
              "      <td>bend</td>\n",
              "      <td>16.687576</td>\n",
              "      <td>101.671292</td>\n",
              "      <td>16.688</td>\n",
              "      <td>101.671</td>\n",
              "      <td>33</td>\n",
              "    </tr>\n",
              "    <tr>\n",
              "      <th>1093094</th>\n",
              "      <td>6508</td>\n",
              "      <td>12</td>\n",
              "      <td>54.520</td>\n",
              "      <td>100m</td>\n",
              "      <td>16.687576</td>\n",
              "      <td>101.671292</td>\n",
              "      <td>16.688</td>\n",
              "      <td>101.671</td>\n",
              "      <td>180</td>\n",
              "    </tr>\n",
              "  </tbody>\n",
              "</table>\n",
              "<p>82189 rows × 9 columns</p>\n",
              "</div>"
            ],
            "text/plain": [
              "          rid  rd      km ptype        lat         lon    latx     lonx  angle\n",
              "542625   3379  32   0.000  100m  14.170919  100.615903  14.171  100.616    180\n",
              "542626   3379  32   0.100  100m  14.171708  100.616347  14.172  100.616    168\n",
              "542627   3379  32   0.200  100m  14.172564  100.616619  14.173  100.617    159\n",
              "542628   3379  32   0.300  100m  14.173457  100.616575  14.173  100.617    168\n",
              "542629   3379  32   0.400  100m  14.174324  100.616331  14.174  100.616    178\n",
              "...       ...  ..     ...   ...        ...         ...     ...      ...    ...\n",
              "1093090  6508  12  54.300  100m  16.689217  101.670215  16.689  101.670    180\n",
              "1093091  6508  12  54.400  100m  16.688457  101.670716  16.688  101.671    180\n",
              "1093092  6508  12  54.500  100m  16.687694  101.671213  16.688  101.671    180\n",
              "1093093  6508  12  54.516  bend  16.687576  101.671292  16.688  101.671     33\n",
              "1093094  6508  12  54.520  100m  16.687576  101.671292  16.688  101.671    180\n",
              "\n",
              "[82189 rows x 9 columns]"
            ]
          },
          "metadata": {},
          "execution_count": 178
        }
      ]
    },
    {
      "cell_type": "markdown",
      "metadata": {
        "id": "RpAUjEllrues"
      },
      "source": [
        "#Filter RoadDB"
      ]
    },
    {
      "cell_type": "code",
      "metadata": {
        "colab": {
          "base_uri": "https://localhost:8080/"
        },
        "id": "V-zN7Kjjrxxo",
        "outputId": "62466562-72fd-4512-db22-d729168ae54a"
      },
      "source": [
        "for index in roadDB_digit.index:\n",
        "  roadDB_digit.loc[index,'district'] = chack_district(roadDB_digit.loc[index,'lon'] , roadDB_digit.loc[index,'lat'])"
      ],
      "execution_count": 179,
      "outputs": [
        {
          "output_type": "stream",
          "name": "stderr",
          "text": [
            "/usr/local/lib/python3.7/dist-packages/pandas/core/indexing.py:1596: SettingWithCopyWarning:\n",
            "\n",
            "\n",
            "A value is trying to be set on a copy of a slice from a DataFrame.\n",
            "Try using .loc[row_indexer,col_indexer] = value instead\n",
            "\n",
            "See the caveats in the documentation: https://pandas.pydata.org/pandas-docs/stable/user_guide/indexing.html#returning-a-view-versus-a-copy\n",
            "\n",
            "/usr/local/lib/python3.7/dist-packages/pandas/core/indexing.py:1763: SettingWithCopyWarning:\n",
            "\n",
            "\n",
            "A value is trying to be set on a copy of a slice from a DataFrame.\n",
            "Try using .loc[row_indexer,col_indexer] = value instead\n",
            "\n",
            "See the caveats in the documentation: https://pandas.pydata.org/pandas-docs/stable/user_guide/indexing.html#returning-a-view-versus-a-copy\n",
            "\n"
          ]
        }
      ]
    },
    {
      "cell_type": "code",
      "metadata": {
        "colab": {
          "base_uri": "https://localhost:8080/",
          "height": 419
        },
        "id": "AWcgzAncuXHb",
        "outputId": "b0c2b4ad-313b-49a4-b3d5-23ed3c5205d4"
      },
      "source": [
        "roadDB_digit"
      ],
      "execution_count": 180,
      "outputs": [
        {
          "output_type": "execute_result",
          "data": {
            "text/html": [
              "<div>\n",
              "<style scoped>\n",
              "    .dataframe tbody tr th:only-of-type {\n",
              "        vertical-align: middle;\n",
              "    }\n",
              "\n",
              "    .dataframe tbody tr th {\n",
              "        vertical-align: top;\n",
              "    }\n",
              "\n",
              "    .dataframe thead th {\n",
              "        text-align: right;\n",
              "    }\n",
              "</style>\n",
              "<table border=\"1\" class=\"dataframe\">\n",
              "  <thead>\n",
              "    <tr style=\"text-align: right;\">\n",
              "      <th></th>\n",
              "      <th>rid</th>\n",
              "      <th>rd</th>\n",
              "      <th>km</th>\n",
              "      <th>ptype</th>\n",
              "      <th>lat</th>\n",
              "      <th>lon</th>\n",
              "      <th>latx</th>\n",
              "      <th>lonx</th>\n",
              "      <th>angle</th>\n",
              "      <th>district</th>\n",
              "    </tr>\n",
              "  </thead>\n",
              "  <tbody>\n",
              "    <tr>\n",
              "      <th>542625</th>\n",
              "      <td>3379</td>\n",
              "      <td>32</td>\n",
              "      <td>0.000</td>\n",
              "      <td>100m</td>\n",
              "      <td>14.170919</td>\n",
              "      <td>100.615903</td>\n",
              "      <td>14.171</td>\n",
              "      <td>100.616</td>\n",
              "      <td>180</td>\n",
              "      <td>false</td>\n",
              "    </tr>\n",
              "    <tr>\n",
              "      <th>542626</th>\n",
              "      <td>3379</td>\n",
              "      <td>32</td>\n",
              "      <td>0.100</td>\n",
              "      <td>100m</td>\n",
              "      <td>14.171708</td>\n",
              "      <td>100.616347</td>\n",
              "      <td>14.172</td>\n",
              "      <td>100.616</td>\n",
              "      <td>168</td>\n",
              "      <td>false</td>\n",
              "    </tr>\n",
              "    <tr>\n",
              "      <th>542627</th>\n",
              "      <td>3379</td>\n",
              "      <td>32</td>\n",
              "      <td>0.200</td>\n",
              "      <td>100m</td>\n",
              "      <td>14.172564</td>\n",
              "      <td>100.616619</td>\n",
              "      <td>14.173</td>\n",
              "      <td>100.617</td>\n",
              "      <td>159</td>\n",
              "      <td>false</td>\n",
              "    </tr>\n",
              "    <tr>\n",
              "      <th>542628</th>\n",
              "      <td>3379</td>\n",
              "      <td>32</td>\n",
              "      <td>0.300</td>\n",
              "      <td>100m</td>\n",
              "      <td>14.173457</td>\n",
              "      <td>100.616575</td>\n",
              "      <td>14.173</td>\n",
              "      <td>100.617</td>\n",
              "      <td>168</td>\n",
              "      <td>false</td>\n",
              "    </tr>\n",
              "    <tr>\n",
              "      <th>542629</th>\n",
              "      <td>3379</td>\n",
              "      <td>32</td>\n",
              "      <td>0.400</td>\n",
              "      <td>100m</td>\n",
              "      <td>14.174324</td>\n",
              "      <td>100.616331</td>\n",
              "      <td>14.174</td>\n",
              "      <td>100.616</td>\n",
              "      <td>178</td>\n",
              "      <td>false</td>\n",
              "    </tr>\n",
              "    <tr>\n",
              "      <th>...</th>\n",
              "      <td>...</td>\n",
              "      <td>...</td>\n",
              "      <td>...</td>\n",
              "      <td>...</td>\n",
              "      <td>...</td>\n",
              "      <td>...</td>\n",
              "      <td>...</td>\n",
              "      <td>...</td>\n",
              "      <td>...</td>\n",
              "      <td>...</td>\n",
              "    </tr>\n",
              "    <tr>\n",
              "      <th>1093090</th>\n",
              "      <td>6508</td>\n",
              "      <td>12</td>\n",
              "      <td>54.300</td>\n",
              "      <td>100m</td>\n",
              "      <td>16.689217</td>\n",
              "      <td>101.670215</td>\n",
              "      <td>16.689</td>\n",
              "      <td>101.670</td>\n",
              "      <td>180</td>\n",
              "      <td>false</td>\n",
              "    </tr>\n",
              "    <tr>\n",
              "      <th>1093091</th>\n",
              "      <td>6508</td>\n",
              "      <td>12</td>\n",
              "      <td>54.400</td>\n",
              "      <td>100m</td>\n",
              "      <td>16.688457</td>\n",
              "      <td>101.670716</td>\n",
              "      <td>16.688</td>\n",
              "      <td>101.671</td>\n",
              "      <td>180</td>\n",
              "      <td>false</td>\n",
              "    </tr>\n",
              "    <tr>\n",
              "      <th>1093092</th>\n",
              "      <td>6508</td>\n",
              "      <td>12</td>\n",
              "      <td>54.500</td>\n",
              "      <td>100m</td>\n",
              "      <td>16.687694</td>\n",
              "      <td>101.671213</td>\n",
              "      <td>16.688</td>\n",
              "      <td>101.671</td>\n",
              "      <td>180</td>\n",
              "      <td>false</td>\n",
              "    </tr>\n",
              "    <tr>\n",
              "      <th>1093093</th>\n",
              "      <td>6508</td>\n",
              "      <td>12</td>\n",
              "      <td>54.516</td>\n",
              "      <td>bend</td>\n",
              "      <td>16.687576</td>\n",
              "      <td>101.671292</td>\n",
              "      <td>16.688</td>\n",
              "      <td>101.671</td>\n",
              "      <td>33</td>\n",
              "      <td>false</td>\n",
              "    </tr>\n",
              "    <tr>\n",
              "      <th>1093094</th>\n",
              "      <td>6508</td>\n",
              "      <td>12</td>\n",
              "      <td>54.520</td>\n",
              "      <td>100m</td>\n",
              "      <td>16.687576</td>\n",
              "      <td>101.671292</td>\n",
              "      <td>16.688</td>\n",
              "      <td>101.671</td>\n",
              "      <td>180</td>\n",
              "      <td>false</td>\n",
              "    </tr>\n",
              "  </tbody>\n",
              "</table>\n",
              "<p>82189 rows × 10 columns</p>\n",
              "</div>"
            ],
            "text/plain": [
              "          rid  rd      km ptype  ...    latx     lonx  angle  district\n",
              "542625   3379  32   0.000  100m  ...  14.171  100.616    180     false\n",
              "542626   3379  32   0.100  100m  ...  14.172  100.616    168     false\n",
              "542627   3379  32   0.200  100m  ...  14.173  100.617    159     false\n",
              "542628   3379  32   0.300  100m  ...  14.173  100.617    168     false\n",
              "542629   3379  32   0.400  100m  ...  14.174  100.616    178     false\n",
              "...       ...  ..     ...   ...  ...     ...      ...    ...       ...\n",
              "1093090  6508  12  54.300  100m  ...  16.689  101.670    180     false\n",
              "1093091  6508  12  54.400  100m  ...  16.688  101.671    180     false\n",
              "1093092  6508  12  54.500  100m  ...  16.688  101.671    180     false\n",
              "1093093  6508  12  54.516  bend  ...  16.688  101.671     33     false\n",
              "1093094  6508  12  54.520  100m  ...  16.688  101.671    180     false\n",
              "\n",
              "[82189 rows x 10 columns]"
            ]
          },
          "metadata": {},
          "execution_count": 180
        }
      ]
    },
    {
      "cell_type": "code",
      "metadata": {
        "colab": {
          "base_uri": "https://localhost:8080/"
        },
        "id": "10G8od8R4MIJ",
        "outputId": "1e0973b8-3dbf-41cf-ad90-8f24db78dd9d"
      },
      "source": [
        "len(roadDB_digit.loc[roadDB_digit['district'] == 'false'])"
      ],
      "execution_count": 181,
      "outputs": [
        {
          "output_type": "execute_result",
          "data": {
            "text/plain": [
              "63441"
            ]
          },
          "metadata": {},
          "execution_count": 181
        }
      ]
    },
    {
      "cell_type": "code",
      "metadata": {
        "colab": {
          "base_uri": "https://localhost:8080/"
        },
        "id": "QT1DYWS6-BKN",
        "outputId": "033592c6-3d62-4f73-c5e7-8d0120796b6d"
      },
      "source": [
        "for index in roadDB_digit.index:\n",
        "  if roadDB_digit.loc[index,'district'] == 'false':\n",
        "    roadDB_digit.drop(index,axis=0,inplace=True)"
      ],
      "execution_count": 186,
      "outputs": [
        {
          "output_type": "stream",
          "name": "stderr",
          "text": [
            "/usr/local/lib/python3.7/dist-packages/pandas/core/frame.py:4174: SettingWithCopyWarning:\n",
            "\n",
            "\n",
            "A value is trying to be set on a copy of a slice from a DataFrame\n",
            "\n",
            "See the caveats in the documentation: https://pandas.pydata.org/pandas-docs/stable/user_guide/indexing.html#returning-a-view-versus-a-copy\n",
            "\n"
          ]
        }
      ]
    },
    {
      "cell_type": "code",
      "metadata": {
        "colab": {
          "base_uri": "https://localhost:8080/",
          "height": 419
        },
        "id": "VrItuN5WA3dm",
        "outputId": "50a2f2ba-8b22-413b-f727-cc300a7a588a"
      },
      "source": [
        "roadDB_digit"
      ],
      "execution_count": 187,
      "outputs": [
        {
          "output_type": "execute_result",
          "data": {
            "text/html": [
              "<div>\n",
              "<style scoped>\n",
              "    .dataframe tbody tr th:only-of-type {\n",
              "        vertical-align: middle;\n",
              "    }\n",
              "\n",
              "    .dataframe tbody tr th {\n",
              "        vertical-align: top;\n",
              "    }\n",
              "\n",
              "    .dataframe thead th {\n",
              "        text-align: right;\n",
              "    }\n",
              "</style>\n",
              "<table border=\"1\" class=\"dataframe\">\n",
              "  <thead>\n",
              "    <tr style=\"text-align: right;\">\n",
              "      <th></th>\n",
              "      <th>rid</th>\n",
              "      <th>rd</th>\n",
              "      <th>km</th>\n",
              "      <th>ptype</th>\n",
              "      <th>lat</th>\n",
              "      <th>lon</th>\n",
              "      <th>latx</th>\n",
              "      <th>lonx</th>\n",
              "      <th>angle</th>\n",
              "      <th>district</th>\n",
              "    </tr>\n",
              "  </thead>\n",
              "  <tbody>\n",
              "    <tr>\n",
              "      <th>715238</th>\n",
              "      <td>4489</td>\n",
              "      <td>22</td>\n",
              "      <td>0.0</td>\n",
              "      <td>100m</td>\n",
              "      <td>17.321291</td>\n",
              "      <td>104.416470</td>\n",
              "      <td>17.321</td>\n",
              "      <td>104.416</td>\n",
              "      <td>180</td>\n",
              "      <td>กุสุมาลย์</td>\n",
              "    </tr>\n",
              "    <tr>\n",
              "      <th>715239</th>\n",
              "      <td>4489</td>\n",
              "      <td>22</td>\n",
              "      <td>0.1</td>\n",
              "      <td>100m</td>\n",
              "      <td>17.321363</td>\n",
              "      <td>104.417409</td>\n",
              "      <td>17.321</td>\n",
              "      <td>104.417</td>\n",
              "      <td>179</td>\n",
              "      <td>เมืองนครพนม</td>\n",
              "    </tr>\n",
              "    <tr>\n",
              "      <th>715240</th>\n",
              "      <td>4489</td>\n",
              "      <td>22</td>\n",
              "      <td>0.2</td>\n",
              "      <td>100m</td>\n",
              "      <td>17.321415</td>\n",
              "      <td>104.418349</td>\n",
              "      <td>17.321</td>\n",
              "      <td>104.418</td>\n",
              "      <td>176</td>\n",
              "      <td>เมืองนครพนม</td>\n",
              "    </tr>\n",
              "    <tr>\n",
              "      <th>715241</th>\n",
              "      <td>4489</td>\n",
              "      <td>22</td>\n",
              "      <td>0.3</td>\n",
              "      <td>100m</td>\n",
              "      <td>17.321394</td>\n",
              "      <td>104.419290</td>\n",
              "      <td>17.321</td>\n",
              "      <td>104.419</td>\n",
              "      <td>172</td>\n",
              "      <td>เมืองนครพนม</td>\n",
              "    </tr>\n",
              "    <tr>\n",
              "      <th>715242</th>\n",
              "      <td>4489</td>\n",
              "      <td>22</td>\n",
              "      <td>0.4</td>\n",
              "      <td>100m</td>\n",
              "      <td>17.321241</td>\n",
              "      <td>104.420215</td>\n",
              "      <td>17.321</td>\n",
              "      <td>104.420</td>\n",
              "      <td>164</td>\n",
              "      <td>เมืองนครพนม</td>\n",
              "    </tr>\n",
              "    <tr>\n",
              "      <th>...</th>\n",
              "      <td>...</td>\n",
              "      <td>...</td>\n",
              "      <td>...</td>\n",
              "      <td>...</td>\n",
              "      <td>...</td>\n",
              "      <td>...</td>\n",
              "      <td>...</td>\n",
              "      <td>...</td>\n",
              "      <td>...</td>\n",
              "      <td>...</td>\n",
              "    </tr>\n",
              "    <tr>\n",
              "      <th>1092985</th>\n",
              "      <td>6508</td>\n",
              "      <td>12</td>\n",
              "      <td>43.8</td>\n",
              "      <td>100m</td>\n",
              "      <td>16.718843</td>\n",
              "      <td>101.591987</td>\n",
              "      <td>16.719</td>\n",
              "      <td>101.592</td>\n",
              "      <td>179</td>\n",
              "      <td>คอนสาร</td>\n",
              "    </tr>\n",
              "    <tr>\n",
              "      <th>1093003</th>\n",
              "      <td>6508</td>\n",
              "      <td>12</td>\n",
              "      <td>45.6</td>\n",
              "      <td>100m</td>\n",
              "      <td>16.707472</td>\n",
              "      <td>101.603346</td>\n",
              "      <td>16.707</td>\n",
              "      <td>101.603</td>\n",
              "      <td>180</td>\n",
              "      <td>คอนสาร</td>\n",
              "    </tr>\n",
              "    <tr>\n",
              "      <th>1093004</th>\n",
              "      <td>6508</td>\n",
              "      <td>12</td>\n",
              "      <td>45.7</td>\n",
              "      <td>100m</td>\n",
              "      <td>16.707015</td>\n",
              "      <td>101.604155</td>\n",
              "      <td>16.707</td>\n",
              "      <td>101.604</td>\n",
              "      <td>178</td>\n",
              "      <td>คอนสาร</td>\n",
              "    </tr>\n",
              "    <tr>\n",
              "      <th>1093005</th>\n",
              "      <td>6508</td>\n",
              "      <td>12</td>\n",
              "      <td>45.8</td>\n",
              "      <td>100m</td>\n",
              "      <td>16.706528</td>\n",
              "      <td>101.604944</td>\n",
              "      <td>16.707</td>\n",
              "      <td>101.605</td>\n",
              "      <td>170</td>\n",
              "      <td>คอนสาร</td>\n",
              "    </tr>\n",
              "    <tr>\n",
              "      <th>1093006</th>\n",
              "      <td>6508</td>\n",
              "      <td>12</td>\n",
              "      <td>45.9</td>\n",
              "      <td>100m</td>\n",
              "      <td>16.705911</td>\n",
              "      <td>101.605624</td>\n",
              "      <td>16.706</td>\n",
              "      <td>101.606</td>\n",
              "      <td>173</td>\n",
              "      <td>คอนสาร</td>\n",
              "    </tr>\n",
              "  </tbody>\n",
              "</table>\n",
              "<p>18748 rows × 10 columns</p>\n",
              "</div>"
            ],
            "text/plain": [
              "          rid  rd    km ptype  ...    latx     lonx  angle     district\n",
              "715238   4489  22   0.0  100m  ...  17.321  104.416    180    กุสุมาลย์\n",
              "715239   4489  22   0.1  100m  ...  17.321  104.417    179  เมืองนครพนม\n",
              "715240   4489  22   0.2  100m  ...  17.321  104.418    176  เมืองนครพนม\n",
              "715241   4489  22   0.3  100m  ...  17.321  104.419    172  เมืองนครพนม\n",
              "715242   4489  22   0.4  100m  ...  17.321  104.420    164  เมืองนครพนม\n",
              "...       ...  ..   ...   ...  ...     ...      ...    ...          ...\n",
              "1092985  6508  12  43.8  100m  ...  16.719  101.592    179       คอนสาร\n",
              "1093003  6508  12  45.6  100m  ...  16.707  101.603    180       คอนสาร\n",
              "1093004  6508  12  45.7  100m  ...  16.707  101.604    178       คอนสาร\n",
              "1093005  6508  12  45.8  100m  ...  16.707  101.605    170       คอนสาร\n",
              "1093006  6508  12  45.9  100m  ...  16.706  101.606    173       คอนสาร\n",
              "\n",
              "[18748 rows x 10 columns]"
            ]
          },
          "metadata": {},
          "execution_count": 187
        }
      ]
    },
    {
      "cell_type": "code",
      "metadata": {
        "id": "rAJLMYOFCyMH"
      },
      "source": [
        ""
      ],
      "execution_count": null,
      "outputs": []
    }
  ]
}