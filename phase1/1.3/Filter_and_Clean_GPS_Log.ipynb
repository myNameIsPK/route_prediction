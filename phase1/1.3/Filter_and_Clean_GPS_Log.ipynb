{
  "nbformat": 4,
  "nbformat_minor": 0,
  "metadata": {
    "colab": {
      "name": "Filter and Clean GPS Log.ipynb",
      "provenance": []
    },
    "kernelspec": {
      "name": "python3",
      "display_name": "Python 3"
    },
    "language_info": {
      "name": "python"
    }
  },
  "cells": [
    {
      "cell_type": "markdown",
      "metadata": {
        "id": "WHkF000dRnn9"
      },
      "source": [
        "#install"
      ]
    },
    {
      "cell_type": "code",
      "metadata": {
        "colab": {
          "base_uri": "https://localhost:8080/"
        },
        "id": "h1CoBkPFRoio",
        "outputId": "bee8b820-1f1e-4b4f-bc4c-76f94b3b8517"
      },
      "source": [
        "%%time \n",
        "\n",
        "# Important library for many geopython libraries\n",
        "!apt install gdal-bin python-gdal python3-gdal \n",
        "# Install rtree - Geopandas requirment\n",
        "!apt install python3-rtree \n",
        "# Install Geopandas\n",
        "!pip install git+git://github.com/geopandas/geopandas.git\n",
        "# Install descartes - Geopandas requirment\n",
        "!pip install descartes \n",
        "# Install Folium for Geographic data visualization\n",
        "!pip install folium\n",
        "# Install plotlyExpress\n",
        "!pip install plotly_express\n",
        "!pip install Shapely"
      ],
      "execution_count": 2,
      "outputs": [
        {
          "output_type": "stream",
          "name": "stdout",
          "text": [
            "Reading package lists... Done\n",
            "Building dependency tree       \n",
            "Reading state information... Done\n",
            "gdal-bin is already the newest version (2.2.3+dfsg-2).\n",
            "python-gdal is already the newest version (2.2.3+dfsg-2).\n",
            "The following additional packages will be installed:\n",
            "  python3-numpy\n",
            "Suggested packages:\n",
            "  python-numpy-doc python3-nose python3-numpy-dbg\n",
            "The following NEW packages will be installed:\n",
            "  python3-gdal python3-numpy\n",
            "0 upgraded, 2 newly installed, 0 to remove and 40 not upgraded.\n",
            "Need to get 2,288 kB of archives.\n",
            "After this operation, 13.2 MB of additional disk space will be used.\n",
            "Get:1 http://archive.ubuntu.com/ubuntu bionic/main amd64 python3-numpy amd64 1:1.13.3-2ubuntu1 [1,943 kB]\n",
            "Get:2 http://archive.ubuntu.com/ubuntu bionic/universe amd64 python3-gdal amd64 2.2.3+dfsg-2 [346 kB]\n",
            "Fetched 2,288 kB in 1s (2,409 kB/s)\n",
            "Selecting previously unselected package python3-numpy.\n",
            "(Reading database ... 148492 files and directories currently installed.)\n",
            "Preparing to unpack .../python3-numpy_1%3a1.13.3-2ubuntu1_amd64.deb ...\n",
            "Unpacking python3-numpy (1:1.13.3-2ubuntu1) ...\n",
            "Selecting previously unselected package python3-gdal.\n",
            "Preparing to unpack .../python3-gdal_2.2.3+dfsg-2_amd64.deb ...\n",
            "Unpacking python3-gdal (2.2.3+dfsg-2) ...\n",
            "Setting up python3-numpy (1:1.13.3-2ubuntu1) ...\n",
            "Setting up python3-gdal (2.2.3+dfsg-2) ...\n",
            "Processing triggers for man-db (2.8.3-2ubuntu0.1) ...\n",
            "Reading package lists... Done\n",
            "Building dependency tree       \n",
            "Reading state information... Done\n",
            "The following additional packages will be installed:\n",
            "  libspatialindex-c4v5 libspatialindex-dev libspatialindex4v5\n",
            "  python3-pkg-resources\n",
            "Suggested packages:\n",
            "  python3-setuptools\n",
            "The following NEW packages will be installed:\n",
            "  libspatialindex-c4v5 libspatialindex-dev libspatialindex4v5\n",
            "  python3-pkg-resources python3-rtree\n",
            "0 upgraded, 5 newly installed, 0 to remove and 40 not upgraded.\n",
            "Need to get 671 kB of archives.\n",
            "After this operation, 3,948 kB of additional disk space will be used.\n",
            "Get:1 http://archive.ubuntu.com/ubuntu bionic/universe amd64 libspatialindex4v5 amd64 1.8.5-5 [219 kB]\n",
            "Get:2 http://archive.ubuntu.com/ubuntu bionic/universe amd64 libspatialindex-c4v5 amd64 1.8.5-5 [51.7 kB]\n",
            "Get:3 http://archive.ubuntu.com/ubuntu bionic/main amd64 python3-pkg-resources all 39.0.1-2 [98.8 kB]\n",
            "Get:4 http://archive.ubuntu.com/ubuntu bionic/universe amd64 libspatialindex-dev amd64 1.8.5-5 [285 kB]\n",
            "Get:5 http://archive.ubuntu.com/ubuntu bionic/universe amd64 python3-rtree all 0.8.3+ds-1 [16.9 kB]\n",
            "Fetched 671 kB in 1s (827 kB/s)\n",
            "Selecting previously unselected package libspatialindex4v5:amd64.\n",
            "(Reading database ... 148902 files and directories currently installed.)\n",
            "Preparing to unpack .../libspatialindex4v5_1.8.5-5_amd64.deb ...\n",
            "Unpacking libspatialindex4v5:amd64 (1.8.5-5) ...\n",
            "Selecting previously unselected package libspatialindex-c4v5:amd64.\n",
            "Preparing to unpack .../libspatialindex-c4v5_1.8.5-5_amd64.deb ...\n",
            "Unpacking libspatialindex-c4v5:amd64 (1.8.5-5) ...\n",
            "Selecting previously unselected package python3-pkg-resources.\n",
            "Preparing to unpack .../python3-pkg-resources_39.0.1-2_all.deb ...\n",
            "Unpacking python3-pkg-resources (39.0.1-2) ...\n",
            "Selecting previously unselected package libspatialindex-dev:amd64.\n",
            "Preparing to unpack .../libspatialindex-dev_1.8.5-5_amd64.deb ...\n",
            "Unpacking libspatialindex-dev:amd64 (1.8.5-5) ...\n",
            "Selecting previously unselected package python3-rtree.\n",
            "Preparing to unpack .../python3-rtree_0.8.3+ds-1_all.deb ...\n",
            "Unpacking python3-rtree (0.8.3+ds-1) ...\n",
            "Setting up libspatialindex4v5:amd64 (1.8.5-5) ...\n",
            "Setting up python3-pkg-resources (39.0.1-2) ...\n",
            "Setting up libspatialindex-c4v5:amd64 (1.8.5-5) ...\n",
            "Setting up libspatialindex-dev:amd64 (1.8.5-5) ...\n",
            "Setting up python3-rtree (0.8.3+ds-1) ...\n",
            "Processing triggers for libc-bin (2.27-3ubuntu1.2) ...\n",
            "/sbin/ldconfig.real: /usr/local/lib/python3.7/dist-packages/ideep4py/lib/libmkldnn.so.0 is not a symbolic link\n",
            "\n",
            "Collecting git+git://github.com/geopandas/geopandas.git\n",
            "  Cloning git://github.com/geopandas/geopandas.git to /tmp/pip-req-build-qsw_fheo\n",
            "  Running command git clone -q git://github.com/geopandas/geopandas.git /tmp/pip-req-build-qsw_fheo\n",
            "Requirement already satisfied: pandas>=0.25.0 in /usr/local/lib/python3.7/dist-packages (from geopandas==0.9.0+76.g9607d9c) (1.1.5)\n",
            "Requirement already satisfied: shapely>=1.6 in /usr/local/lib/python3.7/dist-packages (from geopandas==0.9.0+76.g9607d9c) (1.7.1)\n",
            "Collecting fiona>=1.8\n",
            "  Downloading Fiona-1.8.20-cp37-cp37m-manylinux1_x86_64.whl (15.4 MB)\n",
            "\u001b[K     |████████████████████████████████| 15.4 MB 37 kB/s \n",
            "\u001b[?25hCollecting pyproj>=2.2.0\n",
            "  Downloading pyproj-3.2.0-cp37-cp37m-manylinux_2_24_x86_64.whl (6.3 MB)\n",
            "\u001b[K     |████████████████████████████████| 6.3 MB 45.9 MB/s \n",
            "\u001b[?25hRequirement already satisfied: setuptools in /usr/local/lib/python3.7/dist-packages (from fiona>=1.8->geopandas==0.9.0+76.g9607d9c) (57.4.0)\n",
            "Requirement already satisfied: click>=4.0 in /usr/local/lib/python3.7/dist-packages (from fiona>=1.8->geopandas==0.9.0+76.g9607d9c) (7.1.2)\n",
            "Requirement already satisfied: certifi in /usr/local/lib/python3.7/dist-packages (from fiona>=1.8->geopandas==0.9.0+76.g9607d9c) (2021.5.30)\n",
            "Collecting munch\n",
            "  Downloading munch-2.5.0-py2.py3-none-any.whl (10 kB)\n",
            "Requirement already satisfied: attrs>=17 in /usr/local/lib/python3.7/dist-packages (from fiona>=1.8->geopandas==0.9.0+76.g9607d9c) (21.2.0)\n",
            "Collecting click-plugins>=1.0\n",
            "  Downloading click_plugins-1.1.1-py2.py3-none-any.whl (7.5 kB)\n",
            "Collecting cligj>=0.5\n",
            "  Downloading cligj-0.7.2-py3-none-any.whl (7.1 kB)\n",
            "Requirement already satisfied: six>=1.7 in /usr/local/lib/python3.7/dist-packages (from fiona>=1.8->geopandas==0.9.0+76.g9607d9c) (1.15.0)\n",
            "Requirement already satisfied: numpy>=1.15.4 in /usr/local/lib/python3.7/dist-packages (from pandas>=0.25.0->geopandas==0.9.0+76.g9607d9c) (1.19.5)\n",
            "Requirement already satisfied: python-dateutil>=2.7.3 in /usr/local/lib/python3.7/dist-packages (from pandas>=0.25.0->geopandas==0.9.0+76.g9607d9c) (2.8.2)\n",
            "Requirement already satisfied: pytz>=2017.2 in /usr/local/lib/python3.7/dist-packages (from pandas>=0.25.0->geopandas==0.9.0+76.g9607d9c) (2018.9)\n",
            "Building wheels for collected packages: geopandas\n",
            "  Building wheel for geopandas (setup.py) ... \u001b[?25l\u001b[?25hdone\n",
            "  Created wheel for geopandas: filename=geopandas-0.9.0+76.g9607d9c-py2.py3-none-any.whl size=1000311 sha256=07289a2644f4a949045d6925d30d36c3ca9831a4e85e5046add93896f08b9dc4\n",
            "  Stored in directory: /tmp/pip-ephem-wheel-cache-el95ovxv/wheels/cf/3e/0b/6475054094c2b1ea054158ac1fdcf749fb92f5b512377e4cf8\n",
            "Successfully built geopandas\n",
            "Installing collected packages: munch, cligj, click-plugins, pyproj, fiona, geopandas\n",
            "Successfully installed click-plugins-1.1.1 cligj-0.7.2 fiona-1.8.20 geopandas-0.9.0+76.g9607d9c munch-2.5.0 pyproj-3.2.0\n",
            "Requirement already satisfied: descartes in /usr/local/lib/python3.7/dist-packages (1.1.0)\n",
            "Requirement already satisfied: matplotlib in /usr/local/lib/python3.7/dist-packages (from descartes) (3.2.2)\n",
            "Requirement already satisfied: numpy>=1.11 in /usr/local/lib/python3.7/dist-packages (from matplotlib->descartes) (1.19.5)\n",
            "Requirement already satisfied: cycler>=0.10 in /usr/local/lib/python3.7/dist-packages (from matplotlib->descartes) (0.10.0)\n",
            "Requirement already satisfied: kiwisolver>=1.0.1 in /usr/local/lib/python3.7/dist-packages (from matplotlib->descartes) (1.3.1)\n",
            "Requirement already satisfied: python-dateutil>=2.1 in /usr/local/lib/python3.7/dist-packages (from matplotlib->descartes) (2.8.2)\n",
            "Requirement already satisfied: pyparsing!=2.0.4,!=2.1.2,!=2.1.6,>=2.0.1 in /usr/local/lib/python3.7/dist-packages (from matplotlib->descartes) (2.4.7)\n",
            "Requirement already satisfied: six in /usr/local/lib/python3.7/dist-packages (from cycler>=0.10->matplotlib->descartes) (1.15.0)\n",
            "Requirement already satisfied: folium in /usr/local/lib/python3.7/dist-packages (0.8.3)\n",
            "Requirement already satisfied: branca>=0.3.0 in /usr/local/lib/python3.7/dist-packages (from folium) (0.4.2)\n",
            "Requirement already satisfied: requests in /usr/local/lib/python3.7/dist-packages (from folium) (2.23.0)\n",
            "Requirement already satisfied: six in /usr/local/lib/python3.7/dist-packages (from folium) (1.15.0)\n",
            "Requirement already satisfied: numpy in /usr/local/lib/python3.7/dist-packages (from folium) (1.19.5)\n",
            "Requirement already satisfied: jinja2 in /usr/local/lib/python3.7/dist-packages (from folium) (2.11.3)\n",
            "Requirement already satisfied: MarkupSafe>=0.23 in /usr/local/lib/python3.7/dist-packages (from jinja2->folium) (2.0.1)\n",
            "Requirement already satisfied: idna<3,>=2.5 in /usr/local/lib/python3.7/dist-packages (from requests->folium) (2.10)\n",
            "Requirement already satisfied: certifi>=2017.4.17 in /usr/local/lib/python3.7/dist-packages (from requests->folium) (2021.5.30)\n",
            "Requirement already satisfied: chardet<4,>=3.0.2 in /usr/local/lib/python3.7/dist-packages (from requests->folium) (3.0.4)\n",
            "Requirement already satisfied: urllib3!=1.25.0,!=1.25.1,<1.26,>=1.21.1 in /usr/local/lib/python3.7/dist-packages (from requests->folium) (1.24.3)\n",
            "Collecting plotly_express\n",
            "  Downloading plotly_express-0.4.1-py2.py3-none-any.whl (2.9 kB)\n",
            "Requirement already satisfied: scipy>=0.18 in /usr/local/lib/python3.7/dist-packages (from plotly_express) (1.4.1)\n",
            "Requirement already satisfied: statsmodels>=0.9.0 in /usr/local/lib/python3.7/dist-packages (from plotly_express) (0.10.2)\n",
            "Requirement already satisfied: numpy>=1.11 in /usr/local/lib/python3.7/dist-packages (from plotly_express) (1.19.5)\n",
            "Requirement already satisfied: pandas>=0.20.0 in /usr/local/lib/python3.7/dist-packages (from plotly_express) (1.1.5)\n",
            "Requirement already satisfied: patsy>=0.5 in /usr/local/lib/python3.7/dist-packages (from plotly_express) (0.5.1)\n",
            "Requirement already satisfied: plotly>=4.1.0 in /usr/local/lib/python3.7/dist-packages (from plotly_express) (4.4.1)\n",
            "Requirement already satisfied: python-dateutil>=2.7.3 in /usr/local/lib/python3.7/dist-packages (from pandas>=0.20.0->plotly_express) (2.8.2)\n",
            "Requirement already satisfied: pytz>=2017.2 in /usr/local/lib/python3.7/dist-packages (from pandas>=0.20.0->plotly_express) (2018.9)\n",
            "Requirement already satisfied: six in /usr/local/lib/python3.7/dist-packages (from patsy>=0.5->plotly_express) (1.15.0)\n",
            "Requirement already satisfied: retrying>=1.3.3 in /usr/local/lib/python3.7/dist-packages (from plotly>=4.1.0->plotly_express) (1.3.3)\n",
            "Installing collected packages: plotly-express\n",
            "Successfully installed plotly-express-0.4.1\n",
            "Requirement already satisfied: Shapely in /usr/local/lib/python3.7/dist-packages (1.7.1)\n",
            "CPU times: user 488 ms, sys: 129 ms, total: 617 ms\n",
            "Wall time: 48 s\n"
          ]
        }
      ]
    },
    {
      "cell_type": "code",
      "metadata": {
        "colab": {
          "base_uri": "https://localhost:8080/"
        },
        "id": "yimIr6y-R1VZ",
        "outputId": "894d98d7-5ed9-4550-e4c8-6732bac4c343"
      },
      "source": [
        "from shapely.geometry import Point,Polygon\n",
        "import pandas as pd\n",
        "import numpy as np\n",
        "import geopandas as gpd\n",
        "import matplotlib\n",
        "import matplotlib.pyplot as plt \n",
        "import folium\n",
        "from folium import plugins\n",
        "from folium.plugins import HeatMap\n",
        "import plotly_express as px\n",
        "from google.colab import drive\n",
        "from IPython.display import display\n",
        "import glob\n",
        "import re\n",
        "drive.mount('/content/drive')"
      ],
      "execution_count": 3,
      "outputs": [
        {
          "output_type": "stream",
          "name": "stdout",
          "text": [
            "Mounted at /content/drive\n"
          ]
        }
      ]
    },
    {
      "cell_type": "markdown",
      "metadata": {
        "id": "GjnZ2JAwRpJx"
      },
      "source": [
        "#read"
      ]
    },
    {
      "cell_type": "code",
      "metadata": {
        "id": "TQkSFDwNRqQI"
      },
      "source": [
        "district_NE_path = \"/content/drive/My Drive/2021 Route Prediction/Project-1/Source-Code/data/District_NE.geojson\""
      ],
      "execution_count": 4,
      "outputs": []
    },
    {
      "cell_type": "code",
      "metadata": {
        "id": "_yJ00sQPZQbO"
      },
      "source": [
        "district_NE = gpd.read_file(district_NE_path)"
      ],
      "execution_count": 5,
      "outputs": []
    },
    {
      "cell_type": "markdown",
      "metadata": {
        "id": "zSTjUB__Zz4i"
      },
      "source": [
        "#Algorithm"
      ]
    },
    {
      "cell_type": "code",
      "metadata": {
        "id": "UpH6wsi9Z3Oe"
      },
      "source": [
        "def check_district(lon,lat):\n",
        "  point = Point(lon,lat)\n",
        "  for index in district_NE.index:\n",
        "    return point.within(district_NE.loc[index,'geometry'])"
      ],
      "execution_count": 7,
      "outputs": []
    },
    {
      "cell_type": "markdown",
      "metadata": {
        "id": "nGULNEI0Z5uI"
      },
      "source": [
        "#Filter NE"
      ]
    },
    {
      "cell_type": "code",
      "metadata": {
        "colab": {
          "base_uri": "https://localhost:8080/"
        },
        "id": "AGQp7eH1aJnC",
        "outputId": "a9f6ac78-3a34-484c-d93a-ecce9cd5d75e"
      },
      "source": [
        "!ls \"/content/drive/My Drive/gps_copy/2019-04\""
      ],
      "execution_count": 11,
      "outputs": [
        {
          "output_type": "stream",
          "name": "stdout",
          "text": [
            "2019-04-01_00.zip  2019-04-08_12.zip  2019-04-16_00.zip  2019-04-23_12.zip\n",
            "2019-04-01_03.zip  2019-04-08_15.zip  2019-04-16_03.zip  2019-04-23_15.zip\n",
            "2019-04-01_06.zip  2019-04-08_18.zip  2019-04-16_06.zip  2019-04-23_18.zip\n",
            "2019-04-01_09.zip  2019-04-08_21.zip  2019-04-16_09.zip  2019-04-23_21.zip\n",
            "2019-04-01_12.zip  2019-04-09_00.zip  2019-04-16_12.zip  2019-04-24_00.zip\n",
            "2019-04-01_15.zip  2019-04-09_03.zip  2019-04-16_15.zip  2019-04-24_03.zip\n",
            "2019-04-01_18.zip  2019-04-09_06.zip  2019-04-16_18.zip  2019-04-24_06.zip\n",
            "2019-04-01_21.zip  2019-04-09_09.zip  2019-04-16_21.zip  2019-04-24_09.zip\n",
            "2019-04-02_00.zip  2019-04-09_12.zip  2019-04-17_00.zip  2019-04-24_12.zip\n",
            "2019-04-02_03.zip  2019-04-09_15.zip  2019-04-17_03.zip  2019-04-24_15.zip\n",
            "2019-04-02_06.zip  2019-04-09_18.zip  2019-04-17_06.zip  2019-04-24_18.zip\n",
            "2019-04-02_09.zip  2019-04-09_21.zip  2019-04-17_09.zip  2019-04-24_21.zip\n",
            "2019-04-02_12.zip  2019-04-10_00.zip  2019-04-17_12.zip  2019-04-25_00.zip\n",
            "2019-04-02_15.zip  2019-04-10_03.zip  2019-04-17_15.zip  2019-04-25_03.zip\n",
            "2019-04-02_18.zip  2019-04-10_06.zip  2019-04-17_18.zip  2019-04-25_06.zip\n",
            "2019-04-02_21.zip  2019-04-10_09.zip  2019-04-17_21.zip  2019-04-25_09.zip\n",
            "2019-04-03_00.zip  2019-04-10_12.zip  2019-04-18_00.zip  2019-04-25_12.zip\n",
            "2019-04-03_03.zip  2019-04-10_15.zip  2019-04-18_03.zip  2019-04-25_15.zip\n",
            "2019-04-03_06.zip  2019-04-10_18.zip  2019-04-18_06.zip  2019-04-25_18.zip\n",
            "2019-04-03_09.zip  2019-04-10_21.zip  2019-04-18_09.zip  2019-04-25_21.zip\n",
            "2019-04-03_12.zip  2019-04-11_00.zip  2019-04-18_12.zip  2019-04-26_00.zip\n",
            "2019-04-03_15.zip  2019-04-11_03.zip  2019-04-18_15.zip  2019-04-26_03.zip\n",
            "2019-04-03_18.zip  2019-04-11_06.zip  2019-04-18_18.zip  2019-04-26_06.zip\n",
            "2019-04-03_21.zip  2019-04-11_09.zip  2019-04-18_21.zip  2019-04-26_09.zip\n",
            "2019-04-04_00.zip  2019-04-11_12.zip  2019-04-19_00.zip  2019-04-26_12.zip\n",
            "2019-04-04_03.zip  2019-04-11_15.zip  2019-04-19_03.zip  2019-04-26_15.zip\n",
            "2019-04-04_06.zip  2019-04-11_18.zip  2019-04-19_06.zip  2019-04-26_18.zip\n",
            "2019-04-04_09.zip  2019-04-11_21.zip  2019-04-19_09.zip  2019-04-26_21.zip\n",
            "2019-04-04_12.zip  2019-04-12_00.zip  2019-04-19_12.zip  2019-04-27_00.zip\n",
            "2019-04-04_15.zip  2019-04-12_03.zip  2019-04-19_15.zip  2019-04-27_03.zip\n",
            "2019-04-04_18.zip  2019-04-12_06.zip  2019-04-19_18.zip  2019-04-27_06.zip\n",
            "2019-04-04_21.zip  2019-04-12_09.zip  2019-04-19_21.zip  2019-04-27_09.zip\n",
            "2019-04-05_00.zip  2019-04-12_12.zip  2019-04-20_00.zip  2019-04-27_12.zip\n",
            "2019-04-05_03.zip  2019-04-12_15.zip  2019-04-20_03.zip  2019-04-27_15.zip\n",
            "2019-04-05_06.zip  2019-04-12_18.zip  2019-04-20_06.zip  2019-04-27_18.zip\n",
            "2019-04-05_09.zip  2019-04-12_21.zip  2019-04-20_09.zip  2019-04-27_21.zip\n",
            "2019-04-05_12.zip  2019-04-13_00.zip  2019-04-20_12.zip  2019-04-28_00.zip\n",
            "2019-04-05_15.zip  2019-04-13_03.zip  2019-04-20_15.zip  2019-04-28_03.zip\n",
            "2019-04-05_18.zip  2019-04-13_06.zip  2019-04-20_18.zip  2019-04-28_06.zip\n",
            "2019-04-05_21.zip  2019-04-13_09.zip  2019-04-20_21.zip  2019-04-28_09.zip\n",
            "2019-04-06_00.zip  2019-04-13_12.zip  2019-04-21_00.zip  2019-04-28_12.zip\n",
            "2019-04-06_03.zip  2019-04-13_15.zip  2019-04-21_03.zip  2019-04-28_15.zip\n",
            "2019-04-06_06.zip  2019-04-13_18.zip  2019-04-21_06.zip  2019-04-28_18.zip\n",
            "2019-04-06_09.zip  2019-04-13_21.zip  2019-04-21_09.zip  2019-04-28_21.zip\n",
            "2019-04-06_12.zip  2019-04-14_00.zip  2019-04-21_12.zip  2019-04-29_00.zip\n",
            "2019-04-06_15.zip  2019-04-14_03.zip  2019-04-21_15.zip  2019-04-29_03.zip\n",
            "2019-04-06_18.zip  2019-04-14_06.zip  2019-04-21_18.zip  2019-04-29_06.zip\n",
            "2019-04-06_21.zip  2019-04-14_09.zip  2019-04-21_21.zip  2019-04-29_09.zip\n",
            "2019-04-07_00.zip  2019-04-14_12.zip  2019-04-22_00.zip  2019-04-29_12.zip\n",
            "2019-04-07_03.zip  2019-04-14_15.zip  2019-04-22_03.zip  2019-04-29_15.zip\n",
            "2019-04-07_06.zip  2019-04-14_18.zip  2019-04-22_06.zip  2019-04-29_18.zip\n",
            "2019-04-07_09.zip  2019-04-14_21.zip  2019-04-22_09.zip  2019-04-29_21.zip\n",
            "2019-04-07_12.zip  2019-04-15_00.zip  2019-04-22_12.zip  2019-04-30_00.zip\n",
            "2019-04-07_15.zip  2019-04-15_03.zip  2019-04-22_15.zip  2019-04-30_03.zip\n",
            "2019-04-07_18.zip  2019-04-15_06.zip  2019-04-22_18.zip  2019-04-30_06.zip\n",
            "2019-04-07_21.zip  2019-04-15_09.zip  2019-04-22_21.zip  2019-04-30_09.zip\n",
            "2019-04-08_00.zip  2019-04-15_12.zip  2019-04-23_00.zip  2019-04-30_12.zip\n",
            "2019-04-08_03.zip  2019-04-15_15.zip  2019-04-23_03.zip  2019-04-30_15.zip\n",
            "2019-04-08_06.zip  2019-04-15_18.zip  2019-04-23_06.zip  2019-04-30_18.zip\n",
            "2019-04-08_09.zip  2019-04-15_21.zip  2019-04-23_09.zip  2019-04-30_21.zip\n"
          ]
        }
      ]
    },
    {
      "cell_type": "code",
      "metadata": {
        "id": "j-fmMZxTaxsP"
      },
      "source": [
        "all_files = glob.glob('/content/drive/My Drive/gps_copy/2019-04/' + '/*.zip')"
      ],
      "execution_count": 27,
      "outputs": []
    },
    {
      "cell_type": "code",
      "metadata": {
        "id": "kKZQ_RlFbyTp"
      },
      "source": [
        "x = 8\n",
        "y = 16"
      ],
      "execution_count": 28,
      "outputs": []
    },
    {
      "cell_type": "code",
      "metadata": {
        "colab": {
          "base_uri": "https://localhost:8080/"
        },
        "id": "xMGwHUXsbRDp",
        "outputId": "06b35396-5738-4cc5-c921-7df7346997be"
      },
      "source": [
        "all_files[x:y]"
      ],
      "execution_count": 29,
      "outputs": [
        {
          "output_type": "execute_result",
          "data": {
            "text/plain": [
              "['/content/drive/My Drive/gps_copy/2019-04/2019-04-02_00.zip',\n",
              " '/content/drive/My Drive/gps_copy/2019-04/2019-04-02_03.zip',\n",
              " '/content/drive/My Drive/gps_copy/2019-04/2019-04-02_06.zip',\n",
              " '/content/drive/My Drive/gps_copy/2019-04/2019-04-02_09.zip',\n",
              " '/content/drive/My Drive/gps_copy/2019-04/2019-04-02_12.zip',\n",
              " '/content/drive/My Drive/gps_copy/2019-04/2019-04-02_15.zip',\n",
              " '/content/drive/My Drive/gps_copy/2019-04/2019-04-02_18.zip',\n",
              " '/content/drive/My Drive/gps_copy/2019-04/2019-04-02_21.zip']"
            ]
          },
          "metadata": {},
          "execution_count": 29
        }
      ]
    },
    {
      "cell_type": "code",
      "metadata": {
        "colab": {
          "base_uri": "https://localhost:8080/"
        },
        "id": "g0aBbsxpcAVH",
        "outputId": "0b0eeb14-c447-4cc7-bbea-504e4319355c"
      },
      "source": [
        "for i in all_files[0:8]:\n",
        "  print(i)"
      ],
      "execution_count": 31,
      "outputs": [
        {
          "output_type": "stream",
          "name": "stdout",
          "text": [
            "/content/drive/My Drive/gps_copy/2019-04/2019-04-01_00.zip\n",
            "/content/drive/My Drive/gps_copy/2019-04/2019-04-01_03.zip\n",
            "/content/drive/My Drive/gps_copy/2019-04/2019-04-01_06.zip\n",
            "/content/drive/My Drive/gps_copy/2019-04/2019-04-01_09.zip\n",
            "/content/drive/My Drive/gps_copy/2019-04/2019-04-01_12.zip\n",
            "/content/drive/My Drive/gps_copy/2019-04/2019-04-01_15.zip\n",
            "/content/drive/My Drive/gps_copy/2019-04/2019-04-01_18.zip\n",
            "/content/drive/My Drive/gps_copy/2019-04/2019-04-01_21.zip\n"
          ]
        }
      ]
    },
    {
      "cell_type": "code",
      "metadata": {
        "colab": {
          "base_uri": "https://localhost:8080/"
        },
        "id": "Rn7Mi9HvZ8DD",
        "outputId": "a23a1031-243c-4f5c-d357-06361aa641fc"
      },
      "source": [
        "%time\n",
        "all_files = glob.glob('/content/drive/My Drive/gps_copy/2019-04/' + '/*.zip')\n",
        "\n",
        "# day 1\n",
        "for filename in all_files[0:8]:\n",
        "  gps = pd.read_csv(filename, compression='zip')\n",
        "\n",
        "  # clean\n",
        "  gps = gps[gps['unit_type'] != 1.0]\n",
        "  gps = gps.dropna()\n",
        "\n",
        "  # filter\n",
        "  msk_NE = []\n",
        "  for index,row in gps.iterrows():\n",
        "    if check_district(row.lon,row.lat):\n",
        "      msk_NE.append(True)\n",
        "    else:\n",
        "      msk_NE.append(False)\n",
        "\n",
        "  gps = gps[msk_NE]\n",
        "\n",
        "  # export\n",
        "  filename = re.sub('zip$', 'csv', filename)\n",
        "  gps.to_csv(filename, encoding='utf-8', index = False)\n",
        "\n",
        "  print('complete')"
      ],
      "execution_count": 32,
      "outputs": [
        {
          "output_type": "stream",
          "name": "stdout",
          "text": [
            "CPU times: user 4 µs, sys: 0 ns, total: 4 µs\n",
            "Wall time: 9.78 µs\n",
            "complete\n",
            "complete\n",
            "complete\n",
            "complete\n",
            "complete\n",
            "complete\n",
            "complete\n",
            "complete\n"
          ]
        }
      ]
    }
  ]
}