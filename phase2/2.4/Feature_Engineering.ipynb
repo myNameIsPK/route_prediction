{
  "nbformat": 4,
  "nbformat_minor": 0,
  "metadata": {
    "colab": {
      "name": "Feature Engineering.ipynb",
      "provenance": [],
      "toc_visible": true
    },
    "kernelspec": {
      "name": "python3",
      "display_name": "Python 3"
    },
    "language_info": {
      "name": "python"
    }
  },
  "cells": [
    {
      "cell_type": "markdown",
      "metadata": {
        "id": "Lq-EI_OoH4GU"
      },
      "source": [
        "#install"
      ]
    },
    {
      "cell_type": "code",
      "metadata": {
        "colab": {
          "base_uri": "https://localhost:8080/"
        },
        "id": "moZ6gvm2H6To",
        "outputId": "970b7b0f-9212-429c-df83-80910afe51f2"
      },
      "source": [
        "# Important library for many geopython libraries\n",
        "!apt install gdal-bin python-gdal python3-gdal \n",
        "# Install rtree - Geopandas requirment\n",
        "!apt install python3-rtree \n",
        "# Install Geopandas\n",
        "!pip install git+git://github.com/geopandas/geopandas.git\n",
        "# Install descartes - Geopandas requirment\n",
        "!pip install descartes \n",
        "# Install Folium for Geographic data visualization\n",
        "!pip install folium\n",
        "# Install plotlyExpress\n",
        "!pip install plotly_express\n",
        "!pip install Shapely\n",
        "!pip install plotly_express"
      ],
      "execution_count": 1,
      "outputs": [
        {
          "output_type": "stream",
          "name": "stdout",
          "text": [
            "Reading package lists... Done\n",
            "Building dependency tree       \n",
            "Reading state information... Done\n",
            "gdal-bin is already the newest version (2.2.3+dfsg-2).\n",
            "python-gdal is already the newest version (2.2.3+dfsg-2).\n",
            "python3-gdal is already the newest version (2.2.3+dfsg-2).\n",
            "0 upgraded, 0 newly installed, 0 to remove and 37 not upgraded.\n",
            "Reading package lists... Done\n",
            "Building dependency tree       \n",
            "Reading state information... Done\n",
            "python3-rtree is already the newest version (0.8.3+ds-1).\n",
            "0 upgraded, 0 newly installed, 0 to remove and 37 not upgraded.\n",
            "Collecting git+git://github.com/geopandas/geopandas.git\n",
            "  Cloning git://github.com/geopandas/geopandas.git to /tmp/pip-req-build-8n_ugyrh\n",
            "  Running command git clone -q git://github.com/geopandas/geopandas.git /tmp/pip-req-build-8n_ugyrh\n",
            "Requirement already satisfied: pandas>=0.25.0 in /usr/local/lib/python3.7/dist-packages (from geopandas==0.9.0+101.g64c5813) (1.1.5)\n",
            "Requirement already satisfied: shapely>=1.6 in /usr/local/lib/python3.7/dist-packages (from geopandas==0.9.0+101.g64c5813) (1.7.1)\n",
            "Requirement already satisfied: fiona>=1.8 in /usr/local/lib/python3.7/dist-packages (from geopandas==0.9.0+101.g64c5813) (1.8.20)\n",
            "Requirement already satisfied: pyproj>=2.2.0 in /usr/local/lib/python3.7/dist-packages (from geopandas==0.9.0+101.g64c5813) (3.2.1)\n",
            "Requirement already satisfied: certifi in /usr/local/lib/python3.7/dist-packages (from fiona>=1.8->geopandas==0.9.0+101.g64c5813) (2021.5.30)\n",
            "Requirement already satisfied: setuptools in /usr/local/lib/python3.7/dist-packages (from fiona>=1.8->geopandas==0.9.0+101.g64c5813) (57.4.0)\n",
            "Requirement already satisfied: click-plugins>=1.0 in /usr/local/lib/python3.7/dist-packages (from fiona>=1.8->geopandas==0.9.0+101.g64c5813) (1.1.1)\n",
            "Requirement already satisfied: click>=4.0 in /usr/local/lib/python3.7/dist-packages (from fiona>=1.8->geopandas==0.9.0+101.g64c5813) (7.1.2)\n",
            "Requirement already satisfied: six>=1.7 in /usr/local/lib/python3.7/dist-packages (from fiona>=1.8->geopandas==0.9.0+101.g64c5813) (1.15.0)\n",
            "Requirement already satisfied: munch in /usr/local/lib/python3.7/dist-packages (from fiona>=1.8->geopandas==0.9.0+101.g64c5813) (2.5.0)\n",
            "Requirement already satisfied: attrs>=17 in /usr/local/lib/python3.7/dist-packages (from fiona>=1.8->geopandas==0.9.0+101.g64c5813) (21.2.0)\n",
            "Requirement already satisfied: cligj>=0.5 in /usr/local/lib/python3.7/dist-packages (from fiona>=1.8->geopandas==0.9.0+101.g64c5813) (0.7.2)\n",
            "Requirement already satisfied: pytz>=2017.2 in /usr/local/lib/python3.7/dist-packages (from pandas>=0.25.0->geopandas==0.9.0+101.g64c5813) (2018.9)\n",
            "Requirement already satisfied: python-dateutil>=2.7.3 in /usr/local/lib/python3.7/dist-packages (from pandas>=0.25.0->geopandas==0.9.0+101.g64c5813) (2.8.2)\n",
            "Requirement already satisfied: numpy>=1.15.4 in /usr/local/lib/python3.7/dist-packages (from pandas>=0.25.0->geopandas==0.9.0+101.g64c5813) (1.19.5)\n",
            "Requirement already satisfied: descartes in /usr/local/lib/python3.7/dist-packages (1.1.0)\n",
            "Requirement already satisfied: matplotlib in /usr/local/lib/python3.7/dist-packages (from descartes) (3.2.2)\n",
            "Requirement already satisfied: python-dateutil>=2.1 in /usr/local/lib/python3.7/dist-packages (from matplotlib->descartes) (2.8.2)\n",
            "Requirement already satisfied: numpy>=1.11 in /usr/local/lib/python3.7/dist-packages (from matplotlib->descartes) (1.19.5)\n",
            "Requirement already satisfied: cycler>=0.10 in /usr/local/lib/python3.7/dist-packages (from matplotlib->descartes) (0.10.0)\n",
            "Requirement already satisfied: kiwisolver>=1.0.1 in /usr/local/lib/python3.7/dist-packages (from matplotlib->descartes) (1.3.2)\n",
            "Requirement already satisfied: pyparsing!=2.0.4,!=2.1.2,!=2.1.6,>=2.0.1 in /usr/local/lib/python3.7/dist-packages (from matplotlib->descartes) (2.4.7)\n",
            "Requirement already satisfied: six in /usr/local/lib/python3.7/dist-packages (from cycler>=0.10->matplotlib->descartes) (1.15.0)\n",
            "Requirement already satisfied: folium in /usr/local/lib/python3.7/dist-packages (0.8.3)\n",
            "Requirement already satisfied: jinja2 in /usr/local/lib/python3.7/dist-packages (from folium) (2.11.3)\n",
            "Requirement already satisfied: six in /usr/local/lib/python3.7/dist-packages (from folium) (1.15.0)\n",
            "Requirement already satisfied: numpy in /usr/local/lib/python3.7/dist-packages (from folium) (1.19.5)\n",
            "Requirement already satisfied: requests in /usr/local/lib/python3.7/dist-packages (from folium) (2.23.0)\n",
            "Requirement already satisfied: branca>=0.3.0 in /usr/local/lib/python3.7/dist-packages (from folium) (0.4.2)\n",
            "Requirement already satisfied: MarkupSafe>=0.23 in /usr/local/lib/python3.7/dist-packages (from jinja2->folium) (2.0.1)\n",
            "Requirement already satisfied: chardet<4,>=3.0.2 in /usr/local/lib/python3.7/dist-packages (from requests->folium) (3.0.4)\n",
            "Requirement already satisfied: urllib3!=1.25.0,!=1.25.1,<1.26,>=1.21.1 in /usr/local/lib/python3.7/dist-packages (from requests->folium) (1.24.3)\n",
            "Requirement already satisfied: certifi>=2017.4.17 in /usr/local/lib/python3.7/dist-packages (from requests->folium) (2021.5.30)\n",
            "Requirement already satisfied: idna<3,>=2.5 in /usr/local/lib/python3.7/dist-packages (from requests->folium) (2.10)\n",
            "Requirement already satisfied: plotly_express in /usr/local/lib/python3.7/dist-packages (0.4.1)\n",
            "Requirement already satisfied: scipy>=0.18 in /usr/local/lib/python3.7/dist-packages (from plotly_express) (1.4.1)\n",
            "Requirement already satisfied: patsy>=0.5 in /usr/local/lib/python3.7/dist-packages (from plotly_express) (0.5.1)\n",
            "Requirement already satisfied: pandas>=0.20.0 in /usr/local/lib/python3.7/dist-packages (from plotly_express) (1.1.5)\n",
            "Requirement already satisfied: plotly>=4.1.0 in /usr/local/lib/python3.7/dist-packages (from plotly_express) (4.4.1)\n",
            "Requirement already satisfied: statsmodels>=0.9.0 in /usr/local/lib/python3.7/dist-packages (from plotly_express) (0.10.2)\n",
            "Requirement already satisfied: numpy>=1.11 in /usr/local/lib/python3.7/dist-packages (from plotly_express) (1.19.5)\n",
            "Requirement already satisfied: pytz>=2017.2 in /usr/local/lib/python3.7/dist-packages (from pandas>=0.20.0->plotly_express) (2018.9)\n",
            "Requirement already satisfied: python-dateutil>=2.7.3 in /usr/local/lib/python3.7/dist-packages (from pandas>=0.20.0->plotly_express) (2.8.2)\n",
            "Requirement already satisfied: six in /usr/local/lib/python3.7/dist-packages (from patsy>=0.5->plotly_express) (1.15.0)\n",
            "Requirement already satisfied: retrying>=1.3.3 in /usr/local/lib/python3.7/dist-packages (from plotly>=4.1.0->plotly_express) (1.3.3)\n",
            "Requirement already satisfied: Shapely in /usr/local/lib/python3.7/dist-packages (1.7.1)\n",
            "Requirement already satisfied: plotly_express in /usr/local/lib/python3.7/dist-packages (0.4.1)\n",
            "Requirement already satisfied: plotly>=4.1.0 in /usr/local/lib/python3.7/dist-packages (from plotly_express) (4.4.1)\n",
            "Requirement already satisfied: statsmodels>=0.9.0 in /usr/local/lib/python3.7/dist-packages (from plotly_express) (0.10.2)\n",
            "Requirement already satisfied: pandas>=0.20.0 in /usr/local/lib/python3.7/dist-packages (from plotly_express) (1.1.5)\n",
            "Requirement already satisfied: scipy>=0.18 in /usr/local/lib/python3.7/dist-packages (from plotly_express) (1.4.1)\n",
            "Requirement already satisfied: patsy>=0.5 in /usr/local/lib/python3.7/dist-packages (from plotly_express) (0.5.1)\n",
            "Requirement already satisfied: numpy>=1.11 in /usr/local/lib/python3.7/dist-packages (from plotly_express) (1.19.5)\n",
            "Requirement already satisfied: python-dateutil>=2.7.3 in /usr/local/lib/python3.7/dist-packages (from pandas>=0.20.0->plotly_express) (2.8.2)\n",
            "Requirement already satisfied: pytz>=2017.2 in /usr/local/lib/python3.7/dist-packages (from pandas>=0.20.0->plotly_express) (2018.9)\n",
            "Requirement already satisfied: six in /usr/local/lib/python3.7/dist-packages (from patsy>=0.5->plotly_express) (1.15.0)\n",
            "Requirement already satisfied: retrying>=1.3.3 in /usr/local/lib/python3.7/dist-packages (from plotly>=4.1.0->plotly_express) (1.3.3)\n"
          ]
        }
      ]
    },
    {
      "cell_type": "code",
      "metadata": {
        "colab": {
          "base_uri": "https://localhost:8080/"
        },
        "id": "hqGF8SPYIq5R",
        "outputId": "0b0e3171-a9de-43f6-eccc-46b9a58d4468"
      },
      "source": [
        "from shapely.geometry import Point,Polygon\n",
        "import pandas as pd\n",
        "import numpy as np\n",
        "import geopandas as gpd\n",
        "import matplotlib\n",
        "import matplotlib.pyplot as plt \n",
        "import folium\n",
        "from folium import plugins\n",
        "from folium.plugins import HeatMap\n",
        "import plotly_express as px\n",
        "from google.colab import drive\n",
        "from IPython.display import display\n",
        "import glob\n",
        "import re\n",
        "import plotly_express as px\n",
        "import seaborn as sns\n",
        "import pickle\n",
        "drive.mount('/content/drive')"
      ],
      "execution_count": 2,
      "outputs": [
        {
          "output_type": "stream",
          "name": "stdout",
          "text": [
            "Drive already mounted at /content/drive; to attempt to forcibly remount, call drive.mount(\"/content/drive\", force_remount=True).\n"
          ]
        }
      ]
    },
    {
      "cell_type": "markdown",
      "metadata": {
        "id": "oC4TFlCOI2Lm"
      },
      "source": [
        "#Read"
      ]
    },
    {
      "cell_type": "code",
      "metadata": {
        "colab": {
          "base_uri": "https://localhost:8080/"
        },
        "id": "ZPThtdgKVd8t",
        "outputId": "4d311834-b403-4f7b-8028-add9b6c40ebf"
      },
      "source": [
        "!ls '/content/drive/My Drive/2021 Route Prediction/Project-1/Source-Code/data/gps_week'"
      ],
      "execution_count": 19,
      "outputs": [
        {
          "output_type": "stream",
          "name": "stdout",
          "text": [
            "gps_log_2019-04-week-1\tgps_log_2019-04-week-3\n",
            "gps_log_2019-04-week-2\tgps_log_2019-04-week-4\n"
          ]
        }
      ]
    },
    {
      "cell_type": "code",
      "metadata": {
        "id": "n9T7XzYNz8R9"
      },
      "source": [
        "tripPath = '/content/drive/My Drive/2021 Route Prediction/Project-1/Source-Code/data/trips_and_stops_NE_2019-04/trips_2019_4_8.csv'\n",
        "districtPath = '/content/drive/My Drive/2021 Route Prediction/Project-1/Source-Code/data/District_NE.geojson'\n",
        "gps_weekPath = '/content/drive/My Drive/2021 Route Prediction/Project-1/Source-Code/data/gps_week'"
      ],
      "execution_count": 3,
      "outputs": []
    },
    {
      "cell_type": "code",
      "metadata": {
        "id": "oDRVhcFC_K8K"
      },
      "source": [
        "all_week = glob.glob('/content/drive/My Drive/2021 Route Prediction/Project-1/Source-Code/data/gps_week' + '/*')"
      ],
      "execution_count": 3,
      "outputs": []
    },
    {
      "cell_type": "code",
      "metadata": {
        "colab": {
          "base_uri": "https://localhost:8080/",
          "height": 34
        },
        "id": "GRdIO3UC_cQU",
        "outputId": "bf8fe89e-1060-42d5-954b-52fcd887a434"
      },
      "source": [
        "all_week[3]"
      ],
      "execution_count": 9,
      "outputs": [
        {
          "output_type": "execute_result",
          "data": {
            "application/vnd.google.colaboratory.intrinsic+json": {
              "type": "string"
            },
            "text/plain": [
              "'/content/drive/My Drive/2021 Route Prediction/Project-1/Source-Code/data/gps_week/gps_log_2019-04-week-4'"
            ]
          },
          "metadata": {},
          "execution_count": 9
        }
      ]
    },
    {
      "cell_type": "code",
      "metadata": {
        "id": "MU20ZE-N0ETA"
      },
      "source": [
        "trip = pd.read_csv(tripPath)\n",
        "district_NE = gpd.read_file(districtPath)\n"
      ],
      "execution_count": 7,
      "outputs": []
    },
    {
      "cell_type": "code",
      "metadata": {
        "id": "3GJpIdR7jWpD"
      },
      "source": [
        "gps_week4 = pd.read_csv(all_week[3])"
      ],
      "execution_count": 10,
      "outputs": []
    },
    {
      "cell_type": "code",
      "metadata": {
        "colab": {
          "base_uri": "https://localhost:8080/",
          "height": 419
        },
        "id": "zVx2nt6MmVCW",
        "outputId": "37dbc311-7f60-4aaf-b5ee-2fd822f19e87"
      },
      "source": [
        "gps_week4"
      ],
      "execution_count": 11,
      "outputs": [
        {
          "output_type": "execute_result",
          "data": {
            "text/html": [
              "<div>\n",
              "<style scoped>\n",
              "    .dataframe tbody tr th:only-of-type {\n",
              "        vertical-align: middle;\n",
              "    }\n",
              "\n",
              "    .dataframe tbody tr th {\n",
              "        vertical-align: top;\n",
              "    }\n",
              "\n",
              "    .dataframe thead th {\n",
              "        text-align: right;\n",
              "    }\n",
              "</style>\n",
              "<table border=\"1\" class=\"dataframe\">\n",
              "  <thead>\n",
              "    <tr style=\"text-align: right;\">\n",
              "      <th></th>\n",
              "      <th>time_stamp</th>\n",
              "      <th>unit_id</th>\n",
              "      <th>lat</th>\n",
              "      <th>lon</th>\n",
              "      <th>speed</th>\n",
              "      <th>unit_type</th>\n",
              "    </tr>\n",
              "  </thead>\n",
              "  <tbody>\n",
              "    <tr>\n",
              "      <th>0</th>\n",
              "      <td>2019-04-22 00:00:49</td>\n",
              "      <td>033000400000864507037933016</td>\n",
              "      <td>17.689131</td>\n",
              "      <td>102.783424</td>\n",
              "      <td>0</td>\n",
              "      <td>7.0</td>\n",
              "    </tr>\n",
              "    <tr>\n",
              "      <th>1</th>\n",
              "      <td>2019-04-22 00:00:27</td>\n",
              "      <td>0390002000000000000EE095056</td>\n",
              "      <td>15.215667</td>\n",
              "      <td>103.188147</td>\n",
              "      <td>11</td>\n",
              "      <td>8.0</td>\n",
              "    </tr>\n",
              "    <tr>\n",
              "      <th>2</th>\n",
              "      <td>2019-04-22 00:00:51</td>\n",
              "      <td>022000100000000000020071434</td>\n",
              "      <td>15.377680</td>\n",
              "      <td>101.995417</td>\n",
              "      <td>0</td>\n",
              "      <td>7.0</td>\n",
              "    </tr>\n",
              "    <tr>\n",
              "      <th>3</th>\n",
              "      <td>2019-04-22 00:00:52</td>\n",
              "      <td>06500030000000AXIS180801013</td>\n",
              "      <td>17.042400</td>\n",
              "      <td>103.098400</td>\n",
              "      <td>0</td>\n",
              "      <td>8.0</td>\n",
              "    </tr>\n",
              "    <tr>\n",
              "      <th>4</th>\n",
              "      <td>2019-04-22 00:00:18</td>\n",
              "      <td>042000100000000044963920863</td>\n",
              "      <td>14.652040</td>\n",
              "      <td>101.355568</td>\n",
              "      <td>38</td>\n",
              "      <td>7.0</td>\n",
              "    </tr>\n",
              "    <tr>\n",
              "      <th>...</th>\n",
              "      <td>...</td>\n",
              "      <td>...</td>\n",
              "      <td>...</td>\n",
              "      <td>...</td>\n",
              "      <td>...</td>\n",
              "      <td>...</td>\n",
              "    </tr>\n",
              "    <tr>\n",
              "      <th>51675756</th>\n",
              "      <td>2019-04-30 23:59:59</td>\n",
              "      <td>019000300000000001234101068</td>\n",
              "      <td>16.018357</td>\n",
              "      <td>104.324063</td>\n",
              "      <td>0</td>\n",
              "      <td>6.0</td>\n",
              "    </tr>\n",
              "    <tr>\n",
              "      <th>51675757</th>\n",
              "      <td>2019-04-30 23:59:59</td>\n",
              "      <td>031000108966004716902922278</td>\n",
              "      <td>14.665802</td>\n",
              "      <td>101.434204</td>\n",
              "      <td>0</td>\n",
              "      <td>7.0</td>\n",
              "    </tr>\n",
              "    <tr>\n",
              "      <th>51675758</th>\n",
              "      <td>2019-04-30 23:59:59</td>\n",
              "      <td>031000108966004716902922278</td>\n",
              "      <td>14.665802</td>\n",
              "      <td>101.434204</td>\n",
              "      <td>0</td>\n",
              "      <td>7.0</td>\n",
              "    </tr>\n",
              "    <tr>\n",
              "      <th>51675759</th>\n",
              "      <td>2019-04-30 23:59:59</td>\n",
              "      <td>066000200000000003081841171</td>\n",
              "      <td>14.985427</td>\n",
              "      <td>102.051056</td>\n",
              "      <td>0</td>\n",
              "      <td>7.0</td>\n",
              "    </tr>\n",
              "    <tr>\n",
              "      <th>51675760</th>\n",
              "      <td>2019-04-30 23:59:00</td>\n",
              "      <td>025000100000862010033703832</td>\n",
              "      <td>15.409410</td>\n",
              "      <td>102.540968</td>\n",
              "      <td>54</td>\n",
              "      <td>7.0</td>\n",
              "    </tr>\n",
              "  </tbody>\n",
              "</table>\n",
              "<p>51675761 rows × 6 columns</p>\n",
              "</div>"
            ],
            "text/plain": [
              "                   time_stamp                      unit_id  ...  speed  unit_type\n",
              "0         2019-04-22 00:00:49  033000400000864507037933016  ...      0        7.0\n",
              "1         2019-04-22 00:00:27  0390002000000000000EE095056  ...     11        8.0\n",
              "2         2019-04-22 00:00:51  022000100000000000020071434  ...      0        7.0\n",
              "3         2019-04-22 00:00:52  06500030000000AXIS180801013  ...      0        8.0\n",
              "4         2019-04-22 00:00:18  042000100000000044963920863  ...     38        7.0\n",
              "...                       ...                          ...  ...    ...        ...\n",
              "51675756  2019-04-30 23:59:59  019000300000000001234101068  ...      0        6.0\n",
              "51675757  2019-04-30 23:59:59  031000108966004716902922278  ...      0        7.0\n",
              "51675758  2019-04-30 23:59:59  031000108966004716902922278  ...      0        7.0\n",
              "51675759  2019-04-30 23:59:59  066000200000000003081841171  ...      0        7.0\n",
              "51675760  2019-04-30 23:59:00  025000100000862010033703832  ...     54        7.0\n",
              "\n",
              "[51675761 rows x 6 columns]"
            ]
          },
          "metadata": {},
          "execution_count": 11
        }
      ]
    },
    {
      "cell_type": "code",
      "metadata": {
        "colab": {
          "base_uri": "https://localhost:8080/"
        },
        "id": "iPpUwYw-0JD6",
        "outputId": "8432a9b4-36d2-47bb-9ef9-12c87c89e8e2"
      },
      "source": [
        "trip.info()"
      ],
      "execution_count": null,
      "outputs": [
        {
          "output_type": "stream",
          "name": "stdout",
          "text": [
            "<class 'pandas.core.frame.DataFrame'>\n",
            "RangeIndex: 444395 entries, 0 to 444394\n",
            "Data columns (total 7 columns):\n",
            " #   Column      Non-Null Count   Dtype  \n",
            "---  ------      --------------   -----  \n",
            " 0   time_stamp  444395 non-null  object \n",
            " 1   unit_id     444395 non-null  object \n",
            " 2   lat         444395 non-null  float64\n",
            " 3   lon         444395 non-null  float64\n",
            " 4   speed       444395 non-null  int64  \n",
            " 5   unit_type   444395 non-null  float64\n",
            " 6   trip_id     444395 non-null  int64  \n",
            "dtypes: float64(3), int64(2), object(2)\n",
            "memory usage: 23.7+ MB\n"
          ]
        }
      ]
    },
    {
      "cell_type": "code",
      "metadata": {
        "colab": {
          "base_uri": "https://localhost:8080/"
        },
        "id": "d-1gOGrZ7JPm",
        "outputId": "595cfd8e-37e1-4bc8-830f-abd516f7ee88"
      },
      "source": [
        "district_NE.info()"
      ],
      "execution_count": null,
      "outputs": [
        {
          "output_type": "stream",
          "name": "stdout",
          "text": [
            "<class 'geopandas.geodataframe.GeoDataFrame'>\n",
            "RangeIndex: 321 entries, 0 to 320\n",
            "Data columns (total 7 columns):\n",
            " #   Column      Non-Null Count  Dtype   \n",
            "---  ------      --------------  -----   \n",
            " 0   AMP_CODE    321 non-null    object  \n",
            " 1   PRV_CODE    321 non-null    object  \n",
            " 2   AMP_NAME_T  321 non-null    object  \n",
            " 3   AMP_NAME_E  321 non-null    object  \n",
            " 4   Shape_Leng  321 non-null    float64 \n",
            " 5   Shape_Area  321 non-null    float64 \n",
            " 6   geometry    321 non-null    geometry\n",
            "dtypes: float64(2), geometry(1), object(4)\n",
            "memory usage: 17.7+ KB\n"
          ]
        }
      ]
    },
    {
      "cell_type": "code",
      "metadata": {
        "id": "Zp8fyC1X0K0r"
      },
      "source": [
        "trip[['time_stamp']] = trip[['time_stamp']].astype(\"datetime64\")"
      ],
      "execution_count": 7,
      "outputs": []
    },
    {
      "cell_type": "code",
      "metadata": {
        "colab": {
          "base_uri": "https://localhost:8080/"
        },
        "id": "42dZfxRN033P",
        "outputId": "73b9b67d-c8f4-4e01-b353-dff1959c55f7"
      },
      "source": [
        "trip.info()"
      ],
      "execution_count": null,
      "outputs": [
        {
          "output_type": "stream",
          "name": "stdout",
          "text": [
            "<class 'pandas.core.frame.DataFrame'>\n",
            "RangeIndex: 444395 entries, 0 to 444394\n",
            "Data columns (total 7 columns):\n",
            " #   Column      Non-Null Count   Dtype         \n",
            "---  ------      --------------   -----         \n",
            " 0   time_stamp  444395 non-null  datetime64[ns]\n",
            " 1   unit_id     444395 non-null  object        \n",
            " 2   lat         444395 non-null  float64       \n",
            " 3   lon         444395 non-null  float64       \n",
            " 4   speed       444395 non-null  int64         \n",
            " 5   unit_type   444395 non-null  float64       \n",
            " 6   trip_id     444395 non-null  int64         \n",
            "dtypes: datetime64[ns](1), float64(3), int64(2), object(1)\n",
            "memory usage: 23.7+ MB\n"
          ]
        }
      ]
    },
    {
      "cell_type": "code",
      "metadata": {
        "colab": {
          "base_uri": "https://localhost:8080/",
          "height": 419
        },
        "id": "XkZrmMPL4EVo",
        "outputId": "9f196730-83db-450a-e653-c8abce430eef"
      },
      "source": [
        "trip"
      ],
      "execution_count": 8,
      "outputs": [
        {
          "output_type": "execute_result",
          "data": {
            "text/html": [
              "<div>\n",
              "<style scoped>\n",
              "    .dataframe tbody tr th:only-of-type {\n",
              "        vertical-align: middle;\n",
              "    }\n",
              "\n",
              "    .dataframe tbody tr th {\n",
              "        vertical-align: top;\n",
              "    }\n",
              "\n",
              "    .dataframe thead th {\n",
              "        text-align: right;\n",
              "    }\n",
              "</style>\n",
              "<table border=\"1\" class=\"dataframe\">\n",
              "  <thead>\n",
              "    <tr style=\"text-align: right;\">\n",
              "      <th></th>\n",
              "      <th>time_stamp</th>\n",
              "      <th>unit_id</th>\n",
              "      <th>lat</th>\n",
              "      <th>lon</th>\n",
              "      <th>speed</th>\n",
              "      <th>unit_type</th>\n",
              "      <th>trip_id</th>\n",
              "    </tr>\n",
              "  </thead>\n",
              "  <tbody>\n",
              "    <tr>\n",
              "      <th>0</th>\n",
              "      <td>2019-04-08 08:09:02</td>\n",
              "      <td>060000500000000011519719933</td>\n",
              "      <td>15.676680</td>\n",
              "      <td>101.993200</td>\n",
              "      <td>0</td>\n",
              "      <td>7.0</td>\n",
              "      <td>0</td>\n",
              "    </tr>\n",
              "    <tr>\n",
              "      <th>1</th>\n",
              "      <td>2019-04-08 08:09:07</td>\n",
              "      <td>060000500000000011519719933</td>\n",
              "      <td>15.676800</td>\n",
              "      <td>101.993330</td>\n",
              "      <td>0</td>\n",
              "      <td>7.0</td>\n",
              "      <td>0</td>\n",
              "    </tr>\n",
              "    <tr>\n",
              "      <th>2</th>\n",
              "      <td>2019-04-08 08:09:12</td>\n",
              "      <td>060000500000000011519719933</td>\n",
              "      <td>15.676800</td>\n",
              "      <td>101.993330</td>\n",
              "      <td>0</td>\n",
              "      <td>7.0</td>\n",
              "      <td>0</td>\n",
              "    </tr>\n",
              "    <tr>\n",
              "      <th>3</th>\n",
              "      <td>2019-04-08 08:09:17</td>\n",
              "      <td>060000500000000011519719933</td>\n",
              "      <td>15.676800</td>\n",
              "      <td>101.993330</td>\n",
              "      <td>0</td>\n",
              "      <td>7.0</td>\n",
              "      <td>0</td>\n",
              "    </tr>\n",
              "    <tr>\n",
              "      <th>4</th>\n",
              "      <td>2019-04-08 08:09:22</td>\n",
              "      <td>060000500000000011519719933</td>\n",
              "      <td>15.676800</td>\n",
              "      <td>101.993330</td>\n",
              "      <td>0</td>\n",
              "      <td>7.0</td>\n",
              "      <td>0</td>\n",
              "    </tr>\n",
              "    <tr>\n",
              "      <th>...</th>\n",
              "      <td>...</td>\n",
              "      <td>...</td>\n",
              "      <td>...</td>\n",
              "      <td>...</td>\n",
              "      <td>...</td>\n",
              "      <td>...</td>\n",
              "      <td>...</td>\n",
              "    </tr>\n",
              "    <tr>\n",
              "      <th>444390</th>\n",
              "      <td>2019-04-08 08:00:10</td>\n",
              "      <td>002000400000000000000521991</td>\n",
              "      <td>17.271763</td>\n",
              "      <td>102.323932</td>\n",
              "      <td>48</td>\n",
              "      <td>8.0</td>\n",
              "      <td>11709</td>\n",
              "    </tr>\n",
              "    <tr>\n",
              "      <th>444391</th>\n",
              "      <td>2019-04-08 08:22:00</td>\n",
              "      <td>002000400000000000000521991</td>\n",
              "      <td>17.310813</td>\n",
              "      <td>102.175172</td>\n",
              "      <td>44</td>\n",
              "      <td>8.0</td>\n",
              "      <td>11709</td>\n",
              "    </tr>\n",
              "    <tr>\n",
              "      <th>444392</th>\n",
              "      <td>2019-04-08 08:42:00</td>\n",
              "      <td>002000400000000000000521991</td>\n",
              "      <td>17.325908</td>\n",
              "      <td>102.062842</td>\n",
              "      <td>46</td>\n",
              "      <td>8.0</td>\n",
              "      <td>11709</td>\n",
              "    </tr>\n",
              "    <tr>\n",
              "      <th>444393</th>\n",
              "      <td>2019-04-08 09:14:51</td>\n",
              "      <td>002000400000000000000521991</td>\n",
              "      <td>17.365932</td>\n",
              "      <td>101.912222</td>\n",
              "      <td>34</td>\n",
              "      <td>8.0</td>\n",
              "      <td>11709</td>\n",
              "    </tr>\n",
              "    <tr>\n",
              "      <th>444394</th>\n",
              "      <td>2019-04-08 09:36:28</td>\n",
              "      <td>002000400000000000000521991</td>\n",
              "      <td>17.368963</td>\n",
              "      <td>101.866522</td>\n",
              "      <td>22</td>\n",
              "      <td>8.0</td>\n",
              "      <td>11709</td>\n",
              "    </tr>\n",
              "  </tbody>\n",
              "</table>\n",
              "<p>444395 rows × 7 columns</p>\n",
              "</div>"
            ],
            "text/plain": [
              "                time_stamp                      unit_id  ...  unit_type  trip_id\n",
              "0      2019-04-08 08:09:02  060000500000000011519719933  ...        7.0        0\n",
              "1      2019-04-08 08:09:07  060000500000000011519719933  ...        7.0        0\n",
              "2      2019-04-08 08:09:12  060000500000000011519719933  ...        7.0        0\n",
              "3      2019-04-08 08:09:17  060000500000000011519719933  ...        7.0        0\n",
              "4      2019-04-08 08:09:22  060000500000000011519719933  ...        7.0        0\n",
              "...                    ...                          ...  ...        ...      ...\n",
              "444390 2019-04-08 08:00:10  002000400000000000000521991  ...        8.0    11709\n",
              "444391 2019-04-08 08:22:00  002000400000000000000521991  ...        8.0    11709\n",
              "444392 2019-04-08 08:42:00  002000400000000000000521991  ...        8.0    11709\n",
              "444393 2019-04-08 09:14:51  002000400000000000000521991  ...        8.0    11709\n",
              "444394 2019-04-08 09:36:28  002000400000000000000521991  ...        8.0    11709\n",
              "\n",
              "[444395 rows x 7 columns]"
            ]
          },
          "metadata": {},
          "execution_count": 8
        }
      ]
    },
    {
      "cell_type": "markdown",
      "metadata": {
        "id": "26k5ktfr3zVM"
      },
      "source": [
        "#test"
      ]
    },
    {
      "cell_type": "code",
      "metadata": {
        "id": "i_kOYP5A10-1"
      },
      "source": [
        "test01 = trip.loc[115]"
      ],
      "execution_count": 9,
      "outputs": []
    },
    {
      "cell_type": "code",
      "metadata": {
        "colab": {
          "base_uri": "https://localhost:8080/"
        },
        "id": "HbJr8Iai3lzx",
        "outputId": "02284542-1a70-48a6-bc8f-84819454ecae"
      },
      "source": [
        "test01"
      ],
      "execution_count": 10,
      "outputs": [
        {
          "output_type": "execute_result",
          "data": {
            "text/plain": [
              "time_stamp            2019-04-08 02:46:04\n",
              "unit_id       047000100000864507032291287\n",
              "lat                               14.6372\n",
              "lon                               101.257\n",
              "speed                                  60\n",
              "unit_type                               7\n",
              "trip_id                                 1\n",
              "Name: 115, dtype: object"
            ]
          },
          "metadata": {},
          "execution_count": 10
        }
      ]
    },
    {
      "cell_type": "code",
      "metadata": {
        "colab": {
          "base_uri": "https://localhost:8080/",
          "height": 34
        },
        "id": "92td_xWj3Ahv",
        "outputId": "8fa1ed27-10c6-4776-a888-7ccc6a1f4916"
      },
      "source": [
        "test01.time_stamp.day_name()"
      ],
      "execution_count": 11,
      "outputs": [
        {
          "output_type": "execute_result",
          "data": {
            "application/vnd.google.colaboratory.intrinsic+json": {
              "type": "string"
            },
            "text/plain": [
              "'Monday'"
            ]
          },
          "metadata": {},
          "execution_count": 11
        }
      ]
    },
    {
      "cell_type": "markdown",
      "metadata": {
        "id": "hZaLWvxr6bo8"
      },
      "source": [
        "#Algorithm"
      ]
    },
    {
      "cell_type": "code",
      "metadata": {
        "id": "smVIyxf36d7e"
      },
      "source": [
        "def check_district(lon,lat):\n",
        "  point = Point(lon,lat)\n",
        "  for index in district_NE.index:\n",
        "    if point.within(district_NE.loc[index,'geometry']):\n",
        "      return True\n",
        "  return False"
      ],
      "execution_count": null,
      "outputs": []
    },
    {
      "cell_type": "code",
      "metadata": {
        "colab": {
          "base_uri": "https://localhost:8080/"
        },
        "id": "qY9aTPQG7Vjv",
        "outputId": "7cdd7c8c-7e63-4bc7-a373-af599a245726"
      },
      "source": [
        "check_district(103.423698,15.916181)"
      ],
      "execution_count": null,
      "outputs": [
        {
          "output_type": "execute_result",
          "data": {
            "text/plain": [
              "True"
            ]
          },
          "metadata": {},
          "execution_count": 44
        }
      ]
    },
    {
      "cell_type": "markdown",
      "metadata": {
        "id": "33W80mv67mY4"
      },
      "source": [
        "#Featue"
      ]
    },
    {
      "cell_type": "code",
      "metadata": {
        "colab": {
          "base_uri": "https://localhost:8080/",
          "height": 198
        },
        "id": "3aAUZJf77ocl",
        "outputId": "73cccf9c-0bc3-49d3-899b-7c847e8f46a3"
      },
      "source": [
        "for index in trip.index:\n",
        "  # trip['day'] = trip.loc[index,'time_stamp'].day_name()\n",
        "  print(trip.loc[index,'time_stamp'].day_name())"
      ],
      "execution_count": 1,
      "outputs": [
        {
          "output_type": "error",
          "ename": "NameError",
          "evalue": "ignored",
          "traceback": [
            "\u001b[0;31m---------------------------------------------------------------------------\u001b[0m",
            "\u001b[0;31mNameError\u001b[0m                                 Traceback (most recent call last)",
            "\u001b[0;32m<ipython-input-1-443de27f5adb>\u001b[0m in \u001b[0;36m<module>\u001b[0;34m()\u001b[0m\n\u001b[0;32m----> 1\u001b[0;31m \u001b[0;32mfor\u001b[0m \u001b[0mindex\u001b[0m \u001b[0;32min\u001b[0m \u001b[0mtrip\u001b[0m\u001b[0;34m.\u001b[0m\u001b[0mindex\u001b[0m\u001b[0;34m:\u001b[0m\u001b[0;34m\u001b[0m\u001b[0;34m\u001b[0m\u001b[0m\n\u001b[0m\u001b[1;32m      2\u001b[0m   \u001b[0;31m# trip['day'] = trip.loc[index,'time_stamp'].day_name()\u001b[0m\u001b[0;34m\u001b[0m\u001b[0;34m\u001b[0m\u001b[0;34m\u001b[0m\u001b[0m\n\u001b[1;32m      3\u001b[0m   \u001b[0mprint\u001b[0m\u001b[0;34m(\u001b[0m\u001b[0mtrip\u001b[0m\u001b[0;34m.\u001b[0m\u001b[0mloc\u001b[0m\u001b[0;34m[\u001b[0m\u001b[0mindex\u001b[0m\u001b[0;34m,\u001b[0m\u001b[0;34m'time_stamp'\u001b[0m\u001b[0;34m]\u001b[0m\u001b[0;34m.\u001b[0m\u001b[0mday_name\u001b[0m\u001b[0;34m(\u001b[0m\u001b[0;34m)\u001b[0m\u001b[0;34m)\u001b[0m\u001b[0;34m\u001b[0m\u001b[0;34m\u001b[0m\u001b[0m\n",
            "\u001b[0;31mNameError\u001b[0m: name 'trip' is not defined"
          ]
        }
      ]
    },
    {
      "cell_type": "code",
      "metadata": {
        "id": "vI-0tdyo5P1g"
      },
      "source": [
        ""
      ],
      "execution_count": null,
      "outputs": []
    },
    {
      "cell_type": "markdown",
      "metadata": {
        "id": "qswGGzNKA42Q"
      },
      "source": [
        "#Pickle"
      ]
    },
    {
      "cell_type": "code",
      "metadata": {
        "id": "dhp5muacA6Oo"
      },
      "source": [
        "with open('/content/drive/My Drive/2021 Route Prediction/Project-1/Source-Code/data/gps_week/week4_pickle.plk','wb') as f:\n",
        "  pickle.dump(gps_week4,f)\n",
        "\n",
        "# off = open('/content/drive/My Drive/2021 Route Prediction/Project-1/Source-Code/data/gps_week/week1_pickle.plk','rb')\n",
        "# emp = pickle.load(off)\n",
        "# emp"
      ],
      "execution_count": 12,
      "outputs": []
    },
    {
      "cell_type": "code",
      "metadata": {
        "colab": {
          "base_uri": "https://localhost:8080/"
        },
        "id": "od_sxYhPDF4-",
        "outputId": "7c5164cc-919f-445d-c3fd-731453f4621d"
      },
      "source": [
        ""
      ],
      "execution_count": 31,
      "outputs": [
        {
          "output_type": "stream",
          "name": "stdout",
          "text": [
            "['/content/drive/My Drive/2021 Route Prediction/Project-1/Source-Code/data/gps_week/gps_log_2019-04-week-1', '/content/drive/My Drive/2021 Route Prediction/Project-1/Source-Code/data/gps_week/gps_log_2019-04-week-2', '/content/drive/My Drive/2021 Route Prediction/Project-1/Source-Code/data/gps_week/gps_log_2019-04-week-3', '/content/drive/My Drive/2021 Route Prediction/Project-1/Source-Code/data/gps_week/gps_log_2019-04-week-4']\n"
          ]
        }
      ]
    },
    {
      "cell_type": "code",
      "metadata": {
        "id": "NQCelhclDftL"
      },
      "source": [
        ""
      ],
      "execution_count": null,
      "outputs": []
    }
  ]
}