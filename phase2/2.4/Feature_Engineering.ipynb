{
  "nbformat": 4,
  "nbformat_minor": 0,
  "metadata": {
    "colab": {
      "name": "Feature Engineering.ipynb",
      "provenance": [],
      "toc_visible": true
    },
    "kernelspec": {
      "name": "python3",
      "display_name": "Python 3"
    },
    "language_info": {
      "name": "python"
    }
  },
  "cells": [
    {
      "cell_type": "markdown",
      "metadata": {
        "id": "Lq-EI_OoH4GU"
      },
      "source": [
        "#install"
      ]
    },
    {
      "cell_type": "code",
      "metadata": {
        "colab": {
          "base_uri": "https://localhost:8080/"
        },
        "id": "moZ6gvm2H6To",
        "outputId": "ad32553d-45d5-4df4-b35c-c7e89feefbc5"
      },
      "source": [
        "# Important library for many geopython libraries\n",
        "!apt install gdal-bin python-gdal python3-gdal \n",
        "# Install rtree - Geopandas requirment\n",
        "!apt install python3-rtree \n",
        "# Install Geopandas\n",
        "!pip install git+git://github.com/geopandas/geopandas.git\n",
        "# Install descartes - Geopandas requirment\n",
        "!pip install descartes \n",
        "# Install Folium for Geographic data visualization\n",
        "!pip install folium\n",
        "# Install plotlyExpress\n",
        "!pip install plotly_express\n",
        "!pip install Shapely\n",
        "!pip install plotly_express"
      ],
      "execution_count": 2,
      "outputs": [
        {
          "output_type": "stream",
          "name": "stdout",
          "text": [
            "Reading package lists... Done\n",
            "Building dependency tree       \n",
            "Reading state information... Done\n",
            "gdal-bin is already the newest version (2.2.3+dfsg-2).\n",
            "python-gdal is already the newest version (2.2.3+dfsg-2).\n",
            "python3-gdal is already the newest version (2.2.3+dfsg-2).\n",
            "0 upgraded, 0 newly installed, 0 to remove and 37 not upgraded.\n",
            "Reading package lists... Done\n",
            "Building dependency tree       \n",
            "Reading state information... Done\n",
            "python3-rtree is already the newest version (0.8.3+ds-1).\n",
            "0 upgraded, 0 newly installed, 0 to remove and 37 not upgraded.\n",
            "Collecting git+git://github.com/geopandas/geopandas.git\n",
            "  Cloning git://github.com/geopandas/geopandas.git to /tmp/pip-req-build-mb8i5n8t\n",
            "  Running command git clone -q git://github.com/geopandas/geopandas.git /tmp/pip-req-build-mb8i5n8t\n",
            "Requirement already satisfied: pandas>=0.25.0 in /usr/local/lib/python3.7/dist-packages (from geopandas==0.10.1+2.gce285d2) (1.1.5)\n",
            "Requirement already satisfied: shapely>=1.6 in /usr/local/lib/python3.7/dist-packages (from geopandas==0.10.1+2.gce285d2) (1.7.1)\n",
            "Requirement already satisfied: fiona>=1.8 in /usr/local/lib/python3.7/dist-packages (from geopandas==0.10.1+2.gce285d2) (1.8.20)\n",
            "Requirement already satisfied: pyproj>=2.2.0 in /usr/local/lib/python3.7/dist-packages (from geopandas==0.10.1+2.gce285d2) (3.2.1)\n",
            "Requirement already satisfied: attrs>=17 in /usr/local/lib/python3.7/dist-packages (from fiona>=1.8->geopandas==0.10.1+2.gce285d2) (21.2.0)\n",
            "Requirement already satisfied: certifi in /usr/local/lib/python3.7/dist-packages (from fiona>=1.8->geopandas==0.10.1+2.gce285d2) (2021.5.30)\n",
            "Requirement already satisfied: click>=4.0 in /usr/local/lib/python3.7/dist-packages (from fiona>=1.8->geopandas==0.10.1+2.gce285d2) (7.1.2)\n",
            "Requirement already satisfied: munch in /usr/local/lib/python3.7/dist-packages (from fiona>=1.8->geopandas==0.10.1+2.gce285d2) (2.5.0)\n",
            "Requirement already satisfied: click-plugins>=1.0 in /usr/local/lib/python3.7/dist-packages (from fiona>=1.8->geopandas==0.10.1+2.gce285d2) (1.1.1)\n",
            "Requirement already satisfied: setuptools in /usr/local/lib/python3.7/dist-packages (from fiona>=1.8->geopandas==0.10.1+2.gce285d2) (57.4.0)\n",
            "Requirement already satisfied: cligj>=0.5 in /usr/local/lib/python3.7/dist-packages (from fiona>=1.8->geopandas==0.10.1+2.gce285d2) (0.7.2)\n",
            "Requirement already satisfied: six>=1.7 in /usr/local/lib/python3.7/dist-packages (from fiona>=1.8->geopandas==0.10.1+2.gce285d2) (1.15.0)\n",
            "Requirement already satisfied: pytz>=2017.2 in /usr/local/lib/python3.7/dist-packages (from pandas>=0.25.0->geopandas==0.10.1+2.gce285d2) (2018.9)\n",
            "Requirement already satisfied: numpy>=1.15.4 in /usr/local/lib/python3.7/dist-packages (from pandas>=0.25.0->geopandas==0.10.1+2.gce285d2) (1.19.5)\n",
            "Requirement already satisfied: python-dateutil>=2.7.3 in /usr/local/lib/python3.7/dist-packages (from pandas>=0.25.0->geopandas==0.10.1+2.gce285d2) (2.8.2)\n",
            "Requirement already satisfied: descartes in /usr/local/lib/python3.7/dist-packages (1.1.0)\n",
            "Requirement already satisfied: matplotlib in /usr/local/lib/python3.7/dist-packages (from descartes) (3.2.2)\n",
            "Requirement already satisfied: numpy>=1.11 in /usr/local/lib/python3.7/dist-packages (from matplotlib->descartes) (1.19.5)\n",
            "Requirement already satisfied: pyparsing!=2.0.4,!=2.1.2,!=2.1.6,>=2.0.1 in /usr/local/lib/python3.7/dist-packages (from matplotlib->descartes) (2.4.7)\n",
            "Requirement already satisfied: kiwisolver>=1.0.1 in /usr/local/lib/python3.7/dist-packages (from matplotlib->descartes) (1.3.2)\n",
            "Requirement already satisfied: cycler>=0.10 in /usr/local/lib/python3.7/dist-packages (from matplotlib->descartes) (0.10.0)\n",
            "Requirement already satisfied: python-dateutil>=2.1 in /usr/local/lib/python3.7/dist-packages (from matplotlib->descartes) (2.8.2)\n",
            "Requirement already satisfied: six in /usr/local/lib/python3.7/dist-packages (from cycler>=0.10->matplotlib->descartes) (1.15.0)\n",
            "Requirement already satisfied: folium in /usr/local/lib/python3.7/dist-packages (0.8.3)\n",
            "Requirement already satisfied: branca>=0.3.0 in /usr/local/lib/python3.7/dist-packages (from folium) (0.4.2)\n",
            "Requirement already satisfied: requests in /usr/local/lib/python3.7/dist-packages (from folium) (2.23.0)\n",
            "Requirement already satisfied: numpy in /usr/local/lib/python3.7/dist-packages (from folium) (1.19.5)\n",
            "Requirement already satisfied: six in /usr/local/lib/python3.7/dist-packages (from folium) (1.15.0)\n",
            "Requirement already satisfied: jinja2 in /usr/local/lib/python3.7/dist-packages (from folium) (2.11.3)\n",
            "Requirement already satisfied: MarkupSafe>=0.23 in /usr/local/lib/python3.7/dist-packages (from jinja2->folium) (2.0.1)\n",
            "Requirement already satisfied: idna<3,>=2.5 in /usr/local/lib/python3.7/dist-packages (from requests->folium) (2.10)\n",
            "Requirement already satisfied: urllib3!=1.25.0,!=1.25.1,<1.26,>=1.21.1 in /usr/local/lib/python3.7/dist-packages (from requests->folium) (1.24.3)\n",
            "Requirement already satisfied: certifi>=2017.4.17 in /usr/local/lib/python3.7/dist-packages (from requests->folium) (2021.5.30)\n",
            "Requirement already satisfied: chardet<4,>=3.0.2 in /usr/local/lib/python3.7/dist-packages (from requests->folium) (3.0.4)\n",
            "Requirement already satisfied: plotly_express in /usr/local/lib/python3.7/dist-packages (0.4.1)\n",
            "Requirement already satisfied: patsy>=0.5 in /usr/local/lib/python3.7/dist-packages (from plotly_express) (0.5.2)\n",
            "Requirement already satisfied: pandas>=0.20.0 in /usr/local/lib/python3.7/dist-packages (from plotly_express) (1.1.5)\n",
            "Requirement already satisfied: numpy>=1.11 in /usr/local/lib/python3.7/dist-packages (from plotly_express) (1.19.5)\n",
            "Requirement already satisfied: statsmodels>=0.9.0 in /usr/local/lib/python3.7/dist-packages (from plotly_express) (0.10.2)\n",
            "Requirement already satisfied: plotly>=4.1.0 in /usr/local/lib/python3.7/dist-packages (from plotly_express) (4.4.1)\n",
            "Requirement already satisfied: scipy>=0.18 in /usr/local/lib/python3.7/dist-packages (from plotly_express) (1.4.1)\n",
            "Requirement already satisfied: python-dateutil>=2.7.3 in /usr/local/lib/python3.7/dist-packages (from pandas>=0.20.0->plotly_express) (2.8.2)\n",
            "Requirement already satisfied: pytz>=2017.2 in /usr/local/lib/python3.7/dist-packages (from pandas>=0.20.0->plotly_express) (2018.9)\n",
            "Requirement already satisfied: six in /usr/local/lib/python3.7/dist-packages (from patsy>=0.5->plotly_express) (1.15.0)\n",
            "Requirement already satisfied: retrying>=1.3.3 in /usr/local/lib/python3.7/dist-packages (from plotly>=4.1.0->plotly_express) (1.3.3)\n",
            "Requirement already satisfied: Shapely in /usr/local/lib/python3.7/dist-packages (1.7.1)\n",
            "Requirement already satisfied: plotly_express in /usr/local/lib/python3.7/dist-packages (0.4.1)\n",
            "Requirement already satisfied: numpy>=1.11 in /usr/local/lib/python3.7/dist-packages (from plotly_express) (1.19.5)\n",
            "Requirement already satisfied: patsy>=0.5 in /usr/local/lib/python3.7/dist-packages (from plotly_express) (0.5.2)\n",
            "Requirement already satisfied: plotly>=4.1.0 in /usr/local/lib/python3.7/dist-packages (from plotly_express) (4.4.1)\n",
            "Requirement already satisfied: pandas>=0.20.0 in /usr/local/lib/python3.7/dist-packages (from plotly_express) (1.1.5)\n",
            "Requirement already satisfied: statsmodels>=0.9.0 in /usr/local/lib/python3.7/dist-packages (from plotly_express) (0.10.2)\n",
            "Requirement already satisfied: scipy>=0.18 in /usr/local/lib/python3.7/dist-packages (from plotly_express) (1.4.1)\n",
            "Requirement already satisfied: python-dateutil>=2.7.3 in /usr/local/lib/python3.7/dist-packages (from pandas>=0.20.0->plotly_express) (2.8.2)\n",
            "Requirement already satisfied: pytz>=2017.2 in /usr/local/lib/python3.7/dist-packages (from pandas>=0.20.0->plotly_express) (2018.9)\n",
            "Requirement already satisfied: six in /usr/local/lib/python3.7/dist-packages (from patsy>=0.5->plotly_express) (1.15.0)\n",
            "Requirement already satisfied: retrying>=1.3.3 in /usr/local/lib/python3.7/dist-packages (from plotly>=4.1.0->plotly_express) (1.3.3)\n"
          ]
        }
      ]
    },
    {
      "cell_type": "code",
      "metadata": {
        "id": "hqGF8SPYIq5R",
        "colab": {
          "base_uri": "https://localhost:8080/"
        },
        "outputId": "59ccc167-a089-44a5-f05b-905bbea67beb"
      },
      "source": [
        "from shapely.geometry import Point,Polygon\n",
        "import pandas as pd\n",
        "import numpy as np\n",
        "import geopandas as gpd\n",
        "import matplotlib\n",
        "import matplotlib.pyplot as plt \n",
        "import folium\n",
        "from folium import plugins\n",
        "from folium.plugins import HeatMap\n",
        "import plotly_express as px\n",
        "from google.colab import drive\n",
        "from IPython.display import display\n",
        "import glob\n",
        "import re\n",
        "import plotly_express as px\n",
        "import seaborn as sns\n",
        "import os\n",
        "from os.path import exists\n",
        "drive.mount('/content/drive')"
      ],
      "execution_count": 57,
      "outputs": [
        {
          "output_type": "stream",
          "name": "stdout",
          "text": [
            "Drive already mounted at /content/drive; to attempt to forcibly remount, call drive.mount(\"/content/drive\", force_remount=True).\n"
          ]
        }
      ]
    },
    {
      "cell_type": "markdown",
      "metadata": {
        "id": "oC4TFlCOI2Lm"
      },
      "source": [
        "#Read"
      ]
    },
    {
      "cell_type": "code",
      "metadata": {
        "colab": {
          "base_uri": "https://localhost:8080/"
        },
        "id": "ZPThtdgKVd8t",
        "outputId": "08ee9055-5ad6-4388-d03b-124491b0be29"
      },
      "source": [
        "!ls '/content/drive/My Drive/2021 Route Prediction/Project-1/Source-Code/data/trips_and_stops_NE_2019'"
      ],
      "execution_count": 4,
      "outputs": [
        {
          "output_type": "stream",
          "name": "stdout",
          "text": [
            "trips_2019_1_10.csv  trips_2019_2_19.csv  trips_2019_3_2.csv\n",
            "trips_2019_1_11.csv  trips_2019_2_1.csv   trips_2019_3_30.csv\n",
            "trips_2019_1_12.csv  trips_2019_2_20.csv  trips_2019_3_31.csv\n",
            "trips_2019_1_13.csv  trips_2019_2_21.csv  trips_2019_3_3.csv\n",
            "trips_2019_1_14.csv  trips_2019_2_22.csv  trips_2019_3_4.csv\n",
            "trips_2019_1_15.csv  trips_2019_2_23.csv  trips_2019_3_5.csv\n",
            "trips_2019_1_16.csv  trips_2019_2_24.csv  trips_2019_3_6.csv\n",
            "trips_2019_1_17.csv  trips_2019_2_25.csv  trips_2019_3_7.csv\n",
            "trips_2019_1_18.csv  trips_2019_2_26.csv  trips_2019_3_8.csv\n",
            "trips_2019_1_19.csv  trips_2019_2_27.csv  trips_2019_3_9.csv\n",
            "trips_2019_1_1.csv   trips_2019_2_28.csv  trips_2019_4_01.csv\n",
            "trips_2019_1_20.csv  trips_2019_2_2.csv   trips_2019_4_02.csv\n",
            "trips_2019_1_21.csv  trips_2019_2_3.csv   trips_2019_4_03.csv\n",
            "trips_2019_1_22.csv  trips_2019_2_4.csv   trips_2019_4_04.csv\n",
            "trips_2019_1_23.csv  trips_2019_2_5.csv   trips_2019_4_05.csv\n",
            "trips_2019_1_24.csv  trips_2019_2_6.csv   trips_2019_4_06.csv\n",
            "trips_2019_1_25.csv  trips_2019_2_7.csv   trips_2019_4_07.csv\n",
            "trips_2019_1_26.csv  trips_2019_2_8.csv   trips_2019_4_08.csv\n",
            "trips_2019_1_27.csv  trips_2019_2_9.csv   trips_2019_4_09.csv\n",
            "trips_2019_1_28.csv  trips_2019_3_10.csv  trips_2019_4_10.csv\n",
            "trips_2019_1_29.csv  trips_2019_3_11.csv  trips_2019_4_11.csv\n",
            "trips_2019_1_2.csv   trips_2019_3_12.csv  trips_2019_4_12.csv\n",
            "trips_2019_1_30.csv  trips_2019_3_13.csv  trips_2019_4_13.csv\n",
            "trips_2019_1_31.csv  trips_2019_3_14.csv  trips_2019_4_14.csv\n",
            "trips_2019_1_3.csv   trips_2019_3_15.csv  trips_2019_4_15.csv\n",
            "trips_2019_1_4.csv   trips_2019_3_16.csv  trips_2019_4_16.csv\n",
            "trips_2019_1_5.csv   trips_2019_3_17.csv  trips_2019_4_17.csv\n",
            "trips_2019_1_6.csv   trips_2019_3_18.csv  trips_2019_4_18.csv\n",
            "trips_2019_1_7.csv   trips_2019_3_19.csv  trips_2019_4_19.csv\n",
            "trips_2019_1_8.csv   trips_2019_3_1.csv   trips_2019_4_20.csv\n",
            "trips_2019_1_9.csv   trips_2019_3_20.csv  trips_2019_4_21.csv\n",
            "trips_2019_2_10.csv  trips_2019_3_21.csv  trips_2019_4_22.csv\n",
            "trips_2019_2_11.csv  trips_2019_3_22.csv  trips_2019_4_23.csv\n",
            "trips_2019_2_12.csv  trips_2019_3_23.csv  trips_2019_4_24.csv\n",
            "trips_2019_2_13.csv  trips_2019_3_24.csv  trips_2019_4_25.csv\n",
            "trips_2019_2_14.csv  trips_2019_3_25.csv  trips_2019_4_26.csv\n",
            "trips_2019_2_15.csv  trips_2019_3_26.csv  trips_2019_4_27.csv\n",
            "trips_2019_2_16.csv  trips_2019_3_27.csv  trips_2019_4_28.csv\n",
            "trips_2019_2_17.csv  trips_2019_3_28.csv  trips_2019_4_29.csv\n",
            "trips_2019_2_18.csv  trips_2019_3_29.csv  trips_2019_4_30.csv\n"
          ]
        }
      ]
    },
    {
      "cell_type": "code",
      "metadata": {
        "id": "n9T7XzYNz8R9"
      },
      "source": [
        "tripPath = '/content/drive/My Drive/2021 Route Prediction/Project-1/Source-Code/data/trips_and_stops_NE_2019'\n",
        "districtPath = '/content/drive/My Drive/2021 Route Prediction/Project-1/Source-Code/data/District_NE.geojson'"
      ],
      "execution_count": 5,
      "outputs": []
    },
    {
      "cell_type": "code",
      "metadata": {
        "colab": {
          "base_uri": "https://localhost:8080/",
          "height": 589
        },
        "id": "GOZrTr_xvutQ",
        "outputId": "9af6cb52-cd6d-47ae-de56-1393694687ca"
      },
      "source": [
        "district_NE = gpd.read_file(districtPath)\n",
        "district_NE"
      ],
      "execution_count": 6,
      "outputs": [
        {
          "output_type": "execute_result",
          "data": {
            "text/html": [
              "<div>\n",
              "<style scoped>\n",
              "    .dataframe tbody tr th:only-of-type {\n",
              "        vertical-align: middle;\n",
              "    }\n",
              "\n",
              "    .dataframe tbody tr th {\n",
              "        vertical-align: top;\n",
              "    }\n",
              "\n",
              "    .dataframe thead th {\n",
              "        text-align: right;\n",
              "    }\n",
              "</style>\n",
              "<table border=\"1\" class=\"dataframe\">\n",
              "  <thead>\n",
              "    <tr style=\"text-align: right;\">\n",
              "      <th></th>\n",
              "      <th>AMP_CODE</th>\n",
              "      <th>PRV_CODE</th>\n",
              "      <th>AMP_NAME_T</th>\n",
              "      <th>AMP_NAME_E</th>\n",
              "      <th>Shape_Leng</th>\n",
              "      <th>Shape_Area</th>\n",
              "      <th>geometry</th>\n",
              "    </tr>\n",
              "  </thead>\n",
              "  <tbody>\n",
              "    <tr>\n",
              "      <th>0</th>\n",
              "      <td>3001</td>\n",
              "      <td>30</td>\n",
              "      <td>เมืองนครราชสีมา</td>\n",
              "      <td>Mueang Nakhon Ratchasima</td>\n",
              "      <td>160600.306403</td>\n",
              "      <td>8.856562e+08</td>\n",
              "      <td>POLYGON ((102.18341 15.13798, 102.18298 15.137...</td>\n",
              "    </tr>\n",
              "    <tr>\n",
              "      <th>1</th>\n",
              "      <td>3002</td>\n",
              "      <td>30</td>\n",
              "      <td>ครบุรี</td>\n",
              "      <td>Khon Buri</td>\n",
              "      <td>261136.836300</td>\n",
              "      <td>2.168627e+09</td>\n",
              "      <td>POLYGON ((102.15081 14.61461, 102.15115 14.614...</td>\n",
              "    </tr>\n",
              "    <tr>\n",
              "      <th>2</th>\n",
              "      <td>3003</td>\n",
              "      <td>30</td>\n",
              "      <td>เสิงสาง</td>\n",
              "      <td>Soeng Sang</td>\n",
              "      <td>181829.710406</td>\n",
              "      <td>1.097496e+09</td>\n",
              "      <td>POLYGON ((102.49675 14.50541, 102.49686 14.505...</td>\n",
              "    </tr>\n",
              "    <tr>\n",
              "      <th>3</th>\n",
              "      <td>3004</td>\n",
              "      <td>30</td>\n",
              "      <td>คง</td>\n",
              "      <td>Khong</td>\n",
              "      <td>208115.123225</td>\n",
              "      <td>7.534105e+08</td>\n",
              "      <td>POLYGON ((102.27233 15.53663, 102.27538 15.536...</td>\n",
              "    </tr>\n",
              "    <tr>\n",
              "      <th>4</th>\n",
              "      <td>3005</td>\n",
              "      <td>30</td>\n",
              "      <td>บ้านเหลื่อม</td>\n",
              "      <td>Ban Lueam</td>\n",
              "      <td>88918.433064</td>\n",
              "      <td>2.569881e+08</td>\n",
              "      <td>POLYGON ((102.12032 15.64497, 102.12072 15.644...</td>\n",
              "    </tr>\n",
              "    <tr>\n",
              "      <th>...</th>\n",
              "      <td>...</td>\n",
              "      <td>...</td>\n",
              "      <td>...</td>\n",
              "      <td>...</td>\n",
              "      <td>...</td>\n",
              "      <td>...</td>\n",
              "      <td>...</td>\n",
              "    </tr>\n",
              "    <tr>\n",
              "      <th>316</th>\n",
              "      <td>3902</td>\n",
              "      <td>39</td>\n",
              "      <td>นากลาง</td>\n",
              "      <td>Na Klang</td>\n",
              "      <td>190622.272867</td>\n",
              "      <td>7.934911e+08</td>\n",
              "      <td>POLYGON ((102.13153 17.49852, 102.13277 17.498...</td>\n",
              "    </tr>\n",
              "    <tr>\n",
              "      <th>317</th>\n",
              "      <td>3903</td>\n",
              "      <td>39</td>\n",
              "      <td>โนนสัง</td>\n",
              "      <td>Non Sang</td>\n",
              "      <td>127457.559383</td>\n",
              "      <td>7.620915e+08</td>\n",
              "      <td>POLYGON ((102.62819 17.01421, 102.62874 17.013...</td>\n",
              "    </tr>\n",
              "    <tr>\n",
              "      <th>318</th>\n",
              "      <td>3904</td>\n",
              "      <td>39</td>\n",
              "      <td>ศรีบุญเรือง</td>\n",
              "      <td>Si Bun Rueang</td>\n",
              "      <td>253122.478708</td>\n",
              "      <td>1.053086e+09</td>\n",
              "      <td>POLYGON ((102.06074 17.20408, 102.06092 17.204...</td>\n",
              "    </tr>\n",
              "    <tr>\n",
              "      <th>319</th>\n",
              "      <td>3905</td>\n",
              "      <td>39</td>\n",
              "      <td>สุวรรณคูหา</td>\n",
              "      <td>Suwannakhuha</td>\n",
              "      <td>142751.437069</td>\n",
              "      <td>6.590840e+08</td>\n",
              "      <td>POLYGON ((102.31839 17.67681, 102.31874 17.667...</td>\n",
              "    </tr>\n",
              "    <tr>\n",
              "      <th>320</th>\n",
              "      <td>3906</td>\n",
              "      <td>39</td>\n",
              "      <td>นาวัง</td>\n",
              "      <td>Na Wang</td>\n",
              "      <td>112804.483987</td>\n",
              "      <td>3.119587e+08</td>\n",
              "      <td>POLYGON ((102.11180 17.48183, 102.12026 17.467...</td>\n",
              "    </tr>\n",
              "  </tbody>\n",
              "</table>\n",
              "<p>321 rows × 7 columns</p>\n",
              "</div>"
            ],
            "text/plain": [
              "    AMP_CODE  ...                                           geometry\n",
              "0       3001  ...  POLYGON ((102.18341 15.13798, 102.18298 15.137...\n",
              "1       3002  ...  POLYGON ((102.15081 14.61461, 102.15115 14.614...\n",
              "2       3003  ...  POLYGON ((102.49675 14.50541, 102.49686 14.505...\n",
              "3       3004  ...  POLYGON ((102.27233 15.53663, 102.27538 15.536...\n",
              "4       3005  ...  POLYGON ((102.12032 15.64497, 102.12072 15.644...\n",
              "..       ...  ...                                                ...\n",
              "316     3902  ...  POLYGON ((102.13153 17.49852, 102.13277 17.498...\n",
              "317     3903  ...  POLYGON ((102.62819 17.01421, 102.62874 17.013...\n",
              "318     3904  ...  POLYGON ((102.06074 17.20408, 102.06092 17.204...\n",
              "319     3905  ...  POLYGON ((102.31839 17.67681, 102.31874 17.667...\n",
              "320     3906  ...  POLYGON ((102.11180 17.48183, 102.12026 17.467...\n",
              "\n",
              "[321 rows x 7 columns]"
            ]
          },
          "metadata": {},
          "execution_count": 6
        }
      ]
    },
    {
      "cell_type": "markdown",
      "metadata": {
        "id": "hZaLWvxr6bo8"
      },
      "source": [
        "#Algorithm"
      ]
    },
    {
      "cell_type": "code",
      "metadata": {
        "id": "smVIyxf36d7e"
      },
      "source": [
        "def check_district(lon,lat):\n",
        "  data = zip(district_NE.geometry,district_NE.AMP_NAME_T)\n",
        "  point = Point(lon,lat)\n",
        "  for index in data:\n",
        "    if point.within(index[0]):\n",
        "      return index[1]\n",
        "  return False"
      ],
      "execution_count": 8,
      "outputs": []
    },
    {
      "cell_type": "code",
      "metadata": {
        "colab": {
          "base_uri": "https://localhost:8080/",
          "height": 34
        },
        "id": "qY9aTPQG7Vjv",
        "outputId": "7413e7a9-f561-4056-9746-a60c2db36283"
      },
      "source": [
        "check_district(102.151459,14.915597)"
      ],
      "execution_count": 9,
      "outputs": [
        {
          "output_type": "execute_result",
          "data": {
            "application/vnd.google.colaboratory.intrinsic+json": {
              "type": "string"
            },
            "text/plain": [
              "'เมืองนครราชสีมา'"
            ]
          },
          "metadata": {},
          "execution_count": 9
        }
      ]
    },
    {
      "cell_type": "markdown",
      "metadata": {
        "id": "qswGGzNKA42Q"
      },
      "source": [
        "#Feature"
      ]
    },
    {
      "cell_type": "code",
      "metadata": {
        "id": "NQCelhclDftL",
        "colab": {
          "base_uri": "https://localhost:8080/"
        },
        "outputId": "cf8afe99-5987-4be6-d307-01d7a563e3fe"
      },
      "source": [
        "Path = '/content/drive/My Drive/2021 Route Prediction/Project-1/Source-Code/data/Feature_trips'\n",
        "days = range(1,32)\n",
        "month = 1\n",
        "for day in days:\n",
        "    export_filename = Path + f'/trips_2019_{month}_{day}.csv'\n",
        "\n",
        "      #### check file exists\n",
        "    if os.path.exists(export_filename):\n",
        "      print(f'trips_2019_{month}_{day}.csv already taken!!')\n",
        "      continue\n",
        "    else:\n",
        "      with open(export_filename, 'w') as fp:\n",
        "        pass\n",
        "      if os.path.exists(export_filename):\n",
        "        print(f'trips_2019_{month}_{day}.csv creating...')\n",
        "        pass\n",
        "\n",
        "    filenames = '/content/drive/My Drive/2021 Route Prediction/Project-1/Source-Code/data/trips_and_stops_NE_2019/' + f'trips_2019_{month}_{day}.csv'\n",
        "    trip = pd.read_csv(filenames)\n",
        "\n",
        "    #district\n",
        "    cood = zip(trip.lon,trip.lat)\n",
        "    i = 0\n",
        "    for data in cood:\n",
        "      trip.loc[i,'district'] = check_district(data[0],data[1])\n",
        "      i = i + 1\n",
        "    \n",
        "    #days\n",
        "    trip.time_stamp = trip.time_stamp.astype(\"datetime64\")\n",
        "    if trip.loc[0].time_stamp.day_name() == 'Monday':\n",
        "      trip['day'] = 0\n",
        "    if (trip.loc[0].time_stamp.day_name() == 'Tuesday') or (trip.loc[0].time_stamp.day_name() == 'Wednesday') or (trip.loc[0].time_stamp.day_name() == 'Thursday'):\n",
        "      trip['day'] = 1\n",
        "    if trip.loc[0].time_stamp.day_name() == 'Friday':\n",
        "      trip['day'] = 2\n",
        "    if trip.loc[0].time_stamp.day_name() == 'Saturday' or (trip.loc[0].time_stamp.day_name() == 'Sunday'):\n",
        "      trip['day'] = 3\n",
        "\n",
        "    trip.to_csv(export_filename, encoding='utf-8', index = False)\n",
        "    print(f'trips {month} {day} done')\n"
      ],
      "execution_count": null,
      "outputs": [
        {
          "output_type": "stream",
          "name": "stdout",
          "text": [
            "trips_2019_1_1.csv creating...\n"
          ]
        }
      ]
    }
  ]
}