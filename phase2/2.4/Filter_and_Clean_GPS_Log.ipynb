{
  "nbformat": 4,
  "nbformat_minor": 0,
  "metadata": {
    "colab": {
      "name": "Filter and Clean GPS Log.ipynb",
      "provenance": [],
      "collapsed_sections": [
        "GjnZ2JAwRpJx"
      ],
      "toc_visible": true
    },
    "kernelspec": {
      "display_name": "Python 3",
      "name": "python3"
    },
    "language_info": {
      "name": "python"
    }
  },
  "cells": [
    {
      "cell_type": "markdown",
      "metadata": {
        "id": "WHkF000dRnn9"
      },
      "source": [
        "#install"
      ]
    },
    {
      "cell_type": "code",
      "metadata": {
        "colab": {
          "base_uri": "https://localhost:8080/"
        },
        "id": "DSnaPjUBzFdm",
        "outputId": "9291a166-f0f2-47ea-fd31-c0de663694d3"
      },
      "source": [
        "# Important library for many geopython libraries\n",
        "!apt install gdal-bin python-gdal python3-gdal \n",
        "# Install rtree - Geopandas requirment\n",
        "!apt install python3-rtree \n",
        "# Install Geopandas\n",
        "!pip install git+git://github.com/geopandas/geopandas.git\n",
        "# Install descartes - Geopandas requirment\n",
        "!pip install descartes "
      ],
      "execution_count": 1,
      "outputs": [
        {
          "output_type": "stream",
          "name": "stdout",
          "text": [
            "Reading package lists... Done\n",
            "Building dependency tree       \n",
            "Reading state information... Done\n",
            "gdal-bin is already the newest version (2.2.3+dfsg-2).\n",
            "python-gdal is already the newest version (2.2.3+dfsg-2).\n",
            "python3-gdal is already the newest version (2.2.3+dfsg-2).\n",
            "0 upgraded, 0 newly installed, 0 to remove and 37 not upgraded.\n",
            "Reading package lists... Done\n",
            "Building dependency tree       \n",
            "Reading state information... Done\n",
            "python3-rtree is already the newest version (0.8.3+ds-1).\n",
            "0 upgraded, 0 newly installed, 0 to remove and 37 not upgraded.\n",
            "Collecting git+git://github.com/geopandas/geopandas.git\n",
            "  Cloning git://github.com/geopandas/geopandas.git to /tmp/pip-req-build-vgyd2jl6\n",
            "  Running command git clone -q git://github.com/geopandas/geopandas.git /tmp/pip-req-build-vgyd2jl6\n",
            "Requirement already satisfied: pandas>=0.25.0 in /usr/local/lib/python3.7/dist-packages (from geopandas==0.9.0+101.g64c5813) (1.1.5)\n",
            "Requirement already satisfied: shapely>=1.6 in /usr/local/lib/python3.7/dist-packages (from geopandas==0.9.0+101.g64c5813) (1.7.1)\n",
            "Requirement already satisfied: fiona>=1.8 in /usr/local/lib/python3.7/dist-packages (from geopandas==0.9.0+101.g64c5813) (1.8.20)\n",
            "Requirement already satisfied: pyproj>=2.2.0 in /usr/local/lib/python3.7/dist-packages (from geopandas==0.9.0+101.g64c5813) (3.2.1)\n",
            "Requirement already satisfied: certifi in /usr/local/lib/python3.7/dist-packages (from fiona>=1.8->geopandas==0.9.0+101.g64c5813) (2021.5.30)\n",
            "Requirement already satisfied: click>=4.0 in /usr/local/lib/python3.7/dist-packages (from fiona>=1.8->geopandas==0.9.0+101.g64c5813) (7.1.2)\n",
            "Requirement already satisfied: cligj>=0.5 in /usr/local/lib/python3.7/dist-packages (from fiona>=1.8->geopandas==0.9.0+101.g64c5813) (0.7.2)\n",
            "Requirement already satisfied: munch in /usr/local/lib/python3.7/dist-packages (from fiona>=1.8->geopandas==0.9.0+101.g64c5813) (2.5.0)\n",
            "Requirement already satisfied: click-plugins>=1.0 in /usr/local/lib/python3.7/dist-packages (from fiona>=1.8->geopandas==0.9.0+101.g64c5813) (1.1.1)\n",
            "Requirement already satisfied: setuptools in /usr/local/lib/python3.7/dist-packages (from fiona>=1.8->geopandas==0.9.0+101.g64c5813) (57.4.0)\n",
            "Requirement already satisfied: attrs>=17 in /usr/local/lib/python3.7/dist-packages (from fiona>=1.8->geopandas==0.9.0+101.g64c5813) (21.2.0)\n",
            "Requirement already satisfied: six>=1.7 in /usr/local/lib/python3.7/dist-packages (from fiona>=1.8->geopandas==0.9.0+101.g64c5813) (1.15.0)\n",
            "Requirement already satisfied: pytz>=2017.2 in /usr/local/lib/python3.7/dist-packages (from pandas>=0.25.0->geopandas==0.9.0+101.g64c5813) (2018.9)\n",
            "Requirement already satisfied: python-dateutil>=2.7.3 in /usr/local/lib/python3.7/dist-packages (from pandas>=0.25.0->geopandas==0.9.0+101.g64c5813) (2.8.2)\n",
            "Requirement already satisfied: numpy>=1.15.4 in /usr/local/lib/python3.7/dist-packages (from pandas>=0.25.0->geopandas==0.9.0+101.g64c5813) (1.19.5)\n",
            "Requirement already satisfied: descartes in /usr/local/lib/python3.7/dist-packages (1.1.0)\n",
            "Requirement already satisfied: matplotlib in /usr/local/lib/python3.7/dist-packages (from descartes) (3.2.2)\n",
            "Requirement already satisfied: kiwisolver>=1.0.1 in /usr/local/lib/python3.7/dist-packages (from matplotlib->descartes) (1.3.2)\n",
            "Requirement already satisfied: python-dateutil>=2.1 in /usr/local/lib/python3.7/dist-packages (from matplotlib->descartes) (2.8.2)\n",
            "Requirement already satisfied: numpy>=1.11 in /usr/local/lib/python3.7/dist-packages (from matplotlib->descartes) (1.19.5)\n",
            "Requirement already satisfied: cycler>=0.10 in /usr/local/lib/python3.7/dist-packages (from matplotlib->descartes) (0.10.0)\n",
            "Requirement already satisfied: pyparsing!=2.0.4,!=2.1.2,!=2.1.6,>=2.0.1 in /usr/local/lib/python3.7/dist-packages (from matplotlib->descartes) (2.4.7)\n",
            "Requirement already satisfied: six in /usr/local/lib/python3.7/dist-packages (from cycler>=0.10->matplotlib->descartes) (1.15.0)\n"
          ]
        }
      ]
    },
    {
      "cell_type": "code",
      "metadata": {
        "colab": {
          "base_uri": "https://localhost:8080/"
        },
        "id": "yimIr6y-R1VZ",
        "outputId": "e8b0fc68-9d11-45e9-8eab-6c9e21fe0f06"
      },
      "source": [
        "from shapely.geometry import Point,Polygon\n",
        "import pandas as pd\n",
        "import numpy as np\n",
        "import geopandas as gpd\n",
        "import matplotlib\n",
        "import matplotlib.pyplot as plt \n",
        "from google.colab import drive\n",
        "import glob\n",
        "import re\n",
        "import os\n",
        "from os.path import exists\n",
        "drive.mount('/content/drive')"
      ],
      "execution_count": 2,
      "outputs": [
        {
          "output_type": "stream",
          "name": "stdout",
          "text": [
            "Drive already mounted at /content/drive; to attempt to forcibly remount, call drive.mount(\"/content/drive\", force_remount=True).\n"
          ]
        }
      ]
    },
    {
      "cell_type": "markdown",
      "metadata": {
        "id": "GjnZ2JAwRpJx"
      },
      "source": [
        "#read"
      ]
    },
    {
      "cell_type": "code",
      "metadata": {
        "id": "TQkSFDwNRqQI"
      },
      "source": [
        "district_NE_path = \"/content/drive/My Drive/2021 Route Prediction/Project-1/Source-Code/data/District_NE.geojson\"\n",
        "Province_Boundary = \"/content/drive/My Drive/2 Boundary/1-1_Province_Boundary_-_mitrearth.shp\""
      ],
      "execution_count": 3,
      "outputs": []
    },
    {
      "cell_type": "code",
      "metadata": {
        "id": "_yJ00sQPZQbO"
      },
      "source": [
        "district_NE = gpd.read_file(district_NE_path)\n",
        "province = gpd.read_file(Province_Boundary)"
      ],
      "execution_count": 4,
      "outputs": []
    },
    {
      "cell_type": "code",
      "metadata": {
        "id": "aO2bbK7WnQ7B"
      },
      "source": [
        "province_NE = province[province.PART == 'NE']"
      ],
      "execution_count": 5,
      "outputs": []
    },
    {
      "cell_type": "markdown",
      "metadata": {
        "id": "zSTjUB__Zz4i"
      },
      "source": [
        "#Algorithm for province"
      ]
    },
    {
      "cell_type": "code",
      "metadata": {
        "id": "3m3PDKfBca1Y"
      },
      "source": [
        "def check_district(lon,lat):\n",
        "  point = Point(lon,lat)\n",
        "  for index in province_NE.index:\n",
        "    if point.within(province_NE.loc[index,'geometry']):\n",
        "      return True\n",
        "  return False"
      ],
      "execution_count": 6,
      "outputs": []
    },
    {
      "cell_type": "code",
      "metadata": {
        "colab": {
          "base_uri": "https://localhost:8080/"
        },
        "id": "a3DEJ1US8GjE",
        "outputId": "21e79827-1906-417a-cc6b-fb2a640f51c5"
      },
      "source": [
        "check_district(103.423698,15.916181)"
      ],
      "execution_count": 7,
      "outputs": [
        {
          "output_type": "execute_result",
          "data": {
            "text/plain": [
              "True"
            ]
          },
          "metadata": {},
          "execution_count": 7
        }
      ]
    },
    {
      "cell_type": "markdown",
      "metadata": {
        "id": "nGULNEI0Z5uI"
      },
      "source": [
        "#Filter NE"
      ]
    },
    {
      "cell_type": "code",
      "metadata": {
        "colab": {
          "base_uri": "https://localhost:8080/"
        },
        "id": "AGQp7eH1aJnC",
        "outputId": "18e10118-6998-486f-c628-95b37ae802e7"
      },
      "source": [
        "!ls \"/content/drive/My Drive/gps_copy/2019-01\""
      ],
      "execution_count": 8,
      "outputs": [
        {
          "output_type": "stream",
          "name": "stdout",
          "text": [
            "2019-01-01_00.zip  2019-01-08_18.zip  2019-01-16_12.zip  2019-01-24_06.zip\n",
            "2019-01-01_03.zip  2019-01-08_21.zip  2019-01-16_15.zip  2019-01-24_09.zip\n",
            "2019-01-01_06.zip  2019-01-09_00.zip  2019-01-16_18.zip  2019-01-24_12.zip\n",
            "2019-01-01_09.zip  2019-01-09_03.zip  2019-01-16_21.zip  2019-01-24_15.zip\n",
            "2019-01-01_12.zip  2019-01-09_06.zip  2019-01-17_00.zip  2019-01-24_18.zip\n",
            "2019-01-01_15.zip  2019-01-09_09.zip  2019-01-17_03.zip  2019-01-24_21.zip\n",
            "2019-01-01_18.zip  2019-01-09_12.zip  2019-01-17_06.zip  2019-01-25_00.zip\n",
            "2019-01-01_21.zip  2019-01-09_15.zip  2019-01-17_09.zip  2019-01-25_03.zip\n",
            "2019-01-02_00.zip  2019-01-09_18.zip  2019-01-17_12.zip  2019-01-25_06.zip\n",
            "2019-01-02_03.zip  2019-01-09_21.zip  2019-01-17_15.zip  2019-01-25_09.zip\n",
            "2019-01-02_06.zip  2019-01-10_00.zip  2019-01-17_18.zip  2019-01-25_12.zip\n",
            "2019-01-02_09.zip  2019-01-10_03.zip  2019-01-17_21.zip  2019-01-25_15.zip\n",
            "2019-01-02_12.zip  2019-01-10_06.zip  2019-01-18_00.zip  2019-01-25_18.zip\n",
            "2019-01-02_15.zip  2019-01-10_09.zip  2019-01-18_03.zip  2019-01-25_21.zip\n",
            "2019-01-02_18.zip  2019-01-10_12.zip  2019-01-18_06.zip  2019-01-26_00.zip\n",
            "2019-01-02_21.zip  2019-01-10_15.zip  2019-01-18_09.zip  2019-01-26_03.zip\n",
            "2019-01-03_00.zip  2019-01-10_18.zip  2019-01-18_12.zip  2019-01-26_06.zip\n",
            "2019-01-03_03.zip  2019-01-10_21.zip  2019-01-18_15.zip  2019-01-26_09.zip\n",
            "2019-01-03_06.zip  2019-01-11_00.zip  2019-01-18_18.zip  2019-01-26_12.zip\n",
            "2019-01-03_09.zip  2019-01-11_03.zip  2019-01-18_21.zip  2019-01-26_15.zip\n",
            "2019-01-03_12.zip  2019-01-11_06.zip  2019-01-19_00.zip  2019-01-26_18.zip\n",
            "2019-01-03_15.zip  2019-01-11_09.zip  2019-01-19_03.zip  2019-01-26_21.zip\n",
            "2019-01-03_18.zip  2019-01-11_12.zip  2019-01-19_06.zip  2019-01-27_00.zip\n",
            "2019-01-03_21.zip  2019-01-11_15.zip  2019-01-19_09.zip  2019-01-27_03.zip\n",
            "2019-01-04_00.zip  2019-01-11_18.zip  2019-01-19_12.zip  2019-01-27_06.zip\n",
            "2019-01-04_03.zip  2019-01-11_21.zip  2019-01-19_15.zip  2019-01-27_09.zip\n",
            "2019-01-04_06.zip  2019-01-12_00.zip  2019-01-19_18.zip  2019-01-27_12.zip\n",
            "2019-01-04_09.zip  2019-01-12_03.zip  2019-01-19_21.zip  2019-01-27_15.zip\n",
            "2019-01-04_12.zip  2019-01-12_06.zip  2019-01-20_00.zip  2019-01-27_18.zip\n",
            "2019-01-04_15.zip  2019-01-12_09.zip  2019-01-20_03.zip  2019-01-27_21.zip\n",
            "2019-01-04_18.zip  2019-01-12_12.zip  2019-01-20_06.zip  2019-01-28_00.zip\n",
            "2019-01-04_21.zip  2019-01-12_15.zip  2019-01-20_09.zip  2019-01-28_03.zip\n",
            "2019-01-05_00.zip  2019-01-12_18.zip  2019-01-20_12.zip  2019-01-28_06.zip\n",
            "2019-01-05_03.zip  2019-01-12_21.zip  2019-01-20_15.zip  2019-01-28_09.zip\n",
            "2019-01-05_06.zip  2019-01-13_00.zip  2019-01-20_18.zip  2019-01-28_12.zip\n",
            "2019-01-05_09.zip  2019-01-13_03.zip  2019-01-20_21.zip  2019-01-28_15.zip\n",
            "2019-01-05_12.zip  2019-01-13_06.zip  2019-01-21_00.zip  2019-01-28_18.zip\n",
            "2019-01-05_15.zip  2019-01-13_09.zip  2019-01-21_03.zip  2019-01-28_21.zip\n",
            "2019-01-05_18.zip  2019-01-13_12.zip  2019-01-21_06.zip  2019-01-29_00.zip\n",
            "2019-01-05_21.zip  2019-01-13_15.zip  2019-01-21_09.zip  2019-01-29_03.zip\n",
            "2019-01-06_00.zip  2019-01-13_18.zip  2019-01-21_12.zip  2019-01-29_06.zip\n",
            "2019-01-06_03.zip  2019-01-13_21.zip  2019-01-21_15.zip  2019-01-29_09.zip\n",
            "2019-01-06_06.zip  2019-01-14_00.zip  2019-01-21_18.zip  2019-01-29_12.zip\n",
            "2019-01-06_09.zip  2019-01-14_03.zip  2019-01-21_21.zip  2019-01-29_15.zip\n",
            "2019-01-06_12.zip  2019-01-14_06.zip  2019-01-22_00.zip  2019-01-29_18.zip\n",
            "2019-01-06_15.zip  2019-01-14_09.zip  2019-01-22_03.zip  2019-01-29_21.zip\n",
            "2019-01-06_18.zip  2019-01-14_12.zip  2019-01-22_06.zip  2019-01-30_00.zip\n",
            "2019-01-06_21.zip  2019-01-14_15.zip  2019-01-22_09.zip  2019-01-30_03.zip\n",
            "2019-01-07_00.zip  2019-01-14_18.zip  2019-01-22_12.zip  2019-01-30_06.zip\n",
            "2019-01-07_03.zip  2019-01-14_21.zip  2019-01-22_15.zip  2019-01-30_09.zip\n",
            "2019-01-07_06.zip  2019-01-15_00.zip  2019-01-22_18.zip  2019-01-30_12.zip\n",
            "2019-01-07_09.zip  2019-01-15_03.zip  2019-01-22_21.zip  2019-01-30_15.zip\n",
            "2019-01-07_12.zip  2019-01-15_06.zip  2019-01-23_00.zip  2019-01-30_18.zip\n",
            "2019-01-07_15.zip  2019-01-15_09.zip  2019-01-23_03.zip  2019-01-30_21.zip\n",
            "2019-01-07_18.zip  2019-01-15_12.zip  2019-01-23_06.zip  2019-01-31_00.zip\n",
            "2019-01-07_21.zip  2019-01-15_15.zip  2019-01-23_09.zip  2019-01-31_03.zip\n",
            "2019-01-08_00.zip  2019-01-15_18.zip  2019-01-23_12.zip  2019-01-31_06.zip\n",
            "2019-01-08_03.zip  2019-01-15_21.zip  2019-01-23_15.zip  2019-01-31_09.zip\n",
            "2019-01-08_06.zip  2019-01-16_00.zip  2019-01-23_18.zip  2019-01-31_12.zip\n",
            "2019-01-08_09.zip  2019-01-16_03.zip  2019-01-23_21.zip  2019-01-31_15.zip\n",
            "2019-01-08_12.zip  2019-01-16_06.zip  2019-01-24_00.zip  2019-01-31_18.zip\n",
            "2019-01-08_15.zip  2019-01-16_09.zip  2019-01-24_03.zip  2019-01-31_21.zip\n"
          ]
        }
      ]
    },
    {
      "cell_type": "code",
      "metadata": {
        "id": "pMqrnYsi1vSj"
      },
      "source": [
        "path =  '/content/drive/My Drive/2021 Route Prediction/Project-1/Source-Code/data/gps_log_NE_2019_01'"
      ],
      "execution_count": 9,
      "outputs": []
    },
    {
      "cell_type": "code",
      "metadata": {
        "colab": {
          "base_uri": "https://localhost:8080/",
          "height": 392
        },
        "id": "3dXIPtgN0B-k",
        "outputId": "9e98c44d-ae02-42b1-b058-c69c038dd1a4"
      },
      "source": [
        "days = range(1,32)\n",
        "month = 1\n",
        "for day in days:\n",
        "  export_filename = path + f'/2019_{month}_{day}.csv'\n",
        "\n",
        "  #### check file exists\n",
        "  if os.path.exists(export_filename):\n",
        "    print(f'gps_log_2019_{month}_{day}.csv already taken!!')\n",
        "    continue\n",
        "  else:\n",
        "    with open(export_filename, 'w') as fp:\n",
        "      pass\n",
        "    if os.path.exists(export_filename):\n",
        "      print(f'gps_log_2019_{month}_{day}.csv creating...')\n",
        "      pass\n",
        "\n",
        "  #### read gps log zip\n",
        "  filenames = glob.glob('/content/drive/My Drive/gps_copy/2019-01/*')\n",
        "  filenames = [f for f in filenames if re.search(re.compile('/2019-0?('+ str(month) +')-0?(' + str(day) + ')_[0-2][0-9]\\.zip$'), f)]\n",
        "  filenames = sorted(filenames)\n",
        "\n",
        "  dfs = []\n",
        "  for filename in filenames:\n",
        "    gps = pd.read_csv(filename, compression='zip')\n",
        "\n",
        "    # clean\n",
        "    gps = gps[gps['unit_type'] != 1.0]\n",
        "    gps = gps.dropna()\n",
        "    gps = gps.drop_duplicates()\n",
        "    gps = gps.drop_duplicates(subset=['time_stamp', 'unit_id'], keep=\"last\")\n",
        "    gps = gps.loc[gps['lat'] > 14.112976]\n",
        "    gps = gps.loc[gps['lon'] > 100.832301]\n",
        "\n",
        "    # filter\n",
        "    msk_NE = []\n",
        "    for index,row in gps.iterrows():\n",
        "     if check_district(row.lon,row.lat):\n",
        "       msk_NE.append(True)\n",
        "     else:\n",
        "       msk_NE.append(False)\n",
        "\n",
        "    gps = gps[msk_NE]\n",
        "\n",
        "    #add time to 1 day \n",
        "    dfs.append(gps)\n",
        "\n",
        "  #export  \n",
        "  gps = pd.concat(dfs, ignore_index=True)\n",
        "  print(f'count 2019-{month}-{day} : ',len(gps))\n",
        "  \n",
        "  gps.to_csv(export_filename, encoding='utf-8', index = False)"
      ],
      "execution_count": 10,
      "outputs": [
        {
          "output_type": "stream",
          "name": "stdout",
          "text": [
            "gps_log_2019_1_1.csv creating...\n"
          ]
        },
        {
          "output_type": "error",
          "ename": "KeyboardInterrupt",
          "evalue": "ignored",
          "traceback": [
            "\u001b[0;31m---------------------------------------------------------------------------\u001b[0m",
            "\u001b[0;31mKeyboardInterrupt\u001b[0m                         Traceback (most recent call last)",
            "\u001b[0;32m<ipython-input-10-c10abd01865a>\u001b[0m in \u001b[0;36m<module>\u001b[0;34m()\u001b[0m\n\u001b[1;32m     35\u001b[0m     \u001b[0mmsk_NE\u001b[0m \u001b[0;34m=\u001b[0m \u001b[0;34m[\u001b[0m\u001b[0;34m]\u001b[0m\u001b[0;34m\u001b[0m\u001b[0;34m\u001b[0m\u001b[0m\n\u001b[1;32m     36\u001b[0m     \u001b[0;32mfor\u001b[0m \u001b[0mindex\u001b[0m\u001b[0;34m,\u001b[0m\u001b[0mrow\u001b[0m \u001b[0;32min\u001b[0m \u001b[0mgps\u001b[0m\u001b[0;34m.\u001b[0m\u001b[0miterrows\u001b[0m\u001b[0;34m(\u001b[0m\u001b[0;34m)\u001b[0m\u001b[0;34m:\u001b[0m\u001b[0;34m\u001b[0m\u001b[0;34m\u001b[0m\u001b[0m\n\u001b[0;32m---> 37\u001b[0;31m      \u001b[0;32mif\u001b[0m \u001b[0mcheck_district\u001b[0m\u001b[0;34m(\u001b[0m\u001b[0mrow\u001b[0m\u001b[0;34m.\u001b[0m\u001b[0mlon\u001b[0m\u001b[0;34m,\u001b[0m\u001b[0mrow\u001b[0m\u001b[0;34m.\u001b[0m\u001b[0mlat\u001b[0m\u001b[0;34m)\u001b[0m\u001b[0;34m:\u001b[0m\u001b[0;34m\u001b[0m\u001b[0;34m\u001b[0m\u001b[0m\n\u001b[0m\u001b[1;32m     38\u001b[0m        \u001b[0mmsk_NE\u001b[0m\u001b[0;34m.\u001b[0m\u001b[0mappend\u001b[0m\u001b[0;34m(\u001b[0m\u001b[0;32mTrue\u001b[0m\u001b[0;34m)\u001b[0m\u001b[0;34m\u001b[0m\u001b[0;34m\u001b[0m\u001b[0m\n\u001b[1;32m     39\u001b[0m      \u001b[0;32melse\u001b[0m\u001b[0;34m:\u001b[0m\u001b[0;34m\u001b[0m\u001b[0;34m\u001b[0m\u001b[0m\n",
            "\u001b[0;32m<ipython-input-6-8185ae053242>\u001b[0m in \u001b[0;36mcheck_district\u001b[0;34m(lon, lat)\u001b[0m\n\u001b[1;32m      2\u001b[0m   \u001b[0mpoint\u001b[0m \u001b[0;34m=\u001b[0m \u001b[0mPoint\u001b[0m\u001b[0;34m(\u001b[0m\u001b[0mlon\u001b[0m\u001b[0;34m,\u001b[0m\u001b[0mlat\u001b[0m\u001b[0;34m)\u001b[0m\u001b[0;34m\u001b[0m\u001b[0;34m\u001b[0m\u001b[0m\n\u001b[1;32m      3\u001b[0m   \u001b[0;32mfor\u001b[0m \u001b[0mindex\u001b[0m \u001b[0;32min\u001b[0m \u001b[0mprovince_NE\u001b[0m\u001b[0;34m.\u001b[0m\u001b[0mindex\u001b[0m\u001b[0;34m:\u001b[0m\u001b[0;34m\u001b[0m\u001b[0;34m\u001b[0m\u001b[0m\n\u001b[0;32m----> 4\u001b[0;31m     \u001b[0;32mif\u001b[0m \u001b[0mpoint\u001b[0m\u001b[0;34m.\u001b[0m\u001b[0mwithin\u001b[0m\u001b[0;34m(\u001b[0m\u001b[0mprovince_NE\u001b[0m\u001b[0;34m.\u001b[0m\u001b[0mloc\u001b[0m\u001b[0;34m[\u001b[0m\u001b[0mindex\u001b[0m\u001b[0;34m,\u001b[0m\u001b[0;34m'geometry'\u001b[0m\u001b[0;34m]\u001b[0m\u001b[0;34m)\u001b[0m\u001b[0;34m:\u001b[0m\u001b[0;34m\u001b[0m\u001b[0;34m\u001b[0m\u001b[0m\n\u001b[0m\u001b[1;32m      5\u001b[0m       \u001b[0;32mreturn\u001b[0m \u001b[0;32mTrue\u001b[0m\u001b[0;34m\u001b[0m\u001b[0;34m\u001b[0m\u001b[0m\n\u001b[1;32m      6\u001b[0m   \u001b[0;32mreturn\u001b[0m \u001b[0;32mFalse\u001b[0m\u001b[0;34m\u001b[0m\u001b[0;34m\u001b[0m\u001b[0m\n",
            "\u001b[0;32m/usr/local/lib/python3.7/dist-packages/pandas/core/indexing.py\u001b[0m in \u001b[0;36m__getitem__\u001b[0;34m(self, key)\u001b[0m\n\u001b[1;32m    864\u001b[0m     \u001b[0;32mdef\u001b[0m \u001b[0m__getitem__\u001b[0m\u001b[0;34m(\u001b[0m\u001b[0mself\u001b[0m\u001b[0;34m,\u001b[0m \u001b[0mkey\u001b[0m\u001b[0;34m)\u001b[0m\u001b[0;34m:\u001b[0m\u001b[0;34m\u001b[0m\u001b[0;34m\u001b[0m\u001b[0m\n\u001b[1;32m    865\u001b[0m         \u001b[0;32mif\u001b[0m \u001b[0mtype\u001b[0m\u001b[0;34m(\u001b[0m\u001b[0mkey\u001b[0m\u001b[0;34m)\u001b[0m \u001b[0;32mis\u001b[0m \u001b[0mtuple\u001b[0m\u001b[0;34m:\u001b[0m\u001b[0;34m\u001b[0m\u001b[0;34m\u001b[0m\u001b[0m\n\u001b[0;32m--> 866\u001b[0;31m             \u001b[0mkey\u001b[0m \u001b[0;34m=\u001b[0m \u001b[0mtuple\u001b[0m\u001b[0;34m(\u001b[0m\u001b[0mcom\u001b[0m\u001b[0;34m.\u001b[0m\u001b[0mapply_if_callable\u001b[0m\u001b[0;34m(\u001b[0m\u001b[0mx\u001b[0m\u001b[0;34m,\u001b[0m \u001b[0mself\u001b[0m\u001b[0;34m.\u001b[0m\u001b[0mobj\u001b[0m\u001b[0;34m)\u001b[0m \u001b[0;32mfor\u001b[0m \u001b[0mx\u001b[0m \u001b[0;32min\u001b[0m \u001b[0mkey\u001b[0m\u001b[0;34m)\u001b[0m\u001b[0;34m\u001b[0m\u001b[0;34m\u001b[0m\u001b[0m\n\u001b[0m\u001b[1;32m    867\u001b[0m             \u001b[0;32mif\u001b[0m \u001b[0mself\u001b[0m\u001b[0;34m.\u001b[0m\u001b[0m_is_scalar_access\u001b[0m\u001b[0;34m(\u001b[0m\u001b[0mkey\u001b[0m\u001b[0;34m)\u001b[0m\u001b[0;34m:\u001b[0m\u001b[0;34m\u001b[0m\u001b[0;34m\u001b[0m\u001b[0m\n\u001b[1;32m    868\u001b[0m                 \u001b[0;32mtry\u001b[0m\u001b[0;34m:\u001b[0m\u001b[0;34m\u001b[0m\u001b[0;34m\u001b[0m\u001b[0m\n",
            "\u001b[0;32m/usr/local/lib/python3.7/dist-packages/pandas/core/indexing.py\u001b[0m in \u001b[0;36m<genexpr>\u001b[0;34m(.0)\u001b[0m\n\u001b[1;32m    864\u001b[0m     \u001b[0;32mdef\u001b[0m \u001b[0m__getitem__\u001b[0m\u001b[0;34m(\u001b[0m\u001b[0mself\u001b[0m\u001b[0;34m,\u001b[0m \u001b[0mkey\u001b[0m\u001b[0;34m)\u001b[0m\u001b[0;34m:\u001b[0m\u001b[0;34m\u001b[0m\u001b[0;34m\u001b[0m\u001b[0m\n\u001b[1;32m    865\u001b[0m         \u001b[0;32mif\u001b[0m \u001b[0mtype\u001b[0m\u001b[0;34m(\u001b[0m\u001b[0mkey\u001b[0m\u001b[0;34m)\u001b[0m \u001b[0;32mis\u001b[0m \u001b[0mtuple\u001b[0m\u001b[0;34m:\u001b[0m\u001b[0;34m\u001b[0m\u001b[0;34m\u001b[0m\u001b[0m\n\u001b[0;32m--> 866\u001b[0;31m             \u001b[0mkey\u001b[0m \u001b[0;34m=\u001b[0m \u001b[0mtuple\u001b[0m\u001b[0;34m(\u001b[0m\u001b[0mcom\u001b[0m\u001b[0;34m.\u001b[0m\u001b[0mapply_if_callable\u001b[0m\u001b[0;34m(\u001b[0m\u001b[0mx\u001b[0m\u001b[0;34m,\u001b[0m \u001b[0mself\u001b[0m\u001b[0;34m.\u001b[0m\u001b[0mobj\u001b[0m\u001b[0;34m)\u001b[0m \u001b[0;32mfor\u001b[0m \u001b[0mx\u001b[0m \u001b[0;32min\u001b[0m \u001b[0mkey\u001b[0m\u001b[0;34m)\u001b[0m\u001b[0;34m\u001b[0m\u001b[0;34m\u001b[0m\u001b[0m\n\u001b[0m\u001b[1;32m    867\u001b[0m             \u001b[0;32mif\u001b[0m \u001b[0mself\u001b[0m\u001b[0;34m.\u001b[0m\u001b[0m_is_scalar_access\u001b[0m\u001b[0;34m(\u001b[0m\u001b[0mkey\u001b[0m\u001b[0;34m)\u001b[0m\u001b[0;34m:\u001b[0m\u001b[0;34m\u001b[0m\u001b[0;34m\u001b[0m\u001b[0m\n\u001b[1;32m    868\u001b[0m                 \u001b[0;32mtry\u001b[0m\u001b[0;34m:\u001b[0m\u001b[0;34m\u001b[0m\u001b[0;34m\u001b[0m\u001b[0m\n",
            "\u001b[0;32m/usr/local/lib/python3.7/dist-packages/pandas/core/common.py\u001b[0m in \u001b[0;36mapply_if_callable\u001b[0;34m(maybe_callable, obj, **kwargs)\u001b[0m\n\u001b[1;32m    338\u001b[0m     \u001b[0;34m**\u001b[0m\u001b[0mkwargs\u001b[0m\u001b[0;34m\u001b[0m\u001b[0;34m\u001b[0m\u001b[0m\n\u001b[1;32m    339\u001b[0m     \"\"\"\n\u001b[0;32m--> 340\u001b[0;31m     \u001b[0;32mif\u001b[0m \u001b[0mcallable\u001b[0m\u001b[0;34m(\u001b[0m\u001b[0mmaybe_callable\u001b[0m\u001b[0;34m)\u001b[0m\u001b[0;34m:\u001b[0m\u001b[0;34m\u001b[0m\u001b[0;34m\u001b[0m\u001b[0m\n\u001b[0m\u001b[1;32m    341\u001b[0m         \u001b[0;32mreturn\u001b[0m \u001b[0mmaybe_callable\u001b[0m\u001b[0;34m(\u001b[0m\u001b[0mobj\u001b[0m\u001b[0;34m,\u001b[0m \u001b[0;34m**\u001b[0m\u001b[0mkwargs\u001b[0m\u001b[0;34m)\u001b[0m\u001b[0;34m\u001b[0m\u001b[0;34m\u001b[0m\u001b[0m\n\u001b[1;32m    342\u001b[0m \u001b[0;34m\u001b[0m\u001b[0m\n",
            "\u001b[0;31mKeyboardInterrupt\u001b[0m: "
          ]
        }
      ]
    }
  ]
}