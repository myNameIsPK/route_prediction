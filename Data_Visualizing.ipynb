{
 "cells": [
  {
   "cell_type": "code",
   "execution_count": 12,
   "metadata": {},
   "outputs": [
    {
     "data": {
      "text/plain": [
       "0        HipHop\n",
       "1        HipHop\n",
       "2        HipHop\n",
       "3          Jazz\n",
       "4          Jazz\n",
       "5          Jazz\n",
       "6     Classical\n",
       "7     Classical\n",
       "8     Classical\n",
       "9         Dance\n",
       "10        Dance\n",
       "11        Dance\n",
       "12     Acoustic\n",
       "13     Acoustic\n",
       "14     Acoustic\n",
       "15    Classical\n",
       "16    Classical\n",
       "17    Classical\n",
       "Name: genre, dtype: object"
      ]
     },
     "execution_count": 12,
     "metadata": {},
     "output_type": "execute_result"
    }
   ],
   "source": [
    "import pandas as pd\n",
    "from sklearn.tree import DecisionTreeClassifier\n",
    "from sklean import tree\n",
    "\n",
    "music_data = pd.read_csv('music.csv')\n",
    "x = music_data.drop(columns=['genre'])\n",
    "y = music_data['genre']\n",
    "\n",
    "Model = DecisionTreeClassifier()\n",
    "Model.fit(x,y)\n",
    "\n",
    "tree.export_graphviz()\n"
   ]
  },
  {
   "cell_type": "code",
   "execution_count": null,
   "metadata": {},
   "outputs": [],
   "source": []
  }
 ],
 "metadata": {
  "kernelspec": {
   "display_name": "Python 3",
   "language": "python",
   "name": "python3"
  },
  "language_info": {
   "codemirror_mode": {
    "name": "ipython",
    "version": 3
   },
   "file_extension": ".py",
   "mimetype": "text/x-python",
   "name": "python",
   "nbconvert_exporter": "python",
   "pygments_lexer": "ipython3",
   "version": "3.7.3"
  }
 },
 "nbformat": 4,
 "nbformat_minor": 2
}
