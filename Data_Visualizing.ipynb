{
 "cells": [
  {
   "cell_type": "code",
   "execution_count": null,
   "source": [
    "import pandas as pd\r\n",
    "from sklearn.tree import DecisionTreeClassifier\r\n",
    "from sklean import tree\r\n",
    "\r\n",
    "music_data = pd.read_csv('music.csv')\r\n",
    "x = music_data.drop(columns=['genre'])\r\n",
    "y = music_data['genre']\r\n",
    "\r\n",
    "Model = DecisionTreeClassifier()\r\n",
    "Model.fit(x,y)\r\n",
    "\r\n",
    "tree.export_graphviz(ldskajflsad)\r\n"
   ],
   "outputs": [],
   "metadata": {}
  },
  {
   "cell_type": "code",
   "execution_count": null,
   "source": [
    "lksdfjlkasdfjaklsdf"
   ],
   "outputs": [],
   "metadata": {}
  }
 ],
 "metadata": {
  "kernelspec": {
   "display_name": "Python 3",
   "language": "python",
   "name": "python3"
  },
  "language_info": {
   "codemirror_mode": {
    "name": "ipython",
    "version": 3
   },
   "file_extension": ".py",
   "mimetype": "text/x-python",
   "name": "python",
   "nbconvert_exporter": "python",
   "pygments_lexer": "ipython3",
   "version": "3.7.3"
  }
 },
 "nbformat": 4,
 "nbformat_minor": 2
}